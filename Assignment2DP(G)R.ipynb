{
  "cells": [
    {
      "cell_type": "markdown",
      "metadata": {
        "id": "view-in-github"
      },
      "source": [
        "<a href=\"https://colab.research.google.com/github/DomMcOyle/NLP-Assigments-22-23/blob/Assignment-2/Assignment2DP(G)R.ipynb\" target=\"_parent\"><img src=\"https://colab.research.google.com/assets/colab-badge.svg\" alt=\"Open In Colab\"/></a>"
      ],
      "id": "view-in-github"
    },
    {
      "cell_type": "markdown",
      "id": "d1d23b6c",
      "metadata": {
        "id": "d1d23b6c"
      },
      "source": [
        "# Assignment 2\n",
        "\n",
        "**Credits**: Andrea Galassi, Federico Ruggeri, Paolo Torroni\n",
        "\n",
        "**Keywords**: Transformers, Question Answering, CoQA"
      ]
    },
    {
      "cell_type": "markdown",
      "id": "bd3f451b",
      "metadata": {
        "id": "bd3f451b"
      },
      "source": [
        "## Deadlines\n",
        "\n",
        "* **December 11**, 2022: deadline for having assignments graded by January 11, 2023\n",
        "* **January 11**, 2023: deadline for half-point speed bonus per assignment\n",
        "* **After January 11**, 2023: assignments are still accepted, but there will be no speed bonus"
      ]
    },
    {
      "cell_type": "markdown",
      "id": "11ada8c8",
      "metadata": {
        "id": "11ada8c8"
      },
      "source": [
        "## Overview"
      ]
    },
    {
      "cell_type": "markdown",
      "id": "47c07553",
      "metadata": {
        "id": "47c07553"
      },
      "source": [
        "### Problem\n",
        "\n",
        "Question Answering (QA) on [CoQA](https://stanfordnlp.github.io/coqa/) dataset: a conversational QA dataset."
      ]
    },
    {
      "cell_type": "markdown",
      "id": "b4907f8d",
      "metadata": {
        "id": "b4907f8d"
      },
      "source": [
        "### Task\n",
        "\n",
        "Given a question $Q$, a text passage $P$, the task is to generate the answer $A$.<br>\n",
        "$\\rightarrow A$ can be: (i) a free-form text or (ii) unanswerable;\n",
        "\n",
        "**Note**: a question $Q$ can refer to previous dialogue turns. <br>\n",
        "$\\rightarrow$ dialogue history $H$ may be a valuable input to provide the correct answer $A$."
      ]
    },
    {
      "cell_type": "markdown",
      "id": "9b3760b5",
      "metadata": {
        "id": "9b3760b5"
      },
      "source": [
        "### Models\n",
        "\n",
        "We are going to experiment with transformer-based models to define the following models:\n",
        "\n",
        "1.  $A = f_\\theta(Q, P)$\n",
        "\n",
        "2. $A = f_\\theta(Q, P, H)$\n",
        "\n",
        "where $f_\\theta$ is the transformer-based model we have to define with $\\theta$ parameters."
      ]
    },
    {
      "cell_type": "markdown",
      "id": "66cfee64",
      "metadata": {
        "id": "66cfee64"
      },
      "source": [
        "## The CoQA dataset"
      ]
    },
    {
      "cell_type": "markdown",
      "id": "996fa650",
      "metadata": {
        "id": "996fa650"
      },
      "source": [
        "<center>\n",
        "    <img src=\"https://drive.google.com/uc?export=view&id=16vrgyfoV42Z2AQX0QY7LHTfrgektEKKh\" width=\"750\"/>\n",
        "</center>"
      ]
    },
    {
      "cell_type": "markdown",
      "id": "f6e3e7d0",
      "metadata": {
        "id": "f6e3e7d0"
      },
      "source": [
        "For detailed information about the dataset, feel free to check the original [paper](https://arxiv.org/pdf/1808.07042.pdf).\n",
        "\n"
      ]
    },
    {
      "cell_type": "markdown",
      "id": "bfb6c37e",
      "metadata": {
        "id": "bfb6c37e"
      },
      "source": [
        "## Rationales\n",
        "\n",
        "Each QA pair is paired with a rationale $R$: it is a text span extracted from the given text passage $P$. <br>\n",
        "$\\rightarrow$ $R$ is not a requested output, but it can be used as an additional information at training time!"
      ]
    },
    {
      "cell_type": "markdown",
      "id": "daa786e2",
      "metadata": {
        "id": "daa786e2"
      },
      "source": [
        "## Dataset Statistics\n",
        "\n",
        "* **127k** QA pairs.\n",
        "* **8k** conversations.\n",
        "* **7** diverse domains: Children's Stories, Literature, Mid/High School Exams, News, Wikipedia, Reddit, Science.\n",
        "* Average conversation length: **15 turns** (i.e., QA pairs).\n",
        "* Almost **half** of CoQA questions refer back to **conversational history**.\n",
        "* Only **train** and **validation** sets are available."
      ]
    },
    {
      "cell_type": "markdown",
      "id": "d26d68b7",
      "metadata": {
        "id": "d26d68b7"
      },
      "source": [
        "## Dataset snippet\n",
        "\n",
        "The dataset is stored in JSON format. Each dialogue is represented as follows:\n",
        "\n",
        "```\n",
        "{\n",
        "    \"source\": \"mctest\",\n",
        "    \"id\": \"3dr23u6we5exclen4th8uq9rb42tel\",\n",
        "    \"filename\": \"mc160.test.41\",\n",
        "    \"story\": \"Once upon a time, in a barn near a farm house, there lived a little white kitten named Cotton. \n",
        "    Cotton lived high up in a nice warm place above the barn where all of the farmer's horses slept. [...]\" % <-- $P$\n",
        "    \"questions\": [\n",
        "        {\n",
        "            \"input_text\": \"What color was Cotton?\",   % <-- $Q_1$\n",
        "            \"turn_id\": 1\n",
        "        },\n",
        "        {\n",
        "            \"input_text\": \"Where did she live?\",\n",
        "            \"turn_id\": 2\n",
        "        },\n",
        "        [...]\n",
        "    ],\n",
        "    \"answers\": [\n",
        "        {\n",
        "            \"span_start\": 59,   % <-- $R_1$ start index\n",
        "            \"spand_end\": 93,    % <-- $R_1$ end index\n",
        "            \"span_text\": \"a little white kitten named Cotton\",   % <-- $R_1$\n",
        "            \"input_text\" \"white\",   % <-- $A_1$      \n",
        "            \"turn_id\": 1\n",
        "        },\n",
        "        [...]\n",
        "    ]\n",
        "}\n",
        "```"
      ]
    },
    {
      "cell_type": "markdown",
      "id": "72c7558c",
      "metadata": {
        "id": "72c7558c"
      },
      "source": [
        "### Simplifications\n",
        "\n",
        "Each dialogue also contains an additional field ```additional_answers```. For simplicity, we **ignore** this field and only consider one groundtruth answer $A$ and text rationale $R$.\n",
        "\n",
        "CoQA only contains 1.3% of unanswerable questions. For simplicity, we **ignore** those QA pairs."
      ]
    },
    {
      "cell_type": "markdown",
      "id": "e01cdad7",
      "metadata": {
        "id": "e01cdad7"
      },
      "source": [
        "## [Task 1] Remove unaswerable QA pairs\n",
        "\n",
        "Write your own script to remove unaswerable QA pairs from both train and validation sets."
      ]
    },
    {
      "cell_type": "markdown",
      "id": "f6643e14",
      "metadata": {
        "id": "f6643e14"
      },
      "source": [
        "## Dataset Download\n"
      ]
    },
    {
      "cell_type": "code",
      "execution_count": 1,
      "id": "358bac70",
      "metadata": {
        "id": "358bac70"
      },
      "outputs": [],
      "source": [
        "import os\n",
        "import urllib.request\n",
        "from tqdm import tqdm\n",
        "\n",
        "class DownloadProgressBar(tqdm):\n",
        "    def update_to(self, b=1, bsize=1, tsize=None):\n",
        "        if tsize is not None:\n",
        "            self.total = tsize\n",
        "        self.update(b * bsize - self.n)\n",
        "        \n",
        "def download_url(url, output_path):\n",
        "    with DownloadProgressBar(unit='B', unit_scale=True,\n",
        "                             miniters=1, desc=url.split('/')[-1]) as t:\n",
        "        urllib.request.urlretrieve(url, filename=output_path, reporthook=t.update_to)\n",
        "\n",
        "def download_data(data_path, url_path, suffix):    \n",
        "    if not os.path.exists(data_path):\n",
        "        os.makedirs(data_path)\n",
        "        \n",
        "    data_path = os.path.join(data_path, f'{suffix}.json')\n",
        "\n",
        "    if not os.path.exists(data_path):\n",
        "        print(f\"Downloading CoQA {suffix} data split... (it may take a while)\")\n",
        "        download_url(url=url_path, output_path=data_path)\n",
        "        print(\"Download completed!\")"
      ]
    },
    {
      "cell_type": "code",
      "execution_count": 2,
      "id": "5f6ab3ff",
      "metadata": {
        "id": "5f6ab3ff",
        "colab": {
          "base_uri": "https://localhost:8080/"
        },
        "outputId": "59d4e31c-538a-46e1-b54c-9a74de044fa4"
      },
      "outputs": [
        {
          "output_type": "stream",
          "name": "stdout",
          "text": [
            "Downloading CoQA train data split... (it may take a while)\n"
          ]
        },
        {
          "output_type": "stream",
          "name": "stderr",
          "text": [
            "coqa-train-v1.0.json: 49.0MB [00:06, 8.05MB/s]                            \n"
          ]
        },
        {
          "output_type": "stream",
          "name": "stdout",
          "text": [
            "Download completed!\n",
            "Downloading CoQA test data split... (it may take a while)\n"
          ]
        },
        {
          "output_type": "stream",
          "name": "stderr",
          "text": [
            "coqa-dev-v1.0.json: 9.09MB [00:01, 6.97MB/s]                            "
          ]
        },
        {
          "output_type": "stream",
          "name": "stdout",
          "text": [
            "Download completed!\n"
          ]
        },
        {
          "output_type": "stream",
          "name": "stderr",
          "text": [
            "\n"
          ]
        }
      ],
      "source": [
        "# Train data\n",
        "train_url = \"https://nlp.stanford.edu/data/coqa/coqa-train-v1.0.json\"\n",
        "download_data(data_path='coqa', url_path=train_url, suffix='train')\n",
        "\n",
        "# Test data\n",
        "test_url = \"https://nlp.stanford.edu/data/coqa/coqa-dev-v1.0.json\"\n",
        "download_data(data_path='coqa', url_path=test_url, suffix='test')  # <-- Why test? See next slides for an answer!"
      ]
    },
    {
      "cell_type": "markdown",
      "id": "40e42311",
      "metadata": {
        "id": "40e42311"
      },
      "source": [
        "#### Data Inspection\n",
        "\n",
        "Spend some time in checking accurately the dataset format and how to retrieve the tasks' inputs and outputs!"
      ]
    },
    {
      "cell_type": "code",
      "source": [
        "import json\n",
        "import random\n",
        "import numpy as np\n",
        "from sklearn.model_selection import train_test_split\n",
        "import torch\n",
        "import tensorflow as tf\n",
        "\n",
        "\n",
        "def set_seed(SEED):\n",
        "  random.seed(SEED) # if you're using random\n",
        "  np.random.seed(SEED) # if you're using numpy\n",
        "  torch.manual_seed(SEED) # torch.cuda.manual_seed_all(SEED) is not required\n",
        "  torch.backends.cudnn.deterministic = True\n",
        "  torch.backends.cudnn.benchmark = False\n",
        "  tf.random.set_seed(SEED) # setting the seed for tensorflow too\n",
        "  os.environ['TF_DETERMINISTIC_OPS'] = '1'\n",
        "\n",
        "def extract_data(split_dataset):\n",
        "  \"\"\"\n",
        "  function extracting data from the list of dictionaries in the CoQA dataset\n",
        "  :params:\n",
        "    split_dataset: list of dictionaries from where to extract the pairs of question and passage and corresponding the answer\n",
        "  \"\"\"  \n",
        "  XQA = [] # list that will contain pairs (P,Q)\n",
        "  YQA = [] # list that will contain the Answers\n",
        "  for d in split_dataset: # scan each document\n",
        "    for i in range(len(d[\"questions\"])): # scan each question\n",
        "      if d[\"answers\"][i][\"span_end\"]!=-1: # discard unanswerable questions\n",
        "        single_example = [] # prepare the single example...\n",
        "        single_example.append(d[\"questions\"][i][\"input_text\"]) #... with the question ...\n",
        "        single_example.append(d[\"story\"]) # ...and the passage\n",
        "        XQA.append(single_example) # and append it\n",
        "        YQA.append(d[\"answers\"][i][\"input_text\"]) # add the answer\n",
        "  return XQA, YQA"
      ],
      "metadata": {
        "id": "h7_OLYpXkm56"
      },
      "id": "h7_OLYpXkm56",
      "execution_count": 6,
      "outputs": []
    },
    {
      "cell_type": "markdown",
      "id": "f57334e0",
      "metadata": {
        "id": "f57334e0"
      },
      "source": [
        "## [Task 2] Train, Validation and Test splits\n",
        "\n",
        "CoQA only provides a train and validation set since the test set is hidden for evaluation purposes.\n",
        "\n",
        "We'll consider the provided validation set as a test set. <br>\n",
        "$\\rightarrow$ Write your own script to:\n",
        "* Split the train data in train and validation splits (80% train and 20% val)\n",
        "* Perform splits such that a dialogue appears in one split only! (i.e., split at dialogue level)\n",
        "* Perform splitting using the following seed for reproducibility: 42\n",
        "\n",
        "#### Reproducibility Memo\n",
        "\n",
        "Check back tutorial 2 on how to fix a specific random seed for reproducibility!"
      ]
    },
    {
      "cell_type": "code",
      "source": [
        "seed = 42 \n",
        "set_seed(seed)\n",
        "\n",
        "with open('coqa/train.json') as f:\n",
        "  # loading the training json\n",
        "  train_json = json.load(f)\n",
        "\n",
        "with open('coqa/test.json') as f:\n",
        "  # loading the test json\n",
        "  test_json = json.load(f)\n",
        "\n",
        "# splitting training data\n",
        "train_data, val_data = train_test_split(train_json[\"data\"],\n",
        "                                        train_size=0.8,\n",
        "                                        shuffle=True,\n",
        "                                        random_state=seed)\n",
        "# extracting X as list of pairs [Passage,Question] and Y as a list of strings (Answers) \n",
        "XQA_train, YQA_train = extract_data(train_data)\n",
        "XQA_val, YQA_val = extract_data(val_data)\n",
        "XQA_test, YQA_test = extract_data(test_json[\"data\"])\n",
        "del(train_json)\n",
        "del(test_json)\n",
        "\n",
        "print(\"First training example:\")\n",
        "print(XQA_train[0:17])\n",
        "print(YQA_train[0:17])\n",
        "print(\"First validation example:\")\n",
        "print(XQA_val[0])\n",
        "print(YQA_val[0])\n",
        "print(\"First test example:\")\n",
        "print(XQA_test[0])\n",
        "print(YQA_test[0])"
      ],
      "metadata": {
        "id": "0s8Ux69Fq1j-",
        "outputId": "0b1cd6a2-2132-45e1-bd5d-c83d5c8488cb",
        "colab": {
          "base_uri": "https://localhost:8080/"
        }
      },
      "id": "0s8Ux69Fq1j-",
      "execution_count": 7,
      "outputs": [
        {
          "output_type": "stream",
          "name": "stdout",
          "text": [
            "First training example:\n",
            "[['Where is this taking place?', 'TUNIS, Tunisia (CNN) -- Polls closed late Sunday in Tunisia, the torchbearer of the so-called Arab Spring, but voters will not see results of national elections until Tuesday, officials said. \\n\\nOn Sunday, long lines of voters snaked around schools-turned-polling-stations in Tunis\\'s upscale Menzah neighborhood, some waiting for hours to cast a vote in the nation\\'s first national elections since the country\\'s independence in 1956. \\n\\n\"It\\'s a wonderful day. It\\'s the first time we can choose our own representatives,\" said Walid Marrakchi, a civil engineer who waited more than two hours, and who brought along his 3-year-old son Ahmed so he could \"get used to freedom and democracy.\" \\n\\nTunisia\\'s election is the first since a popular uprising in January overthrew long-time dictator Zine El Abidine Ben Ali and triggered a wave of revolutions -- referred to as the Arab Spring -- across the region. \\n\\nMore than 60 political parties and thousands of independent candidates competed for 218 seats in a new Constitutional Assembly, which will be charged with writing a new constitution and laying the framework for a government system. \\n\\nVoters appeared jubilant on Sunday, taking photos of each other outside polling stations, some holding Tunisian flags. \\n\\n\"It\\'s a holiday,\" said housewife Maha Haubi, who had just taken her position at the end of the long line of more than 1,000 voters waiting outside an elementary school in Menzah. \\n\\n\"Before we never even had the right to say \\'yes\\' or \\'no.\\'\" \\n\\nNearby, banker Aid Naghmaichi said she didn\\'t mind the long wait to vote. '], ['What is being voted on?', 'TUNIS, Tunisia (CNN) -- Polls closed late Sunday in Tunisia, the torchbearer of the so-called Arab Spring, but voters will not see results of national elections until Tuesday, officials said. \\n\\nOn Sunday, long lines of voters snaked around schools-turned-polling-stations in Tunis\\'s upscale Menzah neighborhood, some waiting for hours to cast a vote in the nation\\'s first national elections since the country\\'s independence in 1956. \\n\\n\"It\\'s a wonderful day. It\\'s the first time we can choose our own representatives,\" said Walid Marrakchi, a civil engineer who waited more than two hours, and who brought along his 3-year-old son Ahmed so he could \"get used to freedom and democracy.\" \\n\\nTunisia\\'s election is the first since a popular uprising in January overthrew long-time dictator Zine El Abidine Ben Ali and triggered a wave of revolutions -- referred to as the Arab Spring -- across the region. \\n\\nMore than 60 political parties and thousands of independent candidates competed for 218 seats in a new Constitutional Assembly, which will be charged with writing a new constitution and laying the framework for a government system. \\n\\nVoters appeared jubilant on Sunday, taking photos of each other outside polling stations, some holding Tunisian flags. \\n\\n\"It\\'s a holiday,\" said housewife Maha Haubi, who had just taken her position at the end of the long line of more than 1,000 voters waiting outside an elementary school in Menzah. \\n\\n\"Before we never even had the right to say \\'yes\\' or \\'no.\\'\" \\n\\nNearby, banker Aid Naghmaichi said she didn\\'t mind the long wait to vote. '], ['What day of the week did they vote?', 'TUNIS, Tunisia (CNN) -- Polls closed late Sunday in Tunisia, the torchbearer of the so-called Arab Spring, but voters will not see results of national elections until Tuesday, officials said. \\n\\nOn Sunday, long lines of voters snaked around schools-turned-polling-stations in Tunis\\'s upscale Menzah neighborhood, some waiting for hours to cast a vote in the nation\\'s first national elections since the country\\'s independence in 1956. \\n\\n\"It\\'s a wonderful day. It\\'s the first time we can choose our own representatives,\" said Walid Marrakchi, a civil engineer who waited more than two hours, and who brought along his 3-year-old son Ahmed so he could \"get used to freedom and democracy.\" \\n\\nTunisia\\'s election is the first since a popular uprising in January overthrew long-time dictator Zine El Abidine Ben Ali and triggered a wave of revolutions -- referred to as the Arab Spring -- across the region. \\n\\nMore than 60 political parties and thousands of independent candidates competed for 218 seats in a new Constitutional Assembly, which will be charged with writing a new constitution and laying the framework for a government system. \\n\\nVoters appeared jubilant on Sunday, taking photos of each other outside polling stations, some holding Tunisian flags. \\n\\n\"It\\'s a holiday,\" said housewife Maha Haubi, who had just taken her position at the end of the long line of more than 1,000 voters waiting outside an elementary school in Menzah. \\n\\n\"Before we never even had the right to say \\'yes\\' or \\'no.\\'\" \\n\\nNearby, banker Aid Naghmaichi said she didn\\'t mind the long wait to vote. '], ['When was the last one held?', 'TUNIS, Tunisia (CNN) -- Polls closed late Sunday in Tunisia, the torchbearer of the so-called Arab Spring, but voters will not see results of national elections until Tuesday, officials said. \\n\\nOn Sunday, long lines of voters snaked around schools-turned-polling-stations in Tunis\\'s upscale Menzah neighborhood, some waiting for hours to cast a vote in the nation\\'s first national elections since the country\\'s independence in 1956. \\n\\n\"It\\'s a wonderful day. It\\'s the first time we can choose our own representatives,\" said Walid Marrakchi, a civil engineer who waited more than two hours, and who brought along his 3-year-old son Ahmed so he could \"get used to freedom and democracy.\" \\n\\nTunisia\\'s election is the first since a popular uprising in January overthrew long-time dictator Zine El Abidine Ben Ali and triggered a wave of revolutions -- referred to as the Arab Spring -- across the region. \\n\\nMore than 60 political parties and thousands of independent candidates competed for 218 seats in a new Constitutional Assembly, which will be charged with writing a new constitution and laying the framework for a government system. \\n\\nVoters appeared jubilant on Sunday, taking photos of each other outside polling stations, some holding Tunisian flags. \\n\\n\"It\\'s a holiday,\" said housewife Maha Haubi, who had just taken her position at the end of the long line of more than 1,000 voters waiting outside an elementary school in Menzah. \\n\\n\"Before we never even had the right to say \\'yes\\' or \\'no.\\'\" \\n\\nNearby, banker Aid Naghmaichi said she didn\\'t mind the long wait to vote. '], ['What else happened then?', 'TUNIS, Tunisia (CNN) -- Polls closed late Sunday in Tunisia, the torchbearer of the so-called Arab Spring, but voters will not see results of national elections until Tuesday, officials said. \\n\\nOn Sunday, long lines of voters snaked around schools-turned-polling-stations in Tunis\\'s upscale Menzah neighborhood, some waiting for hours to cast a vote in the nation\\'s first national elections since the country\\'s independence in 1956. \\n\\n\"It\\'s a wonderful day. It\\'s the first time we can choose our own representatives,\" said Walid Marrakchi, a civil engineer who waited more than two hours, and who brought along his 3-year-old son Ahmed so he could \"get used to freedom and democracy.\" \\n\\nTunisia\\'s election is the first since a popular uprising in January overthrew long-time dictator Zine El Abidine Ben Ali and triggered a wave of revolutions -- referred to as the Arab Spring -- across the region. \\n\\nMore than 60 political parties and thousands of independent candidates competed for 218 seats in a new Constitutional Assembly, which will be charged with writing a new constitution and laying the framework for a government system. \\n\\nVoters appeared jubilant on Sunday, taking photos of each other outside polling stations, some holding Tunisian flags. \\n\\n\"It\\'s a holiday,\" said housewife Maha Haubi, who had just taken her position at the end of the long line of more than 1,000 voters waiting outside an elementary school in Menzah. \\n\\n\"Before we never even had the right to say \\'yes\\' or \\'no.\\'\" \\n\\nNearby, banker Aid Naghmaichi said she didn\\'t mind the long wait to vote. '], ['Where are people voting?', 'TUNIS, Tunisia (CNN) -- Polls closed late Sunday in Tunisia, the torchbearer of the so-called Arab Spring, but voters will not see results of national elections until Tuesday, officials said. \\n\\nOn Sunday, long lines of voters snaked around schools-turned-polling-stations in Tunis\\'s upscale Menzah neighborhood, some waiting for hours to cast a vote in the nation\\'s first national elections since the country\\'s independence in 1956. \\n\\n\"It\\'s a wonderful day. It\\'s the first time we can choose our own representatives,\" said Walid Marrakchi, a civil engineer who waited more than two hours, and who brought along his 3-year-old son Ahmed so he could \"get used to freedom and democracy.\" \\n\\nTunisia\\'s election is the first since a popular uprising in January overthrew long-time dictator Zine El Abidine Ben Ali and triggered a wave of revolutions -- referred to as the Arab Spring -- across the region. \\n\\nMore than 60 political parties and thousands of independent candidates competed for 218 seats in a new Constitutional Assembly, which will be charged with writing a new constitution and laying the framework for a government system. \\n\\nVoters appeared jubilant on Sunday, taking photos of each other outside polling stations, some holding Tunisian flags. \\n\\n\"It\\'s a holiday,\" said housewife Maha Haubi, who had just taken her position at the end of the long line of more than 1,000 voters waiting outside an elementary school in Menzah. \\n\\n\"Before we never even had the right to say \\'yes\\' or \\'no.\\'\" \\n\\nNearby, banker Aid Naghmaichi said she didn\\'t mind the long wait to vote. '], ['What is something they turned into a place to vote?', 'TUNIS, Tunisia (CNN) -- Polls closed late Sunday in Tunisia, the torchbearer of the so-called Arab Spring, but voters will not see results of national elections until Tuesday, officials said. \\n\\nOn Sunday, long lines of voters snaked around schools-turned-polling-stations in Tunis\\'s upscale Menzah neighborhood, some waiting for hours to cast a vote in the nation\\'s first national elections since the country\\'s independence in 1956. \\n\\n\"It\\'s a wonderful day. It\\'s the first time we can choose our own representatives,\" said Walid Marrakchi, a civil engineer who waited more than two hours, and who brought along his 3-year-old son Ahmed so he could \"get used to freedom and democracy.\" \\n\\nTunisia\\'s election is the first since a popular uprising in January overthrew long-time dictator Zine El Abidine Ben Ali and triggered a wave of revolutions -- referred to as the Arab Spring -- across the region. \\n\\nMore than 60 political parties and thousands of independent candidates competed for 218 seats in a new Constitutional Assembly, which will be charged with writing a new constitution and laying the framework for a government system. \\n\\nVoters appeared jubilant on Sunday, taking photos of each other outside polling stations, some holding Tunisian flags. \\n\\n\"It\\'s a holiday,\" said housewife Maha Haubi, who had just taken her position at the end of the long line of more than 1,000 voters waiting outside an elementary school in Menzah. \\n\\n\"Before we never even had the right to say \\'yes\\' or \\'no.\\'\" \\n\\nNearby, banker Aid Naghmaichi said she didn\\'t mind the long wait to vote. '], ['Did anyone have to wait?', 'TUNIS, Tunisia (CNN) -- Polls closed late Sunday in Tunisia, the torchbearer of the so-called Arab Spring, but voters will not see results of national elections until Tuesday, officials said. \\n\\nOn Sunday, long lines of voters snaked around schools-turned-polling-stations in Tunis\\'s upscale Menzah neighborhood, some waiting for hours to cast a vote in the nation\\'s first national elections since the country\\'s independence in 1956. \\n\\n\"It\\'s a wonderful day. It\\'s the first time we can choose our own representatives,\" said Walid Marrakchi, a civil engineer who waited more than two hours, and who brought along his 3-year-old son Ahmed so he could \"get used to freedom and democracy.\" \\n\\nTunisia\\'s election is the first since a popular uprising in January overthrew long-time dictator Zine El Abidine Ben Ali and triggered a wave of revolutions -- referred to as the Arab Spring -- across the region. \\n\\nMore than 60 political parties and thousands of independent candidates competed for 218 seats in a new Constitutional Assembly, which will be charged with writing a new constitution and laying the framework for a government system. \\n\\nVoters appeared jubilant on Sunday, taking photos of each other outside polling stations, some holding Tunisian flags. \\n\\n\"It\\'s a holiday,\" said housewife Maha Haubi, who had just taken her position at the end of the long line of more than 1,000 voters waiting outside an elementary school in Menzah. \\n\\n\"Before we never even had the right to say \\'yes\\' or \\'no.\\'\" \\n\\nNearby, banker Aid Naghmaichi said she didn\\'t mind the long wait to vote. '], ['Who speaks about this?', 'TUNIS, Tunisia (CNN) -- Polls closed late Sunday in Tunisia, the torchbearer of the so-called Arab Spring, but voters will not see results of national elections until Tuesday, officials said. \\n\\nOn Sunday, long lines of voters snaked around schools-turned-polling-stations in Tunis\\'s upscale Menzah neighborhood, some waiting for hours to cast a vote in the nation\\'s first national elections since the country\\'s independence in 1956. \\n\\n\"It\\'s a wonderful day. It\\'s the first time we can choose our own representatives,\" said Walid Marrakchi, a civil engineer who waited more than two hours, and who brought along his 3-year-old son Ahmed so he could \"get used to freedom and democracy.\" \\n\\nTunisia\\'s election is the first since a popular uprising in January overthrew long-time dictator Zine El Abidine Ben Ali and triggered a wave of revolutions -- referred to as the Arab Spring -- across the region. \\n\\nMore than 60 political parties and thousands of independent candidates competed for 218 seats in a new Constitutional Assembly, which will be charged with writing a new constitution and laying the framework for a government system. \\n\\nVoters appeared jubilant on Sunday, taking photos of each other outside polling stations, some holding Tunisian flags. \\n\\n\"It\\'s a holiday,\" said housewife Maha Haubi, who had just taken her position at the end of the long line of more than 1,000 voters waiting outside an elementary school in Menzah. \\n\\n\"Before we never even had the right to say \\'yes\\' or \\'no.\\'\" \\n\\nNearby, banker Aid Naghmaichi said she didn\\'t mind the long wait to vote. '], ['Did Millicent have a sibling?', \"CHAPTER XXIX \\n\\nA BOLD SCHEME \\n\\nThe sense of security which Millicent experienced on announcing her engagement was not permanent and in a few days the doubts that had troubled her crept back into her mind. She had never entertained any marked illusions about Clarence and although, now that she was irrevocably pledged to him, she endeavored to fix her thoughts on his most likable qualities, even these appeared in a less favorable light than they had formerly done. The growth of the warmer attachment she had expected to feel was strangely slow, and though it was early to indulge in regrets her heart sometimes grew heavy as she looked forward to the future. Clarence was considerate, attentive and deferential in a polished way, but he lacked something one looked for in a lover. Besides, she was anxious about him; he looked worn, his manner suggested that he was bearing a strain, but this was in his favor, for it roused her compassion. She fancied that the cause of it was financial, and this in a sense was encouraging, because this was a trouble from which she could purchase him immunity. \\n\\nIn the meanwhile she was stirred by mournful memories as she followed the last stages of her brother's journey and visited the lonely spot where he had met his end. Somehow the thought of him encouraged her--George had quietly done his duty, regardless of the cost, and even if her burden proved heavy, which it was premature to admit, she must bear it cheerfully. \"], ['What was his name?', \"CHAPTER XXIX \\n\\nA BOLD SCHEME \\n\\nThe sense of security which Millicent experienced on announcing her engagement was not permanent and in a few days the doubts that had troubled her crept back into her mind. She had never entertained any marked illusions about Clarence and although, now that she was irrevocably pledged to him, she endeavored to fix her thoughts on his most likable qualities, even these appeared in a less favorable light than they had formerly done. The growth of the warmer attachment she had expected to feel was strangely slow, and though it was early to indulge in regrets her heart sometimes grew heavy as she looked forward to the future. Clarence was considerate, attentive and deferential in a polished way, but he lacked something one looked for in a lover. Besides, she was anxious about him; he looked worn, his manner suggested that he was bearing a strain, but this was in his favor, for it roused her compassion. She fancied that the cause of it was financial, and this in a sense was encouraging, because this was a trouble from which she could purchase him immunity. \\n\\nIn the meanwhile she was stirred by mournful memories as she followed the last stages of her brother's journey and visited the lonely spot where he had met his end. Somehow the thought of him encouraged her--George had quietly done his duty, regardless of the cost, and even if her burden proved heavy, which it was premature to admit, she must bear it cheerfully. \"], ['Is he still alive?', \"CHAPTER XXIX \\n\\nA BOLD SCHEME \\n\\nThe sense of security which Millicent experienced on announcing her engagement was not permanent and in a few days the doubts that had troubled her crept back into her mind. She had never entertained any marked illusions about Clarence and although, now that she was irrevocably pledged to him, she endeavored to fix her thoughts on his most likable qualities, even these appeared in a less favorable light than they had formerly done. The growth of the warmer attachment she had expected to feel was strangely slow, and though it was early to indulge in regrets her heart sometimes grew heavy as she looked forward to the future. Clarence was considerate, attentive and deferential in a polished way, but he lacked something one looked for in a lover. Besides, she was anxious about him; he looked worn, his manner suggested that he was bearing a strain, but this was in his favor, for it roused her compassion. She fancied that the cause of it was financial, and this in a sense was encouraging, because this was a trouble from which she could purchase him immunity. \\n\\nIn the meanwhile she was stirred by mournful memories as she followed the last stages of her brother's journey and visited the lonely spot where he had met his end. Somehow the thought of him encouraged her--George had quietly done his duty, regardless of the cost, and even if her burden proved heavy, which it was premature to admit, she must bear it cheerfully. \"], ['Is she planning to get married?', \"CHAPTER XXIX \\n\\nA BOLD SCHEME \\n\\nThe sense of security which Millicent experienced on announcing her engagement was not permanent and in a few days the doubts that had troubled her crept back into her mind. She had never entertained any marked illusions about Clarence and although, now that she was irrevocably pledged to him, she endeavored to fix her thoughts on his most likable qualities, even these appeared in a less favorable light than they had formerly done. The growth of the warmer attachment she had expected to feel was strangely slow, and though it was early to indulge in regrets her heart sometimes grew heavy as she looked forward to the future. Clarence was considerate, attentive and deferential in a polished way, but he lacked something one looked for in a lover. Besides, she was anxious about him; he looked worn, his manner suggested that he was bearing a strain, but this was in his favor, for it roused her compassion. She fancied that the cause of it was financial, and this in a sense was encouraging, because this was a trouble from which she could purchase him immunity. \\n\\nIn the meanwhile she was stirred by mournful memories as she followed the last stages of her brother's journey and visited the lonely spot where he had met his end. Somehow the thought of him encouraged her--George had quietly done his duty, regardless of the cost, and even if her burden proved heavy, which it was premature to admit, she must bear it cheerfully. \"], ['To who?', \"CHAPTER XXIX \\n\\nA BOLD SCHEME \\n\\nThe sense of security which Millicent experienced on announcing her engagement was not permanent and in a few days the doubts that had troubled her crept back into her mind. She had never entertained any marked illusions about Clarence and although, now that she was irrevocably pledged to him, she endeavored to fix her thoughts on his most likable qualities, even these appeared in a less favorable light than they had formerly done. The growth of the warmer attachment she had expected to feel was strangely slow, and though it was early to indulge in regrets her heart sometimes grew heavy as she looked forward to the future. Clarence was considerate, attentive and deferential in a polished way, but he lacked something one looked for in a lover. Besides, she was anxious about him; he looked worn, his manner suggested that he was bearing a strain, but this was in his favor, for it roused her compassion. She fancied that the cause of it was financial, and this in a sense was encouraging, because this was a trouble from which she could purchase him immunity. \\n\\nIn the meanwhile she was stirred by mournful memories as she followed the last stages of her brother's journey and visited the lonely spot where he had met his end. Somehow the thought of him encouraged her--George had quietly done his duty, regardless of the cost, and even if her burden proved heavy, which it was premature to admit, she must bear it cheerfully. \"], ['Do other people know about this?', \"CHAPTER XXIX \\n\\nA BOLD SCHEME \\n\\nThe sense of security which Millicent experienced on announcing her engagement was not permanent and in a few days the doubts that had troubled her crept back into her mind. She had never entertained any marked illusions about Clarence and although, now that she was irrevocably pledged to him, she endeavored to fix her thoughts on his most likable qualities, even these appeared in a less favorable light than they had formerly done. The growth of the warmer attachment she had expected to feel was strangely slow, and though it was early to indulge in regrets her heart sometimes grew heavy as she looked forward to the future. Clarence was considerate, attentive and deferential in a polished way, but he lacked something one looked for in a lover. Besides, she was anxious about him; he looked worn, his manner suggested that he was bearing a strain, but this was in his favor, for it roused her compassion. She fancied that the cause of it was financial, and this in a sense was encouraging, because this was a trouble from which she could purchase him immunity. \\n\\nIn the meanwhile she was stirred by mournful memories as she followed the last stages of her brother's journey and visited the lonely spot where he had met his end. Somehow the thought of him encouraged her--George had quietly done his duty, regardless of the cost, and even if her burden proved heavy, which it was premature to admit, she must bear it cheerfully. \"], ['Is she having cold feet?', \"CHAPTER XXIX \\n\\nA BOLD SCHEME \\n\\nThe sense of security which Millicent experienced on announcing her engagement was not permanent and in a few days the doubts that had troubled her crept back into her mind. She had never entertained any marked illusions about Clarence and although, now that she was irrevocably pledged to him, she endeavored to fix her thoughts on his most likable qualities, even these appeared in a less favorable light than they had formerly done. The growth of the warmer attachment she had expected to feel was strangely slow, and though it was early to indulge in regrets her heart sometimes grew heavy as she looked forward to the future. Clarence was considerate, attentive and deferential in a polished way, but he lacked something one looked for in a lover. Besides, she was anxious about him; he looked worn, his manner suggested that he was bearing a strain, but this was in his favor, for it roused her compassion. She fancied that the cause of it was financial, and this in a sense was encouraging, because this was a trouble from which she could purchase him immunity. \\n\\nIn the meanwhile she was stirred by mournful memories as she followed the last stages of her brother's journey and visited the lonely spot where he had met his end. Somehow the thought of him encouraged her--George had quietly done his duty, regardless of the cost, and even if her burden proved heavy, which it was premature to admit, she must bear it cheerfully. \"], ['Is Clarence an inconsiderate guy?', \"CHAPTER XXIX \\n\\nA BOLD SCHEME \\n\\nThe sense of security which Millicent experienced on announcing her engagement was not permanent and in a few days the doubts that had troubled her crept back into her mind. She had never entertained any marked illusions about Clarence and although, now that she was irrevocably pledged to him, she endeavored to fix her thoughts on his most likable qualities, even these appeared in a less favorable light than they had formerly done. The growth of the warmer attachment she had expected to feel was strangely slow, and though it was early to indulge in regrets her heart sometimes grew heavy as she looked forward to the future. Clarence was considerate, attentive and deferential in a polished way, but he lacked something one looked for in a lover. Besides, she was anxious about him; he looked worn, his manner suggested that he was bearing a strain, but this was in his favor, for it roused her compassion. She fancied that the cause of it was financial, and this in a sense was encouraging, because this was a trouble from which she could purchase him immunity. \\n\\nIn the meanwhile she was stirred by mournful memories as she followed the last stages of her brother's journey and visited the lonely spot where he had met his end. Somehow the thought of him encouraged her--George had quietly done his duty, regardless of the cost, and even if her burden proved heavy, which it was premature to admit, she must bear it cheerfully. \"]]\n",
            "['Tunisia', 'Representatives  are being chosen', 'Sunday', '1956', 'Country gained its independence', 'Menzah neighborhood', 'Schools', 'Yes', 'Cnn', 'yes', 'George', 'no', 'yes', 'Clarence', 'no', 'yes', 'no']\n",
            "First validation example:\n",
            "['Who was playing in the game?', \"(CNN) -- Andy Carroll scored twice, his first goals for Liverpool, to help his club comfortably defeat Manchester City 3-0 in Monday's Premier League encounter at Anfield. \\n\\nCity, who needed a victory to move above Chelsea into third place in the table, were blown away by a devastating first half performance from Liverpool, who have consolidated sixth position with this result. \\n\\nLiverpool began brightly and nearly took a seventh-minute lead when Luis Suarez's fine strike was tipped onto the post by City's England goalkeeper Joe Hart. \\n\\nBut the visiting defense was struggling to cope with Liverpool's wave of attacks and the hosts took a deserved lead six minutes later when Carroll's superbly struck left-footed strike, from just outside the area, swerved past Hart for his first goal since joining the club for a British record transfer fee in January. \\n\\nLiverpool doubled their lead in the 34th minute when City failed to clear a succession of crosses and blocked shots, the ball eventually falling to the feet of Dirk Kuyt who fired through the legs of defender Alexander Kolarov and past Hart. \\n\\nLiverpool made it 3-0 a minute later when Raul Meireles curled in an inviting cross from the left for Carroll to outjump Kolarov and help the ball into the far corner of the net. \\n\\nLiverpool had chances to increase their lead after the break but Hart did well to keep out efforts from Meireles and Kuyt, while Suarez fired wide from an acute angle and Carroll headed over the crossbar from a good position. \"]\n",
            "the team from Liverpool\n",
            "First test example:\n",
            "['What color was Cotton?', 'Once upon a time, in a barn near a farm house, there lived a little white kitten named Cotton. Cotton lived high up in a nice warm place above the barn where all of the farmer\\'s horses slept. But Cotton wasn\\'t alone in her little home above the barn, oh no. She shared her hay bed with her mommy and 5 other sisters. All of her sisters were cute and fluffy, like Cotton. But she was the only white one in the bunch. The rest of her sisters were all orange with beautiful white tiger stripes like Cotton\\'s mommy. Being different made Cotton quite sad. She often wished she looked like the rest of her family. So one day, when Cotton found a can of the old farmer\\'s orange paint, she used it to paint herself like them. When her mommy and sisters found her they started laughing. \\n\\n\"What are you doing, Cotton?!\" \\n\\n\"I only wanted to be more like you\". \\n\\nCotton\\'s mommy rubbed her face on Cotton\\'s and said \"Oh Cotton, but your fur is so pretty and special, like you. We would never want you to be any other way\". And with that, Cotton\\'s mommy picked her up and dropped her into a big bucket of water. When Cotton came out she was herself again. Her sisters licked her face until Cotton\\'s fur was all all dry. \\n\\n\"Don\\'t ever do that again, Cotton!\" they all cried. \"Next time you might mess up that pretty white fur of yours and we wouldn\\'t want that!\" \\n\\nThen Cotton thought, \"I change my mind. I like being special\".']\n",
            "white\n"
          ]
        }
      ]
    },
    {
      "cell_type": "markdown",
      "id": "230a21de",
      "metadata": {
        "id": "230a21de"
      },
      "source": [
        "## [Task 3] Model definition\n",
        "\n",
        "Write your own script to define the following transformer-based models from [huggingface](https://HuggingFace.co/).\n",
        "\n",
        "* [M1] DistilRoBERTa (distilberta-base)\n",
        "* [M2] BERTTiny (bert-tiny)\n",
        "\n",
        "**Note**: Remember to install the ```transformers``` python package!\n",
        "\n",
        "**Note**: We consider small transformer models for computational reasons!"
      ]
    },
    {
      "cell_type": "code",
      "source": [
        "!pip install transformers"
      ],
      "metadata": {
        "id": "8aUY2EWyoS0x",
        "outputId": "4b7a6a34-ca52-42c2-cae7-1db6c92b65a3",
        "colab": {
          "base_uri": "https://localhost:8080/"
        }
      },
      "id": "8aUY2EWyoS0x",
      "execution_count": 8,
      "outputs": [
        {
          "output_type": "stream",
          "name": "stdout",
          "text": [
            "Looking in indexes: https://pypi.org/simple, https://us-python.pkg.dev/colab-wheels/public/simple/\n",
            "Collecting transformers\n",
            "  Downloading transformers-4.25.1-py3-none-any.whl (5.8 MB)\n",
            "\u001b[K     |████████████████████████████████| 5.8 MB 5.3 MB/s \n",
            "\u001b[?25hRequirement already satisfied: packaging>=20.0 in /usr/local/lib/python3.8/dist-packages (from transformers) (21.3)\n",
            "Collecting huggingface-hub<1.0,>=0.10.0\n",
            "  Downloading huggingface_hub-0.11.1-py3-none-any.whl (182 kB)\n",
            "\u001b[K     |████████████████████████████████| 182 kB 58.3 MB/s \n",
            "\u001b[?25hRequirement already satisfied: requests in /usr/local/lib/python3.8/dist-packages (from transformers) (2.23.0)\n",
            "Requirement already satisfied: numpy>=1.17 in /usr/local/lib/python3.8/dist-packages (from transformers) (1.21.6)\n",
            "Collecting tokenizers!=0.11.3,<0.14,>=0.11.1\n",
            "  Downloading tokenizers-0.13.2-cp38-cp38-manylinux_2_17_x86_64.manylinux2014_x86_64.whl (7.6 MB)\n",
            "\u001b[K     |████████████████████████████████| 7.6 MB 47.2 MB/s \n",
            "\u001b[?25hRequirement already satisfied: filelock in /usr/local/lib/python3.8/dist-packages (from transformers) (3.8.0)\n",
            "Requirement already satisfied: tqdm>=4.27 in /usr/local/lib/python3.8/dist-packages (from transformers) (4.64.1)\n",
            "Requirement already satisfied: pyyaml>=5.1 in /usr/local/lib/python3.8/dist-packages (from transformers) (6.0)\n",
            "Requirement already satisfied: regex!=2019.12.17 in /usr/local/lib/python3.8/dist-packages (from transformers) (2022.6.2)\n",
            "Requirement already satisfied: typing-extensions>=3.7.4.3 in /usr/local/lib/python3.8/dist-packages (from huggingface-hub<1.0,>=0.10.0->transformers) (4.4.0)\n",
            "Requirement already satisfied: pyparsing!=3.0.5,>=2.0.2 in /usr/local/lib/python3.8/dist-packages (from packaging>=20.0->transformers) (3.0.9)\n",
            "Requirement already satisfied: idna<3,>=2.5 in /usr/local/lib/python3.8/dist-packages (from requests->transformers) (2.10)\n",
            "Requirement already satisfied: chardet<4,>=3.0.2 in /usr/local/lib/python3.8/dist-packages (from requests->transformers) (3.0.4)\n",
            "Requirement already satisfied: urllib3!=1.25.0,!=1.25.1,<1.26,>=1.21.1 in /usr/local/lib/python3.8/dist-packages (from requests->transformers) (1.24.3)\n",
            "Requirement already satisfied: certifi>=2017.4.17 in /usr/local/lib/python3.8/dist-packages (from requests->transformers) (2022.9.24)\n",
            "Installing collected packages: tokenizers, huggingface-hub, transformers\n",
            "Successfully installed huggingface-hub-0.11.1 tokenizers-0.13.2 transformers-4.25.1\n"
          ]
        }
      ]
    },
    {
      "cell_type": "code",
      "source": [
        "!pip install tensorflow-addons"
      ],
      "metadata": {
        "id": "GwUfFvnfi_8_",
        "outputId": "9437f957-7deb-442b-ab29-e1a9baebbc83",
        "colab": {
          "base_uri": "https://localhost:8080/"
        }
      },
      "id": "GwUfFvnfi_8_",
      "execution_count": 9,
      "outputs": [
        {
          "output_type": "stream",
          "name": "stdout",
          "text": [
            "Looking in indexes: https://pypi.org/simple, https://us-python.pkg.dev/colab-wheels/public/simple/\n",
            "Collecting tensorflow-addons\n",
            "  Downloading tensorflow_addons-0.18.0-cp38-cp38-manylinux_2_17_x86_64.manylinux2014_x86_64.whl (1.1 MB)\n",
            "\u001b[K     |████████████████████████████████| 1.1 MB 4.8 MB/s \n",
            "\u001b[?25hRequirement already satisfied: typeguard>=2.7 in /usr/local/lib/python3.8/dist-packages (from tensorflow-addons) (2.7.1)\n",
            "Requirement already satisfied: packaging in /usr/local/lib/python3.8/dist-packages (from tensorflow-addons) (21.3)\n",
            "Requirement already satisfied: pyparsing!=3.0.5,>=2.0.2 in /usr/local/lib/python3.8/dist-packages (from packaging->tensorflow-addons) (3.0.9)\n",
            "Installing collected packages: tensorflow-addons\n",
            "Successfully installed tensorflow-addons-0.18.0\n"
          ]
        }
      ]
    },
    {
      "cell_type": "code",
      "source": [
        "# THIS IS A SEPARATOR ##########################################################\n",
        "\n",
        "\"\"\"\n",
        "This was tested with:\n",
        "tensorflow==2.6\n",
        "tensorflow-gpu==2.6\n",
        "tensorflow-addons==0.16.1\n",
        "transformers==4.18.0\n",
        "Keras==2.6.0\n",
        "\n",
        "Note 1: Simple adaptation of tf_seq2seq_lstm.py script\n",
        "Note 2: make sure Keras and Tensorflow versions match!\n",
        "\n",
        "\"\"\"\n",
        "\n",
        "import tensorflow as tf\n",
        "import tensorflow_addons as tfa\n",
        "from tqdm import tqdm\n",
        "from transformers import TFAutoModel, AutoTokenizer\n",
        "\n",
        "# check if training can be performed on GPU\n",
        "gpus = tf.config.experimental.list_physical_devices('GPU')\n",
        "if gpus:\n",
        "    try:\n",
        "        for gpu in gpus:\n",
        "            tf.config.experimental.set_memory_growth(gpu, True)\n",
        "    except RuntimeError as e:\n",
        "        print(e)\n",
        "\n",
        "\n",
        "class MyTrainer(object):\n",
        "    \"\"\"\n",
        "    Simple wrapper class\n",
        "\n",
        "    train_op -> uses tf.GradientTape to compute the loss\n",
        "    batch_fit -> receives a batch and performs forward-backward passes (gradient included) \n",
        "    \"\"\"\n",
        "\n",
        "    def __init__(self, encoder, decoder, max_length):\n",
        "        self.encoder = encoder\n",
        "        self.decoder = decoder\n",
        "        self.max_length = max_length\n",
        "        self.ce = tf.keras.losses.SparseCategoricalCrossentropy(from_logits=True, \n",
        "                                                                reduction='none') # from logits means that it returns values after a \n",
        "                                                                                  # softmax application, thus it is useless to\n",
        "                                                                                  # add a softmax activation layer if this parameter is set to \n",
        "                                                                                  # true (or even dangerous because it squashes the values)\n",
        "        self.optimizer = tf.keras.optimizers.Adam(learning_rate=1e-03)            # here it is possible to tweak the learning rate\n",
        "\n",
        "    @tf.function\n",
        "    def compute_loss(self, logits, target):\n",
        "        loss = self.ce(y_true=target, y_pred=logits)\n",
        "        mask = tf.logical_not(tf.math.equal(target, 0))\n",
        "        mask = tf.cast(mask, dtype=loss.dtype)\n",
        "        loss *= mask # pointwise product\n",
        "        return tf.reduce_mean(loss)\n",
        "\n",
        "    @tf.function\n",
        "    def train_op(self, inputs):\n",
        "        with tf.GradientTape() as tape:\n",
        "            encoder_output, encoder_h, encoder_s = self.encoder({'input_ids': inputs['encoder_input_ids'],\n",
        "                                                                 'attention_mask': inputs['encoder_attention_mask']})\n",
        "\n",
        "            decoder_input = inputs['decoder_target'][:, :-1]  # ignore <end>\n",
        "            real_target = inputs['decoder_target'][:, 1:]  # ignore <start>\n",
        "\n",
        "            decoder.attention.setup_memory(encoder_output) # setup in order to perform attention queries over the \n",
        "                                                           # embedding space\n",
        "\n",
        "            # decoder initialization, check build_initial_state for additional insights\n",
        "            decoder_initial_state = self.decoder.build_initial_state(decoder.batch_size, [encoder_h, encoder_s])\n",
        "            # the input is then passed to the initialized decoder and we obtain predictions\n",
        "            # in rnn_output format because the model is BERT-emdedding-sequence-sequence, so the\n",
        "            # last layer is still a sequence of cells (a RNN)\n",
        "            predicted = self.decoder({'input_ids': decoder_input,\n",
        "                                      'initial_state': decoder_initial_state}).rnn_output\n",
        "            # we compute the losses over the computed predictions\n",
        "            loss = self.compute_loss(logits=predicted, target=real_target)\n",
        "        # gradients of the loss computed for this minibatch considering trainable\n",
        "        # parameters of encoder and decoder\n",
        "        grads = tape.gradient(loss, self.encoder.trainable_variables + self.decoder.trainable_variables)\n",
        "        return loss, grads\n",
        "\n",
        "    @tf.function\n",
        "    def batch_fit(self, inputs):\n",
        "        loss, grads = self.train_op(inputs=inputs)\n",
        "        # applies gradients to the trainable variables using Adam\n",
        "        self.optimizer.apply_gradients(zip(grads, self.encoder.trainable_variables + self.decoder.trainable_variables))\n",
        "        return loss\n",
        "\n",
        "    # @tf.function\n",
        "    def generate(self, input_ids, attention_mask=None):\n",
        "        batch_size = input_ids.shape[0] # input_ids is the minibatch\n",
        "        encoder_output, encoder_h, encoder_s = self.encoder({\n",
        "            'input_ids': input_ids,\n",
        "            'attention_mask': attention_mask\n",
        "        })\n",
        "\n",
        "        start_tokens = tf.fill([batch_size], output_tokenizer.word_index['<start>'])\n",
        "        end_token = output_tokenizer.word_index['<end>']\n",
        "\n",
        "        # samples the possible answer with greedy technique, we could possibly\n",
        "        # use a variant here such as beam search at inference time \n",
        "        # We could not do this at training time, since the Sampler used at training\n",
        "        # is not designed to project the token in an embedding space before computing\n",
        "        # the next one. The aforementioned embedding space\n",
        "        # is changing at each backpropagation step anyways, thus we stick with\n",
        "        # the computation of the argmax of the logits using TrainingSampler.\n",
        "        greedy_sampler = tfa.seq2seq.GreedyEmbeddingSampler() \n",
        "        # we have a decoder for training and a decoder for test time, thus\n",
        "        # we need to re-define the training decoder each time we want to\n",
        "        # train a new batch\n",
        "        decoder_instance = tfa.seq2seq.BasicDecoder(cell=self.decoder.wrapped_decoder_cell,\n",
        "                                                    sampler=greedy_sampler,\n",
        "                                                    output_layer=self.decoder.generation_dense,\n",
        "                                                    maximum_iterations=self.max_length)\n",
        "        self.decoder.attention.setup_memory(encoder_output)\n",
        "\n",
        "        # decoder_initial_state is still an output of the encoder, we pass it to\n",
        "        # the decoder_instance in order to get the outputs\n",
        "        decoder_initial_state = self.decoder.build_initial_state(batch_size, [encoder_h, encoder_s])\n",
        "        decoder_embedding_matrix = self.decoder.embedding.variables[0]\n",
        "        outputs, _, _ = decoder_instance(decoder_embedding_matrix,\n",
        "                                         start_tokens=start_tokens,\n",
        "                                         end_token=end_token,\n",
        "                                         initial_state=decoder_initial_state)\n",
        "        return outputs\n",
        "\n",
        "    def translate(self, generated):\n",
        "        return output_tokenizer.sequences_to_texts(generated.sample_id.numpy())\n",
        "\n",
        "\n",
        "class Encoder(tf.keras.Model):\n",
        "\n",
        "    def __init__(self, model_name, decoder_units):\n",
        "        super(Encoder, self).__init__()\n",
        "        self.model = TFAutoModel.from_pretrained(model_name, from_pt=True)\n",
        "        self.reducer = tf.keras.layers.Dense(decoder_units)\n",
        "\n",
        "    def call(self, inputs, training=False, **kwargs):\n",
        "        model_output = self.model(inputs)\n",
        "        all_outputs = model_output[0] # output of the last layer of the model\n",
        "        pooled_output = model_output[1] # last layer but processed by a linear \n",
        "                                        # layer and a tanh\n",
        "        pooled_output = self.reducer(pooled_output)\n",
        "        return all_outputs, pooled_output, pooled_output\n",
        "\n",
        "\n",
        "class Decoder(tf.keras.Model):\n",
        "\n",
        "    def __init__(self, vocab_size, max_sequence_length, embedding_dim, decoder_units, batch_size):\n",
        "        super(Decoder, self).__init__()\n",
        "\n",
        "        self.max_sequence_length = max_sequence_length\n",
        "        self.batch_size = batch_size\n",
        "\n",
        "        self.decoder_units = decoder_units\n",
        "        self.embedding = tf.keras.layers.Embedding(input_dim=vocab_size,\n",
        "                                                   output_dim=embedding_dim)\n",
        "        self.decoder_lstm_cell = tf.keras.layers.LSTMCell(self.decoder_units)\n",
        "        # Just one type of attention, it could be changed to seek for different\n",
        "        # results\n",
        "        self.attention = tfa.seq2seq.BahdanauAttention(units=self.decoder_units,\n",
        "                                                       memory=None,\n",
        "                                                       memory_sequence_length=self.batch_size * [max_sequence_length])\n",
        "\n",
        "        self.wrapped_decoder_cell = tfa.seq2seq.AttentionWrapper(self.decoder_lstm_cell,\n",
        "                                                                 self.attention,\n",
        "                                                                 attention_layer_size=self.decoder_units) # adds the attention mechanism after a single\n",
        "                                                                                # LSTM cell, because we pass a word at the time\n",
        "        # dense layer needed to generate the distribution values over \n",
        "        # the size of the vocabulary (probability for each word)\n",
        "        self.generation_dense = tf.keras.layers.Dense(vocab_size)\n",
        "        # Above we describe why this cannot be changed and why it resambles\n",
        "        # the greedysampler\n",
        "        self.sampler = tfa.seq2seq.sampler.TrainingSampler()\n",
        "        self.decoder = tfa.seq2seq.BasicDecoder(self.wrapped_decoder_cell,\n",
        "                                                sampler=self.sampler,\n",
        "                                                output_layer=self.generation_dense)\n",
        "\n",
        "    def build_initial_state(self, batch_size, encoder_state):\n",
        "        # after initializing the tensors within the attention layer to 0 we add\n",
        "        # the designated initialization that allow us to query the embedding space,\n",
        "        # which is passed as encoder_state.\n",
        "        # We load the embedding of a single batch and we actually don't freeze \n",
        "        # the parameters related to BERT, that are modified and can possibly \n",
        "        # overfit. \n",
        "        initial_state = self.wrapped_decoder_cell.get_initial_state(batch_size=batch_size, dtype=tf.float32)\n",
        "        initial_state = initial_state.clone(cell_state=encoder_state) \n",
        "        return initial_state\n",
        "\n",
        "    def call(self, inputs, training=False, **kwargs):\n",
        "        # as shown in calls, inputs is a dictionary with entries: \n",
        "        # \"input_ids\" : _encoder_output_\n",
        "        # \"initial_state\" : _result_of_build_initial_state_\n",
        "        input_ids = inputs['input_ids']\n",
        "        input_emb = self.embedding(input_ids)\n",
        "        decoder_output, _, _ = self.decoder(input_emb,\n",
        "                                            initial_state=inputs['initial_state'],\n",
        "                                            sequence_length=self.batch_size * [self.max_sequence_length - 1])\n",
        "        return decoder_output\n",
        "\n",
        "\n",
        "def enconde_and_pad_sequence_input(sample_list, tokenizer):\n",
        "  # sample_list is a list of strings. Each string represents a question, \n",
        "  # a passage or an answer\n",
        "  encoded_inputs = tokenizer(sample_list, return_tensors='tf', padding=True)\n",
        "  return encoded_inputs.input_ids, encoded_inputs.attention_mask\n",
        "\n",
        "\n",
        "def encode_output_sequence(sample_list, tokenizer = tf.keras.preprocessing.text.Tokenizer(filters='', oov_token='<UNK>')):\n",
        "  tokenizer.fit_on_texts(sample_list)\n",
        "  encoded_output_sample = output_tokenizer.texts_to_sequences(output_sample)\n",
        "  encoded_output_sample = tf.keras.preprocessing.sequence.pad_sequences(encoded_output_sample,\n",
        "                                                                          padding='post',\n",
        "                                                                          maxlen=max_sequence_length)\n",
        "  return encoded_output_sample\n",
        "\n",
        "def generate_batch(input_ids, attention_mask, encoded_output_sample, batch_index, \n",
        "                   batch_size):\n",
        "    initial_index = batch_index * batch_size\n",
        "    final_index = initial_index + batch_size\n",
        "\n",
        "    batch = {\n",
        "            'encoder_input_ids': input_ids[initial_index:final_index],\n",
        "            'encoder_attention_mask': attention_mask[initial_index:final_index],\n",
        "            'decoder_target': encoded_output_sample[initial_index:final_index]\n",
        "    }\n",
        "    return batch\n",
        "    \n",
        "\n",
        "\n",
        "if __name__ == '__main__':\n",
        "    model_name = 'prajjwal1/bert-tiny'\n",
        "\n",
        "    # tf.config.run_functions_eagerly(True) # needed for debugging, it linearizes\n",
        "                                            # the computation graph \n",
        "\n",
        "    # Sample (list of lists, the inner lists are pairs (question, passage))\n",
        "    input_sample = [\n",
        "        [\"How did you manage to escape from that cell?\", \"\"\"I was in jail. \n",
        "        I was convicted because I committed fraud, but luckily I still managed to send a letter to my beloved ones.\n",
        "        The girl that I met before becoming a criminal, which would have become my future wife, gave me a help.\n",
        "        She managed to hide a file in my birthday cake. Day after day I used it to destroy the window.\"\"\"],\n",
        "        [\"Is this assignment hellish?\", \"\"\"For this assignment we require: basic coding knowledge,\n",
        "        understanding of how encoder-decoder architectures work and a little bit of magic skills\"\"\"], \n",
        "        [\"What color was the horse?\", \"Napoleon's horse was white\"],\n",
        "        [\"What shape has the bowl?\", \"The bowl is red and round\"],\n",
        "        [\"How did he escaped from the jail?\", \"Giovanni escaped from the cell using a smuggled file\"]\n",
        "    ]\n",
        "\n",
        "    # list of answers\n",
        "    output_sample = [\n",
        "        \"<start> My girlfriend hid a file in my birthday cake <end>\",\n",
        "        \"<start> Just if you don't know how to design code <end>\",\n",
        "        \"<start> white <end>\", \n",
        "        \"<start> round <end>\", \n",
        "        \"<start> with a file <end>\"\n",
        "    ]\n",
        "\n",
        "    batch_size = 2\n",
        "\n",
        "    # adding empty placeholders in case we don't have enough samples for the last\n",
        "    # minibatch, but we're using parts of the network to learn something \n",
        "    # useless\n",
        "    if len(input_sample) % batch_size != 0:\n",
        "      n_remaining_samples = len(input_sample) % batch_size\n",
        "      for i in range(0, n_remaining_samples):\n",
        "        input_sample.append([\"\",\"\"])\n",
        "        output_sample.append(\"\")\n",
        "      print(input_sample)\n",
        "      print(output_sample)\n",
        "\n",
        "    # Input\n",
        "    input_tokenizer = AutoTokenizer.from_pretrained(model_name)\n",
        "    encoded_inputs = input_tokenizer(input_sample, return_tensors='tf', padding=True)\n",
        "    input_ids, attention_mask = encoded_inputs.input_ids, encoded_inputs.attention_mask\n",
        "    max_input_length = input_ids.shape[-1]\n",
        "\n",
        "    # Output\n",
        "    output_tokenizer = tf.keras.preprocessing.text.Tokenizer(filters='', oov_token='<UNK>')\n",
        "    output_tokenizer.fit_on_texts(output_sample)\n",
        "\n",
        "    output_vocab_size = len(output_tokenizer.word_index) + 1\n",
        "\n",
        "    encoded_output_sample = output_tokenizer.texts_to_sequences(output_sample)\n",
        "    max_output_length = max([len(item) for item in encoded_output_sample])\n",
        "\n",
        "    max_sequence_length = max(max_input_length, max_output_length)\n",
        "\n",
        "    encoded_output_sample = tf.keras.preprocessing.sequence.pad_sequences(encoded_output_sample,\n",
        "                                                                          padding='post',\n",
        "                                                                          maxlen=max_sequence_length)\n",
        "\n",
        "    # Testing the encoder\n",
        "    encoder = Encoder(model_name=model_name,\n",
        "                      decoder_units=16)\n",
        "    \"\"\"\n",
        "    encoder_output, encoder_h, encoder_s = encoder({'input_ids': input_ids,\n",
        "                                                    'attention_mask': attention_mask})\n",
        "    print(f'Printing the dimensions of the encoder: {encoder_output.shape} - {encoder_h.shape} - {encoder_s.shape}')\n",
        "    \"\"\"\n",
        "    # Testing the decoder\n",
        "    decoder = Decoder(vocab_size=output_vocab_size,\n",
        "                      embedding_dim=50,\n",
        "                      decoder_units=16,\n",
        "                      batch_size=batch_size,\n",
        "                      max_sequence_length=max_sequence_length)\n",
        "    \"\"\"\n",
        "    decoder.attention.setup_memory(encoder_output)\n",
        "    initial_state = decoder.build_initial_state(batch_size, [encoder_h, encoder_s])\n",
        "    \n",
        "\n",
        "    decoder_sample_batch = {\n",
        "        'input_ids': tf.convert_to_tensor(encoded_output_sample, tf.int32),\n",
        "        'initial_state': initial_state\n",
        "    }\n",
        "    sample_decoder_outputs = decoder(decoder_sample_batch).rnn_output\n",
        "    print(f'Printing the dimensions of the decoder: {sample_decoder_outputs.shape}')\n",
        "    \"\"\"\n",
        "    # Training\n",
        "    trainer = MyTrainer(encoder=encoder,\n",
        "                        decoder=decoder,\n",
        "                        max_length=max_sequence_length)\n",
        "    epochs = 100\n",
        "    for epoch in tqdm(range(epochs)):\n",
        "        \"\"\"\n",
        "        batch = {\n",
        "            'encoder_input_ids': input_ids,\n",
        "            'encoder_attention_mask': attention_mask,\n",
        "            'decoder_target': encoded_output_sample\n",
        "        }\n",
        "        \"\"\"\n",
        "        batch_index = 0\n",
        "        cumulative_loss = 0\n",
        "        while batch_index * batch_size < len(input_ids):\n",
        "          batch = generate_batch(input_ids, attention_mask, encoded_output_sample, batch_index, batch_size)\n",
        "          loss = trainer.batch_fit(batch)\n",
        "          cumulative_loss += loss\n",
        "          print(f'Loss - {loss}')\n",
        "          batch_index += 1\n",
        "        mean_loss = cumulative_loss / batch_index\n",
        "        print(f\"Current mean {mean_loss}\")\n",
        "        # check results at the end of each epoch\n",
        "        generated = trainer.generate(input_ids=input_ids,\n",
        "                                     attention_mask=attention_mask)\n",
        "        translated = trainer.translate(generated)\n",
        "        print(f'Translated - {translated}')\n",
        "        \n",
        "        \n",
        "\n",
        "# THIS IS A SEPARATOR ##########################################################"
      ],
      "metadata": {
        "colab": {
          "base_uri": "https://localhost:8080/"
        },
        "id": "tgypImQXgQhh",
        "outputId": "10b4aa8a-dc25-424a-d04b-9b65976e370d"
      },
      "id": "tgypImQXgQhh",
      "execution_count": 32,
      "outputs": [
        {
          "output_type": "stream",
          "name": "stdout",
          "text": [
            "[['How did you manage to escape from that cell?', 'I was in jail. \\n        I was convicted because I committed fraud, but luckily I still managed to send a letter to my beloved ones.\\n        The girl that I met before becoming a criminal, which would have become my future wife, gave me a help.\\n        She managed to hide a file in my birthday cake. Day after day I used it to destroy the window.'], ['Is this assignment hellish?', 'For this assignment we require: basic coding knowledge,\\n        understanding of how encoder-decoder architectures work and a little bit of magic skills'], ['What color was the horse?', \"Napoleon's horse was white\"], ['What shape has the bowl?', 'The bowl is red and round'], ['How did he escaped from the jail?', 'Giovanni escaped from the cell using a smuggled file'], ['', '']]\n",
            "['<start> My girlfriend hid a file in my birthday cake <end>', \"<start> Just if you don't know how to design code <end>\", '<start> white <end>', '<start> round <end>', '<start> with a file <end>', '']\n"
          ]
        },
        {
          "output_type": "stream",
          "name": "stderr",
          "text": [
            "Some weights of the PyTorch model were not used when initializing the TF 2.0 model TFBertModel: ['cls.seq_relationship.weight', 'cls.predictions.transform.LayerNorm.bias', 'cls.predictions.decoder.bias', 'cls.predictions.transform.LayerNorm.weight', 'cls.predictions.transform.dense.bias', 'cls.predictions.decoder.weight', 'bert.embeddings.position_ids', 'cls.predictions.bias', 'cls.predictions.transform.dense.weight', 'cls.seq_relationship.bias']\n",
            "- This IS expected if you are initializing TFBertModel from a PyTorch model trained on another task or with another architecture (e.g. initializing a TFBertForSequenceClassification model from a BertForPreTraining model).\n",
            "- This IS NOT expected if you are initializing TFBertModel from a PyTorch model that you expect to be exactly identical (e.g. initializing a TFBertForSequenceClassification model from a BertForSequenceClassification model).\n",
            "All the weights of TFBertModel were initialized from the PyTorch model.\n",
            "If your task is similar to the task the model of the checkpoint was trained on, you can already use TFBertModel for predictions without further training.\n",
            "  0%|          | 0/100 [00:00<?, ?it/s]"
          ]
        },
        {
          "output_type": "stream",
          "name": "stdout",
          "text": [
            "Loss - 0.40622153878211975\n",
            "Loss - 0.06946390867233276\n",
            "Loss - 0.0815666913986206\n",
            "Current mean 0.18575072288513184\n"
          ]
        },
        {
          "output_type": "stream",
          "name": "stderr",
          "text": [
            "\r  1%|          | 1/100 [00:13<22:36, 13.70s/it]"
          ]
        },
        {
          "output_type": "stream",
          "name": "stdout",
          "text": [
            "Translated - ['a a a a a a a a a a a a a a a a a a a a a a a a a a a a a a a a a a a a a a a a a a a a a a a a a a a a a a a a a a a a a a a a a a a a a a a a a a a a a a a a a a a a a', '<end> <end> <end> <end> <end> <end> <end> <end> <end> <end> <end> <end> <end> <end> <end> <end> <end> <end> <end> <end> <end> <end> <end> <end> <end> <end> <end> <end> <end> <end> <end> <end> <end> <end> <end> <end> <end> <end> <end> <end> <end> <end> <end> <end> <end> <end> <end> <end> <end> <end> <end> <end> <end> <end> <end> <end> <end> <end> <end> <end> <end> <end> <end> <end> <end> <end> <end> <end> <end> <end> <end> <end> <end> <end> <end> <end> <end> <end> <end> <end> <end> <end> <end> <end> <end>', '<end> <end> <end> <end> <end> <end> <end> <end> <end> <end> <end> <end> <end> <end> <end> <end> <end> <end> <end> <end> <end> <end> <end> <end> <end> <end> <end> <end> <end> <end> <end> <end> <end> <end> <end> <end> <end> <end> <end> <end> <end> <end> <end> <end> <end> <end> <end> <end> <end> <end> <end> <end> <end> <end> <end> <end> <end> <end> <end> <end> <end> <end> <end> <end> <end> <end> <end> <end> <end> <end> <end> <end> <end> <end> <end> <end> <end> <end> <end> <end> <end> <end> <end> <end> <end>', '<end> <end> <end> <end> <end> <end> <end> <end> <end> <end> <end> <end> <end> <end> <end> <end> <end> <end> <end> <end> <end> <end> <end> <end> <end> <end> <end> <end> <end> <end> <end> <end> <end> <end> <end> <end> <end> <end> <end> <end> <end> <end> <end> <end> <end> <end> <end> <end> <end> <end> <end> <end> <end> <end> <end> <end> <end> <end> <end> <end> <end> <end> <end> <end> <end> <end> <end> <end> <end> <end> <end> <end> <end> <end> <end> <end> <end> <end> <end> <end> <end> <end> <end> <end> <end>', '<end> <end> <end> <end> <end> <end> <end> <end> <end> <end> <end> <end> <end> <end> <end> <end> <end> <end> <end> <end> <end> <end> <end> <end> <end> <end> <end> <end> <end> <end> <end> <end> <end> <end> <end> <end> <end> <end> <end> <end> <end> <end> <end> <end> <end> <end> <end> <end> <end> <end> <end> <end> <end> <end> <end> <end> <end> <end> <end> <end> <end> <end> <end> <end> <end> <end> <end> <end> <end> <end> <end> <end> <end> <end> <end> <end> <end> <end> <end> <end> <end> <end> <end> <end> <end>', '<end> <end> <end> <end> <end> <end> <end> <end> <end> <end> <end> <end> <end> <end> <end> <end> <end> <end> <end> <end> <end> <end> <end> <end> <end> <end> <end> <end> <end> <end> <end> <end> <end> <end> <end> <end> <end> <end> <end> <end> <end> <end> <end> <end> <end> <end> <end> <end> <end> <end> <end> <end> <end> <end> <end> <end> <end> <end> <end> <end> <end> <end> <end> <end> <end> <end> <end> <end> <end> <end> <end> <end> <end> <end> <end> <end> <end> <end> <end> <end> <end> <end> <end> <end> <end>']\n",
            "Loss - 0.5294780135154724\n",
            "Loss - 0.035470422357320786\n",
            "Loss - 0.0692519098520279\n",
            "Current mean 0.211400106549263\n"
          ]
        },
        {
          "output_type": "stream",
          "name": "stderr",
          "text": [
            "\r  2%|▏         | 2/100 [00:14<10:15,  6.28s/it]"
          ]
        },
        {
          "output_type": "stream",
          "name": "stdout",
          "text": [
            "Translated - ['cake cake cake cake cake cake cake cake cake cake cake cake cake cake cake cake cake cake cake cake cake cake cake cake cake cake cake cake cake cake cake cake cake cake cake cake cake cake cake cake cake cake cake cake cake cake cake cake cake cake cake cake cake cake cake cake cake cake cake cake cake cake cake cake cake cake cake cake cake cake cake cake cake cake cake cake cake cake cake cake cake cake cake cake cake', '<end> <end> <end> <end> <end> <end> <end> <end> <end> <end> <end> <end> <end> <end> <end> <end> <end> <end> <end> <end> <end> <end> <end> <end> <end> <end> <end> <end> <end> <end> <end> <end> <end> <end> <end> <end> <end> <end> <end> <end> <end> <end> <end> <end> <end> <end> <end> <end> <end> <end> <end> <end> <end> <end> <end> <end> <end> <end> <end> <end> <end> <end> <end> <end> <end> <end> <end> <end> <end> <end> <end> <end> <end> <end> <end> <end> <end> <end> <end> <end> <end> <end> <end> <end> <end>', 'white white white white white white white white white white white white white white white white white white white white white white white white white white white white white white white white white white white white white white white white white white white white white white white white white white white white white white white white white white white white white white white white white white white white white white white white white white white white white white white white white white white white white', '<end> <end> <end> <end> <end> <end> <end> <end> <end> <end> <end> <end> <end> <end> <end> <end> <end> <end> <end> <end> <end> <end> <end> <end> <end> <end> <end> <end> <end> <end> <end> <end> <end> <end> <end> <end> <end> <end> <end> <end> <end> <end> <end> <end> <end> <end> <end> <end> <end> <end> <end> <end> <end> <end> <end> <end> <end> <end> <end> <end> <end> <end> <end> <end> <end> <end> <end> <end> <end> <end> <end> <end> <end> <end> <end> <end> <end> <end> <end> <end> <end> <end> <end> <end> <end>', 'with with with with with with with with with with with with with with with with with with with with with with with with with with with with with with with with with with with with with with with with with with with with with with with with with with with with with with with with with with with with with with with with with with with with with with with with with with with with with with with with with with with with with', '<end> <end> <end> <end> <end> <end> <end> <end> <end> <end> <end> <end> <end> <end> <end> <end> <end> <end> <end> <end> <end> <end> <end> <end> <end> <end> <end> <end> <end> <end> <end> <end> <end> <end> <end> <end> <end> <end> <end> <end> <end> <end> <end> <end> <end> <end> <end> <end> <end> <end> <end> <end> <end> <end> <end> <end> <end> <end> <end> <end> <end> <end> <end> <end> <end> <end> <end> <end> <end> <end> <end> <end> <end> <end> <end> <end> <end> <end> <end> <end> <end> <end> <end> <end> <end>']\n",
            "Loss - 0.4188411235809326\n",
            "Loss - 0.03847458213567734\n",
            "Loss - 0.0644201710820198\n",
            "Current mean 0.17391197383403778\n"
          ]
        },
        {
          "output_type": "stream",
          "name": "stderr",
          "text": [
            "\r  3%|▎         | 3/100 [00:15<06:16,  3.89s/it]"
          ]
        },
        {
          "output_type": "stream",
          "name": "stdout",
          "text": [
            "Translated - ['my my my my my my my my my my my my my my my my my my my my my my my my my my my my my my my my my my my my my my my my my my my my my my my my my my my my my my my my my my my my my my my my my my my my my my my my my my my my my my my my my my my my my', 'know know know know know know know know know know know know know know know know know know know know know know know know know know know know know know know know know know know know know know know know know know know know know know know know know know know know know know know know know know know know know know know know know know know know know know know know know know know know know know know know know know know know know', 'white white <end> <end> <end> <end> <end> <end> <end> <end> <end> <end> <end> <end> <end> <end> <end> <end> <end> <end> <end> <end> <end> <end> <end> <end> <end> <end> <end> <end> <end> <end> <end> <end> <end> <end> <end> <end> <end> <end> <end> <end> <end> <end> <end> <end> <end> <end> <end> <end> <end> <end> <end> <end> <end> <end> <end> <end> <end> <end> <end> <end> <end> <end> <end> <end> <end> <end> <end> <end> <end> <end> <end> <end> <end> <end> <end> <end> <end> <end> <end> <end> <end> <end> <end>', 'round round round round round round round round round round round round round round round round round round round round round round round round round round round round round round round round round round round round round round round round round round round round round round round round round round round round round round round round round round round round round round round round round round round round round round round round round round round round round round round round round round round round round', 'file file file file file file file file file file file file file file file file file file file file file file file file file file file file file file file file file file file file file file file file file file file file file file file file file file file file file file file file file file file file file file file file file file file file file file file file file file file file file file file file file file file file file', '<end> <end> <end> <end> <end> <end> <end> <end> <end> <end> <end> <end> <end> <end> <end> <end> <end> <end> <end> <end> <end> <end> <end> <end> <end> <end> <end> <end> <end> <end> <end> <end> <end> <end> <end> <end> <end> <end> <end> <end> <end> <end> <end> <end> <end> <end> <end> <end> <end> <end> <end> <end> <end> <end> <end> <end> <end> <end> <end> <end> <end> <end> <end> <end> <end> <end> <end> <end> <end> <end> <end> <end> <end> <end> <end> <end> <end> <end> <end> <end> <end> <end> <end> <end> <end>']\n",
            "Loss - 0.3662656545639038\n",
            "Loss - 0.031919609755277634\n",
            "Loss - 0.04444095492362976\n",
            "Current mean 0.1475420743227005\n"
          ]
        },
        {
          "output_type": "stream",
          "name": "stderr",
          "text": [
            "\r  4%|▍         | 4/100 [00:16<04:25,  2.77s/it]"
          ]
        },
        {
          "output_type": "stream",
          "name": "stdout",
          "text": [
            "Translated - ['my my my my my my my my my my my my my my my my my my my my my my my my my my my my my my my my my my my my my my my my my my my my my my my my my my my my my my my my my my my my my my my my my my my my my my my my my my my my my my my my my my my my my', '<end> <end> <end> <end> <end> <end> <end> <end> <end> <end> <end> <end> <end> <end> <end> <end> <end> <end> <end> <end> <end> <end> <end> <end> <end> <end> <end> <end> <end> <end> <end> <end> <end> <end> <end> <end> <end> <end> <end> <end> <end> <end> <end> <end> <end> <end> <end> <end> <end> <end> <end> <end> <end> <end> <end> <end> <end> <end> <end> <end> <end> <end> <end> <end> <end> <end> <end> <end> <end> <end> <end> <end> <end> <end> <end> <end> <end> <end> <end> <end> <end> <end> <end> <end> <end>', '<end> <end> <end> <end> <end> <end> <end> <end> <end> <end> <end> <end> <end> <end> <end> <end> <end> <end> <end> <end> <end> <end> <end> <end> <end> <end> <end> <end> <end> <end> <end> <end> <end> <end> <end> <end> <end> <end> <end> <end> <end> <end> <end> <end> <end> <end> <end> <end> <end> <end> <end> <end> <end> <end> <end> <end> <end> <end> <end> <end> <end> <end> <end> <end> <end> <end> <end> <end> <end> <end> <end> <end> <end> <end> <end> <end> <end> <end> <end> <end> <end> <end> <end> <end> <end>', '<end> <end> <end> <end> <end> <end> <end> <end> <end> <end> <end> <end> <end> <end> <end> <end> <end> <end> <end> <end> <end> <end> <end> <end> <end> <end> <end> <end> <end> <end> <end> <end> <end> <end> <end> <end> <end> <end> <end> <end> <end> <end> <end> <end> <end> <end> <end> <end> <end> <end> <end> <end> <end> <end> <end> <end> <end> <end> <end> <end> <end> <end> <end> <end> <end> <end> <end> <end> <end> <end> <end> <end> <end> <end> <end> <end> <end> <end> <end> <end> <end> <end> <end> <end> <end>', 'with <end> <end> <end> <end> <end> <end> <end> <end> <end> <end> <end> <end> <end> <end> <end> <end> <end> <end> <end> <end> <end> <end> <end> <end> <end> <end> <end> <end> <end> <end> <end> <end> <end> <end> <end> <end> <end> <end> <end> <end> <end> <end> <end> <end> <end> <end> <end> <end> <end> <end> <end> <end> <end> <end> <end> <end> <end> <end> <end> <end> <end> <end> <end> <end> <end> <end> <end> <end> <end> <end> <end> <end> <end> <end> <end> <end> <end> <end> <end> <end> <end> <end> <end> <end>', '<end> <end> <end> <end> <end> <end> <end> <end> <end> <end> <end> <end> <end> <end> <end> <end> <end> <end> <end> <end> <end> <end> <end> <end> <end> <end> <end> <end> <end> <end> <end> <end> <end> <end> <end> <end> <end> <end> <end> <end> <end> <end> <end> <end> <end> <end> <end> <end> <end> <end> <end> <end> <end> <end> <end> <end> <end> <end> <end> <end> <end> <end> <end> <end> <end> <end> <end> <end> <end> <end> <end> <end> <end> <end> <end> <end> <end> <end> <end> <end> <end> <end> <end> <end> <end>']\n",
            "Loss - 0.33292156457901\n",
            "Loss - 0.030925322324037552\n",
            "Loss - 0.03944644331932068\n",
            "Current mean 0.13443110883235931\n"
          ]
        },
        {
          "output_type": "stream",
          "name": "stderr",
          "text": [
            "\r  5%|▌         | 5/100 [00:17<03:22,  2.13s/it]"
          ]
        },
        {
          "output_type": "stream",
          "name": "stdout",
          "text": [
            "Translated - ['my my my my my my my my my my my my my my my my my my my my my my my my my my my my my my my my my my my my my my my my my my my my my my my my my my my my my my my my my my my my my my my my my my my my my my my my my my my my my my my my my my my my my', 'if <end> <end> <end> <end> <end> <end> <end> <end> <end> <end> <end> <end> <end> <end> <end> <end> <end> <end> <end> <end> <end> <end> <end> <end> code code code code code code code code code code code code code code code code code code code code code code code code code code code code code code code code code code code code code code code code code code code code code code code code code code code code code code code code code code code code', '<end> <end> <end> <end> <end> <end> <end> <end> <end> <end> <end> <end> <end> <end> <end> <end> <end> <end> <end> <end> <end> <end> <end> <end> <end> <end> <end> <end> <end> <end> <end> <end> <end> <end> <end> <end> <end> <end> <end> <end> <end> <end> <end> <end> <end> <end> <end> <end> <end> <end> <end> <end> <end> <end> <end> <end> <end> <end> <end> <end> <end> <end> <end> <end> <end> <end> <end> <end> <end> <end> <end> <end> <end> <end> <end> <end> <end> <end> <end> <end> <end> <end> <end> <end> <end>', '<end> <end> <end> <end> <end> <end> <end> <end> <end> <end> <end> <end> <end> <end> <end> <end> <end> <end> <end> <end> <end> <end> <end> <end> <end> <end> <end> <end> <end> <end> <end> <end> <end> <end> <end> <end> <end> <end> <end> <end> <end> <end> <end> <end> <end> <end> <end> <end> <end> <end> <end> <end> <end> <end> <end> <end> <end> <end> <end> <end> <end> <end> <end> <end> <end> <end> <end> <end> <end> <end> <end> <end> <end> <end> <end> <end> <end> <end> <end> <end> <end> <end> <end> <end> <end>', 'with a a a a a a a a a a a a a a a a a a a a a a a a a a a a a a a a a a a a a a a a a a a a a a a a a a a a a a a a a a a a a a a a a a a a a a a a a a a a a a a a a a a a', '<end> <end> <end> <end> <end> <end> <end> <end> <end> <end> <end> <end> <end> <end> <end> <end> <end> <end> <end> <end> <end> <end> <end> <end> <end> <end> <end> <end> <end> <end> <end> <end> <end> <end> <end> <end> <end> <end> <end> <end> <end> <end> <end> <end> <end> <end> <end> <end> <end> <end> <end> <end> <end> <end> <end> <end> <end> <end> <end> <end> <end> <end> <end> <end> <end> <end> <end> <end> <end> <end> <end> <end> <end> <end> <end> <end> <end> <end> <end> <end> <end> <end> <end> <end> <end>']\n",
            "Loss - 0.3155215084552765\n",
            "Loss - 0.023300079628825188\n",
            "Loss - 0.039380352944135666\n",
            "Current mean 0.12606731057167053\n"
          ]
        },
        {
          "output_type": "stream",
          "name": "stderr",
          "text": [
            "\r  6%|▌         | 6/100 [00:18<02:45,  1.76s/it]"
          ]
        },
        {
          "output_type": "stream",
          "name": "stdout",
          "text": [
            "Translated - ['my my my my my my my my my my my my my my my my my my my my my my my my my my my my my my my my my my cake my cake my cake my cake cake cake cake cake cake cake cake cake cake cake cake cake cake cake cake cake cake cake cake cake cake cake cake cake cake cake cake cake cake cake cake cake cake cake cake cake cake cake cake cake cake cake cake cake', 'if to <end> <end> <end> <end> <end> <end> <end> <end> <end> <end> <end> <end> <end> <end> <end> <end> <end> <end> <end> <end> <end> <end> <end> <end> <end> <end> <end> <end> <end> <end> <end> <end> <end> <end> <end> <end> <end> <end> <end> <end> <end> <end> <end> <end> <end> <end> <end> <end> <end> <end> <end> <end> <end> <end> <end> <end> <end> <end> <end> <end> <end> <end> <end> <end> <end> <end> <end> <end> <end> <end> <end> <end> <end> <end> <end> <end> <end> <end> <end> <end> <end> <end> <end>', 'white white white white white white white white white white white white white white white white white white white white white white white white white white white white white white white white white white white white white white white white white white white white white white white white white white white white white white white white white white white white white white white white white white white white white white white white white white white white white white white white white white white white white', 'round round round round round round round round round round round round round round round round round round round round round round round round round round round round round round round round round round round round round round round round round round round round round round round round round round round round round round round round round round round round round round round round round round round round round round round round round round round round round round round round round round round round round', 'a a a a a a a a a a a a a a a a a a a a a a a a a a a a a a a a a a a a a a a a a a a a a a a a a a a a a a a a a a a a a a a a a a a a a a a a a a a a a a a a a a a a a', '<end> <end> <end> <end> <end> <end> <end> <end> <end> <end> <end> <end> <end> <end> <end> <end> <end> <end> <end> <end> <end> <end> <end> <end> <end> <end> <end> <end> <end> <end> <end> <end> <end> <end> <end> <end> <end> <end> <end> <end> <end> <end> <end> <end> <end> <end> <end> <end> <end> <end> <end> <end> <end> <end> <end> <end> <end> <end> <end> <end> <end> <end> <end> <end> <end> <end> <end> <end> <end> <end> <end> <end> <end> <end> <end> <end> <end> <end> <end> <end> <end> <end> <end> <end> <end>']\n",
            "Loss - 0.30148202180862427\n",
            "Loss - 0.022163012996315956\n",
            "Loss - 0.03535641357302666\n",
            "Current mean 0.11966714262962341\n"
          ]
        },
        {
          "output_type": "stream",
          "name": "stderr",
          "text": [
            "\r  7%|▋         | 7/100 [00:19<02:21,  1.52s/it]"
          ]
        },
        {
          "output_type": "stream",
          "name": "stdout",
          "text": [
            "Translated - ['my my my my my my my my my my my my my my my my my my my my my my my my my my my my my my my my my my my my my my my my my my my my my my my my my my my my my my my my my my my my my my my my my my my my my my my my my my my my my my my my my my my my my', 'know know know know know <end> <end> <end> <end> <end> <end> <end> <end> <end> <end> <end> <end> <end> <end> <end> <end> <end> <end> <end> <end> <end> <end> <end> <end> <end> <end> <end> <end> <end> <end> <end> <end> <end> <end> <end> <end> <end> <end> <end> <end> <end> <end> <end> <end> <end> <end> <end> <end> <end> <end> <end> <end> <end> <end> <end> <end> <end> <end> <end> <end> <end> <end> <end> <end> <end> <end> <end> <end> <end> <end> <end> <end> <end> <end> <end> <end> <end> <end> <end> <end>', 'white white white white white white white white white white white white white white white white white white white white white white white white white white white white white white white white white white white white white white white white white white white white white white white white white white white white white white white white white white white white white white white white white white white white white white white white white white white white white white white white white white white white white', 'round round round round round round round round round round round round round round round round round round round round round round round round round round round round round round round round round round round round round round round round round round round round round round round round round round round round round round round round round round round round round round round round round round round round round round round round round round round round round round round round round round round round round', 'file <end> <end> <end> <end> <end> <end> <end> <end> <end> <end> <end> <end> <end> <end> <end> <end> <end> <end> <end> <end> <end> <end> <end> <end> <end> <end> <end> <end> <end> <end> <end> <end> <end> <end> <end> <end> <end> <end> <end> <end> <end> <end> <end> <end> <end> <end> <end> <end> <end> <end> <end> <end> <end> <end> <end> <end> <end> <end> <end> <end> <end> <end> <end> <end> <end> <end> <end> <end> <end> <end> <end> <end> <end> <end> <end> <end> <end> <end> <end> <end> <end> <end> <end> <end>', '<end> <end> <end> <end> <end> <end> <end> <end> <end> <end> <end> <end> <end> <end> <end> <end> <end> <end> <end> <end> <end> <end> <end> <end> <end> <end> <end> <end> <end> <end> <end> <end> <end> <end> <end> <end> <end> <end> <end> <end> <end> <end> <end> <end> <end> <end> <end> <end> <end> <end> <end> <end> <end> <end> <end> <end> <end> <end> <end> <end> <end> <end> <end> <end> <end> <end> <end> <end> <end> <end> <end> <end> <end> <end> <end> <end> <end> <end> <end> <end> <end> <end> <end> <end> <end>']\n",
            "Loss - 0.29257574677467346\n",
            "Loss - 0.019578900188207626\n",
            "Loss - 0.034057531505823135\n",
            "Current mean 0.11540406197309494\n"
          ]
        },
        {
          "output_type": "stream",
          "name": "stderr",
          "text": [
            "\r  8%|▊         | 8/100 [00:20<02:04,  1.35s/it]"
          ]
        },
        {
          "output_type": "stream",
          "name": "stdout",
          "text": [
            "Translated - ['my my hid my my my my my my my my my my my my my my my my my my my my my my my my my my my my my my my my my my my my my my my my my my my my my my my my my my my my my my my my my my my my my my my my my my my my my my my my my my my my my my my my my my', 'know know know know know know know know know know know know know know know know know know know know know know know know know know know know know know know know know know know know know know know know know know know know know know know know know know know know know know know know know know know know know know know know know know know know know know know know know know know know know know know know know know know know know', 'white <end> <end> <end> <end> <end> <end> <end> <end> <end> <end> <end> <end> <end> <end> <end> <end> <end> <end> <end> <end> <end> <end> <end> <end> <end> <end> <end> <end> <end> <end> <end> <end> <end> <end> <end> <end> <end> <end> <end> <end> <end> <end> <end> <end> <end> <end> <end> <end> <end> <end> <end> <end> <end> <end> <end> <end> <end> <end> <end> <end> <end> <end> <end> <end> <end> <end> <end> <end> <end> <end> <end> <end> <end> <end> <end> <end> <end> <end> <end> <end> <end> <end> <end> <end>', '<end> <end> <end> <end> <end> <end> <end> <end> <end> <end> <end> <end> <end> <end> <end> <end> <end> <end> <end> <end> <end> <end> <end> <end> <end> <end> <end> <end> <end> <end> <end> <end> <end> <end> <end> <end> <end> <end> <end> <end> <end> <end> <end> <end> <end> <end> <end> <end> <end> <end> <end> <end> <end> <end> <end> <end> <end> <end> <end> <end> <end> <end> <end> <end> <end> <end> <end> <end> <end> <end> <end> <end> <end> <end> <end> <end> <end> <end> <end> <end> <end> <end> <end> <end> <end>', 'with <end> <end> <end> <end> <end> <end> <end> <end> <end> <end> <end> <end> <end> <end> <end> <end> <end> <end> <end> <end> <end> <end> <end> <end> <end> <end> <end> <end> <end> <end> <end> <end> <end> <end> <end> <end> <end> <end> <end> <end> <end> <end> <end> <end> <end> <end> <end> <end> <end> <end> <end> <end> <end> <end> <end> <end> <end> <end> <end> <end> <end> <end> <end> <end> <end> <end> <end> <end> <end> <end> <end> <end> <end> <end> <end> <end> <end> <end> <end> <end> <end> <end> <end> <end>', '<end> <end> <end> <end> <end> <end> <end> <end> <end> <end> <end> <end> <end> <end> <end> <end> <end> <end> <end> <end> <end> <end> <end> <end> <end> <end> <end> <end> <end> <end> <end> <end> <end> <end> <end> <end> <end> <end> <end> <end> <end> <end> <end> <end> <end> <end> <end> <end> <end> <end> <end> <end> <end> <end> <end> <end> <end> <end> <end> <end> <end> <end> <end> <end> <end> <end> <end> <end> <end> <end> <end> <end> <end> <end> <end> <end> <end> <end> <end> <end> <end> <end> <end> <end> <end>']\n",
            "Loss - 0.28715524077415466\n",
            "Loss - 0.017727797850966454\n",
            "Loss - 0.03348720818758011\n",
            "Current mean 0.1127900779247284\n"
          ]
        },
        {
          "output_type": "stream",
          "name": "stderr",
          "text": [
            "\r  9%|▉         | 9/100 [00:21<01:54,  1.26s/it]"
          ]
        },
        {
          "output_type": "stream",
          "name": "stdout",
          "text": [
            "Translated - ['my my my my my cake cake cake cake cake cake cake cake cake cake cake cake cake cake cake cake cake cake cake cake cake cake cake cake cake cake cake cake cake cake cake cake cake cake cake cake cake cake cake cake cake cake cake cake cake cake cake cake cake cake cake cake cake cake cake cake cake cake cake cake cake cake cake cake cake cake cake cake cake cake cake cake cake cake cake cake cake cake cake cake', 'just just just just just code code code code code code code code code code code code code code code code code code code code code code code code code code code code code code code code code code code code code code code code code code code code code code code code code code code code code code code code code code code code code code code code code code code code code code code code code code code code code code code code', '<end> <end> <end> <end> <end> <end> <end> <end> <end> <end> <end> <end> <end> <end> <end> <end> <end> <end> <end> <end> <end> <end> <end> <end> <end> <end> <end> <end> <end> <end> <end> <end> <end> <end> <end> <end> <end> <end> <end> <end> <end> <end> <end> <end> <end> <end> <end> <end> <end> <end> <end> <end> <end> <end> <end> <end> <end> <end> <end> <end> <end> <end> <end> <end> <end> <end> <end> <end> <end> <end> <end> <end> <end> <end> <end> <end> <end> <end> <end> <end> <end> <end> <end> <end> <end>', '<end> <end> <end> <end> <end> <end> <end> <end> <end> <end> <end> <end> <end> <end> <end> <end> <end> <end> <end> <end> <end> <end> <end> <end> <end> <end> <end> <end> <end> <end> <end> <end> <end> <end> <end> <end> <end> <end> <end> <end> <end> <end> <end> <end> <end> <end> <end> <end> <end> <end> <end> <end> <end> <end> <end> <end> <end> <end> <end> <end> <end> <end> <end> <end> <end> <end> <end> <end> <end> <end> <end> <end> <end> <end> <end> <end> <end> <end> <end> <end> <end> <end> <end> <end> <end>', 'with with with <end> <end> <end> <end> <end> <end> <end> <end> <end> <end> <end> <end> <end> <end> <end> <end> <end> <end> <end> <end> <end> <end> <end> <end> <end> <end> <end> <end> <end> <end> <end> <end> <end> <end> <end> <end> <end> <end> <end> <end> <end> <end> <end> <end> <end> <end> <end> <end> <end> <end> <end> <end> <end> <end> <end> <end> <end> <end> <end> <end> <end> <end> <end> <end> <end> <end> <end> <end> <end> <end> <end> <end> <end> <end> <end> <end> <end> <end> <end> <end> <end> <end>', '<end> <end> <end> <end> <end> <end> <end> <end> <end> <end> <end> <end> <end> <end> <end> <end> <end> <end> <end> <end> <end> <end> <end> <end> <end> <end> <end> <end> <end> <end> <end> <end> <end> <end> <end> <end> <end> <end> <end> <end> <end> <end> <end> <end> <end> <end> <end> <end> <end> <end> <end> <end> <end> <end> <end> <end> <end> <end> <end> <end> <end> <end> <end> <end> <end> <end> <end> <end> <end> <end> <end> <end> <end> <end> <end> <end> <end> <end> <end> <end> <end> <end> <end> <end> <end>']\n",
            "Loss - 0.2807745337486267\n",
            "Loss - 0.01728847250342369\n",
            "Loss - 0.031975336372852325\n",
            "Current mean 0.11001277714967728\n"
          ]
        },
        {
          "output_type": "stream",
          "name": "stderr",
          "text": [
            "\r 10%|█         | 10/100 [00:23<01:48,  1.21s/it]"
          ]
        },
        {
          "output_type": "stream",
          "name": "stdout",
          "text": [
            "Translated - ['my my my my my my my my my my cake cake cake cake cake cake cake cake cake cake cake cake cake cake cake cake cake cake cake cake cake cake cake cake cake cake cake cake cake cake cake cake cake cake cake cake cake cake cake cake cake cake cake cake cake cake cake cake cake cake cake cake cake cake cake cake cake cake cake cake cake cake cake cake cake cake cake cake cake cake cake cake cake cake cake', 'just just <end> <end> code code code code code code code code code code code code code code code code code code code code code code code code code code code code code code code code code code code code code code code code code code code code code code code code code code code code code code code code code code code code code code code code code code code code code code code code code code code code code code code code code', 'white <end> <end> <end> <end> <end> <end> <end> <end> <end> <end> <end> <end> <end> <end> <end> <end> <end> <end> <end> <end> <end> <end> <end> <end> <end> <end> <end> <end> <end> <end> <end> <end> <end> <end> <end> <end> <end> <end> <end> <end> <end> <end> <end> <end> <end> <end> <end> <end> <end> <end> <end> <end> <end> <end> <end> <end> <end> <end> <end> <end> <end> <end> <end> <end> <end> <end> <end> <end> <end> <end> <end> <end> <end> <end> <end> <end> <end> <end> <end> <end> <end> <end> <end> <end>', 'round <end> <end> <end> <end> <end> <end> <end> <end> <end> <end> <end> <end> <end> <end> <end> <end> <end> <end> <end> <end> <end> <end> <end> <end> <end> <end> <end> <end> <end> <end> <end> <end> <end> <end> <end> <end> <end> <end> <end> <end> <end> <end> <end> <end> <end> <end> <end> <end> <end> <end> <end> <end> <end> <end> <end> <end> <end> <end> <end> <end> <end> <end> <end> <end> <end> <end> <end> <end> <end> <end> <end> <end> <end> <end> <end> <end> <end> <end> <end> <end> <end> <end> <end> <end>', 'with a file file file file file file file a a a a a a a a a a a a a a a a a a a a a a a a a a a a a a a a a a a a a a a a a a a a a a a a a a a a a a a a a a a a a a a a a a a a a a a a a a a a', '<end> <end> <end> <end> <end> <end> <end> <end> <end> <end> <end> <end> <end> <end> <end> <end> <end> <end> <end> <end> <end> <end> <end> <end> <end> <end> <end> <end> <end> <end> <end> <end> <end> <end> <end> <end> <end> <end> <end> <end> <end> <end> <end> <end> <end> <end> <end> <end> <end> <end> <end> <end> <end> <end> <end> <end> <end> <end> <end> <end> <end> <end> <end> <end> <end> <end> <end> <end> <end> <end> <end> <end> <end> <end> <end> <end> <end> <end> <end> <end> <end> <end> <end> <end> <end>']\n",
            "Loss - 0.27586060762405396\n",
            "Loss - 0.015463980846107006\n",
            "Loss - 0.03151938319206238\n",
            "Current mean 0.1076146587729454\n"
          ]
        },
        {
          "output_type": "stream",
          "name": "stderr",
          "text": [
            "\r 11%|█         | 11/100 [00:24<01:44,  1.17s/it]"
          ]
        },
        {
          "output_type": "stream",
          "name": "stdout",
          "text": [
            "Translated - ['my my my my my my my my my my my my my my my my my my my my my my my my my my my my my my my my my my my my my my my my my my my my my my my my my my my my my my my my my my my my my my my my my my my my my my my my my my my my my my my my my my my my my', 'just just how code code code code code code code code code code code code code code code code code code code code code code code code code code code code code code code code code code code code code code code code code code code code code code code code code code code code code code code code code code code code code code code code code code code code code code code code code code code code code code code code code code', 'white <end> <end> <end> <end> <end> <end> <end> <end> <end> <end> <end> <end> <end> <end> <end> <end> <end> <end> <end> <end> <end> <end> <end> <end> <end> <end> <end> <end> <end> <end> <end> <end> <end> <end> <end> <end> <end> <end> <end> <end> <end> <end> <end> <end> <end> <end> <end> <end> <end> <end> <end> <end> <end> <end> <end> <end> <end> <end> <end> <end> <end> <end> <end> <end> <end> <end> <end> <end> <end> <end> <end> <end> <end> <end> <end> <end> <end> <end> <end> <end> <end> <end> <end> <end>', 'round round round <end> <end> <end> <end> <end> <end> <end> <end> <end> <end> <end> <end> <end> <end> <end> <end> <end> <end> <end> <end> <end> <end> <end> <end> <end> <end> <end> <end> <end> <end> <end> <end> <end> <end> <end> <end> <end> <end> <end> <end> <end> <end> <end> <end> <end> <end> <end> <end> <end> <end> <end> <end> <end> <end> <end> <end> <end> <end> <end> <end> <end> <end> <end> <end> <end> <end> <end> <end> <end> <end> <end> <end> <end> <end> <end> <end> <end> <end> <end> <end> <end> <end>', 'with a a a a a a a a a a a a a a a a a a a a a a a a a a a a a a a a a a a a a a a a a a a a a a a a a a a a a a a a a a a a a a a a a a a a a a a a a a a a a a a a a a a a', '<end> <end> <end> <end> <end> <end> <end> <end> <end> <end> <end> <end> <end> <end> <end> <end> <end> <end> <end> <end> <end> <end> <end> <end> <end> <end> <end> <end> <end> <end> <end> <end> <end> <end> <end> <end> <end> <end> <end> <end> <end> <end> <end> <end> <end> <end> <end> <end> <end> <end> <end> <end> <end> <end> <end> <end> <end> <end> <end> <end> <end> <end> <end> <end> <end> <end> <end> <end> <end> <end> <end> <end> <end> <end> <end> <end> <end> <end> <end> <end> <end> <end> <end> <end> <end>']\n",
            "Loss - 0.2711769640445709\n",
            "Loss - 0.014975862577557564\n",
            "Loss - 0.030982818454504013\n",
            "Current mean 0.10571188479661942\n"
          ]
        },
        {
          "output_type": "stream",
          "name": "stderr",
          "text": [
            "\r 12%|█▏        | 12/100 [00:25<01:41,  1.15s/it]"
          ]
        },
        {
          "output_type": "stream",
          "name": "stdout",
          "text": [
            "Translated - ['my my my my my my my my my my my my my my my my my my my my my my my my my my my my my my my my my my my my my my my my my my my my my my my my my my my my my my my my my my my my my my my my my my my my my my my my my my my my my my my my my my my my my', 'just if if if code code code code code code code code code code code code code code code code code code code code code code code code code code code code code code code code code code code code code code code code code code code code code code code code code code code code code code code code code code code code code code code code code code code code code code code code code code code code code code code code code', 'white <end> <end> <end> <end> <end> <end> <end> <end> <end> <end> <end> <end> <end> <end> <end> <end> <end> <end> <end> <end> <end> <end> <end> <end> <end> <end> <end> <end> <end> <end> <end> <end> <end> <end> <end> <end> <end> <end> <end> <end> <end> <end> <end> <end> <end> <end> <end> <end> <end> <end> <end> <end> <end> <end> <end> <end> <end> <end> <end> <end> <end> <end> <end> <end> <end> <end> <end> <end> <end> <end> <end> <end> <end> <end> <end> <end> <end> <end> <end> <end> <end> <end> <end> <end>', 'round <end> <end> <end> <end> <end> <end> <end> <end> <end> <end> <end> <end> <end> <end> <end> <end> <end> <end> <end> <end> <end> <end> <end> <end> <end> <end> <end> <end> <end> <end> <end> <end> <end> <end> <end> <end> <end> <end> <end> <end> <end> <end> <end> <end> <end> <end> <end> <end> <end> <end> <end> <end> <end> <end> <end> <end> <end> <end> <end> <end> <end> <end> <end> <end> <end> <end> <end> <end> <end> <end> <end> <end> <end> <end> <end> <end> <end> <end> <end> <end> <end> <end> <end> <end>', 'with a a a <end> <end> <end> <end> <end> <end> <end> <end> <end> <end> <end> <end> <end> <end> <end> <end> <end> <end> <end> <end> <end> <end> <end> <end> <end> <end> <end> <end> <end> <end> <end> <end> <end> <end> <end> <end> <end> <end> <end> <end> <end> <end> <end> <end> <end> <end> <end> <end> <end> <end> <end> <end> <end> <end> <end> <end> <end> <end> <end> <end> <end> <end> <end> <end> <end> <end> <end> <end> <end> <end> <end> <end> <end> <end> <end> <end> <end> <end> <end> <end> <end>', '<end> <end> <end> <end> <end> <end> <end> <end> <end> <end> <end> <end> <end> <end> <end> <end> <end> <end> <end> <end> <end> <end> <end> <end> <end> <end> <end> <end> <end> <end> <end> <end> <end> <end> <end> <end> <end> <end> <end> <end> <end> <end> <end> <end> <end> <end> <end> <end> <end> <end> <end> <end> <end> <end> <end> <end> <end> <end> <end> <end> <end> <end> <end> <end> <end> <end> <end> <end> <end> <end> <end> <end> <end> <end> <end> <end> <end> <end> <end> <end> <end> <end> <end> <end> <end>']\n",
            "Loss - 0.2677346169948578\n",
            "Loss - 0.014116894453763962\n",
            "Loss - 0.03067685104906559\n",
            "Current mean 0.1041761115193367\n"
          ]
        },
        {
          "output_type": "stream",
          "name": "stderr",
          "text": [
            "\r 13%|█▎        | 13/100 [00:26<01:41,  1.17s/it]"
          ]
        },
        {
          "output_type": "stream",
          "name": "stdout",
          "text": [
            "Translated - ['my my my my my my my my my my my my my my my my my my my my my my my my my my my my my my my my my my my my my my my my my my my my my my my my my my my my my my my my my my my my my my my my my my my my my my my my my my my my my my my my my my my my my', 'just if you you know know code code code code code code code code code code code code code code code code code code code code code code code code code code code code code code code code code code code code code code code code code code code code code code code code code code code code code code code code code code code code code code code code code code code code code code code code code code code code code code code', 'white <end> <end> <end> <end> <end> <end> <end> <end> <end> <end> <end> <end> <end> <end> <end> <end> <end> <end> <end> <end> <end> <end> <end> <end> <end> <end> <end> <end> <end> <end> <end> <end> <end> <end> <end> <end> <end> <end> <end> <end> <end> <end> <end> <end> <end> <end> <end> <end> <end> <end> <end> <end> <end> <end> <end> <end> <end> <end> <end> <end> <end> <end> <end> <end> <end> <end> <end> <end> <end> <end> <end> <end> <end> <end> <end> <end> <end> <end> <end> <end> <end> <end> <end> <end>', 'round <end> <end> <end> <end> <end> <end> <end> <end> <end> <end> <end> <end> <end> <end> <end> <end> <end> <end> <end> <end> <end> <end> <end> <end> <end> <end> <end> <end> <end> <end> <end> <end> <end> <end> <end> <end> <end> <end> <end> <end> <end> <end> <end> <end> <end> <end> <end> <end> <end> <end> <end> <end> <end> <end> <end> <end> <end> <end> <end> <end> <end> <end> <end> <end> <end> <end> <end> <end> <end> <end> <end> <end> <end> <end> <end> <end> <end> <end> <end> <end> <end> <end> <end> <end>', 'with <end> <end> <end> <end> <end> <end> <end> <end> <end> <end> <end> <end> <end> <end> <end> <end> <end> <end> <end> <end> <end> <end> <end> <end> <end> <end> <end> <end> <end> <end> <end> <end> <end> <end> <end> <end> <end> <end> <end> <end> <end> <end> <end> <end> <end> <end> <end> <end> <end> <end> <end> <end> <end> <end> <end> <end> <end> <end> <end> <end> <end> <end> <end> <end> <end> <end> <end> <end> <end> <end> <end> <end> <end> <end> <end> <end> <end> <end> <end> <end> <end> <end> <end> <end>', '<end> <end> <end> <end> <end> <end> <end> <end> <end> <end> <end> <end> <end> <end> <end> <end> <end> <end> <end> <end> <end> <end> <end> <end> <end> <end> <end> <end> <end> <end> <end> <end> <end> <end> <end> <end> <end> <end> <end> <end> <end> <end> <end> <end> <end> <end> <end> <end> <end> <end> <end> <end> <end> <end> <end> <end> <end> <end> <end> <end> <end> <end> <end> <end> <end> <end> <end> <end> <end> <end> <end> <end> <end> <end> <end> <end> <end> <end> <end> <end> <end> <end> <end> <end> <end>']\n",
            "Loss - 0.26416856050491333\n",
            "Loss - 0.013462779112160206\n",
            "Loss - 0.029931865632534027\n",
            "Current mean 0.10252106934785843\n"
          ]
        },
        {
          "output_type": "stream",
          "name": "stderr",
          "text": [
            "\r 14%|█▍        | 14/100 [00:27<01:39,  1.16s/it]"
          ]
        },
        {
          "output_type": "stream",
          "name": "stdout",
          "text": [
            "Translated - ['my my my my my my my my my my my my my my my my my my my my my my my my my my my my my my my my my my my my my my my my my my my my my my my my my my my my my my my my my my my my my my my my my my my my my my my my my my my my my my my my my my my my my', 'just just just design code code code code code code code code code code code code code code code code code code code code code code code code code code code code code code code code code code code code code code code code code code code code code code code code code code code code code code code code code code code code code code code code code code code code code code code code code code code code code code code code code', 'white <end> <end> <end> <end> <end> <end> <end> <end> <end> <end> <end> <end> <end> <end> <end> <end> <end> <end> <end> <end> <end> <end> <end> <end> <end> <end> <end> <end> <end> <end> <end> <end> <end> <end> <end> <end> <end> <end> <end> <end> <end> <end> <end> <end> <end> <end> <end> <end> <end> <end> <end> <end> <end> <end> <end> <end> <end> <end> <end> <end> <end> <end> <end> <end> <end> <end> <end> <end> <end> <end> <end> <end> <end> <end> <end> <end> <end> <end> <end> <end> <end> <end> <end> <end>', 'round <end> <end> <end> <end> <end> <end> <end> <end> <end> <end> <end> <end> <end> <end> <end> <end> <end> <end> <end> <end> <end> <end> <end> <end> <end> <end> <end> <end> <end> <end> <end> <end> <end> <end> <end> <end> <end> <end> <end> <end> <end> <end> <end> <end> <end> <end> <end> <end> <end> <end> <end> <end> <end> <end> <end> <end> <end> <end> <end> <end> <end> <end> <end> <end> <end> <end> <end> <end> <end> <end> <end> <end> <end> <end> <end> <end> <end> <end> <end> <end> <end> <end> <end> <end>', 'with a a <end> <end> <end> <end> <end> <end> <end> <end> <end> <end> <end> <end> <end> <end> <end> <end> <end> <end> <end> <end> <end> <end> <end> <end> <end> <end> <end> <end> <end> <end> <end> <end> <end> <end> <end> <end> <end> <end> <end> <end> <end> <end> <end> <end> <end> <end> <end> <end> <end> <end> <end> <end> <end> <end> <end> <end> <end> <end> <end> <end> <end> <end> <end> <end> <end> <end> <end> <end> <end> <end> <end> <end> <end> <end> <end> <end> <end> <end> <end> <end> <end> <end>', '<end> <end> <end> <end> <end> <end> <end> <end> <end> <end> <end> <end> <end> <end> <end> <end> <end> <end> <end> <end> <end> <end> <end> <end> <end> <end> <end> <end> <end> <end> <end> <end> <end> <end> <end> <end> <end> <end> <end> <end> <end> <end> <end> <end> <end> <end> <end> <end> <end> <end> <end> <end> <end> <end> <end> <end> <end> <end> <end> <end> <end> <end> <end> <end> <end> <end> <end> <end> <end> <end> <end> <end> <end> <end> <end> <end> <end> <end> <end> <end> <end> <end> <end> <end> <end>']\n",
            "Loss - 0.26052823662757874\n",
            "Loss - 0.01309935376048088\n",
            "Loss - 0.02966063842177391\n",
            "Current mean 0.10109607130289078\n"
          ]
        },
        {
          "output_type": "stream",
          "name": "stderr",
          "text": [
            "\r 15%|█▌        | 15/100 [00:28<01:37,  1.15s/it]"
          ]
        },
        {
          "output_type": "stream",
          "name": "stdout",
          "text": [
            "Translated - ['my my my my my my my my my my my cake my cake cake cake cake cake cake cake cake cake cake cake cake cake cake cake cake cake cake cake cake cake cake cake cake cake cake cake cake cake cake cake cake cake cake cake cake cake cake cake cake cake cake cake cake cake cake cake cake cake cake cake cake cake cake cake cake cake cake cake cake cake cake cake cake cake cake cake cake cake cake cake cake', \"just just you don't code code code code code code code code code code code code code code code code code code code code code code code code code code code code code code code code code code code code code code code code code code code code code code code code code code code code code code code code code code code code code code code code code code code code code code code code code code code code code code code code code\", 'white <end> <end> <end> <end> <end> <end> <end> <end> <end> <end> <end> <end> <end> <end> <end> <end> <end> <end> <end> <end> <end> <end> <end> <end> <end> <end> <end> <end> <end> <end> <end> <end> <end> <end> <end> <end> <end> <end> <end> <end> <end> <end> <end> <end> <end> <end> <end> <end> <end> <end> <end> <end> <end> <end> <end> <end> <end> <end> <end> <end> <end> <end> <end> <end> <end> <end> <end> <end> <end> <end> <end> <end> <end> <end> <end> <end> <end> <end> <end> <end> <end> <end> <end> <end>', 'round <end> <end> <end> <end> <end> <end> <end> <end> <end> <end> <end> <end> <end> <end> <end> <end> <end> <end> <end> <end> <end> <end> <end> <end> <end> <end> <end> <end> <end> <end> <end> <end> <end> <end> <end> <end> <end> <end> <end> <end> <end> <end> <end> <end> <end> <end> <end> <end> <end> <end> <end> <end> <end> <end> <end> <end> <end> <end> <end> <end> <end> <end> <end> <end> <end> <end> <end> <end> <end> <end> <end> <end> <end> <end> <end> <end> <end> <end> <end> <end> <end> <end> <end> <end>', 'with file file file file file file file file file file file file file file file file file file file file file file file file file file file file file file file file file file file file file file file file file file file file file file file file file file file file file file file file file file file file file file file file file file file file file file file file file file file file file file file file file file file file', '<end> <end> <end> <end> <end> <end> <end> <end> <end> <end> <end> <end> <end> <end> <end> <end> <end> <end> <end> <end> <end> <end> <end> <end> <end> <end> <end> <end> <end> <end> <end> <end> <end> <end> <end> <end> <end> <end> <end> <end> <end> <end> <end> <end> <end> <end> <end> <end> <end> <end> <end> <end> <end> <end> <end> <end> <end> <end> <end> <end> <end> <end> <end> <end> <end> <end> <end> <end> <end> <end> <end> <end> <end> <end> <end> <end> <end> <end> <end> <end> <end> <end> <end> <end> <end>']\n",
            "Loss - 0.2577289342880249\n",
            "Loss - 0.012454458512365818\n",
            "Loss - 0.02920660562813282\n",
            "Current mean 0.09979666024446487\n"
          ]
        },
        {
          "output_type": "stream",
          "name": "stderr",
          "text": [
            "\r 16%|█▌        | 16/100 [00:29<01:35,  1.13s/it]"
          ]
        },
        {
          "output_type": "stream",
          "name": "stdout",
          "text": [
            "Translated - ['my my my my my my my my my my my my my my my my my my my my my my my my my my my my my my my my my my my my my my my my my my my my my my my my my my my my my my my my my my my my my my my my my my my my my my my my my my my my my my my my my my my my my', 'just if if if how how code code code code code code code code code code code code code code code code code code code code code code code code code code code code code code code code code code code code code code code code code code code code code code code code code code code code code code code code code code code code code code code code code code code code code code code code code code code code code code code', 'white <end> <end> <end> <end> <end> <end> <end> <end> <end> <end> <end> <end> <end> <end> <end> <end> <end> <end> <end> <end> <end> <end> <end> <end> <end> <end> <end> <end> <end> <end> <end> <end> <end> <end> <end> <end> <end> <end> <end> <end> <end> <end> <end> <end> <end> <end> <end> <end> <end> <end> <end> <end> <end> <end> <end> <end> <end> <end> <end> <end> <end> <end> <end> <end> <end> <end> <end> <end> <end> <end> <end> <end> <end> <end> <end> <end> <end> <end> <end> <end> <end> <end> <end> <end>', 'round <end> <end> <end> <end> <end> <end> <end> <end> <end> <end> <end> <end> <end> <end> <end> <end> <end> <end> <end> <end> <end> <end> <end> <end> <end> <end> <end> <end> <end> <end> <end> <end> <end> <end> <end> <end> <end> <end> <end> <end> <end> <end> <end> <end> <end> <end> <end> <end> <end> <end> <end> <end> <end> <end> <end> <end> <end> <end> <end> <end> <end> <end> <end> <end> <end> <end> <end> <end> <end> <end> <end> <end> <end> <end> <end> <end> <end> <end> <end> <end> <end> <end> <end> <end>', 'with file file file <end> <end> <end> <end> <end> <end> <end> file file file file file file file file file file file file file file file file file file file file file file file file file file file file file file file file file file file file file file file file file file file file file file file file file file file file file file file file file file file file file file file file file file file file file file file file file file', '<end> <end> <end> <end> <end> <end> <end> <end> <end> <end> <end> <end> <end> <end> <end> <end> <end> <end> <end> <end> <end> <end> <end> <end> <end> <end> <end> <end> <end> <end> <end> <end> <end> <end> <end> <end> <end> <end> <end> <end> <end> <end> <end> <end> <end> <end> <end> <end> <end> <end> <end> <end> <end> <end> <end> <end> <end> <end> <end> <end> <end> <end> <end> <end> <end> <end> <end> <end> <end> <end> <end> <end> <end> <end> <end> <end> <end> <end> <end> <end> <end> <end> <end> <end> <end>']\n",
            "Loss - 0.25403472781181335\n",
            "Loss - 0.01219851803034544\n",
            "Loss - 0.028736043721437454\n",
            "Current mean 0.09832309931516647\n"
          ]
        },
        {
          "output_type": "stream",
          "name": "stderr",
          "text": [
            "\r 17%|█▋        | 17/100 [00:30<01:33,  1.13s/it]"
          ]
        },
        {
          "output_type": "stream",
          "name": "stdout",
          "text": [
            "Translated - ['my my my my my my my my my my my my my my my my my my my my my my my my my my my my my my my my my my my my my my my my my my my my my my my my my my my my my my my my my my my my my my my my my my my my my my my my my my my my my my my my my my my my my', 'just if you <end> <end> <end> <end> <end> <end> <end> <end> <end> <end> <end> <end> <end> <end> <end> <end> <end> <end> <end> <end> <end> <end> <end> <end> <end> <end> <end> <end> <end> <end> <end> <end> <end> <end> <end> <end> <end> <end> <end> <end> <end> <end> <end> <end> <end> <end> <end> <end> <end> <end> <end> <end> <end> <end> <end> <end> <end> <end> <end> <end> <end> <end> <end> <end> <end> <end> <end> <end> <end> <end> <end> <end> <end> <end> <end> <end> <end> <end> <end> <end> <end> <end>', 'white <end> <end> <end> <end> <end> <end> <end> <end> <end> <end> <end> <end> <end> <end> <end> <end> <end> <end> <end> <end> <end> <end> <end> <end> <end> <end> <end> <end> <end> <end> <end> <end> <end> <end> <end> <end> <end> <end> <end> <end> <end> <end> <end> <end> <end> <end> <end> <end> <end> <end> <end> <end> <end> <end> <end> <end> <end> <end> <end> <end> <end> <end> <end> <end> <end> <end> <end> <end> <end> <end> <end> <end> <end> <end> <end> <end> <end> <end> <end> <end> <end> <end> <end> <end>', 'round <end> <end> <end> <end> <end> <end> <end> <end> <end> <end> <end> <end> <end> <end> <end> <end> <end> <end> <end> <end> <end> <end> <end> <end> <end> <end> <end> <end> <end> <end> <end> <end> <end> <end> <end> <end> <end> <end> <end> <end> <end> <end> <end> <end> <end> <end> <end> <end> <end> <end> <end> <end> <end> <end> <end> <end> <end> <end> <end> <end> <end> <end> <end> <end> <end> <end> <end> <end> <end> <end> <end> <end> <end> <end> <end> <end> <end> <end> <end> <end> <end> <end> <end> <end>', 'with <end> <end> <end> <end> <end> <end> <end> <end> <end> <end> <end> <end> <end> <end> <end> <end> <end> <end> <end> <end> <end> <end> <end> <end> <end> <end> <end> <end> <end> <end> <end> <end> <end> <end> <end> <end> <end> <end> <end> <end> <end> <end> <end> <end> <end> <end> <end> <end> <end> <end> <end> <end> <end> <end> <end> <end> <end> <end> <end> <end> <end> <end> <end> <end> <end> <end> <end> <end> <end> <end> <end> <end> <end> <end> <end> <end> <end> <end> <end> <end> <end> <end> <end> <end>', '<end> <end> <end> <end> <end> <end> <end> <end> <end> <end> <end> <end> <end> <end> <end> <end> <end> <end> <end> <end> <end> <end> <end> <end> <end> <end> <end> <end> <end> <end> <end> <end> <end> <end> <end> <end> <end> <end> <end> <end> <end> <end> <end> <end> <end> <end> <end> <end> <end> <end> <end> <end> <end> <end> <end> <end> <end> <end> <end> <end> <end> <end> <end> <end> <end> <end> <end> <end> <end> <end> <end> <end> <end> <end> <end> <end> <end> <end> <end> <end> <end> <end> <end> <end> <end>']\n",
            "Loss - 0.2509327828884125\n",
            "Loss - 0.011644075624644756\n",
            "Loss - 0.02839832566678524\n",
            "Current mean 0.09699172526597977\n"
          ]
        },
        {
          "output_type": "stream",
          "name": "stderr",
          "text": [
            "\r 18%|█▊        | 18/100 [00:32<01:30,  1.11s/it]"
          ]
        },
        {
          "output_type": "stream",
          "name": "stdout",
          "text": [
            "Translated - ['my my my my my my my my my my my my my my my my my my my my my my my my my my my my my my my my my my my my my my my my my my my my my my my my my my my my my my my my my my my my my my my my my my my my my my my my my my my my my my my my my my my my my', 'just if if if if if how code code code code code code code code code code code code code code code code code code code code code code code code code code code code code code code code code code code code code code code code code code code code code code code code code code code code code code code code code code code code code code code code code code code code code code code code code code code code code code', 'white <end> <end> <end> <end> <end> <end> <end> <end> <end> <end> <end> <end> <end> <end> <end> <end> <end> <end> <end> <end> <end> <end> <end> <end> <end> <end> <end> <end> <end> <end> <end> <end> <end> <end> <end> <end> <end> <end> <end> <end> <end> <end> <end> <end> <end> <end> <end> <end> <end> <end> <end> <end> <end> <end> <end> <end> <end> <end> <end> <end> <end> <end> <end> <end> <end> <end> <end> <end> <end> <end> <end> <end> <end> <end> <end> <end> <end> <end> <end> <end> <end> <end> <end> <end>', 'round <end> <end> <end> <end> <end> <end> <end> <end> <end> <end> <end> <end> <end> <end> <end> <end> <end> <end> <end> <end> <end> <end> <end> <end> <end> <end> <end> <end> <end> <end> <end> <end> <end> <end> <end> <end> <end> <end> <end> <end> <end> <end> <end> <end> <end> <end> <end> <end> <end> <end> <end> <end> <end> <end> <end> <end> <end> <end> <end> <end> <end> <end> <end> <end> <end> <end> <end> <end> <end> <end> <end> <end> <end> <end> <end> <end> <end> <end> <end> <end> <end> <end> <end> <end>', 'with a <end> <end> <end> <end> <end> <end> <end> <end> <end> <end> <end> <end> <end> <end> <end> <end> <end> <end> <end> <end> <end> <end> <end> <end> <end> <end> <end> <end> <end> <end> <end> <end> <end> <end> <end> <end> <end> <end> <end> <end> <end> <end> <end> <end> <end> <end> <end> <end> <end> <end> <end> <end> <end> <end> <end> <end> <end> <end> <end> <end> <end> <end> <end> <end> <end> <end> <end> <end> <end> <end> <end> <end> <end> <end> <end> <end> <end> <end> <end> <end> <end> <end> <end>', '<end> <end> <end> <end> <end> <end> <end> <end> <end> <end> <end> <end> <end> <end> <end> <end> <end> <end> <end> <end> <end> <end> <end> <end> <end> <end> <end> <end> <end> <end> <end> <end> <end> <end> <end> <end> <end> <end> <end> <end> <end> <end> <end> <end> <end> <end> <end> <end> <end> <end> <end> <end> <end> <end> <end> <end> <end> <end> <end> <end> <end> <end> <end> <end> <end> <end> <end> <end> <end> <end> <end> <end> <end> <end> <end> <end> <end> <end> <end> <end> <end> <end> <end> <end> <end>']\n",
            "Loss - 0.25102856755256653\n",
            "Loss - 0.01124824769794941\n",
            "Loss - 0.02806270681321621\n",
            "Current mean 0.09677984565496445\n"
          ]
        },
        {
          "output_type": "stream",
          "name": "stderr",
          "text": [
            "\r 19%|█▉        | 19/100 [00:32<01:18,  1.03it/s]"
          ]
        },
        {
          "output_type": "stream",
          "name": "stdout",
          "text": [
            "Translated - ['my my my my my my my my my <end>', '<end> <end> <end> <end> <end> <end> <end> <end> <end> <end>', 'white <end> <end> <end> <end> <end> <end> <end> <end> <end>', 'round <end> <end> <end> <end> <end> <end> <end> <end> <end>', 'with a a <end> <end> <end> <end> <end> <end> <end>', '<end> <end> <end> <end> <end> <end> <end> <end> <end> <end>']\n",
            "Loss - 0.27308008074760437\n",
            "Loss - 0.01087908260524273\n",
            "Loss - 0.02774979919195175\n",
            "Current mean 0.10390298813581467\n"
          ]
        },
        {
          "output_type": "stream",
          "name": "stderr",
          "text": [
            "\r 20%|██        | 20/100 [00:33<01:18,  1.01it/s]"
          ]
        },
        {
          "output_type": "stream",
          "name": "stdout",
          "text": [
            "Translated - ['my my my my my my my my my my my my my my my my my my my my my my my my my my my my my my my my my my my my my my my my my my my my my my my my my my my my my my my my my my my my my my my my my my my my my my my my my my my my my my my my my my my my my', 'just just just to to to to to to to to to to to to to to to to to to to to to to to to to to to to to to to to to to to to to to to to to to to to to to to to to to to to to to to to to to to to to to to to to to to to to to to to to to to to to to to to to to', 'white <end> <end> <end> <end> <end> <end> <end> <end> <end> <end> <end> <end> <end> <end> <end> <end> <end> <end> <end> <end> <end> <end> <end> <end> <end> <end> <end> <end> <end> <end> <end> <end> <end> <end> <end> <end> <end> <end> <end> <end> <end> <end> <end> <end> <end> <end> <end> <end> <end> <end> <end> <end> <end> <end> <end> <end> <end> <end> <end> <end> <end> <end> <end> <end> <end> <end> <end> <end> <end> <end> <end> <end> <end> <end> <end> <end> <end> <end> <end> <end> <end> <end> <end> <end>', 'round <end> <end> <end> <end> <end> <end> <end> <end> <end> <end> <end> <end> <end> <end> <end> <end> <end> <end> <end> <end> <end> <end> <end> <end> <end> <end> <end> <end> <end> <end> <end> <end> <end> <end> <end> <end> <end> <end> <end> <end> <end> <end> <end> <end> <end> <end> <end> <end> <end> <end> <end> <end> <end> <end> <end> <end> <end> <end> <end> <end> <end> <end> <end> <end> <end> <end> <end> <end> <end> <end> <end> <end> <end> <end> <end> <end> <end> <end> <end> <end> <end> <end> <end> <end>', 'with a file <end> <end> <end> <end> <end> <end> <end> <end> <end> <end> <end> <end> <end> <end> <end> <end> <end> <end> <end> <end> <end> <end> <end> <end> <end> <end> <end> <end> <end> <end> a a a a a a a a a a a a a a a a a a a a a a a a a a a a a a a a a a a a a a a a a a a a a a a a a a a a', '<end> <end> <end> <end> <end> <end> <end> <end> <end> <end> <end> <end> <end> <end> <end> <end> <end> <end> <end> <end> <end> <end> <end> <end> <end> <end> <end> <end> <end> <end> <end> <end> <end> <end> <end> <end> <end> <end> <end> <end> <end> <end> <end> <end> <end> <end> <end> <end> <end> <end> <end> <end> <end> <end> <end> <end> <end> <end> <end> <end> <end> <end> <end> <end> <end> <end> <end> <end> <end> <end> <end> <end> <end> <end> <end> <end> <end> <end> <end> <end> <end> <end> <end> <end> <end>']\n",
            "Loss - 0.24985717236995697\n",
            "Loss - 0.011420177295804024\n",
            "Loss - 0.02734929881989956\n",
            "Current mean 0.09620887786149979\n"
          ]
        },
        {
          "output_type": "stream",
          "name": "stderr",
          "text": [
            "\r 21%|██        | 21/100 [00:34<01:21,  1.03s/it]"
          ]
        },
        {
          "output_type": "stream",
          "name": "stdout",
          "text": [
            "Translated - ['my file file file file file file a a <end> <end> <end> <end> <end> <end> <end> <end> <end> <end> <end> <end> <end> <end> <end> <end> <end> <end> <end> <end> <end> <end> <end> <end> <end> <end> <end> <end> <end> <end> <end> <end> <end> <end> <end> <end> <end> <end> <end> <end> <end> <end> <end> <end> <end> <end> <end> <end> <end> <end> <end> <end> <end> <end> <end> <end> <end> <end> <end> <end> <end> <end> <end> <end> <end> <end> <end> <end> <end> <end> <end> <end> <end> <end> <end> <end>', 'just just if if know know know know know know code code code code code code code code code code code code code code code code code code code code code code code code code code code code code code code code code code code code code code code code code code code code code code code code code code code code code code code code code code code code code code code code code code code code code code code code code code code', 'white <end> <end> <end> <end> <end> <end> <end> <end> <end> <end> <end> <end> <end> <end> <end> <end> <end> <end> <end> <end> <end> <end> <end> <end> <end> <end> <end> <end> <end> <end> <end> <end> <end> <end> <end> <end> <end> <end> <end> <end> <end> <end> <end> <end> <end> <end> <end> <end> <end> <end> <end> <end> <end> <end> <end> <end> <end> <end> <end> <end> <end> <end> <end> <end> <end> <end> <end> <end> <end> <end> <end> <end> <end> <end> <end> <end> <end> <end> <end> <end> <end> <end> <end> <end>', 'round <end> <end> <end> <end> <end> <end> <end> <end> <end> <end> <end> <end> <end> <end> <end> <end> <end> <end> <end> <end> <end> <end> <end> <end> <end> <end> <end> <end> <end> <end> <end> <end> <end> <end> <end> <end> <end> <end> <end> <end> <end> <end> <end> <end> <end> <end> <end> <end> <end> <end> <end> <end> <end> <end> <end> <end> <end> <end> <end> <end> <end> <end> <end> <end> <end> <end> <end> <end> <end> <end> <end> <end> <end> <end> <end> <end> <end> <end> <end> <end> <end> <end> <end> <end>', 'with file file <end> <end> <end> <end> <end> <end> <end> <end> <end> <end> <end> <end> <end> <end> <end> <end> <end> <end> <end> <end> <end> <end> <end> <end> <end> <end> <end> <end> <end> <end> <end> <end> <end> <end> <end> <end> <end> <end> file <end> file file file file file file file file file file file file file file file file file file file file file file file file file file file file file file file file file file file file file file file file file file', '<end> <end> <end> <end> <end> <end> <end> <end> <end> <end> <end> <end> <end> <end> <end> <end> <end> <end> <end> <end> <end> <end> <end> <end> <end> <end> <end> <end> <end> <end> <end> <end> <end> <end> <end> <end> <end> <end> <end> <end> <end> <end> <end> <end> <end> <end> <end> <end> <end> <end> <end> <end> <end> <end> <end> <end> <end> <end> <end> <end> <end> <end> <end> <end> <end> <end> <end> <end> <end> <end> <end> <end> <end> <end> <end> <end> <end> <end> <end> <end> <end> <end> <end> <end> <end>']\n",
            "Loss - 0.2465084344148636\n",
            "Loss - 0.011248837225139141\n",
            "Loss - 0.027051834389567375\n",
            "Current mean 0.09493637084960938\n"
          ]
        },
        {
          "output_type": "stream",
          "name": "stderr",
          "text": [
            "\r 22%|██▏       | 22/100 [00:35<01:19,  1.02s/it]"
          ]
        },
        {
          "output_type": "stream",
          "name": "stdout",
          "text": [
            "Translated - ['my my my my my my my my my my my my my my my my my my my my my my my my my my my my my my my my my my my my my my my my my my my my my my my my my my my my my my my my my my my my my my my my my my my my my my my my my my my my my my my my my my my my my', 'just if know know know know code code code code code code code code code code code code code code code code code code code code code code code code code code code code code code code code code code code code code code code code code code code code code code code code code code code code code code code code code code code code code code code code code code code code code code code code code code code code code code code', 'white <end> <end> <end> <end> <end> <end> <end> <end> <end> <end> <end> <end> <end> <end> <end> <end> <end> <end> <end> <end> <end> <end> <end> <end> <end> <end> <end> <end> <end> <end> <end> <end> <end> <end> <end> <end> <end> <end> <end> <end> <end> <end> <end> <end> <end> <end> <end> <end> <end> <end> <end> <end> <end> <end> <end> <end> <end> <end> <end> <end> <end> <end> <end> <end> <end> <end> <end> <end> <end> <end> <end> <end> <end> <end> <end> <end> <end> <end> <end> <end> <end> <end> <end> <end>', 'round <end> <end> <end> <end> <end> <end> <end> <end> <end> <end> <end> <end> <end> <end> <end> <end> <end> <end> <end> <end> <end> <end> <end> <end> <end> <end> <end> <end> <end> <end> <end> <end> <end> <end> <end> <end> <end> <end> <end> <end> <end> <end> <end> <end> <end> <end> <end> <end> <end> <end> <end> <end> <end> <end> <end> <end> <end> <end> <end> <end> <end> <end> <end> <end> <end> <end> <end> <end> <end> <end> <end> <end> <end> <end> <end> <end> <end> <end> <end> <end> <end> <end> <end> <end>', 'with <end> <end> <end> <end> <end> <end> <end> <end> <end> <end> <end> <end> <end> <end> <end> <end> <end> <end> <end> <end> <end> <end> <end> <end> <end> <end> <end> <end> <end> <end> <end> <end> <end> <end> <end> <end> <end> <end> <end> <end> <end> <end> <end> <end> <end> <end> <end> <end> <end> <end> <end> <end> <end> <end> <end> <end> <end> <end> <end> <end> <end> <end> <end> <end> <end> <end> <end> <end> <end> <end> <end> <end> <end> <end> <end> <end> <end> <end> <end> <end> <end> <end> <end> <end>', '<end> <end> <end> <end> <end> <end> <end> <end> <end> <end> <end> <end> <end> <end> <end> <end> <end> <end> <end> <end> <end> <end> <end> <end> <end> <end> <end> <end> <end> <end> <end> <end> <end> <end> <end> <end> <end> <end> <end> <end> <end> <end> <end> <end> <end> <end> <end> <end> <end> <end> <end> <end> <end> <end> <end> <end> <end> <end> <end> <end> <end> <end> <end> <end> <end> <end> <end> <end> <end> <end> <end> <end> <end> <end> <end> <end> <end> <end> <end> <end> <end> <end> <end> <end> <end>']\n",
            "Loss - 0.2434956282377243\n",
            "Loss - 0.010261128656566143\n",
            "Loss - 0.026515699923038483\n",
            "Current mean 0.09342414885759354\n"
          ]
        },
        {
          "output_type": "stream",
          "name": "stderr",
          "text": [
            "\r 23%|██▎       | 23/100 [00:36<01:08,  1.13it/s]"
          ]
        },
        {
          "output_type": "stream",
          "name": "stdout",
          "text": [
            "Translated - ['my file file file file file birthday birthday <end>', 'if if if <end> <end> <end> <end> <end> <end>', 'white <end> <end> <end> <end> <end> <end> <end> <end>', 'round <end> <end> <end> <end> <end> <end> <end> <end>', 'with a file file <end> <end> <end> <end> <end>', '<end> <end> <end> <end> <end> <end> <end> <end> <end>']\n",
            "Loss - 0.23921571671962738\n",
            "Loss - 0.010259302332997322\n",
            "Loss - 0.026175634935498238\n",
            "Current mean 0.09188354760408401\n"
          ]
        },
        {
          "output_type": "stream",
          "name": "stderr",
          "text": [
            "\r 24%|██▍       | 24/100 [00:36<00:59,  1.28it/s]"
          ]
        },
        {
          "output_type": "stream",
          "name": "stdout",
          "text": [
            "Translated - ['my my my my my my my my <end> <end> <end>', 'if if if how how how how how how how <end>', 'white <end> <end> <end> <end> <end> <end> <end> <end> <end> <end>', 'round <end> <end> <end> <end> <end> <end> <end> <end> <end> <end>', 'with a a <end> <end> <end> <end> <end> <end> <end> <end>', '<end> <end> <end> <end> <end> <end> <end> <end> <end> <end> <end>']\n",
            "Loss - 0.23098623752593994\n",
            "Loss - 0.009161440655589104\n",
            "Loss - 0.025953730568289757\n",
            "Current mean 0.08870047330856323\n"
          ]
        },
        {
          "output_type": "stream",
          "name": "stderr",
          "text": [
            "\r 25%|██▌       | 25/100 [00:37<01:03,  1.17it/s]"
          ]
        },
        {
          "output_type": "stream",
          "name": "stdout",
          "text": [
            "Translated - ['my my my my my my my my my my my my my my my my my my my my my my my my my my my my my my my my my my my my my my my my my my my my my my my my my my my my my my my my my my my my my my my my my my my my my my my my my my my my my my my my my my my my my', 'just if if you to code code code code code code code code code code code code code code code code code code code code code code code code code code code code code code code code code code code code code code code code code code code code code code code code code code code code code code code code code code code code code code code code code code code code code code code code code code code code code code code code', 'white <end> <end> <end> <end> <end> <end> <end> <end> <end> <end> <end> <end> <end> <end> <end> <end> <end> <end> <end> <end> <end> <end> <end> <end> <end> <end> <end> <end> <end> <end> <end> <end> <end> <end> <end> <end> <end> <end> <end> <end> <end> <end> <end> <end> <end> <end> <end> <end> <end> <end> <end> <end> <end> <end> <end> <end> <end> <end> <end> <end> <end> <end> <end> <end> <end> <end> <end> <end> <end> <end> <end> <end> <end> <end> <end> <end> <end> <end> <end> <end> <end> <end> <end> <end>', 'round <end> <end> <end> <end> <end> <end> <end> <end> <end> <end> <end> <end> <end> <end> <end> <end> <end> <end> <end> <end> <end> <end> <end> <end> <end> <end> <end> <end> <end> <end> <end> <end> <end> <end> <end> <end> <end> <end> <end> <end> <end> <end> <end> <end> <end> <end> <end> <end> <end> <end> <end> <end> <end> <end> <end> <end> <end> <end> <end> <end> <end> <end> <end> <end> <end> <end> <end> <end> <end> <end> <end> <end> <end> <end> <end> <end> <end> <end> <end> <end> <end> <end> <end> <end>', 'with a <end> <end> <end> <end> <end> <end> <end> <end> <end> <end> <end> <end> <end> <end> <end> <end> <end> <end> <end> <end> <end> <end> <end> <end> <end> <end> <end> <end> <end> <end> <end> <end> <end> <end> <end> <end> <end> <end> <end> <end> <end> <end> <end> <end> <end> <end> <end> <end> <end> <end> <end> <end> <end> <end> <end> <end> <end> <end> <end> <end> <end> <end> <end> <end> <end> <end> <end> <end> <end> <end> <end> <end> <end> <end> <end> <end> <end> <end> <end> <end> <end> <end> <end>', '<end> <end> <end> <end> <end> <end> <end> <end> <end> <end> <end> <end> <end> <end> <end> <end> <end> <end> <end> <end> <end> <end> <end> <end> <end> <end> <end> <end> <end> <end> <end> <end> <end> <end> <end> <end> <end> <end> <end> <end> <end> <end> <end> <end> <end> <end> <end> <end> <end> <end> <end> <end> <end> <end> <end> <end> <end> <end> <end> <end> <end> <end> <end> <end> <end> <end> <end> <end> <end> <end> <end> <end> <end> <end> <end> <end> <end> <end> <end> <end> <end> <end> <end> <end> <end>']\n",
            "Loss - 0.22645725309848785\n",
            "Loss - 0.009082620963454247\n",
            "Loss - 0.02540970966219902\n",
            "Current mean 0.08698319643735886\n"
          ]
        },
        {
          "output_type": "stream",
          "name": "stderr",
          "text": [
            "\r 26%|██▌       | 26/100 [00:39<01:08,  1.09it/s]"
          ]
        },
        {
          "output_type": "stream",
          "name": "stdout",
          "text": [
            "Translated - ['my my my my my my a <end> <end> <end> <end> <end> <end> <end> <end> <end> <end> <end> <end> <end> <end> <end> <end> <end> <end> <end> <end> <end> <end> <end> <end> <end> <end> <end> <end> <end> <end> <end> <end> <end> <end> <end> <end> <end> <end> <end> <end> <end> <end> <end> <end> <end> <end> <end> <end> <end> <end> <end> <end> <end> <end> <end> <end> <end> <end> <end> <end> <end> <end> <end> <end> <end> <end> <end> <end> <end> <end> <end> <end> <end> <end> <end> <end> <end> <end>', 'just just you you to to to code code code code code code code code code code code code code code code code code code code code code code code code code code code code code code code code code code code code code code code code code code code code code code code code code code code code code code code code code code code code code code code code code code code code code code code code code code code code code code', 'white <end> <end> <end> <end> <end> <end> <end> <end> <end> <end> <end> <end> <end> <end> <end> <end> <end> <end> <end> <end> <end> <end> <end> <end> <end> <end> <end> <end> <end> <end> <end> <end> <end> <end> <end> <end> <end> <end> <end> <end> <end> <end> <end> <end> <end> <end> <end> <end> <end> <end> <end> <end> <end> <end> <end> <end> <end> <end> <end> <end> <end> <end> <end> <end> <end> <end> <end> <end> <end> <end> <end> <end> <end> <end> <end> <end> <end> <end> <end> <end> <end> <end> <end> <end>', 'round <end> <end> <end> <end> <end> <end> <end> <end> <end> <end> <end> <end> <end> <end> <end> <end> <end> <end> <end> <end> <end> <end> <end> <end> <end> <end> <end> <end> <end> <end> <end> <end> <end> <end> <end> <end> <end> <end> <end> <end> <end> <end> <end> <end> <end> <end> <end> <end> <end> <end> <end> <end> <end> <end> <end> <end> <end> <end> <end> <end> <end> <end> <end> <end> <end> <end> <end> <end> <end> <end> <end> <end> <end> <end> <end> <end> <end> <end> <end> <end> <end> <end> <end> <end>', 'with a file <end> <end> <end> <end> <end> <end> <end> <end> <end> <end> <end> <end> <end> <end> <end> <end> <end> <end> <end> <end> <end> <end> <end> <end> <end> <end> <end> <end> <end> <end> <end> <end> <end> <end> <end> <end> <end> <end> <end> <end> <end> <end> <end> <end> <end> <end> <end> <end> <end> <end> <end> <end> <end> <end> <end> <end> <end> <end> <end> <end> <end> <end> <end> <end> <end> <end> <end> <end> <end> <end> <end> <end> <end> <end> <end> <end> <end> <end> <end> <end> <end> <end>', '<end> <end> <end> <end> <end> <end> <end> <end> <end> <end> <end> <end> <end> <end> <end> <end> <end> <end> <end> <end> <end> <end> <end> <end> <end> <end> <end> <end> <end> <end> <end> <end> <end> <end> <end> <end> <end> <end> <end> <end> <end> <end> <end> <end> <end> <end> <end> <end> <end> <end> <end> <end> <end> <end> <end> <end> <end> <end> <end> <end> <end> <end> <end> <end> <end> <end> <end> <end> <end> <end> <end> <end> <end> <end> <end> <end> <end> <end> <end> <end> <end> <end> <end> <end> <end>']\n",
            "Loss - 0.22230121493339539\n",
            "Loss - 0.008436847478151321\n",
            "Loss - 0.024891356006264687\n",
            "Current mean 0.08520980924367905\n"
          ]
        },
        {
          "output_type": "stream",
          "name": "stderr",
          "text": [
            "\r 27%|██▋       | 27/100 [00:40<01:09,  1.04it/s]"
          ]
        },
        {
          "output_type": "stream",
          "name": "stdout",
          "text": [
            "Translated - ['my my my my my my my my <end> <end> <end> <end> <end> <end> <end> <end> <end> <end> <end> <end> <end> <end> <end> <end> <end> <end> <end> <end> <end> <end> <end> <end> <end> <end> <end> <end> <end> <end> <end> <end> <end> <end> <end> <end> <end> <end> <end> <end> <end> <end> <end> <end> <end> <end> <end> <end> <end> <end> <end> <end> <end> <end> <end> <end> <end> <end> <end> <end> <end> <end> <end> <end> <end> <end> <end> <end> <end> <end> <end> <end> <end> <end> <end> <end> <end>', \"just if you don't don't to to code code code code code code code code code code code code code code code code code code code code code code code code code code code code code code code code code code code code code code code code code code code code code code code code code code code code code code code code code code code code code code code code code code code code code code code code code code code code code code\", 'white <end> <end> <end> <end> <end> <end> <end> <end> <end> <end> <end> <end> <end> <end> <end> <end> <end> <end> <end> <end> <end> <end> <end> <end> <end> <end> <end> <end> <end> <end> <end> <end> <end> <end> <end> <end> <end> <end> <end> <end> <end> <end> <end> <end> <end> <end> <end> <end> <end> <end> <end> <end> <end> <end> <end> <end> <end> <end> <end> <end> <end> <end> <end> <end> <end> <end> <end> <end> <end> <end> <end> <end> <end> <end> <end> <end> <end> <end> <end> <end> <end> <end> <end> <end>', 'round <end> <end> <end> <end> <end> <end> <end> <end> <end> <end> <end> <end> <end> <end> <end> <end> <end> <end> <end> <end> <end> <end> <end> <end> <end> <end> <end> <end> <end> <end> <end> <end> <end> <end> <end> <end> <end> <end> <end> <end> <end> <end> <end> <end> <end> <end> <end> <end> <end> <end> <end> <end> <end> <end> <end> <end> <end> <end> <end> <end> <end> <end> <end> <end> <end> <end> <end> <end> <end> <end> <end> <end> <end> <end> <end> <end> <end> <end> <end> <end> <end> <end> <end> <end>', 'with file file <end> <end> <end> <end> <end> <end> <end> <end> <end> <end> <end> <end> <end> <end> <end> <end> <end> <end> <end> <end> <end> <end> <end> <end> <end> <end> <end> <end> <end> <end> <end> <end> <end> <end> <end> <end> <end> <end> <end> <end> <end> <end> <end> <end> <end> <end> <end> <end> <end> <end> <end> <end> <end> <end> <end> <end> <end> <end> <end> <end> <end> <end> <end> <end> <end> <end> <end> <end> <end> <end> <end> <end> <end> <end> <end> <end> <end> <end> <end> <end> <end> <end>', '<end> <end> <end> <end> <end> <end> <end> <end> <end> <end> <end> <end> <end> <end> <end> <end> <end> <end> <end> <end> <end> <end> <end> <end> <end> <end> <end> <end> <end> <end> <end> <end> <end> <end> <end> <end> <end> <end> <end> <end> <end> <end> <end> <end> <end> <end> <end> <end> <end> <end> <end> <end> <end> <end> <end> <end> <end> <end> <end> <end> <end> <end> <end> <end> <end> <end> <end> <end> <end> <end> <end> <end> <end> <end> <end> <end> <end> <end> <end> <end> <end> <end> <end> <end> <end>']\n",
            "Loss - 0.2166300117969513\n",
            "Loss - 0.00750742619857192\n",
            "Loss - 0.024497617036104202\n",
            "Current mean 0.08287835121154785\n"
          ]
        },
        {
          "output_type": "stream",
          "name": "stderr",
          "text": [
            "\r 28%|██▊       | 28/100 [00:40<01:00,  1.19it/s]"
          ]
        },
        {
          "output_type": "stream",
          "name": "stdout",
          "text": [
            "Translated - ['my my my my my my my my <end>', \"just if if don't don't <end> <end> <end> <end>\", 'white <end> <end> <end> <end> <end> <end> <end> <end>', 'round <end> <end> <end> <end> <end> <end> <end> <end>', 'with a <end> <end> <end> <end> <end> <end> <end>', '<end> <end> <end> <end> <end> <end> <end> <end> <end>']\n",
            "Loss - 0.21171148121356964\n",
            "Loss - 0.0069170608185231686\n",
            "Loss - 0.023885246366262436\n",
            "Current mean 0.0808379277586937\n"
          ]
        },
        {
          "output_type": "stream",
          "name": "stderr",
          "text": [
            "\r 29%|██▉       | 29/100 [00:41<00:54,  1.30it/s]"
          ]
        },
        {
          "output_type": "stream",
          "name": "stdout",
          "text": [
            "Translated - ['my my my my my my my <end>', 'just if you know how how <end> <end>', 'white <end> <end> <end> <end> <end> <end> <end>', 'round <end> <end> <end> <end> <end> <end> <end>', 'with a file <end> <end> <end> <end> <end>', '<end> <end> <end> <end> <end> <end> <end> <end>']\n",
            "Loss - 0.2074919193983078\n",
            "Loss - 0.006354353856295347\n",
            "Loss - 0.024164387956261635\n",
            "Current mean 0.07933688908815384\n"
          ]
        },
        {
          "output_type": "stream",
          "name": "stderr",
          "text": [
            "\r 30%|███       | 30/100 [00:42<01:00,  1.15it/s]"
          ]
        },
        {
          "output_type": "stream",
          "name": "stdout",
          "text": [
            "Translated - ['my my my my my my my my <end> <end> <end> <end> <end> <end> <end> <end> <end> <end> <end> <end> <end> <end> <end> <end> <end> <end> <end> <end> <end> <end> <end> <end> <end> <end> <end> <end> <end> <end> <end> <end> <end> <end> <end> <end> <end> <end> <end> <end> <end> <end> <end> <end> <end> <end> <end> <end> <end> <end> <end> <end> <end> <end> <end> <end> <end> <end> <end> <end> <end> <end> <end> <end> <end> <end> <end> <end> <end> <end> <end> <end> <end> <end> <end> <end> <end>', \"if if if if you don't don't know know code code code code code code code code code code code code code code code code code code code code code code code code code code code code code code code code code code code code code code code code code code code code code code code code code code code code code code code code code code code code code code code code code code code code code code code code code code code code\", 'white <end> <end> <end> <end> <end> <end> <end> <end> <end> <end> <end> <end> <end> <end> <end> <end> <end> <end> <end> <end> <end> <end> <end> <end> <end> <end> <end> <end> <end> <end> <end> <end> <end> <end> <end> <end> <end> <end> <end> <end> <end> <end> <end> <end> <end> <end> <end> <end> <end> <end> <end> <end> <end> <end> <end> <end> <end> <end> <end> <end> <end> <end> <end> <end> <end> <end> <end> <end> <end> <end> <end> <end> <end> <end> <end> <end> <end> <end> <end> <end> <end> <end> <end> <end>', 'round <end> <end> <end> <end> <end> <end> <end> <end> <end> <end> <end> <end> <end> <end> <end> <end> <end> <end> <end> <end> <end> <end> <end> <end> <end> <end> <end> <end> <end> <end> <end> <end> <end> <end> <end> <end> <end> <end> <end> <end> <end> <end> <end> <end> <end> <end> <end> <end> <end> <end> <end> <end> <end> <end> <end> <end> <end> <end> <end> <end> <end> <end> <end> <end> <end> <end> <end> <end> <end> <end> <end> <end> <end> <end> <end> <end> <end> <end> <end> <end> <end> <end> <end> <end>', 'with a file <end> <end> <end> <end> <end> <end> <end> <end> <end> <end> <end> <end> <end> <end> <end> <end> <end> <end> <end> <end> <end> <end> <end> <end> <end> <end> <end> <end> <end> <end> <end> <end> <end> <end> <end> <end> <end> <end> <end> <end> <end> <end> <end> <end> <end> <end> <end> <end> <end> <end> <end> <end> <end> <end> <end> <end> <end> <end> <end> <end> <end> <end> <end> <end> <end> <end> <end> <end> <end> <end> <end> <end> <end> <end> <end> <end> <end> <end> <end> <end> <end> <end>', '<end> <end> <end> <end> <end> <end> <end> <end> <end> <end> <end> <end> <end> <end> <end> <end> <end> <end> <end> <end> <end> <end> <end> <end> <end> <end> <end> <end> <end> <end> <end> <end> <end> <end> <end> <end> <end> <end> <end> <end> <end> <end> <end> <end> <end> <end> <end> <end> <end> <end> <end> <end> <end> <end> <end> <end> <end> <end> <end> <end> <end> <end> <end> <end> <end> <end> <end> <end> <end> <end> <end> <end> <end> <end> <end> <end> <end> <end> <end> <end> <end> <end> <end> <end> <end>']\n",
            "Loss - 0.22121047973632812\n",
            "Loss - 0.005529420915991068\n",
            "Loss - 0.022356167435646057\n",
            "Current mean 0.0830320194363594\n"
          ]
        },
        {
          "output_type": "stream",
          "name": "stderr",
          "text": [
            "\r 31%|███       | 31/100 [00:43<01:03,  1.09it/s]"
          ]
        },
        {
          "output_type": "stream",
          "name": "stdout",
          "text": [
            "Translated - ['my my my my my my birthday <end> <end> <end> <end> <end> <end> <end> <end> <end> <end> <end> <end> <end> <end> <end> <end> <end> <end> <end> <end> <end> <end> <end> <end> <end> <end> <end> <end> <end> <end> <end> <end> <end> <end> <end> <end> <end> <end> <end> <end> <end> <end> <end> <end> <end> <end> <end> <end> <end> <end> <end> <end> <end> <end> <end> <end> <end> <end> <end> <end> <end> <end> <end> <end> <end> <end> <end> <end> <end> <end> <end> <end> <end> <end> <end> <end> <end> <end>', 'to to to to code code code code code code code code code code code code code code code code code code code code code code code code code code code code code code code code code code code code code code code code code code code code code code code code code code code code code code code code code code code code code code code code code code code code code code code code code code code code code code code code code', 'white <end> <end> <end> <end> <end> <end> <end> <end> <end> <end> <end> <end> <end> <end> <end> <end> <end> <end> <end> <end> <end> <end> <end> <end> <end> <end> <end> <end> <end> <end> <end> <end> <end> <end> <end> <end> <end> <end> <end> <end> <end> <end> <end> <end> <end> <end> <end> <end> <end> <end> <end> <end> <end> <end> <end> <end> <end> <end> <end> <end> <end> <end> <end> <end> <end> <end> <end> <end> <end> <end> <end> <end> <end> <end> <end> <end> <end> <end> <end> <end> <end> <end> <end> <end>', 'round <end> <end> <end> <end> <end> <end> <end> <end> <end> <end> <end> <end> <end> <end> <end> <end> <end> <end> <end> <end> <end> <end> <end> <end> <end> <end> <end> <end> <end> <end> <end> <end> <end> <end> <end> <end> <end> <end> <end> <end> <end> <end> <end> <end> <end> <end> <end> <end> <end> <end> <end> <end> <end> <end> <end> <end> <end> <end> <end> <end> <end> <end> <end> <end> <end> <end> <end> <end> <end> <end> <end> <end> <end> <end> <end> <end> <end> <end> <end> <end> <end> <end> <end> <end>', 'with <end> <end> <end> <end> <end> <end> <end> <end> <end> <end> <end> <end> <end> <end> <end> <end> <end> <end> <end> <end> <end> <end> <end> <end> <end> <end> <end> <end> <end> <end> <end> <end> <end> <end> <end> <end> <end> <end> <end> <end> <end> <end> <end> <end> <end> <end> <end> <end> <end> <end> <end> <end> <end> <end> <end> <end> <end> <end> <end> <end> <end> <end> <end> <end> <end> <end> <end> <end> <end> <end> <end> <end> <end> <end> <end> <end> <end> <end> <end> <end> <end> <end> <end> <end>', '<end> <end> <end> <end> <end> <end> <end> <end> <end> <end> <end> <end> <end> <end> <end> <end> <end> <end> <end> <end> <end> <end> <end> <end> <end> <end> <end> <end> <end> <end> <end> <end> <end> <end> <end> <end> <end> <end> <end> <end> <end> <end> <end> <end> <end> <end> <end> <end> <end> <end> <end> <end> <end> <end> <end> <end> <end> <end> <end> <end> <end> <end> <end> <end> <end> <end> <end> <end> <end> <end> <end> <end> <end> <end> <end> <end> <end> <end> <end> <end> <end> <end> <end> <end> <end>']\n",
            "Loss - 0.2671607434749603\n",
            "Loss - 0.006567415781319141\n",
            "Loss - 0.021685626357793808\n",
            "Current mean 0.0984712615609169\n"
          ]
        },
        {
          "output_type": "stream",
          "name": "stderr",
          "text": [
            "\r 32%|███▏      | 32/100 [00:44<01:05,  1.04it/s]"
          ]
        },
        {
          "output_type": "stream",
          "name": "stdout",
          "text": [
            "Translated - ['my girlfriend my my my my my my my my <end> <end> <end> <end> <end> <end> <end> <end> <end> <end> <end> <end> <end> <end> <end> <end> <end> <end> <end> <end> <end> <end> <end> <end> <end> <end> <end> <end> <end> <end> <end> <end> <end> <end> <end> <end> <end> <end> <end> <end> <end> <end> <end> <end> <end> <end> <end> <end> <end> <end> <end> <end> <end> <end> <end> <end> <end> <end> <end> <end> <end> <end> <end> <end> <end> <end> <end> <end> <end> <end> <end> <end> <end> <end> <end>', \"just you don't don't don't don't don't don't don't don't don't don't don't don't don't don't don't don't don't don't don't don't don't don't don't don't don't don't don't don't don't don't don't don't don't don't don't don't don't don't don't don't don't don't don't don't don't don't don't don't don't don't don't don't don't don't don't don't don't don't don't don't don't don't don't don't don't don't don't don't don't don't don't don't don't don't don't don't don't don't don't don't don't don't don't\", 'white <end> <end> <end> <end> <end> <end> <end> <end> <end> <end> <end> <end> <end> <end> <end> <end> <end> <end> <end> <end> <end> <end> <end> <end> <end> <end> <end> <end> <end> <end> <end> <end> <end> <end> <end> <end> <end> <end> <end> <end> <end> <end> <end> <end> <end> <end> <end> <end> <end> <end> <end> <end> <end> <end> <end> <end> <end> <end> <end> <end> <end> <end> <end> <end> <end> <end> <end> <end> <end> <end> <end> <end> <end> <end> <end> <end> <end> <end> <end> <end> <end> <end> <end> <end>', 'round <end> <end> <end> <end> <end> <end> <end> <end> <end> <end> <end> <end> <end> <end> <end> <end> <end> <end> <end> <end> <end> <end> <end> <end> <end> <end> <end> <end> <end> <end> <end> <end> <end> <end> <end> <end> <end> <end> <end> <end> <end> <end> <end> <end> <end> <end> <end> <end> <end> <end> <end> <end> <end> <end> <end> <end> <end> <end> <end> <end> <end> <end> <end> <end> <end> <end> <end> <end> <end> <end> <end> <end> <end> <end> <end> <end> <end> <end> <end> <end> <end> <end> <end> <end>', 'with a file <end> <end> <end> <end> <end> <end> <end> <end> <end> <end> <end> <end> <end> <end> <end> <end> <end> <end> <end> <end> <end> <end> <end> <end> <end> <end> <end> <end> <end> <end> <end> <end> <end> <end> <end> <end> <end> <end> <end> <end> <end> <end> <end> <end> <end> <end> <end> <end> <end> <end> <end> <end> <end> <end> <end> <end> <end> <end> <end> <end> <end> <end> <end> <end> <end> <end> <end> <end> <end> <end> <end> <end> <end> <end> <end> <end> <end> <end> <end> <end> <end> <end>', '<end> <end> <end> <end> <end> <end> <end> <end> <end> <end> <end> <end> <end> <end> <end> <end> <end> <end> <end> <end> <end> <end> <end> <end> <end> <end> <end> <end> <end> <end> <end> <end> <end> <end> <end> <end> <end> <end> <end> <end> <end> <end> <end> <end> <end> <end> <end> <end> <end> <end> <end> <end> <end> <end> <end> <end> <end> <end> <end> <end> <end> <end> <end> <end> <end> <end> <end> <end> <end> <end> <end> <end> <end> <end> <end> <end> <end> <end> <end> <end> <end> <end> <end> <end> <end>']\n",
            "Loss - 0.23441310226917267\n",
            "Loss - 0.00680501526221633\n",
            "Loss - 0.021465031430125237\n",
            "Current mean 0.08756104856729507\n"
          ]
        },
        {
          "output_type": "stream",
          "name": "stderr",
          "text": [
            "\r 33%|███▎      | 33/100 [00:45<01:05,  1.02it/s]"
          ]
        },
        {
          "output_type": "stream",
          "name": "stdout",
          "text": [
            "Translated - ['birthday birthday birthday birthday birthday birthday <end> <end> <end> <end> <end> <end> <end> <end> <end> <end> <end> <end> <end> <end> <end> <end> <end> <end> <end> <end> <end> <end> <end> <end> <end> <end> <end> <end> <end> <end> <end> <end> <end> <end> <end> <end> <end> <end> <end> <end> <end> <end> <end> <end> <end> <end> <end> <end> <end> <end> <end> <end> <end> <end> <end> <end> <end> <end> <end> <end> <end> <end> <end> <end> <end> <end> <end> <end> <end> <end> <end> <end> <end> <end> <end> <end> <end> <end> <end>', 'just you you you you you you you you you you you you you you you you you you you you you you you you you you you you you you you you you you you you you you you you you you you you you you you you you you you you you you you you you you you you you you you you you you you you you you you you you you you you you you you you you you you you', 'white <end> <end> <end> <end> <end> <end> <end> <end> <end> <end> <end> <end> <end> <end> <end> <end> <end> <end> <end> <end> <end> <end> <end> <end> <end> <end> <end> <end> <end> <end> <end> <end> <end> <end> <end> <end> <end> <end> <end> <end> <end> <end> <end> <end> <end> <end> <end> <end> <end> <end> <end> <end> <end> <end> <end> <end> <end> <end> <end> <end> <end> <end> <end> <end> <end> <end> <end> <end> <end> <end> <end> <end> <end> <end> <end> <end> <end> <end> <end> <end> <end> <end> <end> <end>', 'round <end> <end> <end> <end> <end> <end> <end> <end> <end> <end> <end> <end> <end> <end> <end> <end> <end> <end> <end> <end> <end> <end> <end> <end> <end> <end> <end> <end> <end> <end> <end> <end> <end> <end> <end> <end> <end> <end> <end> <end> <end> <end> <end> <end> <end> <end> <end> <end> <end> <end> <end> <end> <end> <end> <end> <end> <end> <end> <end> <end> <end> <end> <end> <end> <end> <end> <end> <end> <end> <end> <end> <end> <end> <end> <end> <end> <end> <end> <end> <end> <end> <end> <end> <end>', 'with a file <end> <end> <end> <end> <end> <end> <end> <end> <end> <end> <end> <end> <end> <end> <end> <end> <end> <end> <end> <end> <end> <end> <end> <end> <end> <end> <end> <end> <end> <end> <end> <end> <end> <end> <end> <end> <end> <end> <end> <end> <end> <end> <end> <end> <end> <end> <end> <end> <end> <end> <end> <end> <end> <end> <end> <end> <end> <end> <end> <end> <end> <end> <end> <end> <end> <end> <end> <end> <end> <end> <end> <end> <end> <end> <end> <end> <end> <end> <end> <end> <end> <end>', '<end> <end> <end> <end> <end> <end> <end> <end> <end> <end> <end> <end> <end> <end> <end> <end> <end> <end> <end> <end> <end> <end> <end> <end> <end> <end> <end> <end> <end> <end> <end> <end> <end> <end> <end> <end> <end> <end> <end> <end> <end> <end> <end> <end> <end> <end> <end> <end> <end> <end> <end> <end> <end> <end> <end> <end> <end> <end> <end> <end> <end> <end> <end> <end> <end> <end> <end> <end> <end> <end> <end> <end> <end> <end> <end> <end> <end> <end> <end> <end> <end> <end> <end> <end> <end>']\n",
            "Loss - 0.25736263394355774\n",
            "Loss - 0.006175333634018898\n",
            "Loss - 0.0204533189535141\n",
            "Current mean 0.09466376155614853\n"
          ]
        },
        {
          "output_type": "stream",
          "name": "stderr",
          "text": [
            "\r 34%|███▍      | 34/100 [00:46<01:06,  1.00s/it]"
          ]
        },
        {
          "output_type": "stream",
          "name": "stdout",
          "text": [
            "Translated - ['my my my my my birthday birthday cake cake cake cake cake cake cake cake cake cake cake cake cake cake cake cake cake cake cake cake cake cake cake cake cake cake cake cake cake cake cake cake cake cake cake cake cake cake cake cake cake cake cake cake cake cake cake cake cake cake cake cake cake cake cake cake cake cake cake cake cake cake cake cake cake cake cake cake cake cake cake cake cake cake cake cake cake cake', 'just if you how how how code code code code code code code code code code code code code code code code code code code code code code code code code code code code code code code code code code code code code code code code code code code code code code code code code code code code code code code code code code code code code code code code code code code code code code code code code code code code code code code', 'white <end> <end> <end> <end> <end> <end> <end> <end> <end> <end> <end> <end> <end> <end> <end> <end> <end> <end> <end> <end> <end> <end> <end> <end> <end> <end> <end> <end> <end> <end> <end> <end> <end> <end> <end> <end> <end> <end> <end> <end> <end> <end> <end> <end> <end> <end> <end> <end> <end> <end> <end> <end> <end> <end> <end> <end> <end> <end> <end> <end> <end> <end> <end> <end> <end> <end> <end> <end> <end> <end> <end> <end> <end> <end> <end> <end> <end> <end> <end> <end> <end> <end> <end> <end>', 'round <end> <end> <end> <end> <end> <end> <end> <end> <end> <end> <end> <end> <end> <end> <end> <end> <end> <end> <end> <end> <end> <end> <end> <end> <end> <end> <end> <end> <end> <end> <end> <end> <end> <end> <end> <end> <end> <end> <end> <end> <end> <end> <end> <end> <end> <end> <end> <end> <end> <end> <end> <end> <end> <end> <end> <end> <end> <end> <end> <end> <end> <end> <end> <end> <end> <end> <end> <end> <end> <end> <end> <end> <end> <end> <end> <end> <end> <end> <end> <end> <end> <end> <end> <end>', 'with a file <end> <end> <end> <end> <end> <end> <end> <end> <end> <end> <end> <end> <end> <end> <end> <end> <end> <end> <end> <end> <end> <end> <end> <end> <end> <end> <end> <end> <end> <end> <end> <end> <end> <end> <end> <end> <end> <end> <end> <end> <end> <end> <end> <end> <end> <end> <end> <end> <end> <end> <end> <end> <end> <end> <end> <end> <end> <end> <end> <end> <end> <end> <end> <end> <end> <end> <end> <end> <end> <end> <end> <end> <end> <end> <end> <end> <end> <end> <end> <end> <end> <end>', '<end> <end> <end> <end> <end> <end> <end> <end> <end> <end> <end> <end> <end> <end> <end> <end> <end> <end> <end> <end> <end> <end> <end> <end> <end> <end> <end> <end> <end> <end> <end> <end> <end> <end> <end> <end> <end> <end> <end> <end> <end> <end> <end> <end> <end> <end> <end> <end> <end> <end> <end> <end> <end> <end> <end> <end> <end> <end> <end> <end> <end> <end> <end> <end> <end> <end> <end> <end> <end> <end> <end> <end> <end> <end> <end> <end> <end> <end> <end> <end> <end> <end> <end> <end> <end>']\n",
            "Loss - 0.2246471643447876\n",
            "Loss - 0.005992534104734659\n",
            "Loss - 0.020023703575134277\n",
            "Current mean 0.0835544690489769\n"
          ]
        },
        {
          "output_type": "stream",
          "name": "stderr",
          "text": [
            "\r 35%|███▌      | 35/100 [00:47<01:06,  1.02s/it]"
          ]
        },
        {
          "output_type": "stream",
          "name": "stdout",
          "text": [
            "Translated - ['my girlfriend hid my my my my my my my my my my my my my my my my my my my my my my my my my my my my my my my my my my my my my my my my my my my my my my my my my my my my my my my my my my my my my my my my my my my my my my my my my my my my my my my my my my', 'just if if how code code code code code code code code code code code code code code code code code code code code code code code code code code code code code code code code code code code code code code code code code code code code code code code code code code code code code code code code code code code code code code code code code code code code code code code code code code code code code code code code code', 'white <end> <end> <end> <end> <end> <end> <end> <end> <end> <end> <end> <end> <end> <end> <end> <end> <end> <end> <end> <end> <end> <end> <end> <end> <end> <end> <end> <end> <end> <end> <end> <end> <end> <end> <end> <end> <end> <end> <end> <end> <end> <end> <end> <end> <end> <end> <end> <end> <end> <end> <end> <end> <end> <end> <end> <end> <end> <end> <end> <end> <end> <end> <end> <end> <end> <end> <end> <end> <end> <end> <end> <end> <end> <end> <end> <end> <end> <end> <end> <end> <end> <end> <end> <end>', 'round <end> <end> <end> <end> <end> <end> <end> <end> <end> <end> <end> <end> <end> <end> <end> <end> <end> <end> <end> <end> <end> <end> <end> <end> <end> <end> <end> <end> <end> <end> <end> <end> <end> <end> <end> <end> <end> <end> <end> <end> <end> <end> <end> <end> <end> <end> <end> <end> <end> <end> <end> <end> <end> <end> <end> <end> <end> <end> <end> <end> <end> <end> <end> <end> <end> <end> <end> <end> <end> <end> <end> <end> <end> <end> <end> <end> <end> <end> <end> <end> <end> <end> <end> <end>', 'with a <end> <end> <end> <end> <end> <end> <end> <end> <end> <end> <end> <end> <end> <end> <end> <end> <end> <end> <end> <end> <end> <end> <end> <end> <end> <end> <end> <end> <end> <end> <end> <end> <end> <end> <end> <end> <end> <end> <end> <end> <end> <end> <end> <end> <end> <end> <end> <end> <end> <end> <end> <end> <end> <end> <end> <end> <end> <end> <end> <end> <end> <end> <end> <end> <end> <end> <end> <end> <end> <end> <end> <end> <end> <end> <end> <end> <end> <end> <end> <end> <end> <end> <end>', '<end> <end> <end> <end> <end> <end> <end> <end> <end> <end> <end> <end> <end> <end> <end> <end> <end> <end> <end> <end> <end> <end> <end> <end> <end> <end> <end> <end> <end> <end> <end> <end> <end> <end> <end> <end> <end> <end> <end> <end> <end> <end> <end> <end> <end> <end> <end> <end> <end> <end> <end> <end> <end> <end> <end> <end> <end> <end> <end> <end> <end> <end> <end> <end> <end> <end> <end> <end> <end> <end> <end> <end> <end> <end> <end> <end> <end> <end> <end> <end> <end> <end> <end> <end> <end>']\n",
            "Loss - 0.2270158976316452\n",
            "Loss - 0.004962726030498743\n",
            "Loss - 0.020031699910759926\n",
            "Current mean 0.08400344103574753\n"
          ]
        },
        {
          "output_type": "stream",
          "name": "stderr",
          "text": [
            "\r 36%|███▌      | 36/100 [00:48<01:05,  1.02s/it]"
          ]
        },
        {
          "output_type": "stream",
          "name": "stdout",
          "text": [
            "Translated - ['my girlfriend hid in file file file my cake cake cake cake cake cake cake cake cake cake cake cake cake cake cake cake cake cake cake cake cake cake cake cake cake cake cake cake cake cake cake cake cake cake cake cake cake cake cake cake cake cake cake cake cake cake cake cake cake cake cake cake cake cake cake cake cake cake cake cake cake cake cake cake cake cake cake cake cake cake cake cake cake cake cake cake cake', 'just if if design <end> <end> <end> code code code code code code code code code code code code code code code code code code code code code code code code code code code code code code code code code code code code code code code code code code code code code code code code code code code code code code code code code code code code code code code code code code code code code code code code code code code code code code', 'white <end> <end> <end> <end> <end> <end> <end> <end> <end> <end> <end> <end> <end> <end> <end> <end> <end> <end> <end> <end> <end> <end> <end> <end> <end> <end> <end> <end> <end> <end> <end> <end> <end> <end> <end> <end> <end> <end> <end> <end> <end> <end> <end> <end> <end> <end> <end> <end> <end> <end> <end> <end> <end> <end> <end> <end> <end> <end> <end> <end> <end> <end> <end> <end> <end> <end> <end> <end> <end> <end> <end> <end> <end> <end> <end> <end> <end> <end> <end> <end> <end> <end> <end> <end>', 'round <end> <end> <end> <end> <end> <end> <end> <end> <end> <end> <end> <end> <end> <end> <end> <end> <end> <end> <end> <end> <end> <end> <end> <end> <end> <end> <end> <end> <end> <end> <end> <end> <end> <end> <end> <end> <end> <end> <end> <end> <end> <end> <end> <end> <end> <end> <end> <end> <end> <end> <end> <end> <end> <end> <end> <end> <end> <end> <end> <end> <end> <end> <end> <end> <end> <end> <end> <end> <end> <end> <end> <end> <end> <end> <end> <end> <end> <end> <end> <end> <end> <end> <end> <end>', 'with a <end> <end> <end> <end> <end> <end> <end> <end> <end> <end> <end> <end> <end> <end> <end> <end> <end> <end> <end> <end> <end> <end> <end> <end> <end> <end> <end> <end> <end> <end> <end> <end> <end> <end> <end> <end> <end> <end> <end> <end> <end> <end> <end> <end> <end> <end> <end> <end> <end> <end> <end> <end> <end> <end> <end> <end> <end> <end> <end> <end> <end> <end> <end> <end> <end> <end> <end> <end> <end> <end> <end> <end> <end> <end> <end> <end> <end> <end> <end> <end> <end> <end> <end>', '<end> <end> <end> <end> <end> <end> <end> <end> <end> <end> <end> <end> <end> <end> <end> <end> <end> <end> <end> <end> <end> <end> <end> <end> <end> <end> <end> <end> <end> <end> <end> <end> <end> <end> <end> <end> <end> <end> <end> <end> <end> <end> <end> <end> <end> <end> <end> <end> <end> <end> <end> <end> <end> <end> <end> <end> <end> <end> <end> <end> <end> <end> <end> <end> <end> <end> <end> <end> <end> <end> <end> <end> <end> <end> <end> <end> <end> <end> <end> <end> <end> <end> <end> <end> <end>']\n",
            "Loss - 0.21999970078468323\n",
            "Loss - 0.0039367228746414185\n",
            "Loss - 0.01954907737672329\n",
            "Current mean 0.08116183429956436\n"
          ]
        },
        {
          "output_type": "stream",
          "name": "stderr",
          "text": [
            "\r 37%|███▋      | 37/100 [00:49<01:04,  1.02s/it]"
          ]
        },
        {
          "output_type": "stream",
          "name": "stdout",
          "text": [
            "Translated - ['my my hid my a a cake cake cake cake cake cake cake cake cake cake cake cake cake cake cake cake cake cake cake cake cake cake cake cake cake cake cake cake cake cake cake cake cake cake cake cake cake cake cake cake cake cake cake cake cake cake cake cake cake cake cake cake cake cake cake cake cake cake cake cake cake cake cake cake cake cake cake cake cake cake cake cake cake cake cake cake cake cake cake', \"just if if don't don't design <end> <end> code code code code code code code code code code code code code code code code code code code code code code code code code code code code code code code code code code code code code code code code code code code code code code code code code code code code code code code code code code code code code code code code code code code code code code code code code code code code code\", 'white <end> <end> <end> <end> <end> <end> <end> <end> <end> <end> <end> <end> <end> <end> <end> <end> <end> <end> <end> <end> <end> <end> <end> <end> <end> <end> <end> <end> <end> <end> <end> <end> <end> <end> <end> <end> <end> <end> <end> <end> <end> <end> <end> <end> <end> <end> <end> <end> <end> <end> <end> <end> <end> <end> <end> <end> <end> <end> <end> <end> <end> <end> <end> <end> <end> <end> <end> <end> <end> <end> <end> <end> <end> <end> <end> <end> <end> <end> <end> <end> <end> <end> <end> <end>', 'round <end> <end> <end> <end> <end> <end> <end> <end> <end> <end> <end> <end> <end> <end> <end> <end> <end> <end> <end> <end> <end> <end> <end> <end> <end> <end> <end> <end> <end> <end> <end> <end> <end> <end> <end> <end> <end> <end> <end> <end> <end> <end> <end> <end> <end> <end> <end> <end> <end> <end> <end> <end> <end> <end> <end> <end> <end> <end> <end> <end> <end> <end> <end> <end> <end> <end> <end> <end> <end> <end> <end> <end> <end> <end> <end> <end> <end> <end> <end> <end> <end> <end> <end> <end>', 'with a <end> <end> <end> <end> <end> <end> <end> <end> <end> <end> <end> <end> <end> <end> <end> <end> <end> <end> <end> <end> <end> <end> <end> <end> <end> <end> <end> <end> <end> <end> <end> <end> <end> <end> <end> <end> <end> <end> <end> <end> <end> <end> <end> <end> <end> <end> <end> <end> <end> <end> <end> <end> <end> <end> <end> <end> <end> <end> <end> <end> <end> <end> <end> <end> <end> <end> <end> <end> <end> <end> <end> <end> <end> <end> <end> <end> <end> <end> <end> <end> <end> <end> <end>', '<end> <end> <end> <end> <end> <end> <end> <end> <end> <end> <end> <end> <end> <end> <end> <end> <end> <end> <end> <end> <end> <end> <end> <end> <end> <end> <end> <end> <end> <end> <end> <end> <end> <end> <end> <end> <end> <end> <end> <end> <end> <end> <end> <end> <end> <end> <end> <end> <end> <end> <end> <end> <end> <end> <end> <end> <end> <end> <end> <end> <end> <end> <end> <end> <end> <end> <end> <end> <end> <end> <end> <end> <end> <end> <end> <end> <end> <end> <end> <end> <end> <end> <end> <end> <end>']\n",
            "Loss - 0.21236956119537354\n",
            "Loss - 0.003719422733411193\n",
            "Loss - 0.022999456152319908\n",
            "Current mean 0.07969614118337631\n"
          ]
        },
        {
          "output_type": "stream",
          "name": "stderr",
          "text": [
            "\r 38%|███▊      | 38/100 [00:50<01:04,  1.03s/it]"
          ]
        },
        {
          "output_type": "stream",
          "name": "stdout",
          "text": [
            "Translated - ['my my hid my my my cake cake cake cake cake cake cake cake cake cake cake cake cake cake cake cake cake cake cake cake cake cake cake cake cake cake cake cake cake cake cake cake cake cake cake cake cake cake cake cake cake cake cake cake cake cake cake cake cake cake cake cake cake cake cake cake cake cake cake cake cake cake cake cake cake cake cake cake cake cake cake cake cake cake cake cake cake cake cake', \"just if if don't don't know <end> <end> code code code code code code code code code code code code code code code code code code code code code code code code code code code code code code code code code code code code code code code code code code code code code code code code code code code code code code code code code code code code code code code code code code code code code code code code code code code code code\", 'white <end> <end> <end> <end> <end> <end> <end> <end> <end> <end> <end> <end> <end> <end> <end> <end> <end> <end> <end> <end> <end> <end> <end> <end> <end> <end> <end> <end> <end> <end> <end> <end> <end> <end> <end> <end> <end> <end> <end> <end> <end> <end> <end> <end> <end> <end> <end> <end> <end> <end> <end> <end> <end> <end> <end> <end> <end> <end> <end> <end> <end> <end> <end> <end> <end> <end> <end> <end> <end> <end> <end> <end> <end> <end> <end> <end> <end> <end> <end> <end> <end> <end> <end> <end>', 'round <end> <end> <end> <end> <end> <end> <end> <end> <end> <end> <end> <end> <end> <end> <end> <end> <end> <end> <end> <end> <end> <end> <end> <end> <end> <end> <end> <end> <end> <end> <end> <end> <end> <end> <end> <end> <end> <end> <end> <end> <end> <end> <end> <end> <end> <end> <end> <end> <end> <end> <end> <end> <end> <end> <end> <end> <end> <end> <end> <end> <end> <end> <end> <end> <end> <end> <end> <end> <end> <end> <end> <end> <end> <end> <end> <end> <end> <end> <end> <end> <end> <end> <end> <end>', 'with a file <end> <end> <end> <end> <end> <end> <end> <end> <end> <end> <end> <end> <end> <end> <end> <end> <end> <end> <end> <end> <end> <end> <end> <end> <end> <end> <end> <end> <end> <end> <end> <end> <end> <end> <end> <end> <end> <end> <end> <end> <end> <end> <end> <end> <end> <end> <end> <end> <end> <end> <end> <end> <end> <end> <end> <end> <end> <end> <end> <end> <end> <end> <end> <end> <end> <end> <end> <end> <end> <end> <end> <end> <end> <end> <end> <end> <end> <end> <end> <end> <end> <end>', '<end> <end> <end> <end> <end> <end> <end> <end> <end> <end> <end> <end> <end> <end> <end> <end> <end> <end> <end> <end> <end> <end> <end> <end> <end> <end> <end> <end> <end> <end> <end> <end> <end> <end> <end> <end> <end> <end> <end> <end> <end> <end> <end> <end> <end> <end> <end> <end> <end> <end> <end> <end> <end> <end> <end> <end> <end> <end> <end> <end> <end> <end> <end> <end> <end> <end> <end> <end> <end> <end> <end> <end> <end> <end> <end> <end> <end> <end> <end> <end> <end> <end> <end> <end> <end>']\n",
            "Loss - 0.20646436512470245\n",
            "Loss - 0.003297035116702318\n",
            "Loss - 0.03652995079755783\n",
            "Current mean 0.0820971131324768\n"
          ]
        },
        {
          "output_type": "stream",
          "name": "stderr",
          "text": [
            "\r 39%|███▉      | 39/100 [00:51<00:54,  1.11it/s]"
          ]
        },
        {
          "output_type": "stream",
          "name": "stdout",
          "text": [
            "Translated - ['my girlfriend hid hid file my my <end>', \"just just you don't know know <end> <end>\", 'white <end> <end> <end> <end> <end> <end> <end>', 'round <end> <end> <end> <end> <end> <end> <end>', 'a file file file <end> <end> <end> <end>', '<end> <end> <end> <end> <end> <end> <end> <end>']\n",
            "Loss - 0.20113711059093475\n",
            "Loss - 0.0034568351693451405\n",
            "Loss - 0.045432884246110916\n",
            "Current mean 0.08334227651357651\n"
          ]
        },
        {
          "output_type": "stream",
          "name": "stderr",
          "text": [
            "\r 40%|████      | 40/100 [00:51<00:48,  1.25it/s]"
          ]
        },
        {
          "output_type": "stream",
          "name": "stdout",
          "text": [
            "Translated - ['my girlfriend hid file file file file <end>', \"just just you don't know to <end> <end>\", 'white <end> <end> <end> <end> <end> <end> <end>', 'round <end> <end> <end> <end> <end> <end> <end>', 'a <end> <end> <end> <end> <end> <end> <end>', '<end> <end> <end> <end> <end> <end> <end> <end>']\n",
            "Loss - 0.19675341248512268\n",
            "Loss - 0.003027654718607664\n",
            "Loss - 0.03506936877965927\n",
            "Current mean 0.07828348129987717\n"
          ]
        },
        {
          "output_type": "stream",
          "name": "stderr",
          "text": [
            "\r 41%|████      | 41/100 [00:52<00:51,  1.15it/s]"
          ]
        },
        {
          "output_type": "stream",
          "name": "stdout",
          "text": [
            "Translated - ['my girlfriend hid hid hid my my cake cake cake cake cake cake cake cake cake cake cake cake cake cake cake cake cake cake cake cake cake cake cake cake cake cake cake cake cake cake cake cake cake cake cake cake cake cake cake cake cake cake cake cake cake cake cake cake cake cake cake cake cake cake cake cake cake cake cake cake cake cake cake cake cake cake cake cake cake cake cake cake cake cake cake cake cake cake', \"just if if don't don't how how <end> <end> <end> <end> <end> <end> <end> <end> <end> <end> <end> <end> <end> <end> <end> <end> <end> <end> <end> <end> <end> <end> <end> <end> <end> <end> <end> <end> <end> <end> <end> <end> <end> <end> <end> <end> <end> <end> <end> <end> <end> <end> <end> <end> <end> <end> <end> <end> <end> <end> <end> <end> <end> <end> <end> <end> <end> <end> <end> <end> <end> <end> <end> <end> <end> <end> <end> <end> <end> <end> <end> <end> <end> <end> <end> <end> <end> <end>\", 'white <end> <end> <end> <end> <end> <end> <end> <end> <end> <end> <end> <end> <end> <end> <end> <end> <end> <end> <end> <end> <end> <end> <end> <end> <end> <end> <end> <end> <end> <end> <end> <end> <end> <end> <end> <end> <end> <end> <end> <end> <end> <end> <end> <end> <end> <end> <end> <end> <end> <end> <end> <end> <end> <end> <end> <end> <end> <end> <end> <end> <end> <end> <end> <end> <end> <end> <end> <end> <end> <end> <end> <end> <end> <end> <end> <end> <end> <end> <end> <end> <end> <end> <end> <end>', 'round <end> <end> <end> <end> <end> <end> <end> <end> <end> <end> <end> <end> <end> <end> <end> <end> <end> <end> <end> <end> <end> <end> <end> <end> <end> <end> <end> <end> <end> <end> <end> <end> <end> <end> <end> <end> <end> <end> <end> <end> <end> <end> <end> <end> <end> <end> <end> <end> <end> <end> <end> <end> <end> <end> <end> <end> <end> <end> <end> <end> <end> <end> <end> <end> <end> <end> <end> <end> <end> <end> <end> <end> <end> <end> <end> <end> <end> <end> <end> <end> <end> <end> <end> <end>', 'a a <end> <end> <end> <end> <end> <end> <end> <end> <end> <end> <end> <end> <end> <end> <end> <end> <end> <end> <end> <end> <end> <end> <end> <end> <end> <end> <end> <end> <end> <end> <end> <end> <end> <end> <end> <end> <end> <end> <end> <end> <end> <end> <end> <end> <end> <end> <end> <end> <end> <end> <end> <end> <end> <end> <end> <end> <end> <end> <end> <end> <end> <end> <end> <end> <end> <end> <end> <end> <end> <end> <end> <end> <end> <end> <end> <end> <end> <end> <end> <end> <end> <end> <end>', '<end> <end> <end> <end> <end> <end> <end> <end> <end> <end> <end> <end> <end> <end> <end> <end> <end> <end> <end> <end> <end> <end> <end> <end> <end> <end> <end> <end> <end> <end> <end> <end> <end> <end> <end> <end> <end> <end> <end> <end> <end> <end> <end> <end> <end> <end> <end> <end> <end> <end> <end> <end> <end> <end> <end> <end> <end> <end> <end> <end> <end> <end> <end> <end> <end> <end> <end> <end> <end> <end> <end> <end> <end> <end> <end> <end> <end> <end> <end> <end> <end> <end> <end> <end> <end>']\n",
            "Loss - 0.19217577576637268\n",
            "Loss - 0.003699513152241707\n",
            "Loss - 0.02557525224983692\n",
            "Current mean 0.07381684333086014\n"
          ]
        },
        {
          "output_type": "stream",
          "name": "stderr",
          "text": [
            "\r 42%|████▏     | 42/100 [00:53<00:53,  1.09it/s]"
          ]
        },
        {
          "output_type": "stream",
          "name": "stdout",
          "text": [
            "Translated - ['my girlfriend hid hid my my birthday cake cake cake cake cake cake cake cake cake cake cake cake cake cake cake cake cake cake cake cake cake cake cake cake cake cake cake cake cake cake cake cake cake cake cake cake cake cake cake cake cake cake cake cake cake cake cake cake cake cake cake cake cake cake cake cake cake cake cake cake cake cake cake cake cake cake cake cake cake cake cake cake cake cake cake cake cake cake', \"just if if don't know how how <end> <end> <end> <end> <end> <end> <end> <end> <end> <end> <end> <end> <end> <end> <end> <end> <end> <end> <end> <end> <end> <end> <end> <end> <end> <end> <end> <end> <end> <end> <end> <end> <end> <end> <end> <end> <end> <end> <end> <end> <end> <end> <end> <end> <end> <end> <end> <end> <end> <end> <end> <end> <end> <end> <end> <end> <end> <end> <end> <end> <end> <end> <end> <end> <end> <end> <end> <end> <end> <end> <end> <end> <end> <end> <end> <end> <end> <end>\", 'white <end> <end> <end> <end> <end> <end> <end> <end> <end> <end> <end> <end> <end> <end> <end> <end> <end> <end> <end> <end> <end> <end> <end> <end> <end> <end> <end> <end> <end> <end> <end> <end> <end> <end> <end> <end> <end> <end> <end> <end> <end> <end> <end> <end> <end> <end> <end> <end> <end> <end> <end> <end> <end> <end> <end> <end> <end> <end> <end> <end> <end> <end> <end> <end> <end> <end> <end> <end> <end> <end> <end> <end> <end> <end> <end> <end> <end> <end> <end> <end> <end> <end> <end> <end>', 'round <end> <end> <end> <end> <end> <end> <end> <end> <end> <end> <end> <end> <end> <end> <end> <end> <end> <end> <end> <end> <end> <end> <end> <end> <end> <end> <end> <end> <end> <end> <end> <end> <end> <end> <end> <end> <end> <end> <end> <end> <end> <end> <end> <end> <end> <end> <end> <end> <end> <end> <end> <end> <end> <end> <end> <end> <end> <end> <end> <end> <end> <end> <end> <end> <end> <end> <end> <end> <end> <end> <end> <end> <end> <end> <end> <end> <end> <end> <end> <end> <end> <end> <end> <end>', 'with with a <end> <end> <end> <end> <end> <end> <end> <end> <end> <end> <end> <end> <end> <end> <end> <end> <end> <end> <end> <end> <end> <end> <end> <end> <end> <end> <end> <end> <end> <end> <end> <end> <end> <end> <end> <end> <end> <end> <end> <end> <end> <end> <end> with <end> <end> with <end> <end> with <end> with <end> with <end> with <end> with <end> with <end> with <end> with <end> with <end> with <end> with <end> with <end> with <end> with <end> with <end> with <end> with', '<end> <end> <end> <end> <end> <end> <end> <end> <end> <end> <end> <end> <end> <end> <end> <end> <end> <end> <end> <end> <end> <end> <end> <end> <end> <end> <end> <end> <end> <end> <end> <end> <end> <end> <end> <end> <end> <end> <end> <end> <end> <end> <end> <end> <end> <end> <end> <end> <end> <end> <end> <end> <end> <end> <end> <end> <end> <end> <end> <end> <end> <end> <end> <end> <end> <end> <end> <end> <end> <end> <end> <end> <end> <end> <end> <end> <end> <end> <end> <end> <end> <end> <end> <end> <end>']\n",
            "Loss - 0.18722064793109894\n",
            "Loss - 0.0032882853411138058\n",
            "Loss - 0.027615781873464584\n",
            "Current mean 0.07270824164152145\n"
          ]
        },
        {
          "output_type": "stream",
          "name": "stderr",
          "text": [
            "\r 43%|████▎     | 43/100 [00:54<00:46,  1.22it/s]"
          ]
        },
        {
          "output_type": "stream",
          "name": "stdout",
          "text": [
            "Translated - ['my girlfriend girlfriend file file file file <end>', \"just if you don't know <end> <end> <end>\", 'white <end> <end> <end> <end> <end> <end> <end>', 'round <end> <end> <end> <end> <end> <end> <end>', 'with with <end> <end> <end> <end> <end> <end>', '<end> <end> <end> <end> <end> <end> <end> <end>']\n",
            "Loss - 0.18241961300373077\n",
            "Loss - 0.003321606433019042\n",
            "Loss - 0.02268320694565773\n",
            "Current mean 0.06947480887174606\n"
          ]
        },
        {
          "output_type": "stream",
          "name": "stderr",
          "text": [
            "\r 44%|████▍     | 44/100 [00:55<00:41,  1.34it/s]"
          ]
        },
        {
          "output_type": "stream",
          "name": "stdout",
          "text": [
            "Translated - ['my girlfriend girlfriend hid my my my <end>', \"just if you don't know to <end> code\", 'white <end> <end> <end> <end> <end> <end> <end>', 'round <end> <end> <end> <end> <end> <end> <end>', 'with a file <end> <end> <end> <end> <end>', '<end> <end> <end> <end> <end> <end> <end> <end>']\n",
            "Loss - 0.17892441153526306\n",
            "Loss - 0.0022665560245513916\n",
            "Loss - 0.02337055280804634\n",
            "Current mean 0.0681871697306633\n"
          ]
        },
        {
          "output_type": "stream",
          "name": "stderr",
          "text": [
            "\r 45%|████▌     | 45/100 [00:55<00:38,  1.43it/s]"
          ]
        },
        {
          "output_type": "stream",
          "name": "stdout",
          "text": [
            "Translated - ['my my my my my my my <end>', \"just if you don't know to to <end>\", 'white <end> <end> <end> <end> <end> <end> <end>', 'round <end> <end> <end> <end> <end> <end> <end>', 'with file file <end> <end> <end> <end> <end>', '<end> <end> <end> <end> <end> <end> <end> <end>']\n",
            "Loss - 0.1751791387796402\n",
            "Loss - 0.0025943482760339975\n",
            "Loss - 0.02252930961549282\n",
            "Current mean 0.06676759570837021\n"
          ]
        },
        {
          "output_type": "stream",
          "name": "stderr",
          "text": [
            "\r 46%|████▌     | 46/100 [00:56<00:43,  1.23it/s]"
          ]
        },
        {
          "output_type": "stream",
          "name": "stdout",
          "text": [
            "Translated - ['my hid hid hid a a a birthday cake cake cake cake cake cake cake cake cake cake cake cake cake cake cake cake cake cake cake cake cake cake cake cake cake cake cake cake cake cake cake cake cake cake cake cake cake cake cake cake cake cake cake cake cake cake cake cake cake cake cake cake cake cake cake cake cake cake cake cake cake cake cake cake cake cake cake cake cake cake cake cake cake cake cake cake cake', \"just if you don't know to to <end> <end> <end> <end> <end> <end> <end> <end> <end> <end> <end> <end> <end> <end> <end> <end> <end> <end> <end> <end> <end> <end> <end> <end> <end> <end> <end> <end> <end> <end> <end> <end> <end> <end> <end> <end> <end> <end> <end> <end> <end> <end> <end> <end> <end> <end> <end> <end> <end> <end> <end> <end> <end> <end> <end> <end> <end> <end> <end> <end> <end> <end> <end> <end> <end> <end> <end> <end> <end> <end> <end> <end> <end> <end> <end> <end> <end> <end>\", 'white <end> <end> <end> <end> <end> <end> <end> <end> <end> <end> <end> <end> <end> <end> <end> <end> <end> <end> <end> <end> <end> <end> <end> <end> <end> <end> <end> <end> <end> <end> <end> <end> <end> <end> <end> <end> <end> <end> <end> <end> <end> <end> <end> <end> <end> <end> <end> <end> <end> <end> <end> <end> <end> <end> <end> <end> <end> <end> <end> <end> <end> <end> <end> <end> <end> <end> <end> <end> <end> <end> <end> <end> <end> <end> <end> <end> <end> <end> <end> <end> <end> <end> <end> <end>', 'round <end> <end> <end> <end> <end> <end> <end> <end> <end> <end> <end> <end> <end> <end> <end> <end> <end> <end> <end> <end> <end> <end> <end> <end> <end> <end> <end> <end> <end> <end> <end> <end> <end> <end> <end> <end> <end> <end> <end> <end> <end> <end> <end> <end> <end> <end> <end> <end> <end> <end> <end> <end> <end> <end> <end> <end> <end> <end> <end> <end> <end> <end> <end> <end> <end> <end> <end> <end> <end> <end> <end> <end> <end> <end> <end> <end> <end> <end> <end> <end> <end> <end> <end> <end>', 'with a file <end> <end> <end> <end> <end> <end> <end> <end> <end> <end> <end> <end> <end> <end> <end> <end> <end> <end> <end> <end> <end> <end> <end> <end> <end> <end> <end> <end> <end> <end> <end> <end> <end> <end> <end> <end> <end> <end> <end> <end> <end> <end> <end> <end> <end> <end> <end> <end> <end> <end> <end> <end> <end> <end> <end> <end> <end> <end> <end> <end> <end> <end> <end> <end> <end> <end> <end> <end> <end> <end> <end> <end> <end> <end> <end> <end> <end> <end> <end> <end> <end> <end>', '<end> <end> <end> <end> <end> <end> <end> <end> <end> <end> <end> <end> <end> <end> <end> <end> <end> <end> <end> <end> <end> <end> <end> <end> <end> <end> <end> <end> <end> <end> <end> <end> <end> <end> <end> <end> <end> <end> <end> <end> <end> <end> <end> <end> <end> <end> <end> <end> <end> <end> <end> <end> <end> <end> <end> <end> <end> <end> <end> <end> <end> <end> <end> <end> <end> <end> <end> <end> <end> <end> <end> <end> <end> <end> <end> <end> <end> <end> <end> <end> <end> <end> <end> <end> <end>']\n",
            "Loss - 0.17082330584526062\n",
            "Loss - 0.0017211101949214935\n",
            "Loss - 0.02167380228638649\n",
            "Current mean 0.0647394061088562\n"
          ]
        },
        {
          "output_type": "stream",
          "name": "stderr",
          "text": [
            "\r 47%|████▋     | 47/100 [00:57<00:46,  1.15it/s]"
          ]
        },
        {
          "output_type": "stream",
          "name": "stdout",
          "text": [
            "Translated - ['my girlfriend hid hid a file my cake cake cake cake cake cake cake cake cake cake cake cake cake cake cake cake cake cake cake cake cake cake cake cake cake cake cake cake cake cake cake cake cake cake cake cake cake cake cake cake cake cake cake cake cake cake cake cake cake cake cake cake cake cake cake cake cake cake cake cake cake cake cake cake cake cake cake cake cake cake cake cake cake cake cake cake cake cake', \"just if you don't don't to to <end> <end> <end> <end> <end> <end> <end> <end> <end> <end> <end> <end> <end> <end> <end> <end> <end> <end> <end> <end> <end> <end> <end> <end> <end> <end> <end> <end> <end> <end> <end> <end> <end> <end> <end> <end> <end> <end> <end> <end> <end> <end> <end> <end> <end> <end> <end> <end> <end> <end> <end> <end> <end> <end> <end> <end> <end> <end> <end> <end> <end> <end> <end> <end> <end> <end> <end> <end> <end> <end> <end> <end> <end> <end> <end> <end> <end> <end>\", 'white <end> <end> <end> <end> <end> <end> <end> <end> <end> <end> <end> <end> <end> <end> <end> <end> <end> <end> <end> <end> <end> <end> <end> <end> <end> <end> <end> <end> <end> <end> <end> <end> <end> <end> <end> <end> <end> <end> <end> <end> <end> <end> <end> <end> <end> <end> <end> <end> <end> <end> <end> <end> <end> <end> <end> <end> <end> <end> <end> <end> <end> <end> <end> <end> <end> <end> <end> <end> <end> <end> <end> <end> <end> <end> <end> <end> <end> <end> <end> <end> <end> <end> <end> <end>', 'round <end> <end> <end> <end> <end> <end> <end> <end> <end> <end> <end> <end> <end> <end> <end> <end> <end> <end> <end> <end> <end> <end> <end> <end> <end> <end> <end> <end> <end> <end> <end> <end> <end> <end> <end> <end> <end> <end> <end> <end> <end> <end> <end> <end> <end> <end> <end> <end> <end> <end> <end> <end> <end> <end> <end> <end> <end> <end> <end> <end> <end> <end> <end> <end> <end> <end> <end> <end> <end> <end> <end> <end> <end> <end> <end> <end> <end> <end> <end> <end> <end> <end> <end> <end>', 'with a <end> <end> <end> <end> <end> <end> <end> <end> <end> <end> <end> <end> <end> <end> <end> <end> <end> <end> <end> <end> <end> <end> <end> <end> <end> <end> <end> <end> <end> <end> <end> <end> <end> <end> <end> <end> <end> <end> <end> <end> <end> <end> <end> <end> <end> <end> <end> <end> <end> <end> <end> <end> <end> <end> <end> <end> <end> <end> <end> <end> <end> <end> <end> <end> <end> <end> <end> <end> <end> <end> <end> <end> <end> <end> <end> <end> <end> <end> <end> <end> <end> <end> <end>', '<end> <end> <end> <end> <end> <end> <end> <end> <end> <end> <end> <end> <end> <end> <end> <end> <end> <end> <end> <end> <end> <end> <end> <end> <end> <end> <end> <end> <end> <end> <end> <end> <end> <end> <end> <end> <end> <end> <end> <end> <end> <end> <end> <end> <end> <end> <end> <end> <end> <end> <end> <end> <end> <end> <end> <end> <end> <end> <end> <end> <end> <end> <end> <end> <end> <end> <end> <end> <end> <end> <end> <end> <end> <end> <end> <end> <end> <end> <end> <end> <end> <end> <end> <end> <end>']\n",
            "Loss - 0.16651353240013123\n",
            "Loss - 0.001976123545318842\n",
            "Loss - 0.021269209682941437\n",
            "Current mean 0.06325295567512512\n"
          ]
        },
        {
          "output_type": "stream",
          "name": "stderr",
          "text": [
            "\r 48%|████▊     | 48/100 [00:58<00:47,  1.09it/s]"
          ]
        },
        {
          "output_type": "stream",
          "name": "stdout",
          "text": [
            "Translated - ['my girlfriend hid hid file my my cake <end> <end> <end> <end> <end> <end> <end> <end> <end> <end> <end> <end> <end> <end> <end> <end> <end> <end> <end> <end> <end> <end> <end> <end> <end> <end> <end> <end> <end> <end> <end> <end> <end> <end> <end> <end> <end> <end> <end> <end> <end> <end> <end> <end> <end> <end> <end> <end> <end> <end> <end> <end> <end> <end> <end> <end> <end> <end> <end> <end> <end> <end> <end> <end> <end> <end> <end> <end> <end> <end> <end> <end> <end> <end> <end> <end> <end>', \"just if you don't know to how code code code code code code code code code code code code code code code code code code code code code code code code code code code code code code code code code code code code code code code code code code code code code code code code code code code code code code code code code code code code code code code code code code code code code code code code code code code code code code\", 'white <end> <end> <end> <end> <end> <end> <end> <end> <end> <end> <end> <end> <end> <end> <end> <end> <end> <end> <end> <end> <end> <end> <end> <end> <end> <end> <end> <end> <end> <end> <end> <end> <end> <end> <end> <end> <end> <end> <end> <end> <end> <end> <end> <end> <end> <end> <end> <end> <end> <end> <end> <end> <end> <end> <end> <end> <end> <end> <end> <end> <end> <end> <end> <end> <end> <end> <end> <end> <end> <end> <end> <end> <end> <end> <end> <end> <end> <end> <end> <end> <end> <end> <end> <end>', 'round <end> <end> <end> <end> <end> <end> <end> <end> <end> <end> <end> <end> <end> <end> <end> <end> <end> <end> <end> <end> <end> <end> <end> <end> <end> <end> <end> <end> <end> <end> <end> <end> <end> <end> <end> <end> <end> <end> <end> <end> <end> <end> <end> <end> <end> <end> <end> <end> <end> <end> <end> <end> <end> <end> <end> <end> <end> <end> <end> <end> <end> <end> <end> <end> <end> <end> <end> <end> <end> <end> <end> <end> <end> <end> <end> <end> <end> <end> <end> <end> <end> <end> <end> <end>', 'with a file <end> <end> <end> <end> <end> <end> <end> <end> <end> <end> <end> <end> <end> <end> <end> <end> <end> <end> <end> <end> <end> <end> <end> <end> <end> <end> <end> <end> <end> <end> <end> <end> <end> <end> <end> <end> <end> <end> <end> <end> <end> <end> <end> <end> <end> <end> <end> <end> <end> <end> <end> <end> <end> <end> <end> <end> <end> <end> <end> <end> <end> <end> <end> <end> <end> <end> <end> <end> <end> <end> <end> <end> <end> <end> <end> <end> <end> <end> <end> <end> <end> <end>', '<end> <end> <end> <end> <end> <end> <end> <end> <end> <end> <end> <end> <end> <end> <end> <end> <end> <end> <end> <end> <end> <end> <end> <end> <end> <end> <end> <end> <end> <end> <end> <end> <end> <end> <end> <end> <end> <end> <end> <end> <end> <end> <end> <end> <end> <end> <end> <end> <end> <end> <end> <end> <end> <end> <end> <end> <end> <end> <end> <end> <end> <end> <end> <end> <end> <end> <end> <end> <end> <end> <end> <end> <end> <end> <end> <end> <end> <end> <end> <end> <end> <end> <end> <end> <end>']\n",
            "Loss - 0.1629135012626648\n",
            "Loss - 0.0014793816953897476\n",
            "Loss - 0.020945154130458832\n",
            "Current mean 0.06177935004234314\n"
          ]
        },
        {
          "output_type": "stream",
          "name": "stderr",
          "text": [
            "\r 49%|████▉     | 49/100 [00:59<00:50,  1.00it/s]"
          ]
        },
        {
          "output_type": "stream",
          "name": "stdout",
          "text": [
            "Translated - ['my girlfriend girlfriend file file my my birthday <end> <end> <end> <end> <end> <end> <end> <end> <end> <end> <end> <end> <end> <end> <end> <end> <end> <end> <end> <end> <end> <end> <end> <end> <end> <end> <end> <end> <end> <end> <end> <end> <end> <end> <end> <end> <end> <end> <end> <end> <end> <end> <end> <end> <end> <end> <end> <end> <end> <end> <end> <end> <end> <end> <end> <end> <end> <end> <end> <end> <end> <end> <end> <end> <end> <end> <end> <end> <end> <end> <end> <end> <end> <end> <end> <end> <end>', \"just if you don't know to how code code code code code code code code code code code code code code code code code code code code code code code code code code code code code code code code code code code code code code code code code code code code code code code code code code code code code code code code code code code code code code code code code code code code code code code code code code code code code code\", 'white <end> <end> <end> <end> <end> <end> <end> <end> <end> <end> <end> <end> <end> <end> <end> <end> <end> <end> <end> <end> <end> <end> <end> <end> <end> <end> <end> <end> <end> <end> <end> <end> <end> <end> <end> <end> <end> <end> <end> <end> <end> <end> <end> <end> <end> <end> <end> <end> <end> <end> <end> <end> <end> <end> <end> <end> <end> <end> <end> <end> <end> <end> <end> <end> <end> <end> <end> <end> <end> <end> <end> <end> <end> <end> <end> <end> <end> <end> <end> <end> <end> <end> <end> <end>', 'round <end> <end> <end> <end> <end> <end> <end> <end> <end> <end> <end> <end> <end> <end> <end> <end> <end> <end> <end> <end> <end> <end> <end> <end> <end> <end> <end> <end> <end> <end> <end> <end> <end> <end> <end> <end> <end> <end> <end> <end> <end> <end> <end> <end> <end> <end> <end> <end> <end> <end> <end> <end> <end> <end> <end> <end> <end> <end> <end> <end> <end> <end> <end> <end> <end> <end> <end> <end> <end> <end> <end> <end> <end> <end> <end> <end> <end> <end> <end> <end> <end> <end> <end> <end>', 'with a file <end> <end> <end> <end> <end> <end> <end> <end> <end> <end> <end> <end> <end> <end> <end> <end> <end> <end> <end> <end> <end> <end> <end> <end> <end> <end> <end> <end> <end> <end> <end> <end> <end> <end> <end> <end> <end> <end> <end> <end> <end> <end> <end> <end> <end> <end> <end> <end> <end> <end> <end> <end> <end> <end> <end> <end> <end> <end> <end> <end> <end> <end> <end> <end> <end> <end> <end> <end> <end> <end> <end> <end> <end> <end> <end> <end> <end> <end> <end> <end> <end> <end>', '<end> <end> <end> <end> <end> <end> <end> <end> <end> <end> <end> <end> <end> <end> <end> <end> <end> <end> <end> <end> <end> <end> <end> <end> <end> <end> <end> <end> <end> <end> <end> <end> <end> <end> <end> <end> <end> <end> <end> <end> <end> <end> <end> <end> <end> <end> <end> <end> <end> <end> <end> <end> <end> <end> <end> <end> <end> <end> <end> <end> <end> <end> <end> <end> <end> <end> <end> <end> <end> <end> <end> <end> <end> <end> <end> <end> <end> <end> <end> <end> <end> <end> <end> <end> <end>']\n",
            "Loss - 0.1601267009973526\n",
            "Loss - 0.0012661365326493979\n",
            "Loss - 0.020310699939727783\n",
            "Current mean 0.06056784465909004\n"
          ]
        },
        {
          "output_type": "stream",
          "name": "stderr",
          "text": [
            "\r 50%|█████     | 50/100 [01:01<00:52,  1.05s/it]"
          ]
        },
        {
          "output_type": "stream",
          "name": "stdout",
          "text": [
            "Translated - ['my girlfriend hid my my my my <end> <end> <end> <end> <end> <end> <end> <end> <end> <end> <end> <end> <end> <end> <end> <end> <end> <end> <end> <end> <end> <end> <end> <end> <end> <end> <end> <end> <end> <end> <end> <end> <end> <end> <end> <end> <end> <end> <end> <end> <end> <end> <end> <end> <end> <end> <end> <end> <end> <end> <end> <end> <end> <end> <end> <end> <end> <end> <end> <end> <end> <end> <end> <end> <end> <end> <end> <end> <end> <end> <end> <end> <end> <end> <end> <end> <end> <end>', \"just if you don't know to how code code code code code code code code code code code code code code code code code code code code code code code code code code code code code code code code code code code code code code code code code code code code code code code code code code code code code code code code code code code code code code code code code code code code code code code code code code code code code code\", 'white <end> <end> <end> <end> <end> <end> <end> <end> <end> <end> <end> <end> <end> <end> <end> <end> <end> <end> <end> <end> <end> <end> <end> <end> <end> <end> <end> <end> <end> <end> <end> <end> <end> <end> <end> <end> <end> <end> <end> <end> <end> <end> <end> <end> <end> <end> <end> <end> <end> <end> <end> <end> <end> <end> <end> <end> <end> <end> <end> <end> <end> <end> <end> <end> <end> <end> <end> <end> <end> <end> <end> <end> <end> <end> <end> <end> <end> <end> <end> <end> <end> <end> <end> <end>', 'round <end> <end> <end> <end> <end> <end> <end> <end> <end> <end> <end> <end> <end> <end> <end> <end> <end> <end> <end> <end> <end> <end> <end> <end> <end> <end> <end> <end> <end> <end> <end> <end> <end> <end> <end> <end> <end> <end> <end> <end> <end> <end> <end> <end> <end> <end> <end> <end> <end> <end> <end> <end> <end> <end> <end> <end> <end> <end> <end> <end> <end> <end> <end> <end> <end> <end> <end> <end> <end> <end> <end> <end> <end> <end> <end> <end> <end> <end> <end> <end> <end> <end> <end> <end>', 'with a file <end> <end> <end> <end> <end> <end> <end> <end> <end> <end> <end> <end> <end> <end> <end> <end> <end> <end> <end> <end> <end> <end> <end> <end> <end> <end> <end> <end> <end> <end> <end> <end> <end> <end> <end> <end> <end> <end> <end> <end> <end> <end> <end> <end> <end> <end> <end> <end> <end> <end> <end> <end> <end> <end> <end> <end> <end> <end> <end> <end> <end> <end> <end> <end> <end> <end> <end> <end> <end> <end> <end> <end> <end> <end> <end> <end> <end> <end> <end> <end> <end> <end>', '<end> <end> <end> <end> <end> <end> <end> <end> <end> <end> <end> <end> <end> <end> <end> <end> <end> <end> <end> <end> <end> <end> <end> <end> <end> <end> <end> <end> <end> <end> <end> <end> <end> <end> <end> <end> <end> <end> <end> <end> <end> <end> <end> <end> <end> <end> <end> <end> <end> <end> <end> <end> <end> <end> <end> <end> <end> <end> <end> <end> <end> <end> <end> <end> <end> <end> <end> <end> <end> <end> <end> <end> <end> <end> <end> <end> <end> <end> <end> <end> <end> <end> <end> <end> <end>']\n",
            "Loss - 0.15732939541339874\n",
            "Loss - 0.0013457679888233542\n",
            "Loss - 0.019983820617198944\n",
            "Current mean 0.05955299735069275\n"
          ]
        },
        {
          "output_type": "stream",
          "name": "stderr",
          "text": [
            "\r 51%|█████     | 51/100 [01:02<00:53,  1.08s/it]"
          ]
        },
        {
          "output_type": "stream",
          "name": "stdout",
          "text": [
            "Translated - ['my girlfriend girlfriend hid hid hid my my cake cake cake cake cake cake cake cake cake cake cake cake cake cake cake cake cake cake cake cake cake cake cake cake cake cake cake cake cake cake cake cake cake cake cake cake cake cake cake cake cake cake cake cake cake cake cake cake cake cake cake cake cake cake cake cake cake cake cake cake cake cake cake cake cake cake cake cake cake cake cake cake cake cake cake cake cake', \"just if you don't know to how code code code code code code code code code code code code code code code code code code code code code code code code code code code code code code code code code code code code code code code code code code code code code code code code code code code code code code code code code code code code code code code code code code code code code code code code code code code code code code\", 'white <end> <end> <end> <end> <end> <end> <end> <end> <end> <end> <end> <end> <end> <end> <end> <end> <end> <end> <end> <end> <end> <end> <end> <end> <end> <end> <end> <end> <end> <end> <end> <end> <end> <end> <end> <end> <end> <end> <end> <end> <end> <end> <end> <end> <end> <end> <end> <end> <end> <end> <end> <end> <end> <end> <end> <end> <end> <end> <end> <end> <end> <end> <end> <end> <end> <end> <end> <end> <end> <end> <end> <end> <end> <end> <end> <end> <end> <end> <end> <end> <end> <end> <end> <end>', 'round <end> <end> <end> <end> <end> <end> <end> <end> <end> <end> <end> <end> <end> <end> <end> <end> <end> <end> <end> <end> <end> <end> <end> <end> <end> <end> <end> <end> <end> <end> <end> <end> <end> <end> <end> <end> <end> <end> <end> <end> <end> <end> <end> <end> <end> <end> <end> <end> <end> <end> <end> <end> <end> <end> <end> <end> <end> <end> <end> <end> <end> <end> <end> <end> <end> <end> <end> <end> <end> <end> <end> <end> <end> <end> <end> <end> <end> <end> <end> <end> <end> <end> <end> <end>', 'with a file <end> <end> <end> <end> <end> <end> <end> <end> <end> <end> <end> <end> <end> <end> <end> <end> <end> <end> <end> <end> <end> <end> <end> <end> <end> <end> <end> <end> <end> <end> <end> <end> <end> <end> <end> <end> <end> <end> <end> <end> <end> <end> <end> <end> <end> <end> <end> <end> <end> <end> <end> <end> <end> <end> <end> <end> <end> <end> <end> <end> <end> <end> <end> <end> <end> <end> <end> <end> <end> <end> <end> <end> <end> <end> <end> <end> <end> <end> <end> <end> <end> <end>', '<end> <end> <end> <end> <end> <end> <end> <end> <end> <end> <end> <end> <end> <end> <end> <end> <end> <end> <end> <end> <end> <end> <end> <end> <end> <end> <end> <end> <end> <end> <end> <end> <end> <end> <end> <end> <end> <end> <end> <end> <end> <end> <end> <end> <end> <end> <end> <end> <end> <end> <end> <end> <end> <end> <end> <end> <end> <end> <end> <end> <end> <end> <end> <end> <end> <end> <end> <end> <end> <end> <end> <end> <end> <end> <end> <end> <end> <end> <end> <end> <end> <end> <end> <end> <end>']\n",
            "Loss - 0.1613900512456894\n",
            "Loss - 0.0011535087833181024\n",
            "Loss - 0.02026972360908985\n",
            "Current mean 0.06093776226043701\n"
          ]
        },
        {
          "output_type": "stream",
          "name": "stderr",
          "text": [
            "\r 52%|█████▏    | 52/100 [01:02<00:45,  1.05it/s]"
          ]
        },
        {
          "output_type": "stream",
          "name": "stdout",
          "text": [
            "Translated - ['my my my my birthday birthday <end> <end>', \"just if you don't know to to <end>\", 'white <end> <end> <end> <end> <end> <end> <end>', 'round <end> <end> <end> <end> <end> <end> <end>', 'with a file <end> <end> <end> <end> <end>', '<end> <end> <end> <end> <end> <end> <end> <end>']\n",
            "Loss - 0.19005751609802246\n",
            "Loss - 0.0009776422521099448\n",
            "Loss - 0.024165919050574303\n",
            "Current mean 0.07173369079828262\n"
          ]
        },
        {
          "output_type": "stream",
          "name": "stderr",
          "text": [
            "\r 53%|█████▎    | 53/100 [01:03<00:45,  1.02it/s]"
          ]
        },
        {
          "output_type": "stream",
          "name": "stdout",
          "text": [
            "Translated - ['my my hid file file file birthday birthday cake cake cake cake cake cake cake cake cake cake cake cake cake cake cake cake cake cake cake cake cake cake cake cake cake cake cake cake cake cake cake cake cake cake cake cake cake cake cake cake cake cake cake cake cake cake cake cake cake cake cake cake cake cake cake cake cake cake cake cake cake cake cake cake cake cake cake cake cake cake cake cake cake cake cake cake cake', \"just if you you don't know to to design design design design design design design design design design design design design design design design design design design design design design design design design design design design design design design design design design design design design design design design design design design design design design design design design design design design design design design design design design design design design design design design design design design design design design design design design design design design design\", 'white <end> <end> <end> <end> <end> <end> <end> <end> <end> <end> <end> <end> <end> <end> <end> <end> <end> <end> <end> <end> <end> <end> <end> <end> <end> <end> <end> <end> <end> <end> <end> <end> <end> <end> <end> <end> <end> <end> <end> <end> <end> <end> <end> <end> <end> <end> <end> <end> <end> <end> <end> <end> <end> <end> <end> <end> <end> <end> <end> <end> <end> <end> <end> <end> <end> <end> <end> <end> <end> <end> <end> <end> <end> <end> <end> <end> <end> <end> <end> <end> <end> <end> <end> <end>', 'round <end> <end> <end> <end> <end> <end> <end> <end> <end> <end> <end> <end> <end> <end> <end> <end> <end> <end> <end> <end> <end> <end> <end> <end> <end> <end> <end> <end> <end> <end> <end> <end> <end> <end> <end> <end> <end> <end> <end> <end> <end> <end> <end> <end> <end> <end> <end> <end> <end> <end> <end> <end> <end> <end> <end> <end> <end> <end> <end> <end> <end> <end> <end> <end> <end> <end> <end> <end> <end> <end> <end> <end> <end> <end> <end> <end> <end> <end> <end> <end> <end> <end> <end> <end>', 'with a a a a a a a a a a a a a a a a a a a a a a a a a a a a a a a a a a a a a a a a a a a a a a a a a a a a a a a a a a a a a a a a a a a a a a a a a a a a a a a a a a a a', '<end> <end> <end> <end> <end> <end> <end> <end> <end> <end> <end> <end> <end> <end> <end> <end> <end> <end> <end> <end> <end> <end> <end> <end> <end> <end> <end> <end> <end> <end> <end> <end> <end> <end> <end> <end> <end> <end> <end> <end> <end> <end> <end> <end> <end> <end> <end> <end> <end> <end> <end> <end> <end> <end> <end> <end> <end> <end> <end> <end> <end> <end> <end> <end> <end> <end> <end> <end> <end> <end> <end> <end> <end> <end> <end> <end> <end> <end> <end> <end> <end> <end> <end> <end> <end>']\n",
            "Loss - 0.16440698504447937\n",
            "Loss - 0.001423079869709909\n",
            "Loss - 0.020652873441576958\n",
            "Current mean 0.062160979956388474\n"
          ]
        },
        {
          "output_type": "stream",
          "name": "stderr",
          "text": [
            "\r 54%|█████▍    | 54/100 [01:04<00:45,  1.02it/s]"
          ]
        },
        {
          "output_type": "stream",
          "name": "stdout",
          "text": [
            "Translated - ['my girlfriend hid hid hid file my birthday cake cake cake cake cake cake cake cake cake cake cake cake cake cake cake cake cake cake cake cake cake cake cake cake cake cake cake cake cake cake cake cake cake cake cake cake cake cake cake cake cake cake cake cake cake cake cake cake cake cake cake cake cake cake cake cake cake cake cake cake cake cake cake cake cake cake cake cake cake cake cake cake cake cake cake cake cake', \"just you don't know to code code code code code code code code code code code code code code code code code code code code code code code code code code code code code code code code code code code code code code code code code code code code code code code code code code code code code code code code code code code code code code code code code code code code code code code code code code code code code code code code\", 'white <end> <end> <end> <end> <end> <end> <end> <end> <end> <end> <end> <end> <end> <end> <end> <end> <end> <end> <end> <end> <end> <end> <end> <end> <end> <end> <end> <end> <end> <end> <end> <end> <end> <end> <end> <end> <end> <end> <end> <end> <end> <end> <end> <end> <end> <end> <end> <end> <end> <end> <end> <end> <end> <end> <end> <end> <end> <end> <end> <end> <end> <end> <end> <end> <end> <end> <end> <end> <end> <end> <end> <end> <end> <end> <end> <end> <end> <end> <end> <end> <end> <end> <end> <end>', 'round <end> <end> <end> <end> <end> <end> <end> <end> <end> <end> <end> <end> <end> <end> <end> <end> <end> <end> <end> <end> <end> <end> <end> <end> <end> <end> <end> <end> <end> <end> <end> <end> <end> <end> <end> <end> <end> <end> <end> <end> <end> <end> <end> <end> <end> <end> <end> <end> <end> <end> <end> <end> <end> <end> <end> <end> <end> <end> <end> <end> <end> <end> <end> <end> <end> <end> <end> <end> <end> <end> <end> <end> <end> <end> <end> <end> <end> <end> <end> <end> <end> <end> <end> <end>', 'with a file <end> <end> <end> <end> <end> <end> <end> <end> <end> <end> <end> <end> <end> <end> <end> <end> <end> <end> <end> <end> <end> <end> <end> <end> <end> <end> <end> <end> <end> <end> <end> <end> <end> <end> <end> <end> <end> <end> <end> <end> <end> <end> <end> <end> <end> <end> <end> <end> <end> <end> <end> <end> <end> <end> <end> <end> <end> <end> <end> <end> <end> <end> <end> <end> <end> <end> <end> <end> <end> <end> <end> <end> <end> <end> <end> <end> <end> <end> <end> <end> <end> <end>', '<end> <end> <end> <end> <end> <end> <end> <end> <end> <end> <end> <end> <end> <end> <end> <end> <end> <end> <end> <end> <end> <end> <end> <end> <end> <end> <end> <end> <end> <end> <end> <end> <end> <end> <end> <end> <end> <end> <end> <end> <end> <end> <end> <end> <end> <end> <end> <end> <end> <end> <end> <end> <end> <end> <end> <end> <end> <end> <end> <end> <end> <end> <end> <end> <end> <end> <end> <end> <end> <end> <end> <end> <end> <end> <end> <end> <end> <end> <end> <end> <end> <end> <end> <end> <end>']\n",
            "Loss - 0.18313755095005035\n",
            "Loss - 0.0011208250652998686\n"
          ]
        },
        {
          "output_type": "stream",
          "name": "stderr",
          "text": [
            "\r 55%|█████▌    | 55/100 [01:05<00:40,  1.11it/s]"
          ]
        },
        {
          "output_type": "stream",
          "name": "stdout",
          "text": [
            "Loss - 0.02285039983689785\n",
            "Current mean 0.06903625279664993\n",
            "Translated - ['girlfriend girlfriend girlfriend hid hid my my cake <end>', \"just if you don't don't know to <end> <end>\", 'white <end> <end> <end> <end> <end> <end> <end> <end>', 'round <end> <end> <end> <end> <end> <end> <end> <end>', 'with <end> <end> <end> <end> <end> <end> <end> <end>', '<end> <end> <end> <end> <end> <end> <end> <end> <end>']\n",
            "Loss - 0.16335543990135193\n",
            "Loss - 0.0011927088489755988\n",
            "Loss - 0.019322415813803673\n",
            "Current mean 0.061290185898542404\n"
          ]
        },
        {
          "output_type": "stream",
          "name": "stderr",
          "text": [
            "\r 56%|█████▌    | 56/100 [01:06<00:37,  1.16it/s]"
          ]
        },
        {
          "output_type": "stream",
          "name": "stdout",
          "text": [
            "Translated - ['my girlfriend girlfriend in my my <end>', 'just if you know to to <end>', 'white <end> <end> <end> <end> <end> <end>', 'round <end> <end> <end> <end> <end> <end>', 'with a file <end> <end> <end> <end>', '<end> <end> <end> <end> <end> <end> <end>']\n",
            "Loss - 0.16594578325748444\n",
            "Loss - 0.0011252539698034525\n",
            "Loss - 0.020494816824793816\n",
            "Current mean 0.06252195686101913\n"
          ]
        },
        {
          "output_type": "stream",
          "name": "stderr",
          "text": [
            "\r 57%|█████▋    | 57/100 [01:07<00:44,  1.04s/it]"
          ]
        },
        {
          "output_type": "stream",
          "name": "stdout",
          "text": [
            "Translated - ['my girlfriend girlfriend in my my my my <end> <end> <end> <end> <end> <end> <end> <end> <end> <end> <end> <end> <end> <end> <end> <end> <end> <end> <end> <end> <end> <end> <end> <end> <end> <end> <end> <end> <end> <end> <end> <end> <end> <end> <end> <end> <end> <end> <end> <end> <end> <end> <end> <end> <end> <end> <end> <end> <end> <end> <end> <end> <end> <end> <end> <end> <end> <end> <end> <end> <end> <end> <end> <end> <end> <end> <end> <end> <end> <end> <end> <end> <end> <end> <end> <end> <end>', \"just if if don't don't to how to design design design design design design design design design design design design design design design design design design design design design design design design design design design design design design design design design design design design design design design design design design design design design design design design design design design design design design design design design design design design design design design design design design design design design design design design design design design design design\", 'white <end> <end> <end> <end> <end> <end> <end> <end> <end> <end> <end> <end> <end> <end> <end> <end> <end> <end> <end> <end> <end> <end> <end> <end> <end> <end> <end> <end> <end> <end> <end> <end> <end> <end> <end> <end> <end> <end> <end> <end> <end> <end> <end> <end> <end> <end> <end> <end> <end> <end> <end> <end> <end> <end> <end> <end> <end> <end> <end> <end> <end> <end> <end> <end> <end> <end> <end> <end> <end> <end> <end> <end> <end> <end> <end> <end> <end> <end> <end> <end> <end> <end> <end> <end>', 'round <end> <end> <end> <end> <end> <end> <end> <end> <end> <end> <end> <end> <end> <end> <end> <end> <end> <end> <end> <end> <end> <end> <end> <end> <end> <end> <end> <end> <end> <end> <end> <end> <end> <end> <end> <end> <end> <end> <end> <end> <end> <end> <end> <end> <end> <end> <end> <end> <end> <end> <end> <end> <end> <end> <end> <end> <end> <end> <end> <end> <end> <end> <end> <end> <end> <end> <end> <end> <end> <end> <end> <end> <end> <end> <end> <end> <end> <end> <end> <end> <end> <end> <end> <end>', 'with a file a <end> <end> <end> <end> <end> <end> <end> <end> <end> <end> <end> <end> <end> <end> <end> <end> <end> <end> <end> <end> <end> <end> <end> <end> <end> <end> <end> <end> <end> <end> <end> <end> <end> <end> <end> <end> <end> <end> <end> <end> <end> <end> <end> <end> <end> <end> <end> <end> <end> <end> <end> <end> <end> <end> <end> <end> <end> <end> <end> <end> <end> <end> <end> <end> <end> <end> <end> <end> <end> <end> <end> <end> <end> <end> <end> <end> <end> <end> <end> <end> <end>', '<end> <end> <end> <end> <end> <end> <end> <end> <end> <end> <end> <end> <end> <end> <end> <end> <end> <end> <end> <end> <end> <end> <end> <end> <end> <end> <end> <end> <end> <end> <end> <end> <end> <end> <end> <end> <end> <end> <end> <end> <end> <end> <end> <end> <end> <end> <end> <end> <end> <end> <end> <end> <end> <end> <end> <end> <end> <end> <end> <end> <end> <end> <end> <end> <end> <end> <end> <end> <end> <end> <end> <end> <end> <end> <end> <end> <end> <end> <end> <end> <end> <end> <end> <end> <end>']\n",
            "Loss - 0.16118890047073364\n",
            "Loss - 0.0009178605396300554\n",
            "Loss - 0.019060155376791954\n",
            "Current mean 0.060388971120119095\n"
          ]
        },
        {
          "output_type": "stream",
          "name": "stderr",
          "text": [
            "\r 58%|█████▊    | 58/100 [01:09<00:50,  1.20s/it]"
          ]
        },
        {
          "output_type": "stream",
          "name": "stdout",
          "text": [
            "Translated - ['my girlfriend girlfriend a a a my birthday cake cake <end> <end> <end> <end> <end> <end> <end> <end> <end> <end> <end> <end> <end> <end> <end> <end> <end> <end> <end> <end> <end> <end> <end> <end> <end> <end> <end> <end> <end> <end> <end> <end> <end> <end> <end> <end> <end> <end> <end> <end> <end> <end> <end> <end> <end> <end> <end> <end> <end> <end> <end> <end> <end> <end> <end> <end> <end> <end> <end> <end> <end> <end> <end> <end> <end> <end> <end> <end> <end> <end> <end> <end> <end> <end> <end>', \"just if if don't know how design design design design design design design design design design design design design design design design design design design design design design design design design design design design design design design design design design design design design design design design design design design design design design design design design design design design design design design design design design design design design design design design design design design design design design design design design design design design design design design\", 'white <end> <end> <end> <end> <end> <end> <end> <end> <end> <end> <end> <end> <end> <end> <end> <end> <end> <end> <end> <end> <end> <end> <end> <end> <end> <end> <end> <end> <end> <end> <end> <end> <end> <end> <end> <end> <end> <end> <end> <end> <end> <end> <end> <end> <end> <end> <end> <end> <end> <end> <end> <end> <end> <end> <end> <end> <end> <end> <end> <end> <end> <end> <end> <end> <end> <end> <end> <end> <end> <end> <end> <end> <end> <end> <end> <end> <end> <end> <end> <end> <end> <end> <end> <end>', 'round <end> <end> <end> <end> <end> <end> <end> <end> <end> <end> <end> <end> <end> <end> <end> <end> <end> <end> <end> <end> <end> <end> <end> <end> <end> <end> <end> <end> <end> <end> <end> <end> <end> <end> <end> <end> <end> <end> <end> <end> <end> <end> <end> <end> <end> <end> <end> <end> <end> <end> <end> <end> <end> <end> <end> <end> <end> <end> <end> <end> <end> <end> <end> <end> <end> <end> <end> <end> <end> <end> <end> <end> <end> <end> <end> <end> <end> <end> <end> <end> <end> <end> <end> <end>', 'with a file <end> <end> <end> <end> <end> <end> <end> <end> <end> <end> <end> <end> <end> <end> <end> <end> <end> <end> <end> <end> <end> <end> <end> <end> <end> <end> <end> <end> <end> <end> <end> <end> <end> <end> <end> <end> <end> <end> <end> <end> <end> <end> <end> <end> <end> <end> <end> <end> <end> <end> <end> <end> <end> <end> <end> <end> <end> <end> <end> <end> <end> <end> <end> <end> <end> <end> <end> <end> <end> <end> <end> <end> <end> <end> <end> <end> <end> <end> <end> <end> <end> <end>', '<end> <end> <end> <end> <end> <end> <end> <end> <end> <end> <end> <end> <end> <end> <end> <end> <end> <end> <end> <end> <end> <end> <end> <end> <end> <end> <end> <end> <end> <end> <end> <end> <end> <end> <end> <end> <end> <end> <end> <end> <end> <end> <end> <end> <end> <end> <end> <end> <end> <end> <end> <end> <end> <end> <end> <end> <end> <end> <end> <end> <end> <end> <end> <end> <end> <end> <end> <end> <end> <end> <end> <end> <end> <end> <end> <end> <end> <end> <end> <end> <end> <end> <end> <end> <end>']\n",
            "Loss - 0.15082430839538574\n",
            "Loss - 0.000780373637098819\n",
            "Loss - 0.01904645375907421\n",
            "Current mean 0.056883711367845535\n"
          ]
        },
        {
          "output_type": "stream",
          "name": "stderr",
          "text": [
            "\r 59%|█████▉    | 59/100 [01:10<00:48,  1.19s/it]"
          ]
        },
        {
          "output_type": "stream",
          "name": "stdout",
          "text": [
            "Translated - ['my girlfriend hid a a file birthday cake cake <end> <end> <end> <end> <end> <end> <end> <end> <end> <end> <end> <end> <end> <end> <end> <end> <end> <end> <end> <end> <end> <end> <end> <end> <end> <end> <end> <end> <end> <end> <end> <end> <end> <end> <end> <end> <end> <end> <end> <end> <end> <end> <end> <end> <end> <end> <end> <end> <end> <end> <end> <end> <end> <end> <end> <end> <end> <end> <end> <end> <end> <end> <end> <end> <end> <end> <end> <end> <end> <end> <end> <end> <end> <end> <end> <end>', \"just if you don't know to code code code code code code code code code code code code code code code code code code code code code code code code code code code code code code code code code code code code code code code code code code code code code code code code code code code code code code code code code code code code code code code code code code code code code code code code code code code code code code code\", 'white <end> <end> <end> <end> <end> <end> <end> <end> <end> <end> <end> <end> <end> <end> <end> <end> <end> <end> <end> <end> <end> <end> <end> <end> <end> <end> <end> <end> <end> <end> <end> <end> <end> <end> <end> <end> <end> <end> <end> <end> <end> <end> <end> <end> <end> <end> <end> <end> <end> <end> <end> <end> <end> <end> <end> <end> <end> <end> <end> <end> <end> <end> <end> <end> <end> <end> <end> <end> <end> <end> <end> <end> <end> <end> <end> <end> <end> <end> <end> <end> <end> <end> <end> <end>', 'round <end> <end> <end> <end> <end> <end> <end> <end> <end> <end> <end> <end> <end> <end> <end> <end> <end> <end> <end> <end> <end> <end> <end> <end> <end> <end> <end> <end> <end> <end> <end> <end> <end> <end> <end> <end> <end> <end> <end> <end> <end> <end> <end> <end> <end> <end> <end> <end> <end> <end> <end> <end> <end> <end> <end> <end> <end> <end> <end> <end> <end> <end> <end> <end> <end> <end> <end> <end> <end> <end> <end> <end> <end> <end> <end> <end> <end> <end> <end> <end> <end> <end> <end> <end>', 'with a <end> <end> <end> <end> <end> <end> <end> <end> <end> <end> <end> <end> <end> <end> <end> <end> <end> <end> <end> <end> <end> <end> <end> <end> <end> <end> <end> <end> <end> <end> <end> <end> <end> <end> <end> <end> <end> <end> <end> <end> <end> <end> <end> <end> <end> <end> <end> <end> <end> <end> <end> <end> <end> <end> <end> <end> <end> <end> <end> <end> <end> <end> <end> <end> <end> <end> <end> <end> <end> <end> <end> <end> <end> <end> <end> <end> <end> <end> <end> <end> <end> <end> <end>', '<end> <end> <end> <end> <end> <end> <end> <end> <end> <end> <end> <end> <end> <end> <end> <end> <end> <end> <end> <end> <end> <end> <end> <end> <end> <end> <end> <end> <end> <end> <end> <end> <end> <end> <end> <end> <end> <end> <end> <end> <end> <end> <end> <end> <end> <end> <end> <end> <end> <end> <end> <end> <end> <end> <end> <end> <end> <end> <end> <end> <end> <end> <end> <end> <end> <end> <end> <end> <end> <end> <end> <end> <end> <end> <end> <end> <end> <end> <end> <end> <end> <end> <end> <end> <end>']\n",
            "Loss - 0.14889512956142426\n",
            "Loss - 0.0006961015751585364\n",
            "Loss - 0.01835845410823822\n",
            "Current mean 0.05598323047161102\n"
          ]
        },
        {
          "output_type": "stream",
          "name": "stderr",
          "text": [
            "\r 60%|██████    | 60/100 [01:11<00:49,  1.24s/it]"
          ]
        },
        {
          "output_type": "stream",
          "name": "stdout",
          "text": [
            "Translated - ['my girlfriend hid hid a file my birthday <end> <end> <end> <end> <end> <end> <end> <end> <end> <end> <end> <end> <end> <end> <end> <end> <end> <end> <end> <end> <end> <end> <end> <end> <end> <end> <end> <end> <end> <end> <end> <end> <end> <end> <end> <end> <end> <end> <end> <end> <end> <end> <end> <end> <end> <end> <end> <end> <end> <end> <end> <end> <end> <end> <end> <end> <end> <end> <end> <end> <end> <end> <end> <end> <end> <end> <end> <end> <end> <end> <end> <end> <end> <end> <end> <end> <end>', \"just if you don't know to to code code code code code code code code code code code code code code code code code code code code code code code code code code code code code code code code code code code code code code code code code code code code code code code code code code code code code code code code code code code code code code code code code code code code code code code code code code code code code code\", 'white <end> <end> <end> <end> <end> <end> <end> <end> <end> <end> <end> <end> <end> <end> <end> <end> <end> <end> <end> <end> <end> <end> <end> <end> <end> <end> <end> <end> <end> <end> <end> <end> <end> <end> <end> <end> <end> <end> <end> <end> <end> <end> <end> <end> <end> <end> <end> <end> <end> <end> <end> <end> <end> <end> <end> <end> <end> <end> <end> <end> <end> <end> <end> <end> <end> <end> <end> <end> <end> <end> <end> <end> <end> <end> <end> <end> <end> <end> <end> <end> <end> <end> <end> <end>', 'round <end> <end> <end> <end> <end> <end> <end> <end> <end> <end> <end> <end> <end> <end> <end> <end> <end> <end> <end> <end> <end> <end> <end> <end> <end> <end> <end> <end> <end> <end> <end> <end> <end> <end> <end> <end> <end> <end> <end> <end> <end> <end> <end> <end> <end> <end> <end> <end> <end> <end> <end> <end> <end> <end> <end> <end> <end> <end> <end> <end> <end> <end> <end> <end> <end> <end> <end> <end> <end> <end> <end> <end> <end> <end> <end> <end> <end> <end> <end> <end> <end> <end> <end> <end>', 'with a file <end> <end> <end> <end> <end> <end> <end> <end> <end> <end> <end> <end> <end> <end> <end> <end> <end> <end> <end> <end> <end> <end> <end> <end> <end> <end> <end> <end> <end> <end> <end> <end> <end> <end> <end> <end> <end> <end> <end> <end> <end> <end> <end> <end> <end> <end> <end> <end> <end> <end> <end> <end> <end> <end> <end> <end> <end> <end> <end> <end> <end> <end> <end> <end> <end> <end> <end> <end> <end> <end> <end> <end> <end> <end> <end> <end> <end> <end> <end> <end> <end> <end>', '<end> <end> <end> <end> <end> <end> <end> <end> <end> <end> <end> <end> <end> <end> <end> <end> <end> <end> <end> <end> <end> <end> <end> <end> <end> <end> <end> <end> <end> <end> <end> <end> <end> <end> <end> <end> <end> <end> <end> <end> <end> <end> <end> <end> <end> <end> <end> <end> <end> <end> <end> <end> <end> <end> <end> <end> <end> <end> <end> <end> <end> <end> <end> <end> <end> <end> <end> <end> <end> <end> <end> <end> <end> <end> <end> <end> <end> <end> <end> <end> <end> <end> <end> <end> <end>']\n",
            "Loss - 0.14508970081806183\n",
            "Loss - 0.000652087212074548\n",
            "Loss - 0.017805924639105797\n",
            "Current mean 0.05451590195298195\n"
          ]
        },
        {
          "output_type": "stream",
          "name": "stderr",
          "text": [
            "\r 61%|██████    | 61/100 [01:12<00:41,  1.07s/it]"
          ]
        },
        {
          "output_type": "stream",
          "name": "stdout",
          "text": [
            "Translated - ['my girlfriend hid hid a file my birthday <end>', \"just if you don't know to to <end> code\", 'white <end> <end> <end> <end> <end> <end> <end> <end>', 'round <end> <end> <end> <end> <end> <end> <end> <end>', 'with a file <end> <end> <end> <end> <end> <end>', '<end> <end> <end> <end> <end> <end> <end> <end> <end>']\n",
            "Loss - 0.1415214240550995\n",
            "Loss - 0.0006224858807399869\n",
            "Loss - 0.017204610630869865\n",
            "Current mean 0.053116172552108765\n"
          ]
        },
        {
          "output_type": "stream",
          "name": "stderr",
          "text": [
            "\r 62%|██████▏   | 62/100 [01:13<00:36,  1.05it/s]"
          ]
        },
        {
          "output_type": "stream",
          "name": "stdout",
          "text": [
            "Translated - ['my girlfriend hid a file my birthday birthday <end>', \"just if you don't know to to <end> code\", 'white <end> <end> <end> <end> <end> <end> <end> <end>', 'round <end> <end> <end> <end> <end> <end> <end> <end>', 'with a file <end> <end> <end> <end> <end> <end>', '<end> <end> <end> <end> <end> <end> <end> <end> <end>']\n",
            "Loss - 0.1388731449842453\n",
            "Loss - 0.0005869895685464144\n",
            "Loss - 0.016627158969640732\n",
            "Current mean 0.05202909931540489\n"
          ]
        },
        {
          "output_type": "stream",
          "name": "stderr",
          "text": [
            "\r 63%|██████▎   | 63/100 [01:14<00:39,  1.06s/it]"
          ]
        },
        {
          "output_type": "stream",
          "name": "stdout",
          "text": [
            "Translated - ['my girlfriend girlfriend a file file my birthday cake <end> <end> <end> <end> <end> <end> <end> <end> <end> <end> <end> <end> <end> <end> <end> <end> <end> <end> <end> <end> <end> <end> <end> <end> <end> <end> <end> <end> <end> <end> <end> <end> <end> <end> <end> <end> <end> <end> <end> <end> <end> <end> <end> <end> <end> <end> <end> <end> <end> <end> <end> <end> <end> <end> <end> <end> <end> <end> <end> <end> <end> <end> <end> <end> <end> <end> <end> <end> <end> <end> <end> <end> <end> <end> <end> <end>', \"just if you don't don't to how design code design code code code code code code code code code code code code code code code code code code code code code code code code code code code code code code code code code code code code code code code code code code code code code code code code code code code code code code code code code code code code code code code code code code code code code code code code code code code\", 'white <end> <end> <end> <end> <end> <end> <end> <end> <end> <end> <end> <end> <end> <end> <end> <end> <end> <end> <end> <end> <end> <end> <end> <end> <end> <end> <end> <end> <end> <end> <end> <end> <end> <end> <end> <end> <end> <end> <end> <end> <end> <end> <end> <end> <end> <end> <end> <end> <end> <end> <end> <end> <end> <end> <end> <end> <end> <end> <end> <end> <end> <end> <end> <end> <end> <end> <end> <end> <end> <end> <end> <end> <end> <end> <end> <end> <end> <end> <end> <end> <end> <end> <end> <end>', 'round <end> <end> <end> <end> <end> <end> <end> <end> <end> <end> <end> <end> <end> <end> <end> <end> <end> <end> <end> <end> <end> <end> <end> <end> <end> <end> <end> <end> <end> <end> <end> <end> <end> <end> <end> <end> <end> <end> <end> <end> <end> <end> <end> <end> <end> <end> <end> <end> <end> <end> <end> <end> <end> <end> <end> <end> <end> <end> <end> <end> <end> <end> <end> <end> <end> <end> <end> <end> <end> <end> <end> <end> <end> <end> <end> <end> <end> <end> <end> <end> <end> <end> <end> <end>', 'with a file <end> <end> <end> <end> <end> <end> <end> <end> <end> <end> <end> <end> <end> <end> <end> <end> <end> <end> <end> <end> <end> <end> <end> <end> <end> <end> <end> <end> <end> <end> <end> <end> <end> <end> <end> <end> <end> <end> <end> <end> <end> <end> <end> <end> <end> <end> <end> <end> <end> <end> <end> <end> <end> <end> <end> <end> <end> <end> <end> <end> <end> <end> <end> <end> <end> <end> <end> <end> <end> <end> <end> <end> <end> <end> <end> <end> <end> <end> <end> <end> <end> <end>', '<end> <end> <end> <end> <end> <end> <end> <end> <end> <end> <end> <end> <end> <end> <end> <end> <end> <end> <end> <end> <end> <end> <end> <end> <end> <end> <end> <end> <end> <end> <end> <end> <end> <end> <end> <end> <end> <end> <end> <end> <end> <end> <end> <end> <end> <end> <end> <end> <end> <end> <end> <end> <end> <end> <end> <end> <end> <end> <end> <end> <end> <end> <end> <end> <end> <end> <end> <end> <end> <end> <end> <end> <end> <end> <end> <end> <end> <end> <end> <end> <end> <end> <end> <end> <end>']\n",
            "Loss - 0.13584165275096893\n",
            "Loss - 0.0005605693440884352\n",
            "Loss - 0.0160572100430727\n",
            "Current mean 0.05081981047987938\n"
          ]
        },
        {
          "output_type": "stream",
          "name": "stderr",
          "text": [
            "\r 64%|██████▍   | 64/100 [01:15<00:33,  1.08it/s]"
          ]
        },
        {
          "output_type": "stream",
          "name": "stdout",
          "text": [
            "Translated - ['my girlfriend girlfriend a file file my birthday cake <end>', \"just if you don't don't how to <end> code <end>\", 'white <end> <end> <end> <end> <end> <end> <end> <end> <end>', 'round <end> <end> <end> <end> <end> <end> <end> <end> <end>', 'with a file <end> <end> <end> <end> <end> <end> <end>', '<end> <end> <end> <end> <end> <end> <end> <end> <end> <end>']\n",
            "Loss - 0.13315069675445557\n",
            "Loss - 0.0005423513939604163\n",
            "Loss - 0.01523906271904707\n",
            "Current mean 0.04964403808116913\n"
          ]
        },
        {
          "output_type": "stream",
          "name": "stderr",
          "text": [
            "\r 65%|██████▌   | 65/100 [01:16<00:31,  1.13it/s]"
          ]
        },
        {
          "output_type": "stream",
          "name": "stdout",
          "text": [
            "Translated - ['my girlfriend hid a file file my birthday cake <end>', \"just if you don't know to how <end> code <end>\", 'white <end> <end> <end> <end> <end> <end> <end> <end> <end>', 'round <end> <end> <end> <end> <end> <end> <end> <end> <end>', 'with a file <end> <end> <end> <end> <end> <end> <end>', '<end> <end> <end> <end> <end> <end> <end> <end> <end> <end>']\n",
            "Loss - 0.13032223284244537\n",
            "Loss - 0.0005281055928207934\n",
            "Loss - 0.014598502777516842\n",
            "Current mean 0.048482950776815414\n"
          ]
        },
        {
          "output_type": "stream",
          "name": "stderr",
          "text": [
            "\r 66%|██████▌   | 66/100 [01:16<00:28,  1.21it/s]"
          ]
        },
        {
          "output_type": "stream",
          "name": "stdout",
          "text": [
            "Translated - ['my girlfriend hid a file file my birthday cake <end>', \"just if you don't know to to <end> code code\", 'white <end> <end> <end> <end> <end> <end> <end> <end> <end>', 'round <end> <end> <end> <end> <end> <end> <end> <end> <end>', 'with a file <end> <end> <end> <end> <end> <end> <end>', '<end> <end> <end> <end> <end> <end> <end> <end> <end> <end>']\n",
            "Loss - 0.12805576622486115\n",
            "Loss - 0.0005194890545681119\n",
            "Loss - 0.013897762633860111\n",
            "Current mean 0.04749100282788277\n"
          ]
        },
        {
          "output_type": "stream",
          "name": "stderr",
          "text": [
            "\r 67%|██████▋   | 67/100 [01:18<00:39,  1.21s/it]"
          ]
        },
        {
          "output_type": "stream",
          "name": "stdout",
          "text": [
            "Translated - ['my girlfriend hid a file my birthday birthday cake <end> <end> <end> <end> <end> <end> <end> <end> <end> <end> <end> <end> <end> <end> <end> <end> <end> <end> <end> <end> <end> <end> <end> <end> <end> <end> <end> <end> <end> <end> <end> <end> <end> <end> <end> <end> <end> <end> <end> <end> <end> <end> <end> <end> <end> <end> <end> <end> <end> <end> <end> <end> <end> <end> <end> <end> <end> <end> <end> <end> <end> <end> <end> <end> <end> <end> <end> <end> <end> <end> <end> <end> <end> <end> <end> <end>', \"just if you don't know to to code code code code code code code code code code code code code code code code code code code code code code code code code code code code code code code code code code code code code code code code code code code code code code code code code code code code code code code code code code code code code code code code code code code code code code code code code code code code code code\", 'white <end> <end> <end> <end> <end> <end> <end> <end> <end> <end> <end> <end> <end> <end> <end> <end> <end> <end> <end> <end> <end> <end> <end> <end> <end> <end> <end> <end> <end> <end> <end> <end> <end> <end> <end> <end> <end> <end> <end> <end> <end> <end> <end> <end> <end> <end> <end> <end> <end> <end> <end> <end> <end> <end> <end> <end> <end> <end> <end> <end> <end> <end> <end> <end> <end> <end> <end> <end> <end> <end> <end> <end> <end> <end> <end> <end> <end> <end> <end> <end> <end> <end> <end> <end>', 'round <end> <end> <end> <end> <end> <end> <end> <end> <end> <end> <end> <end> <end> <end> <end> <end> <end> <end> <end> <end> <end> <end> <end> <end> <end> <end> <end> <end> <end> <end> <end> <end> <end> <end> <end> <end> <end> <end> <end> <end> <end> <end> <end> <end> <end> <end> <end> <end> <end> <end> <end> <end> <end> <end> <end> <end> <end> <end> <end> <end> <end> <end> <end> <end> <end> <end> <end> <end> <end> <end> <end> <end> <end> <end> <end> <end> <end> <end> <end> <end> <end> <end> <end> <end>', 'with a file <end> <end> <end> <end> <end> <end> <end> <end> <end> <end> <end> <end> <end> <end> <end> <end> <end> <end> <end> <end> <end> <end> <end> <end> <end> <end> <end> <end> <end> <end> <end> <end> <end> <end> <end> <end> <end> <end> <end> <end> <end> <end> <end> <end> <end> <end> <end> <end> <end> <end> <end> <end> <end> <end> <end> <end> <end> <end> <end> <end> <end> <end> <end> <end> <end> <end> <end> <end> <end> <end> <end> <end> <end> <end> <end> <end> <end> <end> <end> <end> <end> <end>', '<end> <end> <end> <end> <end> <end> <end> <end> <end> <end> <end> <end> <end> <end> <end> <end> <end> <end> <end> <end> <end> <end> <end> <end> <end> <end> <end> <end> <end> <end> <end> <end> <end> <end> <end> <end> <end> <end> <end> <end> <end> <end> <end> <end> <end> <end> <end> <end> <end> <end> <end> <end> <end> <end> <end> <end> <end> <end> <end> <end> <end> <end> <end> <end> <end> <end> <end> <end> <end> <end> <end> <end> <end> <end> <end> <end> <end> <end> <end> <end> <end> <end> <end> <end> <end>']\n",
            "Loss - 0.12601570785045624\n",
            "Loss - 0.0005104913143441081\n",
            "Loss - 0.014999435283243656\n",
            "Current mean 0.04717520996928215\n"
          ]
        },
        {
          "output_type": "stream",
          "name": "stderr",
          "text": [
            "\r 68%|██████▊   | 68/100 [01:19<00:33,  1.04s/it]"
          ]
        },
        {
          "output_type": "stream",
          "name": "stdout",
          "text": [
            "Translated - ['my girlfriend hid a a file my birthday <end>', \"just if you don't know to how <end> <end>\", 'white <end> <end> <end> <end> <end> <end> <end> <end>', 'round <end> <end> <end> <end> <end> <end> <end> <end>', 'with a file <end> <end> <end> <end> <end> <end>', '<end> <end> <end> <end> <end> <end> <end> <end> <end>']\n",
            "Loss - 0.12528344988822937\n",
            "Loss - 0.00047622984857298434\n",
            "Loss - 0.038076724857091904\n",
            "Current mean 0.05461213365197182\n"
          ]
        },
        {
          "output_type": "stream",
          "name": "stderr",
          "text": [
            "\r 69%|██████▉   | 69/100 [01:20<00:31,  1.00s/it]"
          ]
        },
        {
          "output_type": "stream",
          "name": "stdout",
          "text": [
            "Translated - ['my girlfriend hid a file my birthday birthday cake <end>', \"just if you don't know to to <end> code <end>\", 'white <end> <end> <end> <end> <end> <end> <end> <end> <end>', 'round <end> <end> <end> <end> <end> <end> <end> <end> <end>', 'with a file <end> <end> <end> <end> <end> <end> <end>', '<end> <end> <end> <end> <end> <end> <end> <end> <end> <end>']\n",
            "Loss - 0.12315166741609573\n",
            "Loss - 0.0009187883697450161\n",
            "Loss - 0.0349508635699749\n",
            "Current mean 0.053007107228040695\n"
          ]
        },
        {
          "output_type": "stream",
          "name": "stderr",
          "text": [
            "\r 70%|███████   | 70/100 [01:21<00:32,  1.10s/it]"
          ]
        },
        {
          "output_type": "stream",
          "name": "stdout",
          "text": [
            "Translated - ['my girlfriend hid a a file file birthday cake cake cake cake cake <end> <end> cake <end> <end> <end> cake <end> <end> <end> <end> <end> <end> cake <end> <end> <end> <end> <end> <end> <end> <end> <end> <end> <end> <end> <end> <end> <end> <end> <end> <end> <end> <end> <end> <end> <end> <end> <end> <end> <end> <end> <end> <end> <end> <end> <end> <end> <end> <end> <end> <end> <end> <end> <end> <end> <end> <end> <end> <end> <end> <end> <end> <end> <end> <end> <end> <end> <end> <end> <end> <end>', \"just if you don't know to to <end> <end> <end> <end> <end> <end> <end> <end> <end> <end> <end> <end> <end> <end> <end> <end> <end> <end> <end> <end> <end> <end> <end> <end> <end> <end> <end> <end> <end> <end> <end> <end> <end> <end> <end> <end> <end> <end> <end> <end> <end> <end> <end> <end> <end> <end> <end> <end> <end> <end> <end> <end> <end> <end> <end> <end> <end> <end> <end> <end> <end> <end> <end> <end> <end> <end> <end> <end> <end> <end> <end> <end> <end> <end> <end> <end> <end> <end>\", 'white <end> <end> <end> <end> <end> <end> <end> <end> <end> <end> <end> <end> <end> <end> <end> <end> <end> <end> <end> <end> <end> <end> <end> <end> <end> <end> <end> <end> <end> <end> <end> <end> <end> <end> <end> <end> <end> <end> <end> <end> <end> <end> <end> <end> <end> <end> <end> <end> <end> <end> <end> <end> <end> <end> <end> <end> <end> <end> <end> <end> <end> <end> <end> <end> <end> <end> <end> <end> <end> <end> <end> <end> <end> <end> <end> <end> <end> <end> <end> <end> <end> <end> <end> <end>', 'round <end> <end> <end> <end> <end> <end> <end> <end> <end> <end> <end> <end> <end> <end> <end> <end> <end> <end> <end> <end> <end> <end> <end> <end> <end> <end> <end> <end> <end> <end> <end> <end> <end> <end> <end> <end> <end> <end> <end> <end> <end> <end> <end> <end> <end> <end> <end> <end> <end> <end> <end> <end> <end> <end> <end> <end> <end> <end> <end> <end> <end> <end> <end> <end> <end> <end> <end> <end> <end> <end> <end> <end> <end> <end> <end> <end> <end> <end> <end> <end> <end> <end> <end> <end>', 'with a a file file file file file file file file file file file file file file file file file file file file file file file file file file file file file file file file file file file file file file file file file file file file file file file file file file file file file file file file file file file file file file file file file file file file file file file file file file file file file file file file file file', '<end> <end> <end> <end> <end> <end> <end> <end> <end> <end> <end> <end> <end> <end> <end> <end> <end> <end> <end> <end> <end> <end> <end> <end> <end> <end> <end> <end> <end> <end> <end> <end> <end> <end> <end> <end> <end> <end> <end> <end> <end> <end> <end> <end> <end> <end> <end> <end> <end> <end> <end> <end> <end> <end> <end> <end> <end> <end> <end> <end> <end> <end> <end> <end> <end> <end> <end> <end> <end> <end> <end> <end> <end> <end> <end> <end> <end> <end> <end> <end> <end> <end> <end> <end> <end>']\n",
            "Loss - 0.13081951439380646\n",
            "Loss - 0.004366015549749136\n",
            "Loss - 0.023380104452371597\n",
            "Current mean 0.05285520851612091\n"
          ]
        },
        {
          "output_type": "stream",
          "name": "stderr",
          "text": [
            "\r 71%|███████   | 71/100 [01:22<00:33,  1.16s/it]"
          ]
        },
        {
          "output_type": "stream",
          "name": "stdout",
          "text": [
            "Translated - ['my girlfriend hid a file my birthday cake <end> <end> <end> <end> <end> <end> <end> <end> <end> <end> <end> <end> <end> <end> <end> <end> <end> <end> <end> <end> <end> <end> <end> <end> <end> <end> <end> <end> <end> <end> <end> <end> <end> <end> <end> <end> <end> <end> <end> <end> <end> <end> <end> <end> <end> <end> <end> <end> <end> <end> <end> <end> <end> <end> <end> <end> <end> <end> <end> <end> <end> <end> <end> <end> <end> <end> <end> <end> <end> <end> <end> <end> <end> <end> <end> <end> <end>', \"just if you don't know to to design code code code code code code code code code code code code code code code code code code code code code code code code code code code code code code code code code code code code code code code code code code code code code code code code code code code code code code code code code code code code code code code code code code code code code code code code code code code code code\", 'white <end> <end> <end> <end> <end> <end> <end> <end> <end> <end> <end> <end> <end> <end> <end> <end> <end> <end> <end> <end> <end> <end> <end> <end> <end> <end> <end> <end> <end> <end> <end> <end> <end> <end> <end> <end> <end> <end> <end> <end> <end> <end> <end> <end> <end> <end> <end> <end> <end> <end> <end> <end> <end> <end> <end> <end> <end> <end> <end> <end> <end> <end> <end> <end> <end> <end> <end> <end> <end> <end> <end> <end> <end> <end> <end> <end> <end> <end> <end> <end> <end> <end> <end> <end>', 'round round <end> <end> <end> <end> <end> <end> <end> <end> <end> <end> <end> <end> <end> <end> <end> <end> <end> <end> <end> <end> <end> <end> <end> <end> <end> <end> <end> <end> <end> <end> <end> <end> <end> <end> <end> <end> <end> <end> <end> <end> <end> <end> <end> <end> <end> <end> <end> <end> <end> <end> <end> <end> <end> <end> <end> <end> <end> <end> <end> <end> <end> <end> <end> <end> <end> <end> <end> <end> <end> <end> <end> <end> <end> <end> <end> <end> <end> <end> <end> <end> <end> <end> <end>', 'with <end> <end> <end> <end> <end> <end> <end> <end> <end> <end> <end> <end> <end> <end> <end> <end> <end> <end> <end> <end> <end> <end> <end> <end> <end> <end> <end> <end> <end> <end> <end> <end> <end> <end> <end> <end> <end> <end> <end> <end> <end> <end> <end> <end> <end> <end> <end> <end> <end> <end> <end> <end> <end> <end> <end> <end> <end> <end> <end> <end> <end> <end> <end> <end> <end> <end> <end> <end> <end> <end> <end> <end> <end> <end> <end> <end> <end> <end> <end> <end> <end> <end> <end> <end>', '<end> <end> <end> <end> <end> <end> <end> <end> <end> <end> <end> <end> <end> <end> <end> <end> <end> <end> <end> <end> <end> <end> <end> <end> <end> <end> <end> <end> <end> <end> <end> <end> <end> <end> <end> <end> <end> <end> <end> <end> <end> <end> <end> <end> <end> <end> <end> <end> <end> <end> <end> <end> <end> <end> <end> <end> <end> <end> <end> <end> <end> <end> <end> <end> <end> <end> <end> <end> <end> <end> <end> <end> <end> <end> <end> <end> <end> <end> <end> <end> <end> <end> <end> <end> <end>']\n",
            "Loss - 0.12236890196800232\n",
            "Loss - 0.011175182648003101\n",
            "Loss - 0.036071330308914185\n",
            "Current mean 0.056538473814725876\n"
          ]
        },
        {
          "output_type": "stream",
          "name": "stderr",
          "text": [
            "\r 72%|███████▏  | 72/100 [01:23<00:28,  1.01s/it]"
          ]
        },
        {
          "output_type": "stream",
          "name": "stdout",
          "text": [
            "Translated - ['my girlfriend girlfriend file file my <end>', \"just if you don't know to <end>\", 'white <end> <end> <end> <end> <end> <end>', '<end> <end> <end> <end> <end> <end> <end>', 'with <end> <end> <end> <end> <end> <end>', '<end> <end> <end> <end> <end> <end> <end>']\n",
            "Loss - 0.12705138325691223\n",
            "Loss - 0.02735051140189171\n",
            "Loss - 0.022207845002412796\n",
            "Current mean 0.05886991322040558\n"
          ]
        },
        {
          "output_type": "stream",
          "name": "stderr",
          "text": [
            "\r 73%|███████▎  | 73/100 [01:24<00:24,  1.08it/s]"
          ]
        },
        {
          "output_type": "stream",
          "name": "stdout",
          "text": [
            "Translated - ['my girlfriend hid a file file my birthday <end> <end> <end> <end> <end> <end>', \"just if you don't know how how to <end> <end> <end> <end> <end> <end>\", 'white <end> <end> <end> <end> <end> <end> <end> <end> <end> <end> <end> <end> <end>', '<end> <end> <end> <end> <end> <end> <end> <end> <end> <end> <end> <end> <end> <end>', 'with a file file file file file file file file file file file <end>', '<end> <end> <end> <end> <end> <end> <end> <end> <end> <end> <end> <end> <end> <end>']\n",
            "Loss - 0.1199546530842781\n",
            "Loss - 0.008719714358448982\n",
            "Loss - 0.026441829279065132\n",
            "Current mean 0.05170540139079094\n"
          ]
        },
        {
          "output_type": "stream",
          "name": "stderr",
          "text": [
            "\r 74%|███████▍  | 74/100 [01:25<00:26,  1.02s/it]"
          ]
        },
        {
          "output_type": "stream",
          "name": "stdout",
          "text": [
            "Translated - ['my girlfriend hid hid a file my birthday cake <end> <end> <end> <end> <end> <end> <end> <end> <end> <end> <end> <end> <end> <end> <end> <end> <end> <end> <end> <end> <end> <end> <end> <end> <end> <end> <end> <end> <end> <end> <end> <end> <end> <end> <end> <end> <end> <end> <end> <end> <end> <end> <end> <end> <end> <end> <end> <end> <end> <end> <end> <end> <end> <end> <end> <end> <end> <end> <end> <end> <end> <end> <end> <end> <end> <end> <end> <end> <end> <end> <end> <end> <end> <end> <end> <end>', \"just if you don't know how to design design design design design design design design design design design design design design design design design design design design design design design design design design design design design design design design design design design design design design design design design design design design design design design design design design design design design design design design design design design design design design design design design design design design design design design design design design design design design design\", 'white <end> <end> <end> <end> <end> <end> <end> <end> <end> <end> <end> <end> <end> <end> <end> <end> <end> <end> <end> <end> <end> <end> <end> <end> <end> <end> <end> <end> <end> <end> <end> <end> <end> <end> <end> <end> <end> <end> <end> <end> <end> <end> <end> <end> <end> <end> <end> <end> <end> <end> <end> <end> <end> <end> <end> <end> <end> <end> <end> <end> <end> <end> <end> <end> <end> <end> <end> <end> <end> <end> <end> <end> <end> <end> <end> <end> <end> <end> <end> <end> <end> <end> <end> <end>', 'round <end> <end> <end> <end> <end> <end> <end> <end> <end> <end> <end> <end> <end> <end> <end> <end> <end> <end> <end> <end> <end> <end> <end> <end> <end> <end> <end> <end> <end> <end> <end> <end> <end> <end> <end> <end> <end> <end> <end> <end> <end> <end> <end> <end> <end> <end> <end> <end> <end> <end> <end> <end> <end> <end> <end> <end> <end> <end> <end> <end> <end> <end> <end> <end> <end> <end> <end> <end> <end> <end> <end> <end> <end> <end> <end> <end> <end> <end> <end> <end> <end> <end> <end> <end>', 'with a file file file file file file file file file file file file file file file file file file file file file file file file file file file file file file file file file file file file file file file file file file file file file file file file file file file file file file file file file file file file file file file file file file file file file file file file file file file file file file file file file file file', '<end> <end> <end> <end> <end> <end> <end> <end> <end> <end> <end> <end> <end> <end> <end> <end> <end> <end> <end> <end> <end> <end> <end> <end> <end> <end> <end> <end> <end> <end> <end> <end> <end> <end> <end> <end> <end> <end> <end> <end> <end> <end> <end> <end> <end> <end> <end> <end> <end> <end> <end> <end> <end> <end> <end> <end> <end> <end> <end> <end> <end> <end> <end> <end> <end> <end> <end> <end> <end> <end> <end> <end> <end> <end> <end> <end> <end> <end> <end> <end> <end> <end> <end> <end> <end>']\n",
            "Loss - 0.12110267579555511\n",
            "Loss - 0.003511835355311632\n",
            "Loss - 0.0225058626383543\n",
            "Current mean 0.04904012382030487\n"
          ]
        },
        {
          "output_type": "stream",
          "name": "stderr",
          "text": [
            "\r 75%|███████▌  | 75/100 [01:26<00:24,  1.04it/s]"
          ]
        },
        {
          "output_type": "stream",
          "name": "stdout",
          "text": [
            "Translated - ['my girlfriend hid a file in my birthday cake <end>', \"just if you don't know how to <end> <end> <end>\", 'white <end> <end> <end> <end> <end> <end> <end> <end> <end>', 'round <end> <end> <end> <end> <end> <end> <end> <end> <end>', 'with a file file file file <end> <end> <end> <end>', '<end> <end> <end> <end> <end> <end> <end> <end> <end> <end>']\n",
            "Loss - 0.11693882942199707\n",
            "Loss - 0.0025016446597874165\n"
          ]
        },
        {
          "output_type": "stream",
          "name": "stderr",
          "text": [
            "\r 76%|███████▌  | 76/100 [01:27<00:21,  1.10it/s]"
          ]
        },
        {
          "output_type": "stream",
          "name": "stdout",
          "text": [
            "Loss - 0.019153421744704247\n",
            "Current mean 0.04619796574115753\n",
            "Translated - ['my girlfriend hid a file my birthday cake <end>', \"just if you don't don't know to design <end>\", 'white <end> <end> <end> <end> <end> <end> <end> <end>', 'round <end> <end> <end> <end> <end> <end> <end> <end>', 'with <end> <end> <end> <end> <end> <end> <end> <end>', '<end> <end> <end> <end> <end> <end> <end> <end> <end>']\n",
            "Loss - 0.11650587618350983\n",
            "Loss - 0.001992458011955023\n",
            "Loss - 0.02178158611059189\n",
            "Current mean 0.04675997421145439\n"
          ]
        },
        {
          "output_type": "stream",
          "name": "stderr",
          "text": [
            "\r 77%|███████▋  | 77/100 [01:27<00:19,  1.16it/s]"
          ]
        },
        {
          "output_type": "stream",
          "name": "stdout",
          "text": [
            "Translated - ['my girlfriend hid a file file my <end>', 'just if you know to to <end> <end>', 'white <end> <end> <end> <end> <end> <end> <end>', 'round <end> <end> <end> <end> <end> <end> <end>', 'with <end> <end> <end> <end> <end> <end> <end>', '<end> <end> <end> <end> <end> <end> <end> <end>']\n",
            "Loss - 0.12246847152709961\n",
            "Loss - 0.0016419520834460855\n",
            "Loss - 0.018940767273306847\n",
            "Current mean 0.047683730721473694\n"
          ]
        },
        {
          "output_type": "stream",
          "name": "stderr",
          "text": [
            "\r 78%|███████▊  | 78/100 [01:29<00:24,  1.11s/it]"
          ]
        },
        {
          "output_type": "stream",
          "name": "stdout",
          "text": [
            "Translated - ['my girlfriend hid a file my birthday birthday cake cake <end> <end> <end> <end> cake <end> <end> <end> <end> cake <end> <end> <end> <end> <end> cake <end> <end> <end> <end> <end> <end> cake <end> <end> <end> <end> <end> <end> cake <end> <end> <end> <end> <end> <end> cake <end> <end> <end> <end> <end> <end> cake <end> <end> <end> <end> <end> <end> cake <end> <end> <end> <end> <end> <end> cake <end> <end> <end> <end> <end> <end> cake <end> <end> <end> <end> <end> <end> cake <end> <end> <end>', \"just if you don't know to to to design design design design design design design design design design design design design design design design design design design design design design design design design design design design design design design design design design design design design design design design design design design design design design design design design design design design design design design design design design design design design design design design design design design design design design design design design design design design design\", 'white <end> <end> <end> <end> <end> <end> <end> <end> <end> <end> <end> <end> <end> <end> <end> <end> <end> <end> <end> <end> <end> <end> <end> <end> <end> <end> <end> <end> <end> <end> <end> <end> <end> <end> <end> <end> <end> <end> <end> <end> <end> <end> <end> <end> <end> <end> <end> <end> <end> <end> <end> <end> <end> <end> <end> <end> <end> <end> <end> <end> <end> <end> <end> <end> <end> <end> <end> <end> <end> <end> <end> <end> <end> <end> <end> <end> <end> <end> <end> <end> <end> <end> <end> <end>', 'round <end> <end> <end> <end> <end> <end> <end> <end> <end> <end> <end> <end> <end> <end> <end> <end> <end> <end> <end> <end> <end> <end> <end> <end> <end> <end> <end> <end> <end> <end> <end> <end> <end> <end> <end> <end> <end> <end> <end> <end> <end> <end> <end> <end> <end> <end> <end> <end> <end> <end> <end> <end> <end> <end> <end> <end> <end> <end> <end> <end> <end> <end> <end> <end> <end> <end> <end> <end> <end> <end> <end> <end> <end> <end> <end> <end> <end> <end> <end> <end> <end> <end> <end> <end>', 'with a file <end> <end> <end> <end> <end> <end> <end> <end> <end> <end> <end> <end> <end> <end> <end> <end> <end> <end> <end> <end> <end> <end> <end> <end> <end> <end> <end> <end> <end> <end> <end> <end> <end> <end> <end> <end> <end> <end> <end> <end> <end> <end> <end> <end> <end> <end> <end> <end> <end> <end> <end> <end> <end> <end> <end> <end> <end> <end> <end> <end> <end> <end> <end> <end> <end> <end> <end> <end> <end> <end> <end> <end> <end> <end> <end> <end> <end> <end> <end> <end> <end> <end>', '<end> <end> <end> <end> <end> <end> <end> <end> <end> <end> <end> <end> <end> <end> <end> <end> <end> <end> <end> <end> <end> <end> <end> <end> <end> <end> <end> <end> <end> <end> <end> <end> <end> <end> <end> <end> <end> <end> <end> <end> <end> <end> <end> <end> <end> <end> <end> <end> <end> <end> <end> <end> <end> <end> <end> <end> <end> <end> <end> <end> <end> <end> <end> <end> <end> <end> <end> <end> <end> <end> <end> <end> <end> <end> <end> <end> <end> <end> <end> <end> <end> <end> <end> <end> <end>']\n",
            "Loss - 0.12475043535232544\n",
            "Loss - 0.001535259885713458\n",
            "Loss - 0.018055764958262444\n",
            "Current mean 0.04811382293701172\n"
          ]
        },
        {
          "output_type": "stream",
          "name": "stderr",
          "text": [
            "\r 79%|███████▉  | 79/100 [01:32<00:30,  1.47s/it]"
          ]
        },
        {
          "output_type": "stream",
          "name": "stdout",
          "text": [
            "Translated - ['my girlfriend hid a file in my birthday cake <end> <end> <end> <end> <end> <end> <end> <end> <end> <end> <end> <end> <end> <end> <end> <end> <end> <end> <end> <end> <end> <end> <end> <end> <end> <end> <end> <end> <end> <end> <end> <end> <end> <end> <end> <end> <end> <end> <end> <end> <end> <end> <end> <end> <end> <end> <end> <end> <end> <end> <end> <end> <end> <end> <end> <end> <end> <end> <end> <end> <end> <end> <end> <end> <end> <end> <end> <end> <end> <end> <end> <end> <end> <end> <end> <end>', \"just if you don't know to design design design design design design design design design design design design design design design design design design design design design design design design design design design design design design design design design design design design design design design design design design design design design design design design design design design design design design design design design design design design design design design design design design design design design design design design design design design design design design design\", 'white <end> <end> <end> <end> <end> <end> <end> <end> <end> <end> <end> <end> <end> <end> <end> <end> <end> <end> <end> <end> <end> <end> <end> <end> <end> <end> <end> <end> <end> <end> <end> <end> <end> <end> <end> <end> <end> <end> <end> <end> <end> <end> <end> <end> <end> <end> <end> <end> <end> <end> <end> <end> <end> <end> <end> <end> <end> <end> <end> <end> <end> <end> <end> <end> <end> <end> <end> <end> <end> <end> <end> <end> <end> <end> <end> <end> <end> <end> <end> <end> <end> <end> <end> <end>', 'round <end> <end> <end> <end> <end> <end> <end> <end> <end> <end> <end> <end> <end> <end> <end> <end> <end> <end> <end> <end> <end> <end> <end> <end> <end> <end> <end> <end> <end> <end> <end> <end> <end> <end> <end> <end> <end> <end> <end> <end> <end> <end> <end> <end> <end> <end> <end> <end> <end> <end> <end> <end> <end> <end> <end> <end> <end> <end> <end> <end> <end> <end> <end> <end> <end> <end> <end> <end> <end> <end> <end> <end> <end> <end> <end> <end> <end> <end> <end> <end> <end> <end> <end> <end>', 'with a file file <end> <end> <end> <end> <end> <end> <end> <end> <end> <end> <end> <end> <end> <end> <end> <end> <end> <end> <end> <end> <end> <end> <end> <end> <end> <end> <end> <end> <end> <end> <end> <end> <end> <end> <end> <end> <end> <end> <end> <end> <end> <end> <end> <end> <end> <end> <end> <end> <end> <end> <end> <end> <end> <end> <end> <end> <end> <end> <end> <end> <end> <end> <end> <end> <end> <end> <end> <end> <end> <end> <end> <end> <end> <end> <end> <end> <end> <end> <end> <end> <end>', '<end> <end> <end> <end> <end> <end> <end> <end> <end> <end> <end> <end> <end> <end> <end> <end> <end> <end> <end> <end> <end> <end> <end> <end> <end> <end> <end> <end> <end> <end> <end> <end> <end> <end> <end> <end> <end> <end> <end> <end> <end> <end> <end> <end> <end> <end> <end> <end> <end> <end> <end> <end> <end> <end> <end> <end> <end> <end> <end> <end> <end> <end> <end> <end> <end> <end> <end> <end> <end> <end> <end> <end> <end> <end> <end> <end> <end> <end> <end> <end> <end> <end> <end> <end> <end>']\n",
            "Loss - 0.11299562454223633\n",
            "Loss - 0.0013416168512776494\n",
            "Loss - 0.01812267303466797\n",
            "Current mean 0.044153302907943726\n"
          ]
        },
        {
          "output_type": "stream",
          "name": "stderr",
          "text": [
            "\r 80%|████████  | 80/100 [01:33<00:27,  1.39s/it]"
          ]
        },
        {
          "output_type": "stream",
          "name": "stdout",
          "text": [
            "Translated - ['my girlfriend hid a file in my birthday cake <end>', \"just if you don't know to <end> code <end> code\", 'white <end> <end> <end> <end> <end> <end> <end> <end> <end>', 'round <end> <end> <end> <end> <end> <end> <end> <end> <end>', 'with a file file <end> <end> <end> <end> <end> <end>', '<end> <end> <end> <end> <end> <end> <end> <end> <end> <end>']\n",
            "Loss - 0.11260396242141724\n",
            "Loss - 0.001057337038218975\n",
            "Loss - 0.017177972942590714\n",
            "Current mean 0.043613091111183167\n"
          ]
        },
        {
          "output_type": "stream",
          "name": "stderr",
          "text": [
            "\r 81%|████████  | 81/100 [01:34<00:25,  1.34s/it]"
          ]
        },
        {
          "output_type": "stream",
          "name": "stdout",
          "text": [
            "Translated - ['my girlfriend hid a file file my birthday cake <end>', \"just if you don't know how to <end> <end> <end>\", 'white <end> <end> <end> <end> <end> <end> <end> <end> <end>', 'round <end> <end> <end> <end> <end> <end> <end> <end> <end>', 'with a file <end> <end> <end> <end> <end> <end> <end>', '<end> <end> <end> <end> <end> <end> <end> <end> <end> <end>']\n",
            "Loss - 0.10713150352239609\n",
            "Loss - 0.0008326618117280304\n",
            "Loss - 0.01656242460012436\n",
            "Current mean 0.04150886461138725\n"
          ]
        },
        {
          "output_type": "stream",
          "name": "stderr",
          "text": [
            "\r 82%|████████▏ | 82/100 [01:35<00:22,  1.27s/it]"
          ]
        },
        {
          "output_type": "stream",
          "name": "stdout",
          "text": [
            "Translated - ['my girlfriend hid a file in my birthday cake <end>', \"just if you don't know how how to <end> <end>\", 'white <end> <end> <end> <end> <end> <end> <end> <end> <end>', 'round <end> <end> <end> <end> <end> <end> <end> <end> <end>', 'with a file <end> <end> <end> <end> <end> <end> <end>', '<end> <end> <end> <end> <end> <end> <end> <end> <end> <end>']\n",
            "Loss - 0.10697035491466522\n",
            "Loss - 0.0006487696664407849\n",
            "Loss - 0.016446612775325775\n",
            "Current mean 0.04135524481534958\n"
          ]
        },
        {
          "output_type": "stream",
          "name": "stderr",
          "text": [
            "\r 83%|████████▎ | 83/100 [01:37<00:26,  1.56s/it]"
          ]
        },
        {
          "output_type": "stream",
          "name": "stdout",
          "text": [
            "Translated - ['my girlfriend hid a file my birthday birthday cake <end> <end> <end> <end> <end> <end> <end> <end> <end> <end> <end> <end> <end> <end> <end> <end> <end> <end> <end> <end> <end> <end> <end> <end> <end> <end> <end> <end> <end> <end> <end> <end> <end> <end> <end> <end> <end> <end> <end> <end> <end> <end> <end> <end> <end> <end> <end> <end> <end> <end> <end> <end> <end> <end> <end> <end> <end> <end> <end> <end> <end> <end> <end> <end> <end> <end> <end> <end> <end> <end> <end> <end> <end> <end> <end> <end>', \"just if you don't know how to design code code code code code code code code code code code code code code code code code code code code code code code code code code code code code code code code code code code code code code code code code code code code code code code code code code code code code code code code code code code code code code code code code code code code code code code code code code code code code\", 'white <end> <end> <end> <end> <end> <end> <end> <end> <end> <end> <end> <end> <end> <end> <end> <end> <end> <end> <end> <end> <end> <end> <end> <end> <end> <end> <end> <end> <end> <end> <end> <end> <end> <end> <end> <end> <end> <end> <end> <end> <end> <end> <end> <end> <end> <end> <end> <end> <end> <end> <end> <end> <end> <end> <end> <end> <end> <end> <end> <end> <end> <end> <end> <end> <end> <end> <end> <end> <end> <end> <end> <end> <end> <end> <end> <end> <end> <end> <end> <end> <end> <end> <end> <end>', 'round <end> <end> <end> <end> <end> <end> <end> <end> <end> <end> <end> <end> <end> <end> <end> <end> <end> <end> <end> <end> <end> <end> <end> <end> <end> <end> <end> <end> <end> <end> <end> <end> <end> <end> <end> <end> <end> <end> <end> <end> <end> <end> <end> <end> <end> <end> <end> <end> <end> <end> <end> <end> <end> <end> <end> <end> <end> <end> <end> <end> <end> <end> <end> <end> <end> <end> <end> <end> <end> <end> <end> <end> <end> <end> <end> <end> <end> <end> <end> <end> <end> <end> <end> <end>', 'with a <end> <end> <end> <end> <end> <end> <end> <end> <end> <end> <end> <end> <end> <end> <end> <end> <end> <end> <end> <end> <end> <end> <end> <end> <end> <end> <end> <end> <end> <end> <end> <end> <end> <end> <end> <end> <end> <end> <end> <end> <end> <end> <end> <end> <end> <end> <end> <end> <end> <end> <end> <end> <end> <end> <end> <end> <end> <end> <end> <end> <end> <end> <end> <end> <end> <end> <end> <end> <end> <end> <end> <end> <end> <end> <end> <end> <end> <end> <end> <end> <end> <end> <end>', '<end> <end> <end> <end> <end> <end> <end> <end> <end> <end> <end> <end> <end> <end> <end> <end> <end> <end> <end> <end> <end> <end> <end> <end> <end> <end> <end> <end> <end> <end> <end> <end> <end> <end> <end> <end> <end> <end> <end> <end> <end> <end> <end> <end> <end> <end> <end> <end> <end> <end> <end> <end> <end> <end> <end> <end> <end> <end> <end> <end> <end> <end> <end> <end> <end> <end> <end> <end> <end> <end> <end> <end> <end> <end> <end> <end> <end> <end> <end> <end> <end> <end> <end> <end> <end>']\n",
            "Loss - 0.10446278005838394\n",
            "Loss - 0.0005240991013124585\n",
            "Loss - 0.015774894505739212\n",
            "Current mean 0.04025392234325409\n"
          ]
        },
        {
          "output_type": "stream",
          "name": "stderr",
          "text": [
            "\r 84%|████████▍ | 84/100 [01:38<00:23,  1.44s/it]"
          ]
        },
        {
          "output_type": "stream",
          "name": "stdout",
          "text": [
            "Translated - ['my girlfriend hid a file in my birthday cake <end>', \"just if you don't don't know how <end> <end> <end>\", 'white <end> <end> <end> <end> <end> <end> <end> <end> <end>', 'round <end> <end> <end> <end> <end> <end> <end> <end> <end>', 'with a file <end> <end> <end> <end> <end> <end> <end>', '<end> <end> <end> <end> <end> <end> <end> <end> <end> <end>']\n",
            "Loss - 0.10737404227256775\n",
            "Loss - 0.000467522069811821\n",
            "Loss - 0.015114827081561089\n",
            "Current mean 0.04098546504974365\n"
          ]
        },
        {
          "output_type": "stream",
          "name": "stderr",
          "text": [
            "\r 85%|████████▌ | 85/100 [01:40<00:20,  1.34s/it]"
          ]
        },
        {
          "output_type": "stream",
          "name": "stdout",
          "text": [
            "Translated - ['my girlfriend hid a file in my birthday cake <end>', \"just if you don't know to design code <end> code\", 'white <end> <end> <end> <end> <end> <end> <end> <end> <end>', 'round <end> <end> <end> <end> <end> <end> <end> <end> <end>', 'with a file <end> <end> <end> <end> <end> <end> <end>', '<end> <end> <end> <end> <end> <end> <end> <end> <end> <end>']\n",
            "Loss - 0.10064395517110825\n",
            "Loss - 0.0004215833032503724\n",
            "Loss - 0.01466891635209322\n",
            "Current mean 0.038578152656555176\n"
          ]
        },
        {
          "output_type": "stream",
          "name": "stderr",
          "text": [
            "\r 86%|████████▌ | 86/100 [01:41<00:18,  1.35s/it]"
          ]
        },
        {
          "output_type": "stream",
          "name": "stdout",
          "text": [
            "Translated - ['my girlfriend hid a file my birthday birthday cake <end>', \"just if you don't how to to design code <end>\", 'white <end> <end> <end> <end> <end> <end> <end> <end> <end>', 'round <end> <end> <end> <end> <end> <end> <end> <end> <end>', 'with a file <end> <end> <end> <end> <end> <end> <end>', '<end> <end> <end> <end> <end> <end> <end> <end> <end> <end>']\n",
            "Loss - 0.09836322069168091\n",
            "Loss - 0.00040318543324247\n",
            "Loss - 0.014038611203432083\n",
            "Current mean 0.03760167583823204\n"
          ]
        },
        {
          "output_type": "stream",
          "name": "stderr",
          "text": [
            "\r 87%|████████▋ | 87/100 [01:42<00:16,  1.27s/it]"
          ]
        },
        {
          "output_type": "stream",
          "name": "stdout",
          "text": [
            "Translated - ['my girlfriend hid a file in my birthday cake <end>', \"just if you don't know how to <end> <end> <end>\", 'white <end> <end> <end> <end> <end> <end> <end> <end> <end>', 'round <end> <end> <end> <end> <end> <end> <end> <end> <end>', 'with a file <end> <end> <end> <end> <end> <end> <end>', '<end> <end> <end> <end> <end> <end> <end> <end> <end> <end>']\n",
            "Loss - 0.09499692916870117\n",
            "Loss - 0.00038193209911696613\n",
            "Loss - 0.013384290039539337\n",
            "Current mean 0.036254383623600006\n"
          ]
        },
        {
          "output_type": "stream",
          "name": "stderr",
          "text": [
            "\r 88%|████████▊ | 88/100 [01:43<00:14,  1.17s/it]"
          ]
        },
        {
          "output_type": "stream",
          "name": "stdout",
          "text": [
            "Translated - ['my girlfriend hid a file in my birthday cake <end>', \"just if you don't know how to <end> <end> <end>\", 'white <end> <end> <end> <end> <end> <end> <end> <end> <end>', 'round <end> <end> <end> <end> <end> <end> <end> <end> <end>', 'with a file <end> <end> <end> <end> <end> <end> <end>', '<end> <end> <end> <end> <end> <end> <end> <end> <end> <end>']\n",
            "Loss - 0.09247903525829315\n",
            "Loss - 0.00037076458102092147\n",
            "Loss - 0.012776472605764866\n",
            "Current mean 0.03520875796675682\n"
          ]
        },
        {
          "output_type": "stream",
          "name": "stderr",
          "text": [
            "\r 89%|████████▉ | 89/100 [01:44<00:12,  1.17s/it]"
          ]
        },
        {
          "output_type": "stream",
          "name": "stdout",
          "text": [
            "Translated - ['my girlfriend hid a file in my birthday cake <end> <end> <end> <end> <end> <end> <end> <end> <end> <end> <end> <end> <end> <end> <end> <end> <end> <end> <end> <end> <end> <end> <end> <end> <end> <end> <end> <end> <end> <end> <end> <end> <end> <end> <end> <end> <end> <end> <end> <end> <end> <end> <end> <end> <end> <end> <end> <end> <end> <end> <end> <end> <end> <end> <end> <end> <end> <end> <end> <end> <end> <end> <end> <end> <end> <end> <end> <end> <end> <end> <end> <end> <end> <end> <end> <end>', \"just if you don't know how to design code code code code code code code code code code code code code code code code code code code code code code code code code code code code code code code code code code code code code code code code code code code code code code code code code code code code code code code code code code code code code code code code code code code code code code code code code code code code code\", 'white <end> <end> <end> <end> <end> <end> <end> <end> <end> <end> <end> <end> <end> <end> <end> <end> <end> <end> <end> <end> <end> <end> <end> <end> <end> <end> <end> <end> <end> <end> <end> <end> <end> <end> <end> <end> <end> <end> <end> <end> <end> <end> <end> <end> <end> <end> <end> <end> <end> <end> <end> <end> <end> <end> <end> <end> <end> <end> <end> <end> <end> <end> <end> <end> <end> <end> <end> <end> <end> <end> <end> <end> <end> <end> <end> <end> <end> <end> <end> <end> <end> <end> <end> <end>', 'round <end> <end> <end> <end> <end> <end> <end> <end> <end> <end> <end> <end> <end> <end> <end> <end> <end> <end> <end> <end> <end> <end> <end> <end> <end> <end> <end> <end> <end> <end> <end> <end> <end> <end> <end> <end> <end> <end> <end> <end> <end> <end> <end> <end> <end> <end> <end> <end> <end> <end> <end> <end> <end> <end> <end> <end> <end> <end> <end> <end> <end> <end> <end> <end> <end> <end> <end> <end> <end> <end> <end> <end> <end> <end> <end> <end> <end> <end> <end> <end> <end> <end> <end> <end>', 'with a file <end> <end> <end> <end> <end> <end> <end> <end> <end> <end> <end> <end> <end> <end> <end> <end> <end> <end> <end> <end> <end> <end> <end> <end> <end> <end> <end> <end> <end> <end> <end> <end> <end> <end> <end> <end> <end> <end> <end> <end> <end> <end> <end> <end> <end> <end> <end> <end> <end> <end> <end> <end> <end> <end> <end> <end> <end> <end> <end> <end> <end> <end> <end> <end> <end> <end> <end> <end> <end> <end> <end> <end> <end> <end> <end> <end> <end> <end> <end> <end> <end> <end>', '<end> <end> <end> <end> <end> <end> <end> <end> <end> <end> <end> <end> <end> <end> <end> <end> <end> <end> <end> <end> <end> <end> <end> <end> <end> <end> <end> <end> <end> <end> <end> <end> <end> <end> <end> <end> <end> <end> <end> <end> <end> <end> <end> <end> <end> <end> <end> <end> <end> <end> <end> <end> <end> <end> <end> <end> <end> <end> <end> <end> <end> <end> <end> <end> <end> <end> <end> <end> <end> <end> <end> <end> <end> <end> <end> <end> <end> <end> <end> <end> <end> <end> <end> <end> <end>']\n",
            "Loss - 0.0908130556344986\n",
            "Loss - 0.0003557262534741312\n",
            "Loss - 0.012120397761464119\n",
            "Current mean 0.034429725259542465\n"
          ]
        },
        {
          "output_type": "stream",
          "name": "stderr",
          "text": [
            "\r 90%|█████████ | 90/100 [01:45<00:09,  1.00it/s]"
          ]
        },
        {
          "output_type": "stream",
          "name": "stdout",
          "text": [
            "Translated - ['my girlfriend hid a file in my birthday cake <end>', \"just if you don't know how to design <end> <end>\", 'white <end> <end> <end> <end> <end> <end> <end> <end> <end>', 'round <end> <end> <end> <end> <end> <end> <end> <end> <end>', 'with a file <end> <end> <end> <end> <end> <end> <end>', '<end> <end> <end> <end> <end> <end> <end> <end> <end> <end>']\n",
            "Loss - 0.08759135007858276\n",
            "Loss - 0.00032800156623125076\n",
            "Loss - 0.011479255743324757\n",
            "Current mean 0.03313286975026131\n"
          ]
        },
        {
          "output_type": "stream",
          "name": "stderr",
          "text": [
            "\r 91%|█████████ | 91/100 [01:45<00:07,  1.14it/s]"
          ]
        },
        {
          "output_type": "stream",
          "name": "stdout",
          "text": [
            "Translated - ['my girlfriend hid a file in my birthday cake <end>', \"just if you don't know how to design <end> <end>\", 'white <end> <end> <end> <end> <end> <end> <end> <end> <end>', 'round <end> <end> <end> <end> <end> <end> <end> <end> <end>', 'with a file <end> <end> <end> <end> <end> <end> <end>', '<end> <end> <end> <end> <end> <end> <end> <end> <end> <end>']\n",
            "Loss - 0.08625973016023636\n",
            "Loss - 0.0003064319025725126\n",
            "Loss - 0.010735507123172283\n",
            "Current mean 0.0324338898062706\n"
          ]
        },
        {
          "output_type": "stream",
          "name": "stderr",
          "text": [
            "\r 92%|█████████▏| 92/100 [01:46<00:06,  1.25it/s]"
          ]
        },
        {
          "output_type": "stream",
          "name": "stdout",
          "text": [
            "Translated - ['my girlfriend hid a file in my birthday cake <end>', \"just if you don't know to to design code <end>\", 'white <end> <end> <end> <end> <end> <end> <end> <end> <end>', 'round <end> <end> <end> <end> <end> <end> <end> <end> <end>', 'with a file <end> <end> <end> <end> <end> <end> <end>', '<end> <end> <end> <end> <end> <end> <end> <end> <end> <end>']\n",
            "Loss - 0.08487474173307419\n",
            "Loss - 0.0002871527394745499\n",
            "Loss - 0.009916942566633224\n",
            "Current mean 0.03169294819235802\n"
          ]
        },
        {
          "output_type": "stream",
          "name": "stderr",
          "text": [
            "\r 93%|█████████▎| 93/100 [01:47<00:05,  1.35it/s]"
          ]
        },
        {
          "output_type": "stream",
          "name": "stdout",
          "text": [
            "Translated - ['my girlfriend hid a file in my birthday cake <end>', \"just if you don't know how to design code <end>\", 'white <end> <end> <end> <end> <end> <end> <end> <end> <end>', 'round <end> <end> <end> <end> <end> <end> <end> <end> <end>', 'with a file <end> <end> <end> <end> <end> <end> <end>', '<end> <end> <end> <end> <end> <end> <end> <end> <end> <end>']\n",
            "Loss - 0.08393163979053497\n",
            "Loss - 0.00027143824263475835\n",
            "Loss - 0.009067542850971222\n",
            "Current mean 0.031090207397937775\n"
          ]
        },
        {
          "output_type": "stream",
          "name": "stderr",
          "text": [
            "\r 94%|█████████▍| 94/100 [01:47<00:04,  1.42it/s]"
          ]
        },
        {
          "output_type": "stream",
          "name": "stdout",
          "text": [
            "Translated - ['my girlfriend hid a file in my birthday cake <end>', \"just if you don't know to design <end> <end> <end>\", 'white <end> <end> <end> <end> <end> <end> <end> <end> <end>', 'round <end> <end> <end> <end> <end> <end> <end> <end> <end>', 'with a file <end> <end> <end> <end> <end> <end> <end>', '<end> <end> <end> <end> <end> <end> <end> <end> <end> <end>']\n",
            "Loss - 0.09181980043649673\n",
            "Loss - 0.0002641901664901525\n",
            "Loss - 0.008430569432675838\n",
            "Current mean 0.03350485488772392\n"
          ]
        },
        {
          "output_type": "stream",
          "name": "stderr",
          "text": [
            "\r 95%|█████████▌| 95/100 [01:48<00:04,  1.25it/s]"
          ]
        },
        {
          "output_type": "stream",
          "name": "stdout",
          "text": [
            "Translated - ['my girlfriend hid a file my birthday birthday cake <end> <end> <end> <end> <end> <end> <end> <end> <end> <end> <end> <end> <end> <end> <end> <end> <end> <end> <end> <end> <end> <end> <end> <end> <end> <end> <end> <end> <end> <end> <end> <end> <end> <end> <end> <end> <end> <end> <end> <end> <end> <end> <end> <end> <end> <end> <end> <end> <end> <end> <end> <end> <end> <end> <end> <end> <end> <end> <end> <end> <end> <end> <end> <end> <end> <end> <end> <end> <end> <end> <end> <end> <end> <end> <end> <end>', \"just if you don't know how to to design design code design code design code design code design code design code design code design code design code design code design code design code design code design code design code design code design code design code design code design code design code design code design code code code code code code code code code code code code code code code code code code code code code code code code code code code code code code code\", 'white <end> <end> <end> <end> <end> <end> <end> <end> <end> <end> <end> <end> <end> <end> <end> <end> <end> <end> <end> <end> <end> <end> <end> <end> <end> <end> <end> <end> <end> <end> <end> <end> <end> <end> <end> <end> <end> <end> <end> <end> <end> <end> <end> <end> <end> <end> <end> <end> <end> <end> <end> <end> <end> <end> <end> <end> <end> <end> <end> <end> <end> <end> <end> <end> <end> <end> <end> <end> <end> <end> <end> <end> <end> <end> <end> <end> <end> <end> <end> <end> <end> <end> <end> <end>', 'round <end> <end> <end> <end> <end> <end> <end> <end> <end> <end> <end> <end> <end> <end> <end> <end> <end> <end> <end> <end> <end> <end> <end> <end> <end> <end> <end> <end> <end> <end> <end> <end> <end> <end> <end> <end> <end> <end> <end> <end> <end> <end> <end> <end> <end> <end> <end> <end> <end> <end> <end> <end> <end> <end> <end> <end> <end> <end> <end> <end> <end> <end> <end> <end> <end> <end> <end> <end> <end> <end> <end> <end> <end> <end> <end> <end> <end> <end> <end> <end> <end> <end> <end> <end>', 'with a file <end> <end> <end> <end> <end> <end> <end> <end> <end> <end> <end> <end> <end> <end> <end> <end> <end> <end> <end> <end> <end> <end> <end> <end> <end> <end> <end> <end> <end> <end> <end> <end> <end> <end> <end> <end> <end> <end> <end> <end> <end> <end> <end> <end> <end> <end> <end> <end> <end> <end> <end> <end> <end> <end> <end> <end> <end> <end> <end> <end> <end> <end> <end> <end> <end> <end> <end> <end> <end> <end> <end> <end> <end> <end> <end> <end> <end> <end> <end> <end> <end> <end>', '<end> <end> <end> <end> <end> <end> <end> <end> <end> <end> <end> <end> <end> <end> <end> <end> <end> <end> <end> <end> <end> <end> <end> <end> <end> <end> <end> <end> <end> <end> <end> <end> <end> <end> <end> <end> <end> <end> <end> <end> <end> <end> <end> <end> <end> <end> <end> <end> <end> <end> <end> <end> <end> <end> <end> <end> <end> <end> <end> <end> <end> <end> <end> <end> <end> <end> <end> <end> <end> <end> <end> <end> <end> <end> <end> <end> <end> <end> <end> <end> <end> <end> <end> <end> <end>']\n",
            "Loss - 0.09895045310258865\n",
            "Loss - 0.0003228508576285094\n",
            "Loss - 0.008232289925217628\n",
            "Current mean 0.03583519533276558\n"
          ]
        },
        {
          "output_type": "stream",
          "name": "stderr",
          "text": [
            "\r 96%|█████████▌| 96/100 [01:49<00:03,  1.13it/s]"
          ]
        },
        {
          "output_type": "stream",
          "name": "stdout",
          "text": [
            "Translated - ['my girlfriend hid a file in my birthday <end> <end> <end> <end> <end> <end> <end> <end> <end> <end> <end> <end> <end> <end> <end> <end> <end> <end> <end> <end> <end> <end> <end> <end> <end> <end> <end> <end> <end> <end> <end> <end> <end> <end> <end> <end> <end> <end> <end> <end> <end> <end> <end> <end> <end> <end> <end> <end> <end> <end> <end> <end> <end> <end> <end> <end> <end> <end> <end> <end> <end> <end> <end> <end> <end> <end> <end> <end> <end> <end> <end> <end> <end> <end> <end> <end> <end>', \"just if you don't know to design code code code code code code code code code code code code code code code code code code code code code code code code code code code code code code code code code code code code code code code code code code code code code code code code code code code code code code code code code code code code code code code code code code code code code code code code code code code code code code\", 'white <end> <end> <end> <end> <end> <end> <end> <end> <end> <end> <end> <end> <end> <end> <end> <end> <end> <end> <end> <end> <end> <end> <end> <end> <end> <end> <end> <end> <end> <end> <end> <end> <end> <end> <end> <end> <end> <end> <end> <end> <end> <end> <end> <end> <end> <end> <end> <end> <end> <end> <end> <end> <end> <end> <end> <end> <end> <end> <end> <end> <end> <end> <end> <end> <end> <end> <end> <end> <end> <end> <end> <end> <end> <end> <end> <end> <end> <end> <end> <end> <end> <end> <end> <end>', 'round <end> <end> <end> <end> <end> <end> <end> <end> <end> <end> <end> <end> <end> <end> <end> <end> <end> <end> <end> <end> <end> <end> <end> <end> <end> <end> <end> <end> <end> <end> <end> <end> <end> <end> <end> <end> <end> <end> <end> <end> <end> <end> <end> <end> <end> <end> <end> <end> <end> <end> <end> <end> <end> <end> <end> <end> <end> <end> <end> <end> <end> <end> <end> <end> <end> <end> <end> <end> <end> <end> <end> <end> <end> <end> <end> <end> <end> <end> <end> <end> <end> <end> <end> <end>', 'with a file <end> <end> <end> <end> <end> <end> <end> <end> <end> <end> <end> <end> <end> <end> <end> <end> <end> <end> <end> <end> <end> <end> <end> <end> <end> <end> <end> <end> <end> <end> <end> <end> <end> <end> <end> <end> <end> <end> <end> <end> <end> <end> <end> <end> <end> <end> <end> <end> <end> <end> <end> <end> <end> <end> <end> <end> <end> <end> <end> <end> <end> <end> <end> <end> <end> <end> <end> <end> <end> <end> <end> <end> <end> <end> <end> <end> <end> <end> <end> <end> <end> <end>', '<end> <end> <end> <end> <end> <end> <end> <end> <end> <end> <end> <end> <end> <end> <end> <end> <end> <end> <end> <end> <end> <end> <end> <end> <end> <end> <end> <end> <end> <end> <end> <end> <end> <end> <end> <end> <end> <end> <end> <end> <end> <end> <end> <end> <end> <end> <end> <end> <end> <end> <end> <end> <end> <end> <end> <end> <end> <end> <end> <end> <end> <end> <end> <end> <end> <end> <end> <end> <end> <end> <end> <end> <end> <end> <end> <end> <end> <end> <end> <end> <end> <end> <end> <end> <end>']\n",
            "Loss - 0.0938582569360733\n",
            "Loss - 0.0002982433361466974\n",
            "Loss - 0.007701413240283728\n",
            "Current mean 0.03395263850688934\n"
          ]
        },
        {
          "output_type": "stream",
          "name": "stderr",
          "text": [
            "\r 97%|█████████▋| 97/100 [01:50<00:02,  1.07it/s]"
          ]
        },
        {
          "output_type": "stream",
          "name": "stdout",
          "text": [
            "Translated - ['my girlfriend hid a file in my birthday cake <end> <end> <end> <end> <end> <end> <end> <end> <end> <end> <end> <end> <end> <end> <end> <end> <end> <end> <end> <end> <end> <end> <end> <end> <end> <end> <end> <end> <end> <end> <end> <end> <end> <end> <end> <end> <end> <end> <end> <end> <end> <end> <end> <end> <end> <end> <end> <end> <end> <end> <end> <end> <end> <end> <end> <end> <end> <end> <end> <end> <end> <end> <end> <end> <end> <end> <end> <end> <end> <end> <end> <end> <end> <end> <end> <end>', \"just if you don't know to design code code code code code code code code code code code code code code code code code code code code code code code code code code code code code code code code code code code code code code code code code code code code code code code code code code code code code code code code code code code code code code code code code code code code code code code code code code code code code code\", 'white <end> <end> <end> <end> <end> <end> <end> <end> <end> <end> <end> <end> <end> <end> <end> <end> <end> <end> <end> <end> <end> <end> <end> <end> <end> <end> <end> <end> <end> <end> <end> <end> <end> <end> <end> <end> <end> <end> <end> <end> <end> <end> <end> <end> <end> <end> <end> <end> <end> <end> <end> <end> <end> <end> <end> <end> <end> <end> <end> <end> <end> <end> <end> <end> <end> <end> <end> <end> <end> <end> <end> <end> <end> <end> <end> <end> <end> <end> <end> <end> <end> <end> <end> <end>', 'round <end> <end> <end> <end> <end> <end> <end> <end> <end> <end> <end> <end> <end> <end> <end> <end> <end> <end> <end> <end> <end> <end> <end> <end> <end> <end> <end> <end> <end> <end> <end> <end> <end> <end> <end> <end> <end> <end> <end> <end> <end> <end> <end> <end> <end> <end> <end> <end> <end> <end> <end> <end> <end> <end> <end> <end> <end> <end> <end> <end> <end> <end> <end> <end> <end> <end> <end> <end> <end> <end> <end> <end> <end> <end> <end> <end> <end> <end> <end> <end> <end> <end> <end> <end>', 'with a file <end> <end> <end> <end> <end> <end> <end> <end> <end> <end> <end> <end> <end> <end> <end> <end> <end> <end> <end> <end> <end> <end> <end> <end> <end> <end> <end> <end> <end> <end> <end> <end> <end> <end> <end> <end> <end> <end> <end> <end> <end> <end> <end> <end> <end> <end> <end> <end> <end> <end> <end> <end> <end> <end> <end> <end> <end> <end> <end> <end> <end> <end> <end> <end> <end> <end> <end> <end> <end> <end> <end> <end> <end> <end> <end> <end> <end> <end> <end> <end> <end> <end>', '<end> <end> <end> <end> <end> <end> <end> <end> <end> <end> <end> <end> <end> <end> <end> <end> <end> <end> <end> <end> <end> <end> <end> <end> <end> <end> <end> <end> <end> <end> <end> <end> <end> <end> <end> <end> <end> <end> <end> <end> <end> <end> <end> <end> <end> <end> <end> <end> <end> <end> <end> <end> <end> <end> <end> <end> <end> <end> <end> <end> <end> <end> <end> <end> <end> <end> <end> <end> <end> <end> <end> <end> <end> <end> <end> <end> <end> <end> <end> <end> <end> <end> <end> <end> <end>']\n",
            "Loss - 0.08626671880483627\n",
            "Loss - 0.00028349622152745724\n",
            "Loss - 0.006686102598905563\n",
            "Current mean 0.031078770756721497\n"
          ]
        },
        {
          "output_type": "stream",
          "name": "stderr",
          "text": [
            "\r 98%|█████████▊| 98/100 [01:51<00:01,  1.19it/s]"
          ]
        },
        {
          "output_type": "stream",
          "name": "stdout",
          "text": [
            "Translated - ['my girlfriend hid a file in my birthday cake <end>', \"just if you don't know how to design code <end>\", 'white <end> <end> <end> <end> <end> <end> <end> <end> <end>', 'round <end> <end> <end> <end> <end> <end> <end> <end> <end>', 'with a file <end> <end> <end> <end> <end> <end> <end>', '<end> <end> <end> <end> <end> <end> <end> <end> <end> <end>']\n",
            "Loss - 0.08156479150056839\n",
            "Loss - 0.00025964234373532236\n",
            "Loss - 0.006462354212999344\n",
            "Current mean 0.029428929090499878\n"
          ]
        },
        {
          "output_type": "stream",
          "name": "stderr",
          "text": [
            "\r 99%|█████████▉| 99/100 [01:52<00:00,  1.30it/s]"
          ]
        },
        {
          "output_type": "stream",
          "name": "stdout",
          "text": [
            "Translated - ['my girlfriend hid a file in my birthday cake <end>', \"just if you don't know how to <end> <end> <end>\", 'white <end> <end> <end> <end> <end> <end> <end> <end> <end>', 'round <end> <end> <end> <end> <end> <end> <end> <end> <end>', 'with a file <end> <end> <end> <end> <end> <end> <end>', '<end> <end> <end> <end> <end> <end> <end> <end> <end> <end>']\n",
            "Loss - 0.07925552129745483\n",
            "Loss - 0.0002585137262940407\n",
            "Loss - 0.006435692310333252\n",
            "Current mean 0.028649909421801567\n"
          ]
        },
        {
          "output_type": "stream",
          "name": "stderr",
          "text": [
            "100%|██████████| 100/100 [01:52<00:00,  1.13s/it]"
          ]
        },
        {
          "output_type": "stream",
          "name": "stdout",
          "text": [
            "Translated - ['my girlfriend hid a file in my birthday cake <end>', \"just if you don't know how to design <end> <end>\", 'white <end> <end> <end> <end> <end> <end> <end> <end> <end>', 'round <end> <end> <end> <end> <end> <end> <end> <end> <end>', 'with a file <end> <end> <end> <end> <end> <end> <end>', '<end> <end> <end> <end> <end> <end> <end> <end> <end> <end>']\n"
          ]
        },
        {
          "output_type": "stream",
          "name": "stderr",
          "text": [
            "\n"
          ]
        }
      ]
    },
    {
      "cell_type": "code",
      "source": [
        "print(TFAutoModel.from_pretrained(model_name, from_pt=True))"
      ],
      "metadata": {
        "colab": {
          "base_uri": "https://localhost:8080/"
        },
        "id": "gRgMe-8JuGCx",
        "outputId": "672be638-1ccd-49a1-99be-129ed3e5e68c"
      },
      "id": "gRgMe-8JuGCx",
      "execution_count": 11,
      "outputs": [
        {
          "output_type": "stream",
          "name": "stderr",
          "text": [
            "Some weights of the PyTorch model were not used when initializing the TF 2.0 model TFBertModel: ['cls.seq_relationship.weight', 'cls.predictions.transform.LayerNorm.bias', 'cls.predictions.decoder.bias', 'cls.predictions.transform.LayerNorm.weight', 'cls.predictions.transform.dense.bias', 'cls.predictions.decoder.weight', 'bert.embeddings.position_ids', 'cls.predictions.bias', 'cls.predictions.transform.dense.weight', 'cls.seq_relationship.bias']\n",
            "- This IS expected if you are initializing TFBertModel from a PyTorch model trained on another task or with another architecture (e.g. initializing a TFBertForSequenceClassification model from a BertForPreTraining model).\n",
            "- This IS NOT expected if you are initializing TFBertModel from a PyTorch model that you expect to be exactly identical (e.g. initializing a TFBertForSequenceClassification model from a BertForSequenceClassification model).\n",
            "All the weights of TFBertModel were initialized from the PyTorch model.\n",
            "If your task is similar to the task the model of the checkpoint was trained on, you can already use TFBertModel for predictions without further training.\n"
          ]
        },
        {
          "output_type": "stream",
          "name": "stdout",
          "text": [
            "<transformers.models.bert.modeling_tf_bert.TFBertModel object at 0x7f31e77c5df0>\n"
          ]
        }
      ]
    },
    {
      "cell_type": "code",
      "source": [
        "\"\"\"\n",
        "This was tested with:\n",
        "tensorflow==2.6\n",
        "tensorflow-gpu==2.6\n",
        "tensorflow-addons==0.16.1\n",
        "transformers==4.18.0\n",
        "Keras==2.6.0\n",
        "\n",
        "Note 1: Simple adaptation of tf_seq2seq_lstm.py script\n",
        "Note 2: make sure Keras and Tensorflow versions match!\n",
        "\n",
        "\"\"\"\n",
        "\n",
        "import tensorflow as tf\n",
        "import tensorflow_addons as tfa\n",
        "from tqdm import tqdm\n",
        "from transformers import TFAutoModel, AutoTokenizer\n",
        "\n",
        "gpus = tf.config.experimental.list_physical_devices('GPU')\n",
        "if gpus:\n",
        "    try:\n",
        "        for gpu in gpus:\n",
        "            tf.config.experimental.set_memory_growth(gpu, True)\n",
        "    except RuntimeError as e:\n",
        "        print(e)\n",
        "\n",
        "\n",
        "class ModelTrainer(object):\n",
        "    \"\"\"\n",
        "    Simple wrapper class\n",
        "\n",
        "    train_op -> uses tf.GradientTape to compute the loss\n",
        "    batch_fit -> receives a batch and performs forward-backward passes (gradient included)\n",
        "    \"\"\"\n",
        "\n",
        "    def __init__(self, encoder, decoder, max_length):\n",
        "        self.encoder = encoder\n",
        "        self.decoder = decoder\n",
        "        self.max_output_length = max_output_length\n",
        "        self.ce = tf.keras.losses.SparseCategoricalCrossentropy(from_logits=True, reduction='none')\n",
        "        self.optimizer = tf.keras.optimizers.Adam(learning_rate=1e-03)\n",
        "\n",
        "    @tf.function\n",
        "    def compute_loss(self, logits, target):\n",
        "        loss = self.ce(y_true=target, y_pred=logits)\n",
        "        mask = tf.logical_not(tf.math.equal(target, 0))\n",
        "        mask = tf.cast(mask, dtype=loss.dtype)\n",
        "        loss *= mask\n",
        "        return tf.reduce_mean(loss)\n",
        "\n",
        "    @tf.function\n",
        "    def train_op(self, inputs):\n",
        "        with tf.GradientTape() as tape:\n",
        "            encoder_output, encoder_h, encoder_s = self.encoder({'input_ids': inputs['encoder_input_ids'],\n",
        "                                                                 'attention_mask': inputs['encoder_attention_mask']})\n",
        "\n",
        "            decoder_input = inputs['decoder_target'][:, :-1]  # ignore <end>\n",
        "            real_target = inputs['decoder_target'][:, 1:]  # ignore <start>\n",
        "\n",
        "            decoder.attention.setup_memory(encoder_output)\n",
        "\n",
        "            decoder_initial_state = self.decoder.build_initial_state(decoder.batch_size, [encoder_h, encoder_s])\n",
        "            predicted = self.decoder({'input_ids': decoder_input,\n",
        "                                      'initial_state': decoder_initial_state}).rnn_output\n",
        "\n",
        "            loss = self.compute_loss(logits=predicted, target=real_target)\n",
        "\n",
        "        grads = tape.gradient(loss, self.encoder.trainable_variables + self.decoder.trainable_variables)\n",
        "        return loss, grads\n",
        "\n",
        "    @tf.function\n",
        "    def batch_fit(self, inputs):\n",
        "        loss, grads = self.train_op(inputs=inputs)\n",
        "        self.optimizer.apply_gradients(zip(grads, self.encoder.trainable_variables + self.decoder.trainable_variables))\n",
        "        return loss\n",
        "\n",
        "    # @tf.function\n",
        "    def generate(self, input_ids, attention_mask=None):\n",
        "        batch_size = input_ids.shape[0]\n",
        "        encoder_output, encoder_h, encoder_s = self.encoder({\n",
        "            'input_ids': input_ids,\n",
        "            'attention_mask': attention_mask\n",
        "        })\n",
        "\n",
        "        start_tokens = tf.fill([batch_size], output_tokenizer.word_index['<start>'])\n",
        "        end_token = output_tokenizer.word_index['<end>']\n",
        "\n",
        "        greedy_sampler = tfa.seq2seq.GreedyEmbeddingSampler()\n",
        "        decoder_instance = tfa.seq2seq.BasicDecoder(cell=self.decoder.wrapped_decoder_cell,\n",
        "                                                    sampler=greedy_sampler,\n",
        "                                                    output_layer=self.decoder.generation_dense,\n",
        "                                                    maximum_iterations=self.max_output_length)\n",
        "        self.decoder.attention.setup_memory(encoder_output)\n",
        "\n",
        "        decoder_initial_state = self.decoder.build_initial_state(batch_size, [encoder_h, encoder_s])\n",
        "        decoder_embedding_matrix = self.decoder.embedding.variables[0]\n",
        "        outputs, _, _ = decoder_instance(decoder_embedding_matrix,\n",
        "                                         start_tokens=start_tokens,\n",
        "                                         end_token=end_token,\n",
        "                                         initial_state=decoder_initial_state)\n",
        "        return outputs\n",
        "\n",
        "    def translate(self, generated):\n",
        "        return output_tokenizer.sequences_to_texts(generated.sample_id.numpy())\n",
        "\n",
        "\n",
        "class Encoder(tf.keras.Model):\n",
        "\n",
        "    def __init__(self, model_name, decoder_units):\n",
        "        super(Encoder, self).__init__()\n",
        "        self.model = TFAutoModel.from_pretrained(model_name, from_pt=True)\n",
        "        self.reducer = tf.keras.layers.Dense(decoder_units)\n",
        "\n",
        "    def call(self, inputs, training=False, **kwargs):\n",
        "        model_output = self.model(inputs)\n",
        "        all_outputs = model_output[0]\n",
        "        pooled_output = model_output[1]\n",
        "        pooled_output = self.reducer(pooled_output)\n",
        "        return all_outputs, pooled_output, pooled_output\n",
        "\n",
        "\n",
        "class Decoder(tf.keras.Model):\n",
        "\n",
        "    def __init__(self, vocab_size, max_sequence_length, embedding_dim, decoder_units, batch_size):\n",
        "        super(Decoder, self).__init__()\n",
        "\n",
        "        self.max_sequence_length = max_sequence_length\n",
        "        self.batch_size = batch_size\n",
        "\n",
        "        self.decoder_units = decoder_units\n",
        "        self.embedding = tf.keras.layers.Embedding(input_dim=vocab_size,\n",
        "                                                   output_dim=embedding_dim)\n",
        "        self.decoder_lstm_cell = tf.keras.layers.LSTMCell(self.decoder_units)\n",
        "\n",
        "        self.attention = tfa.seq2seq.BahdanauAttention(units=self.decoder_units,\n",
        "                                                       memory=None,\n",
        "                                                       memory_sequence_length=self.batch_size * [max_sequence_length])\n",
        "\n",
        "        self.wrapped_decoder_cell = tfa.seq2seq.AttentionWrapper(self.decoder_lstm_cell,\n",
        "                                                                 self.attention,\n",
        "                                                                 attention_layer_size=self.decoder_units)\n",
        "\n",
        "        self.generation_dense = tf.keras.layers.Dense(vocab_size)\n",
        "        self.sampler = tfa.seq2seq.sampler.TrainingSampler()\n",
        "        self.decoder = tfa.seq2seq.BasicDecoder(self.wrapped_decoder_cell,\n",
        "                                                sampler=self.sampler,\n",
        "                                                output_layer=self.generation_dense)\n",
        "\n",
        "    def build_initial_state(self, batch_size, encoder_state):\n",
        "        initial_state = self.wrapped_decoder_cell.get_initial_state(batch_size=batch_size, dtype=tf.float32)\n",
        "        initial_state = initial_state.clone(cell_state=encoder_state)\n",
        "        return initial_state\n",
        "\n",
        "    def call(self, inputs, training=False, **kwargs):\n",
        "        input_ids = inputs['input_ids']\n",
        "        input_emb = self.embedding(input_ids)\n",
        "        decoder_output, _, _ = self.decoder(input_emb,\n",
        "                                            initial_state=inputs['initial_state'],\n",
        "                                            sequence_length=self.batch_size * [self.max_sequence_length - 1])\n",
        "        return decoder_output\n",
        "\n",
        "\n",
        "if __name__ == '__main__':\n",
        "    #model_name = 'distilroberta-base'\n",
        "    model_name = 'prajjwal1/bert-tiny'\n",
        "\n",
        "    # tf.config.run_functions_eagerly(True)\n",
        "\n",
        "    # Sample\n",
        "    batch_size = 16\n",
        "    input_sample = XQA_train[:33]\n",
        "    output_sample = [ \"<start> \" + ans + \" <end>\" for ans in YQA_train[:33]]\n",
        "    print(output_sample)\n",
        "#     [\n",
        "#        \"hello there how is it going\",\n",
        "#        \"this assignment is hellish\",\n",
        "#        \"how are you\",\n",
        "#        \"what's your name Antonio?\"\n",
        "#    ]\n",
        "#    [\n",
        "#        \"<start> it is going well <end>\",\n",
        "#        \"<start> I agree <end>\",\n",
        "#        \"<start> I'm fine, thanks <end>\",\n",
        "#        \"<start> gnome <end>\"\n",
        "#    ]\n",
        "\n",
        "    # batch_size = len(input_sample)\n",
        "\n",
        "    # Input\n",
        "    input_tokenizer = AutoTokenizer.from_pretrained(model_name)#, model_max_length=256)\n",
        "    encoded_inputs = input_tokenizer(input_sample, return_tensors='tf', padding=True)#, truncation=True)\n",
        "    input_ids, attention_mask = encoded_inputs.input_ids, encoded_inputs.attention_mask\n",
        "    max_input_length = input_ids.shape[-1]\n",
        "\n",
        "    # Output\n",
        "    output_tokenizer = tf.keras.preprocessing.text.Tokenizer(filters='', oov_token='<UNK>')\n",
        "    output_tokenizer.fit_on_texts(output_sample)\n",
        "\n",
        "    output_vocab_size = len(output_tokenizer.word_index) + 1\n",
        "\n",
        "    encoded_output_sample = output_tokenizer.texts_to_sequences(output_sample)\n",
        "    max_output_length = max([len(item) for item in encoded_output_sample])\n",
        "\n",
        "    max_sequence_length = max(max_input_length, max_output_length)\n",
        "\n",
        "    encoded_output_sample = tf.keras.preprocessing.sequence.pad_sequences(encoded_output_sample,\n",
        "                                                                          padding='post',\n",
        "                                                                          maxlen=max_sequence_length)\n",
        "\n",
        "    # Test encoder\n",
        "    encoder = Encoder(model_name=model_name,\n",
        "                      decoder_units=16)\n",
        "    encoder_output, encoder_h, encoder_s = encoder({'input_ids': input_ids,\n",
        "                                                    'attention_mask': attention_mask})\n",
        "    print(f'{encoder_output.shape} - {encoder_h.shape} - {encoder_s.shape}')\n",
        "\n",
        "    # Test decoder\n",
        "    decoder = Decoder(vocab_size=output_vocab_size,\n",
        "                      embedding_dim=50,\n",
        "                      decoder_units=16,\n",
        "                      batch_size=batch_size,\n",
        "                      max_sequence_length=max_sequence_length)\n",
        "    \n",
        "\n",
        "    # Training\n",
        "    trainer = ModelTrainer(encoder=encoder,\n",
        "                        decoder=decoder,\n",
        "                        max_length=max_sequence_length)\n",
        "    epochs = 100\n",
        "\n",
        "    for epoch in tqdm(range(epochs)):\n",
        "      for minibatch in range(int(len(input_sample)/batch_size)):\n",
        "        batch = {\n",
        "            'encoder_input_ids': input_ids[minibatch*batch_size:minibatch*batch_size+batch_size],\n",
        "            'encoder_attention_mask': attention_mask[minibatch*batch_size:minibatch*batch_size+batch_size],\n",
        "            'decoder_target': encoded_output_sample[minibatch*batch_size:minibatch*batch_size+batch_size]\n",
        "        }\n",
        "        decoder.attention.setup_memory(encoder_output[minibatch*batch_size:minibatch*batch_size+batch_size])\n",
        "        initial_state = decoder.build_initial_state(batch_size,\n",
        "                                                    [encoder_h[minibatch*batch_size:minibatch*batch_size+batch_size],\n",
        "                                                     encoder_s[minibatch*batch_size:minibatch*batch_size+batch_size]])\n",
        "        decoder_sample_batch = {\n",
        "          'input_ids': tf.convert_to_tensor(encoded_output_sample[minibatch*batch_size:minibatch*batch_size+batch_size], tf.int32),\n",
        "          'initial_state': initial_state\n",
        "        }\n",
        "\n",
        "        loss = trainer.batch_fit(batch)\n",
        "        print(f'Loss - {loss}')\n",
        "\n",
        "        generated = trainer.generate(input_ids=input_ids,\n",
        "                                     attention_mask=attention_mask)\n",
        "        translated = trainer.translate(generated)\n",
        "        print(f'Translated - {translated}')\n",
        "\n"
      ],
      "metadata": {
        "id": "Ud0RAu03aZYT",
        "outputId": "67f8d02a-69cc-49a2-de47-8f6d66843915",
        "colab": {
          "base_uri": "https://localhost:8080/"
        }
      },
      "id": "Ud0RAu03aZYT",
      "execution_count": null,
      "outputs": [
        {
          "output_type": "stream",
          "name": "stdout",
          "text": [
            "['<start> Tunisia <end>', '<start> Representatives  are being chosen <end>', '<start> Sunday <end>', '<start> 1956 <end>', '<start> Country gained its independence <end>', '<start> Menzah neighborhood <end>', '<start> Schools <end>', '<start> Yes <end>', '<start> Cnn <end>', '<start> yes <end>', '<start> George <end>', '<start> no <end>', '<start> yes <end>', '<start> Clarence <end>', '<start> no <end>', '<start> yes <end>', '<start> no <end>', '<start> no <end>', '<start> he lacked something one looked for in a lover <end>', '<start> yes <end>', '<start> financial <end>', '<start> yes <end>', '<start> Alexander Pop <end>', '<start> Tuesday <end>', '<start> Captain Putnam <end>', '<start> Run away <end>', '<start> Yes. <end>', '<start> No. <end>', '<start> Captain Putnam <end>', \"<start> His father's <end>\", '<start> Tom and Sam. <end>', '<start> \"Glad you have come, Aleck.\" \"I declare it looks as if you belonged here.\" <end>', '<start> \"Remember the sport we used to have?\" <end>']\n"
          ]
        },
        {
          "output_type": "stream",
          "name": "stderr",
          "text": [
            "Some weights of the PyTorch model were not used when initializing the TF 2.0 model TFBertModel: ['cls.seq_relationship.bias', 'cls.predictions.bias', 'cls.predictions.transform.LayerNorm.weight', 'cls.predictions.transform.LayerNorm.bias', 'cls.seq_relationship.weight', 'cls.predictions.transform.dense.weight', 'bert.embeddings.position_ids', 'cls.predictions.decoder.bias', 'cls.predictions.transform.dense.bias', 'cls.predictions.decoder.weight']\n",
            "- This IS expected if you are initializing TFBertModel from a PyTorch model trained on another task or with another architecture (e.g. initializing a TFBertForSequenceClassification model from a BertForPreTraining model).\n",
            "- This IS NOT expected if you are initializing TFBertModel from a PyTorch model that you expect to be exactly identical (e.g. initializing a TFBertForSequenceClassification model from a BertForSequenceClassification model).\n",
            "All the weights of TFBertModel were initialized from the PyTorch model.\n",
            "If your task is similar to the task the model of the checkpoint was trained on, you can already use TFBertModel for predictions without further training.\n"
          ]
        },
        {
          "output_type": "stream",
          "name": "stdout",
          "text": [
            "(33, 413, 128) - (33, 16) - (33, 16)\n"
          ]
        },
        {
          "output_type": "stream",
          "name": "stderr",
          "text": [
            "\r  0%|          | 0/100 [00:00<?, ?it/s]"
          ]
        },
        {
          "output_type": "stream",
          "name": "stdout",
          "text": [
            "Loss - 0.02352244220674038\n",
            "Translated - ['<end>', '<end>', '<end>', '<end>', '<end>', '<end>', '<end>', '<end>', '<end>', '<end>', '<end>', '<end>', '<end>', '<end>', '<end>', '<end>', '<end>', '<end>', '<end>', '<end>', '<end>', '<end>', '<end>', '<end>', '<end>', '<end>', '<end>', '<end>', '<end>', '<end>', '<end>', '<end>', '<end>']\n",
            "Loss - 0.03815056383609772\n"
          ]
        },
        {
          "output_type": "stream",
          "name": "stderr",
          "text": [
            "\r  1%|          | 1/100 [00:07<12:53,  7.81s/it]"
          ]
        },
        {
          "output_type": "stream",
          "name": "stdout",
          "text": [
            "Translated - ['<end>', '<end>', '<end>', '<end>', '<end>', '<end>', '<end>', '<end>', '<end>', '<end>', '<end>', '<end>', '<end>', '<end>', '<end>', '<end>', '<end>', '<end>', '<end>', '<end>', '<end>', '<end>', '<end>', '<end>', '<end>', '<end>', '<end>', '<end>', '<end>', '<end>', '<end>', '<end>', '<end>']\n",
            "Loss - 0.01988173834979534\n",
            "Translated - ['<end>', '<end>', '<end>', '<end>', '<end>', '<end>', '<end>', '<end>', '<end>', '<end>', '<end>', '<end>', '<end>', '<end>', '<end>', '<end>', '<end>', '<end>', '<end>', '<end>', '<end>', '<end>', '<end>', '<end>', '<end>', '<end>', '<end>', '<end>', '<end>', '<end>', '<end>', '<end>', '<end>']\n",
            "Loss - 0.0344705805182457\n"
          ]
        },
        {
          "output_type": "stream",
          "name": "stderr",
          "text": [
            "\r  2%|▏         | 2/100 [00:12<09:34,  5.87s/it]"
          ]
        },
        {
          "output_type": "stream",
          "name": "stdout",
          "text": [
            "Translated - ['<end>', '<end>', '<end>', '<end>', '<end>', '<end>', '<end>', '<end>', '<end>', '<end>', '<end>', '<end>', '<end>', '<end>', '<end>', '<end>', '<end>', '<end>', '<end>', '<end>', '<end>', '<end>', '<end>', '<end>', '<end>', '<end>', '<end>', '<end>', '<end>', '<end>', '<end>', '<end>', '<end>']\n",
            "Loss - 0.019495045766234398\n",
            "Translated - ['<end>', '<end>', '<end>', '<end>', '<end>', '<end>', '<end>', '<end>', '<end>', '<end>', '<end>', '<end>', '<end>', '<end>', '<end>', '<end>', '<end>', '<end>', '<end>', '<end>', '<end>', '<end>', '<end>', '<end>', '<end>', '<end>', '<end>', '<end>', '<end>', '<end>', '<end>', '<end>', '<end>']\n",
            "Loss - 0.033658888190984726\n"
          ]
        },
        {
          "output_type": "stream",
          "name": "stderr",
          "text": [
            "\r  3%|▎         | 3/100 [00:16<08:34,  5.31s/it]"
          ]
        },
        {
          "output_type": "stream",
          "name": "stdout",
          "text": [
            "Translated - ['<end>', '<end>', '<end>', '<end>', '<end>', '<end>', '<end>', '<end>', '<end>', '<end>', '<end>', '<end>', '<end>', '<end>', '<end>', '<end>', '<end>', '<end>', '<end>', '<end>', '<end>', '<end>', '<end>', '<end>', '<end>', '<end>', '<end>', '<end>', '<end>', '<end>', '<end>', '<end>', '<end>']\n",
            "Loss - 0.018569376319646835\n",
            "Translated - ['<end>', '<end>', '<end>', '<end>', '<end>', '<end>', '<end>', '<end>', '<end>', '<end>', '<end>', '<end>', '<end>', '<end>', '<end>', '<end>', '<end>', '<end>', '<end>', '<end>', '<end>', '<end>', '<end>', '<end>', '<end>', '<end>', '<end>', '<end>', '<end>', '<end>', '<end>', '<end>', '<end>']\n",
            "Loss - 0.03316602483391762\n"
          ]
        },
        {
          "output_type": "stream",
          "name": "stderr",
          "text": [
            "\r  4%|▍         | 4/100 [00:20<07:14,  4.53s/it]"
          ]
        },
        {
          "output_type": "stream",
          "name": "stdout",
          "text": [
            "Translated - ['<end>', '<end>', '<end>', '<end>', '<end>', '<end>', '<end>', '<end>', '<end>', '<end>', '<end>', '<end>', '<end>', '<end>', '<end>', '<end>', '<end>', '<end>', '<end>', '<end>', '<end>', '<end>', '<end>', '<end>', '<end>', '<end>', '<end>', '<end>', '<end>', '<end>', '<end>', '<end>', '<end>']\n",
            "Loss - 0.01807110384106636\n",
            "Translated - ['<end>', '<end>', '<end>', '<end>', '<end>', '<end>', '<end>', '<end>', '<end>', '<end>', '<end>', '<end>', '<end>', '<end>', '<end>', '<end>', '<end>', '<end>', '<end>', '<end>', '<end>', '<end>', '<end>', '<end>', '<end>', '<end>', '<end>', '<end>', '<end>', '<end>', '<end>', '<end>', '<end>']\n",
            "Loss - 0.032779429107904434\n"
          ]
        },
        {
          "output_type": "stream",
          "name": "stderr",
          "text": [
            "\r  5%|▌         | 5/100 [00:23<06:28,  4.09s/it]"
          ]
        },
        {
          "output_type": "stream",
          "name": "stdout",
          "text": [
            "Translated - ['<end>', '<end>', '<end>', '<end>', '<end>', '<end>', '<end>', '<end>', '<end>', '<end>', '<end>', '<end>', '<end>', '<end>', '<end>', '<end>', '<end>', '<end>', '<end>', '<end>', '<end>', '<end>', '<end>', '<end>', '<end>', '<end>', '<end>', '<end>', '<end>', '<end>', '<end>', '<end>', '<end>']\n",
            "Loss - 0.017610909417271614\n",
            "Translated - ['<end>', '<end>', '<end>', '<end>', '<end>', '<end>', '<end>', '<end>', '<end>', '<end>', '<end>', '<end>', '<end>', '<end>', '<end>', '<end>', '<end>', '<end>', '<end>', '<end>', '<end>', '<end>', '<end>', '<end>', '<end>', '<end>', '<end>', '<end>', '<end>', '<end>', '<end>', '<end>', '<end>']\n",
            "Loss - 0.03222941234707832\n"
          ]
        },
        {
          "output_type": "stream",
          "name": "stderr",
          "text": [
            "\r  6%|▌         | 6/100 [00:26<06:01,  3.85s/it]"
          ]
        },
        {
          "output_type": "stream",
          "name": "stdout",
          "text": [
            "Translated - ['<end>', '<end>', '<end>', '<end>', '<end>', '<end>', '<end>', '<end>', '<end>', '<end>', '<end>', '<end>', '<end>', '<end>', '<end>', '<end>', '<end>', '<end>', '<end>', '<end>', '<end>', '<end>', '<end>', '<end>', '<end>', '<end>', '<end>', '<end>', '<end>', '<end>', '<end>', '<end>', '<end>']\n",
            "Loss - 0.017358386889100075\n",
            "Translated - ['<end>', '<end>', '<end>', '<end>', '<end>', '<end>', '<end>', '<end>', '<end>', '<end>', '<end>', '<end>', '<end>', '<end>', '<end>', '<end>', '<end>', '<end>', '<end>', '<end>', '<end>', '<end>', '<end>', '<end>', '<end>', '<end>', '<end>', '<end>', '<end>', '<end>', '<end>', '<end>', '<end>']\n",
            "Loss - 0.03179609403014183\n"
          ]
        },
        {
          "output_type": "stream",
          "name": "stderr",
          "text": [
            "\r  7%|▋         | 7/100 [00:30<05:41,  3.67s/it]"
          ]
        },
        {
          "output_type": "stream",
          "name": "stdout",
          "text": [
            "Translated - ['<end>', '<end>', '<end>', '<end>', '<end>', '<end>', '<end>', '<end>', '<end>', '<end>', '<end>', '<end>', '<end>', '<end>', '<end>', '<end>', '<end>', '<end>', '<end>', '<end>', '<end>', '<end>', '<end>', '<end>', '<end>', '<end>', '<end>', '<end>', '<end>', '<end>', '<end>', '<end>', '<end>']\n",
            "Loss - 0.01687491126358509\n",
            "Translated - ['<end>', '<end>', '<end>', '<end>', '<end>', '<end>', '<end>', '<end>', '<end>', '<end>', '<end>', '<end>', '<end>', '<end>', '<end>', '<end>', '<end>', '<end>', '<end>', '<end>', '<end>', '<end>', '<end>', '<end>', '<end>', '<end>', '<end>', '<end>', '<end>', '<end>', '<end>', '<end>', '<end>']\n",
            "Loss - 0.031214552000164986\n"
          ]
        },
        {
          "output_type": "stream",
          "name": "stderr",
          "text": [
            "\r  8%|▊         | 8/100 [00:33<05:28,  3.57s/it]"
          ]
        },
        {
          "output_type": "stream",
          "name": "stdout",
          "text": [
            "Translated - ['<end>', '<end>', '<end>', '<end>', '<end>', '<end>', '<end>', '<end>', '<end>', '<end>', '<end>', '<end>', '<end>', '<end>', '<end>', '<end>', '<end>', '<end>', '<end>', '<end>', '<end>', '<end>', '<end>', '<end>', '<end>', '<end>', '<end>', '<end>', '<end>', '<end>', '<end>', '<end>', '<end>']\n",
            "Loss - 0.016399892047047615\n",
            "Translated - ['<end>', '<end>', '<end>', '<end>', '<end>', '<end>', '<end>', '<end>', '<end>', '<end>', '<end>', '<end>', '<end>', '<end>', '<end>', '<end>', '<end>', '<end>', '<end>', '<end>', '<end>', '<end>', '<end>', '<end>', '<end>', '<end>', '<end>', '<end>', '<end>', '<end>', '<end>', '<end>', '<end>']\n",
            "Loss - 0.030783921480178833\n"
          ]
        },
        {
          "output_type": "stream",
          "name": "stderr",
          "text": [
            "\r  9%|▉         | 9/100 [00:36<05:18,  3.50s/it]"
          ]
        },
        {
          "output_type": "stream",
          "name": "stdout",
          "text": [
            "Translated - ['<end>', '<end>', '<end>', '<end>', '<end>', '<end>', '<end>', '<end>', '<end>', '<end>', '<end>', '<end>', '<end>', '<end>', '<end>', '<end>', '<end>', '<end>', '<end>', '<end>', '<end>', '<end>', '<end>', '<end>', '<end>', '<end>', '<end>', '<end>', '<end>', '<end>', '<end>', '<end>', '<end>']\n",
            "Loss - 0.01605791412293911\n",
            "Translated - ['<end>', '<end>', '<end>', '<end>', '<end>', '<end>', '<end>', '<end>', '<end>', '<end>', '<end>', '<end>', '<end>', '<end>', '<end>', '<end>', '<end>', '<end>', '<end>', '<end>', '<end>', '<end>', '<end>', '<end>', '<end>', '<end>', '<end>', '<end>', '<end>', '<end>', '<end>', '<end>', '<end>']\n",
            "Loss - 0.03015684336423874\n"
          ]
        },
        {
          "output_type": "stream",
          "name": "stderr",
          "text": [
            "\r 10%|█         | 10/100 [00:40<05:09,  3.44s/it]"
          ]
        },
        {
          "output_type": "stream",
          "name": "stdout",
          "text": [
            "Translated - ['<end>', '<end>', '<end>', '<end>', '<end>', '<end>', '<end>', '<end>', '<end>', '<end>', '<end>', '<end>', '<end>', '<end>', '<end>', '<end>', '<end>', '<end>', '<end>', '<end>', '<end>', '<end>', '<end>', '<end>', '<end>', '<end>', '<end>', '<end>', '<end>', '<end>', '<end>', '<end>', '<end>']\n",
            "Loss - 0.015682296827435493\n",
            "Translated - ['<end>', '<end>', '<end>', '<end>', '<end>', '<end>', '<end>', '<end>', '<end>', '<end>', '<end>', '<end>', '<end>', '<end>', '<end>', '<end>', '<end>', '<end>', '<end>', '<end>', '<end>', '<end>', '<end>', '<end>', '<end>', '<end>', '<end>', '<end>', '<end>', '<end>', '<end>', '<end>', '<end>']\n",
            "Loss - 0.02951134741306305\n"
          ]
        },
        {
          "output_type": "stream",
          "name": "stderr",
          "text": [
            "\r 11%|█         | 11/100 [00:43<05:02,  3.40s/it]"
          ]
        },
        {
          "output_type": "stream",
          "name": "stdout",
          "text": [
            "Translated - ['<end>', '<end>', '<end>', '<end>', '<end>', '<end>', '<end>', '<end>', '<end>', '<end>', '<end>', '<end>', '<end>', '<end>', '<end>', '<end>', '<end>', '<end>', '<end>', '<end>', '<end>', '<end>', '<end>', '<end>', '<end>', '<end>', '<end>', '<end>', '<end>', '<end>', '<end>', '<end>', '<end>']\n",
            "Loss - 0.015300887636840343\n",
            "Translated - ['<end>', '<end>', '<end>', '<end>', '<end>', '<end>', '<end>', '<end>', '<end>', '<end>', '<end>', '<end>', '<end>', '<end>', '<end>', '<end>', '<end>', '<end>', '<end>', '<end>', '<end>', '<end>', '<end>', '<end>', '<end>', '<end>', '<end>', '<end>', '<end>', '<end>', '<end>', '<end>', '<end>']\n",
            "Loss - 0.028582533821463585\n"
          ]
        },
        {
          "output_type": "stream",
          "name": "stderr",
          "text": [
            "\r 12%|█▏        | 12/100 [00:46<04:56,  3.37s/it]"
          ]
        },
        {
          "output_type": "stream",
          "name": "stdout",
          "text": [
            "Translated - ['<end> <end>', '<end> <end>', '<end> <end>', '<end> <end>', '<end> <end>', '<end> <end>', '<end> <end>', '<end> <end>', '<end> <end>', '<end> <end>', '<end> <end>', '<end> <end>', '<end> <end>', '<end> <end>', '<end> <end>', '<end> <end>', '<end> <end>', '<end> <end>', '<end> <end>', '<end> <end>', '<end> <end>', '<end> <end>', '<end> <end>', '<end> <end>', '<end> <end>', '<end> <end>', '<end> <end>', '<end> <end>', '<end> <end>', '<end> <end>', '<end> <end>', 'you <end>', '<end> <end>']\n",
            "Loss - 0.014780777506530285\n",
            "Translated - ['<end> <end> <end>', '<end> <end> <end>', '<end> <end> <end>', '<end> <end> <end>', '<end> <end> <end>', '<end> <end> <end>', '<end> <end> <end>', '<end> <end> <end>', '<end> <end> <end>', '<end> <end> <end>', '<end> <end> <end>', '<end> <end> <end>', '<end> <end> <end>', '<end> <end> <end>', '<end> <end> <end>', '<end> <end> <end>', '<end> <end> <end>', '<end> <end> <end>', '<end> <end> <end>', '<end> <end> <end>', '<end> <end> <end>', '<end> <end> <end>', '<end> <end> <end>', '<end> <end> <end>', '<end> <end> <end>', '<end> <end> <end>', '<end> <end> <end>', '<end> <end> <end>', '<end> <end> <end>', '<end> <end> <end>', '<end> <end> <end>', 'you you <end>', '<end> <end> <end>']\n",
            "Loss - 0.02769230678677559\n"
          ]
        },
        {
          "output_type": "stream",
          "name": "stderr",
          "text": [
            "\r 13%|█▎        | 13/100 [00:50<04:52,  3.36s/it]"
          ]
        },
        {
          "output_type": "stream",
          "name": "stdout",
          "text": [
            "Translated - ['<end> <end> <end> <end> <end> <end> <end> <end> <end> <end> <end> <end> <end> <end> <end> <end>', '<end> <end> <end> <end> <end> <end> <end> <end> <end> <end> <end> <end> <end> <end> <end> <end>', '<end> <end> <end> <end> <end> <end> <end> <end> <end> <end> <end> <end> <end> <end> <end> <end>', '<end> <end> <end> <end> <end> <end> <end> <end> <end> <end> <end> <end> <end> <end> <end> <end>', '<end> <end> <end> <end> <end> <end> <end> <end> <end> <end> <end> <end> <end> <end> <end> <end>', '<end> <end> <end> <end> <end> <end> <end> <end> <end> <end> <end> <end> <end> <end> <end> <end>', '<end> <end> <end> <end> <end> <end> <end> <end> <end> <end> <end> <end> <end> <end> <end> <end>', '<end> <end> <end> <end> <end> <end> <end> <end> <end> <end> <end> <end> <end> <end> <end> <end>', '<end> <end> <end> <end> <end> <end> <end> <end> <end> <end> <end> <end> <end> <end> <end> <end>', '<end> <end> <end> <end> <end> <end> <end> <end> <end> <end> <end> <end> <end> <end> <end> <end>', '<end> <end> <end> <end> <end> <end> <end> <end> <end> <end> <end> <end> <end> <end> <end> <end>', '<end> <end> <end> <end> <end> <end> <end> <end> <end> <end> <end> <end> <end> <end> <end> <end>', '<end> <end> <end> <end> <end> <end> <end> <end> <end> <end> <end> <end> <end> <end> <end> <end>', '<end> <end> <end> <end> <end> <end> <end> <end> <end> <end> <end> <end> <end> <end> <end> <end>', '<end> <end> <end> <end> <end> <end> <end> <end> <end> <end> <end> <end> <end> <end> <end> <end>', '<end> <end> <end> <end> <end> <end> <end> <end> <end> <end> <end> <end> <end> <end> <end> <end>', '<end> <end> <end> <end> <end> <end> <end> <end> <end> <end> <end> <end> <end> <end> <end> <end>', '<end> <end> <end> <end> <end> <end> <end> <end> <end> <end> <end> <end> <end> <end> <end> <end>', '<end> <end> <end> <end> <end> <end> <end> <end> <end> <end> <end> <end> <end> <end> <end> <end>', '<end> <end> <end> <end> <end> <end> <end> <end> <end> <end> <end> <end> <end> <end> <end> <end>', '<end> <end> <end> <end> <end> <end> <end> <end> <end> <end> <end> <end> <end> <end> <end> <end>', '<end> <end> <end> <end> <end> <end> <end> <end> <end> <end> <end> <end> <end> <end> <end> <end>', '<end> <end> <end> <end> <end> <end> <end> <end> <end> <end> <end> <end> <end> <end> <end> <end>', '<end> <end> <end> <end> <end> <end> <end> <end> <end> <end> <end> <end> <end> <end> <end> <end>', '<end> <end> <end> <end> <end> <end> <end> <end> <end> <end> <end> <end> <end> <end> <end> <end>', '<end> <end> <end> <end> <end> <end> <end> <end> <end> <end> <end> <end> <end> <end> <end> <end>', '<end> <end> <end> <end> <end> <end> <end> <end> <end> <end> <end> <end> <end> <end> <end> <end>', '<end> <end> <end> <end> <end> <end> <end> <end> <end> <end> <end> <end> <end> <end> <end> <end>', '<end> <end> <end> <end> <end> <end> <end> <end> <end> <end> <end> <end> <end> <end> <end> <end>', '<end> <end> <end> <end> <end> <end> <end> <end> <end> <end> <end> <end> <end> <end> <end> <end>', 'and <end> <end> <end> <end> <end> <end> <end> <end> <end> <end> <end> <end> <end> <end> <end>', 'you you you you you you you you you you you you you you you you', '<end> <end> <end> <end> <end> <end> <end> <end> <end> <end> <end> <end> <end> <end> <end> <end>']\n",
            "Loss - 0.014176612719893456\n",
            "Translated - ['<end> <end> <end> <end> <end> <end> <end> <end> <end> <end> <end> <end> <end> <end> <end> <end>', '<end> <end> <end> <end> <end> <end> <end> <end> <end> <end> <end> <end> <end> <end> <end> <end>', '<end> <end> <end> <end> <end> <end> <end> <end> <end> <end> <end> <end> <end> <end> <end> <end>', '<end> <end> <end> <end> <end> <end> <end> <end> <end> <end> <end> <end> <end> <end> <end> <end>', '<end> <end> <end> <end> <end> <end> <end> <end> <end> <end> <end> <end> <end> <end> <end> <end>', '<end> <end> <end> <end> <end> <end> <end> <end> <end> <end> <end> <end> <end> <end> <end> <end>', '<end> <end> <end> <end> <end> <end> <end> <end> <end> <end> <end> <end> <end> <end> <end> <end>', '<end> <end> <end> <end> <end> <end> <end> <end> <end> <end> <end> <end> <end> <end> <end> <end>', '<end> <end> <end> <end> <end> <end> <end> <end> <end> <end> <end> <end> <end> <end> <end> <end>', '<end> <end> <end> <end> <end> <end> <end> <end> <end> <end> <end> <end> <end> <end> <end> <end>', '<end> <end> <end> <end> <end> <end> <end> <end> <end> <end> <end> <end> <end> <end> <end> <end>', '<end> <end> <end> <end> <end> <end> <end> <end> <end> <end> <end> <end> <end> <end> <end> <end>', '<end> <end> <end> <end> <end> <end> <end> <end> <end> <end> <end> <end> <end> <end> <end> <end>', '<end> <end> <end> <end> <end> <end> <end> <end> <end> <end> <end> <end> <end> <end> <end> <end>', '<end> <end> <end> <end> <end> <end> <end> <end> <end> <end> <end> <end> <end> <end> <end> <end>', '<end> <end> <end> <end> <end> <end> <end> <end> <end> <end> <end> <end> <end> <end> <end> <end>', '<end> <end> <end> <end> <end> <end> <end> <end> <end> <end> <end> <end> <end> <end> <end> <end>', '<end> <end> <end> <end> <end> <end> <end> <end> <end> <end> <end> <end> <end> <end> <end> <end>', '<end> <end> <end> <end> <end> <end> <end> <end> <end> <end> <end> <end> <end> <end> <end> <end>', '<end> <end> <end> <end> <end> <end> <end> <end> <end> <end> <end> <end> <end> <end> <end> <end>', '<end> <end> <end> <end> <end> <end> <end> <end> <end> <end> <end> <end> <end> <end> <end> <end>', '<end> <end> <end> <end> <end> <end> <end> <end> <end> <end> <end> <end> <end> <end> <end> <end>', '<end> <end> <end> <end> <end> <end> <end> <end> <end> <end> <end> <end> <end> <end> <end> <end>', '<end> <end> <end> <end> <end> <end> <end> <end> <end> <end> <end> <end> <end> <end> <end> <end>', '<end> <end> <end> <end> <end> <end> <end> <end> <end> <end> <end> <end> <end> <end> <end> <end>', '<end> <end> <end> <end> <end> <end> <end> <end> <end> <end> <end> <end> <end> <end> <end> <end>', '<end> <end> <end> <end> <end> <end> <end> <end> <end> <end> <end> <end> <end> <end> <end> <end>', '<end> <end> <end> <end> <end> <end> <end> <end> <end> <end> <end> <end> <end> <end> <end> <end>', '<end> <end> <end> <end> <end> <end> <end> <end> <end> <end> <end> <end> <end> <end> <end> <end>', '<end> <end> <end> <end> <end> <end> <end> <end> <end> <end> <end> <end> <end> <end> <end> <end>', 'and you you <end> <end> <end> <end> <end> <end> <end> <end> <end> <end> <end> <end> <end>', 'you you you you you you you you you you you you you you you you', '<end> <end> <end> <end> <end> <end> <end> <end> <end> <end> <end> <end> <end> <end> <end> <end>']\n",
            "Loss - 0.02655511535704136\n"
          ]
        },
        {
          "output_type": "stream",
          "name": "stderr",
          "text": [
            "\r 14%|█▍        | 14/100 [00:53<04:50,  3.38s/it]"
          ]
        },
        {
          "output_type": "stream",
          "name": "stdout",
          "text": [
            "Translated - ['<end> <end> <end> <end> <end> <end> <end> <end> <end> <end> <end> <end> <end> <end> <end> <end>', '<end> <end> <end> <end> <end> <end> <end> <end> <end> <end> <end> <end> <end> <end> <end> <end>', '<end> <end> <end> <end> <end> <end> <end> <end> <end> <end> <end> <end> <end> <end> <end> <end>', '<end> <end> <end> <end> <end> <end> <end> <end> <end> <end> <end> <end> <end> <end> <end> <end>', '<end> <end> <end> <end> <end> <end> <end> <end> <end> <end> <end> <end> <end> <end> <end> <end>', '<end> <end> <end> <end> <end> <end> <end> <end> <end> <end> <end> <end> <end> <end> <end> <end>', '<end> <end> <end> <end> <end> <end> <end> <end> <end> <end> <end> <end> <end> <end> <end> <end>', '<end> <end> <end> <end> <end> <end> <end> <end> <end> <end> <end> <end> <end> <end> <end> <end>', '<end> <end> <end> <end> <end> <end> <end> <end> <end> <end> <end> <end> <end> <end> <end> <end>', '<end> <end> <end> <end> <end> <end> <end> <end> <end> <end> <end> <end> <end> <end> <end> <end>', '<end> <end> <end> <end> <end> <end> <end> <end> <end> <end> <end> <end> <end> <end> <end> <end>', '<end> <end> <end> <end> <end> <end> <end> <end> <end> <end> <end> <end> <end> <end> <end> <end>', '<end> <end> <end> <end> <end> <end> <end> <end> <end> <end> <end> <end> <end> <end> <end> <end>', '<end> <end> <end> <end> <end> <end> <end> <end> <end> <end> <end> <end> <end> <end> <end> <end>', '<end> <end> <end> <end> <end> <end> <end> <end> <end> <end> <end> <end> <end> <end> <end> <end>', '<end> <end> <end> <end> <end> <end> <end> <end> <end> <end> <end> <end> <end> <end> <end> <end>', '<end> <end> <end> <end> <end> <end> <end> <end> <end> <end> <end> <end> <end> <end> <end> <end>', '<end> <end> <end> <end> <end> <end> <end> <end> <end> <end> <end> <end> <end> <end> <end> <end>', '<end> <end> <end> <end> <end> <end> <end> <end> <end> <end> <end> <end> <end> <end> <end> <end>', '<end> <end> <end> <end> <end> <end> <end> <end> <end> <end> <end> <end> <end> <end> <end> <end>', '<end> <end> <end> <end> <end> <end> <end> <end> <end> <end> <end> <end> <end> <end> <end> <end>', '<end> <end> <end> <end> <end> <end> <end> <end> <end> <end> <end> <end> <end> <end> <end> <end>', '<end> <end> <end> <end> <end> <end> <end> <end> <end> <end> <end> <end> <end> <end> <end> <end>', '<end> <end> <end> <end> <end> <end> <end> <end> <end> <end> <end> <end> <end> <end> <end> <end>', '<end> <end> <end> <end> <end> <end> <end> <end> <end> <end> <end> <end> <end> <end> <end> <end>', '<end> <end> <end> <end> <end> <end> <end> <end> <end> <end> <end> <end> <end> <end> <end> <end>', '<end> <end> <end> <end> <end> <end> <end> <end> <end> <end> <end> <end> <end> <end> <end> <end>', '<end> <end> <end> <end> <end> <end> <end> <end> <end> <end> <end> <end> <end> <end> <end> <end>', '<end> <end> <end> <end> <end> <end> <end> <end> <end> <end> <end> <end> <end> <end> <end> <end>', '<end> <end> <end> <end> <end> <end> <end> <end> <end> <end> <end> <end> <end> <end> <end> <end>', 'and and <end> <end> <end> <end> <end> <end> <end> <end> <end> <end> <end> <end> <end> <end>', 'you you you you you you you you you you you you you you you you', '<end> <end> <end> <end> <end> <end> <end> <end> <end> <end> <end> <end> <end> <end> <end> <end>']\n",
            "Loss - 0.013505452312529087\n",
            "Translated - ['<end> <end> <end> <end> <end> <end> <end> <end> <end> <end> <end> <end> <end> <end> <end> <end>', '<end> <end> <end> <end> <end> <end> <end> <end> <end> <end> <end> <end> <end> <end> <end> <end>', '<end> <end> <end> <end> <end> <end> <end> <end> <end> <end> <end> <end> <end> <end> <end> <end>', '<end> <end> <end> <end> <end> <end> <end> <end> <end> <end> <end> <end> <end> <end> <end> <end>', '<end> <end> <end> <end> <end> <end> <end> <end> <end> <end> <end> <end> <end> <end> <end> <end>', '<end> <end> <end> <end> <end> <end> <end> <end> <end> <end> <end> <end> <end> <end> <end> <end>', '<end> <end> <end> <end> <end> <end> <end> <end> <end> <end> <end> <end> <end> <end> <end> <end>', '<end> <end> <end> <end> <end> <end> <end> <end> <end> <end> <end> <end> <end> <end> <end> <end>', '<end> <end> <end> <end> <end> <end> <end> <end> <end> <end> <end> <end> <end> <end> <end> <end>', '<end> <end> <end> <end> <end> <end> <end> <end> <end> <end> <end> <end> <end> <end> <end> <end>', '<end> <end> <end> <end> <end> <end> <end> <end> <end> <end> <end> <end> <end> <end> <end> <end>', '<end> <end> <end> <end> <end> <end> <end> <end> <end> <end> <end> <end> <end> <end> <end> <end>', '<end> <end> <end> <end> <end> <end> <end> <end> <end> <end> <end> <end> <end> <end> <end> <end>', '<end> <end> <end> <end> <end> <end> <end> <end> <end> <end> <end> <end> <end> <end> <end> <end>', '<end> <end> <end> <end> <end> <end> <end> <end> <end> <end> <end> <end> <end> <end> <end> <end>', '<end> <end> <end> <end> <end> <end> <end> <end> <end> <end> <end> <end> <end> <end> <end> <end>', '<end> <end> <end> <end> <end> <end> <end> <end> <end> <end> <end> <end> <end> <end> <end> <end>', '<end> <end> <end> <end> <end> <end> <end> <end> <end> <end> <end> <end> <end> <end> <end> <end>', '<end> <end> <end> <end> <end> <end> <end> <end> <end> <end> <end> <end> <end> <end> <end> <end>', '<end> <end> <end> <end> <end> <end> <end> <end> <end> <end> <end> <end> <end> <end> <end> <end>', '<end> <end> <end> <end> <end> <end> <end> <end> <end> <end> <end> <end> <end> <end> <end> <end>', '<end> <end> <end> <end> <end> <end> <end> <end> <end> <end> <end> <end> <end> <end> <end> <end>', '<end> <end> <end> <end> <end> <end> <end> <end> <end> <end> <end> <end> <end> <end> <end> <end>', '<end> <end> <end> <end> <end> <end> <end> <end> <end> <end> <end> <end> <end> <end> <end> <end>', '<end> <end> <end> <end> <end> <end> <end> <end> <end> <end> <end> <end> <end> <end> <end> <end>', '<end> <end> <end> <end> <end> <end> <end> <end> <end> <end> <end> <end> <end> <end> <end> <end>', '<end> <end> <end> <end> <end> <end> <end> <end> <end> <end> <end> <end> <end> <end> <end> <end>', '<end> <end> <end> <end> <end> <end> <end> <end> <end> <end> <end> <end> <end> <end> <end> <end>', '<end> <end> <end> <end> <end> <end> <end> <end> <end> <end> <end> <end> <end> <end> <end> <end>', '<end> <end> <end> <end> <end> <end> <end> <end> <end> <end> <end> <end> <end> <end> <end> <end>', 'sam. <end> <end> <end> <end> <end> <end> <end> <end> <end> <end> <end> <end> <end> <end> <end>', 'you you you you you you you you you you you you you you you you', '<end> <end> <end> <end> <end> <end> <end> <end> <end> <end> <end> <end> <end> <end> <end> <end>']\n",
            "Loss - 0.025561930611729622\n"
          ]
        },
        {
          "output_type": "stream",
          "name": "stderr",
          "text": [
            "\r 15%|█▌        | 15/100 [00:57<04:48,  3.39s/it]"
          ]
        },
        {
          "output_type": "stream",
          "name": "stdout",
          "text": [
            "Translated - ['<end> <end> <end> <end> <end> <end> <end> <end> <end> <end> <end> <end> <end> <end> <end> <end>', '<end> <end> <end> <end> <end> <end> <end> <end> <end> <end> <end> <end> <end> <end> <end> <end>', '<end> <end> <end> <end> <end> <end> <end> <end> <end> <end> <end> <end> <end> <end> <end> <end>', '<end> <end> <end> <end> <end> <end> <end> <end> <end> <end> <end> <end> <end> <end> <end> <end>', '<end> <end> <end> <end> <end> <end> <end> <end> <end> <end> <end> <end> <end> <end> <end> <end>', '<end> <end> <end> <end> <end> <end> <end> <end> <end> <end> <end> <end> <end> <end> <end> <end>', '<end> <end> <end> <end> <end> <end> <end> <end> <end> <end> <end> <end> <end> <end> <end> <end>', '<end> <end> <end> <end> <end> <end> <end> <end> <end> <end> <end> <end> <end> <end> <end> <end>', '<end> <end> <end> <end> <end> <end> <end> <end> <end> <end> <end> <end> <end> <end> <end> <end>', '<end> <end> <end> <end> <end> <end> <end> <end> <end> <end> <end> <end> <end> <end> <end> <end>', '<end> <end> <end> <end> <end> <end> <end> <end> <end> <end> <end> <end> <end> <end> <end> <end>', '<end> <end> <end> <end> <end> <end> <end> <end> <end> <end> <end> <end> <end> <end> <end> <end>', '<end> <end> <end> <end> <end> <end> <end> <end> <end> <end> <end> <end> <end> <end> <end> <end>', '<end> <end> <end> <end> <end> <end> <end> <end> <end> <end> <end> <end> <end> <end> <end> <end>', '<end> <end> <end> <end> <end> <end> <end> <end> <end> <end> <end> <end> <end> <end> <end> <end>', '<end> <end> <end> <end> <end> <end> <end> <end> <end> <end> <end> <end> <end> <end> <end> <end>', '<end> <end> <end> <end> <end> <end> <end> <end> <end> <end> <end> <end> <end> <end> <end> <end>', '<end> <end> <end> <end> <end> <end> <end> <end> <end> <end> <end> <end> <end> <end> <end> <end>', '<end> <end> <end> <end> <end> <end> <end> <end> <end> <end> <end> <end> <end> <end> <end> <end>', '<end> <end> <end> <end> <end> <end> <end> <end> <end> <end> <end> <end> <end> <end> <end> <end>', '<end> <end> <end> <end> <end> <end> <end> <end> <end> <end> <end> <end> <end> <end> <end> <end>', '<end> <end> <end> <end> <end> <end> <end> <end> <end> <end> <end> <end> <end> <end> <end> <end>', '<end> <end> <end> <end> <end> <end> <end> <end> <end> <end> <end> <end> <end> <end> <end> <end>', '<end> <end> <end> <end> <end> <end> <end> <end> <end> <end> <end> <end> <end> <end> <end> <end>', '<end> <end> <end> <end> <end> <end> <end> <end> <end> <end> <end> <end> <end> <end> <end> <end>', '<end> <end> <end> <end> <end> <end> <end> <end> <end> <end> <end> <end> <end> <end> <end> <end>', '<end> <end> <end> <end> <end> <end> <end> <end> <end> <end> <end> <end> <end> <end> <end> <end>', '<end> <end> <end> <end> <end> <end> <end> <end> <end> <end> <end> <end> <end> <end> <end> <end>', '<end> <end> <end> <end> <end> <end> <end> <end> <end> <end> <end> <end> <end> <end> <end> <end>', '<end> <end> <end> <end> <end> <end> <end> <end> <end> <end> <end> <end> <end> <end> <end> <end>', '<end> <end> <end> <end> <end> <end> <end> <end> <end> <end> <end> <end> <end> <end> <end> <end>', 'you you you you you you you you you you you you you you you you', '<end> <end> <end> <end> <end> <end> <end> <end> <end> <end> <end> <end> <end> <end> <end> <end>']\n",
            "Loss - 0.012641392648220062\n",
            "Translated - ['<end> <end> <end> <end> <end> <end> <end> <end> <end> <end> <end> <end> <end> <end> <end> <end>', '<end> <end> <end> <end> <end> <end> <end> <end> <end> <end> <end> <end> <end> <end> <end> <end>', '<end> <end> <end> <end> <end> <end> <end> <end> <end> <end> <end> <end> <end> <end> <end> <end>', '<end> <end> <end> <end> <end> <end> <end> <end> <end> <end> <end> <end> <end> <end> <end> <end>', '<end> <end> <end> <end> <end> <end> <end> <end> <end> <end> <end> <end> <end> <end> <end> <end>', '<end> <end> <end> <end> <end> <end> <end> <end> <end> <end> <end> <end> <end> <end> <end> <end>', '<end> <end> <end> <end> <end> <end> <end> <end> <end> <end> <end> <end> <end> <end> <end> <end>', '<end> <end> <end> <end> <end> <end> <end> <end> <end> <end> <end> <end> <end> <end> <end> <end>', '<end> <end> <end> <end> <end> <end> <end> <end> <end> <end> <end> <end> <end> <end> <end> <end>', '<end> <end> <end> <end> <end> <end> <end> <end> <end> <end> <end> <end> <end> <end> <end> <end>', '<end> <end> <end> <end> <end> <end> <end> <end> <end> <end> <end> <end> <end> <end> <end> <end>', '<end> <end> <end> <end> <end> <end> <end> <end> <end> <end> <end> <end> <end> <end> <end> <end>', '<end> <end> <end> <end> <end> <end> <end> <end> <end> <end> <end> <end> <end> <end> <end> <end>', '<end> <end> <end> <end> <end> <end> <end> <end> <end> <end> <end> <end> <end> <end> <end> <end>', '<end> <end> <end> <end> <end> <end> <end> <end> <end> <end> <end> <end> <end> <end> <end> <end>', '<end> <end> <end> <end> <end> <end> <end> <end> <end> <end> <end> <end> <end> <end> <end> <end>', '<end> <end> <end> <end> <end> <end> <end> <end> <end> <end> <end> <end> <end> <end> <end> <end>', '<end> <end> <end> <end> <end> <end> <end> <end> <end> <end> <end> <end> <end> <end> <end> <end>', '<end> <end> <end> <end> <end> <end> <end> <end> <end> <end> <end> <end> <end> <end> <end> <end>', '<end> <end> <end> <end> <end> <end> <end> <end> <end> <end> <end> <end> <end> <end> <end> <end>', '<end> <end> <end> <end> <end> <end> <end> <end> <end> <end> <end> <end> <end> <end> <end> <end>', '<end> <end> <end> <end> <end> <end> <end> <end> <end> <end> <end> <end> <end> <end> <end> <end>', '<end> <end> <end> <end> <end> <end> <end> <end> <end> <end> <end> <end> <end> <end> <end> <end>', '<end> <end> <end> <end> <end> <end> <end> <end> <end> <end> <end> <end> <end> <end> <end> <end>', '<end> <end> <end> <end> <end> <end> <end> <end> <end> <end> <end> <end> <end> <end> <end> <end>', '<end> <end> <end> <end> <end> <end> <end> <end> <end> <end> <end> <end> <end> <end> <end> <end>', '<end> <end> <end> <end> <end> <end> <end> <end> <end> <end> <end> <end> <end> <end> <end> <end>', '<end> <end> <end> <end> <end> <end> <end> <end> <end> <end> <end> <end> <end> <end> <end> <end>', '<end> <end> <end> <end> <end> <end> <end> <end> <end> <end> <end> <end> <end> <end> <end> <end>', '<end> <end> <end> <end> <end> <end> <end> <end> <end> <end> <end> <end> <end> <end> <end> <end>', '<end> <end> <end> <end> <end> <end> <end> <end> <end> <end> <end> <end> <end> <end> <end> <end>', 'you you you you you you you you you you you you you you you you', '<end> <end> <end> <end> <end> <end> <end> <end> <end> <end> <end> <end> <end> <end> <end> <end>']\n",
            "Loss - 0.02447406016290188\n"
          ]
        },
        {
          "output_type": "stream",
          "name": "stderr",
          "text": [
            "\r 16%|█▌        | 16/100 [01:00<04:47,  3.42s/it]"
          ]
        },
        {
          "output_type": "stream",
          "name": "stdout",
          "text": [
            "Translated - ['<end> <end> <end> <end> <end> <end> <end> <end> <end> <end> <end> <end> <end> <end> <end> <end>', '<end> <end> <end> <end> <end> <end> <end> <end> <end> <end> <end> <end> <end> <end> <end> <end>', '<end> <end> <end> <end> <end> <end> <end> <end> <end> <end> <end> <end> <end> <end> <end> <end>', '<end> <end> <end> <end> <end> <end> <end> <end> <end> <end> <end> <end> <end> <end> <end> <end>', '<end> <end> <end> <end> <end> <end> <end> <end> <end> <end> <end> <end> <end> <end> <end> <end>', '<end> <end> <end> <end> <end> <end> <end> <end> <end> <end> <end> <end> <end> <end> <end> <end>', '<end> <end> <end> <end> <end> <end> <end> <end> <end> <end> <end> <end> <end> <end> <end> <end>', '<end> <end> <end> <end> <end> <end> <end> <end> <end> <end> <end> <end> <end> <end> <end> <end>', '<end> <end> <end> <end> <end> <end> <end> <end> <end> <end> <end> <end> <end> <end> <end> <end>', '<end> <end> <end> <end> <end> <end> <end> <end> <end> <end> <end> <end> <end> <end> <end> <end>', '<end> <end> <end> <end> <end> <end> <end> <end> <end> <end> <end> <end> <end> <end> <end> <end>', '<end> <end> <end> <end> <end> <end> <end> <end> <end> <end> <end> <end> <end> <end> <end> <end>', '<end> <end> <end> <end> <end> <end> <end> <end> <end> <end> <end> <end> <end> <end> <end> <end>', '<end> <end> <end> <end> <end> <end> <end> <end> <end> <end> <end> <end> <end> <end> <end> <end>', '<end> <end> <end> <end> <end> <end> <end> <end> <end> <end> <end> <end> <end> <end> <end> <end>', '<end> <end> <end> <end> <end> <end> <end> <end> <end> <end> <end> <end> <end> <end> <end> <end>', '<end> <end> <end> <end> <end> <end> <end> <end> <end> <end> <end> <end> <end> <end> <end> <end>', '<end> <end> <end> <end> <end> <end> <end> <end> <end> <end> <end> <end> <end> <end> <end> <end>', '<end> <end> <end> <end> <end> <end> <end> <end> <end> <end> <end> <end> <end> <end> <end> <end>', '<end> <end> <end> <end> <end> <end> <end> <end> <end> <end> <end> <end> <end> <end> <end> <end>', '<end> <end> <end> <end> <end> <end> <end> <end> <end> <end> <end> <end> <end> <end> <end> <end>', '<end> <end> <end> <end> <end> <end> <end> <end> <end> <end> <end> <end> <end> <end> <end> <end>', '<end> <end> <end> <end> <end> <end> <end> <end> <end> <end> <end> <end> <end> <end> <end> <end>', '<end> <end> <end> <end> <end> <end> <end> <end> <end> <end> <end> <end> <end> <end> <end> <end>', '<end> <end> <end> <end> <end> <end> <end> <end> <end> <end> <end> <end> <end> <end> <end> <end>', '<end> <end> <end> <end> <end> <end> <end> <end> <end> <end> <end> <end> <end> <end> <end> <end>', '<end> <end> <end> <end> <end> <end> <end> <end> <end> <end> <end> <end> <end> <end> <end> <end>', '<end> <end> <end> <end> <end> <end> <end> <end> <end> <end> <end> <end> <end> <end> <end> <end>', '<end> <end> <end> <end> <end> <end> <end> <end> <end> <end> <end> <end> <end> <end> <end> <end>', '<end> <end> <end> <end> <end> <end> <end> <end> <end> <end> <end> <end> <end> <end> <end> <end>', '<end> <end> <end> <end> <end> <end> <end> <end> <end> <end> <end> <end> <end> <end> <end> <end>', 'you you you you you you you you you you you you you you you you', '<end> <end> <end> <end> <end> <end> <end> <end> <end> <end> <end> <end> <end> <end> <end> <end>']\n",
            "Loss - 0.011628090403974056\n",
            "Translated - ['<end> <end> <end> <end> <end> <end> <end> <end> <end> <end> <end> <end> <end> <end> <end> <end>', 'are <end> <end> <end> <end> <end> <end> <end> <end> <end> <end> <end> <end> <end> <end> <end>', '<end> <end> <end> <end> <end> <end> <end> <end> <end> <end> <end> <end> <end> <end> <end> <end>', '<end> <end> <end> <end> <end> <end> <end> <end> <end> <end> <end> <end> <end> <end> <end> <end>', '<end> <end> <end> <end> <end> <end> <end> <end> <end> <end> <end> <end> <end> <end> <end> <end>', 'menzah <end> <end> <end> <end> <end> <end> <end> <end> <end> <end> <end> <end> <end> <end> <end>', '<end> <end> <end> <end> <end> <end> <end> <end> <end> <end> <end> <end> <end> <end> <end> <end>', '<end> <end> <end> <end> <end> <end> <end> <end> <end> <end> <end> <end> <end> <end> <end> <end>', '<end> <end> <end> <end> <end> <end> <end> <end> <end> <end> <end> <end> <end> <end> <end> <end>', '<end> <end> <end> <end> <end> <end> <end> <end> <end> <end> <end> <end> <end> <end> <end> <end>', '<end> <end> <end> <end> <end> <end> <end> <end> <end> <end> <end> <end> <end> <end> <end> <end>', 'no <end> <end> <end> <end> <end> <end> <end> <end> <end> <end> <end> <end> <end> <end> <end>', '<end> <end> <end> <end> <end> <end> <end> <end> <end> <end> <end> <end> <end> <end> <end> <end>', '<end> <end> <end> <end> <end> <end> <end> <end> <end> <end> <end> <end> <end> <end> <end> <end>', '<end> <end> <end> <end> <end> <end> <end> <end> <end> <end> <end> <end> <end> <end> <end> <end>', 'yes <end> <end> <end> <end> <end> <end> <end> <end> <end> <end> <end> <end> <end> <end> <end>', '<end> <end> <end> <end> <end> <end> <end> <end> <end> <end> <end> <end> <end> <end> <end> <end>', '<end> <end> <end> <end> <end> <end> <end> <end> <end> <end> <end> <end> <end> <end> <end> <end>', '<end> <end> <end> <end> <end> <end> <end> <end> <end> <end> <end> <end> <end> <end> <end> <end>', '<end> <end> <end> <end> <end> <end> <end> <end> <end> <end> <end> <end> <end> <end> <end> <end>', '<end> <end> <end> <end> <end> <end> <end> <end> <end> <end> <end> <end> <end> <end> <end> <end>', '<end> <end> <end> <end> <end> <end> <end> <end> <end> <end> <end> <end> <end> <end> <end> <end>', 'alexander alexander alexander alexander alexander alexander alexander alexander alexander alexander alexander alexander alexander alexander alexander alexander', '<end> <end> <end> <end> <end> <end> <end> <end> <end> <end> <end> <end> <end> <end> <end> <end>', 'putnam putnam putnam <end> <end> <end> <end> <end> <end> <end> <end> <end> <end> <end> <end> <end>', '<end> <end> <end> <end> <end> <end> <end> <end> <end> <end> <end> <end> <end> <end> <end> <end>', '<end> <end> <end> <end> <end> <end> <end> <end> <end> <end> <end> <end> <end> <end> <end> <end>', '<end> <end> <end> <end> <end> <end> <end> <end> <end> <end> <end> <end> <end> <end> <end> <end>', 'putnam <end> <end> <end> <end> <end> <end> <end> <end> <end> <end> <end> <end> <end> <end> <end>', '<end> <end> <end> <end> <end> <end> <end> <end> <end> <end> <end> <end> <end> <end> <end> <end>', '<end> <end> <end> <end> <end> <end> <end> <end> <end> <end> <end> <end> <end> <end> <end> <end>', 'you you you you you you you you you you you you you you you you', '<end> <end> <end> <end> <end> <end> <end> <end> <end> <end> <end> <end> <end> <end> <end> <end>']\n",
            "Loss - 0.023334398865699768\n"
          ]
        },
        {
          "output_type": "stream",
          "name": "stderr",
          "text": [
            "\r 17%|█▋        | 17/100 [01:03<04:43,  3.42s/it]"
          ]
        },
        {
          "output_type": "stream",
          "name": "stdout",
          "text": [
            "Translated - ['<end> <end> <end> <end> <end> <end> <end> <end> <end> <end> <end> <end> <end> <end> <end> <end>', 'chosen <end> <end> <end> <end> <end> <end> <end> <end> <end> <end> <end> <end> <end> <end> <end>', '<end> <end> <end> <end> <end> <end> <end> <end> <end> <end> <end> <end> <end> <end> <end> <end>', '<end> <end> <end> <end> <end> <end> <end> <end> <end> <end> <end> <end> <end> <end> <end> <end>', '<end> <end> <end> <end> <end> <end> <end> <end> <end> <end> <end> <end> <end> <end> <end> <end>', 'menzah menzah <end> <end> <end> <end> <end> <end> <end> <end> <end> <end> <end> <end> <end> <end>', '<end> <end> <end> <end> <end> <end> <end> <end> <end> <end> <end> <end> <end> <end> <end> <end>', '<end> <end> <end> <end> <end> <end> <end> <end> <end> <end> <end> <end> <end> <end> <end> <end>', '<end> <end> <end> <end> <end> <end> <end> <end> <end> <end> <end> <end> <end> <end> <end> <end>', 'yes <end> <end> <end> <end> <end> <end> <end> <end> <end> <end> <end> <end> <end> <end> <end>', '<end> <end> <end> <end> <end> <end> <end> <end> <end> <end> <end> <end> <end> <end> <end> <end>', 'no no <end> <end> <end> <end> <end> <end> <end> <end> <end> <end> <end> <end> <end> <end>', 'yes <end> <end> <end> <end> <end> <end> <end> <end> <end> <end> <end> <end> <end> <end> <end>', '<end> <end> <end> <end> <end> <end> <end> <end> <end> <end> <end> <end> <end> <end> <end> <end>', '<end> <end> <end> <end> <end> <end> <end> <end> <end> <end> <end> <end> <end> <end> <end> <end>', 'yes <end> <end> <end> <end> <end> <end> <end> <end> <end> <end> <end> <end> <end> <end> <end>', '<end> <end> <end> <end> <end> <end> <end> <end> <end> <end> <end> <end> <end> <end> <end> <end>', 'no <end> <end> <end> <end> <end> <end> <end> <end> <end> <end> <end> <end> <end> <end> <end>', '<end> <end> <end> <end> <end> <end> <end> <end> <end> <end> <end> <end> <end> <end> <end> <end>', '<end> <end> <end> <end> <end> <end> <end> <end> <end> <end> <end> <end> <end> <end> <end> <end>', '<end> <end> <end> <end> <end> <end> <end> <end> <end> <end> <end> <end> <end> <end> <end> <end>', 'yes <end> <end> <end> <end> <end> <end> <end> <end> <end> <end> <end> <end> <end> <end> <end>', 'alexander alexander alexander alexander alexander alexander alexander alexander alexander alexander alexander alexander alexander alexander alexander alexander', '<end> <end> <end> <end> <end> <end> <end> <end> <end> <end> <end> <end> <end> <end> <end> <end>', 'putnam putnam putnam putnam putnam putnam putnam putnam putnam putnam putnam putnam putnam putnam putnam putnam', '<end> <end> <end> <end> <end> <end> <end> <end> <end> <end> <end> <end> <end> <end> <end> <end>', '<end> <end> <end> <end> <end> <end> <end> <end> <end> <end> <end> <end> <end> <end> <end> <end>', '<end> <end> <end> <end> <end> <end> <end> <end> <end> <end> <end> <end> <end> <end> <end> <end>', 'putnam <end> <end> <end> <end> <end> <end> <end> <end> <end> <end> <end> <end> <end> <end> <end>', '<end> <end> <end> <end> <end> <end> <end> <end> <end> <end> <end> <end> <end> <end> <end> <end>', '<end> <end> <end> <end> <end> <end> <end> <end> <end> <end> <end> <end> <end> <end> <end> <end>', 'you you you you you you you you you you you you you you you you', '<end> <end> <end> <end> <end> <end> <end> <end> <end> <end> <end> <end> <end> <end> <end> <end>']\n",
            "Loss - 0.010598045773804188\n",
            "Translated - ['<end> <end> <end> <end> <end> <end> <end> <end> <end> <end> <end> <end> <end> <end> <end> <end>', 'chosen <end> <end> <end> <end> <end> <end> <end> <end> <end> <end> <end> <end> <end> <end> <end>', 'he <end> <end> <end> <end> <end> <end> <end> <end> <end> <end> <end> <end> <end> <end> <end>', '<end> <end> <end> <end> <end> <end> <end> <end> <end> <end> <end> <end> <end> <end> <end> <end>', 'pop <end> <end> <end> <end> <end> <end> <end> <end> <end> <end> <end> <end> <end> <end> <end>', 'menzah menzah menzah menzah menzah menzah menzah menzah menzah menzah menzah menzah menzah menzah menzah menzah', '<end> <end> <end> <end> <end> <end> <end> <end> <end> <end> <end> <end> <end> <end> <end> <end>', '<end> <end> <end> <end> <end> <end> <end> <end> <end> <end> <end> <end> <end> <end> <end> <end>', '<end> <end> <end> <end> <end> <end> <end> <end> <end> <end> <end> <end> <end> <end> <end> <end>', 'yes <end> <end> <end> <end> <end> <end> <end> <end> <end> <end> <end> <end> <end> <end> <end>', '<end> <end> <end> <end> <end> <end> <end> <end> <end> <end> <end> <end> <end> <end> <end> <end>', 'no no no no no no no no no no no <end> <end> <end> <end> <end>', 'yes <end> <end> <end> <end> <end> <end> <end> <end> <end> <end> <end> <end> <end> <end> <end>', '<end> <end> <end> <end> <end> <end> <end> <end> <end> <end> <end> <end> <end> <end> <end> <end>', '<end> <end> <end> <end> <end> <end> <end> <end> <end> <end> <end> <end> <end> <end> <end> <end>', 'yes <end> <end> <end> <end> <end> <end> <end> <end> <end> <end> <end> <end> <end> <end> <end>', '<end> <end> <end> <end> <end> <end> <end> <end> <end> <end> <end> <end> <end> <end> <end> <end>', 'no <end> <end> <end> <end> <end> <end> <end> <end> <end> <end> <end> <end> <end> <end> <end>', 'he <end> <end> <end> <end> <end> <end> <end> <end> <end> <end> <end> <end> <end> <end> <end>', '<end> <end> <end> <end> <end> <end> <end> <end> <end> <end> <end> <end> <end> <end> <end> <end>', '<end> <end> <end> <end> <end> <end> <end> <end> <end> <end> <end> <end> <end> <end> <end> <end>', 'yes <end> <end> <end> <end> <end> <end> <end> <end> <end> <end> <end> <end> <end> <end> <end>', 'alexander <end> <end> <end> <end> <end> <end> alexander alexander alexander alexander alexander alexander alexander alexander alexander', '<end> <end> <end> <end> <end> <end> <end> <end> <end> <end> <end> <end> <end> <end> <end> <end>', 'putnam putnam putnam putnam putnam putnam putnam putnam putnam putnam putnam putnam putnam putnam putnam putnam', '<end> <end> <end> <end> <end> <end> <end> <end> <end> <end> <end> <end> <end> <end> <end> <end>', '<end> <end> <end> <end> <end> <end> <end> <end> <end> <end> <end> <end> <end> <end> <end> <end>', '<end> <end> <end> <end> <end> <end> <end> <end> <end> <end> <end> <end> <end> <end> <end> <end>', 'putnam putnam <end> <end> <end> <end> <end> <end> <end> <end> <end> <end> <end> <end> <end> <end>', '<end> <end> <end> <end> <end> <end> <end> <end> <end> <end> <end> <end> <end> <end> <end> <end>', '<end> <end> <end> <end> <end> <end> <end> <end> <end> <end> <end> <end> <end> <end> <end> <end>', 'you you you you you you you you you you you you you you you you', '<end> <end> <end> <end> <end> <end> <end> <end> <end> <end> <end> <end> <end> <end> <end> <end>']\n",
            "Loss - 0.02223149873316288\n"
          ]
        },
        {
          "output_type": "stream",
          "name": "stderr",
          "text": [
            "\r 18%|█▊        | 18/100 [01:07<04:51,  3.56s/it]"
          ]
        },
        {
          "output_type": "stream",
          "name": "stdout",
          "text": [
            "Translated - ['<end> <end> <end> <end> <end> <end> <end> <end> <end> <end> <end> <end> <end> <end> <end> <end>', 'chosen <end> <end> <end> <end> <end> <end> <end> <end> <end> <end> <end> <end> <end> <end> <end>', 'sunday <end> <end> <end> <end> <end> <end> <end> <end> <end> <end> <end> <end> <end> <end> <end>', '<end> <end> <end> <end> <end> <end> <end> <end> <end> <end> <end> <end> <end> <end> <end> <end>', 'pop <end> <end> <end> <end> <end> <end> <end> <end> <end> <end> <end> <end> <end> <end> <end>', 'menzah menzah menzah menzah menzah menzah menzah menzah menzah menzah menzah menzah menzah menzah menzah menzah', '<end> <end> <end> <end> <end> <end> <end> <end> <end> <end> <end> <end> <end> <end> <end> <end>', '<end> <end> <end> <end> <end> <end> <end> <end> <end> <end> <end> <end> <end> <end> <end> <end>', '<end> <end> <end> <end> <end> <end> <end> <end> <end> <end> <end> <end> <end> <end> <end> <end>', 'yes <end> <end> <end> <end> <end> <end> <end> <end> <end> <end> <end> <end> <end> <end> <end>', '<end> <end> <end> <end> <end> <end> <end> <end> <end> <end> <end> <end> <end> <end> <end> <end>', 'no no no no no no no no no no no no no no no no', 'yes <end> <end> <end> <end> <end> <end> <end> <end> <end> <end> <end> <end> <end> <end> <end>', '<end> <end> <end> <end> <end> <end> <end> <end> <end> <end> <end> <end> <end> <end> <end> <end>', '<end> <end> <end> <end> <end> <end> <end> <end> <end> <end> <end> <end> <end> <end> <end> <end>', 'yes <end> <end> <end> <end> <end> <end> <end> <end> <end> <end> <end> <end> <end> <end> <end>', 'no <end> <end> <end> <end> <end> <end> <end> <end> <end> <end> <end> <end> <end> <end> <end>', 'no <end> <end> <end> <end> <end> <end> <end> <end> <end> <end> <end> <end> <end> <end> <end>', 'he <end> <end> <end> <end> <end> <end> <end> <end> <end> <end> <end> <end> <end> <end> <end>', '<end> <end> <end> <end> <end> <end> <end> <end> <end> <end> <end> <end> <end> <end> <end> <end>', '<end> <end> <end> <end> <end> <end> <end> <end> <end> <end> <end> <end> <end> <end> <end> <end>', 'yes <end> <end> <end> <end> <end> <end> <end> <end> <end> <end> <end> <end> <end> <end> <end>', 'alexander <end> <end> <end> <end> <end> <end> <end> <end> <end> <end> <end> <end> <end> <end> <end>', '<end> <end> <end> <end> <end> <end> <end> <end> <end> <end> <end> <end> <end> <end> <end> <end>', 'putnam putnam putnam putnam putnam putnam putnam putnam putnam putnam putnam putnam putnam putnam putnam putnam', '<end> <end> <end> <end> <end> <end> <end> <end> <end> <end> <end> <end> <end> <end> <end> <end>', '<end> <end> <end> <end> <end> <end> <end> <end> <end> <end> <end> <end> <end> <end> <end> <end>', '<end> <end> <end> <end> <end> <end> <end> <end> <end> <end> <end> <end> <end> <end> <end> <end>', 'putnam <end> <end> <end> <end> <end> <end> <end> <end> <end> <end> <end> <end> <end> <end> <end>', '<end> <end> <end> <end> <end> <end> <end> <end> <end> <end> <end> <end> <end> <end> <end> <end>', 'sam. <end> <end> <end> <end> <end> <end> <end> <end> <end> <end> <end> <end> <end> <end> <end>', 'you you you you you you you you you you you you you you you you', '<end> <end> <end> <end> <end> <end> <end> <end> <end> <end> <end> <end> <end> <end> <end> <end>']\n",
            "Loss - 0.009758582338690758\n",
            "Translated - ['<end> <end> <end> <end> <end> <end> <end> <end> <end> <end> <end> <end> <end> <end> <end> <end>', 'chosen <end> <end> <end> <end> <end> <end> <end> <end> <end> <end> <end> <end> <end> <end> <end>', '<end> <end> <end> <end> <end> <end> <end> <end> <end> <end> <end> <end> <end> <end> <end> <end>', '<end> <end> <end> <end> <end> <end> <end> <end> <end> <end> <end> <end> <end> <end> <end> <end>', 'country <end> <end> <end> <end> <end> <end> <end> <end> <end> <end> <end> <end> <end> <end> <end>', 'menzah menzah menzah menzah menzah menzah menzah menzah menzah menzah menzah menzah menzah menzah menzah menzah', '<end> <end> <end> <end> <end> <end> <end> <end> <end> <end> <end> <end> <end> <end> <end> <end>', '<end> <end> <end> <end> <end> <end> <end> <end> <end> <end> <end> <end> <end> <end> <end> <end>', '<end> <end> <end> <end> <end> <end> <end> <end> <end> <end> <end> <end> <end> <end> <end> <end>', 'yes <end> <end> <end> <end> <end> <end> <end> <end> <end> <end> <end> <end> <end> <end> <end>', '<end> <end> <end> <end> <end> <end> <end> <end> <end> <end> <end> <end> <end> <end> <end> <end>', 'no no no no no no no no no no no no no no no no', 'yes <end> <end> <end> <end> <end> <end> <end> <end> <end> <end> <end> <end> <end> <end> <end>', '<end> <end> <end> <end> <end> <end> <end> <end> <end> <end> <end> <end> <end> <end> <end> <end>', '<end> <end> <end> <end> <end> <end> <end> <end> <end> <end> <end> <end> <end> <end> <end> <end>', 'yes <end> <end> <end> <end> <end> <end> <end> <end> <end> <end> <end> <end> <end> <end> <end>', '<end> <end> <end> <end> <end> <end> <end> <end> <end> <end> <end> <end> <end> <end> <end> <end>', '<end> <end> <end> <end> <end> <end> <end> <end> <end> <end> <end> <end> <end> <end> <end> <end>', 'he <end> <end> <end> <end> <end> <end> <end> <end> <end> <end> <end> <end> <end> <end> <end>', '<end> <end> <end> <end> <end> <end> <end> <end> <end> <end> <end> <end> <end> <end> <end> <end>', '<end> <end> <end> <end> <end> <end> <end> <end> <end> <end> <end> <end> <end> <end> <end> <end>', 'yes <end> <end> <end> <end> <end> <end> <end> <end> <end> <end> <end> <end> <end> <end> <end>', 'pop <end> <end> <end> <end> <end> <end> <end> <end> <end> <end> <end> <end> <end> <end> <end>', '<end> <end> <end> <end> <end> <end> <end> <end> <end> <end> <end> <end> <end> <end> <end> <end>', 'putnam putnam putnam putnam putnam putnam putnam putnam putnam putnam putnam putnam putnam putnam putnam putnam', '<end> <end> <end> <end> <end> <end> <end> <end> <end> <end> <end> <end> <end> <end> <end> <end>', '<end> <end> <end> <end> <end> <end> <end> <end> <end> <end> <end> <end> <end> <end> <end> <end>', '<end> <end> <end> <end> <end> <end> <end> <end> <end> <end> <end> <end> <end> <end> <end> <end>', 'putnam <end> <end> <end> <end> <end> <end> <end> <end> <end> <end> <end> <end> <end> <end> <end>', '<end> <end> <end> <end> <end> <end> <end> <end> <end> <end> <end> <end> <end> <end> <end> <end>', 'sam. <end> <end> <end> <end> <end> <end> <end> <end> <end> <end> <end> <end> <end> <end> <end>', 'you you you you you you you you you you you you you you you you', '<end> <end> <end> <end> <end> <end> <end> <end> <end> <end> <end> <end> <end> <end> <end> <end>']\n",
            "Loss - 0.02119513787329197\n"
          ]
        },
        {
          "output_type": "stream",
          "name": "stderr",
          "text": [
            "\r 19%|█▉        | 19/100 [01:12<05:18,  3.93s/it]"
          ]
        },
        {
          "output_type": "stream",
          "name": "stdout",
          "text": [
            "Translated - ['<end> <end> <end> <end> <end> <end> <end> <end> <end> <end> <end> <end> <end> <end> <end> <end>', 'chosen <end> <end> <end> <end> <end> <end> <end> <end> <end> <end> <end> <end> <end> <end> <end>', '<end> <end> <end> <end> <end> <end> <end> <end> <end> <end> <end> <end> <end> <end> <end> <end>', '<end> <end> <end> <end> <end> <end> <end> <end> <end> <end> <end> <end> <end> <end> <end> <end>', 'country <end> <end> <end> <end> <end> <end> <end> <end> <end> <end> <end> <end> <end> <end> <end>', 'menzah menzah menzah menzah menzah menzah menzah menzah menzah menzah menzah menzah menzah menzah menzah menzah', '<end> <end> <end> <end> <end> <end> <end> <end> <end> <end> <end> <end> <end> <end> <end> <end>', 'yes <end> <end> <end> <end> <end> <end> <end> <end> <end> <end> <end> <end> <end> <end> <end>', '<end> <end> <end> <end> <end> <end> <end> <end> <end> <end> <end> <end> <end> <end> <end> <end>', 'yes <end> <end> <end> <end> <end> <end> <end> <end> <end> <end> <end> <end> <end> <end> <end>', '<end> <end> <end> <end> <end> <end> <end> <end> <end> <end> <end> <end> <end> <end> <end> <end>', 'no no no no no no no <end> <end> <end> <end> <end> <end> <end> <end> <end>', 'yes <end> <end> <end> <end> <end> <end> <end> <end> <end> <end> <end> <end> <end> <end> <end>', '<end> <end> <end> <end> <end> <end> <end> <end> <end> <end> <end> <end> <end> <end> <end> <end>', '<end> <end> <end> <end> <end> <end> <end> <end> <end> <end> <end> <end> <end> <end> <end> <end>', 'yes <end> <end> <end> <end> <end> <end> <end> <end> <end> <end> <end> <end> <end> <end> <end>', '<end> <end> <end> <end> <end> <end> <end> <end> <end> <end> <end> <end> <end> <end> <end> <end>', '<end> <end> <end> <end> <end> <end> <end> <end> <end> <end> <end> <end> <end> <end> <end> <end>', 'he <end> <end> <end> <end> <end> <end> <end> <end> <end> <end> <end> <end> <end> <end> <end>', '<end> <end> <end> <end> <end> <end> <end> <end> <end> <end> <end> <end> <end> <end> <end> <end>', '<end> <end> <end> <end> <end> <end> <end> <end> <end> <end> <end> <end> <end> <end> <end> <end>', 'yes <end> <end> <end> <end> <end> <end> <end> <end> <end> <end> <end> <end> <end> <end> <end>', 'pop pop pop pop alexander alexander alexander alexander alexander alexander alexander alexander alexander alexander alexander alexander', '<end> <end> <end> <end> <end> <end> <end> <end> <end> <end> <end> <end> <end> <end> <end> <end>', 'putnam putnam putnam putnam putnam putnam putnam putnam putnam putnam putnam putnam putnam putnam putnam putnam', '<end> <end> <end> <end> <end> <end> <end> <end> <end> <end> <end> <end> <end> <end> <end> <end>', '<end> <end> <end> <end> <end> <end> <end> <end> <end> <end> <end> <end> <end> <end> <end> <end>', '<end> <end> <end> <end> <end> <end> <end> <end> <end> <end> <end> <end> <end> <end> <end> <end>', 'captain <end> <end> <end> <end> <end> <end> <end> <end> <end> <end> <end> <end> <end> <end> <end>', '<end> <end> <end> <end> <end> <end> <end> <end> <end> <end> <end> <end> <end> <end> <end> <end>', 'sam. <end> <end> <end> <end> <end> <end> <end> <end> <end> <end> <end> <end> <end> <end> <end>', 'you you you you you you you you you you you you you you you you', '<end> <end> <end> <end> <end> <end> <end> <end> <end> <end> <end> <end> <end> <end> <end> <end>']\n",
            "Loss - 0.008918659761548042\n",
            "Translated - ['<end> <end> <end> <end> <end> <end> <end> <end> <end> <end> <end> <end> <end> <end> <end> <end>', 'chosen <end> <end> <end> <end> <end> <end> <end> <end> <end> <end> <end> <end> <end> <end> <end>', '<end> <end> <end> <end> <end> <end> <end> <end> <end> <end> <end> <end> <end> <end> <end> <end>', '<end> <end> <end> <end> <end> <end> <end> <end> <end> <end> <end> <end> <end> <end> <end> <end>', 'country pop pop pop pop country country country country country country country country country country country', 'menzah menzah menzah menzah menzah menzah menzah menzah menzah menzah menzah menzah menzah menzah menzah menzah', '<end> <end> <end> <end> <end> <end> <end> <end> <end> <end> <end> <end> <end> <end> <end> <end>', 'yes <end> <end> <end> <end> <end> <end> <end> <end> <end> <end> <end> <end> <end> <end> <end>', 'yes <end> <end> <end> <end> <end> <end> <end> <end> <end> <end> <end> <end> <end> <end> <end>', 'yes <end> <end> <end> <end> <end> <end> <end> <end> <end> <end> <end> <end> <end> <end> <end>', '<end> <end> <end> <end> <end> <end> <end> <end> <end> <end> <end> <end> <end> <end> <end> <end>', 'no no no no <end> <end> <end> <end> <end> <end> <end> <end> <end> <end> <end> <end>', 'yes <end> <end> <end> <end> <end> <end> <end> <end> <end> <end> <end> <end> <end> <end> <end>', '<end> <end> <end> <end> <end> <end> <end> <end> <end> <end> <end> <end> <end> <end> <end> <end>', '<end> <end> <end> <end> <end> <end> <end> <end> <end> <end> <end> <end> <end> <end> <end> <end>', 'yes <end> <end> <end> <end> <end> <end> <end> <end> <end> <end> <end> <end> <end> <end> <end>', '<end> <end> <end> <end> <end> <end> <end> <end> <end> <end> <end> <end> <end> <end> <end> <end>', '<end> <end> <end> <end> <end> <end> <end> <end> <end> <end> <end> <end> <end> <end> <end> <end>', 'he for for for for for for for for for for for for for for for', '<end> <end> <end> <end> <end> <end> <end> <end> <end> <end> <end> <end> <end> <end> <end> <end>', '<end> <end> <end> <end> <end> <end> <end> <end> <end> <end> <end> <end> <end> <end> <end> <end>', 'yes <end> <end> <end> <end> <end> <end> <end> <end> <end> <end> <end> <end> <end> <end> <end>', 'pop pop pop pop pop pop alexander alexander alexander alexander alexander alexander alexander alexander alexander alexander', '<end> <end> <end> <end> <end> <end> <end> <end> <end> <end> <end> <end> <end> <end> <end> <end>', 'captain putnam putnam putnam putnam putnam putnam putnam putnam putnam putnam putnam putnam putnam putnam putnam', '<end> <end> <end> <end> <end> <end> <end> <end> <end> <end> <end> <end> <end> <end> <end> <end>', '<end> <end> <end> <end> <end> <end> <end> <end> <end> <end> <end> <end> <end> <end> <end> <end>', '<end> <end> <end> <end> <end> <end> <end> <end> <end> <end> <end> <end> <end> <end> <end> <end>', 'captain <end> <end> <end> <end> <end> <end> <end> <end> <end> <end> <end> <end> <end> <end> <end>', '<end> <end> <end> <end> <end> <end> <end> <end> <end> <end> <end> <end> <end> <end> <end> <end>', 'sam. sam. <end> <end> <end> <end> <end> <end> <end> <end> <end> <end> <end> <end> <end> <end>', 'you you you you you you you you you you you you you you you you', '<end> <end> <end> <end> <end> <end> <end> <end> <end> <end> <end> <end> <end> <end> <end> <end>']\n",
            "Loss - 0.02029341086745262\n"
          ]
        },
        {
          "output_type": "stream",
          "name": "stderr",
          "text": [
            "\r 20%|██        | 20/100 [01:16<05:22,  4.04s/it]"
          ]
        },
        {
          "output_type": "stream",
          "name": "stdout",
          "text": [
            "Translated - ['<end> <end> <end> <end> <end> <end> <end> <end> <end> <end> <end> <end> <end> <end> <end> <end>', 'chosen <end> <end> <end> <end> <end> <end> <end> <end> <end> <end> <end> <end> <end> <end> <end>', '<end> <end> <end> <end> <end> <end> <end> <end> <end> <end> <end> <end> <end> <end> <end> <end>', '<end> <end> <end> <end> <end> <end> <end> <end> <end> <end> <end> <end> <end> <end> <end> <end>', 'country <end> <end> country country country country country country country country country country country country country', 'menzah menzah menzah menzah menzah menzah menzah menzah menzah menzah menzah menzah menzah menzah menzah menzah', '<end> <end> <end> <end> <end> <end> <end> <end> <end> <end> <end> <end> <end> <end> <end> <end>', 'yes <end> <end> <end> <end> <end> <end> <end> <end> <end> <end> <end> <end> <end> <end> <end>', 'yes <end> <end> <end> <end> <end> <end> <end> <end> <end> <end> <end> <end> <end> <end> <end>', 'yes <end> <end> <end> <end> <end> <end> <end> <end> <end> <end> <end> <end> <end> <end> <end>', 'george <end> <end> <end> <end> <end> <end> <end> <end> <end> <end> <end> <end> <end> <end> <end>', 'no no no no <end> <end> <end> <end> <end> <end> <end> <end> <end> <end> <end> <end>', 'yes <end> <end> <end> <end> <end> <end> <end> <end> <end> <end> <end> <end> <end> <end> <end>', 'clarence <end> <end> <end> <end> <end> <end> <end> <end> <end> <end> <end> <end> <end> <end> <end>', '<end> <end> <end> <end> <end> <end> <end> <end> <end> <end> <end> <end> <end> <end> <end> <end>', 'yes <end> <end> <end> <end> <end> <end> <end> <end> <end> <end> <end> <end> <end> <end> <end>', 'no <end> <end> <end> <end> <end> <end> <end> <end> <end> <end> <end> <end> <end> <end> <end>', 'no <end> <end> <end> <end> <end> <end> <end> <end> <end> <end> <end> <end> <end> <end> <end>', 'he he for for for for for for for for for for for for for for', '<end> <end> <end> <end> <end> <end> <end> <end> <end> <end> <end> <end> <end> <end> <end> <end>', '<end> <end> <end> <end> <end> <end> <end> <end> <end> <end> <end> <end> <end> <end> <end> <end>', 'yes <end> <end> <end> <end> <end> <end> <end> <end> <end> <end> <end> <end> <end> <end> <end>', 'pop alexander <end> <end> <end> alexander alexander alexander alexander alexander alexander alexander alexander alexander alexander alexander', '<end> <end> <end> <end> <end> <end> <end> <end> <end> <end> <end> <end> <end> <end> <end> <end>', 'captain <end> <end> <end> <end> <end> <end> <end> <end> <end> <end> <end> <end> <end> <end> <end>', '<end> <end> <end> <end> <end> <end> <end> <end> <end> <end> <end> <end> <end> <end> <end> <end>', '<end> <end> <end> <end> <end> <end> <end> <end> <end> <end> <end> <end> <end> <end> <end> <end>', '<end> <end> <end> <end> <end> <end> <end> <end> <end> <end> <end> <end> <end> <end> <end> <end>', 'captain <end> <end> <end> <end> <end> <end> <end> <end> <end> <end> <end> <end> <end> <end> <end>', '<end> <end> <end> <end> <end> <end> <end> <end> <end> <end> <end> <end> <end> <end> <end> <end>', 'sam. sam. <end> <end> <end> <end> <end> <end> <end> <end> <end> <end> <end> <end> <end> <end>', 'you you you you you you you you you you you you you you you you', '<end> <end> <end> <end> <end> <end> <end> <end> <end> <end> <end> <end> <end> <end> <end> <end>']\n",
            "Loss - 0.008129915222525597\n",
            "Translated - ['<end> <end> <end> <end> <end> <end> <end> <end> <end> <end> <end> <end> <end> <end> <end> <end>', 'chosen <end> <end> <end> <end> <end> <end> <end> <end> <end> <end> <end> <end> <end> <end> <end>', '<end> <end> <end> <end> <end> <end> <end> <end> <end> <end> <end> <end> <end> <end> <end> <end>', '1956 <end> <end> <end> <end> <end> <end> <end> <end> <end> <end> <end> <end> <end> <end> <end>', 'country <end> <end> <end> country country country country country country country country country country country country', 'menzah menzah menzah menzah menzah menzah menzah menzah menzah menzah menzah menzah menzah menzah menzah menzah', 'schools <end> <end> <end> <end> <end> <end> <end> <end> <end> <end> <end> <end> <end> <end> <end>', 'yes <end> <end> <end> <end> <end> <end> <end> <end> <end> <end> <end> <end> <end> <end> <end>', '<end> <end> <end> <end> <end> <end> <end> <end> <end> <end> <end> <end> <end> <end> <end> <end>', 'yes <end> <end> <end> <end> <end> <end> <end> <end> <end> <end> <end> <end> <end> <end> <end>', 'george <end> <end> <end> <end> <end> <end> <end> <end> <end> <end> <end> <end> <end> <end> <end>', 'no no <end> <end> <end> <end> <end> <end> <end> <end> <end> <end> <end> <end> <end> <end>', 'yes <end> <end> <end> <end> <end> <end> <end> <end> <end> <end> <end> <end> <end> <end> <end>', 'clarence <end> <end> <end> <end> <end> <end> <end> <end> <end> <end> <end> <end> <end> <end> <end>', 'no <end> <end> <end> <end> <end> <end> <end> <end> <end> <end> <end> <end> <end> <end> <end>', 'yes <end> <end> <end> <end> <end> <end> <end> <end> <end> <end> <end> <end> <end> <end> <end>', 'no <end> <end> <end> <end> <end> <end> <end> <end> <end> <end> <end> <end> <end> <end> <end>', 'no <end> <end> <end> <end> <end> <end> <end> <end> <end> <end> <end> <end> <end> <end> <end>', 'he he for for for for for for for for for for for for for for', '<end> <end> <end> <end> <end> <end> <end> <end> <end> <end> <end> <end> <end> <end> <end> <end>', '<end> <end> <end> <end> <end> <end> <end> <end> <end> <end> <end> <end> <end> <end> <end> <end>', 'yes <end> <end> <end> <end> <end> <end> <end> <end> <end> <end> <end> <end> <end> <end> <end>', 'alexander <end> <end> <end> <end> <end> <end> <end> <end> <end> <end> <end> <end> <end> <end> <end>', '<end> <end> <end> <end> <end> <end> <end> <end> <end> <end> <end> <end> <end> <end> <end> <end>', 'captain <end> <end> <end> <end> <end> <end> <end> <end> <end> <end> <end> <end> <end> <end> <end>', '<end> <end> <end> <end> <end> <end> <end> <end> <end> <end> <end> <end> <end> <end> <end> <end>', '<end> <end> <end> <end> <end> <end> <end> <end> <end> <end> <end> <end> <end> <end> <end> <end>', '<end> <end> <end> <end> <end> <end> <end> <end> <end> <end> <end> <end> <end> <end> <end> <end>', 'captain <end> <end> <end> <end> <end> <end> <end> <end> <end> <end> <end> <end> <end> <end> <end>', '<end> <end> <end> <end> <end> <end> <end> <end> <end> <end> <end> <end> <end> <end> <end> <end>', 'sam. <end> <end> <end> <end> <end> <end> <end> <end> <end> <end> <end> <end> <end> <end> <end>', 'you you you you you you you you you you you you you you you you', '<end> <end> <end> <end> <end> <end> <end> <end> <end> <end> <end> <end> <end> <end> <end> <end>']\n",
            "Loss - 0.019495468586683273\n"
          ]
        },
        {
          "output_type": "stream",
          "name": "stderr",
          "text": [
            "\r 21%|██        | 21/100 [01:20<05:04,  3.85s/it]"
          ]
        },
        {
          "output_type": "stream",
          "name": "stdout",
          "text": [
            "Translated - ['tunisia <end> <end> <end> <end> <end> <end> <end> <end> <end> <end> <end> <end> <end> <end> <end>', 'chosen <end> <end> <end> <end> <end> <end> <end> <end> <end> <end> <end> <end> <end> <end> <end>', 'sunday <end> <end> <end> <end> <end> <end> <end> <end> <end> <end> <end> <end> <end> <end> <end>', '1956 <end> <end> <end> <end> <end> <end> <end> <end> <end> <end> <end> <end> <end> <end> <end>', 'country country country country country country country country country country country country country country country country', 'menzah menzah menzah menzah menzah menzah menzah menzah menzah menzah menzah menzah menzah menzah menzah menzah', 'schools <end> <end> <end> <end> <end> <end> <end> <end> <end> <end> <end> <end> <end> <end> <end>', 'yes <end> <end> <end> <end> <end> <end> <end> <end> <end> <end> <end> <end> <end> <end> <end>', '<end> <end> <end> <end> <end> <end> <end> <end> <end> <end> <end> <end> <end> <end> <end> <end>', 'yes <end> <end> <end> <end> <end> <end> <end> <end> <end> <end> <end> <end> <end> <end> <end>', 'george <end> <end> <end> <end> <end> <end> <end> <end> <end> <end> <end> <end> <end> <end> <end>', 'no <end> <end> <end> <end> <end> <end> <end> <end> <end> <end> <end> <end> <end> <end> <end>', 'yes <end> <end> <end> <end> <end> <end> <end> <end> <end> <end> <end> <end> <end> <end> <end>', 'clarence <end> <end> <end> <end> <end> <end> <end> <end> <end> <end> <end> <end> <end> <end> <end>', 'no <end> <end> <end> <end> <end> <end> <end> <end> <end> <end> <end> <end> <end> <end> <end>', 'yes <end> <end> <end> <end> <end> <end> <end> <end> <end> <end> <end> <end> <end> <end> <end>', 'no <end> <end> <end> <end> <end> <end> <end> <end> <end> <end> <end> <end> <end> <end> <end>', 'no <end> <end> <end> <end> <end> <end> <end> <end> <end> <end> <end> <end> <end> <end> <end>', 'he for for for for for for for for for for for for for for for', 'yes <end> <end> <end> <end> <end> <end> <end> <end> <end> <end> <end> <end> <end> <end> <end>', '<end> <end> <end> <end> <end> <end> <end> <end> <end> <end> <end> <end> <end> <end> <end> <end>', 'yes <end> <end> <end> <end> <end> <end> <end> <end> <end> <end> <end> <end> <end> <end> <end>', 'alexander <end> <end> <end> <end> <end> <end> <end> <end> <end> <end> <end> <end> <end> <end> <end>', '<end> <end> <end> <end> <end> <end> <end> <end> <end> <end> <end> <end> <end> <end> <end> <end>', 'captain <end> <end> <end> <end> <end> <end> <end> <end> <end> <end> <end> <end> <end> <end> <end>', '<end> <end> <end> <end> <end> <end> <end> <end> <end> <end> <end> <end> <end> <end> <end> <end>', '<end> <end> <end> <end> <end> <end> <end> <end> <end> <end> <end> <end> <end> <end> <end> <end>', '<end> <end> <end> <end> <end> <end> <end> <end> <end> <end> <end> <end> <end> <end> <end> <end>', 'captain <end> <end> <end> <end> <end> <end> <end> <end> <end> <end> <end> <end> <end> <end> <end>', '<end> <end> <end> <end> <end> <end> <end> <end> <end> <end> <end> <end> <end> <end> <end> <end>', 'sam. sam. <end> <end> <end> <end> <end> <end> <end> <end> <end> <end> <end> <end> <end> <end>', 'you you you you you you you you you you you you you you you you', '<end> <end> <end> <end> <end> <end> <end> <end> <end> <end> <end> <end> <end> <end> <end> <end>']\n",
            "Loss - 0.007543545216321945\n",
            "Translated - ['tunisia <end> <end> <end> <end> <end> <end> <end> <end> <end> <end> <end> <end> <end> <end> <end>', 'chosen <end> <end> <end> <end> <end> <end> <end> <end> <end> <end> <end> <end> <end> <end> <end>', '<end> <end> <end> <end> <end> <end> <end> <end> <end> <end> <end> <end> <end> <end> <end> <end>', '1956 <end> <end> <end> <end> <end> <end> <end> <end> <end> <end> <end> <end> <end> <end> <end>', 'country <end> <end> <end> country country country country country country country country country country country country', 'menzah menzah <end> <end> <end> <end> <end> <end> <end> <end> <end> <end> <end> <end> <end> <end>', 'schools <end> <end> <end> <end> <end> <end> <end> <end> <end> <end> <end> <end> <end> <end> <end>', 'yes <end> <end> <end> <end> <end> <end> <end> <end> <end> <end> <end> <end> <end> <end> <end>', 'yes <end> <end> <end> <end> <end> <end> <end> <end> <end> <end> <end> <end> <end> <end> <end>', 'yes <end> <end> <end> <end> <end> <end> <end> <end> <end> <end> <end> <end> <end> <end> <end>', 'george <end> <end> <end> <end> <end> <end> <end> <end> <end> <end> <end> <end> <end> <end> <end>', 'no <end> <end> <end> <end> <end> <end> <end> <end> <end> <end> <end> <end> <end> <end> <end>', 'yes <end> <end> <end> <end> <end> <end> <end> <end> <end> <end> <end> <end> <end> <end> <end>', 'clarence <end> <end> <end> <end> <end> <end> <end> <end> <end> <end> <end> <end> <end> <end> <end>', 'no <end> <end> <end> <end> <end> <end> <end> <end> <end> <end> <end> <end> <end> <end> <end>', 'yes <end> <end> <end> <end> <end> <end> <end> <end> <end> <end> <end> <end> <end> <end> <end>', 'no <end> <end> <end> <end> <end> <end> <end> <end> <end> <end> <end> <end> <end> <end> <end>', 'no <end> <end> <end> <end> <end> <end> <end> <end> <end> <end> <end> <end> <end> <end> <end>', 'he for for for for for for for for for for for for <end> <end> <end>', 'yes <end> <end> <end> <end> <end> <end> <end> <end> <end> <end> <end> <end> <end> <end> <end>', '<end> <end> <end> <end> <end> <end> <end> <end> <end> <end> <end> <end> <end> <end> <end> <end>', 'yes <end> <end> <end> <end> <end> <end> <end> <end> <end> <end> <end> <end> <end> <end> <end>', 'alexander <end> <end> <end> <end> <end> <end> <end> <end> <end> <end> <end> <end> <end> <end> <end>', '<end> <end> <end> <end> <end> <end> <end> <end> <end> <end> <end> <end> <end> <end> <end> <end>', 'captain <end> <end> <end> <end> <end> <end> <end> <end> <end> <end> <end> <end> <end> <end> <end>', 'as <end> <end> <end> <end> <end> <end> <end> <end> <end> <end> <end> <end> <end> <end> <end>', '<end> <end> <end> <end> <end> <end> <end> <end> <end> <end> <end> <end> <end> <end> <end> <end>', '<end> <end> <end> <end> <end> <end> <end> <end> <end> <end> <end> <end> <end> <end> <end> <end>', 'captain <end> <end> <end> <end> <end> <end> <end> <end> <end> <end> <end> <end> <end> <end> <end>', \"father's <end> <end> <end> <end> <end> <end> <end> <end> <end> <end> <end> <end> <end> <end> <end>\", 'sam. sam. <end> <end> <end> <end> <end> <end> <end> <end> <end> <end> <end> <end> <end> <end>', 'as come, come, come, come, come, come, come, come, come, come, come, come, come, come, come,', '<end> <end> <end> <end> <end> <end> <end> <end> <end> <end> <end> <end> <end> <end> <end> <end>']\n",
            "Loss - 0.018859589472413063\n"
          ]
        },
        {
          "output_type": "stream",
          "name": "stderr",
          "text": [
            "\r 22%|██▏       | 22/100 [01:23<04:52,  3.75s/it]"
          ]
        },
        {
          "output_type": "stream",
          "name": "stdout",
          "text": [
            "Translated - ['<end> <end> <end> <end> <end> <end> <end> <end> <end> <end> <end> <end> <end> <end> <end> <end>', 'chosen <end> <end> <end> <end> <end> <end> <end> <end> <end> <end> <end> <end> <end> <end> <end>', '<end> <end> <end> <end> <end> <end> <end> <end> <end> <end> <end> <end> <end> <end> <end> <end>', '<end> <end> <end> <end> <end> <end> <end> <end> <end> <end> <end> <end> <end> <end> <end> <end>', 'country <end> <end> <end> <end> <end> <end> <end> <end> <end> <end> <end> <end> <end> <end> <end>', 'menzah <end> <end> <end> <end> <end> <end> <end> <end> <end> <end> <end> <end> <end> <end> <end>', '<end> <end> <end> <end> <end> <end> <end> <end> <end> <end> <end> <end> <end> <end> <end> <end>', 'yes <end> <end> <end> <end> <end> <end> <end> <end> <end> <end> <end> <end> <end> <end> <end>', 'yes <end> <end> <end> <end> <end> <end> <end> <end> <end> <end> <end> <end> <end> <end> <end>', 'yes <end> <end> <end> <end> <end> <end> <end> <end> <end> <end> <end> <end> <end> <end> <end>', 'george <end> <end> <end> <end> <end> <end> <end> <end> <end> <end> <end> <end> <end> <end> <end>', '<end> <end> <end> <end> <end> <end> <end> <end> <end> <end> <end> <end> <end> <end> <end> <end>', 'yes <end> <end> <end> <end> <end> <end> <end> <end> <end> <end> <end> <end> <end> <end> <end>', 'clarence <end> <end> <end> <end> <end> <end> <end> <end> <end> <end> <end> <end> <end> <end> <end>', 'no <end> <end> <end> <end> <end> <end> <end> <end> <end> <end> <end> <end> <end> <end> <end>', 'yes <end> <end> <end> <end> <end> <end> <end> <end> <end> <end> <end> <end> <end> <end> <end>', 'no <end> <end> <end> <end> <end> <end> <end> <end> <end> <end> <end> <end> <end> <end> <end>', 'no <end> <end> <end> <end> <end> <end> <end> <end> <end> <end> <end> <end> <end> <end> <end>', 'he <end> <end> <end> <end> <end> <end> <end> <end> <end> <end> <end> <end> <end> <end> <end>', 'yes <end> <end> <end> <end> <end> <end> <end> <end> <end> <end> <end> <end> <end> <end> <end>', '<end> <end> <end> <end> <end> <end> <end> <end> <end> <end> <end> <end> <end> <end> <end> <end>', 'yes <end> <end> <end> <end> <end> <end> <end> <end> <end> <end> <end> <end> <end> <end> <end>', '<end> <end> <end> <end> <end> <end> <end> <end> <end> <end> <end> <end> <end> <end> <end> <end>', '<end> <end> <end> <end> <end> <end> <end> <end> <end> <end> <end> <end> <end> <end> <end> <end>', 'captain <end> <end> <end> <end> <end> <end> <end> <end> <end> <end> <end> <end> <end> <end> <end>', '<end> <end> <end> <end> <end> <end> <end> <end> <end> <end> <end> <end> <end> <end> <end> <end>', '<end> <end> <end> <end> <end> <end> <end> <end> <end> <end> <end> <end> <end> <end> <end> <end>', '<end> <end> <end> <end> <end> <end> <end> <end> <end> <end> <end> <end> <end> <end> <end> <end>', 'captain <end> <end> <end> <end> <end> <end> <end> <end> <end> <end> <end> <end> <end> <end> <end>', '<end> <end> <end> <end> <end> <end> <end> <end> <end> <end> <end> <end> <end> <end> <end> <end>', 'sam. sam. <end> <end> <end> <end> <end> <end> <end> <end> <end> <end> <end> <end> <end> <end>', 'you you you you you you you you you you you you you you you you', '<end> <end> <end> <end> <end> <end> <end> <end> <end> <end> <end> <end> <end> <end> <end> <end>']\n",
            "Loss - 0.007109834812581539\n",
            "Translated - ['<end> <end> <end> <end> <end> <end> <end> <end> <end> <end> <end> <end> <end> <end> <end> <end>', 'chosen <end> <end> <end> <end> <end> <end> <end> <end> <end> <end> <end> <end> <end> <end> <end>', 'sunday <end> <end> <end> <end> <end> <end> <end> <end> <end> <end> <end> <end> <end> <end> <end>', '1956 <end> <end> <end> <end> <end> <end> <end> <end> <end> <end> <end> <end> <end> <end> <end>', 'country <end> <end> <end> <end> <end> <end> <end> <end> <end> <end> <end> <end> <end> <end> <end>', 'menzah menzah <end> <end> <end> <end> <end> <end> <end> <end> <end> <end> <end> <end> <end> <end>', 'schools <end> <end> <end> <end> <end> <end> <end> <end> <end> <end> <end> <end> <end> <end> <end>', 'yes <end> <end> <end> <end> <end> <end> <end> <end> <end> <end> <end> <end> <end> <end> <end>', '<end> <end> <end> <end> <end> <end> <end> <end> <end> <end> <end> <end> <end> <end> <end> <end>', 'yes <end> <end> <end> <end> <end> <end> <end> <end> <end> <end> <end> <end> <end> <end> <end>', 'george <end> <end> <end> <end> <end> <end> <end> <end> <end> <end> <end> <end> <end> <end> <end>', '<end> <end> <end> <end> <end> <end> <end> <end> <end> <end> <end> <end> <end> <end> <end> <end>', 'yes <end> <end> <end> <end> <end> <end> <end> <end> <end> <end> <end> <end> <end> <end> <end>', 'clarence <end> <end> <end> <end> <end> <end> <end> <end> <end> <end> <end> <end> <end> <end> <end>', 'no <end> <end> <end> <end> <end> <end> <end> <end> <end> <end> <end> <end> <end> <end> <end>', 'yes <end> <end> <end> <end> <end> <end> <end> <end> <end> <end> <end> <end> <end> <end> <end>', 'no <end> <end> <end> <end> <end> <end> <end> <end> <end> <end> <end> <end> <end> <end> <end>', 'no <end> <end> <end> <end> <end> <end> <end> <end> <end> <end> <end> <end> <end> <end> <end>', 'he <end> <end> <end> <end> <end> <end> <end> <end> <end> <end> <end> <end> <end> <end> <end>', 'yes <end> <end> <end> <end> <end> <end> <end> <end> <end> <end> <end> <end> <end> <end> <end>', 'financial <end> <end> <end> <end> <end> <end> <end> <end> <end> <end> <end> <end> <end> <end> <end>', 'yes <end> <end> <end> <end> <end> <end> <end> <end> <end> <end> <end> <end> <end> <end> <end>', '<end> <end> <end> <end> <end> <end> <end> <end> <end> <end> <end> <end> <end> <end> <end> <end>', '<end> <end> <end> <end> <end> <end> <end> <end> <end> <end> <end> <end> <end> <end> <end> <end>', 'captain <end> <end> <end> <end> <end> <end> <end> <end> <end> <end> <end> <end> <end> <end> <end>', '<end> <end> <end> <end> <end> <end> <end> <end> <end> <end> <end> <end> <end> <end> <end> <end>', '<end> <end> <end> <end> <end> <end> <end> <end> <end> <end> <end> <end> <end> <end> <end> <end>', '<end> <end> <end> <end> <end> <end> <end> <end> <end> <end> <end> <end> <end> <end> <end> <end>', 'putnam putnam <end> <end> <end> <end> <end> <end> <end> <end> <end> <end> <end> <end> <end> <end>', '<end> <end> <end> <end> <end> <end> <end> <end> <end> <end> <end> <end> <end> <end> <end> <end>', 'sam. <end> <end> <end> <end> <end> <end> <end> <end> <end> <end> <end> <end> <end> <end> <end>', 'you you you you you you you you you you you you you you you you', '<end> <end> <end> <end> <end> <end> <end> <end> <end> <end> <end> <end> <end> <end> <end> <end>']\n",
            "Loss - 0.01798463985323906\n"
          ]
        },
        {
          "output_type": "stream",
          "name": "stderr",
          "text": [
            "\r 23%|██▎       | 23/100 [01:27<04:41,  3.65s/it]"
          ]
        },
        {
          "output_type": "stream",
          "name": "stdout",
          "text": [
            "Translated - ['tunisia <end> <end> <end> <end> <end> <end> <end> <end> <end> <end> <end> <end> <end> <end> <end>', 'chosen chosen chosen <end> <end> <end> <end> <end> <end> <end> <end> <end> <end> <end> <end> <end>', 'sunday sunday sunday sunday sunday sunday sunday sunday <end> <end> <end> <end> <end> <end> <end> <end>', '1956 1956 1956 1956 1956 1956 1956 1956 1956 1956 1956 1956 1956 1956 1956 1956', 'country pop <end> <end> country country country country country country country country country country country country', 'menzah menzah menzah menzah menzah <end> <end> menzah menzah menzah neighborhood neighborhood neighborhood neighborhood neighborhood neighborhood', 'schools schools <end> <end> <end> <end> <end> <end> <end> <end> <end> <end> <end> <end> <end> <end>', 'yes <end> <end> <end> <end> <end> <end> <end> <end> <end> <end> <end> <end> <end> <end> <end>', '<end> <end> <end> <end> <end> <end> <end> <end> <end> <end> <end> <end> <end> <end> <end> <end>', 'yes <end> <end> <end> <end> <end> <end> <end> <end> <end> <end> <end> <end> <end> <end> <end>', 'george <end> <end> <end> <end> <end> <end> <end> <end> <end> <end> <end> <end> <end> <end> <end>', '<end> <end> <end> <end> <end> <end> <end> <end> <end> <end> <end> <end> <end> <end> <end> <end>', 'yes <end> <end> <end> <end> <end> <end> <end> <end> <end> <end> <end> <end> <end> <end> <end>', 'clarence <end> <end> <end> <end> <end> <end> <end> <end> <end> <end> <end> <end> <end> <end> <end>', 'no <end> <end> <end> <end> <end> <end> <end> <end> <end> <end> <end> <end> <end> <end> <end>', 'yes <end> <end> <end> <end> <end> <end> <end> <end> <end> <end> <end> <end> <end> <end> <end>', 'no <end> <end> <end> <end> <end> <end> <end> <end> <end> <end> <end> <end> <end> <end> <end>', 'no <end> <end> <end> <end> <end> <end> <end> <end> <end> <end> <end> <end> <end> <end> <end>', 'he he <end> <end> <end> <end> <end> <end> <end> <end> <end> <end> <end> <end> <end> <end>', 'yes <end> <end> <end> <end> <end> <end> <end> <end> <end> <end> <end> <end> <end> <end> <end>', 'financial <end> <end> <end> <end> <end> <end> <end> <end> <end> <end> <end> <end> <end> <end> <end>', 'yes <end> <end> <end> <end> <end> <end> <end> <end> <end> <end> <end> <end> <end> <end> <end>', 'pop <end> <end> <end> <end> <end> <end> <end> <end> <end> <end> <end> <end> <end> <end> <end>', '<end> <end> <end> <end> <end> <end> <end> <end> <end> <end> <end> <end> <end> <end> <end> <end>', 'captain <end> <end> <end> <end> <end> <end> <end> <end> <end> <end> <end> <end> <end> <end> <end>', '<end> <end> <end> <end> <end> <end> <end> <end> <end> <end> <end> <end> <end> <end> <end> <end>', 'yes. <end> <end> <end> <end> <end> <end> <end> <end> <end> <end> <end> <end> <end> <end> <end>', '<end> <end> <end> <end> <end> <end> <end> <end> <end> <end> <end> <end> <end> <end> <end> <end>', 'putnam putnam <end> <end> <end> <end> <end> <end> <end> <end> <end> <end> <end> <end> <end> <end>', '<end> <end> <end> <end> <end> <end> <end> <end> <end> <end> <end> <end> <end> <end> <end> <end>', 'sam. <end> <end> <end> <end> <end> <end> <end> <end> <end> <end> <end> <end> <end> <end> <end>', 'you you you you you you you you you you you you you you you you', '<end> <end> <end> <end> <end> <end> <end> <end> <end> <end> <end> <end> <end> <end> <end> <end>']\n",
            "Loss - 0.006773089990019798\n",
            "Translated - ['<end> <end> <end> <end> <end> <end> <end> <end> <end> <end> <end> <end> <end> <end> <end> <end>', 'chosen <end> <end> <end> <end> <end> <end> <end> <end> <end> <end> <end> <end> <end> <end> <end>', 'sunday <end> <end> <end> <end> <end> <end> <end> <end> <end> <end> <end> <end> <end> <end> <end>', '1956 <end> <end> <end> <end> <end> <end> <end> <end> <end> <end> <end> <end> <end> <end> <end>', 'country <end> <end> <end> <end> <end> <end> <end> <end> <end> <end> <end> <end> <end> <end> <end>', 'menzah <end> <end> <end> <end> <end> <end> <end> <end> <end> <end> <end> <end> <end> <end> <end>', 'schools <end> <end> <end> <end> <end> <end> <end> <end> <end> <end> <end> <end> <end> <end> <end>', 'yes <end> <end> <end> <end> <end> <end> <end> <end> <end> <end> <end> <end> <end> <end> <end>', '<end> <end> <end> <end> <end> <end> <end> <end> <end> <end> <end> <end> <end> <end> <end> <end>', 'yes <end> <end> <end> <end> <end> <end> <end> <end> <end> <end> <end> <end> <end> <end> <end>', 'george <end> <end> <end> <end> <end> <end> <end> <end> <end> <end> <end> <end> <end> <end> <end>', 'no <end> <end> <end> <end> <end> <end> <end> <end> <end> <end> <end> <end> <end> <end> <end>', 'yes <end> <end> <end> <end> <end> <end> <end> <end> <end> <end> <end> <end> <end> <end> <end>', 'clarence <end> <end> <end> <end> <end> <end> <end> <end> <end> <end> <end> <end> <end> <end> <end>', 'no <end> <end> <end> <end> <end> <end> <end> <end> <end> <end> <end> <end> <end> <end> <end>', 'yes <end> <end> <end> <end> <end> <end> <end> <end> <end> <end> <end> <end> <end> <end> <end>', 'no <end> <end> <end> <end> <end> <end> <end> <end> <end> <end> <end> <end> <end> <end> <end>', 'no <end> <end> <end> <end> <end> <end> <end> <end> <end> <end> <end> <end> <end> <end> <end>', 'he he he <end> <end> <end> <end> <end> <end> <end> <end> <end> <end> <end> <end> <end>', 'yes <end> <end> <end> <end> <end> <end> <end> <end> <end> <end> <end> <end> <end> <end> <end>', 'financial <end> <end> <end> <end> <end> <end> <end> <end> <end> <end> <end> <end> <end> <end> <end>', 'yes <end> <end> <end> <end> <end> <end> <end> <end> <end> <end> <end> <end> <end> <end> <end>', '<end> <end> <end> <end> <end> <end> <end> <end> <end> <end> <end> <end> <end> <end> <end> <end>', '<end> <end> <end> <end> <end> <end> <end> <end> <end> <end> <end> <end> <end> <end> <end> <end>', 'captain <end> <end> <end> <end> <end> <end> <end> <end> <end> <end> <end> <end> <end> <end> <end>', '<end> <end> <end> <end> <end> <end> <end> <end> <end> <end> <end> <end> <end> <end> <end> <end>', 'yes. <end> <end> <end> <end> <end> <end> <end> <end> <end> <end> <end> <end> <end> <end> <end>', '<end> <end> <end> <end> <end> <end> <end> <end> <end> <end> <end> <end> <end> <end> <end> <end>', 'putnam <end> <end> <end> <end> <end> <end> <end> <end> <end> <end> <end> <end> <end> <end> <end>', '<end> <end> <end> <end> <end> <end> <end> <end> <end> <end> <end> <end> <end> <end> <end> <end>', 'tom <end> <end> <end> <end> <end> <end> <end> <end> <end> <end> <end> <end> <end> <end> <end>', 'you you you you you you you you you you you you you you you you', '<end> <end> <end> <end> <end> <end> <end> <end> <end> <end> <end> <end> <end> <end> <end> <end>']\n",
            "Loss - 0.01739424467086792\n"
          ]
        },
        {
          "output_type": "stream",
          "name": "stderr",
          "text": [
            "\r 24%|██▍       | 24/100 [01:30<04:34,  3.61s/it]"
          ]
        },
        {
          "output_type": "stream",
          "name": "stdout",
          "text": [
            "Translated - ['<end> <end> <end> <end> <end> <end> <end> <end> <end> <end> <end> <end> <end> <end> <end> <end>', 'chosen <end> <end> <end> <end> <end> <end> <end> <end> <end> <end> <end> <end> <end> <end> <end>', 'sunday <end> <end> <end> <end> <end> <end> <end> <end> <end> <end> <end> <end> <end> <end> <end>', '<end> <end> <end> <end> <end> <end> <end> <end> <end> <end> <end> <end> <end> <end> <end> <end>', 'country <end> <end> <end> <end> <end> <end> <end> <end> <end> <end> <end> <end> <end> <end> <end>', 'menzah <end> <end> <end> <end> <end> <end> <end> <end> <end> <end> <end> <end> <end> <end> <end>', '<end> <end> <end> <end> <end> <end> <end> <end> <end> <end> <end> <end> <end> <end> <end> <end>', 'yes <end> <end> <end> <end> <end> <end> <end> <end> <end> <end> <end> <end> <end> <end> <end>', '<end> <end> <end> <end> <end> <end> <end> <end> <end> <end> <end> <end> <end> <end> <end> <end>', 'yes <end> <end> <end> <end> <end> <end> <end> <end> <end> <end> <end> <end> <end> <end> <end>', 'george <end> <end> <end> <end> <end> <end> <end> <end> <end> <end> <end> <end> <end> <end> <end>', 'no <end> <end> <end> <end> <end> <end> <end> <end> <end> <end> <end> <end> <end> <end> <end>', 'yes <end> <end> <end> <end> <end> <end> <end> <end> <end> <end> <end> <end> <end> <end> <end>', 'clarence <end> <end> <end> <end> <end> <end> <end> <end> <end> <end> <end> <end> <end> <end> <end>', 'no <end> <end> <end> <end> <end> <end> <end> <end> <end> <end> <end> <end> <end> <end> <end>', 'yes <end> <end> <end> <end> <end> <end> <end> <end> <end> <end> <end> <end> <end> <end> <end>', 'no <end> <end> <end> <end> <end> <end> <end> <end> <end> <end> <end> <end> <end> <end> <end>', 'no <end> <end> <end> <end> <end> <end> <end> <end> <end> <end> <end> <end> <end> <end> <end>', 'he he <end> <end> <end> <end> <end> <end> <end> <end> <end> <end> <end> <end> <end> <end>', 'yes <end> <end> <end> <end> <end> <end> <end> <end> <end> <end> <end> <end> <end> <end> <end>', 'financial <end> <end> <end> <end> <end> <end> <end> <end> <end> <end> <end> <end> <end> <end> <end>', 'yes <end> <end> <end> <end> <end> <end> <end> <end> <end> <end> <end> <end> <end> <end> <end>', 'pop <end> <end> <end> <end> <end> <end> <end> <end> <end> <end> <end> <end> <end> <end> <end>', '<end> <end> <end> <end> <end> <end> <end> <end> <end> <end> <end> <end> <end> <end> <end> <end>', 'captain <end> <end> <end> <end> <end> <end> <end> <end> <end> <end> <end> <end> <end> <end> <end>', '<end> <end> <end> <end> <end> <end> <end> <end> <end> <end> <end> <end> <end> <end> <end> <end>', 'yes. <end> <end> <end> <end> <end> <end> <end> <end> <end> <end> <end> <end> <end> <end> <end>', '<end> <end> <end> <end> <end> <end> <end> <end> <end> <end> <end> <end> <end> <end> <end> <end>', 'captain <end> <end> <end> <end> <end> <end> <end> <end> <end> <end> <end> <end> <end> <end> <end>', '<end> <end> <end> <end> <end> <end> <end> <end> <end> <end> <end> <end> <end> <end> <end> <end>', 'tom <end> <end> <end> <end> <end> <end> <end> <end> <end> <end> <end> <end> <end> <end> <end>', 'you you you you you you you you you you you you you you you you', '<end> <end> <end> <end> <end> <end> <end> <end> <end> <end> <end> <end> <end> <end> <end> <end>']\n",
            "Loss - 0.0063503216952085495\n",
            "Translated - ['tunisia <end> <end> <end> <end> <end> <end> <end> <end> <end> <end> <end> <end> <end> <end> <end>', 'chosen representatives <end> <end> <end> <end> <end> <end> <end> <end> <end> <end> <end> <end> <end> <end>', 'sunday <end> <end> <end> <end> <end> <end> <end> <end> <end> <end> <end> <end> <end> <end> <end>', '1956 <end> <end> <end> <end> <end> <end> <end> <end> <end> <end> <end> <end> <end> <end> <end>', 'country <end> <end> <end> <end> <end> <end> <end> <end> <end> <end> <end> <end> <end> <end> <end>', 'menzah <end> <end> <end> <end> <end> <end> <end> <end> <end> <end> <end> <end> <end> <end> <end>', 'schools <end> <end> <end> <end> <end> <end> <end> <end> <end> <end> <end> <end> <end> <end> <end>', 'yes <end> <end> <end> <end> <end> <end> <end> <end> <end> <end> <end> <end> <end> <end> <end>', 'yes <end> <end> <end> <end> <end> <end> <end> <end> <end> <end> <end> <end> <end> <end> <end>', 'yes <end> <end> <end> <end> <end> <end> <end> <end> <end> <end> <end> <end> <end> <end> <end>', 'george <end> <end> <end> <end> <end> <end> <end> <end> <end> <end> <end> <end> <end> <end> <end>', 'no <end> <end> <end> <end> <end> <end> <end> <end> <end> <end> <end> <end> <end> <end> <end>', 'yes <end> <end> <end> <end> <end> <end> <end> <end> <end> <end> <end> <end> <end> <end> <end>', 'clarence <end> <end> <end> <end> <end> <end> <end> <end> <end> <end> <end> <end> <end> <end> <end>', 'no <end> <end> <end> <end> <end> <end> <end> <end> <end> <end> <end> <end> <end> <end> <end>', 'yes <end> <end> <end> <end> <end> <end> <end> <end> <end> <end> <end> <end> <end> <end> <end>', 'no <end> <end> <end> <end> <end> <end> <end> <end> <end> <end> <end> <end> <end> <end> <end>', 'no <end> <end> <end> <end> <end> <end> <end> <end> <end> <end> <end> <end> <end> <end> <end>', 'he for for for for for for for for for for for for for for for', 'yes <end> <end> <end> <end> <end> <end> <end> <end> <end> <end> <end> <end> <end> <end> <end>', 'financial <end> <end> <end> <end> <end> <end> <end> <end> <end> <end> <end> <end> <end> <end> <end>', 'yes <end> <end> <end> <end> <end> <end> <end> <end> <end> <end> <end> <end> <end> <end> <end>', 'pop <end> <end> <end> <end> <end> <end> <end> <end> <end> <end> <end> <end> <end> <end> <end>', '<end> <end> <end> <end> <end> <end> <end> <end> <end> <end> <end> <end> <end> <end> <end> <end>', 'captain <end> <end> <end> <end> <end> <end> <end> <end> <end> <end> <end> <end> <end> <end> <end>', 'run <end> <end> <end> <end> <end> <end> <end> <end> <end> <end> <end> <end> <end> <end> <end>', 'yes. <end> <end> <end> <end> <end> <end> <end> <end> <end> <end> <end> <end> <end> <end> <end>', 'no. <end> <end> <end> <end> <end> <end> <end> <end> <end> <end> <end> <end> <end> <end> <end>', 'captain <end> <end> <end> <end> <end> <end> <end> <end> <end> <end> <end> <end> <end> <end> <end>', \"father's <end> <end> <end> <end> <end> <end> <end> <end> <end> <end> <end> <end> <end> <end> <end>\", 'tom sam. <end> <end> <end> <end> <end> <end> <end> <end> <end> <end> <end> <end> <end> <end>', 'you you you you you you you you you you you you you you you you', '<end> <end> <end> <end> <end> <end> <end> <end> <end> <end> <end> <end> <end> <end> <end> <end>']\n",
            "Loss - 0.016836393624544144\n"
          ]
        },
        {
          "output_type": "stream",
          "name": "stderr",
          "text": [
            "\r 25%|██▌       | 25/100 [01:34<04:28,  3.58s/it]"
          ]
        },
        {
          "output_type": "stream",
          "name": "stdout",
          "text": [
            "Translated - ['tunisia tunisia tunisia <end> <end> <end> <end> <end> <end> <end> <end> tunisia <end> <end> <end> <end>', 'chosen representatives <end> <end> <end> <end> <end> <end> <end> <end> <end> <end> <end> <end> <end> <end>', 'sunday <end> <end> <end> <end> <end> <end> <end> <end> <end> <end> <end> <end> <end> <end> <end>', '1956 1956 <end> <end> <end> <end> <end> <end> <end> <end> <end> <end> <end> <end> <end> <end>', 'country <end> <end> <end> <end> <end> <end> <end> <end> <end> <end> <end> <end> <end> <end> <end>', 'neighborhood <end> <end> <end> <end> <end> <end> <end> <end> <end> <end> <end> <end> <end> <end> <end>', 'schools schools <end> <end> <end> <end> <end> <end> <end> <end> <end> <end> <end> <end> <end> <end>', 'yes <end> <end> <end> <end> <end> <end> <end> <end> <end> <end> <end> <end> <end> <end> <end>', 'cnn <end> <end> <end> <end> <end> <end> <end> <end> <end> <end> <end> <end> <end> <end> <end>', 'yes <end> <end> <end> <end> <end> <end> <end> <end> <end> <end> <end> <end> <end> <end> <end>', 'george <end> <end> <end> <end> <end> <end> <end> <end> <end> <end> <end> <end> <end> <end> <end>', 'no <end> <end> <end> <end> <end> <end> <end> <end> <end> <end> <end> <end> <end> <end> <end>', 'yes <end> <end> <end> <end> <end> <end> <end> <end> <end> <end> <end> <end> <end> <end> <end>', 'clarence <end> <end> <end> <end> <end> <end> <end> <end> <end> <end> <end> <end> <end> <end> <end>', 'no <end> <end> <end> <end> <end> <end> <end> <end> <end> <end> <end> <end> <end> <end> <end>', 'yes <end> <end> <end> <end> <end> <end> <end> <end> <end> <end> <end> <end> <end> <end> <end>', 'no <end> <end> <end> <end> <end> <end> <end> <end> <end> <end> <end> <end> <end> <end> <end>', 'no <end> <end> <end> <end> <end> <end> <end> <end> <end> <end> <end> <end> <end> <end> <end>', 'he for for for for for for for for for for for for for for for', 'yes <end> <end> <end> <end> <end> <end> <end> <end> <end> <end> <end> <end> <end> <end> <end>', 'financial <end> <end> <end> <end> <end> <end> <end> <end> <end> <end> <end> <end> <end> <end> <end>', 'yes <end> <end> <end> <end> <end> <end> <end> <end> <end> <end> <end> <end> <end> <end> <end>', 'pop <end> <end> <end> <end> <end> <end> <end> <end> <end> <end> <end> <end> <end> <end> <end>', '<end> <end> <end> <end> <end> <end> <end> <end> <end> <end> <end> <end> <end> <end> <end> <end>', 'captain <end> <end> <end> <end> <end> <end> <end> <end> <end> <end> <end> <end> <end> <end> <end>', 'run <end> <end> <end> <end> <end> <end> <end> <end> <end> <end> <end> <end> <end> <end> <end>', 'yes. <end> <end> <end> <end> <end> <end> <end> <end> <end> <end> <end> <end> <end> <end> <end>', 'no. <end> <end> <end> <end> <end> <end> <end> <end> <end> <end> <end> <end> <end> <end> <end>', 'captain <end> <end> <end> <end> <end> <end> <end> <end> <end> <end> <end> <end> <end> <end> <end>', '<end> <end> <end> <end> <end> <end> <end> <end> <end> <end> <end> <end> <end> <end> <end> <end>', 'tom sam. <end> <end> <end> <end> <end> <end> <end> <end> <end> <end> <end> <end> <end> <end>', 'you you you you you you you you you you you you you you you you', '<end> <end> <end> <end> <end> <end> <end> <end> <end> <end> <end> <end> <end> <end> <end> <end>']\n",
            "Loss - 0.006013450212776661\n",
            "Translated - ['tunisia <end> <end> <end> <end> <end> <end> <end> <end> <end> <end> <end> <end> <end> <end> <end>', 'chosen <end> <end> <end> <end> <end> <end> <end> <end> <end> <end> <end> <end> <end> <end> <end>', 'sunday <end> <end> <end> <end> <end> <end> <end> <end> <end> <end> <end> <end> <end> <end> <end>', '1956 <end> <end> <end> <end> <end> <end> <end> <end> <end> <end> <end> <end> <end> <end> <end>', 'country <end> <end> <end> <end> <end> <end> <end> <end> <end> <end> <end> <end> <end> <end> <end>', 'menzah <end> <end> <end> <end> <end> <end> <end> <end> <end> <end> <end> <end> <end> <end> <end>', 'schools <end> <end> <end> <end> <end> <end> <end> <end> <end> <end> <end> <end> <end> <end> <end>', 'yes <end> <end> <end> <end> <end> <end> <end> <end> <end> <end> <end> <end> <end> <end> <end>', 'yes <end> <end> <end> <end> <end> <end> <end> <end> <end> <end> <end> <end> <end> <end> <end>', 'yes <end> <end> <end> <end> <end> <end> <end> <end> <end> <end> <end> <end> <end> <end> <end>', 'george <end> <end> <end> <end> <end> <end> <end> <end> <end> <end> <end> <end> <end> <end> <end>', 'no <end> <end> <end> <end> <end> <end> <end> <end> <end> <end> <end> <end> <end> <end> <end>', 'yes <end> <end> <end> <end> <end> <end> <end> <end> <end> <end> <end> <end> <end> <end> <end>', 'clarence <end> <end> <end> <end> <end> <end> <end> <end> <end> <end> <end> <end> <end> <end> <end>', 'no <end> <end> <end> <end> <end> <end> <end> <end> <end> <end> <end> <end> <end> <end> <end>', 'yes <end> <end> <end> <end> <end> <end> <end> <end> <end> <end> <end> <end> <end> <end> <end>', 'no <end> <end> <end> <end> <end> <end> <end> <end> <end> <end> <end> <end> <end> <end> <end>', 'no <end> <end> <end> <end> <end> <end> <end> <end> <end> <end> <end> <end> <end> <end> <end>', 'he for <end> <end> <end> <end> <end> <end> <end> <end> <end> <end> <end> <end> <end> <end>', 'yes <end> <end> <end> <end> <end> <end> <end> <end> <end> <end> <end> <end> <end> <end> <end>', 'financial <end> <end> <end> <end> <end> <end> <end> <end> <end> <end> <end> <end> <end> <end> <end>', 'yes <end> <end> <end> <end> <end> <end> <end> <end> <end> <end> <end> <end> <end> <end> <end>', 'pop <end> <end> <end> <end> <end> <end> <end> <end> <end> <end> <end> <end> <end> <end> <end>', '<end> <end> <end> <end> <end> <end> <end> <end> <end> <end> <end> <end> <end> <end> <end> <end>', 'captain <end> <end> <end> <end> <end> <end> <end> <end> <end> <end> <end> <end> <end> <end> <end>', '<end> <end> <end> <end> <end> <end> <end> <end> <end> <end> <end> <end> <end> <end> <end> <end>', '<end> <end> <end> <end> <end> <end> <end> <end> <end> <end> <end> <end> <end> <end> <end> <end>', 'no. <end> <end> <end> <end> <end> <end> <end> <end> <end> <end> <end> <end> <end> <end> <end>', 'captain <end> <end> <end> <end> <end> <end> <end> <end> <end> <end> <end> <end> <end> <end> <end>', '<end> <end> <end> <end> <end> <end> <end> <end> <end> <end> <end> <end> <end> <end> <end> <end>', 'tom <end> <end> <end> <end> <end> <end> <end> <end> <end> <end> <end> <end> <end> <end> <end>', 'you you you you you you you you you you you you you you you you', '<end> <end> <end> <end> <end> <end> <end> <end> <end> <end> <end> <end> <end> <end> <end> <end>']\n",
            "Loss - 0.016464708372950554\n"
          ]
        },
        {
          "output_type": "stream",
          "name": "stderr",
          "text": [
            "\r 26%|██▌       | 26/100 [01:37<04:23,  3.56s/it]"
          ]
        },
        {
          "output_type": "stream",
          "name": "stdout",
          "text": [
            "Translated - ['tunisia <end> <end> <end> <end> <end> <end> <end> <end> <end> <end> <end> <end> <end> <end> <end>', 'chosen <end> <end> <end> <end> <end> <end> <end> <end> <end> <end> <end> <end> <end> <end> <end>', 'sunday <end> <end> <end> <end> <end> <end> <end> <end> <end> <end> <end> <end> <end> <end> <end>', '1956 <end> <end> <end> <end> <end> <end> <end> <end> <end> <end> <end> <end> <end> <end> <end>', 'country <end> <end> <end> <end> <end> <end> <end> <end> <end> <end> <end> <end> <end> <end> <end>', 'menzah <end> <end> <end> <end> <end> <end> <end> <end> <end> <end> <end> <end> <end> <end> <end>', '<end> <end> <end> <end> <end> <end> <end> <end> <end> <end> <end> <end> <end> <end> <end> <end>', 'yes <end> <end> <end> <end> <end> <end> <end> <end> <end> <end> <end> <end> <end> <end> <end>', 'yes <end> <end> <end> <end> <end> <end> <end> <end> <end> <end> <end> <end> <end> <end> <end>', 'yes <end> <end> <end> <end> <end> <end> <end> <end> <end> <end> <end> <end> <end> <end> <end>', 'george <end> <end> <end> <end> <end> <end> <end> <end> <end> <end> <end> <end> <end> <end> <end>', 'no <end> <end> <end> <end> <end> <end> <end> <end> <end> <end> <end> <end> <end> <end> <end>', 'yes <end> <end> <end> <end> <end> <end> <end> <end> <end> <end> <end> <end> <end> <end> <end>', 'clarence <end> <end> <end> <end> <end> <end> <end> <end> <end> <end> <end> <end> <end> <end> <end>', 'no <end> <end> <end> <end> <end> <end> <end> <end> <end> <end> <end> <end> <end> <end> <end>', 'yes <end> <end> <end> <end> <end> <end> <end> <end> <end> <end> <end> <end> <end> <end> <end>', 'no <end> <end> <end> <end> <end> <end> <end> <end> <end> <end> <end> <end> <end> <end> <end>', 'no <end> <end> <end> <end> <end> <end> <end> <end> <end> <end> <end> <end> <end> <end> <end>', 'he for <end> <end> <end> <end> <end> for for for for for for <end> <end> <end>', 'yes <end> <end> <end> <end> <end> <end> <end> <end> <end> <end> <end> <end> <end> <end> <end>', 'financial <end> <end> <end> <end> <end> <end> <end> <end> <end> <end> <end> <end> <end> <end> <end>', 'yes <end> <end> <end> <end> <end> <end> <end> <end> <end> <end> <end> <end> <end> <end> <end>', 'alexander <end> <end> <end> <end> <end> <end> <end> <end> <end> <end> <end> <end> <end> <end> <end>', '<end> <end> <end> <end> <end> <end> <end> <end> <end> <end> <end> <end> <end> <end> <end> <end>', 'captain <end> <end> <end> <end> <end> <end> <end> <end> <end> <end> <end> <end> <end> <end> <end>', 'run <end> <end> <end> <end> <end> <end> <end> <end> <end> <end> <end> <end> <end> <end> <end>', 'yes. <end> <end> <end> <end> <end> <end> <end> <end> <end> <end> <end> <end> <end> <end> <end>', 'no. <end> <end> <end> <end> <end> <end> <end> <end> <end> <end> <end> <end> <end> <end> <end>', 'captain <end> <end> <end> <end> <end> <end> <end> <end> <end> <end> <end> <end> <end> <end> <end>', '<end> <end> <end> <end> <end> <end> <end> <end> <end> <end> <end> <end> <end> <end> <end> <end>', 'sam. sam. <end> <end> <end> <end> <end> <end> <end> <end> <end> <end> <end> <end> <end> <end>', 'you you you you you you you you you you you you you you you you', '<end> <end> <end> <end> <end> <end> <end> <end> <end> <end> <end> <end> <end> <end> <end> <end>']\n",
            "Loss - 0.005622031167149544\n",
            "Translated - ['tunisia <end> <end> <end> <end> <end> <end> <end> <end> <end> <end> <end> <end> <end> <end> <end>', 'chosen <end> <end> <end> <end> <end> <end> <end> <end> <end> <end> <end> <end> <end> <end> <end>', 'sunday <end> <end> <end> <end> <end> <end> <end> <end> <end> <end> <end> <end> <end> <end> <end>', '1956 <end> <end> <end> <end> <end> <end> <end> <end> <end> <end> <end> <end> <end> <end> <end>', 'country pop <end> <end> <end> <end> <end> <end> <end> <end> <end> <end> <end> <end> <end> <end>', 'menzah <end> <end> <end> <end> <end> <end> <end> <end> <end> <end> <end> <end> <end> <end> <end>', 'schools <end> <end> <end> <end> <end> <end> <end> <end> <end> <end> <end> <end> <end> <end> <end>', 'yes <end> <end> <end> <end> <end> <end> <end> <end> <end> <end> <end> <end> <end> <end> <end>', 'cnn <end> <end> <end> <end> <end> <end> <end> <end> <end> <end> <end> <end> <end> <end> <end>', 'yes <end> <end> <end> <end> <end> <end> <end> <end> <end> <end> <end> <end> <end> <end> <end>', 'george <end> <end> <end> <end> <end> <end> <end> <end> <end> <end> <end> <end> <end> <end> <end>', 'no <end> <end> <end> <end> <end> <end> <end> <end> <end> <end> <end> <end> <end> <end> <end>', 'yes <end> <end> <end> <end> <end> <end> <end> <end> <end> <end> <end> <end> <end> <end> <end>', 'clarence <end> <end> <end> <end> <end> <end> <end> <end> <end> <end> <end> <end> <end> <end> <end>', 'no <end> <end> <end> <end> <end> <end> <end> <end> <end> <end> <end> <end> <end> <end> <end>', 'yes <end> <end> <end> <end> <end> <end> <end> <end> <end> <end> <end> <end> <end> <end> <end>', 'no <end> <end> <end> <end> <end> <end> <end> <end> <end> <end> <end> <end> <end> <end> <end>', 'no <end> <end> <end> <end> <end> <end> <end> <end> <end> <end> <end> <end> <end> <end> <end>', 'he he he for for for for for for for for for for for for for', 'yes <end> <end> <end> <end> <end> <end> <end> <end> <end> <end> <end> <end> <end> <end> <end>', 'financial <end> <end> <end> <end> <end> <end> <end> <end> <end> <end> <end> <end> <end> <end> <end>', 'yes <end> <end> <end> <end> <end> <end> <end> <end> <end> <end> <end> <end> <end> <end> <end>', 'alexander <end> <end> <end> <end> <end> <end> <end> <end> <end> <end> <end> <end> <end> <end> <end>', 'tuesday <end> <end> <end> <end> <end> <end> <end> <end> <end> <end> <end> <end> <end> <end> <end>', 'captain <end> <end> <end> <end> <end> <end> <end> <end> <end> <end> <end> <end> <end> <end> <end>', 'run <end> <end> <end> <end> <end> <end> <end> <end> <end> <end> <end> <end> <end> <end> <end>', 'yes. <end> <end> <end> <end> <end> <end> <end> <end> <end> <end> <end> <end> <end> <end> <end>', 'no. <end> <end> <end> <end> <end> <end> <end> <end> <end> <end> <end> <end> <end> <end> <end>', 'captain putnam <end> <end> <end> <end> <end> <end> <end> <end> <end> <end> <end> <end> <end> <end>', \"father's <end> <end> <end> <end> <end> <end> <end> <end> <end> <end> <end> <end> <end> <end> <end>\", 'sam. sam. sam. <end> <end> <end> <end> <end> <end> <end> <end> <end> <end> <end> <end> <end>', 'you you you you you you you you you you you you you you you you', '<end> <end> <end> <end> <end> <end> <end> <end> <end> <end> <end> <end> <end> <end> <end> <end>']\n",
            "Loss - 0.0160342026501894\n"
          ]
        },
        {
          "output_type": "stream",
          "name": "stderr",
          "text": [
            "\r 27%|██▋       | 27/100 [01:41<04:18,  3.55s/it]"
          ]
        },
        {
          "output_type": "stream",
          "name": "stdout",
          "text": [
            "Translated - ['tunisia <end> <end> <end> <end> <end> <end> <end> <end> <end> <end> <end> <end> <end> <end> <end>', 'chosen <end> <end> <end> <end> <end> <end> <end> <end> <end> <end> <end> <end> <end> <end> <end>', 'sunday <end> <end> <end> <end> <end> <end> <end> <end> <end> <end> <end> <end> <end> <end> <end>', '1956 <end> <end> <end> <end> <end> <end> <end> <end> <end> <end> <end> <end> <end> <end> <end>', 'country pop <end> <end> <end> <end> <end> <end> <end> <end> <end> <end> <end> <end> <end> <end>', 'menzah <end> <end> <end> <end> <end> <end> <end> <end> <end> <end> <end> <end> <end> <end> <end>', 'schools <end> <end> <end> <end> <end> <end> <end> <end> <end> <end> <end> <end> <end> <end> <end>', 'yes <end> <end> <end> <end> <end> <end> <end> <end> <end> <end> <end> <end> <end> <end> <end>', 'cnn <end> <end> <end> <end> <end> <end> <end> <end> <end> <end> <end> <end> <end> <end> <end>', 'yes <end> <end> <end> <end> <end> <end> <end> <end> <end> <end> <end> <end> <end> <end> <end>', 'george <end> <end> <end> <end> <end> <end> <end> <end> <end> <end> <end> <end> <end> <end> <end>', 'no <end> <end> <end> <end> <end> <end> <end> <end> <end> <end> <end> <end> <end> <end> <end>', 'yes <end> <end> <end> <end> <end> <end> <end> <end> <end> <end> <end> <end> <end> <end> <end>', 'clarence <end> <end> <end> <end> <end> <end> <end> <end> <end> <end> <end> <end> <end> <end> <end>', 'no <end> <end> <end> <end> <end> <end> <end> <end> <end> <end> <end> <end> <end> <end> <end>', 'yes <end> <end> <end> <end> <end> <end> <end> <end> <end> <end> <end> <end> <end> <end> <end>', 'no <end> <end> <end> <end> <end> <end> <end> <end> <end> <end> <end> <end> <end> <end> <end>', 'no <end> <end> <end> <end> <end> <end> <end> <end> <end> <end> <end> <end> <end> <end> <end>', 'he he he for for for for for for for for for for for for for', 'yes <end> <end> <end> <end> <end> <end> <end> <end> <end> <end> <end> <end> <end> <end> <end>', 'financial <end> <end> <end> <end> <end> <end> <end> <end> <end> <end> <end> <end> <end> <end> <end>', 'yes <end> <end> <end> <end> <end> <end> <end> <end> <end> <end> <end> <end> <end> <end> <end>', 'alexander <end> <end> <end> <end> <end> <end> <end> <end> <end> <end> <end> <end> <end> <end> <end>', '<end> <end> <end> <end> <end> <end> <end> <end> <end> <end> <end> <end> <end> <end> <end> <end>', 'captain <end> <end> <end> <end> <end> <end> <end> <end> <end> <end> <end> <end> <end> <end> <end>', 'run <end> <end> <end> <end> <end> <end> <end> <end> <end> <end> <end> <end> <end> <end> <end>', 'yes. <end> <end> <end> <end> <end> <end> <end> <end> <end> <end> <end> <end> <end> <end> <end>', 'no. <end> <end> <end> <end> <end> <end> <end> <end> <end> <end> <end> <end> <end> <end> <end>', 'captain <end> <end> <end> <end> <end> <end> <end> <end> <end> <end> <end> <end> <end> <end> <end>', 'his <end> <end> <end> <end> <end> <end> <end> <end> <end> <end> <end> <end> <end> <end> <end>', 'tom sam. <end> <end> <end> <end> <end> <end> <end> <end> <end> <end> <end> <end> <end> <end>', 'you you you you you you you you you you you you you you you you', '<end> <end> <end> <end> <end> <end> <end> <end> <end> <end> <end> <end> <end> <end> <end> <end>']\n",
            "Loss - 0.0052896286360919476\n",
            "Translated - ['tunisia <end> <end> <end> <end> <end> <end> <end> <end> <end> <end> <end> <end> <end> <end> <end>', 'chosen <end> <end> <end> <end> <end> <end> <end> <end> <end> <end> <end> <end> <end> <end> <end>', 'sunday <end> <end> <end> <end> <end> <end> <end> <end> <end> <end> <end> <end> <end> <end> <end>', '1956 <end> <end> <end> <end> <end> <end> <end> <end> <end> <end> <end> <end> <end> <end> <end>', 'country <end> <end> <end> <end> <end> <end> <end> <end> <end> <end> <end> <end> <end> <end> <end>', 'menzah <end> <end> <end> <end> <end> <end> <end> <end> <end> <end> <end> <end> <end> <end> <end>', 'schools <end> <end> <end> <end> <end> <end> <end> <end> <end> <end> <end> <end> <end> <end> <end>', 'yes <end> <end> <end> <end> <end> <end> <end> <end> <end> <end> <end> <end> <end> <end> <end>', 'yes <end> <end> <end> <end> <end> <end> <end> <end> <end> <end> <end> <end> <end> <end> <end>', 'yes <end> <end> <end> <end> <end> <end> <end> <end> <end> <end> <end> <end> <end> <end> <end>', 'george <end> <end> <end> <end> <end> <end> <end> <end> <end> <end> <end> <end> <end> <end> <end>', 'no <end> <end> <end> <end> <end> <end> <end> <end> <end> <end> <end> <end> <end> <end> <end>', 'yes <end> <end> <end> <end> <end> <end> <end> <end> <end> <end> <end> <end> <end> <end> <end>', 'clarence <end> <end> <end> <end> <end> <end> <end> <end> <end> <end> <end> <end> <end> <end> <end>', 'no <end> <end> <end> <end> <end> <end> <end> <end> <end> <end> <end> <end> <end> <end> <end>', 'yes <end> <end> <end> <end> <end> <end> <end> <end> <end> <end> <end> <end> <end> <end> <end>', 'no <end> <end> <end> <end> <end> <end> <end> <end> <end> <end> <end> <end> <end> <end> <end>', 'no <end> <end> <end> <end> <end> <end> <end> <end> <end> <end> <end> <end> <end> <end> <end>', 'he he for for for for for for for for for for for for for for', 'yes <end> <end> <end> <end> <end> <end> <end> <end> <end> <end> <end> <end> <end> <end> <end>', 'financial <end> <end> <end> <end> <end> <end> <end> <end> <end> <end> <end> <end> <end> <end> <end>', 'yes <end> <end> <end> <end> <end> <end> <end> <end> <end> <end> <end> <end> <end> <end> <end>', 'alexander <end> <end> <end> <end> <end> <end> <end> <end> <end> <end> <end> <end> <end> <end> <end>', '<end> <end> <end> <end> <end> <end> <end> <end> <end> <end> <end> <end> <end> <end> <end> <end>', 'captain <end> <end> <end> <end> <end> <end> <end> <end> <end> <end> <end> <end> <end> <end> <end>', '<end> <end> <end> <end> <end> <end> <end> <end> <end> <end> <end> <end> <end> <end> <end> <end>', 'yes. <end> <end> <end> <end> <end> <end> <end> <end> <end> <end> <end> <end> <end> <end> <end>', 'no. <end> <end> <end> <end> <end> <end> <end> <end> <end> <end> <end> <end> <end> <end> <end>', 'captain <end> <end> <end> <end> <end> <end> <end> <end> <end> <end> <end> <end> <end> <end> <end>', '<end> <end> <end> <end> <end> <end> <end> <end> <end> <end> <end> <end> <end> <end> <end> <end>', 'tom <end> <end> <end> <end> <end> <end> <end> <end> <end> <end> <end> <end> <end> <end> <end>', 'you you you you you you you you you you you you you you you you', '<end> <end> <end> <end> <end> <end> <end> <end> <end> <end> <end> <end> <end> <end> <end> <end>']\n",
            "Loss - 0.015515586361289024\n"
          ]
        },
        {
          "output_type": "stream",
          "name": "stderr",
          "text": [
            "\r 28%|██▊       | 28/100 [01:44<04:13,  3.52s/it]"
          ]
        },
        {
          "output_type": "stream",
          "name": "stdout",
          "text": [
            "Translated - ['tunisia <end> <end> <end> <end> <end> <end> <end> <end> <end> <end> <end> <end> <end> <end> <end>', 'chosen <end> <end> <end> <end> <end> <end> <end> <end> <end> <end> <end> <end> <end> <end> <end>', 'sunday <end> <end> <end> <end> <end> <end> <end> <end> <end> <end> <end> <end> <end> <end> <end>', '1956 <end> <end> <end> <end> <end> <end> <end> <end> <end> <end> <end> <end> <end> <end> <end>', 'country <end> <end> <end> <end> <end> <end> <end> <end> <end> <end> <end> <end> <end> <end> <end>', 'menzah <end> <end> <end> <end> <end> <end> <end> <end> <end> <end> <end> <end> <end> <end> <end>', 'schools <end> <end> <end> <end> <end> <end> <end> <end> <end> <end> <end> <end> <end> <end> <end>', 'yes <end> <end> <end> <end> <end> <end> <end> <end> <end> <end> <end> <end> <end> <end> <end>', '<end> <end> <end> <end> <end> <end> <end> <end> <end> <end> <end> <end> <end> <end> <end> <end>', 'yes <end> <end> <end> <end> <end> <end> <end> <end> <end> <end> <end> <end> <end> <end> <end>', 'george <end> <end> <end> <end> <end> <end> <end> <end> <end> <end> <end> <end> <end> <end> <end>', 'no <end> <end> <end> <end> <end> <end> <end> <end> <end> <end> <end> <end> <end> <end> <end>', 'yes <end> <end> <end> <end> <end> <end> <end> <end> <end> <end> <end> <end> <end> <end> <end>', 'clarence <end> <end> <end> <end> <end> <end> <end> <end> <end> <end> <end> <end> <end> <end> <end>', 'no <end> <end> <end> <end> <end> <end> <end> <end> <end> <end> <end> <end> <end> <end> <end>', 'yes <end> <end> <end> <end> <end> <end> <end> <end> <end> <end> <end> <end> <end> <end> <end>', 'no <end> <end> <end> <end> <end> <end> <end> <end> <end> <end> <end> <end> <end> <end> <end>', 'no <end> <end> <end> <end> <end> <end> <end> <end> <end> <end> <end> <end> <end> <end> <end>', 'he for for for for for for for for for for for for for for for', 'yes <end> <end> <end> <end> <end> <end> <end> <end> <end> <end> <end> <end> <end> <end> <end>', 'financial <end> <end> <end> <end> <end> <end> <end> <end> <end> <end> <end> <end> <end> <end> <end>', 'yes <end> <end> <end> <end> <end> <end> <end> <end> <end> <end> <end> <end> <end> <end> <end>', 'alexander <end> <end> <end> <end> <end> <end> <end> <end> <end> <end> <end> <end> <end> <end> <end>', '<end> <end> <end> <end> <end> <end> <end> <end> <end> <end> <end> <end> <end> <end> <end> <end>', 'captain <end> <end> <end> <end> <end> <end> <end> <end> <end> <end> <end> <end> <end> <end> <end>', 'run <end> <end> <end> <end> <end> <end> <end> <end> <end> <end> <end> <end> <end> <end> <end>', 'yes. <end> <end> <end> <end> <end> <end> <end> <end> <end> <end> <end> <end> <end> <end> <end>', 'no. <end> <end> <end> <end> <end> <end> <end> <end> <end> <end> <end> <end> <end> <end> <end>', 'captain <end> <end> <end> <end> <end> <end> <end> <end> <end> <end> <end> <end> <end> <end> <end>', 'his <end> <end> <end> <end> <end> <end> <end> <end> <end> <end> <end> <end> <end> <end> <end>', 'tom <end> <end> <end> <end> <end> <end> <end> <end> <end> <end> <end> <end> <end> <end> <end>', 'you you you you you you you you you you you you you you you you', '<end> <end> <end> <end> <end> <end> <end> <end> <end> <end> <end> <end> <end> <end> <end> <end>']\n",
            "Loss - 0.0050486293621361256\n",
            "Translated - ['tunisia <end> <end> <end> <end> <end> <end> <end> <end> <end> <end> <end> <end> <end> <end> <end>', 'chosen are <end> <end> <end> <end> <end> <end> <end> <end> <end> <end> <end> <end> <end> <end>', 'sunday <end> <end> <end> <end> <end> <end> <end> <end> <end> <end> <end> <end> <end> <end> <end>', '1956 <end> <end> <end> <end> <end> <end> <end> <end> <end> <end> <end> <end> <end> <end> <end>', 'country country country <end> <end> country country country country country country country country country country country', 'menzah neighborhood <end> <end> <end> <end> <end> <end> <end> <end> <end> <end> <end> <end> <end> <end>', 'schools <end> <end> <end> <end> <end> <end> <end> <end> <end> <end> <end> <end> <end> <end> <end>', 'yes <end> <end> <end> <end> <end> <end> <end> <end> <end> <end> <end> <end> <end> <end> <end>', 'cnn <end> <end> <end> <end> <end> <end> <end> <end> <end> <end> <end> <end> <end> <end> <end>', 'yes <end> <end> <end> <end> <end> <end> <end> <end> <end> <end> <end> <end> <end> <end> <end>', 'george <end> <end> <end> <end> <end> <end> <end> <end> <end> <end> <end> <end> <end> <end> <end>', 'no <end> <end> <end> <end> <end> <end> <end> <end> <end> <end> <end> <end> <end> <end> <end>', 'yes <end> <end> <end> <end> <end> <end> <end> <end> <end> <end> <end> <end> <end> <end> <end>', 'clarence <end> <end> <end> <end> <end> <end> <end> <end> <end> <end> <end> <end> <end> <end> <end>', 'no <end> <end> <end> <end> <end> <end> <end> <end> <end> <end> <end> <end> <end> <end> <end>', 'yes <end> <end> <end> <end> <end> <end> <end> <end> <end> <end> <end> <end> <end> <end> <end>', 'no <end> <end> <end> <end> <end> <end> <end> <end> <end> <end> <end> <end> <end> <end> <end>', 'no <end> <end> <end> <end> <end> <end> <end> <end> <end> <end> <end> <end> <end> <end> <end>', 'he lover for for for for for for for for for for for for for for', 'yes <end> <end> <end> <end> <end> <end> <end> <end> <end> <end> <end> <end> <end> <end> <end>', 'financial <end> <end> <end> <end> <end> <end> <end> <end> <end> <end> <end> <end> <end> <end> <end>', 'yes <end> <end> <end> <end> <end> <end> <end> <end> <end> <end> <end> <end> <end> <end> <end>', 'alexander <end> <end> <end> <end> <end> <end> <end> <end> <end> <end> <end> <end> <end> <end> <end>', 'tuesday <end> <end> <end> <end> <end> <end> <end> <end> <end> <end> <end> <end> <end> <end> <end>', 'captain <end> <end> <end> <end> <end> <end> <end> <end> <end> <end> <end> <end> <end> <end> <end>', 'run <end> <end> <end> <end> <end> <end> <end> <end> <end> <end> <end> <end> <end> <end> <end>', 'yes. <end> <end> <end> <end> <end> <end> <end> <end> <end> <end> <end> <end> <end> <end> <end>', 'no. <end> <end> <end> <end> <end> <end> <end> <end> <end> <end> <end> <end> <end> <end> <end>', 'captain putnam <end> <end> <end> <end> <end> <end> <end> <end> <end> <end> <end> <end> <end> <end>', \"father's father's <end> <end> <end> <end> <end> <end> <end> <end> <end> <end> <end> <end> <end> <end>\", 'tom sam. <end> <end> <end> <end> <end> <end> <end> <end> <end> <end> <end> <end> <end> <end>', 'you you you you you you you you you you you you you you you you', '<end> <end> <end> <end> <end> <end> <end> <end> <end> <end> <end> <end> <end> <end> <end> <end>']\n",
            "Loss - 0.015061316080391407\n"
          ]
        },
        {
          "output_type": "stream",
          "name": "stderr",
          "text": [
            "\r 29%|██▉       | 29/100 [01:48<04:08,  3.51s/it]"
          ]
        },
        {
          "output_type": "stream",
          "name": "stdout",
          "text": [
            "Translated - ['tunisia <end> <end> <end> <end> <end> <end> <end> <end> <end> <end> <end> <end> <end> <end> <end>', 'chosen representatives <end> <end> <end> <end> <end> <end> <end> <end> <end> <end> <end> <end> <end> <end>', 'sunday <end> <end> <end> <end> <end> <end> <end> <end> <end> <end> <end> <end> <end> <end> <end>', '1956 <end> <end> <end> <end> <end> <end> <end> <end> <end> <end> <end> <end> <end> <end> <end>', 'country country country country country country country country country country country country country country country country', 'neighborhood neighborhood neighborhood <end> <end> <end> <end> <end> <end> <end> <end> <end> <end> <end> neighborhood neighborhood', 'schools <end> <end> <end> <end> <end> <end> <end> <end> <end> <end> <end> <end> <end> <end> <end>', 'yes <end> <end> <end> <end> <end> <end> <end> <end> <end> <end> <end> <end> <end> <end> <end>', 'cnn <end> <end> <end> <end> <end> <end> <end> <end> <end> <end> <end> <end> <end> <end> <end>', 'yes <end> <end> <end> <end> <end> <end> <end> <end> <end> <end> <end> <end> <end> <end> <end>', 'george <end> <end> <end> <end> <end> <end> <end> <end> <end> <end> <end> <end> <end> <end> <end>', 'no <end> <end> <end> <end> <end> <end> <end> <end> <end> <end> <end> <end> <end> <end> <end>', 'yes <end> <end> <end> <end> <end> <end> <end> <end> <end> <end> <end> <end> <end> <end> <end>', 'clarence <end> <end> <end> <end> <end> <end> <end> <end> <end> <end> <end> <end> <end> <end> <end>', 'no <end> <end> <end> <end> <end> <end> <end> <end> <end> <end> <end> <end> <end> <end> <end>', 'yes <end> <end> <end> <end> <end> <end> <end> <end> <end> <end> <end> <end> <end> <end> <end>', 'no <end> <end> <end> <end> <end> <end> <end> <end> <end> <end> <end> <end> <end> <end> <end>', 'no <end> <end> <end> <end> <end> <end> <end> <end> <end> <end> <end> <end> <end> <end> <end>', 'he he for for for for for for for for for for for for for for', 'yes <end> <end> <end> <end> <end> <end> <end> <end> <end> <end> <end> <end> <end> <end> <end>', 'financial <end> <end> <end> <end> <end> <end> <end> <end> <end> <end> <end> <end> <end> <end> <end>', 'yes <end> <end> <end> <end> <end> <end> <end> <end> <end> <end> <end> <end> <end> <end> <end>', 'alexander <end> <end> <end> <end> <end> <end> <end> <end> <end> <end> <end> <end> <end> <end> <end>', 'tuesday <end> <end> <end> <end> <end> <end> <end> <end> <end> <end> <end> <end> <end> <end> <end>', 'captain <end> <end> <end> <end> <end> <end> <end> <end> <end> <end> <end> <end> <end> <end> <end>', 'run <end> <end> <end> <end> <end> <end> <end> <end> <end> <end> <end> <end> <end> <end> <end>', 'yes. <end> <end> <end> <end> <end> <end> <end> <end> <end> <end> <end> <end> <end> <end> <end>', 'no. <end> <end> <end> <end> <end> <end> <end> <end> <end> <end> <end> <end> <end> <end> <end>', 'captain putnam <end> <end> <end> <end> <end> <end> <end> <end> <end> <end> <end> <end> <end> <end>', \"father's father's <end> <end> <end> <end> <end> <end> <end> <end> <end> <end> <end> <end> <end> <end>\", 'tom sam. sam. <end> <end> <end> <end> <end> <end> <end> <end> <end> <end> <end> <end> <end>', 'you you you you you you you you you you you you you you you you', '<end> <end> <end> <end> <end> <end> <end> <end> <end> <end> <end> <end> <end> <end> <end> <end>']\n",
            "Loss - 0.004892315715551376\n",
            "Translated - ['tunisia <end> <end> <end> <end> <end> <end> <end> <end> <end> <end> <end> <end> <end> <end> <end>', 'chosen <end> <end> <end> <end> <end> <end> <end> <end> <end> <end> <end> <end> <end> <end> <end>', 'sunday <end> <end> <end> <end> <end> <end> <end> <end> <end> <end> <end> <end> <end> <end> <end>', '1956 <end> <end> <end> <end> <end> <end> <end> <end> <end> <end> <end> <end> <end> <end> <end>', 'country country <end> <end> <end> <end> <end> <end> <end> <end> <end> <end> <end> <end> <end> <end>', 'menzah <end> <end> <end> <end> <end> <end> <end> <end> <end> <end> <end> <end> <end> <end> <end>', 'schools <end> <end> <end> <end> <end> <end> <end> <end> <end> <end> <end> <end> <end> <end> <end>', 'yes <end> <end> <end> <end> <end> <end> <end> <end> <end> <end> <end> <end> <end> <end> <end>', 'cnn <end> <end> <end> <end> <end> <end> <end> <end> <end> <end> <end> <end> <end> <end> <end>', 'yes <end> <end> <end> <end> <end> <end> <end> <end> <end> <end> <end> <end> <end> <end> <end>', 'george <end> <end> <end> <end> <end> <end> <end> <end> <end> <end> <end> <end> <end> <end> <end>', 'no <end> <end> <end> <end> <end> <end> <end> <end> <end> <end> <end> <end> <end> <end> <end>', 'yes <end> <end> <end> <end> <end> <end> <end> <end> <end> <end> <end> <end> <end> <end> <end>', 'clarence <end> <end> <end> <end> <end> <end> <end> <end> <end> <end> <end> <end> <end> <end> <end>', 'no <end> <end> <end> <end> <end> <end> <end> <end> <end> <end> <end> <end> <end> <end> <end>', 'yes <end> <end> <end> <end> <end> <end> <end> <end> <end> <end> <end> <end> <end> <end> <end>', 'no <end> <end> <end> <end> <end> <end> <end> <end> <end> <end> <end> <end> <end> <end> <end>', 'no <end> <end> <end> <end> <end> <end> <end> <end> <end> <end> <end> <end> <end> <end> <end>', 'he he <end> <end> <end> <end> <end> <end> <end> <end> <end> <end> <end> <end> <end> <end>', 'yes <end> <end> <end> <end> <end> <end> <end> <end> <end> <end> <end> <end> <end> <end> <end>', 'financial <end> <end> <end> <end> <end> <end> <end> <end> <end> <end> <end> <end> <end> <end> <end>', 'yes <end> <end> <end> <end> <end> <end> <end> <end> <end> <end> <end> <end> <end> <end> <end>', 'alexander <end> <end> <end> <end> <end> <end> <end> <end> <end> <end> <end> <end> <end> <end> <end>', '<end> <end> <end> <end> <end> <end> <end> <end> <end> <end> <end> <end> <end> <end> <end> <end>', 'captain <end> <end> <end> <end> <end> <end> <end> <end> <end> <end> <end> <end> <end> <end> <end>', 'run <end> <end> <end> <end> <end> <end> <end> <end> <end> <end> <end> <end> <end> <end> <end>', 'yes. <end> <end> <end> <end> <end> <end> <end> <end> <end> <end> <end> <end> <end> <end> <end>', 'no. <end> <end> <end> <end> <end> <end> <end> <end> <end> <end> <end> <end> <end> <end> <end>', 'captain <end> <end> <end> <end> <end> <end> <end> <end> <end> <end> <end> <end> <end> <end> <end>', \"father's <end> <end> <end> <end> <end> <end> <end> <end> <end> <end> <end> <end> <end> <end> <end>\", 'tom sam. <end> <end> <end> <end> <end> <end> <end> <end> <end> <end> <end> <end> <end> <end>', 'you you you you you you you you you you you you you you you you', '<end> <end> <end> <end> <end> <end> <end> <end> <end> <end> <end> <end> <end> <end> <end> <end>']\n",
            "Loss - 0.014719882979989052\n"
          ]
        },
        {
          "output_type": "stream",
          "name": "stderr",
          "text": [
            "\r 30%|███       | 30/100 [01:51<04:03,  3.48s/it]"
          ]
        },
        {
          "output_type": "stream",
          "name": "stdout",
          "text": [
            "Translated - ['tunisia <end> <end> <end> <end> <end> <end> <end> <end> <end> <end> <end> <end> <end> <end> <end>', 'chosen <end> <end> <end> <end> <end> <end> <end> <end> <end> <end> <end> <end> <end> <end> <end>', '<end> <end> <end> <end> <end> <end> <end> <end> <end> <end> <end> <end> <end> <end> <end> <end>', '1956 <end> <end> <end> <end> <end> <end> <end> <end> <end> <end> <end> <end> <end> <end> <end>', 'country <end> <end> <end> <end> <end> <end> <end> <end> <end> <end> <end> <end> <end> <end> <end>', 'menzah <end> <end> <end> <end> <end> <end> <end> <end> <end> <end> <end> <end> <end> <end> <end>', 'schools <end> <end> <end> <end> <end> <end> <end> <end> <end> <end> <end> <end> <end> <end> <end>', 'yes <end> <end> <end> <end> <end> <end> <end> <end> <end> <end> <end> <end> <end> <end> <end>', 'cnn <end> <end> <end> <end> <end> <end> <end> <end> <end> <end> <end> <end> <end> <end> <end>', 'yes <end> <end> <end> <end> <end> <end> <end> <end> <end> <end> <end> <end> <end> <end> <end>', 'george <end> <end> <end> <end> <end> <end> <end> <end> <end> <end> <end> <end> <end> <end> <end>', 'no <end> <end> <end> <end> <end> <end> <end> <end> <end> <end> <end> <end> <end> <end> <end>', 'yes <end> <end> <end> <end> <end> <end> <end> <end> <end> <end> <end> <end> <end> <end> <end>', 'clarence <end> <end> <end> <end> <end> <end> <end> <end> <end> <end> <end> <end> <end> <end> <end>', 'no <end> <end> <end> <end> <end> <end> <end> <end> <end> <end> <end> <end> <end> <end> <end>', 'yes <end> <end> <end> <end> <end> <end> <end> <end> <end> <end> <end> <end> <end> <end> <end>', 'no <end> <end> <end> <end> <end> <end> <end> <end> <end> <end> <end> <end> <end> <end> <end>', 'no <end> <end> <end> <end> <end> <end> <end> <end> <end> <end> <end> <end> <end> <end> <end>', 'he he <end> <end> <end> <end> <end> <end> <end> <end> <end> <end> <end> <end> <end> <end>', 'yes <end> <end> <end> <end> <end> <end> <end> <end> <end> <end> <end> <end> <end> <end> <end>', 'financial <end> <end> <end> <end> <end> <end> <end> <end> <end> <end> <end> <end> <end> <end> <end>', 'yes <end> <end> <end> <end> <end> <end> <end> <end> <end> <end> <end> <end> <end> <end> <end>', 'alexander <end> <end> <end> <end> <end> <end> <end> <end> <end> <end> <end> <end> <end> <end> <end>', '<end> <end> <end> <end> <end> <end> <end> <end> <end> <end> <end> <end> <end> <end> <end> <end>', 'captain <end> <end> <end> <end> <end> <end> <end> <end> <end> <end> <end> <end> <end> <end> <end>', 'run <end> <end> <end> <end> <end> <end> <end> <end> <end> <end> <end> <end> <end> <end> <end>', 'yes. <end> <end> <end> <end> <end> <end> <end> <end> <end> <end> <end> <end> <end> <end> <end>', 'no. <end> <end> <end> <end> <end> <end> <end> <end> <end> <end> <end> <end> <end> <end> <end>', 'captain <end> <end> <end> <end> <end> <end> <end> <end> <end> <end> <end> <end> <end> <end> <end>', 'his <end> <end> <end> <end> <end> <end> <end> <end> <end> <end> <end> <end> <end> <end> <end>', 'tom <end> <end> <end> <end> <end> <end> <end> <end> <end> <end> <end> <end> <end> <end> <end>', 'you you you you you you you you you you you you you you you you', '<end> <end> <end> <end> <end> <end> <end> <end> <end> <end> <end> <end> <end> <end> <end> <end>']\n",
            "Loss - 0.004772059619426727\n",
            "Translated - ['tunisia <end> <end> <end> <end> <end> <end> <end> <end> <end> <end> <end> <end> <end> <end> <end>', 'representatives representatives <end> <end> <end> <end> <end> <end> <end> <end> <end> <end> <end> <end> <end> <end>', 'sunday <end> <end> <end> <end> <end> <end> <end> <end> <end> <end> <end> <end> <end> <end> <end>', '1956 <end> <end> <end> <end> <end> <end> <end> <end> <end> <end> <end> <end> <end> <end> <end>', 'country <end> <end> <end> <end> <end> <end> <end> <end> <end> <end> <end> <end> <end> <end> <end>', 'menzah <end> <end> <end> <end> <end> <end> <end> <end> <end> <end> <end> <end> <end> <end> <end>', 'schools <end> <end> <end> <end> <end> <end> <end> <end> <end> <end> <end> <end> <end> <end> <end>', 'yes <end> <end> <end> <end> <end> <end> <end> <end> <end> <end> <end> <end> <end> <end> <end>', 'cnn <end> <end> <end> <end> <end> <end> <end> <end> <end> <end> <end> <end> <end> <end> <end>', 'yes <end> <end> <end> <end> <end> <end> <end> <end> <end> <end> <end> <end> <end> <end> <end>', 'george <end> <end> <end> <end> <end> <end> <end> <end> <end> <end> <end> <end> <end> <end> <end>', 'no <end> <end> <end> <end> <end> <end> <end> <end> <end> <end> <end> <end> <end> <end> <end>', 'yes <end> <end> <end> <end> <end> <end> <end> <end> <end> <end> <end> <end> <end> <end> <end>', 'clarence <end> <end> <end> <end> <end> <end> <end> <end> <end> <end> <end> <end> <end> <end> <end>', 'no <end> <end> <end> <end> <end> <end> <end> <end> <end> <end> <end> <end> <end> <end> <end>', 'yes <end> <end> <end> <end> <end> <end> <end> <end> <end> <end> <end> <end> <end> <end> <end>', 'no <end> <end> <end> <end> <end> <end> <end> <end> <end> <end> <end> <end> <end> <end> <end>', 'no <end> <end> <end> <end> <end> <end> <end> <end> <end> <end> <end> <end> <end> <end> <end>', 'he he he in for <end> <end> <end> <end> <end> <end> <end> <end> <end> <end> <end>', 'yes <end> <end> <end> <end> <end> <end> <end> <end> <end> <end> <end> <end> <end> <end> <end>', 'financial <end> <end> <end> <end> <end> <end> <end> <end> <end> <end> <end> <end> <end> <end> <end>', 'yes <end> <end> <end> <end> <end> <end> <end> <end> <end> <end> <end> <end> <end> <end> <end>', 'alexander <end> <end> <end> <end> <end> <end> <end> <end> <end> <end> <end> <end> <end> <end> <end>', 'tuesday <end> <end> <end> <end> <end> <end> <end> <end> <end> <end> <end> <end> <end> <end> <end>', 'captain <end> <end> <end> <end> <end> <end> <end> <end> <end> <end> <end> <end> <end> <end> <end>', 'run <end> <end> <end> <end> <end> <end> <end> <end> <end> <end> <end> <end> <end> <end> <end>', 'yes. <end> <end> <end> <end> <end> <end> <end> <end> <end> <end> <end> <end> <end> <end> <end>', 'no. <end> <end> <end> <end> <end> <end> <end> <end> <end> <end> <end> <end> <end> <end> <end>', 'captain <end> <end> <end> <end> <end> <end> <end> <end> <end> <end> <end> <end> <end> <end> <end>', 'his <end> <end> <end> <end> <end> <end> <end> <end> <end> <end> <end> <end> <end> <end> <end>', 'tom sam. <end> <end> <end> <end> <end> <end> <end> <end> <end> <end> <end> <end> <end> <end>', 'you you you you you you you you you you you you you you you you', '<end> <end> <end> <end> <end> <end> <end> <end> <end> <end> <end> <end> <end> <end> <end> <end>']\n",
            "Loss - 0.014326213859021664\n"
          ]
        },
        {
          "output_type": "stream",
          "name": "stderr",
          "text": [
            "\r 31%|███       | 31/100 [01:55<04:09,  3.62s/it]"
          ]
        },
        {
          "output_type": "stream",
          "name": "stdout",
          "text": [
            "Translated - ['tunisia <end> <end> <end> <end> <end> <end> <end> <end> <end> <end> <end> <end> <end> <end> <end>', 'representatives representatives representatives representatives representatives representatives representatives representatives representatives representatives representatives representatives representatives representatives representatives representatives', 'sunday <end> <end> <end> <end> <end> <end> <end> <end> <end> <end> <end> <end> <end> <end> <end>', '1956 <end> <end> <end> <end> <end> <end> <end> <end> <end> <end> <end> <end> <end> <end> <end>', 'country country <end> <end> <end> <end> <end> <end> <end> <end> <end> <end> <end> <end> <end> <end>', 'menzah neighborhood <end> <end> <end> <end> <end> <end> <end> <end> <end> <end> <end> <end> <end> <end>', 'schools <end> <end> <end> <end> <end> <end> <end> <end> <end> <end> <end> <end> <end> <end> <end>', 'yes <end> <end> <end> <end> <end> <end> <end> <end> <end> <end> <end> <end> <end> <end> <end>', 'cnn <end> <end> <end> <end> <end> <end> <end> <end> <end> <end> <end> <end> <end> <end> <end>', 'yes <end> <end> <end> <end> <end> <end> <end> <end> <end> <end> <end> <end> <end> <end> <end>', 'george <end> <end> <end> <end> <end> <end> <end> <end> <end> <end> <end> <end> <end> <end> <end>', 'no <end> <end> <end> <end> <end> <end> <end> <end> <end> <end> <end> <end> <end> <end> <end>', 'yes <end> <end> <end> <end> <end> <end> <end> <end> <end> <end> <end> <end> <end> <end> <end>', 'clarence <end> <end> <end> <end> <end> <end> <end> <end> <end> <end> <end> <end> <end> <end> <end>', 'no <end> <end> <end> <end> <end> <end> <end> <end> <end> <end> <end> <end> <end> <end> <end>', 'yes <end> <end> <end> <end> <end> <end> <end> <end> <end> <end> <end> <end> <end> <end> <end>', 'no <end> <end> <end> <end> <end> <end> <end> <end> <end> <end> <end> <end> <end> <end> <end>', 'no <end> <end> <end> <end> <end> <end> <end> <end> <end> <end> <end> <end> <end> <end> <end>', 'he he he for for for for for for for for for for for for for', 'yes <end> <end> <end> <end> <end> <end> <end> <end> <end> <end> <end> <end> <end> <end> <end>', 'financial <end> <end> <end> <end> <end> <end> <end> <end> <end> <end> <end> <end> <end> <end> <end>', 'yes <end> <end> <end> <end> <end> <end> <end> <end> <end> <end> <end> <end> <end> <end> <end>', 'alexander <end> <end> <end> <end> <end> <end> <end> <end> <end> <end> <end> <end> <end> <end> <end>', 'tuesday <end> <end> <end> <end> <end> <end> <end> <end> <end> <end> <end> <end> <end> <end> <end>', 'captain <end> <end> <end> <end> <end> <end> <end> <end> <end> <end> <end> <end> <end> <end> <end>', 'run <end> <end> <end> <end> <end> <end> <end> <end> <end> <end> <end> <end> <end> <end> <end>', 'yes. <end> <end> <end> <end> <end> <end> <end> <end> <end> <end> <end> <end> <end> <end> <end>', 'no. <end> <end> <end> <end> <end> <end> <end> <end> <end> <end> <end> <end> <end> <end> <end>', 'captain putnam <end> <end> <end> <end> <end> <end> <end> <end> <end> <end> <end> <end> <end> <end>', 'his <end> <end> <end> <end> <end> <end> <end> <end> <end> <end> <end> <end> <end> <end> <end>', 'tom sam. <end> <end> <end> <end> <end> <end> <end> <end> <end> <end> <end> <end> <end> <end>', 'you you you you you you you you you you you you you you you you', '<end> <end> <end> <end> <end> <end> <end> <end> <end> <end> <end> <end> <end> <end> <end> <end>']\n",
            "Loss - 0.0044233351945877075\n",
            "Translated - ['tunisia <end> <end> <end> <end> <end> <end> <end> <end> <end> <end> <end> <end> <end> <end> <end>', 'representatives representatives <end> <end> <end> <end> <end> <end> <end> <end> <end> <end> <end> <end> <end> <end>', 'sunday <end> <end> <end> <end> <end> <end> <end> <end> <end> <end> <end> <end> <end> <end> <end>', '1956 <end> <end> <end> <end> <end> <end> <end> <end> <end> <end> <end> <end> <end> <end> <end>', 'country <end> <end> <end> <end> <end> <end> <end> <end> <end> <end> <end> <end> <end> <end> <end>', 'menzah <end> <end> <end> <end> <end> <end> <end> <end> <end> <end> <end> <end> <end> <end> <end>', 'schools <end> <end> <end> <end> <end> <end> <end> <end> <end> <end> <end> <end> <end> <end> <end>', 'yes <end> <end> <end> <end> <end> <end> <end> <end> <end> <end> <end> <end> <end> <end> <end>', 'cnn <end> <end> <end> <end> <end> <end> <end> <end> <end> <end> <end> <end> <end> <end> <end>', 'yes <end> <end> <end> <end> <end> <end> <end> <end> <end> <end> <end> <end> <end> <end> <end>', 'george <end> <end> <end> <end> <end> <end> <end> <end> <end> <end> <end> <end> <end> <end> <end>', 'no <end> <end> <end> <end> <end> <end> <end> <end> <end> <end> <end> <end> <end> <end> <end>', 'yes <end> <end> <end> <end> <end> <end> <end> <end> <end> <end> <end> <end> <end> <end> <end>', 'clarence <end> <end> <end> <end> <end> <end> <end> <end> <end> <end> <end> <end> <end> <end> <end>', 'no <end> <end> <end> <end> <end> <end> <end> <end> <end> <end> <end> <end> <end> <end> <end>', 'yes <end> <end> <end> <end> <end> <end> <end> <end> <end> <end> <end> <end> <end> <end> <end>', 'no <end> <end> <end> <end> <end> <end> <end> <end> <end> <end> <end> <end> <end> <end> <end>', 'no <end> <end> <end> <end> <end> <end> <end> <end> <end> <end> <end> <end> <end> <end> <end>', 'he he for for for for for for for for for <end> <end> <end> <end> <end>', 'yes <end> <end> <end> <end> <end> <end> <end> <end> <end> <end> <end> <end> <end> <end> <end>', 'financial <end> <end> <end> <end> <end> <end> <end> <end> <end> <end> <end> <end> <end> <end> <end>', 'yes <end> <end> <end> <end> <end> <end> <end> <end> <end> <end> <end> <end> <end> <end> <end>', 'alexander <end> <end> <end> <end> <end> <end> <end> <end> <end> <end> <end> <end> <end> <end> <end>', 'tuesday <end> <end> <end> <end> <end> <end> <end> <end> <end> <end> <end> <end> <end> <end> <end>', 'captain <end> <end> <end> <end> <end> <end> <end> <end> <end> <end> <end> <end> <end> <end> <end>', 'run <end> <end> <end> <end> <end> <end> <end> <end> <end> <end> <end> <end> <end> <end> <end>', 'yes. <end> <end> <end> <end> <end> <end> <end> <end> <end> <end> <end> <end> <end> <end> <end>', 'no. <end> <end> <end> <end> <end> <end> <end> <end> <end> <end> <end> <end> <end> <end> <end>', 'captain <end> <end> <end> <end> <end> <end> <end> <end> <end> <end> <end> <end> <end> <end> <end>', 'his <end> <end> <end> <end> <end> <end> <end> <end> <end> <end> <end> <end> <end> <end> <end>', 'tom sam. <end> <end> <end> <end> <end> <end> <end> <end> <end> <end> <end> <end> <end> <end>', 'you you you you you you you you you you you you you you you you', '<end> <end> <end> <end> <end> <end> <end> <end> <end> <end> <end> <end> <end> <end> <end> <end>']\n",
            "Loss - 0.014059948734939098\n"
          ]
        },
        {
          "output_type": "stream",
          "name": "stderr",
          "text": [
            "\r 32%|███▏      | 32/100 [02:00<04:31,  4.00s/it]"
          ]
        },
        {
          "output_type": "stream",
          "name": "stdout",
          "text": [
            "Translated - ['tunisia <end> <end> <end> <end> <end> <end> <end> <end> <end> <end> <end> <end> <end> <end> <end>', 'representatives chosen <end> <end> <end> <end> <end> <end> <end> <end> <end> <end> <end> <end> <end> <end>', 'sunday <end> <end> <end> <end> <end> <end> <end> <end> <end> <end> <end> <end> <end> <end> <end>', '1956 <end> <end> <end> <end> <end> <end> <end> <end> <end> <end> <end> <end> <end> <end> <end>', 'country its <end> <end> <end> <end> <end> <end> <end> <end> <end> <end> <end> <end> <end> <end>', 'menzah <end> <end> <end> <end> <end> <end> <end> <end> <end> <end> <end> <end> <end> <end> <end>', 'schools <end> <end> <end> <end> <end> <end> <end> <end> <end> <end> <end> <end> <end> <end> <end>', 'yes <end> <end> <end> <end> <end> <end> <end> <end> <end> <end> <end> <end> <end> <end> <end>', 'cnn <end> <end> <end> <end> <end> <end> <end> <end> <end> <end> <end> <end> <end> <end> <end>', 'yes <end> <end> <end> <end> <end> <end> <end> <end> <end> <end> <end> <end> <end> <end> <end>', 'george <end> <end> <end> <end> <end> <end> <end> <end> <end> <end> <end> <end> <end> <end> <end>', 'no <end> <end> <end> <end> <end> <end> <end> <end> <end> <end> <end> <end> <end> <end> <end>', 'yes <end> <end> <end> <end> <end> <end> <end> <end> <end> <end> <end> <end> <end> <end> <end>', 'clarence <end> <end> <end> <end> <end> <end> <end> <end> <end> <end> <end> <end> <end> <end> <end>', 'no <end> <end> <end> <end> <end> <end> <end> <end> <end> <end> <end> <end> <end> <end> <end>', 'yes <end> <end> <end> <end> <end> <end> <end> <end> <end> <end> <end> <end> <end> <end> <end>', 'no <end> <end> <end> <end> <end> <end> <end> <end> <end> <end> <end> <end> <end> <end> <end>', 'no <end> <end> <end> <end> <end> <end> <end> <end> <end> <end> <end> <end> <end> <end> <end>', 'he he for for <end> <end> <end> <end> <end> <end> <end> <end> <end> <end> <end> <end>', 'yes <end> <end> <end> <end> <end> <end> <end> <end> <end> <end> <end> <end> <end> <end> <end>', 'financial <end> <end> <end> <end> <end> <end> <end> <end> <end> <end> <end> <end> <end> <end> <end>', 'yes <end> <end> <end> <end> <end> <end> <end> <end> <end> <end> <end> <end> <end> <end> <end>', 'alexander <end> <end> <end> <end> <end> <end> <end> <end> <end> <end> <end> <end> <end> <end> <end>', 'tuesday <end> <end> <end> <end> <end> <end> <end> <end> <end> <end> <end> <end> <end> <end> <end>', 'captain <end> <end> <end> <end> <end> <end> <end> <end> <end> <end> <end> <end> <end> <end> <end>', 'run <end> <end> <end> <end> <end> <end> <end> <end> <end> <end> <end> <end> <end> <end> <end>', 'yes. <end> <end> <end> <end> <end> <end> <end> <end> <end> <end> <end> <end> <end> <end> <end>', 'no. <end> <end> <end> <end> <end> <end> <end> <end> <end> <end> <end> <end> <end> <end> <end>', 'captain <end> <end> <end> <end> <end> <end> <end> <end> <end> <end> <end> <end> <end> <end> <end>', 'his <end> <end> <end> <end> <end> <end> <end> <end> <end> <end> <end> <end> <end> <end> <end>', 'tom sam. <end> <end> <end> <end> <end> <end> <end> <end> <end> <end> <end> <end> <end> <end>', 'you you you you you you you you you you you you you you you you', '<end> <end> <end> <end> <end> <end> <end> <end> <end> <end> <end> <end> <end> <end> <end> <end>']\n",
            "Loss - 0.00394391780719161\n",
            "Translated - ['tunisia <end> <end> <end> <end> <end> <end> <end> <end> <end> <end> <end> <end> <end> <end> <end>', 'representatives chosen <end> <end> <end> <end> <end> <end> <end> <end> <end> <end> <end> <end> <end> <end>', 'sunday <end> <end> <end> <end> <end> <end> <end> <end> <end> <end> <end> <end> <end> <end> <end>', '1956 <end> <end> <end> <end> <end> <end> <end> <end> <end> <end> <end> <end> <end> <end> <end>', 'country its its <end> <end> <end> <end> <end> <end> <end> <end> <end> <end> <end> <end> <end>', 'menzah <end> <end> <end> <end> <end> <end> <end> <end> <end> <end> <end> <end> <end> <end> <end>', 'schools <end> <end> <end> <end> <end> <end> <end> <end> <end> <end> <end> <end> <end> <end> <end>', 'yes <end> <end> <end> <end> <end> <end> <end> <end> <end> <end> <end> <end> <end> <end> <end>', 'cnn <end> <end> <end> <end> <end> <end> <end> <end> <end> <end> <end> <end> <end> <end> <end>', 'yes <end> <end> <end> <end> <end> <end> <end> <end> <end> <end> <end> <end> <end> <end> <end>', 'george <end> <end> <end> <end> <end> <end> <end> <end> <end> <end> <end> <end> <end> <end> <end>', 'no <end> <end> <end> <end> <end> <end> <end> <end> <end> <end> <end> <end> <end> <end> <end>', 'yes <end> <end> <end> <end> <end> <end> <end> <end> <end> <end> <end> <end> <end> <end> <end>', 'clarence <end> <end> <end> <end> <end> <end> <end> <end> <end> <end> <end> <end> <end> <end> <end>', 'no <end> <end> <end> <end> <end> <end> <end> <end> <end> <end> <end> <end> <end> <end> <end>', 'yes <end> <end> <end> <end> <end> <end> <end> <end> <end> <end> <end> <end> <end> <end> <end>', 'no <end> <end> <end> <end> <end> <end> <end> <end> <end> <end> <end> <end> <end> <end> <end>', 'no <end> <end> <end> <end> <end> <end> <end> <end> <end> <end> <end> <end> <end> <end> <end>', 'he he for for <end> <end> <end> <end> <end> <end> <end> <end> <end> <end> <end> <end>', 'yes <end> <end> <end> <end> <end> <end> <end> <end> <end> <end> <end> <end> <end> <end> <end>', 'financial <end> <end> <end> <end> <end> <end> <end> <end> <end> <end> <end> <end> <end> <end> <end>', 'yes <end> <end> <end> <end> <end> <end> <end> <end> <end> <end> <end> <end> <end> <end> <end>', 'alexander <end> <end> <end> <end> <end> <end> <end> <end> <end> <end> <end> <end> <end> <end> <end>', 'tuesday <end> <end> <end> <end> <end> <end> <end> <end> <end> <end> <end> <end> <end> <end> <end>', 'captain <end> <end> <end> <end> <end> <end> <end> <end> <end> <end> <end> <end> <end> <end> <end>', 'run <end> <end> <end> <end> <end> <end> <end> <end> <end> <end> <end> <end> <end> <end> <end>', 'yes. <end> <end> <end> <end> <end> <end> <end> <end> <end> <end> <end> <end> <end> <end> <end>', 'no. <end> <end> <end> <end> <end> <end> <end> <end> <end> <end> <end> <end> <end> <end> <end>', 'captain <end> <end> <end> <end> <end> <end> <end> <end> <end> <end> <end> <end> <end> <end> <end>', 'his <end> <end> <end> <end> <end> <end> <end> <end> <end> <end> <end> <end> <end> <end> <end>', 'tom sam. <end> <end> <end> <end> <end> <end> <end> <end> <end> <end> <end> <end> <end> <end>', 'you you you you you you you you you you you you you you you you', '<end> <end> <end> <end> <end> <end> <end> <end> <end> <end> <end> <end> <end> <end> <end> <end>']\n",
            "Loss - 0.013712090440094471\n"
          ]
        },
        {
          "output_type": "stream",
          "name": "stderr",
          "text": [
            "\r 33%|███▎      | 33/100 [02:04<04:26,  3.98s/it]"
          ]
        },
        {
          "output_type": "stream",
          "name": "stdout",
          "text": [
            "Translated - ['tunisia <end> <end> <end> <end> <end> <end> <end> <end> <end> <end> <end> <end> <end> <end> <end>', 'representatives chosen <end> <end> <end> <end> <end> <end> <end> <end> <end> <end> <end> <end> <end> <end>', 'sunday <end> <end> <end> <end> <end> <end> <end> <end> <end> <end> <end> <end> <end> <end> <end>', '1956 <end> <end> <end> <end> <end> <end> <end> <end> <end> <end> <end> <end> <end> <end> <end>', 'country its its its <end> <end> <end> <end> <end> <end> <end> <end> <end> <end> <end> <end>', 'menzah <end> <end> <end> <end> <end> <end> <end> <end> <end> <end> <end> <end> <end> <end> <end>', 'schools <end> <end> <end> <end> <end> <end> <end> <end> <end> <end> <end> <end> <end> <end> <end>', 'yes <end> <end> <end> <end> <end> <end> <end> <end> <end> <end> <end> <end> <end> <end> <end>', 'cnn <end> <end> <end> <end> <end> <end> <end> <end> <end> <end> <end> <end> <end> <end> <end>', 'yes <end> <end> <end> <end> <end> <end> <end> <end> <end> <end> <end> <end> <end> <end> <end>', 'george <end> <end> <end> <end> <end> <end> <end> <end> <end> <end> <end> <end> <end> <end> <end>', 'no <end> <end> <end> <end> <end> <end> <end> <end> <end> <end> <end> <end> <end> <end> <end>', 'yes <end> <end> <end> <end> <end> <end> <end> <end> <end> <end> <end> <end> <end> <end> <end>', 'clarence <end> <end> <end> <end> <end> <end> <end> <end> <end> <end> <end> <end> <end> <end> <end>', 'no <end> <end> <end> <end> <end> <end> <end> <end> <end> <end> <end> <end> <end> <end> <end>', 'yes <end> <end> <end> <end> <end> <end> <end> <end> <end> <end> <end> <end> <end> <end> <end>', 'no <end> <end> <end> <end> <end> <end> <end> <end> <end> <end> <end> <end> <end> <end> <end>', 'no <end> <end> <end> <end> <end> <end> <end> <end> <end> <end> <end> <end> <end> <end> <end>', 'he he for for for for for for for for for for for for for for', 'yes <end> <end> <end> <end> <end> <end> <end> <end> <end> <end> <end> <end> <end> <end> <end>', 'financial <end> <end> <end> <end> <end> <end> <end> <end> <end> <end> <end> <end> <end> <end> <end>', 'yes <end> <end> <end> <end> <end> <end> <end> <end> <end> <end> <end> <end> <end> <end> <end>', 'alexander <end> <end> <end> <end> <end> <end> <end> <end> <end> <end> <end> <end> <end> <end> <end>', 'tuesday <end> <end> <end> <end> <end> <end> <end> <end> <end> <end> <end> <end> <end> <end> <end>', 'captain <end> <end> <end> <end> <end> <end> <end> <end> <end> <end> <end> <end> <end> <end> <end>', 'run <end> <end> <end> <end> <end> <end> <end> <end> <end> <end> <end> <end> <end> <end> <end>', 'yes. <end> <end> <end> <end> <end> <end> <end> <end> <end> <end> <end> <end> <end> <end> <end>', 'no. <end> <end> <end> <end> <end> <end> <end> <end> <end> <end> <end> <end> <end> <end> <end>', 'captain <end> <end> <end> <end> <end> <end> <end> <end> <end> <end> <end> <end> <end> <end> <end>', 'his <end> <end> <end> <end> <end> <end> <end> <end> <end> <end> <end> <end> <end> <end> <end>', 'tom sam. <end> <end> <end> <end> <end> <end> <end> <end> <end> <end> <end> <end> <end> <end>', 'you you you you you you you you you you you you you you you you', '<end> <end> <end> <end> <end> <end> <end> <end> <end> <end> <end> <end> <end> <end> <end> <end>']\n",
            "Loss - 0.00368474330753088\n",
            "Translated - ['tunisia <end> <end> <end> <end> <end> <end> <end> <end> <end> <end> <end> <end> <end> <end> <end>', 'representatives representatives <end> <end> <end> <end> <end> <end> <end> <end> <end> <end> <end> <end> <end> <end>', 'sunday <end> <end> <end> <end> <end> <end> <end> <end> <end> <end> <end> <end> <end> <end> <end>', '1956 <end> <end> <end> <end> <end> <end> <end> <end> <end> <end> <end> <end> <end> <end> <end>', 'country its its <end> <end> <end> <end> <end> <end> <end> <end> <end> <end> <end> <end> <end>', 'menzah neighborhood <end> <end> <end> <end> <end> <end> <end> <end> <end> <end> <end> <end> <end> <end>', 'schools <end> <end> <end> <end> <end> <end> <end> <end> <end> <end> <end> <end> <end> <end> <end>', 'yes <end> <end> <end> <end> <end> <end> <end> <end> <end> <end> <end> <end> <end> <end> <end>', 'cnn <end> <end> <end> <end> <end> <end> <end> <end> <end> <end> <end> <end> <end> <end> <end>', 'yes <end> <end> <end> <end> <end> <end> <end> <end> <end> <end> <end> <end> <end> <end> <end>', 'george <end> <end> <end> <end> <end> <end> <end> <end> <end> <end> <end> <end> <end> <end> <end>', 'no <end> <end> <end> <end> <end> <end> <end> <end> <end> <end> <end> <end> <end> <end> <end>', 'yes <end> <end> <end> <end> <end> <end> <end> <end> <end> <end> <end> <end> <end> <end> <end>', 'clarence <end> <end> <end> <end> <end> <end> <end> <end> <end> <end> <end> <end> <end> <end> <end>', 'no <end> <end> <end> <end> <end> <end> <end> <end> <end> <end> <end> <end> <end> <end> <end>', 'yes <end> <end> <end> <end> <end> <end> <end> <end> <end> <end> <end> <end> <end> <end> <end>', 'no <end> <end> <end> <end> <end> <end> <end> <end> <end> <end> <end> <end> <end> <end> <end>', 'no <end> <end> <end> <end> <end> <end> <end> <end> <end> <end> <end> <end> <end> <end> <end>', 'he he lover for for for for for for for for for for for for for', 'yes <end> <end> <end> <end> <end> <end> <end> <end> <end> <end> <end> <end> <end> <end> <end>', 'financial <end> <end> <end> <end> <end> <end> <end> <end> <end> <end> <end> <end> <end> <end> <end>', 'yes <end> <end> <end> <end> <end> <end> <end> <end> <end> <end> <end> <end> <end> <end> <end>', 'alexander <end> <end> <end> <end> <end> <end> <end> <end> <end> <end> <end> <end> <end> <end> <end>', 'tuesday <end> <end> <end> <end> <end> <end> <end> <end> <end> <end> <end> <end> <end> <end> <end>', 'captain <end> <end> <end> <end> <end> <end> <end> <end> <end> <end> <end> <end> <end> <end> <end>', 'run <end> <end> <end> <end> <end> <end> <end> <end> <end> <end> <end> <end> <end> <end> <end>', 'yes. <end> <end> <end> <end> <end> <end> <end> <end> <end> <end> <end> <end> <end> <end> <end>', 'no. <end> <end> <end> <end> <end> <end> <end> <end> <end> <end> <end> <end> <end> <end> <end>', 'captain putnam <end> <end> <end> <end> <end> <end> <end> <end> <end> <end> <end> <end> <end> <end>', \"his father's <end> <end> <end> <end> <end> <end> <end> <end> <end> <end> <end> <end> <end> <end>\", 'tom sam. <end> <end> <end> <end> <end> <end> <end> <end> <end> <end> <end> <end> <end> <end>', 'you you you you you you you you you you you you you you you you', '<end> <end> <end> <end> <end> <end> <end> <end> <end> <end> <end> <end> <end> <end> <end> <end>']\n",
            "Loss - 0.013473087921738625\n"
          ]
        },
        {
          "output_type": "stream",
          "name": "stderr",
          "text": [
            "\r 34%|███▍      | 34/100 [02:08<04:26,  4.04s/it]"
          ]
        },
        {
          "output_type": "stream",
          "name": "stdout",
          "text": [
            "Translated - ['tunisia <end> <end> <end> <end> <end> <end> <end> <end> <end> <end> <end> <end> <end> <end> <end>', 'representatives representatives <end> <end> <end> <end> <end> <end> <end> <end> <end> <end> <end> <end> <end> <end>', 'sunday <end> <end> <end> <end> <end> <end> <end> <end> <end> <end> <end> <end> <end> <end> <end>', '1956 <end> <end> <end> <end> <end> <end> <end> <end> <end> <end> <end> <end> <end> <end> <end>', 'country country country <end> <end> <end> <end> <end> <end> <end> <end> <end> <end> <end> <end> <end>', 'menzah neighborhood <end> <end> <end> <end> <end> <end> <end> <end> <end> <end> <end> <end> <end> <end>', 'schools <end> <end> <end> <end> <end> <end> <end> <end> <end> <end> <end> <end> <end> <end> <end>', 'yes <end> <end> <end> <end> <end> <end> <end> <end> <end> <end> <end> <end> <end> <end> <end>', 'cnn <end> <end> <end> <end> <end> <end> <end> <end> <end> <end> <end> <end> <end> <end> <end>', 'yes <end> <end> <end> <end> <end> <end> <end> <end> <end> <end> <end> <end> <end> <end> <end>', 'george <end> <end> <end> <end> <end> <end> <end> <end> <end> <end> <end> <end> <end> <end> <end>', 'no <end> <end> <end> <end> <end> <end> <end> <end> <end> <end> <end> <end> <end> <end> <end>', 'yes <end> <end> <end> <end> <end> <end> <end> <end> <end> <end> <end> <end> <end> <end> <end>', 'clarence <end> <end> <end> <end> <end> <end> <end> <end> <end> <end> <end> <end> <end> <end> <end>', 'no <end> <end> <end> <end> <end> <end> <end> <end> <end> <end> <end> <end> <end> <end> <end>', 'yes <end> <end> <end> <end> <end> <end> <end> <end> <end> <end> <end> <end> <end> <end> <end>', 'no <end> <end> <end> <end> <end> <end> <end> <end> <end> <end> <end> <end> <end> <end> <end>', 'no <end> <end> <end> <end> <end> <end> <end> <end> <end> <end> <end> <end> <end> <end> <end>', 'he he he for for for for <end> <end> <end> <end> <end> <end> <end> <end> <end>', 'yes <end> <end> <end> <end> <end> <end> <end> <end> <end> <end> <end> <end> <end> <end> <end>', 'financial <end> <end> <end> <end> <end> <end> <end> <end> <end> <end> <end> <end> <end> <end> <end>', 'yes <end> <end> <end> <end> <end> <end> <end> <end> <end> <end> <end> <end> <end> <end> <end>', 'alexander <end> <end> <end> <end> <end> <end> <end> <end> <end> <end> <end> <end> <end> <end> <end>', 'tuesday <end> <end> <end> <end> <end> <end> <end> <end> <end> <end> <end> <end> <end> <end> <end>', 'captain <end> <end> <end> <end> <end> <end> <end> <end> <end> <end> <end> <end> <end> <end> <end>', 'run <end> <end> <end> <end> <end> <end> <end> <end> <end> <end> <end> <end> <end> <end> <end>', 'yes. <end> <end> <end> <end> <end> <end> <end> <end> <end> <end> <end> <end> <end> <end> <end>', 'no. <end> <end> <end> <end> <end> <end> <end> <end> <end> <end> <end> <end> <end> <end> <end>', 'captain <end> <end> <end> <end> <end> <end> <end> <end> <end> <end> <end> <end> <end> <end> <end>', 'his <end> <end> <end> <end> <end> <end> <end> <end> <end> <end> <end> <end> <end> <end> <end>', 'tom and <end> <end> <end> <end> <end> <end> <end> <end> <end> <end> <end> <end> <end> <end>', 'you you you you you you you you you you you you you you you you', '<end> <end> <end> <end> <end> <end> <end> <end> <end> <end> <end> <end> <end> <end> <end> <end>']\n",
            "Loss - 0.0034680692479014397\n",
            "Translated - ['tunisia <end> <end> <end> <end> <end> <end>', 'representatives are <end> <end> <end> <end> <end>', 'sunday <end> <end> <end> <end> <end> <end>', '1956 <end> <end> <end> <end> <end> <end>', 'country country <end> <end> <end> <end> <end>', 'menzah <end> <end> <end> <end> <end> <end>', 'schools <end> <end> <end> <end> <end> <end>', 'yes <end> <end> <end> <end> <end> <end>', 'cnn <end> <end> <end> <end> <end> <end>', 'yes <end> <end> <end> <end> <end> <end>', 'george <end> <end> <end> <end> <end> <end>', 'no <end> <end> <end> <end> <end> <end>', 'yes <end> <end> <end> <end> <end> <end>', 'clarence <end> <end> <end> <end> <end> <end>', 'no <end> <end> <end> <end> <end> <end>', 'yes <end> <end> <end> <end> <end> <end>', 'no <end> <end> <end> <end> <end> <end>', 'no <end> <end> <end> <end> <end> <end>', 'he he in in <end> <end> <end>', 'yes <end> <end> <end> <end> <end> <end>', 'financial <end> <end> <end> <end> <end> <end>', 'yes <end> <end> <end> <end> <end> <end>', 'alexander <end> <end> <end> <end> <end> <end>', '<end> <end> <end> <end> <end> <end> <end>', 'captain <end> <end> <end> <end> <end> <end>', 'run <end> <end> <end> <end> <end> <end>', 'yes. <end> <end> <end> <end> <end> <end>', 'no. <end> <end> <end> <end> <end> <end>', 'captain <end> <end> <end> <end> <end> <end>', 'his <end> <end> <end> <end> <end> <end>', 'tom <end> <end> <end> <end> <end> <end>', 'you you you you you you <end>', '<end> <end> <end> <end> <end> <end> <end>']\n",
            "Loss - 0.013399538584053516\n"
          ]
        },
        {
          "output_type": "stream",
          "name": "stderr",
          "text": [
            "\r 35%|███▌      | 35/100 [02:13<04:36,  4.26s/it]"
          ]
        },
        {
          "output_type": "stream",
          "name": "stdout",
          "text": [
            "Translated - ['tunisia <end> <end> <end> <end> <end> <end> <end> <end> <end> <end> <end> <end> <end> <end> <end>', 'representatives representatives <end> <end> <end> <end> <end> <end> <end> <end> <end> <end> <end> <end> <end> <end>', 'sunday <end> <end> <end> <end> <end> <end> <end> <end> <end> <end> <end> <end> <end> <end> <end>', '1956 <end> <end> <end> <end> <end> <end> <end> <end> <end> <end> <end> <end> <end> <end> <end>', 'country its its <end> <end> <end> <end> <end> <end> <end> <end> <end> <end> <end> <end> <end>', 'menzah <end> <end> <end> <end> <end> <end> <end> <end> <end> <end> <end> <end> <end> <end> <end>', 'schools <end> <end> <end> <end> <end> <end> <end> <end> <end> <end> <end> <end> <end> <end> <end>', 'yes <end> <end> <end> <end> <end> <end> <end> <end> <end> <end> <end> <end> <end> <end> <end>', 'cnn <end> <end> <end> <end> <end> <end> <end> <end> <end> <end> <end> <end> <end> <end> <end>', 'yes <end> <end> <end> <end> <end> <end> <end> <end> <end> <end> <end> <end> <end> <end> <end>', 'george <end> <end> <end> <end> <end> <end> <end> <end> <end> <end> <end> <end> <end> <end> <end>', 'no <end> <end> <end> <end> <end> <end> <end> <end> <end> <end> <end> <end> <end> <end> <end>', 'yes <end> <end> <end> <end> <end> <end> <end> <end> <end> <end> <end> <end> <end> <end> <end>', 'clarence <end> <end> <end> <end> <end> <end> <end> <end> <end> <end> <end> <end> <end> <end> <end>', 'no <end> <end> <end> <end> <end> <end> <end> <end> <end> <end> <end> <end> <end> <end> <end>', 'yes <end> <end> <end> <end> <end> <end> <end> <end> <end> <end> <end> <end> <end> <end> <end>', 'no <end> <end> <end> <end> <end> <end> <end> <end> <end> <end> <end> <end> <end> <end> <end>', 'no <end> <end> <end> <end> <end> <end> <end> <end> <end> <end> <end> <end> <end> <end> <end>', 'he he in for for <end> <end> <end> <end> <end> <end> <end> <end> <end> <end> <end>', 'yes <end> <end> <end> <end> <end> <end> <end> <end> <end> <end> <end> <end> <end> <end> <end>', 'financial <end> <end> <end> <end> <end> <end> <end> <end> <end> <end> <end> <end> <end> <end> <end>', 'yes <end> <end> <end> <end> <end> <end> <end> <end> <end> <end> <end> <end> <end> <end> <end>', 'alexander <end> <end> <end> <end> <end> <end> <end> <end> <end> <end> <end> <end> <end> <end> <end>', 'tuesday <end> <end> <end> <end> <end> <end> <end> <end> <end> <end> <end> <end> <end> <end> <end>', 'captain putnam <end> <end> <end> <end> <end> <end> <end> <end> <end> <end> <end> <end> <end> <end>', 'run <end> <end> <end> <end> <end> <end> <end> <end> <end> <end> <end> <end> <end> <end> <end>', 'yes. <end> <end> <end> <end> <end> <end> <end> <end> <end> <end> <end> <end> <end> <end> <end>', 'no. <end> <end> <end> <end> <end> <end> <end> <end> <end> <end> <end> <end> <end> <end> <end>', 'captain putnam <end> <end> <end> <end> <end> <end> <end> <end> <end> <end> <end> <end> <end> <end>', \"his father's <end> <end> <end> <end> <end> <end> <end> <end> <end> <end> <end> <end> <end> <end>\", 'tom and <end> <end> <end> <end> <end> <end> <end> <end> <end> <end> <end> <end> <end> <end>', 'you you you you you you you you you you you you you you you you', '<end> <end> <end> <end> <end> <end> <end> <end> <end> <end> <end> <end> <end> <end> <end> <end>']\n",
            "Loss - 0.0031715030781924725\n",
            "Translated - ['tunisia <end> <end> <end> <end> <end> <end> <end> <end> <end> <end> <end> <end> <end> <end> <end>', 'representatives representatives <end> <end> <end> <end> <end> <end> <end> <end> <end> <end> <end> <end> <end> <end>', 'sunday <end> <end> <end> <end> <end> <end> <end> <end> <end> <end> <end> <end> <end> <end> <end>', '1956 <end> <end> <end> <end> <end> <end> <end> <end> <end> <end> <end> <end> <end> <end> <end>', 'country its its its <end> <end> <end> <end> <end> <end> <end> <end> <end> <end> <end> <end>', 'menzah neighborhood <end> <end> <end> <end> <end> <end> <end> <end> <end> <end> <end> <end> <end> <end>', 'schools <end> <end> <end> <end> <end> <end> <end> <end> <end> <end> <end> <end> <end> <end> <end>', 'yes <end> <end> <end> <end> <end> <end> <end> <end> <end> <end> <end> <end> <end> <end> <end>', 'cnn <end> <end> <end> <end> <end> <end> <end> <end> <end> <end> <end> <end> <end> <end> <end>', 'yes <end> <end> <end> <end> <end> <end> <end> <end> <end> <end> <end> <end> <end> <end> <end>', 'george <end> <end> <end> <end> <end> <end> <end> <end> <end> <end> <end> <end> <end> <end> <end>', 'no <end> <end> <end> <end> <end> <end> <end> <end> <end> <end> <end> <end> <end> <end> <end>', 'yes <end> <end> <end> <end> <end> <end> <end> <end> <end> <end> <end> <end> <end> <end> <end>', 'clarence <end> <end> <end> <end> <end> <end> <end> <end> <end> <end> <end> <end> <end> <end> <end>', 'no <end> <end> <end> <end> <end> <end> <end> <end> <end> <end> <end> <end> <end> <end> <end>', 'yes <end> <end> <end> <end> <end> <end> <end> <end> <end> <end> <end> <end> <end> <end> <end>', 'no <end> <end> <end> <end> <end> <end> <end> <end> <end> <end> <end> <end> <end> <end> <end>', 'no <end> <end> <end> <end> <end> <end> <end> <end> <end> <end> <end> <end> <end> <end> <end>', 'he he lover for for for for for for for for for for for for for', 'yes <end> <end> <end> <end> <end> <end> <end> <end> <end> <end> <end> <end> <end> <end> <end>', 'financial <end> <end> <end> <end> <end> <end> <end> <end> <end> <end> <end> <end> <end> <end> <end>', 'yes <end> <end> <end> <end> <end> <end> <end> <end> <end> <end> <end> <end> <end> <end> <end>', 'alexander pop pop <end> <end> <end> <end> <end> alexander alexander alexander alexander alexander alexander alexander alexander', 'tuesday <end> <end> <end> <end> <end> <end> <end> <end> <end> <end> <end> <end> <end> <end> <end>', 'captain putnam putnam <end> <end> <end> <end> <end> <end> <end> <end> <end> <end> <end> <end> <end>', 'run run <end> <end> <end> <end> <end> <end> <end> <end> <end> run run run run run', 'yes. <end> <end> <end> <end> <end> <end> <end> <end> <end> <end> <end> <end> <end> <end> <end>', 'no. no. <end> <end> <end> <end> <end> <end> <end> <end> <end> <end> <end> <end> <end> <end>', 'captain captain putnam <end> <end> <end> <end> <end> <end> <end> <end> <end> <end> <end> <end> <end>', \"father's father's father's father's <end> <end> <end> <end> <end> <end> <end> <end> <end> <end> <end> <end>\", 'tom sam. sam. <end> <end> <end> <end> <end> <end> <end> <end> <end> <end> <end> <end> <end>', 'you you you you you you you you you you you you you you you you', \"father's <end> <end> <end> <end> <end> <end> <end> <end> <end> <end> <end> <end> <end> <end> <end>\"]\n",
            "Loss - 0.013238148763775826\n"
          ]
        },
        {
          "output_type": "stream",
          "name": "stderr",
          "text": [
            "\r 36%|███▌      | 36/100 [02:17<04:34,  4.29s/it]"
          ]
        },
        {
          "output_type": "stream",
          "name": "stdout",
          "text": [
            "Translated - ['tunisia <end> <end> <end> <end> <end> <end> <end> <end> <end> <end> <end> <end> <end> <end> <end>', 'representatives being <end> <end> <end> <end> <end> <end> <end> <end> <end> <end> <end> <end> <end> <end>', 'sunday <end> <end> <end> <end> <end> <end> <end> <end> <end> <end> <end> <end> <end> <end> <end>', '1956 <end> <end> <end> <end> <end> <end> <end> <end> <end> <end> <end> <end> <end> <end> <end>', 'country its its <end> <end> <end> <end> <end> <end> <end> <end> <end> <end> <end> <end> <end>', 'menzah <end> <end> <end> <end> <end> <end> <end> <end> <end> <end> <end> <end> <end> <end> <end>', 'schools <end> <end> <end> <end> <end> <end> <end> <end> <end> <end> <end> <end> <end> <end> <end>', 'yes <end> <end> <end> <end> <end> <end> <end> <end> <end> <end> <end> <end> <end> <end> <end>', 'cnn <end> <end> <end> <end> <end> <end> <end> <end> <end> <end> <end> <end> <end> <end> <end>', 'yes <end> <end> <end> <end> <end> <end> <end> <end> <end> <end> <end> <end> <end> <end> <end>', 'george <end> <end> <end> <end> <end> <end> <end> <end> <end> <end> <end> <end> <end> <end> <end>', 'no <end> <end> <end> <end> <end> <end> <end> <end> <end> <end> <end> <end> <end> <end> <end>', 'yes <end> <end> <end> <end> <end> <end> <end> <end> <end> <end> <end> <end> <end> <end> <end>', 'clarence <end> <end> <end> <end> <end> <end> <end> <end> <end> <end> <end> <end> <end> <end> <end>', 'no <end> <end> <end> <end> <end> <end> <end> <end> <end> <end> <end> <end> <end> <end> <end>', 'yes <end> <end> <end> <end> <end> <end> <end> <end> <end> <end> <end> <end> <end> <end> <end>', 'no <end> <end> <end> <end> <end> <end> <end> <end> <end> <end> <end> <end> <end> <end> <end>', 'no <end> <end> <end> <end> <end> <end> <end> <end> <end> <end> <end> <end> <end> <end> <end>', 'he he lover for <end> <end> <end> <end> <end> <end> <end> <end> <end> <end> <end> <end>', 'yes <end> <end> <end> <end> <end> <end> <end> <end> <end> <end> <end> <end> <end> <end> <end>', 'financial <end> <end> <end> <end> <end> <end> <end> <end> <end> <end> <end> <end> <end> <end> <end>', 'yes <end> <end> <end> <end> <end> <end> <end> <end> <end> <end> <end> <end> <end> <end> <end>', 'alexander <end> <end> <end> <end> <end> <end> <end> <end> <end> <end> <end> <end> <end> <end> <end>', 'tuesday <end> <end> <end> <end> <end> <end> <end> <end> <end> <end> <end> <end> <end> <end> <end>', 'captain <end> <end> <end> <end> <end> <end> <end> <end> <end> <end> <end> <end> <end> <end> <end>', 'run <end> <end> <end> <end> <end> <end> <end> <end> <end> <end> <end> <end> <end> <end> <end>', 'yes. <end> <end> <end> <end> <end> <end> <end> <end> <end> <end> <end> <end> <end> <end> <end>', 'no. <end> <end> <end> <end> <end> <end> <end> <end> <end> <end> <end> <end> <end> <end> <end>', 'captain <end> <end> <end> <end> <end> <end> <end> <end> <end> <end> <end> <end> <end> <end> <end>', \"his father's <end> <end> <end> <end> <end> <end> <end> <end> <end> <end> <end> <end> <end> <end>\", 'tom and <end> <end> <end> <end> <end> <end> <end> <end> <end> <end> <end> <end> <end> <end>', 'you you you you you you you you you you you you you you you you', '<end> <end> <end> <end> <end> <end> <end> <end> <end> <end> <end> <end> <end> <end> <end> <end>']\n",
            "Loss - 0.00302080437541008\n",
            "Translated - ['tunisia <end> <end> <end> <end> <end> <end> <end> <end> <end> <end> <end> <end> <end> <end> <end>', 'representatives are <end> <end> <end> <end> <end> <end> <end> <end> <end> <end> <end> <end> <end> <end>', 'sunday <end> <end> <end> <end> <end> <end> <end> <end> <end> <end> <end> <end> <end> <end> <end>', '1956 <end> <end> <end> <end> <end> <end> <end> <end> <end> <end> <end> <end> <end> <end> <end>', 'country its <end> <end> <end> <end> <end> <end> <end> <end> <end> <end> <end> <end> <end> <end>', 'menzah neighborhood <end> <end> <end> <end> <end> <end> <end> <end> <end> <end> <end> <end> <end> <end>', 'schools <end> <end> <end> <end> <end> <end> <end> <end> <end> <end> <end> <end> <end> <end> <end>', 'yes <end> <end> <end> <end> <end> <end> <end> <end> <end> <end> <end> <end> <end> <end> <end>', 'cnn <end> <end> <end> <end> <end> <end> <end> <end> <end> <end> <end> <end> <end> <end> <end>', 'yes <end> <end> <end> <end> <end> <end> <end> <end> <end> <end> <end> <end> <end> <end> <end>', 'george <end> <end> <end> <end> <end> <end> <end> <end> <end> <end> <end> <end> <end> <end> <end>', 'no <end> <end> <end> <end> <end> <end> <end> <end> <end> <end> <end> <end> <end> <end> <end>', 'yes <end> <end> <end> <end> <end> <end> <end> <end> <end> <end> <end> <end> <end> <end> <end>', 'clarence <end> <end> <end> <end> <end> <end> <end> <end> <end> <end> <end> <end> <end> <end> <end>', 'no <end> <end> <end> <end> <end> <end> <end> <end> <end> <end> <end> <end> <end> <end> <end>', 'yes <end> <end> <end> <end> <end> <end> <end> <end> <end> <end> <end> <end> <end> <end> <end>', 'no <end> <end> <end> <end> <end> <end> <end> <end> <end> <end> <end> <end> <end> <end> <end>', 'no <end> <end> <end> <end> <end> <end> <end> <end> <end> <end> <end> <end> <end> <end> <end>', 'he he lover <end> <end> <end> <end> <end> <end> <end> <end> <end> <end> <end> <end> <end>', 'yes <end> <end> <end> <end> <end> <end> <end> <end> <end> <end> <end> <end> <end> <end> <end>', 'financial <end> <end> <end> <end> <end> <end> <end> <end> <end> <end> <end> <end> <end> <end> <end>', 'yes <end> <end> <end> <end> <end> <end> <end> <end> <end> <end> <end> <end> <end> <end> <end>', 'pop <end> <end> <end> <end> <end> <end> <end> <end> <end> <end> <end> <end> <end> <end> <end>', 'tuesday <end> <end> <end> <end> <end> <end> <end> <end> <end> <end> <end> <end> <end> <end> <end>', 'putnam <end> <end> <end> <end> <end> <end> <end> <end> <end> <end> <end> <end> <end> <end> <end>', 'run <end> <end> <end> <end> <end> <end> <end> <end> <end> <end> <end> <end> <end> <end> <end>', 'yes. <end> <end> <end> <end> <end> <end> <end> <end> <end> <end> <end> <end> <end> <end> <end>', 'no. <end> <end> <end> <end> <end> <end> <end> <end> <end> <end> <end> <end> <end> <end> <end>', 'captain <end> <end> <end> <end> <end> <end> <end> <end> <end> <end> <end> <end> <end> <end> <end>', 'his <end> <end> <end> <end> <end> <end> <end> <end> <end> <end> <end> <end> <end> <end> <end>', 'tom and <end> <end> <end> <end> <end> <end> <end> <end> <end> <end> <end> <end> <end> <end>', 'you you you you you you you you you you you you you you you you', '<end> <end> <end> <end> <end> <end> <end> <end> <end> <end> <end> <end> <end> <end> <end> <end>']\n",
            "Loss - 0.012841514311730862\n"
          ]
        },
        {
          "output_type": "stream",
          "name": "stderr",
          "text": [
            "\r 37%|███▋      | 37/100 [02:22<04:42,  4.48s/it]"
          ]
        },
        {
          "output_type": "stream",
          "name": "stdout",
          "text": [
            "Translated - ['tunisia <end> <end> <end> <end> <end> <end> <end> <end> <end> <end> <end> <end> <end> <end> <end>', 'representatives representatives being <end> <end> <end> <end> <end> <end> <end> <end> <end> <end> <end> <end> <end>', 'sunday <end> <end> <end> <end> <end> <end> <end> <end> <end> <end> <end> <end> <end> <end> <end>', '1956 <end> <end> <end> <end> <end> <end> <end> <end> <end> <end> <end> <end> <end> <end> <end>', 'country country <end> <end> <end> <end> <end> <end> <end> <end> <end> <end> <end> <end> <end> <end>', 'menzah neighborhood <end> <end> <end> <end> <end> <end> <end> <end> <end> <end> <end> <end> <end> <end>', 'schools <end> <end> <end> <end> <end> <end> <end> <end> <end> <end> <end> <end> <end> <end> <end>', 'yes <end> <end> <end> <end> <end> <end> <end> <end> <end> <end> <end> <end> <end> <end> <end>', 'cnn <end> <end> <end> <end> <end> <end> <end> <end> <end> <end> <end> <end> <end> <end> <end>', 'yes <end> <end> <end> <end> <end> <end> <end> <end> <end> <end> <end> <end> <end> <end> <end>', 'george <end> <end> <end> <end> <end> <end> <end> <end> <end> <end> <end> <end> <end> <end> <end>', 'no <end> <end> <end> <end> <end> <end> <end> <end> <end> <end> <end> <end> <end> <end> <end>', 'yes <end> <end> <end> <end> <end> <end> <end> <end> <end> <end> <end> <end> <end> <end> <end>', 'clarence <end> <end> <end> <end> <end> <end> <end> <end> <end> <end> <end> <end> <end> <end> <end>', 'no <end> <end> <end> <end> <end> <end> <end> <end> <end> <end> <end> <end> <end> <end> <end>', 'yes <end> <end> <end> <end> <end> <end> <end> <end> <end> <end> <end> <end> <end> <end> <end>', 'no <end> <end> <end> <end> <end> <end> <end> <end> <end> <end> <end> <end> <end> <end> <end>', 'no <end> <end> <end> <end> <end> <end> <end> <end> <end> <end> <end> <end> <end> <end> <end>', 'he he he lover for for for for for for <end> <end> <end> <end> <end> <end>', 'yes <end> <end> <end> <end> <end> <end> <end> <end> <end> <end> <end> <end> <end> <end> <end>', 'financial <end> <end> <end> <end> <end> <end> <end> <end> <end> <end> <end> <end> <end> <end> <end>', 'yes <end> <end> <end> <end> <end> <end> <end> <end> <end> <end> <end> <end> <end> <end> <end>', 'alexander <end> <end> <end> <end> <end> <end> <end> <end> <end> <end> <end> <end> <end> <end> <end>', 'tuesday <end> <end> <end> <end> <end> <end> <end> <end> <end> <end> <end> <end> <end> <end> <end>', 'captain <end> <end> <end> <end> <end> <end> <end> <end> <end> <end> <end> <end> <end> <end> <end>', 'run <end> <end> <end> <end> <end> <end> <end> <end> <end> <end> <end> <end> <end> <end> <end>', 'yes. <end> <end> <end> <end> <end> <end> <end> <end> <end> <end> <end> <end> <end> <end> <end>', 'no. <end> <end> <end> <end> <end> <end> <end> <end> <end> <end> <end> <end> <end> <end> <end>', 'captain <end> <end> <end> <end> <end> <end> <end> <end> <end> <end> <end> <end> <end> <end> <end>', 'his <end> <end> <end> <end> <end> <end> <end> <end> <end> <end> <end> <end> <end> <end> <end>', 'tom sam. <end> <end> <end> <end> <end> <end> <end> <end> <end> <end> <end> <end> <end> <end>', 'you you you you you you you you you you you you you you you you', '<end> <end> <end> <end> <end> <end> <end> <end> <end> <end> <end> <end> <end> <end> <end> <end>']\n",
            "Loss - 0.0029849971178919077\n",
            "Translated - ['tunisia <end> <end> <end> <end> <end> <end> <end> <end> <end> <end> <end> <end> <end> <end> <end>', 'representatives are chosen <end> <end> <end> <end> <end> <end> <end> <end> <end> <end> <end> <end> <end>', 'sunday <end> <end> <end> <end> <end> <end> <end> <end> <end> <end> <end> <end> <end> <end> <end>', '1956 <end> <end> <end> <end> <end> <end> <end> <end> <end> <end> <end> <end> <end> <end> <end>', 'country its <end> <end> <end> <end> <end> <end> <end> <end> <end> <end> <end> <end> <end> <end>', 'menzah neighborhood <end> <end> <end> <end> <end> <end> <end> <end> <end> <end> <end> <end> <end> <end>', 'schools <end> <end> <end> <end> <end> <end> <end> <end> <end> <end> <end> <end> <end> <end> <end>', 'yes <end> <end> <end> <end> <end> <end> <end> <end> <end> <end> <end> <end> <end> <end> <end>', 'cnn <end> <end> <end> <end> <end> <end> <end> <end> <end> <end> <end> <end> <end> <end> <end>', 'yes <end> <end> <end> <end> <end> <end> <end> <end> <end> <end> <end> <end> <end> <end> <end>', 'george <end> <end> <end> <end> <end> <end> <end> <end> <end> <end> <end> <end> <end> <end> <end>', 'no <end> <end> <end> <end> <end> <end> <end> <end> <end> <end> <end> <end> <end> <end> <end>', 'yes <end> <end> <end> <end> <end> <end> <end> <end> <end> <end> <end> <end> <end> <end> <end>', 'clarence <end> <end> <end> <end> <end> <end> <end> <end> <end> <end> <end> <end> <end> <end> <end>', 'no <end> <end> <end> <end> <end> <end> <end> <end> <end> <end> <end> <end> <end> <end> <end>', 'yes <end> <end> <end> <end> <end> <end> <end> <end> <end> <end> <end> <end> <end> <end> <end>', 'no <end> <end> <end> <end> <end> <end> <end> <end> <end> <end> <end> <end> <end> <end> <end>', 'no <end> <end> <end> <end> <end> <end> <end> <end> <end> <end> <end> <end> <end> <end> <end>', 'he he he lover lover for for for for for for for for for for for', 'yes <end> <end> <end> <end> <end> <end> <end> <end> <end> <end> <end> <end> <end> <end> <end>', 'financial <end> <end> <end> <end> <end> <end> <end> <end> <end> <end> <end> <end> <end> <end> <end>', 'yes <end> <end> <end> <end> <end> <end> <end> <end> <end> <end> <end> <end> <end> <end> <end>', 'alexander <end> <end> <end> <end> <end> <end> <end> <end> <end> <end> <end> <end> <end> <end> <end>', 'tuesday <end> <end> <end> <end> <end> <end> <end> <end> <end> <end> <end> <end> <end> <end> <end>', 'captain putnam <end> <end> <end> <end> <end> <end> <end> <end> <end> <end> <end> <end> <end> <end>', 'run <end> <end> <end> <end> <end> <end> <end> <end> <end> <end> <end> <end> <end> <end> <end>', 'yes. <end> <end> <end> <end> <end> <end> <end> <end> <end> <end> <end> <end> <end> <end> <end>', 'no. <end> <end> <end> <end> <end> <end> <end> <end> <end> <end> <end> <end> <end> <end> <end>', 'captain putnam <end> <end> <end> <end> <end> <end> <end> <end> <end> <end> <end> <end> <end> <end>', 'his <end> <end> <end> <end> <end> <end> <end> <end> <end> <end> <end> <end> <end> <end> <end>', 'tom sam. <end> <end> <end> <end> <end> <end> <end> <end> <end> <end> <end> <end> <end> <end>', 'you you you you you you you you you you you you you you you you', '<end> <end> <end> <end> <end> <end> <end> <end> <end> <end> <end> <end> <end> <end> <end> <end>']\n",
            "Loss - 0.012384702451527119\n"
          ]
        },
        {
          "output_type": "stream",
          "name": "stderr",
          "text": [
            "\r 38%|███▊      | 38/100 [02:26<04:21,  4.22s/it]"
          ]
        },
        {
          "output_type": "stream",
          "name": "stdout",
          "text": [
            "Translated - ['tunisia <end> <end> <end> <end> <end> <end> <end> <end> <end> <end> <end> <end> <end> <end> <end>', 'representatives chosen <end> <end> <end> <end> <end> <end> <end> <end> <end> <end> <end> <end> <end> <end>', 'sunday <end> <end> <end> <end> <end> <end> <end> <end> <end> <end> <end> <end> <end> <end> <end>', '1956 <end> <end> <end> <end> <end> <end> <end> <end> <end> <end> <end> <end> <end> <end> <end>', 'country its its <end> <end> <end> <end> <end> <end> <end> <end> <end> <end> <end> <end> <end>', 'menzah <end> <end> <end> <end> <end> <end> <end> <end> <end> <end> <end> <end> <end> <end> <end>', 'schools <end> <end> <end> <end> <end> <end> <end> <end> <end> <end> <end> <end> <end> <end> <end>', 'yes <end> <end> <end> <end> <end> <end> <end> <end> <end> <end> <end> <end> <end> <end> <end>', 'cnn <end> <end> <end> <end> <end> <end> <end> <end> <end> <end> <end> <end> <end> <end> <end>', 'yes <end> <end> <end> <end> <end> <end> <end> <end> <end> <end> <end> <end> <end> <end> <end>', 'george <end> <end> <end> <end> <end> <end> <end> <end> <end> <end> <end> <end> <end> <end> <end>', 'no <end> <end> <end> <end> <end> <end> <end> <end> <end> <end> <end> <end> <end> <end> <end>', 'yes <end> <end> <end> <end> <end> <end> <end> <end> <end> <end> <end> <end> <end> <end> <end>', 'clarence <end> <end> <end> <end> <end> <end> <end> <end> <end> <end> <end> <end> <end> <end> <end>', 'no <end> <end> <end> <end> <end> <end> <end> <end> <end> <end> <end> <end> <end> <end> <end>', 'yes <end> <end> <end> <end> <end> <end> <end> <end> <end> <end> <end> <end> <end> <end> <end>', 'no <end> <end> <end> <end> <end> <end> <end> <end> <end> <end> <end> <end> <end> <end> <end>', 'no <end> <end> <end> <end> <end> <end> <end> <end> <end> <end> <end> <end> <end> <end> <end>', 'he he lover for <end> <end> <end> <end> <end> <end> <end> <end> <end> <end> <end> <end>', 'yes <end> <end> <end> <end> <end> <end> <end> <end> <end> <end> <end> <end> <end> <end> <end>', 'financial <end> <end> <end> <end> <end> <end> <end> <end> <end> <end> <end> <end> <end> <end> <end>', 'yes <end> <end> <end> <end> <end> <end> <end> <end> <end> <end> <end> <end> <end> <end> <end>', 'alexander <end> <end> <end> <end> <end> <end> <end> <end> <end> <end> <end> <end> <end> <end> <end>', 'tuesday <end> <end> <end> <end> <end> <end> <end> <end> <end> <end> <end> <end> <end> <end> <end>', 'captain putnam <end> <end> <end> <end> <end> <end> <end> <end> <end> <end> <end> <end> <end> <end>', 'run <end> <end> <end> <end> <end> <end> <end> <end> <end> <end> <end> <end> <end> <end> <end>', 'yes. <end> <end> <end> <end> <end> <end> <end> <end> <end> <end> <end> <end> <end> <end> <end>', 'no. <end> <end> <end> <end> <end> <end> <end> <end> <end> <end> <end> <end> <end> <end> <end>', 'captain putnam <end> <end> <end> <end> <end> <end> <end> <end> <end> <end> <end> <end> <end> <end>', 'his <end> <end> <end> <end> <end> <end> <end> <end> <end> <end> <end> <end> <end> <end> <end>', 'tom sam. <end> <end> <end> <end> <end> <end> <end> <end> <end> <end> <end> <end> <end> <end>', 'you you you you you you you you you you you you you you you you', '<end> <end> <end> <end> <end> <end> <end> <end> <end> <end> <end> <end> <end> <end> <end> <end>']\n",
            "Loss - 0.0028128938283771276\n",
            "Translated - ['tunisia <end> <end> <end> <end> <end> <end> <end> <end> <end> <end> <end> <end> <end> <end> <end>', 'representatives are chosen <end> <end> <end> <end> <end> <end> <end> <end> <end> <end> <end> <end> <end>', 'sunday <end> <end> <end> <end> <end> <end> <end> <end> <end> <end> <end> <end> <end> <end> <end>', '1956 <end> <end> <end> <end> <end> <end> <end> <end> <end> <end> <end> <end> <end> <end> <end>', 'country its its <end> <end> <end> <end> <end> <end> <end> <end> <end> <end> <end> <end> <end>', 'menzah <end> <end> <end> <end> <end> <end> <end> <end> <end> <end> <end> <end> <end> <end> <end>', 'schools <end> <end> <end> <end> <end> <end> <end> <end> <end> <end> <end> <end> <end> <end> <end>', 'yes <end> <end> <end> <end> <end> <end> <end> <end> <end> <end> <end> <end> <end> <end> <end>', 'cnn <end> <end> <end> <end> <end> <end> <end> <end> <end> <end> <end> <end> <end> <end> <end>', 'yes <end> <end> <end> <end> <end> <end> <end> <end> <end> <end> <end> <end> <end> <end> <end>', 'george <end> <end> <end> <end> <end> <end> <end> <end> <end> <end> <end> <end> <end> <end> <end>', 'no <end> <end> <end> <end> <end> <end> <end> <end> <end> <end> <end> <end> <end> <end> <end>', 'yes <end> <end> <end> <end> <end> <end> <end> <end> <end> <end> <end> <end> <end> <end> <end>', 'clarence <end> <end> <end> <end> <end> <end> <end> <end> <end> <end> <end> <end> <end> <end> <end>', 'no <end> <end> <end> <end> <end> <end> <end> <end> <end> <end> <end> <end> <end> <end> <end>', 'yes <end> <end> <end> <end> <end> <end> <end> <end> <end> <end> <end> <end> <end> <end> <end>', 'no <end> <end> <end> <end> <end> <end> <end> <end> <end> <end> <end> <end> <end> <end> <end>', 'no <end> <end> <end> <end> <end> <end> <end> <end> <end> <end> <end> <end> <end> <end> <end>', 'he lover <end> <end> <end> <end> <end> <end> <end> <end> <end> <end> <end> <end> <end> <end>', 'yes <end> <end> <end> <end> <end> <end> <end> <end> <end> <end> <end> <end> <end> <end> <end>', 'financial <end> <end> <end> <end> <end> <end> <end> <end> <end> <end> <end> <end> <end> <end> <end>', 'yes <end> <end> <end> <end> <end> <end> <end> <end> <end> <end> <end> <end> <end> <end> <end>', 'alexander <end> <end> <end> <end> <end> <end> <end> <end> <end> <end> <end> <end> <end> <end> <end>', 'tuesday <end> <end> <end> <end> <end> <end> <end> <end> <end> <end> <end> <end> <end> <end> <end>', 'captain putnam <end> <end> <end> <end> <end> <end> <end> <end> <end> <end> <end> <end> <end> <end>', 'run <end> <end> <end> <end> <end> <end> <end> <end> <end> <end> <end> <end> <end> <end> <end>', 'yes. <end> <end> <end> <end> <end> <end> <end> <end> <end> <end> <end> <end> <end> <end> <end>', 'no. <end> <end> <end> <end> <end> <end> <end> <end> <end> <end> <end> <end> <end> <end> <end>', 'captain putnam <end> <end> <end> <end> <end> <end> <end> <end> <end> <end> <end> <end> <end> <end>', 'his <end> <end> <end> <end> <end> <end> <end> <end> <end> <end> <end> <end> <end> <end> <end>', 'tom sam. sam. <end> <end> <end> <end> <end> <end> <end> <end> <end> <end> <end> <end> <end>', 'you you you you you you you you you you you you you you you you', '<end> <end> <end> <end> <end> <end> <end> <end> <end> <end> <end> <end> <end> <end> <end> <end>']\n",
            "Loss - 0.012234535068273544\n"
          ]
        },
        {
          "output_type": "stream",
          "name": "stderr",
          "text": [
            "\r 39%|███▉      | 39/100 [02:30<04:23,  4.31s/it]"
          ]
        },
        {
          "output_type": "stream",
          "name": "stdout",
          "text": [
            "Translated - ['tunisia <end> <end> <end> <end> <end> <end> <end> <end> <end> <end> <end> <end> <end> <end> <end>', 'representatives representatives chosen <end> <end> <end> <end> <end> <end> <end> <end> <end> <end> <end> <end> <end>', 'sunday <end> <end> <end> <end> <end> <end> <end> <end> <end> <end> <end> <end> <end> <end> <end>', '1956 <end> <end> <end> <end> <end> <end> <end> <end> <end> <end> <end> <end> <end> <end> <end>', 'country gained its <end> <end> <end> <end> <end> <end> <end> <end> <end> <end> <end> <end> <end>', 'menzah menzah <end> <end> <end> <end> <end> <end> <end> <end> <end> <end> <end> <end> <end> <end>', 'schools <end> <end> <end> <end> <end> <end> <end> <end> <end> <end> <end> <end> <end> <end> <end>', 'yes <end> <end> <end> <end> <end> <end> <end> <end> <end> <end> <end> <end> <end> <end> <end>', 'cnn <end> <end> <end> <end> <end> <end> <end> <end> <end> <end> <end> <end> <end> <end> <end>', 'yes <end> <end> <end> <end> <end> <end> <end> <end> <end> <end> <end> <end> <end> <end> <end>', 'george <end> <end> <end> <end> <end> <end> <end> <end> <end> <end> <end> <end> <end> <end> <end>', 'no <end> <end> <end> <end> <end> <end> <end> <end> <end> <end> <end> <end> <end> <end> <end>', 'yes <end> <end> <end> <end> <end> <end> <end> <end> <end> <end> <end> <end> <end> <end> <end>', 'clarence <end> <end> <end> <end> <end> <end> <end> <end> <end> <end> <end> <end> <end> <end> <end>', 'no <end> <end> <end> <end> <end> <end> <end> <end> <end> <end> <end> <end> <end> <end> <end>', 'yes <end> <end> <end> <end> <end> <end> <end> <end> <end> <end> <end> <end> <end> <end> <end>', 'no <end> <end> <end> <end> <end> <end> <end> <end> <end> <end> <end> <end> <end> <end> <end>', 'no <end> <end> <end> <end> <end> <end> <end> <end> <end> <end> <end> <end> <end> <end> <end>', 'he lover for for <end> <end> <end> <end> <end> <end> <end> <end> <end> <end> <end> <end>', 'yes <end> <end> <end> <end> <end> <end> <end> <end> <end> <end> <end> <end> <end> <end> <end>', 'financial <end> <end> <end> <end> <end> <end> <end> <end> <end> <end> <end> <end> <end> <end> <end>', 'yes <end> <end> <end> <end> <end> <end> <end> <end> <end> <end> <end> <end> <end> <end> <end>', 'alexander <end> <end> <end> <end> <end> <end> <end> <end> <end> <end> <end> <end> <end> <end> <end>', 'tuesday <end> <end> <end> <end> <end> <end> <end> <end> <end> <end> <end> <end> <end> <end> <end>', 'captain <end> <end> <end> <end> <end> <end> <end> <end> <end> <end> <end> <end> <end> <end> <end>', 'run <end> <end> <end> <end> <end> <end> <end> <end> <end> <end> <end> <end> <end> <end> <end>', 'yes. <end> <end> <end> <end> <end> <end> <end> <end> <end> <end> <end> <end> <end> <end> <end>', 'no. <end> <end> <end> <end> <end> <end> <end> <end> <end> <end> <end> <end> <end> <end> <end>', 'captain <end> <end> <end> <end> <end> <end> <end> <end> <end> <end> <end> <end> <end> <end> <end>', 'his <end> <end> <end> <end> <end> <end> <end> <end> <end> <end> <end> <end> <end> <end> <end>', 'tom and sam. <end> <end> <end> <end> <end> <end> <end> <end> <end> <end> <end> <end> <end>', 'you you you you you you you you you you you you you you you you', '<end> <end> <end> <end> <end> <end> <end> <end> <end> <end> <end> <end> <end> <end> <end> <end>']\n",
            "Loss - 0.0024880673736333847\n",
            "Translated - ['tunisia <end> <end> <end> <end> <end> <end> <end> <end> <end> <end> <end> <end> <end> <end> <end>', 'representatives representatives chosen <end> <end> <end> <end> <end> <end> <end> <end> <end> <end> <end> <end> <end>', 'sunday <end> <end> <end> <end> <end> <end> <end> <end> <end> <end> <end> <end> <end> <end> <end>', '1956 <end> <end> <end> <end> <end> <end> <end> <end> <end> <end> <end> <end> <end> <end> <end>', 'country gained its <end> <end> <end> <end> <end> <end> <end> <end> <end> <end> <end> <end> <end>', 'menzah neighborhood <end> <end> <end> <end> <end> <end> <end> <end> <end> <end> <end> <end> <end> <end>', 'schools <end> <end> <end> <end> <end> <end> <end> <end> <end> <end> <end> <end> <end> <end> <end>', 'yes <end> <end> <end> <end> <end> <end> <end> <end> <end> <end> <end> <end> <end> <end> <end>', 'cnn <end> <end> <end> <end> <end> <end> <end> <end> <end> <end> <end> <end> <end> <end> <end>', 'yes <end> <end> <end> <end> <end> <end> <end> <end> <end> <end> <end> <end> <end> <end> <end>', 'george <end> <end> <end> <end> <end> <end> <end> <end> <end> <end> <end> <end> <end> <end> <end>', 'no <end> <end> <end> <end> <end> <end> <end> <end> <end> <end> <end> <end> <end> <end> <end>', 'yes <end> <end> <end> <end> <end> <end> <end> <end> <end> <end> <end> <end> <end> <end> <end>', 'clarence <end> <end> <end> <end> <end> <end> <end> <end> <end> <end> <end> <end> <end> <end> <end>', 'no <end> <end> <end> <end> <end> <end> <end> <end> <end> <end> <end> <end> <end> <end> <end>', 'yes <end> <end> <end> <end> <end> <end> <end> <end> <end> <end> <end> <end> <end> <end> <end>', 'no <end> <end> <end> <end> <end> <end> <end> <end> <end> <end> <end> <end> <end> <end> <end>', 'no <end> <end> <end> <end> <end> <end> <end> <end> <end> <end> <end> <end> <end> <end> <end>', 'he he lover for for for for for for for for for for for for for', 'yes <end> <end> <end> <end> <end> <end> <end> <end> <end> <end> <end> <end> <end> <end> <end>', 'financial <end> <end> <end> <end> <end> <end> <end> <end> <end> <end> <end> <end> <end> <end> <end>', 'yes <end> <end> <end> <end> <end> <end> <end> <end> <end> <end> <end> <end> <end> <end> <end>', 'alexander <end> <end> <end> <end> <end> <end> <end> <end> <end> <end> <end> <end> <end> <end> <end>', 'tuesday <end> <end> <end> <end> <end> <end> <end> <end> <end> <end> <end> <end> <end> <end> <end>', 'captain <end> <end> <end> <end> <end> <end> <end> <end> <end> <end> <end> <end> <end> <end> <end>', 'run <end> <end> <end> <end> <end> <end> <end> <end> <end> <end> <end> <end> <end> <end> <end>', 'yes. <end> <end> <end> <end> <end> <end> <end> <end> <end> <end> <end> <end> <end> <end> <end>', 'no. <end> <end> <end> <end> <end> <end> <end> <end> <end> <end> <end> <end> <end> <end> <end>', 'captain <end> <end> <end> <end> <end> <end> <end> <end> <end> <end> <end> <end> <end> <end> <end>', 'his <end> <end> <end> <end> <end> <end> <end> <end> <end> <end> <end> <end> <end> <end> <end>', 'tom and <end> <end> <end> <end> <end> <end> <end> <end> <end> <end> <end> <end> <end> <end>', 'you you you you you you you you you <end> <end> <end> <end> <end> <end> <end>', '<end> <end> <end> <end> <end> <end> <end> <end> <end> <end> <end> <end> <end> <end> <end> <end>']\n",
            "Loss - 0.01190224103629589\n"
          ]
        },
        {
          "output_type": "stream",
          "name": "stderr",
          "text": [
            "\r 40%|████      | 40/100 [02:34<04:03,  4.06s/it]"
          ]
        },
        {
          "output_type": "stream",
          "name": "stdout",
          "text": [
            "Translated - ['tunisia <end> <end> <end> <end> <end> <end> <end> <end> <end> <end> <end> <end> <end> <end> <end>', 'representatives representatives being <end> <end> <end> <end> <end> <end> <end> <end> <end> <end> <end> <end> <end>', 'sunday <end> <end> <end> <end> <end> <end> <end> <end> <end> <end> <end> <end> <end> <end> <end>', '1956 <end> <end> <end> <end> <end> <end> <end> <end> <end> <end> <end> <end> <end> <end> <end>', 'country gained its <end> <end> <end> <end> <end> <end> <end> <end> <end> <end> <end> <end> <end>', 'menzah neighborhood <end> <end> <end> <end> <end> <end> <end> <end> <end> <end> <end> <end> <end> <end>', 'schools <end> <end> <end> <end> <end> <end> <end> <end> <end> <end> <end> <end> <end> <end> <end>', 'yes <end> <end> <end> <end> <end> <end> <end> <end> <end> <end> <end> <end> <end> <end> <end>', 'cnn <end> <end> <end> <end> <end> <end> <end> <end> <end> <end> <end> <end> <end> <end> <end>', 'yes <end> <end> <end> <end> <end> <end> <end> <end> <end> <end> <end> <end> <end> <end> <end>', 'george <end> <end> <end> <end> <end> <end> <end> <end> <end> <end> <end> <end> <end> <end> <end>', 'no <end> <end> <end> <end> <end> <end> <end> <end> <end> <end> <end> <end> <end> <end> <end>', 'yes <end> <end> <end> <end> <end> <end> <end> <end> <end> <end> <end> <end> <end> <end> <end>', 'clarence <end> <end> <end> <end> <end> <end> <end> <end> <end> <end> <end> <end> <end> <end> <end>', 'no <end> <end> <end> <end> <end> <end> <end> <end> <end> <end> <end> <end> <end> <end> <end>', 'yes <end> <end> <end> <end> <end> <end> <end> <end> <end> <end> <end> <end> <end> <end> <end>', 'no <end> <end> <end> <end> <end> <end> <end> <end> <end> <end> <end> <end> <end> <end> <end>', 'no <end> <end> <end> <end> <end> <end> <end> <end> <end> <end> <end> <end> <end> <end> <end>', 'he he lover for for for for for for for for for for for for for', 'yes <end> <end> <end> <end> <end> <end> <end> <end> <end> <end> <end> <end> <end> <end> <end>', 'financial <end> <end> <end> <end> <end> <end> <end> <end> <end> <end> <end> <end> <end> <end> <end>', 'yes <end> <end> <end> <end> <end> <end> <end> <end> <end> <end> <end> <end> <end> <end> <end>', 'alexander <end> <end> <end> <end> <end> <end> <end> <end> <end> <end> <end> <end> <end> <end> <end>', 'tuesday <end> <end> <end> <end> <end> <end> <end> <end> <end> <end> <end> <end> <end> <end> <end>', 'captain <end> <end> <end> <end> <end> <end> <end> <end> <end> <end> <end> <end> <end> <end> <end>', 'run <end> <end> <end> <end> <end> <end> <end> <end> <end> <end> <end> <end> <end> <end> <end>', 'yes. <end> <end> <end> <end> <end> <end> <end> <end> <end> <end> <end> <end> <end> <end> <end>', 'no. <end> <end> <end> <end> <end> <end> <end> <end> <end> <end> <end> <end> <end> <end> <end>', 'captain <end> <end> <end> <end> <end> <end> <end> <end> <end> <end> <end> <end> <end> <end> <end>', \"his father's <end> <end> <end> <end> <end> <end> <end> <end> <end> <end> <end> <end> <end> <end>\", 'tom and <end> <end> <end> <end> <end> <end> <end> <end> <end> <end> <end> <end> <end> <end>', 'you you you you you you you you you you you you you you you you', '<end> <end> <end> <end> <end> <end> <end> <end> <end> <end> <end> <end> <end> <end> <end> <end>']\n",
            "Loss - 0.0024087412748485804\n",
            "Translated - ['tunisia <end> <end> <end> <end> <end> <end> <end> <end> <end> <end> <end> <end> <end> <end> <end>', 'representatives are <end> <end> <end> <end> <end> <end> <end> <end> <end> <end> <end> <end> <end> <end>', 'sunday <end> <end> <end> <end> <end> <end> <end> <end> <end> <end> <end> <end> <end> <end> <end>', '1956 <end> <end> <end> <end> <end> <end> <end> <end> <end> <end> <end> <end> <end> <end> <end>', 'country its its <end> <end> <end> <end> <end> <end> <end> <end> <end> <end> <end> <end> <end>', 'menzah <end> <end> <end> <end> <end> <end> <end> <end> <end> <end> <end> <end> <end> <end> <end>', 'schools <end> <end> <end> <end> <end> <end> <end> <end> <end> <end> <end> <end> <end> <end> <end>', 'yes <end> <end> <end> <end> <end> <end> <end> <end> <end> <end> <end> <end> <end> <end> <end>', 'cnn <end> <end> <end> <end> <end> <end> <end> <end> <end> <end> <end> <end> <end> <end> <end>', 'yes <end> <end> <end> <end> <end> <end> <end> <end> <end> <end> <end> <end> <end> <end> <end>', 'george <end> <end> <end> <end> <end> <end> <end> <end> <end> <end> <end> <end> <end> <end> <end>', 'no <end> <end> <end> <end> <end> <end> <end> <end> <end> <end> <end> <end> <end> <end> <end>', 'yes <end> <end> <end> <end> <end> <end> <end> <end> <end> <end> <end> <end> <end> <end> <end>', 'clarence <end> <end> <end> <end> <end> <end> <end> <end> <end> <end> <end> <end> <end> <end> <end>', 'no <end> <end> <end> <end> <end> <end> <end> <end> <end> <end> <end> <end> <end> <end> <end>', 'yes <end> <end> <end> <end> <end> <end> <end> <end> <end> <end> <end> <end> <end> <end> <end>', 'no <end> <end> <end> <end> <end> <end> <end> <end> <end> <end> <end> <end> <end> <end> <end>', 'no <end> <end> <end> <end> <end> <end> <end> <end> <end> <end> <end> <end> <end> <end> <end>', 'he he lover lover for for for for for for for for for for for for', 'yes <end> <end> <end> <end> <end> <end> <end> <end> <end> <end> <end> <end> <end> <end> <end>', 'financial <end> <end> <end> <end> <end> <end> <end> <end> <end> <end> <end> <end> <end> <end> <end>', 'yes <end> <end> <end> <end> <end> <end> <end> <end> <end> <end> <end> <end> <end> <end> <end>', 'alexander <end> <end> <end> <end> <end> <end> <end> <end> <end> <end> <end> <end> <end> <end> <end>', 'tuesday <end> <end> <end> <end> <end> <end> <end> <end> <end> <end> <end> <end> <end> <end> <end>', 'captain <end> <end> <end> <end> <end> <end> <end> <end> <end> <end> <end> <end> <end> <end> <end>', 'run <end> <end> <end> <end> <end> <end> <end> <end> <end> <end> <end> <end> <end> <end> <end>', 'yes. <end> <end> <end> <end> <end> <end> <end> <end> <end> <end> <end> <end> <end> <end> <end>', 'no. <end> <end> <end> <end> <end> <end> <end> <end> <end> <end> <end> <end> <end> <end> <end>', 'captain <end> <end> <end> <end> <end> <end> <end> <end> <end> <end> <end> <end> <end> <end> <end>', \"his father's <end> <end> <end> <end> <end> <end> <end> <end> <end> <end> <end> <end> <end> <end>\", 'tom and <end> <end> <end> <end> <end> <end> <end> <end> <end> <end> <end> <end> <end> <end>', 'you you you you you you you you you you you you you you you you', 'his <end> <end> <end> <end> <end> <end> <end> <end> <end> <end> <end> <end> <end> <end> <end>']\n",
            "Loss - 0.011785082519054413\n"
          ]
        },
        {
          "output_type": "stream",
          "name": "stderr",
          "text": [
            "\r 41%|████      | 41/100 [02:37<03:48,  3.88s/it]"
          ]
        },
        {
          "output_type": "stream",
          "name": "stdout",
          "text": [
            "Translated - ['tunisia <end> <end> <end> <end> <end> <end> <end> <end> <end> <end> <end> <end> <end> <end> <end>', 'representatives are <end> <end> <end> <end> <end> <end> <end> <end> <end> <end> <end> <end> <end> <end>', 'sunday <end> <end> <end> <end> <end> <end> <end> <end> <end> <end> <end> <end> <end> <end> <end>', '1956 <end> <end> <end> <end> <end> <end> <end> <end> <end> <end> <end> <end> <end> <end> <end>', 'country its its <end> <end> <end> <end> <end> <end> <end> <end> <end> <end> <end> <end> <end>', 'menzah <end> <end> <end> <end> <end> <end> <end> <end> <end> <end> <end> <end> <end> <end> <end>', 'schools <end> <end> <end> <end> <end> <end> <end> <end> <end> <end> <end> <end> <end> <end> <end>', 'yes <end> <end> <end> <end> <end> <end> <end> <end> <end> <end> <end> <end> <end> <end> <end>', 'cnn <end> <end> <end> <end> <end> <end> <end> <end> <end> <end> <end> <end> <end> <end> <end>', 'yes <end> <end> <end> <end> <end> <end> <end> <end> <end> <end> <end> <end> <end> <end> <end>', 'george <end> <end> <end> <end> <end> <end> <end> <end> <end> <end> <end> <end> <end> <end> <end>', 'no <end> <end> <end> <end> <end> <end> <end> <end> <end> <end> <end> <end> <end> <end> <end>', 'yes <end> <end> <end> <end> <end> <end> <end> <end> <end> <end> <end> <end> <end> <end> <end>', 'clarence <end> <end> <end> <end> <end> <end> <end> <end> <end> <end> <end> <end> <end> <end> <end>', 'no <end> <end> <end> <end> <end> <end> <end> <end> <end> <end> <end> <end> <end> <end> <end>', 'yes <end> <end> <end> <end> <end> <end> <end> <end> <end> <end> <end> <end> <end> <end> <end>', 'no <end> <end> <end> <end> <end> <end> <end> <end> <end> <end> <end> <end> <end> <end> <end>', 'no <end> <end> <end> <end> <end> <end> <end> <end> <end> <end> <end> <end> <end> <end> <end>', 'he he lover for for <end> <end> <end> <end> <end> <end> <end> <end> <end> <end> <end>', 'yes <end> <end> <end> <end> <end> <end> <end> <end> <end> <end> <end> <end> <end> <end> <end>', 'financial <end> <end> <end> <end> <end> <end> <end> <end> <end> <end> <end> <end> <end> <end> <end>', 'yes <end> <end> <end> <end> <end> <end> <end> <end> <end> <end> <end> <end> <end> <end> <end>', 'alexander <end> <end> <end> <end> <end> <end> <end> <end> <end> <end> <end> <end> <end> <end> <end>', 'tuesday <end> <end> <end> <end> <end> <end> <end> <end> <end> <end> <end> <end> <end> <end> <end>', 'captain putnam <end> <end> <end> <end> <end> <end> <end> <end> <end> <end> <end> <end> <end> <end>', 'run <end> <end> <end> <end> <end> <end> <end> <end> <end> <end> <end> <end> <end> <end> <end>', 'yes. <end> <end> <end> <end> <end> <end> <end> <end> <end> <end> <end> <end> <end> <end> <end>', 'no. <end> <end> <end> <end> <end> <end> <end> <end> <end> <end> <end> <end> <end> <end> <end>', 'captain putnam <end> <end> <end> <end> <end> <end> <end> <end> <end> <end> <end> <end> <end> <end>', \"his father's <end> <end> <end> <end> <end> <end> <end> <end> <end> <end> <end> <end> <end> <end>\", 'tom and <end> <end> <end> <end> <end> <end> <end> <end> <end> <end> <end> <end> <end> <end>', 'you you you you you you you you you you you you you you you you', 'his <end> <end> <end> <end> <end> <end> <end> <end> <end> <end> <end> <end> <end> <end> <end>']\n",
            "Loss - 0.0024375917855650187\n",
            "Translated - ['tunisia <end> <end> <end> <end> <end> <end> <end> <end> <end> <end> <end> <end>', 'representatives are chosen <end> <end> <end> <end> <end> <end> <end> <end> <end> <end>', 'sunday <end> <end> <end> <end> <end> <end> <end> <end> <end> <end> <end> <end>', '1956 <end> <end> <end> <end> <end> <end> <end> <end> <end> <end> <end> <end>', 'country gained its <end> <end> <end> <end> <end> <end> <end> <end> <end> <end>', 'menzah neighborhood <end> <end> <end> <end> <end> <end> <end> <end> <end> <end> <end>', 'schools <end> <end> <end> <end> <end> <end> <end> <end> <end> <end> <end> <end>', 'yes <end> <end> <end> <end> <end> <end> <end> <end> <end> <end> <end> <end>', 'cnn <end> <end> <end> <end> <end> <end> <end> <end> <end> <end> <end> <end>', 'yes <end> <end> <end> <end> <end> <end> <end> <end> <end> <end> <end> <end>', 'george <end> <end> <end> <end> <end> <end> <end> <end> <end> <end> <end> <end>', 'no <end> <end> <end> <end> <end> <end> <end> <end> <end> <end> <end> <end>', 'yes <end> <end> <end> <end> <end> <end> <end> <end> <end> <end> <end> <end>', 'clarence <end> <end> <end> <end> <end> <end> <end> <end> <end> <end> <end> <end>', 'no <end> <end> <end> <end> <end> <end> <end> <end> <end> <end> <end> <end>', 'yes <end> <end> <end> <end> <end> <end> <end> <end> <end> <end> <end> <end>', 'no <end> <end> <end> <end> <end> <end> <end> <end> <end> <end> <end> <end>', 'no <end> <end> <end> <end> <end> <end> <end> <end> <end> <end> <end> <end>', 'he lacked lover for for <end> <end> <end> <end> <end> <end> <end> <end>', 'yes <end> <end> <end> <end> <end> <end> <end> <end> <end> <end> <end> <end>', 'financial <end> <end> <end> <end> <end> <end> <end> <end> <end> <end> <end> <end>', 'yes <end> <end> <end> <end> <end> <end> <end> <end> <end> <end> <end> <end>', 'alexander <end> <end> <end> <end> <end> <end> <end> <end> <end> <end> <end> <end>', 'tuesday <end> <end> <end> <end> <end> <end> <end> <end> <end> <end> <end> <end>', 'captain putnam <end> <end> <end> <end> <end> <end> <end> <end> <end> <end> <end>', 'run away <end> <end> <end> <end> <end> <end> <end> <end> <end> <end> <end>', 'yes. <end> <end> <end> <end> <end> <end> <end> <end> <end> <end> <end> <end>', 'no. <end> <end> <end> <end> <end> <end> <end> <end> <end> <end> <end> <end>', 'captain putnam <end> <end> <end> <end> <end> <end> <end> <end> <end> <end> <end>', \"his father's <end> <end> <end> <end> <end> <end> <end> <end> <end> <end> <end>\", 'tom sam. <end> <end> <end> <end> <end> <end> <end> <end> <end> <end> <end>', 'you you you you you you you you you you you you <end>', 'his <end> <end> <end> <end> <end> <end> <end> <end> <end> <end> <end> <end>']\n",
            "Loss - 0.011449280194938183\n"
          ]
        },
        {
          "output_type": "stream",
          "name": "stderr",
          "text": [
            "\r 42%|████▏     | 42/100 [02:42<03:57,  4.10s/it]"
          ]
        },
        {
          "output_type": "stream",
          "name": "stdout",
          "text": [
            "Translated - ['tunisia <end> <end> <end> <end> <end> <end> <end> <end> <end> <end> <end> <end> <end> <end> <end>', 'representatives are chosen chosen chosen chosen chosen chosen chosen chosen chosen chosen chosen chosen chosen chosen', 'sunday <end> <end> <end> <end> <end> <end> <end> <end> <end> <end> <end> <end> <end> <end> <end>', '1956 <end> <end> <end> <end> <end> <end> <end> <end> <end> <end> <end> <end> <end> <end> <end>', 'country gained gained its <end> <end> <end> <end> <end> <end> <end> <end> <end> <end> <end> <end>', 'menzah neighborhood neighborhood <end> <end> <end> <end> <end> <end> <end> <end> <end> <end> <end> <end> <end>', 'schools <end> <end> <end> <end> <end> <end> <end> <end> <end> <end> <end> <end> <end> <end> <end>', 'yes <end> <end> <end> <end> <end> <end> <end> <end> <end> <end> <end> <end> <end> <end> <end>', 'cnn <end> <end> <end> <end> <end> <end> <end> <end> <end> <end> <end> <end> <end> <end> <end>', 'yes <end> <end> <end> <end> <end> <end> <end> <end> <end> <end> <end> <end> <end> <end> <end>', 'george <end> <end> <end> <end> <end> <end> <end> <end> <end> <end> <end> <end> <end> <end> <end>', 'no <end> <end> <end> <end> <end> <end> <end> <end> <end> <end> <end> <end> <end> <end> <end>', 'yes <end> <end> <end> <end> <end> <end> <end> <end> <end> <end> <end> <end> <end> <end> <end>', 'clarence <end> <end> <end> <end> <end> <end> <end> <end> <end> <end> <end> <end> <end> <end> <end>', 'no <end> <end> <end> <end> <end> <end> <end> <end> <end> <end> <end> <end> <end> <end> <end>', 'yes <end> <end> <end> <end> <end> <end> <end> <end> <end> <end> <end> <end> <end> <end> <end>', 'no <end> <end> <end> <end> <end> <end> <end> <end> <end> <end> <end> <end> <end> <end> <end>', 'no <end> <end> <end> <end> <end> <end> <end> <end> <end> <end> <end> <end> <end> <end> <end>', 'he he lover for for <end> <end> <end> <end> <end> <end> <end> <end> <end> <end> <end>', 'yes <end> <end> <end> <end> <end> <end> <end> <end> <end> <end> <end> <end> <end> <end> <end>', 'financial <end> <end> <end> <end> <end> <end> <end> <end> <end> <end> <end> <end> <end> <end> <end>', 'yes <end> <end> <end> <end> <end> <end> <end> <end> <end> <end> <end> <end> <end> <end> <end>', 'alexander <end> <end> <end> <end> <end> <end> <end> <end> <end> <end> <end> <end> <end> <end> <end>', 'tuesday <end> <end> <end> <end> <end> <end> <end> <end> <end> <end> <end> <end> <end> <end> <end>', 'captain putnam <end> <end> <end> <end> <end> <end> <end> <end> <end> <end> <end> <end> <end> <end>', 'run away <end> <end> <end> <end> <end> <end> <end> <end> <end> <end> <end> <end> <end> <end>', 'yes. <end> <end> <end> <end> <end> <end> <end> <end> <end> <end> <end> <end> <end> <end> <end>', 'no. <end> <end> <end> <end> <end> <end> <end> <end> <end> <end> <end> <end> <end> <end> <end>', 'captain putnam <end> <end> <end> <end> <end> <end> <end> <end> <end> <end> <end> <end> <end> <end>', \"his father's <end> <end> <end> <end> <end> <end> <end> <end> <end> <end> <end> <end> <end> <end>\", 'tom sam. sam. <end> <end> <end> <end> <end> <end> <end> <end> <end> <end> <end> <end> <end>', 'you you you you you you you you you you <end> <end> <end> <end> <end> <end>', 'his <end> <end> <end> <end> <end> <end> <end> <end> <end> <end> <end> <end> <end> <end> <end>']\n",
            "Loss - 0.0023165387101471424\n",
            "Translated - ['tunisia <end> <end> <end> <end> <end> <end> <end> <end>', 'representatives are chosen <end> <end> <end> <end> <end> <end>', 'sunday <end> <end> <end> <end> <end> <end> <end> <end>', '1956 <end> <end> <end> <end> <end> <end> <end> <end>', 'country gained its <end> <end> <end> <end> <end> <end>', 'menzah neighborhood <end> <end> <end> <end> <end> <end> <end>', 'schools <end> <end> <end> <end> <end> <end> <end> <end>', 'yes <end> <end> <end> <end> <end> <end> <end> <end>', 'cnn <end> <end> <end> <end> <end> <end> <end> <end>', 'yes <end> <end> <end> <end> <end> <end> <end> <end>', 'george <end> <end> <end> <end> <end> <end> <end> <end>', 'no <end> <end> <end> <end> <end> <end> <end> <end>', 'yes <end> <end> <end> <end> <end> <end> <end> <end>', 'clarence <end> <end> <end> <end> <end> <end> <end> <end>', 'no <end> <end> <end> <end> <end> <end> <end> <end>', 'yes <end> <end> <end> <end> <end> <end> <end> <end>', 'no <end> <end> <end> <end> <end> <end> <end> <end>', 'no <end> <end> <end> <end> <end> <end> <end> <end>', 'he he lover for <end> <end> <end> <end> <end>', 'yes <end> <end> <end> <end> <end> <end> <end> <end>', 'financial <end> <end> <end> <end> <end> <end> <end> <end>', 'yes <end> <end> <end> <end> <end> <end> <end> <end>', 'alexander <end> <end> <end> <end> <end> <end> <end> <end>', 'tuesday <end> <end> <end> <end> <end> <end> <end> <end>', 'captain putnam <end> <end> <end> <end> <end> <end> <end>', 'run <end> <end> <end> <end> <end> <end> <end> <end>', 'yes. <end> <end> <end> <end> <end> <end> <end> <end>', 'no. <end> <end> <end> <end> <end> <end> <end> <end>', 'captain <end> <end> <end> <end> <end> <end> <end> <end>', 'his <end> <end> <end> <end> <end> <end> <end> <end>', 'tom sam. <end> <end> <end> <end> <end> <end> <end>', 'you you you you you you you you <end>', 'his <end> <end> <end> <end> <end> <end> <end> <end>']\n",
            "Loss - 0.011296644806861877\n"
          ]
        },
        {
          "output_type": "stream",
          "name": "stderr",
          "text": [
            "\r 43%|████▎     | 43/100 [02:46<03:56,  4.15s/it]"
          ]
        },
        {
          "output_type": "stream",
          "name": "stdout",
          "text": [
            "Translated - ['tunisia <end> <end> <end> <end> <end> <end> <end> <end> <end> <end> <end> <end> <end> <end> <end>', 'representatives representatives chosen <end> <end> <end> <end> <end> <end> <end> <end> <end> <end> <end> <end> <end>', 'sunday <end> <end> <end> <end> <end> <end> <end> <end> <end> <end> <end> <end> <end> <end> <end>', '1956 <end> <end> <end> <end> <end> <end> <end> <end> <end> <end> <end> <end> <end> <end> <end>', 'country gained its <end> <end> <end> <end> <end> <end> <end> <end> <end> <end> <end> <end> <end>', 'menzah neighborhood <end> <end> <end> <end> <end> <end> <end> <end> <end> <end> <end> <end> <end> <end>', 'schools <end> <end> <end> <end> <end> <end> <end> <end> <end> <end> <end> <end> <end> <end> <end>', 'yes <end> <end> <end> <end> <end> <end> <end> <end> <end> <end> <end> <end> <end> <end> <end>', 'cnn <end> <end> <end> <end> <end> <end> <end> <end> <end> <end> <end> <end> <end> <end> <end>', 'yes <end> <end> <end> <end> <end> <end> <end> <end> <end> <end> <end> <end> <end> <end> <end>', 'george <end> <end> <end> <end> <end> <end> <end> <end> <end> <end> <end> <end> <end> <end> <end>', 'no <end> <end> <end> <end> <end> <end> <end> <end> <end> <end> <end> <end> <end> <end> <end>', 'yes <end> <end> <end> <end> <end> <end> <end> <end> <end> <end> <end> <end> <end> <end> <end>', 'clarence <end> <end> <end> <end> <end> <end> <end> <end> <end> <end> <end> <end> <end> <end> <end>', 'no <end> <end> <end> <end> <end> <end> <end> <end> <end> <end> <end> <end> <end> <end> <end>', 'yes <end> <end> <end> <end> <end> <end> <end> <end> <end> <end> <end> <end> <end> <end> <end>', 'no <end> <end> <end> <end> <end> <end> <end> <end> <end> <end> <end> <end> <end> <end> <end>', 'no <end> <end> <end> <end> <end> <end> <end> <end> <end> <end> <end> <end> <end> <end> <end>', 'he he lover lover for for <end> <end> <end> <end> <end> <end> <end> <end> <end> <end>', 'yes <end> <end> <end> <end> <end> <end> <end> <end> <end> <end> <end> <end> <end> <end> <end>', 'financial <end> <end> <end> <end> <end> <end> <end> <end> <end> <end> <end> <end> <end> <end> <end>', 'yes <end> <end> <end> <end> <end> <end> <end> <end> <end> <end> <end> <end> <end> <end> <end>', 'alexander pop <end> <end> <end> <end> <end> <end> <end> <end> <end> <end> <end> <end> <end> <end>', 'tuesday <end> <end> <end> <end> <end> <end> <end> <end> <end> <end> <end> <end> <end> <end> <end>', 'captain putnam <end> <end> <end> <end> <end> <end> <end> <end> <end> <end> <end> <end> <end> <end>', 'run away <end> <end> <end> <end> <end> <end> <end> <end> <end> <end> <end> <end> <end> <end>', 'yes. <end> <end> <end> <end> <end> <end> <end> <end> <end> <end> <end> <end> <end> <end> <end>', 'no. <end> <end> <end> <end> <end> <end> <end> <end> <end> <end> <end> <end> <end> <end> <end>', 'captain putnam <end> <end> <end> <end> <end> <end> <end> <end> <end> <end> <end> <end> <end> <end>', \"his father's <end> <end> <end> <end> <end> <end> <end> <end> <end> <end> <end> <end> <end> <end>\", 'tom sam. sam. <end> <end> <end> <end> <end> <end> <end> <end> <end> <end> <end> <end> <end>', 'you you you you you you you you you you you you you you you <end>', 'his <end> <end> <end> <end> <end> <end> <end> <end> <end> <end> <end> <end> <end> <end> <end>']\n",
            "Loss - 0.002057790756225586\n",
            "Translated - ['tunisia <end> <end> <end> <end> <end> <end> <end> <end> <end> <end> <end> <end> <end> <end> <end>', 'representatives are chosen <end> <end> <end> <end> <end> <end> <end> <end> <end> <end> <end> <end> <end>', 'sunday <end> <end> <end> <end> <end> <end> <end> <end> <end> <end> <end> <end> <end> <end> <end>', '1956 <end> <end> <end> <end> <end> <end> <end> <end> <end> <end> <end> <end> <end> <end> <end>', 'country gained its <end> <end> <end> <end> <end> <end> <end> <end> <end> <end> <end> <end> <end>', 'menzah <end> <end> <end> <end> <end> <end> <end> <end> <end> <end> <end> <end> <end> <end> <end>', 'schools <end> <end> <end> <end> <end> <end> <end> <end> <end> <end> <end> <end> <end> <end> <end>', 'yes <end> <end> <end> <end> <end> <end> <end> <end> <end> <end> <end> <end> <end> <end> <end>', 'cnn <end> <end> <end> <end> <end> <end> <end> <end> <end> <end> <end> <end> <end> <end> <end>', 'yes <end> <end> <end> <end> <end> <end> <end> <end> <end> <end> <end> <end> <end> <end> <end>', 'george <end> <end> <end> <end> <end> <end> <end> <end> <end> <end> <end> <end> <end> <end> <end>', 'no <end> <end> <end> <end> <end> <end> <end> <end> <end> <end> <end> <end> <end> <end> <end>', 'yes <end> <end> <end> <end> <end> <end> <end> <end> <end> <end> <end> <end> <end> <end> <end>', 'clarence <end> <end> <end> <end> <end> <end> <end> <end> <end> <end> <end> <end> <end> <end> <end>', 'no <end> <end> <end> <end> <end> <end> <end> <end> <end> <end> <end> <end> <end> <end> <end>', 'yes <end> <end> <end> <end> <end> <end> <end> <end> <end> <end> <end> <end> <end> <end> <end>', 'no <end> <end> <end> <end> <end> <end> <end> <end> <end> <end> <end> <end> <end> <end> <end>', 'no <end> <end> <end> <end> <end> <end> <end> <end> <end> <end> <end> <end> <end> <end> <end>', 'he he lacked lover looked looked looked for for for <end> <end> <end> <end> <end> <end>', 'yes <end> <end> <end> <end> <end> <end> <end> <end> <end> <end> <end> <end> <end> <end> <end>', 'financial <end> <end> <end> <end> <end> <end> <end> <end> <end> <end> <end> <end> <end> <end> <end>', 'yes <end> <end> <end> <end> <end> <end> <end> <end> <end> <end> <end> <end> <end> <end> <end>', 'alexander alexander pop <end> <end> <end> <end> <end> <end> <end> <end> <end> <end> <end> <end> <end>', 'tuesday <end> <end> <end> <end> <end> <end> <end> <end> <end> <end> <end> <end> <end> <end> <end>', 'captain putnam <end> <end> <end> <end> <end> <end> <end> <end> <end> <end> <end> <end> <end> <end>', 'run away <end> <end> <end> <end> <end> <end> <end> <end> <end> <end> <end> <end> <end> <end>', 'yes. <end> <end> <end> <end> <end> <end> <end> <end> <end> <end> <end> <end> <end> <end> <end>', 'no. <end> <end> <end> <end> <end> <end> <end> <end> <end> <end> <end> <end> <end> <end> <end>', 'captain putnam <end> <end> <end> <end> <end> <end> <end> <end> <end> <end> <end> <end> <end> <end>', \"his father's <end> <end> <end> <end> <end> <end> <end> <end> <end> <end> <end> <end> <end> <end>\", 'tom and sam. <end> <end> <end> <end> <end> <end> <end> <end> <end> <end> <end> <end> <end>', 'you you you you you you you you you you you you you you you you', 'his <end> <end> <end> <end> <end> <end> <end> <end> <end> <end> <end> <end> <end> <end> <end>']\n",
            "Loss - 0.011390100233256817\n"
          ]
        },
        {
          "output_type": "stream",
          "name": "stderr",
          "text": [
            "\r 44%|████▍     | 44/100 [02:51<04:02,  4.32s/it]"
          ]
        },
        {
          "output_type": "stream",
          "name": "stdout",
          "text": [
            "Translated - ['tunisia <end> <end> <end> <end> <end> <end> <end> <end> <end> <end> <end> <end> <end> <end> <end>', 'representatives are <end> <end> <end> <end> <end> <end> <end> <end> <end> <end> <end> <end> <end> <end>', 'sunday <end> <end> <end> <end> <end> <end> <end> <end> <end> <end> <end> <end> <end> <end> <end>', '1956 <end> <end> <end> <end> <end> <end> <end> <end> <end> <end> <end> <end> <end> <end> <end>', 'country its <end> <end> <end> <end> <end> <end> <end> <end> <end> <end> <end> <end> <end> <end>', 'menzah <end> <end> <end> <end> <end> <end> <end> <end> <end> <end> <end> <end> <end> <end> <end>', 'schools <end> <end> <end> <end> <end> <end> <end> <end> <end> <end> <end> <end> <end> <end> <end>', 'yes <end> <end> <end> <end> <end> <end> <end> <end> <end> <end> <end> <end> <end> <end> <end>', 'cnn <end> <end> <end> <end> <end> <end> <end> <end> <end> <end> <end> <end> <end> <end> <end>', 'yes <end> <end> <end> <end> <end> <end> <end> <end> <end> <end> <end> <end> <end> <end> <end>', 'george <end> <end> <end> <end> <end> <end> <end> <end> <end> <end> <end> <end> <end> <end> <end>', 'no <end> <end> <end> <end> <end> <end> <end> <end> <end> <end> <end> <end> <end> <end> <end>', 'yes <end> <end> <end> <end> <end> <end> <end> <end> <end> <end> <end> <end> <end> <end> <end>', 'clarence <end> <end> <end> <end> <end> <end> <end> <end> <end> <end> <end> <end> <end> <end> <end>', 'no <end> <end> <end> <end> <end> <end> <end> <end> <end> <end> <end> <end> <end> <end> <end>', 'yes <end> <end> <end> <end> <end> <end> <end> <end> <end> <end> <end> <end> <end> <end> <end>', 'no <end> <end> <end> <end> <end> <end> <end> <end> <end> <end> <end> <end> <end> <end> <end>', 'no <end> <end> <end> <end> <end> <end> <end> <end> <end> <end> <end> <end> <end> <end> <end>', 'he he lover looked looked <end> <end> <end> <end> <end> <end> <end> <end> <end> <end> <end>', 'yes <end> <end> <end> <end> <end> <end> <end> <end> <end> <end> <end> <end> <end> <end> <end>', 'financial <end> <end> <end> <end> <end> <end> <end> <end> <end> <end> <end> <end> <end> <end> <end>', 'yes <end> <end> <end> <end> <end> <end> <end> <end> <end> <end> <end> <end> <end> <end> <end>', 'alexander <end> <end> <end> <end> <end> <end> <end> <end> <end> <end> <end> <end> <end> <end> <end>', 'tuesday <end> <end> <end> <end> <end> <end> <end> <end> <end> <end> <end> <end> <end> <end> <end>', 'captain <end> <end> <end> <end> <end> <end> <end> <end> <end> <end> <end> <end> <end> <end> <end>', 'run <end> <end> <end> <end> <end> <end> <end> <end> <end> <end> <end> <end> <end> <end> <end>', 'yes. <end> <end> <end> <end> <end> <end> <end> <end> <end> <end> <end> <end> <end> <end> <end>', 'no. <end> <end> <end> <end> <end> <end> <end> <end> <end> <end> <end> <end> <end> <end> <end>', 'captain <end> <end> <end> <end> <end> <end> <end> <end> <end> <end> <end> <end> <end> <end> <end>', \"his father's <end> <end> <end> <end> <end> <end> <end> <end> <end> <end> <end> <end> <end> <end>\", 'tom sam. <end> <end> <end> <end> <end> <end> <end> <end> <end> <end> <end> <end> <end> <end>', 'you you you you you you you you you you you you you you you you', 'his <end> <end> <end> <end> <end> <end> <end> <end> <end> <end> <end> <end> <end> <end> <end>']\n",
            "Loss - 0.0022112755104899406\n",
            "Translated - ['tunisia <end> <end> <end> <end> <end> <end> <end> <end> <end> <end> <end> <end> <end> <end>', 'representatives are chosen <end> <end> <end> <end> <end> <end> <end> <end> <end> <end> <end> <end>', 'sunday <end> <end> <end> <end> <end> <end> <end> <end> <end> <end> <end> <end> <end> <end>', '1956 <end> <end> <end> <end> <end> <end> <end> <end> <end> <end> <end> <end> <end> <end>', 'country gained its its <end> <end> <end> <end> <end> <end> <end> <end> <end> <end> <end>', 'menzah neighborhood <end> <end> <end> <end> <end> <end> <end> <end> <end> <end> <end> <end> <end>', 'schools <end> <end> <end> <end> <end> <end> <end> <end> <end> <end> <end> <end> <end> <end>', 'yes <end> <end> <end> <end> <end> <end> <end> <end> <end> <end> <end> <end> <end> <end>', 'cnn <end> <end> <end> <end> <end> <end> <end> <end> <end> <end> <end> <end> <end> <end>', 'yes <end> <end> <end> <end> <end> <end> <end> <end> <end> <end> <end> <end> <end> <end>', 'george <end> <end> <end> <end> <end> <end> <end> <end> <end> <end> <end> <end> <end> <end>', 'no <end> <end> <end> <end> <end> <end> <end> <end> <end> <end> <end> <end> <end> <end>', 'yes <end> <end> <end> <end> <end> <end> <end> <end> <end> <end> <end> <end> <end> <end>', 'clarence <end> <end> <end> <end> <end> <end> <end> <end> <end> <end> <end> <end> <end> <end>', 'no <end> <end> <end> <end> <end> <end> <end> <end> <end> <end> <end> <end> <end> <end>', 'yes <end> <end> <end> <end> <end> <end> <end> <end> <end> <end> <end> <end> <end> <end>', 'no <end> <end> <end> <end> <end> <end> <end> <end> <end> <end> <end> <end> <end> <end>', 'no <end> <end> <end> <end> <end> <end> <end> <end> <end> <end> <end> <end> <end> <end>', 'he lacked lover looked <end> <end> <end> <end> <end> <end> <end> <end> <end> <end> <end>', 'yes <end> <end> <end> <end> <end> <end> <end> <end> <end> <end> <end> <end> <end> <end>', 'financial <end> <end> <end> <end> <end> <end> <end> <end> <end> <end> <end> <end> <end> <end>', 'yes <end> <end> <end> <end> <end> <end> <end> <end> <end> <end> <end> <end> <end> <end>', 'alexander <end> <end> <end> <end> <end> <end> <end> <end> <end> <end> <end> <end> <end> <end>', 'tuesday <end> <end> <end> <end> <end> <end> <end> <end> <end> <end> <end> <end> <end> <end>', 'captain <end> <end> <end> <end> <end> <end> <end> <end> <end> <end> <end> <end> <end> <end>', 'run <end> <end> <end> <end> <end> <end> <end> <end> <end> <end> <end> <end> <end> <end>', 'yes. <end> <end> <end> <end> <end> <end> <end> <end> <end> <end> <end> <end> <end> <end>', 'no. <end> <end> <end> <end> <end> <end> <end> <end> <end> <end> <end> <end> <end> <end>', 'captain <end> <end> <end> <end> <end> <end> <end> <end> <end> <end> <end> <end> <end> <end>', 'his <end> <end> <end> <end> <end> <end> <end> <end> <end> <end> <end> <end> <end> <end>', 'tom and <end> <end> <end> <end> <end> <end> <end> <end> <end> <end> <end> <end> <end>', 'declare you you you you you you you you you you you you you <end>', 'his <end> <end> <end> <end> <end> <end> <end> <end> <end> <end> <end> <end> <end> <end>']\n",
            "Loss - 0.011107523925602436\n"
          ]
        },
        {
          "output_type": "stream",
          "name": "stderr",
          "text": [
            "\r 45%|████▌     | 45/100 [02:56<04:06,  4.48s/it]"
          ]
        },
        {
          "output_type": "stream",
          "name": "stdout",
          "text": [
            "Translated - ['tunisia <end> <end> <end> <end> <end> <end> <end> <end> <end> <end> <end> <end> <end> <end> <end>', 'representatives representatives chosen chosen chosen chosen chosen chosen chosen chosen chosen chosen chosen chosen chosen chosen', 'sunday <end> <end> <end> <end> <end> <end> <end> <end> <end> <end> <end> <end> <end> <end> <end>', '1956 <end> <end> <end> <end> <end> <end> <end> <end> <end> <end> <end> <end> <end> <end> <end>', 'country gained gained its its its its its its its its its its its its its', 'menzah menzah neighborhood <end> <end> <end> <end> <end> <end> <end> <end> <end> <end> <end> <end> <end>', 'schools <end> <end> <end> <end> <end> <end> <end> <end> <end> <end> <end> <end> <end> <end> <end>', 'yes <end> <end> <end> <end> <end> <end> <end> <end> <end> <end> <end> <end> <end> <end> <end>', 'cnn <end> <end> <end> <end> <end> <end> <end> <end> <end> <end> <end> <end> <end> <end> <end>', 'yes <end> <end> <end> <end> <end> <end> <end> <end> <end> <end> <end> <end> <end> <end> <end>', 'george <end> <end> <end> <end> <end> <end> <end> <end> <end> <end> <end> <end> <end> <end> <end>', 'no <end> <end> <end> <end> <end> <end> <end> <end> <end> <end> <end> <end> <end> <end> <end>', 'yes <end> <end> <end> <end> <end> <end> <end> <end> <end> <end> <end> <end> <end> <end> <end>', 'clarence <end> <end> <end> <end> <end> <end> <end> <end> <end> <end> <end> <end> <end> <end> <end>', 'no <end> <end> <end> <end> <end> <end> <end> <end> <end> <end> <end> <end> <end> <end> <end>', 'yes <end> <end> <end> <end> <end> <end> <end> <end> <end> <end> <end> <end> <end> <end> <end>', 'no <end> <end> <end> <end> <end> <end> <end> <end> <end> <end> <end> <end> <end> <end> <end>', 'no <end> <end> <end> <end> <end> <end> <end> <end> <end> <end> <end> <end> <end> <end> <end>', 'he he lover for for for for for <end> <end> <end> <end> <end> <end> <end> <end>', 'yes <end> <end> <end> <end> <end> <end> <end> <end> <end> <end> <end> <end> <end> <end> <end>', 'financial <end> <end> <end> <end> <end> <end> <end> <end> <end> <end> <end> <end> <end> <end> <end>', 'yes <end> <end> <end> <end> <end> <end> <end> <end> <end> <end> <end> <end> <end> <end> <end>', 'alexander alexander <end> <end> <end> <end> <end> <end> <end> <end> <end> <end> <end> <end> <end> <end>', 'tuesday <end> <end> <end> <end> <end> <end> <end> <end> <end> <end> <end> <end> <end> <end> <end>', 'captain putnam <end> <end> <end> <end> <end> <end> <end> <end> <end> <end> <end> <end> <end> <end>', 'run away <end> <end> <end> <end> <end> <end> <end> <end> <end> <end> <end> <end> <end> <end>', 'yes. <end> <end> <end> <end> <end> <end> <end> <end> <end> <end> <end> <end> <end> <end> <end>', 'no. <end> <end> <end> <end> <end> <end> <end> <end> <end> <end> <end> <end> <end> <end> <end>', 'captain putnam <end> <end> <end> <end> <end> <end> <end> <end> <end> <end> <end> <end> <end> <end>', \"his father's <end> <end> <end> <end> <end> <end> <end> <end> <end> <end> <end> <end> <end> <end>\", 'tom and sam. <end> <end> <end> <end> <end> <end> <end> <end> <end> <end> <end> <end> <end>', 'declare you you you you you you you you you you <end> <end> <end> <end> <end>', 'his <end> <end> <end> <end> <end> <end> <end> <end> <end> <end> <end> <end> <end> <end> <end>']\n",
            "Loss - 0.0024024664890021086\n",
            "Translated - ['tunisia <end> <end> <end> <end> <end> <end> <end> <end> <end> <end> <end> <end> <end> <end> <end>', 'representatives are chosen chosen chosen chosen chosen chosen chosen chosen chosen chosen chosen chosen chosen chosen', 'sunday <end> <end> <end> <end> <end> <end> <end> <end> <end> <end> <end> <end> <end> <end> <end>', '1956 <end> <end> <end> <end> <end> <end> <end> <end> <end> <end> <end> <end> <end> <end> <end>', 'country gained gained its its its independence independence independence independence independence independence independence independence independence independence', 'menzah neighborhood <end> <end> <end> <end> <end> <end> <end> <end> <end> <end> <end> <end> <end> <end>', 'schools <end> <end> <end> <end> <end> <end> <end> <end> <end> <end> <end> <end> <end> <end> <end>', 'yes <end> <end> <end> <end> <end> <end> <end> <end> <end> <end> <end> <end> <end> <end> <end>', 'cnn <end> <end> <end> <end> <end> <end> <end> <end> <end> <end> <end> <end> <end> <end> <end>', 'yes <end> <end> <end> <end> <end> <end> <end> <end> <end> <end> <end> <end> <end> <end> <end>', 'george <end> <end> <end> <end> <end> <end> <end> <end> <end> <end> <end> <end> <end> <end> <end>', 'no <end> <end> <end> <end> <end> <end> <end> <end> <end> <end> <end> <end> <end> <end> <end>', 'yes <end> <end> <end> <end> <end> <end> <end> <end> <end> <end> <end> <end> <end> <end> <end>', 'clarence <end> <end> <end> <end> <end> <end> <end> <end> <end> <end> <end> <end> <end> <end> <end>', 'no <end> <end> <end> <end> <end> <end> <end> <end> <end> <end> <end> <end> <end> <end> <end>', 'yes <end> <end> <end> <end> <end> <end> <end> <end> <end> <end> <end> <end> <end> <end> <end>', 'no <end> <end> <end> <end> <end> <end> <end> <end> <end> <end> <end> <end> <end> <end> <end>', 'no <end> <end> <end> <end> <end> <end> <end> <end> <end> <end> <end> <end> <end> <end> <end>', 'he he lover for for for for for for for for for for for for for', 'yes <end> <end> <end> <end> <end> <end> <end> <end> <end> <end> <end> <end> <end> <end> <end>', 'financial <end> <end> <end> <end> <end> <end> <end> <end> <end> <end> <end> <end> <end> <end> <end>', 'yes <end> <end> <end> <end> <end> <end> <end> <end> <end> <end> <end> <end> <end> <end> <end>', 'alexander alexander <end> <end> <end> <end> <end> <end> <end> <end> <end> <end> <end> <end> <end> <end>', 'tuesday <end> <end> <end> <end> <end> <end> <end> <end> <end> <end> <end> <end> <end> <end> <end>', 'captain putnam putnam <end> <end> <end> <end> <end> <end> <end> <end> <end> <end> <end> <end> <end>', 'run away away <end> <end> <end> <end> <end> <end> <end> <end> <end> <end> <end> <end> <end>', 'yes. <end> <end> <end> <end> <end> <end> <end> <end> <end> <end> <end> <end> <end> <end> <end>', 'no. <end> <end> <end> <end> <end> <end> <end> <end> <end> <end> <end> <end> <end> <end> <end>', 'captain putnam putnam <end> <end> <end> <end> <end> <end> <end> <end> <end> <end> <end> <end> <end>', \"his father's <end> <end> <end> <end> <end> <end> <end> <end> <end> <end> <end> <end> <end> <end>\", 'tom tom and <end> <end> <end> <end> <end> <end> <end> <end> <end> <end> <end> <end> <end>', 'declare you you you you you you you <end> <end> <end> <end> <end> <end> <end> <end>', \"his father's <end> <end> <end> <end> <end> <end> <end> <end> <end> <end> <end> <end> <end> <end>\"]\n",
            "Loss - 0.011373067274689674\n"
          ]
        },
        {
          "output_type": "stream",
          "name": "stderr",
          "text": [
            "\r 46%|████▌     | 46/100 [03:00<04:01,  4.47s/it]"
          ]
        },
        {
          "output_type": "stream",
          "name": "stdout",
          "text": [
            "Translated - ['tunisia <end> <end> <end> <end> <end> <end> <end>', 'representatives chosen chosen <end> <end> <end> <end> <end>', 'sunday <end> <end> <end> <end> <end> <end> <end>', '1956 <end> <end> <end> <end> <end> <end> <end>', 'country gained its its independence <end> <end> <end>', 'menzah neighborhood <end> <end> <end> <end> <end> <end>', 'schools <end> <end> <end> <end> <end> <end> <end>', 'yes <end> <end> <end> <end> <end> <end> <end>', 'cnn <end> <end> <end> <end> <end> <end> <end>', 'yes <end> <end> <end> <end> <end> <end> <end>', 'george <end> <end> <end> <end> <end> <end> <end>', 'no <end> <end> <end> <end> <end> <end> <end>', 'yes <end> <end> <end> <end> <end> <end> <end>', 'clarence <end> <end> <end> <end> <end> <end> <end>', 'no <end> <end> <end> <end> <end> <end> <end>', 'yes <end> <end> <end> <end> <end> <end> <end>', 'no <end> <end> <end> <end> <end> <end> <end>', 'no <end> <end> <end> <end> <end> <end> <end>', 'he he lover for for <end> <end> <end>', 'yes <end> <end> <end> <end> <end> <end> <end>', 'financial <end> <end> <end> <end> <end> <end> <end>', 'yes <end> <end> <end> <end> <end> <end> <end>', 'alexander <end> <end> <end> <end> <end> <end> <end>', 'tuesday <end> <end> <end> <end> <end> <end> <end>', 'captain putnam <end> <end> <end> <end> <end> <end>', 'run away <end> <end> <end> <end> <end> <end>', 'yes. <end> <end> <end> <end> <end> <end> <end>', 'no. <end> <end> <end> <end> <end> <end> <end>', 'captain putnam <end> <end> <end> <end> <end> <end>', 'his <end> <end> <end> <end> <end> <end> <end>', 'tom and sam. <end> <end> <end> <end> <end>', 'you you you you you you you <end>', 'his <end> <end> <end> <end> <end> <end> <end>']\n",
            "Loss - 0.002046354813501239\n",
            "Translated - ['tunisia <end> <end> <end> <end> <end> <end>', 'representatives are <end> <end> <end> <end> <end>', 'sunday <end> <end> <end> <end> <end> <end>', '1956 <end> <end> <end> <end> <end> <end>', 'country its its <end> <end> <end> <end>', 'menzah <end> <end> <end> <end> <end> <end>', 'schools <end> <end> <end> <end> <end> <end>', 'yes <end> <end> <end> <end> <end> <end>', 'cnn <end> <end> <end> <end> <end> <end>', 'yes <end> <end> <end> <end> <end> <end>', 'george <end> <end> <end> <end> <end> <end>', 'no <end> <end> <end> <end> <end> <end>', 'yes <end> <end> <end> <end> <end> <end>', 'clarence <end> <end> <end> <end> <end> <end>', 'no <end> <end> <end> <end> <end> <end>', 'yes <end> <end> <end> <end> <end> <end>', 'no <end> <end> <end> <end> <end> <end>', 'no <end> <end> <end> <end> <end> <end>', 'he he in in <end> <end> <end>', 'yes <end> <end> <end> <end> <end> <end>', 'financial <end> <end> <end> <end> <end> <end>', 'yes <end> <end> <end> <end> <end> <end>', '<end> <end> <end> <end> <end> <end> <end>', 'tuesday <end> <end> <end> <end> <end> <end>', 'putnam <end> <end> <end> <end> <end> <end>', 'run <end> <end> <end> <end> <end> <end>', 'yes. <end> <end> <end> <end> <end> <end>', '<end> <end> <end> <end> <end> <end> <end>', 'putnam <end> <end> <end> <end> <end> <end>', 'his <end> <end> <end> <end> <end> <end>', 'and sam. <end> <end> <end> <end> <end>', 'you you you you you you <end>', '<end> <end> <end> <end> <end> <end> <end>']\n",
            "Loss - 0.013941350392997265\n"
          ]
        },
        {
          "output_type": "stream",
          "name": "stderr",
          "text": [
            "\r 47%|████▋     | 47/100 [03:04<03:40,  4.15s/it]"
          ]
        },
        {
          "output_type": "stream",
          "name": "stdout",
          "text": [
            "Translated - ['tunisia <end> <end> <end> <end> <end> <end> <end> <end> <end> <end> <end> <end> <end> <end> <end>', 'representatives are chosen <end> <end> <end> <end> <end> <end> <end> <end> <end> <end> <end> <end> <end>', 'sunday <end> <end> <end> <end> <end> <end> <end> <end> <end> <end> <end> <end> <end> <end> <end>', '1956 <end> <end> <end> <end> <end> <end> <end> <end> <end> <end> <end> <end> <end> <end> <end>', 'country country <end> <end> <end> <end> <end> <end> <end> <end> <end> <end> <end> <end> <end> <end>', 'menzah neighborhood <end> <end> <end> <end> <end> <end> <end> <end> <end> <end> <end> <end> <end> <end>', 'schools <end> <end> <end> <end> <end> <end> <end> <end> <end> <end> <end> <end> <end> <end> <end>', 'yes <end> <end> <end> <end> <end> <end> <end> <end> <end> <end> <end> <end> <end> <end> <end>', 'cnn <end> <end> <end> <end> <end> <end> <end> <end> <end> <end> <end> <end> <end> <end> <end>', 'yes <end> <end> <end> <end> <end> <end> <end> <end> <end> <end> <end> <end> <end> <end> <end>', 'george <end> <end> <end> <end> <end> <end> <end> <end> <end> <end> <end> <end> <end> <end> <end>', 'no <end> <end> <end> <end> <end> <end> <end> <end> <end> <end> <end> <end> <end> <end> <end>', 'yes <end> <end> <end> <end> <end> <end> <end> <end> <end> <end> <end> <end> <end> <end> <end>', 'clarence <end> <end> <end> <end> <end> <end> <end> <end> <end> <end> <end> <end> <end> <end> <end>', 'no <end> <end> <end> <end> <end> <end> <end> <end> <end> <end> <end> <end> <end> <end> <end>', 'yes <end> <end> <end> <end> <end> <end> <end> <end> <end> <end> <end> <end> <end> <end> <end>', 'no <end> <end> <end> <end> <end> <end> <end> <end> <end> <end> <end> <end> <end> <end> <end>', 'no <end> <end> <end> <end> <end> <end> <end> <end> <end> <end> <end> <end> <end> <end> <end>', 'he he one one for for for for <end> <end> <end> <end> <end> <end> <end> <end>', 'yes <end> <end> <end> <end> <end> <end> <end> <end> <end> <end> <end> <end> <end> <end> <end>', 'financial <end> <end> <end> <end> <end> <end> <end> <end> <end> <end> <end> <end> <end> <end> <end>', 'yes <end> <end> <end> <end> <end> <end> <end> <end> <end> <end> <end> <end> <end> <end> <end>', 'alexander pop <end> <end> <end> <end> <end> <end> <end> <end> <end> <end> <end> <end> <end> <end>', 'tuesday <end> <end> <end> <end> <end> <end> <end> <end> <end> <end> <end> <end> <end> <end> <end>', 'captain putnam <end> <end> <end> <end> <end> <end> <end> <end> <end> <end> <end> <end> <end> <end>', 'run away <end> <end> <end> <end> <end> <end> <end> <end> <end> <end> <end> <end> <end> <end>', 'yes. <end> <end> <end> <end> <end> <end> <end> <end> <end> <end> <end> <end> <end> <end> <end>', 'no. <end> <end> <end> <end> <end> <end> <end> <end> <end> <end> <end> <end> <end> <end> <end>', 'captain putnam <end> <end> <end> <end> <end> <end> <end> <end> <end> <end> <end> <end> <end> <end>', \"his father's <end> <end> <end> <end> <end> <end> <end> <end> <end> <end> <end> <end> <end> <end>\", 'tom and and <end> <end> <end> <end> <end> <end> <end> <end> <end> <end> <end> <end> <end>', 'you you you you you you you you you you you you you you you you', 'his <end> <end> <end> <end> <end> <end> <end> <end> <end> <end> <end> <end> <end> <end> <end>']\n",
            "Loss - 0.0019344734027981758\n",
            "Translated - ['tunisia <end> <end> <end> <end> <end> <end> <end> <end> <end> <end> <end> <end> <end> <end> <end>', 'representatives representatives are chosen <end> <end> <end> <end> <end> <end> <end> <end> <end> <end> <end> <end>', 'sunday <end> <end> <end> <end> <end> <end> <end> <end> <end> <end> <end> <end> <end> <end> <end>', '1956 <end> <end> <end> <end> <end> <end> <end> <end> <end> <end> <end> <end> <end> <end> <end>', 'country gained <end> <end> <end> <end> <end> <end> <end> <end> <end> <end> <end> <end> <end> <end>', 'menzah neighborhood <end> <end> <end> <end> <end> <end> <end> <end> <end> <end> <end> <end> <end> <end>', 'schools <end> <end> <end> <end> <end> <end> <end> <end> <end> <end> <end> <end> <end> <end> <end>', 'yes <end> <end> <end> <end> <end> <end> <end> <end> <end> <end> <end> <end> <end> <end> <end>', 'cnn <end> <end> <end> <end> <end> <end> <end> <end> <end> <end> <end> <end> <end> <end> <end>', 'yes <end> <end> <end> <end> <end> <end> <end> <end> <end> <end> <end> <end> <end> <end> <end>', 'george <end> <end> <end> <end> <end> <end> <end> <end> <end> <end> <end> <end> <end> <end> <end>', 'no <end> <end> <end> <end> <end> <end> <end> <end> <end> <end> <end> <end> no no no', 'yes <end> <end> <end> <end> <end> <end> <end> <end> <end> <end> <end> <end> <end> <end> <end>', 'clarence <end> <end> <end> <end> <end> <end> <end> <end> <end> <end> <end> <end> <end> <end> <end>', 'no <end> <end> <end> <end> <end> <end> <end> <end> <end> <end> <end> <end> <end> <end> <end>', 'yes <end> <end> <end> <end> <end> <end> <end> <end> <end> <end> <end> <end> <end> <end> <end>', 'no <end> <end> <end> <end> <end> <end> <end> <end> <end> <end> <end> <end> <end> <end> <end>', 'no <end> <end> <end> <end> <end> <end> <end> <end> <end> <end> <end> <end> <end> <end> <end>', 'he he lover lover for for for for for for for for for for for for', 'yes <end> <end> <end> <end> <end> <end> <end> <end> <end> <end> <end> <end> <end> <end> <end>', 'financial <end> <end> <end> <end> <end> <end> <end> <end> <end> <end> <end> <end> <end> <end> <end>', 'yes <end> <end> <end> <end> <end> <end> <end> <end> <end> <end> <end> <end> <end> <end> <end>', 'alexander alexander alexander alexander alexander alexander alexander alexander alexander alexander alexander alexander alexander alexander alexander alexander', 'tuesday <end> <end> <end> <end> <end> <end> <end> <end> <end> <end> <end> <end> <end> <end> <end>', 'captain captain putnam putnam putnam putnam putnam putnam putnam putnam putnam putnam putnam putnam putnam putnam', 'run away away <end> <end> <end> <end> <end> <end> <end> <end> <end> <end> <end> <end> <end>', 'yes. <end> <end> <end> <end> <end> <end> <end> <end> <end> <end> <end> <end> <end> <end> <end>', 'no. no. no. no. no. no. no. no. no. no. no. no. no. no. no. no.', 'captain putnam putnam putnam putnam putnam putnam putnam putnam putnam putnam putnam putnam putnam putnam putnam', \"father's father's father's father's father's father's father's father's father's father's father's father's father's father's father's father's\", 'tom and and and <end> <end> <end> <end> <end> <end> <end> <end> <end> <end> <end> <end>', 'looks looks looks looks looks looks you you you you you you you you you you', \"his father's father's <end> <end> <end> <end> <end> <end> <end> <end> <end> <end> <end> <end> <end>\"]\n",
            "Loss - 0.01251830905675888\n"
          ]
        },
        {
          "output_type": "stream",
          "name": "stderr",
          "text": [
            "\r 48%|████▊     | 48/100 [03:07<03:25,  3.95s/it]"
          ]
        },
        {
          "output_type": "stream",
          "name": "stdout",
          "text": [
            "Translated - ['tunisia <end> <end> <end> <end> <end> <end> <end> <end> <end> <end> <end> <end> <end> <end> <end>', 'representatives representatives are being <end> <end> <end> <end> <end> <end> <end> <end> <end> <end> <end> <end>', 'sunday <end> <end> <end> <end> <end> <end> <end> <end> <end> <end> <end> <end> <end> <end> <end>', '1956 <end> <end> <end> <end> <end> <end> <end> <end> <end> <end> <end> <end> <end> <end> <end>', 'country its <end> <end> <end> <end> <end> <end> <end> <end> <end> <end> <end> <end> <end> <end>', 'menzah neighborhood <end> <end> <end> <end> <end> <end> <end> <end> <end> <end> <end> <end> <end> <end>', 'schools <end> <end> <end> <end> <end> <end> <end> <end> <end> <end> <end> <end> <end> <end> <end>', 'yes <end> <end> <end> <end> <end> <end> <end> <end> <end> <end> <end> <end> <end> <end> <end>', 'cnn <end> <end> <end> <end> <end> <end> <end> <end> <end> <end> <end> <end> <end> <end> <end>', 'yes <end> <end> <end> <end> <end> <end> <end> <end> <end> <end> <end> <end> <end> <end> <end>', 'george <end> <end> <end> <end> <end> <end> <end> <end> <end> <end> <end> <end> <end> <end> <end>', 'no <end> <end> <end> <end> <end> <end> <end> <end> <end> <end> <end> <end> <end> <end> <end>', 'yes <end> <end> <end> <end> <end> <end> <end> <end> <end> <end> <end> <end> <end> <end> <end>', 'clarence <end> <end> <end> <end> <end> <end> <end> <end> <end> <end> <end> <end> <end> <end> <end>', 'no <end> <end> <end> <end> <end> <end> <end> <end> <end> <end> <end> <end> <end> <end> <end>', 'yes <end> <end> <end> <end> <end> <end> <end> <end> <end> <end> <end> <end> <end> <end> <end>', 'no <end> <end> <end> <end> <end> <end> <end> <end> <end> <end> <end> <end> <end> <end> <end>', 'no <end> <end> <end> <end> <end> <end> <end> <end> <end> <end> <end> <end> <end> <end> <end>', 'he lover lover something looked for for for for for for for for for for for', 'yes <end> <end> <end> <end> <end> <end> <end> <end> <end> <end> <end> <end> <end> <end> <end>', 'financial <end> <end> <end> <end> <end> <end> <end> <end> <end> <end> <end> <end> <end> <end> <end>', 'yes <end> <end> <end> <end> <end> <end> <end> <end> <end> <end> <end> <end> <end> <end> <end>', 'alexander alexander alexander <end> <end> <end> <end> <end> <end> <end> <end> <end> <end> <end> <end> <end>', 'tuesday <end> <end> <end> <end> <end> <end> <end> <end> <end> <end> <end> <end> <end> <end> <end>', 'captain captain <end> <end> <end> <end> <end> <end> <end> <end> <end> <end> <end> <end> <end> <end>', 'run <end> <end> <end> <end> <end> <end> <end> <end> <end> <end> <end> <end> <end> <end> <end>', 'yes. <end> <end> <end> <end> <end> <end> <end> <end> <end> <end> <end> <end> <end> <end> <end>', 'no. no. <end> <end> <end> <end> <end> <end> <end> <end> <end> <end> <end> <end> <end> <end>', 'captain putnam putnam <end> <end> <end> <end> <end> <end> <end> <end> <end> <end> <end> <end> <end>', \"father's father's <end> <end> <end> <end> <end> <end> <end> <end> <end> <end> <end> <end> <end> <end>\", 'tom and and <end> <end> <end> <end> <end> <end> <end> <end> <end> <end> <end> <end> <end>', 'as looks looks looks looks looks looks looks you you you you you you you you', 'his <end> <end> <end> <end> <end> <end> <end> <end> <end> <end> <end> <end> <end> <end> <end>']\n",
            "Loss - 0.002301635919138789\n",
            "Translated - ['tunisia <end> <end> <end> <end> <end> <end> <end> <end> <end> <end> <end> <end> <end> <end> <end>', 'representatives are chosen <end> <end> <end> <end> <end> <end> <end> <end> <end> <end> <end> <end> <end>', 'sunday <end> <end> <end> <end> <end> <end> <end> <end> <end> <end> <end> <end> <end> <end> <end>', '1956 <end> <end> <end> <end> <end> <end> <end> <end> <end> <end> <end> <end> <end> <end> <end>', 'country its <end> <end> <end> <end> <end> <end> <end> <end> <end> <end> <end> <end> <end> <end>', 'menzah neighborhood <end> <end> <end> <end> <end> <end> <end> <end> <end> <end> <end> <end> <end> <end>', 'schools <end> <end> <end> <end> <end> <end> <end> <end> <end> <end> <end> <end> <end> <end> <end>', 'yes <end> <end> <end> <end> <end> <end> <end> <end> <end> <end> <end> <end> <end> <end> <end>', 'cnn <end> <end> <end> <end> <end> <end> <end> <end> <end> <end> <end> <end> <end> <end> <end>', 'yes <end> <end> <end> <end> <end> <end> <end> <end> <end> <end> <end> <end> <end> <end> <end>', 'george <end> <end> <end> <end> <end> <end> <end> <end> <end> <end> <end> <end> <end> <end> <end>', 'no <end> <end> <end> <end> <end> <end> <end> <end> <end> <end> <end> <end> <end> <end> <end>', 'yes <end> <end> <end> <end> <end> <end> <end> <end> <end> <end> <end> <end> <end> <end> <end>', 'clarence <end> <end> <end> <end> <end> <end> <end> <end> <end> <end> <end> <end> <end> <end> <end>', 'no <end> <end> <end> <end> <end> <end> <end> <end> <end> <end> <end> <end> <end> <end> <end>', 'yes <end> <end> <end> <end> <end> <end> <end> <end> <end> <end> <end> <end> <end> <end> <end>', 'no <end> <end> <end> <end> <end> <end> <end> <end> <end> <end> <end> <end> <end> <end> <end>', 'no <end> <end> <end> <end> <end> <end> <end> <end> <end> <end> <end> <end> <end> <end> <end>', 'he lover something looked looked <end> <end> <end> <end> <end> <end> <end> <end> <end> <end> <end>', 'yes <end> <end> <end> <end> <end> <end> <end> <end> <end> <end> <end> <end> <end> <end> <end>', 'financial <end> <end> <end> <end> <end> <end> <end> <end> <end> <end> <end> <end> <end> <end> <end>', 'yes <end> <end> <end> <end> <end> <end> <end> <end> <end> <end> <end> <end> <end> <end> <end>', 'alexander <end> <end> <end> <end> <end> <end> <end> <end> <end> <end> <end> <end> <end> <end> <end>', 'tuesday <end> <end> <end> <end> <end> <end> <end> <end> <end> <end> <end> <end> <end> <end> <end>', 'captain <end> <end> <end> <end> <end> <end> <end> <end> <end> <end> <end> <end> <end> <end> <end>', 'run <end> <end> <end> <end> <end> <end> <end> <end> <end> <end> <end> <end> <end> <end> <end>', 'yes. <end> <end> <end> <end> <end> <end> <end> <end> <end> <end> <end> <end> <end> <end> <end>', 'no. <end> <end> <end> <end> <end> <end> <end> <end> <end> <end> <end> <end> <end> <end> <end>', 'captain putnam <end> <end> <end> <end> <end> <end> <end> <end> <end> <end> <end> <end> <end> <end>', \"father's <end> <end> <end> <end> <end> <end> <end> <end> <end> <end> <end> <end> <end> <end> <end>\", 'tom and <end> <end> <end> <end> <end> <end> <end> <end> <end> <end> <end> <end> <end> <end>', 'as as as as as as as as as as as as as come, as come,', 'his <end> <end> <end> <end> <end> <end> <end> <end> <end> <end> <end> <end> <end> <end> <end>']\n",
            "Loss - 0.011903764680027962\n"
          ]
        },
        {
          "output_type": "stream",
          "name": "stderr",
          "text": [
            "\r 49%|████▉     | 49/100 [03:11<03:15,  3.83s/it]"
          ]
        },
        {
          "output_type": "stream",
          "name": "stdout",
          "text": [
            "Translated - ['tunisia <end> <end> <end> <end> <end> <end> <end> <end> <end> <end> <end> <end> <end> <end> <end>', 'are being <end> <end> <end> <end> <end> <end> <end> <end> <end> <end> <end> <end> <end> <end>', 'sunday <end> <end> <end> <end> <end> <end> <end> <end> <end> <end> <end> <end> <end> <end> <end>', '1956 <end> <end> <end> <end> <end> <end> <end> <end> <end> <end> <end> <end> <end> <end> <end>', 'country its <end> <end> <end> <end> <end> <end> <end> <end> <end> <end> <end> <end> <end> <end>', 'menzah <end> <end> <end> <end> <end> <end> <end> <end> <end> <end> <end> <end> <end> <end> <end>', '<end> <end> <end> <end> <end> <end> <end> <end> <end> <end> <end> <end> <end> <end> <end> <end>', 'yes <end> <end> <end> <end> <end> <end> <end> <end> <end> <end> <end> <end> <end> <end> <end>', 'cnn <end> <end> <end> <end> <end> <end> <end> <end> <end> <end> <end> <end> <end> <end> <end>', 'yes <end> <end> <end> <end> <end> <end> <end> <end> <end> <end> <end> <end> <end> <end> <end>', 'george <end> <end> <end> <end> <end> <end> <end> <end> <end> <end> <end> <end> <end> <end> <end>', 'no <end> <end> <end> <end> <end> <end> <end> <end> <end> <end> <end> <end> <end> <end> <end>', 'yes <end> <end> <end> <end> <end> <end> <end> <end> <end> <end> <end> <end> <end> <end> <end>', 'clarence <end> <end> <end> <end> <end> <end> <end> <end> <end> <end> <end> <end> <end> <end> <end>', 'no <end> <end> <end> <end> <end> <end> <end> <end> <end> <end> <end> <end> <end> <end> <end>', 'yes <end> <end> <end> <end> <end> <end> <end> <end> <end> <end> <end> <end> <end> <end> <end>', 'no <end> <end> <end> <end> <end> <end> <end> <end> <end> <end> <end> <end> <end> <end> <end>', 'no <end> <end> <end> <end> <end> <end> <end> <end> <end> <end> <end> <end> <end> <end> <end>', 'he lover something looked looked <end> <end> <end> <end> <end> <end> <end> <end> <end> <end> <end>', 'yes <end> <end> <end> <end> <end> <end> <end> <end> <end> <end> <end> <end> <end> <end> <end>', 'financial <end> <end> <end> <end> <end> <end> <end> <end> <end> <end> <end> <end> <end> <end> <end>', 'yes <end> <end> <end> <end> <end> <end> <end> <end> <end> <end> <end> <end> <end> <end> <end>', 'alexander <end> <end> <end> <end> <end> <end> <end> <end> <end> <end> <end> <end> <end> <end> <end>', 'tuesday <end> <end> <end> <end> <end> <end> <end> <end> <end> <end> <end> <end> <end> <end> <end>', 'captain <end> <end> <end> <end> <end> <end> <end> <end> <end> <end> <end> <end> <end> <end> <end>', 'run <end> <end> <end> <end> <end> <end> <end> <end> <end> <end> <end> <end> <end> <end> <end>', 'yes. <end> <end> <end> <end> <end> <end> <end> <end> <end> <end> <end> <end> <end> <end> <end>', 'no. <end> <end> <end> <end> <end> <end> <end> <end> <end> <end> <end> <end> <end> <end> <end>', 'captain <end> <end> <end> <end> <end> <end> <end> <end> <end> <end> <end> <end> <end> <end> <end>', 'his <end> <end> <end> <end> <end> <end> <end> <end> <end> <end> <end> <end> <end> <end> <end>', 'tom and <end> <end> <end> <end> <end> <end> <end> <end> <end> <end> <end> <end> <end> <end>', 'as as as as as as you you you you you you you you you you', '<end> <end> <end> <end> <end> <end> <end> <end> <end> <end> <end> <end> <end> <end> <end> <end>']\n",
            "Loss - 0.0025825821794569492\n",
            "Translated - ['tunisia <end> <end> <end> <end> <end> <end> <end> <end> <end> <end> <end> <end> <end> <end> <end>', 'representatives are <end> <end> <end> <end> <end> <end> <end> <end> <end> <end> <end> <end> <end> <end>', 'sunday <end> <end> <end> <end> <end> <end> <end> <end> <end> <end> <end> <end> <end> <end> <end>', '1956 <end> <end> <end> <end> <end> <end> <end> <end> <end> <end> <end> <end> <end> <end> <end>', 'country gained its <end> <end> <end> <end> <end> <end> <end> <end> <end> <end> <end> <end> <end>', 'menzah neighborhood <end> <end> <end> <end> <end> <end> <end> <end> <end> <end> <end> <end> <end> <end>', 'schools <end> <end> <end> <end> <end> <end> <end> <end> <end> <end> <end> <end> <end> <end> <end>', 'yes <end> <end> <end> <end> <end> <end> <end> <end> <end> <end> <end> <end> <end> <end> <end>', 'cnn <end> <end> <end> <end> <end> <end> <end> <end> <end> <end> <end> <end> <end> <end> <end>', 'yes <end> <end> <end> <end> <end> <end> <end> <end> <end> <end> <end> <end> <end> <end> <end>', 'george <end> <end> <end> <end> <end> <end> <end> <end> <end> <end> <end> <end> <end> <end> <end>', 'no <end> <end> <end> <end> <end> <end> <end> <end> <end> <end> <end> <end> <end> <end> <end>', 'yes <end> <end> <end> <end> <end> <end> <end> <end> <end> <end> <end> <end> <end> <end> <end>', 'clarence <end> <end> <end> <end> <end> <end> <end> <end> <end> <end> <end> <end> <end> <end> <end>', 'no <end> <end> <end> <end> <end> <end> <end> <end> <end> <end> <end> <end> <end> <end> <end>', 'yes <end> <end> <end> <end> <end> <end> <end> <end> <end> <end> <end> <end> <end> <end> <end>', 'no <end> <end> <end> <end> <end> <end> <end> <end> <end> <end> <end> <end> <end> <end> <end>', 'no <end> <end> <end> <end> <end> <end> <end> <end> <end> <end> <end> <end> <end> <end> <end>', 'he lacked in in in in <end> <end> <end> <end> <end> <end> <end> <end> <end> <end>', 'yes <end> <end> <end> <end> <end> <end> <end> <end> <end> <end> <end> <end> <end> <end> <end>', 'financial <end> <end> <end> <end> <end> <end> <end> <end> <end> <end> <end> <end> <end> <end> <end>', 'yes <end> <end> <end> <end> <end> <end> <end> <end> <end> <end> <end> <end> <end> <end> <end>', 'pop <end> <end> <end> <end> <end> <end> <end> <end> <end> <end> <end> <end> <end> <end> <end>', 'tuesday <end> <end> <end> <end> <end> <end> <end> <end> <end> <end> <end> <end> <end> <end> <end>', 'captain <end> <end> <end> <end> <end> <end> <end> <end> <end> <end> <end> <end> <end> <end> <end>', 'run <end> <end> <end> <end> <end> <end> <end> <end> <end> <end> <end> <end> <end> <end> <end>', 'yes. <end> <end> <end> <end> <end> <end> <end> <end> <end> <end> <end> <end> <end> <end> <end>', '<end> <end> <end> <end> <end> <end> <end> <end> <end> <end> <end> <end> <end> <end> <end> <end>', 'captain <end> <end> <end> <end> <end> <end> <end> <end> <end> <end> <end> <end> <end> <end> <end>', 'his <end> <end> <end> <end> <end> <end> <end> <end> <end> <end> <end> <end> <end> <end> <end>', 'tom sam. <end> <end> <end> <end> <end> <end> <end> <end> <end> <end> <end> <end> <end> <end>', 'as as you you you you you you you you you you you you you you', '<end> <end> <end> <end> <end> <end> <end> <end> <end> <end> <end> <end> <end> <end> <end> <end>']\n",
            "Loss - 0.011715560220181942\n"
          ]
        },
        {
          "output_type": "stream",
          "name": "stderr",
          "text": [
            "\r 50%|█████     | 50/100 [03:14<03:05,  3.72s/it]"
          ]
        },
        {
          "output_type": "stream",
          "name": "stdout",
          "text": [
            "Translated - ['tunisia <end> <end> <end> <end> <end> <end> <end> <end> <end> <end> <end> <end> <end> <end> <end>', 'representatives are chosen <end> <end> <end> <end> <end> <end> <end> <end> <end> <end> <end> <end> <end>', 'sunday <end> <end> <end> <end> <end> <end> <end> <end> <end> <end> <end> <end> <end> <end> <end>', '1956 <end> <end> <end> <end> <end> <end> <end> <end> <end> <end> <end> <end> <end> <end> <end>', 'country gained gained its independence independence <end> <end> <end> independence independence independence independence independence independence independence', 'menzah neighborhood <end> <end> <end> <end> <end> <end> <end> <end> <end> <end> <end> <end> <end> <end>', 'schools <end> <end> <end> <end> <end> <end> <end> <end> <end> <end> <end> <end> <end> <end> <end>', 'yes <end> <end> <end> <end> <end> <end> <end> <end> <end> <end> <end> <end> <end> <end> <end>', 'cnn <end> <end> <end> <end> <end> <end> <end> <end> <end> <end> <end> <end> <end> <end> <end>', 'yes <end> <end> <end> <end> <end> <end> <end> <end> <end> <end> <end> <end> <end> <end> <end>', 'george <end> <end> <end> <end> <end> <end> <end> <end> <end> <end> <end> <end> <end> <end> <end>', 'no <end> <end> <end> <end> <end> <end> <end> <end> <end> <end> <end> <end> <end> <end> <end>', 'yes <end> <end> <end> <end> <end> <end> <end> <end> <end> <end> <end> <end> <end> <end> <end>', 'clarence <end> <end> <end> <end> <end> <end> <end> <end> <end> <end> <end> <end> <end> <end> <end>', 'no <end> <end> <end> <end> <end> <end> <end> <end> <end> <end> <end> <end> <end> <end> <end>', 'yes <end> <end> <end> <end> <end> <end> <end> <end> <end> <end> <end> <end> <end> <end> <end>', 'no <end> <end> <end> <end> <end> <end> <end> <end> <end> <end> <end> <end> <end> <end> <end>', 'no <end> <end> <end> <end> <end> <end> <end> <end> <end> <end> <end> <end> <end> <end> <end>', 'he he lacked in in in in a a a a a a a a a', 'yes <end> <end> <end> <end> <end> <end> <end> <end> <end> <end> <end> <end> <end> <end> <end>', 'financial <end> <end> <end> <end> <end> <end> <end> <end> <end> <end> <end> <end> <end> <end> <end>', 'yes <end> <end> <end> <end> <end> <end> <end> <end> <end> <end> <end> <end> <end> <end> <end>', 'pop <end> <end> <end> <end> <end> <end> <end> <end> <end> <end> <end> <end> <end> <end> <end>', 'tuesday <end> <end> <end> <end> <end> <end> <end> <end> <end> <end> <end> <end> <end> <end> <end>', 'captain putnam <end> <end> <end> <end> <end> <end> <end> <end> <end> <end> <end> <end> <end> <end>', 'run <end> <end> <end> <end> <end> <end> <end> <end> <end> <end> <end> <end> <end> <end> <end>', 'yes. <end> <end> <end> <end> <end> <end> <end> <end> <end> <end> <end> <end> <end> <end> <end>', 'no. <end> <end> <end> <end> <end> <end> <end> <end> <end> <end> <end> <end> <end> <end> <end>', 'captain <end> <end> <end> <end> <end> <end> <end> <end> <end> <end> <end> <end> <end> <end> <end>', 'his <end> <end> <end> <end> <end> <end> <end> <end> <end> <end> <end> <end> <end> <end> <end>', 'tom sam. sam. <end> <end> <end> <end> <end> <end> <end> <end> <end> <end> <end> <end> <end>', 'declare you you you you you you you you you you you you you you you', '<end> <end> <end> <end> <end> <end> <end> <end> <end> <end> <end> <end> <end> <end> <end> <end>']\n",
            "Loss - 0.0020186989568173885\n",
            "Translated - ['tunisia <end> <end> <end> <end> <end> <end> <end> <end> <end> <end> <end> <end> <end> <end> <end>', 'representatives are chosen <end> <end> <end> <end> <end> <end> <end> <end> <end> <end> <end> <end> <end>', 'sunday <end> <end> <end> <end> <end> <end> <end> <end> <end> <end> <end> <end> <end> <end> <end>', '1956 <end> <end> <end> <end> <end> <end> <end> <end> <end> <end> <end> <end> <end> <end> <end>', 'country gained gained its independence independence independence independence independence independence independence independence independence independence independence independence', 'menzah menzah <end> <end> <end> <end> <end> <end> <end> <end> <end> <end> <end> <end> <end> <end>', 'schools <end> <end> <end> <end> <end> <end> <end> <end> <end> <end> <end> <end> <end> <end> <end>', 'yes <end> <end> <end> <end> <end> <end> <end> <end> <end> <end> <end> <end> <end> <end> <end>', 'cnn <end> <end> <end> <end> <end> <end> <end> <end> <end> <end> <end> <end> <end> <end> <end>', 'yes <end> <end> <end> <end> <end> <end> <end> <end> <end> <end> <end> <end> <end> <end> <end>', 'george <end> <end> <end> <end> <end> <end> <end> <end> <end> <end> <end> <end> <end> <end> <end>', 'no <end> <end> <end> <end> <end> <end> <end> <end> <end> <end> <end> <end> <end> <end> <end>', 'yes <end> <end> <end> <end> <end> <end> <end> <end> <end> <end> <end> <end> <end> <end> <end>', 'clarence <end> <end> <end> <end> <end> <end> <end> <end> <end> <end> <end> <end> <end> <end> <end>', 'no <end> <end> <end> <end> <end> <end> <end> <end> <end> <end> <end> <end> <end> <end> <end>', 'yes <end> <end> <end> <end> <end> <end> <end> <end> <end> <end> <end> <end> <end> <end> <end>', 'no <end> <end> <end> <end> <end> <end> <end> <end> <end> <end> <end> <end> <end> <end> <end>', 'no <end> <end> <end> <end> <end> <end> <end> <end> <end> <end> <end> <end> <end> <end> <end>', 'he he he lacked in in in a a a a a a a a a', 'yes <end> <end> <end> <end> <end> <end> <end> <end> <end> <end> <end> <end> <end> <end> <end>', 'financial <end> <end> <end> <end> <end> <end> <end> <end> <end> <end> <end> <end> <end> <end> <end>', 'yes <end> <end> <end> <end> <end> <end> <end> <end> <end> <end> <end> <end> <end> <end> <end>', 'pop <end> <end> <end> <end> <end> <end> <end> <end> <end> <end> <end> <end> <end> <end> <end>', 'tuesday <end> <end> <end> <end> <end> <end> <end> <end> <end> <end> <end> <end> <end> <end> <end>', 'captain putnam <end> <end> <end> <end> <end> <end> <end> <end> <end> <end> <end> <end> <end> <end>', 'run run <end> <end> <end> <end> <end> <end> <end> <end> <end> <end> <end> <end> <end> <end>', 'yes. <end> <end> <end> <end> <end> <end> <end> <end> <end> <end> <end> <end> <end> <end> <end>', 'no. <end> <end> <end> <end> <end> <end> <end> <end> <end> <end> <end> <end> <end> <end> <end>', 'captain putnam <end> <end> <end> <end> <end> <end> <end> <end> <end> <end> <end> <end> <end> <end>', \"his father's <end> <end> <end> <end> <end> <end> <end> <end> <end> <end> <end> <end> <end> <end>\", 'tom sam. sam. <end> <end> <end> <end> <end> <end> <end> <end> <end> <end> <end> <end> <end>', 'you you you you you you you you you you you you you you you you', '<end> <end> <end> <end> <end> <end> <end> <end> <end> <end> <end> <end> <end> <end> <end> <end>']\n",
            "Loss - 0.011619221419095993\n"
          ]
        },
        {
          "output_type": "stream",
          "name": "stderr",
          "text": [
            "\r 51%|█████     | 51/100 [03:18<02:59,  3.67s/it]"
          ]
        },
        {
          "output_type": "stream",
          "name": "stdout",
          "text": [
            "Translated - ['tunisia <end> <end> <end> <end> <end> <end> <end> <end> <end> <end> <end> <end> <end> <end> <end>', 'representatives representatives chosen chosen <end> <end> <end> <end> <end> <end> <end> <end> <end> <end> <end> <end>', 'sunday <end> <end> <end> <end> <end> <end> <end> <end> <end> <end> <end> <end> <end> <end> <end>', '1956 <end> <end> <end> <end> <end> <end> <end> <end> <end> <end> <end> <end> <end> <end> <end>', 'country gained gained independence independence independence independence independence independence independence independence independence independence independence independence independence', 'menzah menzah <end> <end> <end> <end> <end> <end> <end> <end> <end> <end> <end> <end> <end> <end>', 'schools <end> <end> <end> <end> <end> <end> <end> <end> <end> <end> <end> <end> <end> <end> <end>', 'yes <end> <end> <end> <end> <end> <end> <end> <end> <end> <end> <end> <end> <end> <end> <end>', 'cnn <end> <end> <end> <end> <end> <end> <end> <end> <end> <end> <end> <end> <end> <end> <end>', 'yes <end> <end> <end> <end> <end> <end> <end> <end> <end> <end> <end> <end> <end> <end> <end>', 'george <end> <end> <end> <end> <end> <end> <end> <end> <end> <end> <end> <end> <end> <end> <end>', 'no <end> <end> <end> <end> <end> <end> <end> <end> <end> <end> <end> <end> <end> <end> <end>', 'yes <end> <end> <end> <end> <end> <end> <end> <end> <end> <end> <end> <end> <end> <end> <end>', 'clarence <end> <end> <end> <end> <end> <end> <end> <end> <end> <end> <end> <end> <end> <end> <end>', 'no <end> <end> <end> <end> <end> <end> <end> <end> <end> <end> <end> <end> <end> <end> <end>', 'yes <end> <end> <end> <end> <end> <end> <end> <end> <end> <end> <end> <end> <end> <end> <end>', 'no <end> <end> <end> <end> <end> <end> <end> <end> <end> <end> <end> <end> <end> <end> <end>', 'no <end> <end> <end> <end> <end> <end> <end> <end> <end> <end> <end> <end> <end> <end> <end>', 'he lacked lacked in a a <end> <end> <end> <end> <end> <end> <end> <end> <end> <end>', 'yes <end> <end> <end> <end> <end> <end> <end> <end> <end> <end> <end> <end> <end> <end> <end>', 'financial <end> <end> <end> <end> <end> <end> <end> <end> <end> <end> <end> <end> <end> <end> <end>', 'yes <end> <end> <end> <end> <end> <end> <end> <end> <end> <end> <end> <end> <end> <end> <end>', 'alexander pop <end> <end> <end> <end> <end> <end> <end> <end> <end> <end> <end> <end> <end> <end>', 'tuesday <end> <end> <end> <end> <end> <end> <end> <end> <end> <end> <end> <end> <end> <end> <end>', 'captain putnam putnam <end> <end> <end> <end> <end> <end> <end> <end> <end> <end> <end> <end> <end>', 'run <end> <end> <end> <end> <end> <end> <end> <end> <end> <end> <end> <end> <end> <end> <end>', 'yes. <end> <end> <end> <end> <end> <end> <end> <end> <end> <end> <end> <end> <end> <end> <end>', 'no. <end> <end> <end> <end> <end> <end> <end> <end> <end> <end> <end> <end> <end> <end> <end>', 'captain putnam <end> <end> <end> <end> <end> <end> <end> <end> <end> <end> <end> <end> <end> <end>', \"his father's <end> <end> <end> <end> <end> <end> <end> <end> <end> <end> <end> <end> <end> <end>\", 'tom and sam. <end> <end> <end> <end> <end> <end> <end> <end> <end> <end> <end> <end> <end>', 'you you you you you you you you you you you you you you you <end>', '<end> <end> <end> <end> <end> <end> <end> <end> <end> <end> <end> <end> <end> <end> <end> <end>']\n",
            "Loss - 0.0021041249856352806\n",
            "Translated - ['tunisia <end> <end> <end> <end> <end> <end> <end> <end> <end> <end> <end>', 'representatives are chosen chosen <end> <end> <end> <end> <end> <end> <end> <end>', 'sunday <end> <end> <end> <end> <end> <end> <end> <end> <end> <end> <end>', '1956 <end> <end> <end> <end> <end> <end> <end> <end> <end> <end> <end>', 'country gained its independence <end> <end> <end> <end> <end> <end> <end> <end>', 'menzah neighborhood <end> <end> <end> <end> <end> <end> <end> <end> <end> <end>', 'schools <end> <end> <end> <end> <end> <end> <end> <end> <end> <end> <end>', 'yes <end> <end> <end> <end> <end> <end> <end> <end> <end> <end> <end>', 'cnn <end> <end> <end> <end> <end> <end> <end> <end> <end> <end> <end>', 'yes <end> <end> <end> <end> <end> <end> <end> <end> <end> <end> <end>', 'george <end> <end> <end> <end> <end> <end> <end> <end> <end> <end> <end>', 'no <end> <end> <end> <end> <end> <end> <end> <end> <end> <end> <end>', 'yes <end> <end> <end> <end> <end> <end> <end> <end> <end> <end> <end>', 'clarence <end> <end> <end> <end> <end> <end> <end> <end> <end> <end> <end>', 'no <end> <end> <end> <end> <end> <end> <end> <end> <end> <end> <end>', 'yes <end> <end> <end> <end> <end> <end> <end> <end> <end> <end> <end>', 'no <end> <end> <end> <end> <end> <end> <end> <end> <end> <end> <end>', 'no <end> <end> <end> <end> <end> <end> <end> <end> <end> <end> <end>', 'lacked lacked for for <end> <end> <end> <end> <end> <end> <end> <end>', 'yes <end> <end> <end> <end> <end> <end> <end> <end> <end> <end> <end>', 'financial <end> <end> <end> <end> <end> <end> <end> <end> <end> <end> <end>', 'yes <end> <end> <end> <end> <end> <end> <end> <end> <end> <end> <end>', 'alexander <end> <end> <end> <end> <end> <end> <end> <end> <end> <end> <end>', 'tuesday <end> <end> <end> <end> <end> <end> <end> <end> <end> <end> <end>', 'captain putnam putnam <end> <end> <end> <end> <end> <end> <end> <end> <end>', 'run <end> <end> <end> <end> <end> <end> <end> <end> <end> <end> <end>', 'yes. <end> <end> <end> <end> <end> <end> <end> <end> <end> <end> <end>', 'no. <end> <end> <end> <end> <end> <end> <end> <end> <end> <end> <end>', 'captain putnam <end> <end> <end> <end> <end> <end> <end> <end> <end> <end>', \"his father's <end> <end> <end> <end> <end> <end> <end> <end> <end> <end>\", 'tom and <end> <end> <end> <end> <end> <end> <end> <end> <end> <end>', 'you you you you you you you you you you you <end>', '<end> <end> <end> <end> <end> <end> <end> <end> <end> <end> <end> <end>']\n",
            "Loss - 0.011183314956724644\n"
          ]
        },
        {
          "output_type": "stream",
          "name": "stderr",
          "text": [
            "\r 52%|█████▏    | 52/100 [03:21<02:52,  3.59s/it]"
          ]
        },
        {
          "output_type": "stream",
          "name": "stdout",
          "text": [
            "Translated - ['tunisia <end> <end> <end> <end> <end> <end> <end> <end> <end>', 'representatives are chosen chosen chosen <end> <end> <end> <end> <end>', 'sunday <end> <end> <end> <end> <end> <end> <end> <end> <end>', '1956 <end> <end> <end> <end> <end> <end> <end> <end> <end>', 'country its its <end> <end> <end> <end> <end> <end> <end>', 'menzah neighborhood <end> <end> <end> <end> <end> <end> <end> <end>', 'schools <end> <end> <end> <end> <end> <end> <end> <end> <end>', 'yes <end> <end> <end> <end> <end> <end> <end> <end> <end>', 'cnn <end> <end> <end> <end> <end> <end> <end> <end> <end>', 'yes <end> <end> <end> <end> <end> <end> <end> <end> <end>', 'george <end> <end> <end> <end> <end> <end> <end> <end> <end>', 'no <end> <end> <end> <end> <end> <end> <end> <end> <end>', 'yes <end> <end> <end> <end> <end> <end> <end> <end> <end>', 'clarence <end> <end> <end> <end> <end> <end> <end> <end> <end>', 'no <end> <end> <end> <end> <end> <end> <end> <end> <end>', 'yes <end> <end> <end> <end> <end> <end> <end> <end> <end>', 'no <end> <end> <end> <end> <end> <end> <end> <end> <end>', 'no <end> <end> <end> <end> <end> <end> <end> <end> <end>', 'lacked lacked for for <end> <end> <end> <end> <end> <end>', 'yes <end> <end> <end> <end> <end> <end> <end> <end> <end>', 'financial <end> <end> <end> <end> <end> <end> <end> <end> <end>', 'yes <end> <end> <end> <end> <end> <end> <end> <end> <end>', 'alexander <end> <end> <end> <end> <end> <end> <end> <end> <end>', 'tuesday <end> <end> <end> <end> <end> <end> <end> <end> <end>', 'captain putnam <end> <end> <end> <end> <end> <end> <end> <end>', 'run away <end> <end> <end> <end> <end> <end> <end> <end>', 'yes. <end> <end> <end> <end> <end> <end> <end> <end> <end>', 'no. <end> <end> <end> <end> <end> <end> <end> <end> <end>', 'captain putnam <end> <end> <end> <end> <end> <end> <end> <end>', \"his father's <end> <end> <end> <end> <end> <end> <end> <end>\", 'tom and <end> <end> <end> <end> <end> <end> <end> <end>', 'you you you you you you you you you <end>', '<end> <end> <end> <end> <end> <end> <end> <end> <end> <end>']\n",
            "Loss - 0.0018862723372876644\n",
            "Translated - ['tunisia <end> <end> <end> <end> <end> <end> <end> <end>', 'representatives are chosen chosen <end> <end> <end> <end> <end>', 'sunday <end> <end> <end> <end> <end> <end> <end> <end>', '1956 <end> <end> <end> <end> <end> <end> <end> <end>', 'country its its <end> <end> <end> <end> <end> <end>', 'menzah neighborhood <end> <end> <end> <end> <end> <end> <end>', 'schools <end> <end> <end> <end> <end> <end> <end> <end>', 'yes <end> <end> <end> <end> <end> <end> <end> <end>', 'cnn <end> <end> <end> <end> <end> <end> <end> <end>', 'yes <end> <end> <end> <end> <end> <end> <end> <end>', 'george <end> <end> <end> <end> <end> <end> <end> <end>', 'no <end> <end> <end> <end> <end> <end> <end> <end>', 'yes <end> <end> <end> <end> <end> <end> <end> <end>', 'clarence <end> <end> <end> <end> <end> <end> <end> <end>', 'no <end> <end> <end> <end> <end> <end> <end> <end>', 'yes <end> <end> <end> <end> <end> <end> <end> <end>', 'no <end> <end> <end> <end> <end> <end> <end> <end>', 'no <end> <end> <end> <end> <end> <end> <end> <end>', 'lacked lover for for <end> <end> <end> <end> <end>', 'yes <end> <end> <end> <end> <end> <end> <end> <end>', 'financial <end> <end> <end> <end> <end> <end> <end> <end>', 'yes <end> <end> <end> <end> <end> <end> <end> <end>', 'alexander <end> <end> <end> <end> <end> <end> <end> <end>', 'tuesday <end> <end> <end> <end> <end> <end> <end> <end>', 'captain putnam <end> <end> <end> <end> <end> <end> <end>', 'run away <end> <end> <end> <end> <end> <end> <end>', 'yes. <end> <end> <end> <end> <end> <end> <end> <end>', 'no. <end> <end> <end> <end> <end> <end> <end> <end>', 'captain putnam <end> <end> <end> <end> <end> <end> <end>', \"his father's <end> <end> <end> <end> <end> <end> <end>\", 'tom and <end> <end> <end> <end> <end> <end> <end>', 'you you you you you you you you <end>', '<end> <end> <end> <end> <end> <end> <end> <end> <end>']\n",
            "Loss - 0.011172858066856861\n"
          ]
        },
        {
          "output_type": "stream",
          "name": "stderr",
          "text": [
            "\r 53%|█████▎    | 53/100 [03:25<02:46,  3.55s/it]"
          ]
        },
        {
          "output_type": "stream",
          "name": "stdout",
          "text": [
            "Translated - ['tunisia <end> <end> <end> <end> <end> <end> <end> <end> <end> <end> <end>', 'representatives are chosen <end> <end> <end> <end> <end> <end> <end> <end> <end>', 'sunday <end> <end> <end> <end> <end> <end> <end> <end> <end> <end> <end>', '1956 <end> <end> <end> <end> <end> <end> <end> <end> <end> <end> <end>', 'country its its <end> <end> <end> <end> <end> <end> <end> <end> <end>', 'menzah neighborhood <end> <end> <end> <end> <end> <end> <end> <end> <end> <end>', 'schools <end> <end> <end> <end> <end> <end> <end> <end> <end> <end> <end>', 'yes <end> <end> <end> <end> <end> <end> <end> <end> <end> <end> <end>', 'cnn <end> <end> <end> <end> <end> <end> <end> <end> <end> <end> <end>', 'yes <end> <end> <end> <end> <end> <end> <end> <end> <end> <end> <end>', 'george <end> <end> <end> <end> <end> <end> <end> <end> <end> <end> <end>', 'no <end> <end> <end> <end> <end> <end> <end> <end> <end> <end> <end>', 'yes <end> <end> <end> <end> <end> <end> <end> <end> <end> <end> <end>', 'clarence <end> <end> <end> <end> <end> <end> <end> <end> <end> <end> <end>', 'no <end> <end> <end> <end> <end> <end> <end> <end> <end> <end> <end>', 'yes <end> <end> <end> <end> <end> <end> <end> <end> <end> <end> <end>', 'no <end> <end> <end> <end> <end> <end> <end> <end> <end> <end> <end>', 'no <end> <end> <end> <end> <end> <end> <end> <end> <end> <end> <end>', 'he lover lover for for for <end> <end> <end> <end> <end> <end>', 'yes <end> <end> <end> <end> <end> <end> <end> <end> <end> <end> <end>', 'financial <end> <end> <end> <end> <end> <end> <end> <end> <end> <end> <end>', 'yes <end> <end> <end> <end> <end> <end> <end> <end> <end> <end> <end>', 'alexander <end> <end> <end> <end> <end> <end> <end> <end> <end> <end> <end>', 'tuesday <end> <end> <end> <end> <end> <end> <end> <end> <end> <end> <end>', 'captain putnam <end> <end> <end> <end> <end> <end> <end> <end> <end> <end>', 'run away <end> <end> <end> <end> <end> <end> <end> <end> <end> <end>', 'yes. <end> <end> <end> <end> <end> <end> <end> <end> <end> <end> <end>', 'no. <end> <end> <end> <end> <end> <end> <end> <end> <end> <end> <end>', 'captain putnam <end> <end> <end> <end> <end> <end> <end> <end> <end> <end>', \"his father's <end> <end> <end> <end> <end> <end> <end> <end> <end> <end>\", 'tom and <end> <end> <end> <end> <end> <end> <end> <end> <end> <end>', 'you you you you you you you you you you you <end>', '<end> <end> <end> <end> <end> <end> <end> <end> <end> <end> <end> <end>']\n",
            "Loss - 0.0018161622574552894\n",
            "Translated - ['tunisia <end> <end> <end> <end> <end> <end> <end> <end> <end> <end> <end> <end> <end> <end> <end>', 'representatives are chosen <end> <end> <end> <end> <end> <end> <end> <end> <end> <end> <end> <end> <end>', 'sunday <end> <end> <end> <end> <end> <end> <end> <end> <end> <end> <end> <end> <end> <end> <end>', '1956 <end> <end> <end> <end> <end> <end> <end> <end> <end> <end> <end> <end> <end> <end> <end>', 'country gained its <end> <end> <end> <end> <end> <end> <end> <end> <end> <end> <end> <end> <end>', 'menzah neighborhood <end> <end> <end> <end> <end> <end> <end> <end> <end> <end> <end> <end> <end> <end>', 'schools <end> <end> <end> <end> <end> <end> <end> <end> <end> <end> <end> <end> <end> <end> <end>', 'yes <end> <end> <end> <end> <end> <end> <end> <end> <end> <end> <end> <end> <end> <end> <end>', 'cnn <end> <end> <end> <end> <end> <end> <end> <end> <end> <end> <end> <end> <end> <end> <end>', 'yes <end> <end> <end> <end> <end> <end> <end> <end> <end> <end> <end> <end> <end> <end> <end>', 'george <end> <end> <end> <end> <end> <end> <end> <end> <end> <end> <end> <end> <end> <end> <end>', 'no <end> <end> <end> <end> <end> <end> <end> <end> <end> <end> <end> <end> <end> <end> <end>', 'yes <end> <end> <end> <end> <end> <end> <end> <end> <end> <end> <end> <end> <end> <end> <end>', 'clarence <end> <end> <end> <end> <end> <end> <end> <end> <end> <end> <end> <end> <end> <end> <end>', 'no <end> <end> <end> <end> <end> <end> <end> <end> <end> <end> <end> <end> <end> <end> <end>', 'yes <end> <end> <end> <end> <end> <end> <end> <end> <end> <end> <end> <end> <end> <end> <end>', 'no <end> <end> <end> <end> <end> <end> <end> <end> <end> <end> <end> <end> <end> <end> <end>', 'no <end> <end> <end> <end> <end> <end> <end> <end> <end> <end> <end> <end> <end> <end> <end>', 'he lacked lover lover for for for for for for for for for for for for', 'yes <end> <end> <end> <end> <end> <end> <end> <end> <end> <end> <end> <end> <end> <end> <end>', 'financial <end> <end> <end> <end> <end> <end> <end> <end> <end> <end> <end> <end> <end> <end> <end>', 'yes <end> <end> <end> <end> <end> <end> <end> <end> <end> <end> <end> <end> <end> <end> <end>', 'alexander alexander <end> <end> <end> <end> <end> <end> <end> <end> <end> <end> <end> <end> <end> <end>', 'tuesday <end> <end> <end> <end> <end> <end> <end> <end> <end> <end> <end> <end> <end> <end> <end>', 'captain putnam <end> <end> <end> <end> <end> <end> <end> <end> <end> <end> <end> <end> <end> <end>', 'run away <end> <end> <end> <end> <end> <end> <end> <end> <end> <end> <end> <end> <end> <end>', 'yes. <end> <end> <end> <end> <end> <end> <end> <end> <end> <end> <end> <end> <end> <end> <end>', 'no. <end> <end> <end> <end> <end> <end> <end> <end> <end> <end> <end> <end> <end> <end> <end>', 'captain putnam <end> <end> <end> <end> <end> <end> <end> <end> <end> <end> <end> <end> <end> <end>', \"his father's <end> <end> <end> <end> <end> <end> <end> <end> <end> <end> <end> <end> <end> <end>\", 'tom sam. sam. <end> <end> <end> <end> <end> <end> <end> <end> <end> <end> <end> <end> <end>', 'you you you you you you you you you you you you you you you you', 'his <end> <end> <end> <end> <end> <end> <end> <end> <end> <end> <end> <end> <end> <end> <end>']\n",
            "Loss - 0.010921577922999859\n"
          ]
        },
        {
          "output_type": "stream",
          "name": "stderr",
          "text": [
            "\r 54%|█████▍    | 54/100 [03:28<02:41,  3.52s/it]"
          ]
        },
        {
          "output_type": "stream",
          "name": "stdout",
          "text": [
            "Translated - ['tunisia <end> <end> <end> <end> <end> <end> <end> <end> <end> <end> <end> <end> <end> <end> <end>', 'representatives are chosen <end> <end> <end> <end> <end> <end> <end> <end> <end> <end> <end> <end> <end>', 'sunday <end> <end> <end> <end> <end> <end> <end> <end> <end> <end> <end> <end> <end> <end> <end>', '1956 <end> <end> <end> <end> <end> <end> <end> <end> <end> <end> <end> <end> <end> <end> <end>', 'country gained gained <end> <end> <end> <end> <end> <end> <end> <end> <end> <end> <end> <end> <end>', 'menzah neighborhood <end> <end> <end> <end> <end> <end> <end> <end> <end> <end> <end> <end> <end> <end>', 'schools <end> <end> <end> <end> <end> <end> <end> <end> <end> <end> <end> <end> <end> <end> <end>', 'yes <end> <end> <end> <end> <end> <end> <end> <end> <end> <end> <end> <end> <end> <end> <end>', 'cnn <end> <end> <end> <end> <end> <end> <end> <end> <end> <end> <end> <end> <end> <end> <end>', 'yes <end> <end> <end> <end> <end> <end> <end> <end> <end> <end> <end> <end> <end> <end> <end>', 'george <end> <end> <end> <end> <end> <end> <end> <end> <end> <end> <end> <end> <end> <end> <end>', 'no <end> <end> <end> <end> <end> <end> <end> <end> <end> <end> <end> <end> <end> <end> <end>', 'yes <end> <end> <end> <end> <end> <end> <end> <end> <end> <end> <end> <end> <end> <end> <end>', 'clarence <end> <end> <end> <end> <end> <end> <end> <end> <end> <end> <end> <end> <end> <end> <end>', 'no <end> <end> <end> <end> <end> <end> <end> <end> <end> <end> <end> <end> <end> <end> <end>', 'yes <end> <end> <end> <end> <end> <end> <end> <end> <end> <end> <end> <end> <end> <end> <end>', 'no <end> <end> <end> <end> <end> <end> <end> <end> <end> <end> <end> <end> <end> <end> <end>', 'no <end> <end> <end> <end> <end> <end> <end> <end> <end> <end> <end> <end> <end> <end> <end>', 'he lacked lover lover lover a a a a a a a a a a a', 'yes <end> <end> <end> <end> <end> <end> <end> <end> <end> <end> <end> <end> <end> <end> <end>', 'financial <end> <end> <end> <end> <end> <end> <end> <end> <end> <end> <end> <end> <end> <end> <end>', 'yes <end> <end> <end> <end> <end> <end> <end> <end> <end> <end> <end> <end> <end> <end> <end>', 'alexander alexander <end> <end> <end> <end> <end> <end> <end> <end> <end> <end> <end> <end> <end> <end>', 'tuesday <end> <end> <end> <end> <end> <end> <end> <end> <end> <end> <end> <end> <end> <end> <end>', 'captain putnam <end> <end> <end> <end> <end> <end> <end> <end> <end> <end> <end> <end> <end> <end>', 'run away <end> <end> <end> <end> <end> <end> <end> <end> <end> <end> <end> <end> <end> <end>', 'yes. <end> <end> <end> <end> <end> <end> <end> <end> <end> <end> <end> <end> <end> <end> <end>', 'no. <end> <end> <end> <end> <end> <end> <end> <end> <end> <end> <end> <end> <end> <end> <end>', 'captain putnam <end> <end> <end> <end> <end> <end> <end> <end> <end> <end> <end> <end> <end> <end>', \"his father's <end> <end> <end> <end> <end> <end> <end> <end> <end> <end> <end> <end> <end> <end>\", 'tom sam. sam. <end> <end> <end> <end> <end> <end> <end> <end> <end> <end> <end> <end> <end>', 'you you you you you you you you you you you you you you <end> <end>', 'his <end> <end> <end> <end> <end> <end> <end> <end> <end> <end> <end> <end> <end> <end> <end>']\n",
            "Loss - 0.0017332527786493301\n",
            "Translated - ['tunisia <end> <end> <end> <end> <end> <end> <end> <end> <end> <end> <end> <end> <end> <end> <end>', 'representatives are chosen <end> <end> <end> <end> <end> <end> <end> <end> <end> <end> <end> <end> <end>', 'sunday <end> <end> <end> <end> <end> <end> <end> <end> <end> <end> <end> <end> <end> <end> <end>', '1956 <end> <end> <end> <end> <end> <end> <end> <end> <end> <end> <end> <end> <end> <end> <end>', 'country gained gained <end> <end> <end> <end> <end> <end> <end> <end> <end> <end> <end> <end> <end>', 'menzah neighborhood <end> <end> <end> <end> <end> <end> <end> <end> <end> <end> <end> <end> <end> <end>', 'schools <end> <end> <end> <end> <end> <end> <end> <end> <end> <end> <end> <end> <end> <end> <end>', 'yes <end> <end> <end> <end> <end> <end> <end> <end> <end> <end> <end> <end> <end> <end> <end>', 'cnn <end> <end> <end> <end> <end> <end> <end> <end> <end> <end> <end> <end> <end> <end> <end>', 'yes <end> <end> <end> <end> <end> <end> <end> <end> <end> <end> <end> <end> <end> <end> <end>', 'george <end> <end> <end> <end> <end> <end> <end> <end> <end> <end> <end> <end> <end> <end> <end>', 'no <end> <end> <end> <end> <end> <end> <end> <end> <end> <end> <end> <end> <end> <end> <end>', 'yes <end> <end> <end> <end> <end> <end> <end> <end> <end> <end> <end> <end> <end> <end> <end>', 'clarence <end> <end> <end> <end> <end> <end> <end> <end> <end> <end> <end> <end> <end> <end> <end>', 'no <end> <end> <end> <end> <end> <end> <end> <end> <end> <end> <end> <end> <end> <end> <end>', 'yes <end> <end> <end> <end> <end> <end> <end> <end> <end> <end> <end> <end> <end> <end> <end>', 'no <end> <end> <end> <end> <end> <end> <end> <end> <end> <end> <end> <end> <end> <end> <end>', 'no <end> <end> <end> <end> <end> <end> <end> <end> <end> <end> <end> <end> <end> <end> <end>', 'he he one one in a a a a a a a a a a a', 'yes <end> <end> <end> <end> <end> <end> <end> <end> <end> <end> <end> <end> <end> <end> <end>', 'financial <end> <end> <end> <end> <end> <end> <end> <end> <end> <end> <end> <end> <end> <end> <end>', 'yes <end> <end> <end> <end> <end> <end> <end> <end> <end> <end> <end> <end> <end> <end> <end>', 'alexander alexander <end> <end> <end> <end> <end> <end> <end> <end> <end> <end> <end> <end> <end> <end>', 'tuesday <end> <end> <end> <end> <end> <end> <end> <end> <end> <end> <end> <end> <end> <end> <end>', 'captain putnam <end> <end> <end> <end> <end> <end> <end> <end> <end> <end> <end> <end> <end> <end>', 'run away <end> <end> <end> <end> <end> <end> <end> <end> <end> <end> <end> <end> <end> <end>', 'yes. <end> <end> <end> <end> <end> <end> <end> <end> <end> <end> <end> <end> <end> <end> <end>', 'no. <end> <end> <end> <end> <end> <end> <end> <end> <end> <end> <end> <end> <end> <end> <end>', 'captain putnam <end> <end> <end> <end> <end> <end> <end> <end> <end> <end> <end> <end> <end> <end>', \"his father's <end> <end> <end> <end> <end> <end> <end> <end> <end> <end> <end> <end> <end> <end>\", 'tom sam. sam. <end> <end> <end> <end> <end> <end> <end> <end> <end> <end> <end> <end> <end>', 'you you you you you you you you you you you you <end> <end> <end> <end>', 'his <end> <end> <end> <end> <end> <end> <end> <end> <end> <end> <end> <end> <end> <end> <end>']\n",
            "Loss - 0.010748821310698986\n"
          ]
        },
        {
          "output_type": "stream",
          "name": "stderr",
          "text": [
            "\r 55%|█████▌    | 55/100 [03:31<02:38,  3.52s/it]"
          ]
        },
        {
          "output_type": "stream",
          "name": "stdout",
          "text": [
            "Translated - ['tunisia <end> <end> <end> <end> <end> <end> <end> <end> <end> <end> <end> <end> <end> <end> <end>', 'representatives are chosen <end> <end> <end> <end> <end> <end> <end> <end> <end> <end> <end> <end> <end>', 'sunday <end> <end> <end> <end> <end> <end> <end> <end> <end> <end> <end> <end> <end> <end> <end>', '1956 <end> <end> <end> <end> <end> <end> <end> <end> <end> <end> <end> <end> <end> <end> <end>', 'country gained gained <end> <end> <end> <end> <end> <end> <end> <end> <end> <end> <end> <end> <end>', 'menzah neighborhood <end> <end> <end> <end> <end> <end> <end> <end> <end> <end> <end> <end> <end> <end>', 'schools <end> <end> <end> <end> <end> <end> <end> <end> <end> <end> <end> <end> <end> <end> <end>', 'yes <end> <end> <end> <end> <end> <end> <end> <end> <end> <end> <end> <end> <end> <end> <end>', 'cnn <end> <end> <end> <end> <end> <end> <end> <end> <end> <end> <end> <end> <end> <end> <end>', 'yes <end> <end> <end> <end> <end> <end> <end> <end> <end> <end> <end> <end> <end> <end> <end>', 'george <end> <end> <end> <end> <end> <end> <end> <end> <end> <end> <end> <end> <end> <end> <end>', 'no <end> <end> <end> <end> <end> <end> <end> <end> <end> <end> <end> <end> <end> <end> <end>', 'yes <end> <end> <end> <end> <end> <end> <end> <end> <end> <end> <end> <end> <end> <end> <end>', 'clarence <end> <end> <end> <end> <end> <end> <end> <end> <end> <end> <end> <end> <end> <end> <end>', 'no <end> <end> <end> <end> <end> <end> <end> <end> <end> <end> <end> <end> <end> <end> <end>', 'yes <end> <end> <end> <end> <end> <end> <end> <end> <end> <end> <end> <end> <end> <end> <end>', 'no <end> <end> <end> <end> <end> <end> <end> <end> <end> <end> <end> <end> <end> <end> <end>', 'no <end> <end> <end> <end> <end> <end> <end> <end> <end> <end> <end> <end> <end> <end> <end>', 'he he one one in in a a a a a a a a a a', 'yes <end> <end> <end> <end> <end> <end> <end> <end> <end> <end> <end> <end> <end> <end> <end>', 'financial <end> <end> <end> <end> <end> <end> <end> <end> <end> <end> <end> <end> <end> <end> <end>', 'yes <end> <end> <end> <end> <end> <end> <end> <end> <end> <end> <end> <end> <end> <end> <end>', 'alexander <end> <end> <end> <end> <end> <end> <end> <end> <end> <end> <end> <end> <end> <end> <end>', 'tuesday <end> <end> <end> <end> <end> <end> <end> <end> <end> <end> <end> <end> <end> <end> <end>', 'captain putnam <end> <end> <end> <end> <end> <end> <end> <end> <end> <end> <end> <end> <end> <end>', 'run away <end> <end> <end> <end> <end> <end> <end> <end> <end> <end> <end> <end> <end> <end>', 'yes. <end> <end> <end> <end> <end> <end> <end> <end> <end> <end> <end> <end> <end> <end> <end>', 'no. <end> <end> <end> <end> <end> <end> <end> <end> <end> <end> <end> <end> <end> <end> <end>', 'captain putnam <end> <end> <end> <end> <end> <end> <end> <end> <end> <end> <end> <end> <end> <end>', 'his <end> <end> <end> <end> <end> <end> <end> <end> <end> <end> <end> <end> <end> <end> <end>', 'tom sam. sam. <end> <end> <end> <end> <end> <end> <end> <end> <end> <end> <end> <end> <end>', 'you you you you you you you you you you <end> <end> <end> <end> <end> <end>', '<end> <end> <end> <end> <end> <end> <end> <end> <end> <end> <end> <end> <end> <end> <end> <end>']\n",
            "Loss - 0.0016801073215901852\n",
            "Translated - ['tunisia <end> <end> <end> <end> <end> <end> <end> <end> <end> <end> <end> <end> <end> <end> <end>', 'representatives are chosen <end> <end> <end> <end> <end> <end> <end> <end> <end> <end> <end> <end> <end>', 'sunday <end> <end> <end> <end> <end> <end> <end> <end> <end> <end> <end> <end> <end> <end> <end>', '1956 <end> <end> <end> <end> <end> <end> <end> <end> <end> <end> <end> <end> <end> <end> <end>', 'country gained its <end> <end> <end> <end> <end> <end> <end> <end> <end> <end> <end> <end> <end>', 'menzah neighborhood <end> <end> <end> <end> <end> <end> <end> <end> <end> <end> <end> <end> <end> <end>', 'schools <end> <end> <end> <end> <end> <end> <end> <end> <end> <end> <end> <end> <end> <end> <end>', 'yes <end> <end> <end> <end> <end> <end> <end> <end> <end> <end> <end> <end> <end> <end> <end>', 'cnn <end> <end> <end> <end> <end> <end> <end> <end> <end> <end> <end> <end> <end> <end> <end>', 'yes <end> <end> <end> <end> <end> <end> <end> <end> <end> <end> <end> <end> <end> <end> <end>', 'george <end> <end> <end> <end> <end> <end> <end> <end> <end> <end> <end> <end> <end> <end> <end>', 'no <end> <end> <end> <end> <end> <end> <end> <end> <end> <end> <end> <end> <end> <end> <end>', 'yes <end> <end> <end> <end> <end> <end> <end> <end> <end> <end> <end> <end> <end> <end> <end>', 'clarence <end> <end> <end> <end> <end> <end> <end> <end> <end> <end> <end> <end> <end> <end> <end>', 'no <end> <end> <end> <end> <end> <end> <end> <end> <end> <end> <end> <end> <end> <end> <end>', 'yes <end> <end> <end> <end> <end> <end> <end> <end> <end> <end> <end> <end> <end> <end> <end>', 'no <end> <end> <end> <end> <end> <end> <end> <end> <end> <end> <end> <end> <end> <end> <end>', 'no <end> <end> <end> <end> <end> <end> <end> <end> <end> <end> <end> <end> <end> <end> <end>', 'he he one one in in a a a a a a a a a a', 'yes <end> <end> <end> <end> <end> <end> <end> <end> <end> <end> <end> <end> <end> <end> <end>', 'financial <end> <end> <end> <end> <end> <end> <end> <end> <end> <end> <end> <end> <end> <end> <end>', 'yes <end> <end> <end> <end> <end> <end> <end> <end> <end> <end> <end> <end> <end> <end> <end>', 'alexander <end> <end> <end> <end> <end> <end> <end> <end> <end> <end> <end> <end> <end> <end> <end>', 'tuesday <end> <end> <end> <end> <end> <end> <end> <end> <end> <end> <end> <end> <end> <end> <end>', 'captain putnam <end> <end> <end> <end> <end> <end> <end> <end> <end> <end> <end> <end> <end> <end>', 'run <end> <end> <end> <end> <end> <end> <end> <end> <end> <end> <end> <end> <end> <end> <end>', 'yes. <end> <end> <end> <end> <end> <end> <end> <end> <end> <end> <end> <end> <end> <end> <end>', 'no. <end> <end> <end> <end> <end> <end> <end> <end> <end> <end> <end> <end> <end> <end> <end>', 'captain putnam <end> <end> <end> <end> <end> <end> <end> <end> <end> <end> <end> <end> <end> <end>', 'his <end> <end> <end> <end> <end> <end> <end> <end> <end> <end> <end> <end> <end> <end> <end>', 'tom sam. sam. <end> <end> <end> <end> <end> <end> <end> <end> <end> <end> <end> <end> <end>', 'declare you you you you you you you <end> <end> <end> <end> <end> <end> <end> <end>', '<end> <end> <end> <end> <end> <end> <end> <end> <end> <end> <end> <end> <end> <end> <end> <end>']\n",
            "Loss - 0.010552876628935337\n"
          ]
        },
        {
          "output_type": "stream",
          "name": "stderr",
          "text": [
            "\r 56%|█████▌    | 56/100 [03:35<02:33,  3.49s/it]"
          ]
        },
        {
          "output_type": "stream",
          "name": "stdout",
          "text": [
            "Translated - ['tunisia <end> <end> <end> <end> <end> <end> <end> <end> <end> <end> <end> <end> <end> <end> <end>', 'representatives are chosen <end> <end> <end> <end> <end> <end> <end> <end> <end> <end> <end> <end> <end>', 'sunday <end> <end> <end> <end> <end> <end> <end> <end> <end> <end> <end> <end> <end> <end> <end>', '1956 <end> <end> <end> <end> <end> <end> <end> <end> <end> <end> <end> <end> <end> <end> <end>', 'country gained its <end> <end> <end> <end> <end> <end> <end> <end> <end> <end> <end> <end> <end>', 'menzah neighborhood <end> <end> <end> <end> <end> <end> <end> <end> <end> <end> <end> <end> <end> <end>', 'schools <end> <end> <end> <end> <end> <end> <end> <end> <end> <end> <end> <end> <end> <end> <end>', 'yes <end> <end> <end> <end> <end> <end> <end> <end> <end> <end> <end> <end> <end> <end> <end>', 'cnn <end> <end> <end> <end> <end> <end> <end> <end> <end> <end> <end> <end> <end> <end> <end>', 'yes <end> <end> <end> <end> <end> <end> <end> <end> <end> <end> <end> <end> <end> <end> <end>', 'george <end> <end> <end> <end> <end> <end> <end> <end> <end> <end> <end> <end> <end> <end> <end>', 'no <end> <end> <end> <end> <end> <end> <end> <end> <end> <end> <end> <end> <end> <end> <end>', 'yes <end> <end> <end> <end> <end> <end> <end> <end> <end> <end> <end> <end> <end> <end> <end>', 'clarence <end> <end> <end> <end> <end> <end> <end> <end> <end> <end> <end> <end> <end> <end> <end>', 'no <end> <end> <end> <end> <end> <end> <end> <end> <end> <end> <end> <end> <end> <end> <end>', 'yes <end> <end> <end> <end> <end> <end> <end> <end> <end> <end> <end> <end> <end> <end> <end>', 'no <end> <end> <end> <end> <end> <end> <end> <end> <end> <end> <end> <end> <end> <end> <end>', 'no <end> <end> <end> <end> <end> <end> <end> <end> <end> <end> <end> <end> <end> <end> <end>', 'he he one one looked looked a a a a a a a a a a', 'yes <end> <end> <end> <end> <end> <end> <end> <end> <end> <end> <end> <end> <end> <end> <end>', 'financial <end> <end> <end> <end> <end> <end> <end> <end> <end> <end> <end> <end> <end> <end> <end>', 'yes <end> <end> <end> <end> <end> <end> <end> <end> <end> <end> <end> <end> <end> <end> <end>', 'alexander <end> <end> <end> <end> <end> <end> <end> <end> <end> <end> <end> <end> <end> <end> <end>', 'tuesday <end> <end> <end> <end> <end> <end> <end> <end> <end> <end> <end> <end> <end> <end> <end>', 'captain putnam <end> <end> <end> <end> <end> <end> <end> <end> <end> <end> <end> <end> <end> <end>', 'run away <end> <end> <end> <end> <end> <end> <end> <end> <end> <end> <end> <end> <end> <end>', 'yes. <end> <end> <end> <end> <end> <end> <end> <end> <end> <end> <end> <end> <end> <end> <end>', 'no. <end> <end> <end> <end> <end> <end> <end> <end> <end> <end> <end> <end> <end> <end> <end>', 'captain putnam <end> <end> <end> <end> <end> <end> <end> <end> <end> <end> <end> <end> <end> <end>', 'his <end> <end> <end> <end> <end> <end> <end> <end> <end> <end> <end> <end> <end> <end> <end>', 'tom sam. sam. <end> <end> <end> <end> <end> <end> <end> <end> <end> <end> <end> <end> <end>', 'declare you you you you you you you you you <end> <end> <end> <end> <end> <end>', '<end> <end> <end> <end> <end> <end> <end> <end> <end> <end> <end> <end> <end> <end> <end> <end>']\n",
            "Loss - 0.0015934316907078028\n",
            "Translated - ['tunisia <end> <end> <end> <end> <end> <end> <end> <end> <end> <end> <end> <end> <end> <end> <end>', 'representatives are chosen <end> <end> <end> <end> <end> <end> <end> <end> <end> <end> <end> <end> <end>', 'sunday <end> <end> <end> <end> <end> <end> <end> <end> <end> <end> <end> <end> <end> <end> <end>', '1956 <end> <end> <end> <end> <end> <end> <end> <end> <end> <end> <end> <end> <end> <end> <end>', 'country gained its <end> <end> <end> <end> <end> <end> <end> <end> <end> <end> <end> <end> <end>', 'menzah neighborhood <end> <end> <end> <end> <end> <end> <end> <end> <end> <end> <end> <end> <end> <end>', 'schools <end> <end> <end> <end> <end> <end> <end> <end> <end> <end> <end> <end> <end> <end> <end>', 'yes <end> <end> <end> <end> <end> <end> <end> <end> <end> <end> <end> <end> <end> <end> <end>', 'cnn <end> <end> <end> <end> <end> <end> <end> <end> <end> <end> <end> <end> <end> <end> <end>', 'yes <end> <end> <end> <end> <end> <end> <end> <end> <end> <end> <end> <end> <end> <end> <end>', 'george <end> <end> <end> <end> <end> <end> <end> <end> <end> <end> <end> <end> <end> <end> <end>', 'no <end> <end> <end> <end> <end> <end> <end> <end> <end> <end> <end> <end> <end> <end> <end>', 'yes <end> <end> <end> <end> <end> <end> <end> <end> <end> <end> <end> <end> <end> <end> <end>', 'clarence <end> <end> <end> <end> <end> <end> <end> <end> <end> <end> <end> <end> <end> <end> <end>', 'no <end> <end> <end> <end> <end> <end> <end> <end> <end> <end> <end> <end> <end> <end> <end>', 'yes <end> <end> <end> <end> <end> <end> <end> <end> <end> <end> <end> <end> <end> <end> <end>', 'no <end> <end> <end> <end> <end> <end> <end> <end> <end> <end> <end> <end> <end> <end> <end>', 'no <end> <end> <end> <end> <end> <end> <end> <end> <end> <end> <end> <end> <end> <end> <end>', 'he he one one looked looked looked looked looked looked looked looked looked looked looked looked', 'yes <end> <end> <end> <end> <end> <end> <end> <end> <end> <end> <end> <end> <end> <end> <end>', 'financial <end> <end> <end> <end> <end> <end> <end> <end> <end> <end> <end> <end> <end> <end> <end>', 'yes <end> <end> <end> <end> <end> <end> <end> <end> <end> <end> <end> <end> <end> <end> <end>', 'alexander <end> <end> <end> <end> <end> <end> <end> <end> <end> <end> <end> <end> <end> <end> <end>', 'tuesday <end> <end> <end> <end> <end> <end> <end> <end> <end> <end> <end> <end> <end> <end> <end>', 'captain putnam <end> <end> <end> <end> <end> <end> <end> <end> <end> <end> <end> <end> <end> <end>', 'run away <end> <end> <end> <end> <end> <end> <end> <end> <end> <end> <end> <end> <end> <end>', 'yes. <end> <end> <end> <end> <end> <end> <end> <end> <end> <end> <end> <end> <end> <end> <end>', 'no. <end> <end> <end> <end> <end> <end> <end> <end> <end> <end> <end> <end> <end> <end> <end>', 'captain putnam <end> <end> <end> <end> <end> <end> <end> <end> <end> <end> <end> <end> <end> <end>', 'his <end> <end> <end> <end> <end> <end> <end> <end> <end> <end> <end> <end> <end> <end> <end>', 'tom sam. sam. <end> <end> <end> <end> <end> <end> <end> <end> <end> <end> <end> <end> <end>', 'as you you you you you you you you you <end> <end> <end> <end> <end> <end>', 'his <end> <end> <end> <end> <end> <end> <end> <end> <end> <end> <end> <end> <end> <end> <end>']\n",
            "Loss - 0.010264593176543713\n"
          ]
        },
        {
          "output_type": "stream",
          "name": "stderr",
          "text": [
            "\r 57%|█████▋    | 57/100 [03:38<02:29,  3.48s/it]"
          ]
        },
        {
          "output_type": "stream",
          "name": "stdout",
          "text": [
            "Translated - ['tunisia <end> <end> <end> <end> <end> <end> <end> <end> <end> <end> <end>', 'representatives are chosen <end> <end> <end> <end> <end> <end> <end> <end> <end>', 'sunday <end> <end> <end> <end> <end> <end> <end> <end> <end> <end> <end>', '1956 <end> <end> <end> <end> <end> <end> <end> <end> <end> <end> <end>', 'country its its <end> <end> <end> <end> <end> <end> <end> <end> <end>', 'menzah neighborhood <end> <end> <end> <end> <end> <end> <end> <end> <end> <end>', 'schools <end> <end> <end> <end> <end> <end> <end> <end> <end> <end> <end>', 'yes <end> <end> <end> <end> <end> <end> <end> <end> <end> <end> <end>', 'cnn <end> <end> <end> <end> <end> <end> <end> <end> <end> <end> <end>', 'yes <end> <end> <end> <end> <end> <end> <end> <end> <end> <end> <end>', 'george <end> <end> <end> <end> <end> <end> <end> <end> <end> <end> <end>', 'no <end> <end> <end> <end> <end> <end> <end> <end> <end> <end> <end>', 'yes <end> <end> <end> <end> <end> <end> <end> <end> <end> <end> <end>', 'clarence <end> <end> <end> <end> <end> <end> <end> <end> <end> <end> <end>', 'no <end> <end> <end> <end> <end> <end> <end> <end> <end> <end> <end>', 'yes <end> <end> <end> <end> <end> <end> <end> <end> <end> <end> <end>', 'no <end> <end> <end> <end> <end> <end> <end> <end> <end> <end> <end>', 'no <end> <end> <end> <end> <end> <end> <end> <end> <end> <end> <end>', 'he he one one looked looked <end> <end> <end> <end> <end> <end>', 'yes <end> <end> <end> <end> <end> <end> <end> <end> <end> <end> <end>', 'financial <end> <end> <end> <end> <end> <end> <end> <end> <end> <end> <end>', 'yes <end> <end> <end> <end> <end> <end> <end> <end> <end> <end> <end>', 'pop pop <end> <end> <end> <end> <end> <end> <end> <end> <end> <end>', 'tuesday <end> <end> <end> <end> <end> <end> <end> <end> <end> <end> <end>', 'captain putnam <end> <end> <end> <end> <end> <end> <end> <end> <end> <end>', 'run away <end> <end> <end> <end> <end> <end> <end> <end> <end> <end>', 'yes. <end> <end> <end> <end> <end> <end> <end> <end> <end> <end> <end>', 'no. <end> <end> <end> <end> <end> <end> <end> <end> <end> <end> <end>', 'captain putnam <end> <end> <end> <end> <end> <end> <end> <end> <end> <end>', 'his <end> <end> <end> <end> <end> <end> <end> <end> <end> <end> <end>', 'tom and sam. <end> <end> <end> <end> <end> <end> <end> <end> <end>', 'as you you you you you you you you you you <end>', 'his <end> <end> <end> <end> <end> <end> <end> <end> <end> <end> <end>']\n",
            "Loss - 0.001536156632937491\n",
            "Translated - ['tunisia <end> <end> <end> <end> <end> <end> <end> <end> <end> <end> <end> <end>', 'representatives are chosen chosen <end> <end> <end> <end> <end> <end> <end> <end> <end>', 'sunday <end> <end> <end> <end> <end> <end> <end> <end> <end> <end> <end> <end>', '1956 <end> <end> <end> <end> <end> <end> <end> <end> <end> <end> <end> <end>', 'country gained its <end> <end> <end> <end> <end> <end> <end> <end> <end> <end>', 'menzah neighborhood <end> <end> <end> <end> <end> <end> <end> <end> <end> <end> <end>', 'schools <end> <end> <end> <end> <end> <end> <end> <end> <end> <end> <end> <end>', 'yes <end> <end> <end> <end> <end> <end> <end> <end> <end> <end> <end> <end>', 'cnn <end> <end> <end> <end> <end> <end> <end> <end> <end> <end> <end> <end>', 'yes <end> <end> <end> <end> <end> <end> <end> <end> <end> <end> <end> <end>', 'george <end> <end> <end> <end> <end> <end> <end> <end> <end> <end> <end> <end>', 'no <end> <end> <end> <end> <end> <end> <end> <end> <end> <end> <end> <end>', 'yes <end> <end> <end> <end> <end> <end> <end> <end> <end> <end> <end> <end>', 'clarence <end> <end> <end> <end> <end> <end> <end> <end> <end> <end> <end> <end>', 'no <end> <end> <end> <end> <end> <end> <end> <end> <end> <end> <end> <end>', 'yes <end> <end> <end> <end> <end> <end> <end> <end> <end> <end> <end> <end>', 'no <end> <end> <end> <end> <end> <end> <end> <end> <end> <end> <end> <end>', 'no <end> <end> <end> <end> <end> <end> <end> <end> <end> <end> <end> <end>', 'he he one one looked looked <end> <end> <end> <end> <end> <end> <end>', 'yes <end> <end> <end> <end> <end> <end> <end> <end> <end> <end> <end> <end>', 'financial <end> <end> <end> <end> <end> <end> <end> <end> <end> <end> <end> <end>', 'yes <end> <end> <end> <end> <end> <end> <end> <end> <end> <end> <end> <end>', 'pop pop <end> <end> <end> <end> <end> <end> <end> <end> <end> <end> <end>', 'tuesday <end> <end> <end> <end> <end> <end> <end> <end> <end> <end> <end> <end>', 'captain putnam <end> <end> <end> <end> <end> <end> <end> <end> <end> <end> <end>', 'run away <end> <end> <end> <end> <end> <end> <end> <end> <end> <end> <end>', 'yes. <end> <end> <end> <end> <end> <end> <end> <end> <end> <end> <end> <end>', 'no. <end> <end> <end> <end> <end> <end> <end> <end> <end> <end> <end> <end>', 'captain putnam <end> <end> <end> <end> <end> <end> <end> <end> <end> <end> <end>', \"his father's <end> <end> <end> <end> <end> <end> <end> <end> <end> <end> <end>\", 'tom and sam. <end> <end> <end> <end> <end> <end> <end> <end> <end> <end>', '\"glad you you you you you you you you you you you <end>', 'his <end> <end> <end> <end> <end> <end> <end> <end> <end> <end> <end> <end>']\n",
            "Loss - 0.010179556906223297\n"
          ]
        },
        {
          "output_type": "stream",
          "name": "stderr",
          "text": [
            "\r 58%|█████▊    | 58/100 [03:42<02:25,  3.47s/it]"
          ]
        },
        {
          "output_type": "stream",
          "name": "stdout",
          "text": [
            "Translated - ['tunisia <end> <end> <end> <end> <end> <end> <end> <end> <end> <end> <end> <end>', 'representatives are chosen chosen <end> <end> <end> <end> <end> <end> <end> <end> <end>', 'sunday <end> <end> <end> <end> <end> <end> <end> <end> <end> <end> <end> <end>', '1956 <end> <end> <end> <end> <end> <end> <end> <end> <end> <end> <end> <end>', 'country gained its <end> <end> <end> <end> <end> <end> <end> <end> <end> <end>', 'menzah neighborhood <end> <end> <end> <end> <end> <end> <end> <end> <end> <end> <end>', 'schools <end> <end> <end> <end> <end> <end> <end> <end> <end> <end> <end> <end>', 'yes <end> <end> <end> <end> <end> <end> <end> <end> <end> <end> <end> <end>', 'cnn <end> <end> <end> <end> <end> <end> <end> <end> <end> <end> <end> <end>', 'yes <end> <end> <end> <end> <end> <end> <end> <end> <end> <end> <end> <end>', 'george <end> <end> <end> <end> <end> <end> <end> <end> <end> <end> <end> <end>', 'no <end> <end> <end> <end> <end> <end> <end> <end> <end> <end> <end> <end>', 'yes <end> <end> <end> <end> <end> <end> <end> <end> <end> <end> <end> <end>', 'clarence <end> <end> <end> <end> <end> <end> <end> <end> <end> <end> <end> <end>', 'no <end> <end> <end> <end> <end> <end> <end> <end> <end> <end> <end> <end>', 'yes <end> <end> <end> <end> <end> <end> <end> <end> <end> <end> <end> <end>', 'no <end> <end> <end> <end> <end> <end> <end> <end> <end> <end> <end> <end>', 'no <end> <end> <end> <end> <end> <end> <end> <end> <end> <end> <end> <end>', 'he he one one looked looked <end> <end> <end> <end> <end> <end> <end>', 'yes <end> <end> <end> <end> <end> <end> <end> <end> <end> <end> <end> <end>', 'financial <end> <end> <end> <end> <end> <end> <end> <end> <end> <end> <end> <end>', 'yes <end> <end> <end> <end> <end> <end> <end> <end> <end> <end> <end> <end>', 'pop pop <end> <end> <end> <end> <end> <end> <end> <end> <end> <end> <end>', 'tuesday <end> <end> <end> <end> <end> <end> <end> <end> <end> <end> <end> <end>', 'captain putnam <end> <end> <end> <end> <end> <end> <end> <end> <end> <end> <end>', 'run away <end> <end> <end> <end> <end> <end> <end> <end> <end> <end> <end>', 'yes. <end> <end> <end> <end> <end> <end> <end> <end> <end> <end> <end> <end>', 'no. <end> <end> <end> <end> <end> <end> <end> <end> <end> <end> <end> <end>', 'captain putnam <end> <end> <end> <end> <end> <end> <end> <end> <end> <end> <end>', \"his father's <end> <end> <end> <end> <end> <end> <end> <end> <end> <end> <end>\", 'tom and sam. <end> <end> <end> <end> <end> <end> <end> <end> <end> <end>', '\"glad you you you you you you you you you you you <end>', 'his <end> <end> <end> <end> <end> <end> <end> <end> <end> <end> <end> <end>']\n",
            "Loss - 0.0014720481121912599\n",
            "Translated - ['tunisia <end> <end> <end> <end> <end> <end> <end> <end> <end> <end> <end> <end>', 'representatives are chosen chosen <end> <end> <end> <end> <end> <end> <end> <end> <end>', 'sunday <end> <end> <end> <end> <end> <end> <end> <end> <end> <end> <end> <end>', '1956 <end> <end> <end> <end> <end> <end> <end> <end> <end> <end> <end> <end>', 'country gained its <end> <end> <end> <end> <end> <end> <end> <end> <end> <end>', 'menzah neighborhood <end> <end> <end> <end> <end> <end> <end> <end> <end> <end> <end>', 'schools <end> <end> <end> <end> <end> <end> <end> <end> <end> <end> <end> <end>', 'yes <end> <end> <end> <end> <end> <end> <end> <end> <end> <end> <end> <end>', 'cnn <end> <end> <end> <end> <end> <end> <end> <end> <end> <end> <end> <end>', 'yes <end> <end> <end> <end> <end> <end> <end> <end> <end> <end> <end> <end>', 'george <end> <end> <end> <end> <end> <end> <end> <end> <end> <end> <end> <end>', 'no <end> <end> <end> <end> <end> <end> <end> <end> <end> <end> <end> <end>', 'yes <end> <end> <end> <end> <end> <end> <end> <end> <end> <end> <end> <end>', 'clarence <end> <end> <end> <end> <end> <end> <end> <end> <end> <end> <end> <end>', 'no <end> <end> <end> <end> <end> <end> <end> <end> <end> <end> <end> <end>', 'yes <end> <end> <end> <end> <end> <end> <end> <end> <end> <end> <end> <end>', 'no <end> <end> <end> <end> <end> <end> <end> <end> <end> <end> <end> <end>', 'no <end> <end> <end> <end> <end> <end> <end> <end> <end> <end> <end> <end>', 'he he lacked one looked looked <end> <end> <end> <end> <end> <end> <end>', 'yes <end> <end> <end> <end> <end> <end> <end> <end> <end> <end> <end> <end>', 'financial <end> <end> <end> <end> <end> <end> <end> <end> <end> <end> <end> <end>', 'yes <end> <end> <end> <end> <end> <end> <end> <end> <end> <end> <end> <end>', 'alexander pop <end> <end> <end> <end> <end> <end> <end> <end> <end> <end> <end>', 'tuesday <end> <end> <end> <end> <end> <end> <end> <end> <end> <end> <end> <end>', 'captain putnam <end> <end> <end> <end> <end> <end> <end> <end> <end> <end> <end>', 'run away <end> <end> <end> <end> <end> <end> <end> <end> <end> <end> <end>', 'yes. <end> <end> <end> <end> <end> <end> <end> <end> <end> <end> <end> <end>', 'no. <end> <end> <end> <end> <end> <end> <end> <end> <end> <end> <end> <end>', 'captain putnam <end> <end> <end> <end> <end> <end> <end> <end> <end> <end> <end>', \"his father's <end> <end> <end> <end> <end> <end> <end> <end> <end> <end> <end>\", 'tom and sam. <end> <end> <end> <end> <end> <end> <end> <end> <end> <end>', '\"glad you you you you you you you you you you you <end>', 'his <end> <end> <end> <end> <end> <end> <end> <end> <end> <end> <end> <end>']\n",
            "Loss - 0.010068784467875957\n"
          ]
        },
        {
          "output_type": "stream",
          "name": "stderr",
          "text": [
            "\r 59%|█████▉    | 59/100 [03:45<02:21,  3.44s/it]"
          ]
        },
        {
          "output_type": "stream",
          "name": "stdout",
          "text": [
            "Translated - ['tunisia <end> <end> <end> <end> <end> <end> <end> <end> <end> <end> <end>', 'representatives are chosen chosen <end> <end> <end> <end> <end> <end> <end> <end>', 'sunday <end> <end> <end> <end> <end> <end> <end> <end> <end> <end> <end>', '1956 <end> <end> <end> <end> <end> <end> <end> <end> <end> <end> <end>', 'country gained gained <end> <end> <end> <end> <end> <end> <end> <end> <end>', 'menzah neighborhood <end> <end> <end> <end> <end> <end> <end> <end> <end> <end>', 'schools <end> <end> <end> <end> <end> <end> <end> <end> <end> <end> <end>', 'yes <end> <end> <end> <end> <end> <end> <end> <end> <end> <end> <end>', 'cnn <end> <end> <end> <end> <end> <end> <end> <end> <end> <end> <end>', 'yes <end> <end> <end> <end> <end> <end> <end> <end> <end> <end> <end>', 'george <end> <end> <end> <end> <end> <end> <end> <end> <end> <end> <end>', 'no <end> <end> <end> <end> <end> <end> <end> <end> <end> <end> <end>', 'yes <end> <end> <end> <end> <end> <end> <end> <end> <end> <end> <end>', 'clarence <end> <end> <end> <end> <end> <end> <end> <end> <end> <end> <end>', 'no <end> <end> <end> <end> <end> <end> <end> <end> <end> <end> <end>', 'yes <end> <end> <end> <end> <end> <end> <end> <end> <end> <end> <end>', 'no <end> <end> <end> <end> <end> <end> <end> <end> <end> <end> <end>', 'no <end> <end> <end> <end> <end> <end> <end> <end> <end> <end> <end>', 'he he lacked one looked looked <end> <end> <end> <end> <end> <end>', 'yes <end> <end> <end> <end> <end> <end> <end> <end> <end> <end> <end>', 'financial <end> <end> <end> <end> <end> <end> <end> <end> <end> <end> <end>', 'yes <end> <end> <end> <end> <end> <end> <end> <end> <end> <end> <end>', 'alexander pop <end> <end> <end> <end> <end> <end> <end> <end> <end> <end>', 'tuesday <end> <end> <end> <end> <end> <end> <end> <end> <end> <end> <end>', 'captain putnam <end> <end> <end> <end> <end> <end> <end> <end> <end> <end>', 'run away <end> <end> <end> <end> <end> <end> <end> <end> <end> <end>', 'yes. <end> <end> <end> <end> <end> <end> <end> <end> <end> <end> <end>', 'no. <end> <end> <end> <end> <end> <end> <end> <end> <end> <end> <end>', 'captain putnam <end> <end> <end> <end> <end> <end> <end> <end> <end> <end>', \"his father's <end> <end> <end> <end> <end> <end> <end> <end> <end> <end>\", 'tom and sam. <end> <end> <end> <end> <end> <end> <end> <end> <end>', '\"glad you you you you you you you you you you <end>', 'his <end> <end> <end> <end> <end> <end> <end> <end> <end> <end> <end>']\n",
            "Loss - 0.0014173992676660419\n",
            "Translated - ['tunisia <end> <end> <end> <end> <end> <end> <end> <end> <end> <end> <end>', 'representatives are chosen <end> <end> <end> <end> <end> <end> <end> <end> <end>', 'sunday <end> <end> <end> <end> <end> <end> <end> <end> <end> <end> <end>', '1956 <end> <end> <end> <end> <end> <end> <end> <end> <end> <end> <end>', 'country gained gained <end> <end> <end> <end> <end> <end> <end> <end> <end>', 'menzah neighborhood <end> <end> <end> <end> <end> <end> <end> <end> <end> <end>', 'schools <end> <end> <end> <end> <end> <end> <end> <end> <end> <end> <end>', 'yes <end> <end> <end> <end> <end> <end> <end> <end> <end> <end> <end>', 'cnn <end> <end> <end> <end> <end> <end> <end> <end> <end> <end> <end>', 'yes <end> <end> <end> <end> <end> <end> <end> <end> <end> <end> <end>', 'george <end> <end> <end> <end> <end> <end> <end> <end> <end> <end> <end>', 'no <end> <end> <end> <end> <end> <end> <end> <end> <end> <end> <end>', 'yes <end> <end> <end> <end> <end> <end> <end> <end> <end> <end> <end>', 'clarence <end> <end> <end> <end> <end> <end> <end> <end> <end> <end> <end>', 'no <end> <end> <end> <end> <end> <end> <end> <end> <end> <end> <end>', 'yes <end> <end> <end> <end> <end> <end> <end> <end> <end> <end> <end>', 'no <end> <end> <end> <end> <end> <end> <end> <end> <end> <end> <end>', 'no <end> <end> <end> <end> <end> <end> <end> <end> <end> <end> <end>', 'he lacked lacked one looked looked for <end> <end> <end> <end> <end>', 'yes <end> <end> <end> <end> <end> <end> <end> <end> <end> <end> <end>', 'financial <end> <end> <end> <end> <end> <end> <end> <end> <end> <end> <end>', 'yes <end> <end> <end> <end> <end> <end> <end> <end> <end> <end> <end>', 'alexander pop <end> <end> <end> <end> <end> <end> <end> <end> <end> <end>', 'tuesday <end> <end> <end> <end> <end> <end> <end> <end> <end> <end> <end>', 'captain putnam <end> <end> <end> <end> <end> <end> <end> <end> <end> <end>', 'run away <end> <end> <end> <end> <end> <end> <end> <end> <end> <end>', 'yes. <end> <end> <end> <end> <end> <end> <end> <end> <end> <end> <end>', 'no. <end> <end> <end> <end> <end> <end> <end> <end> <end> <end> <end>', 'captain putnam <end> <end> <end> <end> <end> <end> <end> <end> <end> <end>', \"his father's <end> <end> <end> <end> <end> <end> <end> <end> <end> <end>\", 'tom and sam. <end> <end> <end> <end> <end> <end> <end> <end> <end>', '\"glad you you you you you you you you you you <end>', 'his <end> <end> <end> <end> <end> <end> <end> <end> <end> <end> <end>']\n",
            "Loss - 0.009894234128296375\n"
          ]
        },
        {
          "output_type": "stream",
          "name": "stderr",
          "text": [
            "\r 60%|██████    | 60/100 [03:49<02:17,  3.44s/it]"
          ]
        },
        {
          "output_type": "stream",
          "name": "stdout",
          "text": [
            "Translated - ['tunisia <end> <end> <end> <end> <end> <end> <end> <end> <end> <end>', 'representatives are chosen <end> <end> <end> <end> <end> <end> <end> <end>', 'sunday <end> <end> <end> <end> <end> <end> <end> <end> <end> <end>', '1956 <end> <end> <end> <end> <end> <end> <end> <end> <end> <end>', 'country gained its <end> <end> <end> <end> <end> <end> <end> <end>', 'menzah neighborhood <end> <end> <end> <end> <end> <end> <end> <end> <end>', 'schools <end> <end> <end> <end> <end> <end> <end> <end> <end> <end>', 'yes <end> <end> <end> <end> <end> <end> <end> <end> <end> <end>', 'cnn <end> <end> <end> <end> <end> <end> <end> <end> <end> <end>', 'yes <end> <end> <end> <end> <end> <end> <end> <end> <end> <end>', 'george <end> <end> <end> <end> <end> <end> <end> <end> <end> <end>', 'no <end> <end> <end> <end> <end> <end> <end> <end> <end> <end>', 'yes <end> <end> <end> <end> <end> <end> <end> <end> <end> <end>', 'clarence <end> <end> <end> <end> <end> <end> <end> <end> <end> <end>', 'no <end> <end> <end> <end> <end> <end> <end> <end> <end> <end>', 'yes <end> <end> <end> <end> <end> <end> <end> <end> <end> <end>', 'no <end> <end> <end> <end> <end> <end> <end> <end> <end> <end>', 'no <end> <end> <end> <end> <end> <end> <end> <end> <end> <end>', 'he he lacked one looked looked for <end> <end> <end> <end>', 'yes <end> <end> <end> <end> <end> <end> <end> <end> <end> <end>', 'financial <end> <end> <end> <end> <end> <end> <end> <end> <end> <end>', 'yes <end> <end> <end> <end> <end> <end> <end> <end> <end> <end>', 'alexander <end> <end> <end> <end> <end> <end> <end> <end> <end> <end>', 'tuesday <end> <end> <end> <end> <end> <end> <end> <end> <end> <end>', 'captain putnam <end> <end> <end> <end> <end> <end> <end> <end> <end>', 'run away <end> <end> <end> <end> <end> <end> <end> <end> <end>', 'yes. <end> <end> <end> <end> <end> <end> <end> <end> <end> <end>', 'no. <end> <end> <end> <end> <end> <end> <end> <end> <end> <end>', 'captain putnam <end> <end> <end> <end> <end> <end> <end> <end> <end>', \"his father's <end> <end> <end> <end> <end> <end> <end> <end> <end>\", 'tom and sam. <end> <end> <end> <end> <end> <end> <end> <end>', '\"glad you you you you you you you you you <end>', 'his <end> <end> <end> <end> <end> <end> <end> <end> <end> <end>']\n",
            "Loss - 0.0013716543326154351\n",
            "Translated - ['tunisia <end> <end> <end> <end> <end> <end> <end> <end> <end> <end>', 'representatives are chosen <end> <end> <end> <end> <end> <end> <end> <end>', 'sunday <end> <end> <end> <end> <end> <end> <end> <end> <end> <end>', '1956 <end> <end> <end> <end> <end> <end> <end> <end> <end> <end>', 'country gained its <end> <end> <end> <end> <end> <end> <end> <end>', 'menzah neighborhood <end> <end> <end> <end> <end> <end> <end> <end> <end>', 'schools <end> <end> <end> <end> <end> <end> <end> <end> <end> <end>', 'yes <end> <end> <end> <end> <end> <end> <end> <end> <end> <end>', 'cnn <end> <end> <end> <end> <end> <end> <end> <end> <end> <end>', 'yes <end> <end> <end> <end> <end> <end> <end> <end> <end> <end>', 'george <end> <end> <end> <end> <end> <end> <end> <end> <end> <end>', 'no <end> <end> <end> <end> <end> <end> <end> <end> <end> <end>', 'yes <end> <end> <end> <end> <end> <end> <end> <end> <end> <end>', 'clarence <end> <end> <end> <end> <end> <end> <end> <end> <end> <end>', 'no <end> <end> <end> <end> <end> <end> <end> <end> <end> <end>', 'yes <end> <end> <end> <end> <end> <end> <end> <end> <end> <end>', 'no <end> <end> <end> <end> <end> <end> <end> <end> <end> <end>', 'no <end> <end> <end> <end> <end> <end> <end> <end> <end> <end>', 'he he lacked one looked looked for for <end> <end> <end>', 'yes <end> <end> <end> <end> <end> <end> <end> <end> <end> <end>', 'financial <end> <end> <end> <end> <end> <end> <end> <end> <end> <end>', 'yes <end> <end> <end> <end> <end> <end> <end> <end> <end> <end>', 'alexander <end> <end> <end> <end> <end> <end> <end> <end> <end> <end>', 'tuesday <end> <end> <end> <end> <end> <end> <end> <end> <end> <end>', 'captain putnam <end> <end> <end> <end> <end> <end> <end> <end> <end>', 'run away <end> <end> <end> <end> <end> <end> <end> <end> <end>', 'yes. <end> <end> <end> <end> <end> <end> <end> <end> <end> <end>', 'no. <end> <end> <end> <end> <end> <end> <end> <end> <end> <end>', 'captain putnam <end> <end> <end> <end> <end> <end> <end> <end> <end>', \"his father's <end> <end> <end> <end> <end> <end> <end> <end> <end>\", 'tom and sam. <end> <end> <end> <end> <end> <end> <end> <end>', '\"glad you you you you you you you you you <end>', 'his <end> <end> <end> <end> <end> <end> <end> <end> <end> <end>']\n",
            "Loss - 0.009770779870450497\n"
          ]
        },
        {
          "output_type": "stream",
          "name": "stderr",
          "text": [
            "\r 61%|██████    | 61/100 [03:52<02:13,  3.43s/it]"
          ]
        },
        {
          "output_type": "stream",
          "name": "stdout",
          "text": [
            "Translated - ['tunisia <end> <end> <end> <end> <end> <end> <end> <end> <end> <end>', 'representatives are chosen <end> <end> <end> <end> <end> <end> <end> <end>', 'sunday <end> <end> <end> <end> <end> <end> <end> <end> <end> <end>', '1956 <end> <end> <end> <end> <end> <end> <end> <end> <end> <end>', 'country gained its <end> <end> <end> <end> <end> <end> <end> <end>', 'menzah neighborhood <end> <end> <end> <end> <end> <end> <end> <end> <end>', 'schools <end> <end> <end> <end> <end> <end> <end> <end> <end> <end>', 'yes <end> <end> <end> <end> <end> <end> <end> <end> <end> <end>', 'cnn <end> <end> <end> <end> <end> <end> <end> <end> <end> <end>', 'yes <end> <end> <end> <end> <end> <end> <end> <end> <end> <end>', 'george <end> <end> <end> <end> <end> <end> <end> <end> <end> <end>', 'no <end> <end> <end> <end> <end> <end> <end> <end> <end> <end>', 'yes <end> <end> <end> <end> <end> <end> <end> <end> <end> <end>', 'clarence <end> <end> <end> <end> <end> <end> <end> <end> <end> <end>', 'no <end> <end> <end> <end> <end> <end> <end> <end> <end> <end>', 'yes <end> <end> <end> <end> <end> <end> <end> <end> <end> <end>', 'no <end> <end> <end> <end> <end> <end> <end> <end> <end> <end>', 'no <end> <end> <end> <end> <end> <end> <end> <end> <end> <end>', 'he he one something looked for for <end> <end> <end> <end>', 'yes <end> <end> <end> <end> <end> <end> <end> <end> <end> <end>', 'financial <end> <end> <end> <end> <end> <end> <end> <end> <end> <end>', 'yes <end> <end> <end> <end> <end> <end> <end> <end> <end> <end>', 'alexander <end> <end> <end> <end> <end> <end> <end> <end> <end> <end>', 'tuesday <end> <end> <end> <end> <end> <end> <end> <end> <end> <end>', 'captain putnam <end> <end> <end> <end> <end> <end> <end> <end> <end>', 'run away <end> <end> <end> <end> <end> <end> <end> <end> <end>', 'yes. <end> <end> <end> <end> <end> <end> <end> <end> <end> <end>', 'no. <end> <end> <end> <end> <end> <end> <end> <end> <end> <end>', 'captain putnam <end> <end> <end> <end> <end> <end> <end> <end> <end>', \"his father's <end> <end> <end> <end> <end> <end> <end> <end> <end>\", 'tom and sam. <end> <end> <end> <end> <end> <end> <end> <end>', '\"glad you you you you you you you you you <end>', 'his <end> <end> <end> <end> <end> <end> <end> <end> <end> <end>']\n",
            "Loss - 0.0013191725593060255\n",
            "Translated - ['tunisia <end> <end> <end> <end> <end> <end> <end> <end> <end> <end>', 'representatives are chosen chosen <end> <end> <end> <end> <end> <end> <end>', 'sunday <end> <end> <end> <end> <end> <end> <end> <end> <end> <end>', '1956 <end> <end> <end> <end> <end> <end> <end> <end> <end> <end>', 'country gained its independence <end> <end> <end> <end> <end> <end> <end>', 'menzah neighborhood <end> <end> <end> <end> <end> <end> <end> <end> <end>', 'schools <end> <end> <end> <end> <end> <end> <end> <end> <end> <end>', 'yes <end> <end> <end> <end> <end> <end> <end> <end> <end> <end>', 'cnn <end> <end> <end> <end> <end> <end> <end> <end> <end> <end>', 'yes <end> <end> <end> <end> <end> <end> <end> <end> <end> <end>', 'george <end> <end> <end> <end> <end> <end> <end> <end> <end> <end>', 'no <end> <end> <end> <end> <end> <end> <end> <end> <end> <end>', 'yes <end> <end> <end> <end> <end> <end> <end> <end> <end> <end>', 'clarence <end> <end> <end> <end> <end> <end> <end> <end> <end> <end>', 'no <end> <end> <end> <end> <end> <end> <end> <end> <end> <end>', 'yes <end> <end> <end> <end> <end> <end> <end> <end> <end> <end>', 'no <end> <end> <end> <end> <end> <end> <end> <end> <end> <end>', 'no <end> <end> <end> <end> <end> <end> <end> <end> <end> <end>', 'he he one something for for a <end> <end> <end> <end>', 'yes <end> <end> <end> <end> <end> <end> <end> <end> <end> <end>', 'financial <end> <end> <end> <end> <end> <end> <end> <end> <end> <end>', 'yes <end> <end> <end> <end> <end> <end> <end> <end> <end> <end>', 'alexander pop <end> <end> <end> <end> <end> <end> <end> <end> <end>', 'tuesday <end> <end> <end> <end> <end> <end> <end> <end> <end> <end>', 'captain putnam <end> <end> <end> <end> <end> <end> <end> <end> <end>', 'run away <end> <end> <end> <end> <end> <end> <end> <end> <end>', 'yes. <end> <end> <end> <end> <end> <end> <end> <end> <end> <end>', 'no. <end> <end> <end> <end> <end> <end> <end> <end> <end> <end>', 'captain putnam <end> <end> <end> <end> <end> <end> <end> <end> <end>', \"his father's <end> <end> <end> <end> <end> <end> <end> <end> <end>\", 'tom and sam. <end> <end> <end> <end> <end> <end> <end> <end>', '\"glad you you you you you you you you you <end>', 'his <end> <end> <end> <end> <end> <end> <end> <end> <end> <end>']\n",
            "Loss - 0.009644542820751667\n"
          ]
        },
        {
          "output_type": "stream",
          "name": "stderr",
          "text": [
            "\r 62%|██████▏   | 62/100 [03:55<02:09,  3.42s/it]"
          ]
        },
        {
          "output_type": "stream",
          "name": "stdout",
          "text": [
            "Translated - ['tunisia <end> <end> <end> <end> <end> <end> <end> <end> <end> <end>', 'representatives are being chosen <end> <end> <end> <end> <end> <end> <end>', 'sunday <end> <end> <end> <end> <end> <end> <end> <end> <end> <end>', '1956 <end> <end> <end> <end> <end> <end> <end> <end> <end> <end>', 'country gained its independence <end> <end> <end> <end> <end> <end> <end>', 'menzah neighborhood <end> <end> <end> <end> <end> <end> <end> <end> <end>', 'schools <end> <end> <end> <end> <end> <end> <end> <end> <end> <end>', 'yes <end> <end> <end> <end> <end> <end> <end> <end> <end> <end>', 'cnn <end> <end> <end> <end> <end> <end> <end> <end> <end> <end>', 'yes <end> <end> <end> <end> <end> <end> <end> <end> <end> <end>', 'george <end> <end> <end> <end> <end> <end> <end> <end> <end> <end>', 'no <end> <end> <end> <end> <end> <end> <end> <end> <end> <end>', 'yes <end> <end> <end> <end> <end> <end> <end> <end> <end> <end>', 'clarence <end> <end> <end> <end> <end> <end> <end> <end> <end> <end>', 'no <end> <end> <end> <end> <end> <end> <end> <end> <end> <end>', 'yes <end> <end> <end> <end> <end> <end> <end> <end> <end> <end>', 'no <end> <end> <end> <end> <end> <end> <end> <end> <end> <end>', 'no <end> <end> <end> <end> <end> <end> <end> <end> <end> <end>', 'he he one something for for a <end> <end> <end> <end>', 'yes <end> <end> <end> <end> <end> <end> <end> <end> <end> <end>', 'financial <end> <end> <end> <end> <end> <end> <end> <end> <end> <end>', 'yes <end> <end> <end> <end> <end> <end> <end> <end> <end> <end>', 'alexander pop <end> <end> <end> <end> <end> <end> <end> <end> <end>', 'tuesday <end> <end> <end> <end> <end> <end> <end> <end> <end> <end>', 'captain putnam <end> <end> <end> <end> <end> <end> <end> <end> <end>', 'run away <end> <end> <end> <end> <end> <end> <end> <end> <end>', 'yes. <end> <end> <end> <end> <end> <end> <end> <end> <end> <end>', 'no. <end> <end> <end> <end> <end> <end> <end> <end> <end> <end>', 'captain putnam <end> <end> <end> <end> <end> <end> <end> <end> <end>', \"his father's <end> <end> <end> <end> <end> <end> <end> <end> <end>\", 'tom and sam. <end> <end> <end> <end> <end> <end> <end> <end>', '\"glad you you you you you you you you you <end>', 'his <end> <end> <end> <end> <end> <end> <end> <end> <end> <end>']\n",
            "Loss - 0.0012887663906440139\n",
            "Translated - ['tunisia <end> <end> <end> <end> <end> <end> <end> <end> <end> <end>', 'representatives are being chosen <end> <end> <end> <end> <end> <end> <end>', 'sunday <end> <end> <end> <end> <end> <end> <end> <end> <end> <end>', '1956 <end> <end> <end> <end> <end> <end> <end> <end> <end> <end>', 'country gained its independence <end> <end> <end> <end> <end> <end> <end>', 'menzah neighborhood <end> <end> <end> <end> <end> <end> <end> <end> <end>', 'schools <end> <end> <end> <end> <end> <end> <end> <end> <end> <end>', 'yes <end> <end> <end> <end> <end> <end> <end> <end> <end> <end>', 'cnn <end> <end> <end> <end> <end> <end> <end> <end> <end> <end>', 'yes <end> <end> <end> <end> <end> <end> <end> <end> <end> <end>', 'george <end> <end> <end> <end> <end> <end> <end> <end> <end> <end>', 'no <end> <end> <end> <end> <end> <end> <end> <end> <end> <end>', 'yes <end> <end> <end> <end> <end> <end> <end> <end> <end> <end>', 'clarence <end> <end> <end> <end> <end> <end> <end> <end> <end> <end>', 'no <end> <end> <end> <end> <end> <end> <end> <end> <end> <end>', 'yes <end> <end> <end> <end> <end> <end> <end> <end> <end> <end>', 'no <end> <end> <end> <end> <end> <end> <end> <end> <end> <end>', 'no <end> <end> <end> <end> <end> <end> <end> <end> <end> <end>', 'he he one something for a a <end> <end> <end> <end>', 'yes <end> <end> <end> <end> <end> <end> <end> <end> <end> <end>', 'financial <end> <end> <end> <end> <end> <end> <end> <end> <end> <end>', 'yes <end> <end> <end> <end> <end> <end> <end> <end> <end> <end>', 'alexander pop <end> <end> <end> <end> <end> <end> <end> <end> <end>', 'tuesday <end> <end> <end> <end> <end> <end> <end> <end> <end> <end>', 'captain putnam <end> <end> <end> <end> <end> <end> <end> <end> <end>', 'run away <end> <end> <end> <end> <end> <end> <end> <end> <end>', 'yes. <end> <end> <end> <end> <end> <end> <end> <end> <end> <end>', 'no. <end> <end> <end> <end> <end> <end> <end> <end> <end> <end>', 'captain putnam <end> <end> <end> <end> <end> <end> <end> <end> <end>', \"his father's <end> <end> <end> <end> <end> <end> <end> <end> <end>\", 'tom and sam. <end> <end> <end> <end> <end> <end> <end> <end>', '\"glad you you you you you you you you you <end>', 'his <end> <end> <end> <end> <end> <end> <end> <end> <end> <end>']\n",
            "Loss - 0.009505133144557476\n"
          ]
        },
        {
          "output_type": "stream",
          "name": "stderr",
          "text": [
            "\r 63%|██████▎   | 63/100 [03:59<02:06,  3.41s/it]"
          ]
        },
        {
          "output_type": "stream",
          "name": "stdout",
          "text": [
            "Translated - ['tunisia <end> <end> <end> <end> <end> <end> <end> <end> <end>', 'representatives are chosen <end> <end> <end> <end> <end> <end> <end>', 'sunday <end> <end> <end> <end> <end> <end> <end> <end> <end>', '1956 <end> <end> <end> <end> <end> <end> <end> <end> <end>', 'country gained its <end> <end> <end> <end> <end> <end> <end>', 'menzah neighborhood <end> <end> <end> <end> <end> <end> <end> <end>', 'schools <end> <end> <end> <end> <end> <end> <end> <end> <end>', 'yes <end> <end> <end> <end> <end> <end> <end> <end> <end>', 'cnn <end> <end> <end> <end> <end> <end> <end> <end> <end>', 'yes <end> <end> <end> <end> <end> <end> <end> <end> <end>', 'george <end> <end> <end> <end> <end> <end> <end> <end> <end>', 'no <end> <end> <end> <end> <end> <end> <end> <end> <end>', 'yes <end> <end> <end> <end> <end> <end> <end> <end> <end>', 'clarence <end> <end> <end> <end> <end> <end> <end> <end> <end>', 'no <end> <end> <end> <end> <end> <end> <end> <end> <end>', 'yes <end> <end> <end> <end> <end> <end> <end> <end> <end>', 'no <end> <end> <end> <end> <end> <end> <end> <end> <end>', 'no <end> <end> <end> <end> <end> <end> <end> <end> <end>', 'he he one something for for a <end> <end> <end>', 'yes <end> <end> <end> <end> <end> <end> <end> <end> <end>', 'financial <end> <end> <end> <end> <end> <end> <end> <end> <end>', 'yes <end> <end> <end> <end> <end> <end> <end> <end> <end>', 'alexander pop <end> <end> <end> <end> <end> <end> <end> <end>', 'tuesday <end> <end> <end> <end> <end> <end> <end> <end> <end>', 'captain putnam <end> <end> <end> <end> <end> <end> <end> <end>', 'run away <end> <end> <end> <end> <end> <end> <end> <end>', 'yes. <end> <end> <end> <end> <end> <end> <end> <end> <end>', 'no. <end> <end> <end> <end> <end> <end> <end> <end> <end>', 'captain putnam <end> <end> <end> <end> <end> <end> <end> <end>', \"his father's <end> <end> <end> <end> <end> <end> <end> <end>\", 'tom and sam. <end> <end> <end> <end> <end> <end> <end>', '\"glad you you you you you you you you <end>', 'his <end> <end> <end> <end> <end> <end> <end> <end> <end>']\n",
            "Loss - 0.0012694636825472116\n",
            "Translated - ['tunisia <end> <end> <end> <end> <end> <end> <end> <end> <end>', 'representatives are chosen <end> <end> <end> <end> <end> <end> <end>', 'sunday <end> <end> <end> <end> <end> <end> <end> <end> <end>', '1956 <end> <end> <end> <end> <end> <end> <end> <end> <end>', 'country gained its independence <end> <end> <end> <end> <end> <end>', 'menzah neighborhood <end> <end> <end> <end> <end> <end> <end> <end>', 'schools <end> <end> <end> <end> <end> <end> <end> <end> <end>', 'yes <end> <end> <end> <end> <end> <end> <end> <end> <end>', 'cnn <end> <end> <end> <end> <end> <end> <end> <end> <end>', 'yes <end> <end> <end> <end> <end> <end> <end> <end> <end>', 'george <end> <end> <end> <end> <end> <end> <end> <end> <end>', 'no <end> <end> <end> <end> <end> <end> <end> <end> <end>', 'yes <end> <end> <end> <end> <end> <end> <end> <end> <end>', 'clarence <end> <end> <end> <end> <end> <end> <end> <end> <end>', 'no <end> <end> <end> <end> <end> <end> <end> <end> <end>', 'yes <end> <end> <end> <end> <end> <end> <end> <end> <end>', 'no <end> <end> <end> <end> <end> <end> <end> <end> <end>', 'no <end> <end> <end> <end> <end> <end> <end> <end> <end>', 'he he one something for for a <end> <end> <end>', 'yes <end> <end> <end> <end> <end> <end> <end> <end> <end>', 'financial <end> <end> <end> <end> <end> <end> <end> <end> <end>', 'yes <end> <end> <end> <end> <end> <end> <end> <end> <end>', 'alexander pop <end> <end> <end> <end> <end> <end> <end> <end>', 'tuesday <end> <end> <end> <end> <end> <end> <end> <end> <end>', 'captain putnam <end> <end> <end> <end> <end> <end> <end> <end>', 'run away <end> <end> <end> <end> <end> <end> <end> <end>', 'yes. <end> <end> <end> <end> <end> <end> <end> <end> <end>', 'no. <end> <end> <end> <end> <end> <end> <end> <end> <end>', 'captain putnam <end> <end> <end> <end> <end> <end> <end> <end>', \"his father's <end> <end> <end> <end> <end> <end> <end> <end>\", 'tom and sam. <end> <end> <end> <end> <end> <end> <end>', '\"glad you you you you you you you you <end>', 'his <end> <end> <end> <end> <end> <end> <end> <end> <end>']\n",
            "Loss - 0.009372393600642681\n"
          ]
        },
        {
          "output_type": "stream",
          "name": "stderr",
          "text": [
            "\r 64%|██████▍   | 64/100 [04:02<02:03,  3.43s/it]"
          ]
        },
        {
          "output_type": "stream",
          "name": "stdout",
          "text": [
            "Translated - ['tunisia <end> <end> <end> <end> <end> <end> <end> <end> <end> <end>', 'representatives are chosen <end> <end> <end> <end> <end> <end> <end> <end>', 'sunday <end> <end> <end> <end> <end> <end> <end> <end> <end> <end>', '1956 <end> <end> <end> <end> <end> <end> <end> <end> <end> <end>', 'country gained gained independence independence <end> <end> <end> <end> <end> <end>', 'menzah neighborhood <end> <end> <end> <end> <end> <end> <end> <end> <end>', 'schools <end> <end> <end> <end> <end> <end> <end> <end> <end> <end>', 'yes <end> <end> <end> <end> <end> <end> <end> <end> <end> <end>', 'cnn <end> <end> <end> <end> <end> <end> <end> <end> <end> <end>', 'yes <end> <end> <end> <end> <end> <end> <end> <end> <end> <end>', 'george <end> <end> <end> <end> <end> <end> <end> <end> <end> <end>', 'no <end> <end> <end> <end> <end> <end> <end> <end> <end> <end>', 'yes <end> <end> <end> <end> <end> <end> <end> <end> <end> <end>', 'clarence <end> <end> <end> <end> <end> <end> <end> <end> <end> <end>', 'no <end> <end> <end> <end> <end> <end> <end> <end> <end> <end>', 'yes <end> <end> <end> <end> <end> <end> <end> <end> <end> <end>', 'no <end> <end> <end> <end> <end> <end> <end> <end> <end> <end>', 'no <end> <end> <end> <end> <end> <end> <end> <end> <end> <end>', 'he lacked something something something for for <end> <end> <end> <end>', 'yes <end> <end> <end> <end> <end> <end> <end> <end> <end> <end>', 'financial <end> <end> <end> <end> <end> <end> <end> <end> <end> <end>', 'yes <end> <end> <end> <end> <end> <end> <end> <end> <end> <end>', 'alexander pop <end> <end> <end> <end> <end> <end> <end> <end> <end>', 'tuesday <end> <end> <end> <end> <end> <end> <end> <end> <end> <end>', 'captain putnam <end> <end> <end> <end> <end> <end> <end> <end> <end>', 'run away <end> <end> <end> <end> <end> <end> <end> <end> <end>', 'yes. <end> <end> <end> <end> <end> <end> <end> <end> <end> <end>', 'no. <end> <end> <end> <end> <end> <end> <end> <end> <end> <end>', 'captain putnam <end> <end> <end> <end> <end> <end> <end> <end> <end>', \"his father's <end> <end> <end> <end> <end> <end> <end> <end> <end>\", 'tom and sam. <end> <end> <end> <end> <end> <end> <end> <end>', '\"glad you you you you you you you you you <end>', 'his <end> <end> <end> <end> <end> <end> <end> <end> <end> <end>']\n",
            "Loss - 0.0013716418761759996\n",
            "Translated - ['tunisia <end> <end> <end> <end> <end> <end> <end> <end> <end>', 'representatives are chosen <end> <end> <end> <end> <end> <end> <end>', 'sunday <end> <end> <end> <end> <end> <end> <end> <end> <end>', '1956 <end> <end> <end> <end> <end> <end> <end> <end> <end>', 'country gained its independence <end> <end> <end> <end> <end> <end>', 'menzah neighborhood <end> <end> <end> <end> <end> <end> <end> <end>', 'schools <end> <end> <end> <end> <end> <end> <end> <end> <end>', 'yes <end> <end> <end> <end> <end> <end> <end> <end> <end>', 'cnn <end> <end> <end> <end> <end> <end> <end> <end> <end>', 'yes <end> <end> <end> <end> <end> <end> <end> <end> <end>', 'george <end> <end> <end> <end> <end> <end> <end> <end> <end>', 'no <end> <end> <end> <end> <end> <end> <end> <end> <end>', 'yes <end> <end> <end> <end> <end> <end> <end> <end> <end>', 'clarence <end> <end> <end> <end> <end> <end> <end> <end> <end>', 'no <end> <end> <end> <end> <end> <end> <end> <end> <end>', 'yes <end> <end> <end> <end> <end> <end> <end> <end> <end>', 'no <end> <end> <end> <end> <end> <end> <end> <end> <end>', 'no <end> <end> <end> <end> <end> <end> <end> <end> <end>', 'he lacked something something for for <end> <end> <end> <end>', 'yes <end> <end> <end> <end> <end> <end> <end> <end> <end>', 'financial <end> <end> <end> <end> <end> <end> <end> <end> <end>', 'yes <end> <end> <end> <end> <end> <end> <end> <end> <end>', 'alexander pop <end> <end> <end> <end> <end> <end> <end> <end>', 'tuesday <end> <end> <end> <end> <end> <end> <end> <end> <end>', 'captain putnam <end> <end> <end> <end> <end> <end> <end> <end>', 'run away <end> <end> <end> <end> <end> <end> <end> <end>', 'yes. <end> <end> <end> <end> <end> <end> <end> <end> <end>', 'no. <end> <end> <end> <end> <end> <end> <end> <end> <end>', 'captain putnam <end> <end> <end> <end> <end> <end> <end> <end>', \"his father's <end> <end> <end> <end> <end> <end> <end> <end>\", 'tom and sam. <end> <end> <end> <end> <end> <end> <end>', '\"glad you you you you you you you you <end>', 'his <end> <end> <end> <end> <end> <end> <end> <end> <end>']\n",
            "Loss - 0.009278984740376472\n"
          ]
        },
        {
          "output_type": "stream",
          "name": "stderr",
          "text": [
            "\r 65%|██████▌   | 65/100 [04:06<02:00,  3.44s/it]"
          ]
        },
        {
          "output_type": "stream",
          "name": "stdout",
          "text": [
            "Translated - ['tunisia <end> <end> <end> <end> <end> <end> <end> <end> <end> <end>', 'representatives are being chosen <end> <end> <end> <end> <end> <end> <end>', 'sunday <end> <end> <end> <end> <end> <end> <end> <end> <end> <end>', '1956 <end> <end> <end> <end> <end> <end> <end> <end> <end> <end>', 'country gained independence <end> <end> <end> <end> <end> <end> <end> <end>', 'menzah neighborhood <end> <end> <end> <end> <end> <end> <end> <end> <end>', 'schools <end> <end> <end> <end> <end> <end> <end> <end> <end> <end>', 'yes <end> <end> <end> <end> <end> <end> <end> <end> <end> <end>', 'cnn <end> <end> <end> <end> <end> <end> <end> <end> <end> <end>', 'yes <end> <end> <end> <end> <end> <end> <end> <end> <end> <end>', 'george <end> <end> <end> <end> <end> <end> <end> <end> <end> <end>', 'no <end> <end> <end> <end> <end> <end> <end> <end> <end> <end>', 'yes <end> <end> <end> <end> <end> <end> <end> <end> <end> <end>', 'clarence <end> <end> <end> <end> <end> <end> <end> <end> <end> <end>', 'no <end> <end> <end> <end> <end> <end> <end> <end> <end> <end>', 'yes <end> <end> <end> <end> <end> <end> <end> <end> <end> <end>', 'no <end> <end> <end> <end> <end> <end> <end> <end> <end> <end>', 'no <end> <end> <end> <end> <end> <end> <end> <end> <end> <end>', 'he lacked one something something for for <end> <end> <end> <end>', 'yes <end> <end> <end> <end> <end> <end> <end> <end> <end> <end>', 'financial <end> <end> <end> <end> <end> <end> <end> <end> <end> <end>', 'yes <end> <end> <end> <end> <end> <end> <end> <end> <end> <end>', 'alexander pop <end> <end> <end> <end> <end> <end> <end> <end> <end>', 'tuesday <end> <end> <end> <end> <end> <end> <end> <end> <end> <end>', 'captain putnam <end> <end> <end> <end> <end> <end> <end> <end> <end>', 'run away <end> <end> <end> <end> <end> <end> <end> <end> <end>', 'yes. <end> <end> <end> <end> <end> <end> <end> <end> <end> <end>', 'no. <end> <end> <end> <end> <end> <end> <end> <end> <end> <end>', 'captain putnam <end> <end> <end> <end> <end> <end> <end> <end> <end>', \"his father's <end> <end> <end> <end> <end> <end> <end> <end> <end>\", 'tom and sam. <end> <end> <end> <end> <end> <end> <end> <end>', '\"glad you you you you you you you you you <end>', 'his <end> <end> <end> <end> <end> <end> <end> <end> <end> <end>']\n",
            "Loss - 0.0012765155406668782\n",
            "Translated - ['tunisia <end> <end> <end> <end> <end> <end> <end> <end> <end> <end>', 'representatives are being chosen <end> <end> <end> <end> <end> <end> <end>', 'sunday <end> <end> <end> <end> <end> <end> <end> <end> <end> <end>', '1956 <end> <end> <end> <end> <end> <end> <end> <end> <end> <end>', 'country gained independence independence <end> <end> <end> <end> <end> <end> <end>', 'menzah neighborhood <end> <end> <end> <end> <end> <end> <end> <end> <end>', 'schools <end> <end> <end> <end> <end> <end> <end> <end> <end> <end>', 'yes <end> <end> <end> <end> <end> <end> <end> <end> <end> <end>', 'cnn <end> <end> <end> <end> <end> <end> <end> <end> <end> <end>', 'yes <end> <end> <end> <end> <end> <end> <end> <end> <end> <end>', 'george <end> <end> <end> <end> <end> <end> <end> <end> <end> <end>', 'no <end> <end> <end> <end> <end> <end> <end> <end> <end> <end>', 'yes <end> <end> <end> <end> <end> <end> <end> <end> <end> <end>', 'clarence <end> <end> <end> <end> <end> <end> <end> <end> <end> <end>', 'no <end> <end> <end> <end> <end> <end> <end> <end> <end> <end>', 'yes <end> <end> <end> <end> <end> <end> <end> <end> <end> <end>', 'no <end> <end> <end> <end> <end> <end> <end> <end> <end> <end>', 'no <end> <end> <end> <end> <end> <end> <end> <end> <end> <end>', 'he lacked one one something for for for <end> <end> <end>', 'yes <end> <end> <end> <end> <end> <end> <end> <end> <end> <end>', 'financial <end> <end> <end> <end> <end> <end> <end> <end> <end> <end>', 'yes <end> <end> <end> <end> <end> <end> <end> <end> <end> <end>', 'alexander pop <end> <end> <end> <end> <end> <end> <end> <end> <end>', 'tuesday <end> <end> <end> <end> <end> <end> <end> <end> <end> <end>', 'captain putnam <end> <end> <end> <end> <end> <end> <end> <end> <end>', 'run away <end> <end> <end> <end> <end> <end> <end> <end> <end>', 'yes. <end> <end> <end> <end> <end> <end> <end> <end> <end> <end>', 'no. <end> <end> <end> <end> <end> <end> <end> <end> <end> <end>', 'captain putnam <end> <end> <end> <end> <end> <end> <end> <end> <end>', \"his father's <end> <end> <end> <end> <end> <end> <end> <end> <end>\", 'tom and sam. <end> <end> <end> <end> <end> <end> <end> <end>', '\"glad you you you you you you you you you <end>', 'his <end> <end> <end> <end> <end> <end> <end> <end> <end> <end>']\n",
            "Loss - 0.00917361956089735\n"
          ]
        },
        {
          "output_type": "stream",
          "name": "stderr",
          "text": [
            "\r 66%|██████▌   | 66/100 [04:09<01:56,  3.44s/it]"
          ]
        },
        {
          "output_type": "stream",
          "name": "stdout",
          "text": [
            "Translated - ['tunisia <end> <end> <end> <end> <end> <end> <end> <end> <end> <end>', 'representatives are being chosen <end> <end> <end> <end> <end> <end> <end>', 'sunday <end> <end> <end> <end> <end> <end> <end> <end> <end> <end>', '1956 <end> <end> <end> <end> <end> <end> <end> <end> <end> <end>', 'country gained its independence <end> <end> <end> <end> <end> <end> <end>', 'menzah neighborhood <end> <end> <end> <end> <end> <end> <end> <end> <end>', 'schools <end> <end> <end> <end> <end> <end> <end> <end> <end> <end>', 'yes <end> <end> <end> <end> <end> <end> <end> <end> <end> <end>', 'cnn <end> <end> <end> <end> <end> <end> <end> <end> <end> <end>', 'yes <end> <end> <end> <end> <end> <end> <end> <end> <end> <end>', 'george <end> <end> <end> <end> <end> <end> <end> <end> <end> <end>', 'no <end> <end> <end> <end> <end> <end> <end> <end> <end> <end>', 'yes <end> <end> <end> <end> <end> <end> <end> <end> <end> <end>', 'clarence <end> <end> <end> <end> <end> <end> <end> <end> <end> <end>', 'no <end> <end> <end> <end> <end> <end> <end> <end> <end> <end>', 'yes <end> <end> <end> <end> <end> <end> <end> <end> <end> <end>', 'no <end> <end> <end> <end> <end> <end> <end> <end> <end> <end>', 'no <end> <end> <end> <end> <end> <end> <end> <end> <end> <end>', 'he lacked one one for for <end> <end> <end> <end> <end>', 'yes <end> <end> <end> <end> <end> <end> <end> <end> <end> <end>', 'financial <end> <end> <end> <end> <end> <end> <end> <end> <end> <end>', 'yes <end> <end> <end> <end> <end> <end> <end> <end> <end> <end>', 'alexander pop <end> <end> <end> <end> <end> <end> <end> <end> <end>', 'tuesday <end> <end> <end> <end> <end> <end> <end> <end> <end> <end>', 'captain putnam <end> <end> <end> <end> <end> <end> <end> <end> <end>', 'run away <end> <end> <end> <end> <end> <end> <end> <end> <end>', 'yes. <end> <end> <end> <end> <end> <end> <end> <end> <end> <end>', 'no. <end> <end> <end> <end> <end> <end> <end> <end> <end> <end>', 'captain putnam <end> <end> <end> <end> <end> <end> <end> <end> <end>', \"his father's <end> <end> <end> <end> <end> <end> <end> <end> <end>\", 'tom and sam. <end> <end> <end> <end> <end> <end> <end> <end>', '\"glad you you you you you you you you you <end>', 'his <end> <end> <end> <end> <end> <end> <end> <end> <end> <end>']\n",
            "Loss - 0.0011644059559330344\n",
            "Translated - ['tunisia <end> <end> <end> <end> <end> <end> <end> <end> <end> <end>', 'representatives are chosen <end> <end> <end> <end> <end> <end> <end> <end>', 'sunday <end> <end> <end> <end> <end> <end> <end> <end> <end> <end>', '1956 <end> <end> <end> <end> <end> <end> <end> <end> <end> <end>', 'country gained its independence <end> <end> <end> <end> <end> <end> <end>', 'menzah neighborhood <end> <end> <end> <end> <end> <end> <end> <end> <end>', 'schools <end> <end> <end> <end> <end> <end> <end> <end> <end> <end>', 'yes <end> <end> <end> <end> <end> <end> <end> <end> <end> <end>', 'cnn <end> <end> <end> <end> <end> <end> <end> <end> <end> <end>', 'yes <end> <end> <end> <end> <end> <end> <end> <end> <end> <end>', 'george <end> <end> <end> <end> <end> <end> <end> <end> <end> <end>', 'no <end> <end> <end> <end> <end> <end> <end> <end> <end> <end>', 'yes <end> <end> <end> <end> <end> <end> <end> <end> <end> <end>', 'clarence <end> <end> <end> <end> <end> <end> <end> <end> <end> <end>', 'no <end> <end> <end> <end> <end> <end> <end> <end> <end> <end>', 'yes <end> <end> <end> <end> <end> <end> <end> <end> <end> <end>', 'no <end> <end> <end> <end> <end> <end> <end> <end> <end> <end>', 'no <end> <end> <end> <end> <end> <end> <end> <end> <end> <end>', 'he lacked something something for <end> <end> <end> <end> <end> <end>', 'yes <end> <end> <end> <end> <end> <end> <end> <end> <end> <end>', 'financial <end> <end> <end> <end> <end> <end> <end> <end> <end> <end>', 'yes <end> <end> <end> <end> <end> <end> <end> <end> <end> <end>', 'alexander pop <end> <end> <end> <end> <end> <end> <end> <end> <end>', 'tuesday <end> <end> <end> <end> <end> <end> <end> <end> <end> <end>', 'captain putnam <end> <end> <end> <end> <end> <end> <end> <end> <end>', 'run away <end> <end> <end> <end> <end> <end> <end> <end> <end>', 'yes. <end> <end> <end> <end> <end> <end> <end> <end> <end> <end>', 'no. <end> <end> <end> <end> <end> <end> <end> <end> <end> <end>', 'captain putnam <end> <end> <end> <end> <end> <end> <end> <end> <end>', \"his father's <end> <end> <end> <end> <end> <end> <end> <end> <end>\", 'tom and sam. <end> <end> <end> <end> <end> <end> <end> <end>', '\"glad you you you you you you you you you <end>', 'his <end> <end> <end> <end> <end> <end> <end> <end> <end> <end>']\n",
            "Loss - 0.009184430353343487\n"
          ]
        },
        {
          "output_type": "stream",
          "name": "stderr",
          "text": [
            "\r 67%|██████▋   | 67/100 [04:13<01:53,  3.43s/it]"
          ]
        },
        {
          "output_type": "stream",
          "name": "stdout",
          "text": [
            "Translated - ['tunisia <end> <end> <end> <end> <end> <end> <end> <end> <end> <end>', 'representatives are chosen <end> <end> <end> <end> <end> <end> <end> <end>', 'sunday <end> <end> <end> <end> <end> <end> <end> <end> <end> <end>', '1956 <end> <end> <end> <end> <end> <end> <end> <end> <end> <end>', 'country gained its independence <end> <end> <end> <end> <end> <end> <end>', 'menzah neighborhood <end> <end> <end> <end> <end> <end> <end> <end> <end>', 'schools <end> <end> <end> <end> <end> <end> <end> <end> <end> <end>', 'yes <end> <end> <end> <end> <end> <end> <end> <end> <end> <end>', 'cnn <end> <end> <end> <end> <end> <end> <end> <end> <end> <end>', 'yes <end> <end> <end> <end> <end> <end> <end> <end> <end> <end>', 'george <end> <end> <end> <end> <end> <end> <end> <end> <end> <end>', 'no <end> <end> <end> <end> <end> <end> <end> <end> <end> <end>', 'yes <end> <end> <end> <end> <end> <end> <end> <end> <end> <end>', 'clarence <end> <end> <end> <end> <end> <end> <end> <end> <end> <end>', 'no <end> <end> <end> <end> <end> <end> <end> <end> <end> <end>', 'yes <end> <end> <end> <end> <end> <end> <end> <end> <end> <end>', 'no <end> <end> <end> <end> <end> <end> <end> <end> <end> <end>', 'no <end> <end> <end> <end> <end> <end> <end> <end> <end> <end>', 'he lacked one one for for for a a <end> <end>', 'yes <end> <end> <end> <end> <end> <end> <end> <end> <end> <end>', 'financial <end> <end> <end> <end> <end> <end> <end> <end> <end> <end>', 'yes <end> <end> <end> <end> <end> <end> <end> <end> <end> <end>', 'alexander pop <end> <end> <end> <end> <end> <end> <end> <end> <end>', 'tuesday <end> <end> <end> <end> <end> <end> <end> <end> <end> <end>', 'captain putnam <end> <end> <end> <end> <end> <end> <end> <end> <end>', 'run away <end> <end> <end> <end> <end> <end> <end> <end> <end>', 'yes. <end> <end> <end> <end> <end> <end> <end> <end> <end> <end>', 'no. <end> <end> <end> <end> <end> <end> <end> <end> <end> <end>', 'captain putnam <end> <end> <end> <end> <end> <end> <end> <end> <end>', \"his father's <end> <end> <end> <end> <end> <end> <end> <end> <end>\", 'tom and sam. <end> <end> <end> <end> <end> <end> <end> <end>', '\"glad you you you you you you you you you <end>', 'his <end> <end> <end> <end> <end> <end> <end> <end> <end> <end>']\n",
            "Loss - 0.0011637022253125906\n",
            "Translated - ['tunisia <end> <end> <end> <end> <end> <end> <end> <end> <end> <end> <end> <end> <end> <end> <end>', 'representatives are being chosen <end> <end> <end> <end> <end> <end> <end> <end> <end> <end> <end> <end>', 'sunday <end> <end> <end> <end> <end> <end> <end> <end> <end> <end> <end> <end> <end> <end> <end>', '1956 <end> <end> <end> <end> <end> <end> <end> <end> <end> <end> <end> <end> <end> <end> <end>', 'country gained its independence <end> <end> <end> <end> <end> <end> <end> <end> <end> <end> <end> <end>', 'menzah neighborhood <end> <end> <end> <end> <end> <end> <end> <end> <end> <end> <end> <end> <end> <end>', 'schools <end> <end> <end> <end> <end> <end> <end> <end> <end> <end> <end> <end> <end> <end> <end>', 'yes <end> <end> <end> <end> <end> <end> <end> <end> <end> <end> <end> <end> <end> <end> <end>', 'cnn <end> <end> <end> <end> <end> <end> <end> <end> <end> <end> <end> <end> <end> <end> <end>', 'yes <end> <end> <end> <end> <end> <end> <end> <end> <end> <end> <end> <end> <end> <end> <end>', 'george <end> <end> <end> <end> <end> <end> <end> <end> <end> <end> <end> <end> <end> <end> <end>', 'no <end> <end> <end> <end> <end> <end> <end> <end> <end> <end> <end> <end> <end> <end> <end>', 'yes <end> <end> <end> <end> <end> <end> <end> <end> <end> <end> <end> <end> <end> <end> <end>', 'clarence <end> <end> <end> <end> <end> <end> <end> <end> <end> <end> <end> <end> <end> <end> <end>', 'no <end> <end> <end> <end> <end> <end> <end> <end> <end> <end> <end> <end> <end> <end> <end>', 'yes <end> <end> <end> <end> <end> <end> <end> <end> <end> <end> <end> <end> <end> <end> <end>', 'no <end> <end> <end> <end> <end> <end> <end> <end> <end> <end> <end> <end> <end> <end> <end>', 'no <end> <end> <end> <end> <end> <end> <end> <end> <end> <end> <end> <end> <end> <end> <end>', 'he he lacked one one one for for for for for for for for for for', 'yes <end> <end> <end> <end> <end> <end> <end> <end> <end> <end> <end> <end> <end> <end> <end>', 'financial <end> <end> <end> <end> <end> <end> <end> <end> <end> <end> <end> <end> <end> <end> <end>', 'yes <end> <end> <end> <end> <end> <end> <end> <end> <end> <end> <end> <end> <end> <end> <end>', 'alexander pop <end> <end> <end> <end> <end> <end> <end> <end> <end> <end> <end> <end> <end> <end>', 'tuesday <end> <end> <end> <end> <end> <end> <end> <end> <end> <end> <end> <end> <end> <end> <end>', 'captain putnam <end> <end> <end> <end> <end> <end> <end> <end> <end> <end> <end> <end> <end> <end>', 'run away <end> <end> <end> <end> <end> <end> <end> <end> <end> <end> <end> <end> <end> <end>', 'yes. <end> <end> <end> <end> <end> <end> <end> <end> <end> <end> <end> <end> <end> <end> <end>', 'no. <end> <end> <end> <end> <end> <end> <end> <end> <end> <end> <end> <end> <end> <end> <end>', 'captain putnam <end> <end> <end> <end> <end> <end> <end> <end> <end> <end> <end> <end> <end> <end>', \"his father's <end> <end> <end> <end> <end> <end> <end> <end> <end> <end> <end> <end> <end> <end>\", 'tom and sam. <end> <end> <end> <end> <end> <end> <end> <end> <end> <end> <end> <end> <end>', '\"glad you you you you you you you you <end> <end> <end> <end> <end> <end> <end>', 'his <end> <end> <end> <end> <end> <end> <end> <end> <end> <end> <end> <end> <end> <end> <end>']\n",
            "Loss - 0.009492477402091026\n"
          ]
        },
        {
          "output_type": "stream",
          "name": "stderr",
          "text": [
            "\r 68%|██████▊   | 68/100 [04:16<01:50,  3.45s/it]"
          ]
        },
        {
          "output_type": "stream",
          "name": "stdout",
          "text": [
            "Translated - ['tunisia <end> <end> <end> <end> <end> <end> <end> <end> <end> <end> <end> <end> <end> <end> <end>', 'representatives are being chosen <end> <end> <end> <end> <end> <end> <end> <end> <end> <end> <end> <end>', 'sunday <end> <end> <end> <end> <end> <end> <end> <end> <end> <end> <end> <end> <end> <end> <end>', '1956 <end> <end> <end> <end> <end> <end> <end> <end> <end> <end> <end> <end> <end> <end> <end>', 'country gained its <end> <end> <end> <end> <end> <end> <end> <end> <end> <end> <end> <end> <end>', 'menzah neighborhood <end> <end> <end> <end> <end> <end> <end> <end> <end> <end> <end> <end> <end> <end>', 'schools <end> <end> <end> <end> <end> <end> <end> <end> <end> <end> <end> <end> <end> <end> <end>', 'yes <end> <end> <end> <end> <end> <end> <end> <end> <end> <end> <end> <end> <end> <end> <end>', 'cnn <end> <end> <end> <end> <end> <end> <end> <end> <end> <end> <end> <end> <end> <end> <end>', 'yes <end> <end> <end> <end> <end> <end> <end> <end> <end> <end> <end> <end> <end> <end> <end>', 'george <end> <end> <end> <end> <end> <end> <end> <end> <end> <end> <end> <end> <end> <end> <end>', 'no <end> <end> <end> <end> <end> <end> <end> <end> <end> <end> <end> <end> <end> <end> <end>', 'yes <end> <end> <end> <end> <end> <end> <end> <end> <end> <end> <end> <end> <end> <end> <end>', 'clarence <end> <end> <end> <end> <end> <end> <end> <end> <end> <end> <end> <end> <end> <end> <end>', 'no <end> <end> <end> <end> <end> <end> <end> <end> <end> <end> <end> <end> <end> <end> <end>', 'yes <end> <end> <end> <end> <end> <end> <end> <end> <end> <end> <end> <end> <end> <end> <end>', 'no <end> <end> <end> <end> <end> <end> <end> <end> <end> <end> <end> <end> <end> <end> <end>', 'no <end> <end> <end> <end> <end> <end> <end> <end> <end> <end> <end> <end> <end> <end> <end>', 'he lacked one one looked looked for for a a a a a a a a', 'yes <end> <end> <end> <end> <end> <end> <end> <end> <end> <end> <end> <end> <end> <end> <end>', 'financial <end> <end> <end> <end> <end> <end> <end> <end> <end> <end> <end> <end> <end> <end> <end>', 'yes <end> <end> <end> <end> <end> <end> <end> <end> <end> <end> <end> <end> <end> <end> <end>', 'alexander pop <end> <end> <end> <end> <end> <end> <end> <end> <end> <end> <end> <end> <end> <end>', 'tuesday <end> <end> <end> <end> <end> <end> <end> <end> <end> <end> <end> <end> <end> <end> <end>', 'captain putnam <end> <end> <end> <end> <end> <end> <end> <end> <end> <end> <end> <end> <end> <end>', 'run away <end> <end> <end> <end> <end> <end> <end> <end> <end> <end> <end> <end> <end> <end>', 'yes. <end> <end> <end> <end> <end> <end> <end> <end> <end> <end> <end> <end> <end> <end> <end>', 'no. <end> <end> <end> <end> <end> <end> <end> <end> <end> <end> <end> <end> <end> <end> <end>', 'captain putnam <end> <end> <end> <end> <end> <end> <end> <end> <end> <end> <end> <end> <end> <end>', \"his father's <end> <end> <end> <end> <end> <end> <end> <end> <end> <end> <end> <end> <end> <end>\", 'tom and sam. <end> <end> <end> <end> <end> <end> <end> <end> <end> <end> <end> <end> <end>', '\"glad you you you you you you you you <end> <end> <end> <end> <end> <end> <end>', 'his <end> <end> <end> <end> <end> <end> <end> <end> <end> <end> <end> <end> <end> <end> <end>']\n",
            "Loss - 0.0011338982731103897\n",
            "Translated - ['tunisia <end> <end> <end> <end> <end> <end> <end> <end> <end> <end>', 'representatives are being chosen <end> <end> <end> <end> <end> <end> <end>', 'sunday <end> <end> <end> <end> <end> <end> <end> <end> <end> <end>', '1956 <end> <end> <end> <end> <end> <end> <end> <end> <end> <end>', 'country gained its <end> <end> <end> <end> <end> <end> <end> <end>', 'menzah neighborhood <end> <end> <end> <end> <end> <end> <end> <end> <end>', 'schools <end> <end> <end> <end> <end> <end> <end> <end> <end> <end>', 'yes <end> <end> <end> <end> <end> <end> <end> <end> <end> <end>', 'cnn <end> <end> <end> <end> <end> <end> <end> <end> <end> <end>', 'yes <end> <end> <end> <end> <end> <end> <end> <end> <end> <end>', 'george <end> <end> <end> <end> <end> <end> <end> <end> <end> <end>', 'no <end> <end> <end> <end> <end> <end> <end> <end> <end> <end>', 'yes <end> <end> <end> <end> <end> <end> <end> <end> <end> <end>', 'clarence <end> <end> <end> <end> <end> <end> <end> <end> <end> <end>', 'no <end> <end> <end> <end> <end> <end> <end> <end> <end> <end>', 'yes <end> <end> <end> <end> <end> <end> <end> <end> <end> <end>', 'no <end> <end> <end> <end> <end> <end> <end> <end> <end> <end>', 'no <end> <end> <end> <end> <end> <end> <end> <end> <end> <end>', 'he one looked looked looked looked a a a <end> <end>', 'yes <end> <end> <end> <end> <end> <end> <end> <end> <end> <end>', 'financial <end> <end> <end> <end> <end> <end> <end> <end> <end> <end>', 'yes <end> <end> <end> <end> <end> <end> <end> <end> <end> <end>', 'alexander pop <end> <end> <end> <end> <end> <end> <end> <end> <end>', 'tuesday <end> <end> <end> <end> <end> <end> <end> <end> <end> <end>', 'captain putnam <end> <end> <end> <end> <end> <end> <end> <end> <end>', 'run away <end> <end> <end> <end> <end> <end> <end> <end> <end>', 'yes. <end> <end> <end> <end> <end> <end> <end> <end> <end> <end>', 'no. <end> <end> <end> <end> <end> <end> <end> <end> <end> <end>', 'captain putnam <end> <end> <end> <end> <end> <end> <end> <end> <end>', \"his father's <end> <end> <end> <end> <end> <end> <end> <end> <end>\", 'tom and sam. <end> <end> <end> <end> <end> <end> <end> <end>', '\"glad you you you you you you you you you <end>', 'his <end> <end> <end> <end> <end> <end> <end> <end> <end> <end>']\n",
            "Loss - 0.009141889400780201\n"
          ]
        },
        {
          "output_type": "stream",
          "name": "stderr",
          "text": [
            "\r 69%|██████▉   | 69/100 [04:20<01:46,  3.45s/it]"
          ]
        },
        {
          "output_type": "stream",
          "name": "stdout",
          "text": [
            "Translated - ['tunisia <end> <end> <end> <end> <end> <end> <end> <end> <end> <end>', 'representatives are chosen <end> <end> <end> <end> <end> <end> <end> <end>', 'sunday <end> <end> <end> <end> <end> <end> <end> <end> <end> <end>', '1956 <end> <end> <end> <end> <end> <end> <end> <end> <end> <end>', 'country gained its <end> <end> <end> <end> <end> <end> <end> <end>', 'menzah neighborhood <end> <end> <end> <end> <end> <end> <end> <end> <end>', 'schools <end> <end> <end> <end> <end> <end> <end> <end> <end> <end>', 'yes <end> <end> <end> <end> <end> <end> <end> <end> <end> <end>', 'cnn <end> <end> <end> <end> <end> <end> <end> <end> <end> <end>', 'yes <end> <end> <end> <end> <end> <end> <end> <end> <end> <end>', 'george <end> <end> <end> <end> <end> <end> <end> <end> <end> <end>', 'no <end> <end> <end> <end> <end> <end> <end> <end> <end> <end>', 'yes <end> <end> <end> <end> <end> <end> <end> <end> <end> <end>', 'clarence <end> <end> <end> <end> <end> <end> <end> <end> <end> <end>', 'no <end> <end> <end> <end> <end> <end> <end> <end> <end> <end>', 'yes <end> <end> <end> <end> <end> <end> <end> <end> <end> <end>', 'no <end> <end> <end> <end> <end> <end> <end> <end> <end> <end>', 'no <end> <end> <end> <end> <end> <end> <end> <end> <end> <end>', 'he lacked one looked looked a a <end> <end> <end> <end>', 'yes <end> <end> <end> <end> <end> <end> <end> <end> <end> <end>', 'financial <end> <end> <end> <end> <end> <end> <end> <end> <end> <end>', 'yes <end> <end> <end> <end> <end> <end> <end> <end> <end> <end>', 'alexander pop <end> <end> <end> <end> <end> <end> <end> <end> <end>', 'tuesday <end> <end> <end> <end> <end> <end> <end> <end> <end> <end>', 'captain putnam <end> <end> <end> <end> <end> <end> <end> <end> <end>', 'run away <end> <end> <end> <end> <end> <end> <end> <end> <end>', 'yes. <end> <end> <end> <end> <end> <end> <end> <end> <end> <end>', 'no. <end> <end> <end> <end> <end> <end> <end> <end> <end> <end>', 'captain putnam <end> <end> <end> <end> <end> <end> <end> <end> <end>', \"his father's <end> <end> <end> <end> <end> <end> <end> <end> <end>\", 'tom and sam. <end> <end> <end> <end> <end> <end> <end> <end>', '\"glad you you you you you you you you you <end>', 'his <end> <end> <end> <end> <end> <end> <end> <end> <end> <end>']\n",
            "Loss - 0.0010975234908983111\n",
            "Translated - ['tunisia <end> <end> <end> <end> <end> <end> <end> <end> <end> <end>', 'representatives are being chosen <end> <end> <end> <end> <end> <end> <end>', 'sunday <end> <end> <end> <end> <end> <end> <end> <end> <end> <end>', '1956 <end> <end> <end> <end> <end> <end> <end> <end> <end> <end>', 'country gained gained independence <end> <end> <end> <end> <end> <end> <end>', 'menzah neighborhood <end> <end> <end> <end> <end> <end> <end> <end> <end>', 'schools <end> <end> <end> <end> <end> <end> <end> <end> <end> <end>', 'yes <end> <end> <end> <end> <end> <end> <end> <end> <end> <end>', 'cnn <end> <end> <end> <end> <end> <end> <end> <end> <end> <end>', 'yes <end> <end> <end> <end> <end> <end> <end> <end> <end> <end>', 'george <end> <end> <end> <end> <end> <end> <end> <end> <end> <end>', 'no <end> <end> <end> <end> <end> <end> <end> <end> <end> <end>', 'yes <end> <end> <end> <end> <end> <end> <end> <end> <end> <end>', 'clarence <end> <end> <end> <end> <end> <end> <end> <end> <end> <end>', 'no <end> <end> <end> <end> <end> <end> <end> <end> <end> <end>', 'yes <end> <end> <end> <end> <end> <end> <end> <end> <end> <end>', 'no <end> <end> <end> <end> <end> <end> <end> <end> <end> <end>', 'no <end> <end> <end> <end> <end> <end> <end> <end> <end> <end>', 'he lacked one looked a a <end> <end> <end> <end> <end>', 'yes <end> <end> <end> <end> <end> <end> <end> <end> <end> <end>', 'financial <end> <end> <end> <end> <end> <end> <end> <end> <end> <end>', 'yes <end> <end> <end> <end> <end> <end> <end> <end> <end> <end>', 'alexander pop <end> <end> <end> <end> <end> <end> <end> <end> <end>', 'tuesday <end> <end> <end> <end> <end> <end> <end> <end> <end> <end>', 'captain putnam <end> <end> <end> <end> <end> <end> <end> <end> <end>', 'run away <end> <end> <end> <end> <end> <end> <end> <end> <end>', 'yes. <end> <end> <end> <end> <end> <end> <end> <end> <end> <end>', 'no. <end> <end> <end> <end> <end> <end> <end> <end> <end> <end>', 'captain putnam <end> <end> <end> <end> <end> <end> <end> <end> <end>', \"his father's <end> <end> <end> <end> <end> <end> <end> <end> <end>\", 'tom and sam. <end> <end> <end> <end> <end> <end> <end> <end>', '\"glad you you you you you you you you you <end>', 'his <end> <end> <end> <end> <end> <end> <end> <end> <end> <end>']\n",
            "Loss - 0.008955482393503189\n"
          ]
        },
        {
          "output_type": "stream",
          "name": "stderr",
          "text": [
            "\r 70%|███████   | 70/100 [04:23<01:43,  3.45s/it]"
          ]
        },
        {
          "output_type": "stream",
          "name": "stdout",
          "text": [
            "Translated - ['tunisia <end> <end> <end> <end> <end> <end> <end> <end> <end> <end>', 'representatives are being chosen <end> <end> <end> <end> <end> <end> <end>', 'sunday <end> <end> <end> <end> <end> <end> <end> <end> <end> <end>', '1956 <end> <end> <end> <end> <end> <end> <end> <end> <end> <end>', 'country gained gained independence <end> <end> <end> <end> <end> <end> <end>', 'menzah neighborhood <end> <end> <end> <end> <end> <end> <end> <end> <end>', 'schools <end> <end> <end> <end> <end> <end> <end> <end> <end> <end>', 'yes <end> <end> <end> <end> <end> <end> <end> <end> <end> <end>', 'cnn <end> <end> <end> <end> <end> <end> <end> <end> <end> <end>', 'yes <end> <end> <end> <end> <end> <end> <end> <end> <end> <end>', 'george <end> <end> <end> <end> <end> <end> <end> <end> <end> <end>', 'no <end> <end> <end> <end> <end> <end> <end> <end> <end> <end>', 'yes <end> <end> <end> <end> <end> <end> <end> <end> <end> <end>', 'clarence <end> <end> <end> <end> <end> <end> <end> <end> <end> <end>', 'no <end> <end> <end> <end> <end> <end> <end> <end> <end> <end>', 'yes <end> <end> <end> <end> <end> <end> <end> <end> <end> <end>', 'no <end> <end> <end> <end> <end> <end> <end> <end> <end> <end>', 'no <end> <end> <end> <end> <end> <end> <end> <end> <end> <end>', 'he lacked one lover a a a <end> <end> <end> <end>', 'yes <end> <end> <end> <end> <end> <end> <end> <end> <end> <end>', 'financial <end> <end> <end> <end> <end> <end> <end> <end> <end> <end>', 'yes <end> <end> <end> <end> <end> <end> <end> <end> <end> <end>', 'alexander pop <end> <end> <end> <end> <end> <end> <end> <end> <end>', 'tuesday <end> <end> <end> <end> <end> <end> <end> <end> <end> <end>', 'captain putnam <end> <end> <end> <end> <end> <end> <end> <end> <end>', 'run away <end> <end> <end> <end> <end> <end> <end> <end> <end>', 'yes. <end> <end> <end> <end> <end> <end> <end> <end> <end> <end>', 'no. <end> <end> <end> <end> <end> <end> <end> <end> <end> <end>', 'captain putnam <end> <end> <end> <end> <end> <end> <end> <end> <end>', \"his father's <end> <end> <end> <end> <end> <end> <end> <end> <end>\", 'tom and sam. <end> <end> <end> <end> <end> <end> <end> <end>', '\"glad you you you you you you you you you <end>', 'his <end> <end> <end> <end> <end> <end> <end> <end> <end> <end>']\n",
            "Loss - 0.0012029303470626473\n",
            "Translated - ['tunisia <end> <end> <end> <end> <end> <end> <end> <end> <end>', 'representatives are chosen chosen <end> <end> <end> <end> <end> <end>', 'sunday <end> <end> <end> <end> <end> <end> <end> <end> <end>', '1956 <end> <end> <end> <end> <end> <end> <end> <end> <end>', 'country gained its independence <end> <end> <end> <end> <end> <end>', 'menzah neighborhood <end> <end> <end> <end> <end> <end> <end> <end>', 'schools <end> <end> <end> <end> <end> <end> <end> <end> <end>', 'yes <end> <end> <end> <end> <end> <end> <end> <end> <end>', 'cnn <end> <end> <end> <end> <end> <end> <end> <end> <end>', 'yes <end> <end> <end> <end> <end> <end> <end> <end> <end>', 'george <end> <end> <end> <end> <end> <end> <end> <end> <end>', 'no <end> <end> <end> <end> <end> <end> <end> <end> <end>', 'yes <end> <end> <end> <end> <end> <end> <end> <end> <end>', 'clarence <end> <end> <end> <end> <end> <end> <end> <end> <end>', 'no <end> <end> <end> <end> <end> <end> <end> <end> <end>', 'yes <end> <end> <end> <end> <end> <end> <end> <end> <end>', 'no <end> <end> <end> <end> <end> <end> <end> <end> <end>', 'no <end> <end> <end> <end> <end> <end> <end> <end> <end>', 'he lacked lacked lover lover a lover <end> <end> <end>', 'yes <end> <end> <end> <end> <end> <end> <end> <end> <end>', 'financial <end> <end> <end> <end> <end> <end> <end> <end> <end>', 'yes <end> <end> <end> <end> <end> <end> <end> <end> <end>', 'alexander pop <end> <end> <end> <end> <end> <end> <end> <end>', 'tuesday <end> <end> <end> <end> <end> <end> <end> <end> <end>', 'captain putnam <end> <end> <end> <end> <end> <end> <end> <end>', 'run away <end> <end> <end> <end> <end> <end> <end> <end>', 'yes. <end> <end> <end> <end> <end> <end> <end> <end> <end>', 'no. <end> <end> <end> <end> <end> <end> <end> <end> <end>', 'captain putnam <end> <end> <end> <end> <end> <end> <end> <end>', \"his father's <end> <end> <end> <end> <end> <end> <end> <end>\", 'tom and sam. <end> <end> <end> <end> <end> <end> <end>', '\"glad you you you you you you you you <end>', 'his <end> <end> <end> <end> <end> <end> <end> <end> <end>']\n",
            "Loss - 0.008770949207246304\n"
          ]
        },
        {
          "output_type": "stream",
          "name": "stderr",
          "text": [
            "\r 71%|███████   | 71/100 [04:26<01:40,  3.46s/it]"
          ]
        },
        {
          "output_type": "stream",
          "name": "stdout",
          "text": [
            "Translated - ['tunisia <end> <end> <end> <end> <end> <end> <end> <end> <end> <end>', 'representatives are chosen <end> <end> <end> <end> <end> <end> <end> <end>', 'sunday <end> <end> <end> <end> <end> <end> <end> <end> <end> <end>', '1956 <end> <end> <end> <end> <end> <end> <end> <end> <end> <end>', 'country gained its <end> <end> <end> <end> <end> <end> <end> <end>', 'menzah neighborhood <end> <end> <end> <end> <end> <end> <end> <end> <end>', 'schools <end> <end> <end> <end> <end> <end> <end> <end> <end> <end>', 'yes <end> <end> <end> <end> <end> <end> <end> <end> <end> <end>', 'cnn <end> <end> <end> <end> <end> <end> <end> <end> <end> <end>', 'yes <end> <end> <end> <end> <end> <end> <end> <end> <end> <end>', 'george <end> <end> <end> <end> <end> <end> <end> <end> <end> <end>', 'no <end> <end> <end> <end> <end> <end> <end> <end> <end> <end>', 'yes <end> <end> <end> <end> <end> <end> <end> <end> <end> <end>', 'clarence <end> <end> <end> <end> <end> <end> <end> <end> <end> <end>', 'no <end> <end> <end> <end> <end> <end> <end> <end> <end> <end>', 'yes <end> <end> <end> <end> <end> <end> <end> <end> <end> <end>', 'no <end> <end> <end> <end> <end> <end> <end> <end> <end> <end>', 'no <end> <end> <end> <end> <end> <end> <end> <end> <end> <end>', 'he lacked lacked one lover a a lover <end> <end> <end>', 'yes <end> <end> <end> <end> <end> <end> <end> <end> <end> <end>', 'financial <end> <end> <end> <end> <end> <end> <end> <end> <end> <end>', 'yes <end> <end> <end> <end> <end> <end> <end> <end> <end> <end>', 'alexander pop <end> <end> <end> <end> <end> <end> <end> <end> <end>', 'tuesday <end> <end> <end> <end> <end> <end> <end> <end> <end> <end>', 'captain putnam <end> <end> <end> <end> <end> <end> <end> <end> <end>', 'run away <end> <end> <end> <end> <end> <end> <end> <end> <end>', 'yes. <end> <end> <end> <end> <end> <end> <end> <end> <end> <end>', 'no. <end> <end> <end> <end> <end> <end> <end> <end> <end> <end>', 'captain putnam <end> <end> <end> <end> <end> <end> <end> <end> <end>', \"his father's <end> <end> <end> <end> <end> <end> <end> <end> <end>\", 'tom and sam. <end> <end> <end> <end> <end> <end> <end> <end>', '\"glad you you you you you you you you you <end>', 'his <end> <end> <end> <end> <end> <end> <end> <end> <end> <end>']\n",
            "Loss - 0.001211922150105238\n",
            "Translated - ['tunisia <end> <end> <end> <end> <end> <end> <end> <end> <end> <end>', 'representatives are chosen chosen <end> <end> <end> <end> <end> <end> <end>', 'sunday <end> <end> <end> <end> <end> <end> <end> <end> <end> <end>', '1956 <end> <end> <end> <end> <end> <end> <end> <end> <end> <end>', 'country gained its independence <end> <end> <end> <end> <end> <end> <end>', 'menzah neighborhood <end> <end> <end> <end> <end> <end> <end> <end> <end>', 'schools <end> <end> <end> <end> <end> <end> <end> <end> <end> <end>', 'yes <end> <end> <end> <end> <end> <end> <end> <end> <end> <end>', 'cnn <end> <end> <end> <end> <end> <end> <end> <end> <end> <end>', 'yes <end> <end> <end> <end> <end> <end> <end> <end> <end> <end>', 'george <end> <end> <end> <end> <end> <end> <end> <end> <end> <end>', 'no <end> <end> <end> <end> <end> <end> <end> <end> <end> <end>', 'yes <end> <end> <end> <end> <end> <end> <end> <end> <end> <end>', 'clarence <end> <end> <end> <end> <end> <end> <end> <end> <end> <end>', 'no <end> <end> <end> <end> <end> <end> <end> <end> <end> <end>', 'yes <end> <end> <end> <end> <end> <end> <end> <end> <end> <end>', 'no <end> <end> <end> <end> <end> <end> <end> <end> <end> <end>', 'no <end> <end> <end> <end> <end> <end> <end> <end> <end> <end>', 'he lacked lacked one one looked in a lover <end> <end>', 'yes <end> <end> <end> <end> <end> <end> <end> <end> <end> <end>', 'financial <end> <end> <end> <end> <end> <end> <end> <end> <end> <end>', 'yes <end> <end> <end> <end> <end> <end> <end> <end> <end> <end>', 'alexander pop <end> <end> <end> <end> <end> <end> <end> <end> <end>', 'tuesday <end> <end> <end> <end> <end> <end> <end> <end> <end> <end>', 'captain putnam <end> <end> <end> <end> <end> <end> <end> <end> <end>', 'run away <end> <end> <end> <end> <end> <end> <end> <end> <end>', 'yes. <end> <end> <end> <end> <end> <end> <end> <end> <end> <end>', 'no. <end> <end> <end> <end> <end> <end> <end> <end> <end> <end>', 'captain putnam <end> <end> <end> <end> <end> <end> <end> <end> <end>', \"his father's <end> <end> <end> <end> <end> <end> <end> <end> <end>\", 'tom and sam. <end> <end> <end> <end> <end> <end> <end> <end>', '\"glad you you you you you you you you you <end>', 'his <end> <end> <end> <end> <end> <end> <end> <end> <end> <end>']\n",
            "Loss - 0.008659042418003082\n"
          ]
        },
        {
          "output_type": "stream",
          "name": "stderr",
          "text": [
            "\r 72%|███████▏  | 72/100 [04:30<01:36,  3.44s/it]"
          ]
        },
        {
          "output_type": "stream",
          "name": "stdout",
          "text": [
            "Translated - ['tunisia <end> <end> <end> <end> <end> <end> <end> <end> <end> <end>', 'representatives are being chosen <end> <end> <end> <end> <end> <end> <end>', 'sunday <end> <end> <end> <end> <end> <end> <end> <end> <end> <end>', '1956 <end> <end> <end> <end> <end> <end> <end> <end> <end> <end>', 'country gained its independence <end> <end> <end> <end> <end> <end> <end>', 'menzah neighborhood <end> <end> <end> <end> <end> <end> <end> <end> <end>', 'schools <end> <end> <end> <end> <end> <end> <end> <end> <end> <end>', 'yes <end> <end> <end> <end> <end> <end> <end> <end> <end> <end>', 'cnn <end> <end> <end> <end> <end> <end> <end> <end> <end> <end>', 'yes <end> <end> <end> <end> <end> <end> <end> <end> <end> <end>', 'george <end> <end> <end> <end> <end> <end> <end> <end> <end> <end>', 'no <end> <end> <end> <end> <end> <end> <end> <end> <end> <end>', 'yes <end> <end> <end> <end> <end> <end> <end> <end> <end> <end>', 'clarence <end> <end> <end> <end> <end> <end> <end> <end> <end> <end>', 'no <end> <end> <end> <end> <end> <end> <end> <end> <end> <end>', 'yes <end> <end> <end> <end> <end> <end> <end> <end> <end> <end>', 'no <end> <end> <end> <end> <end> <end> <end> <end> <end> <end>', 'no <end> <end> <end> <end> <end> <end> <end> <end> <end> <end>', 'he lacked something one looked looked in a <end> <end> <end>', 'yes <end> <end> <end> <end> <end> <end> <end> <end> <end> <end>', 'financial <end> <end> <end> <end> <end> <end> <end> <end> <end> <end>', 'yes <end> <end> <end> <end> <end> <end> <end> <end> <end> <end>', 'alexander pop <end> <end> <end> <end> <end> <end> <end> <end> <end>', 'tuesday <end> <end> <end> <end> <end> <end> <end> <end> <end> <end>', 'captain putnam <end> <end> <end> <end> <end> <end> <end> <end> <end>', 'run away <end> <end> <end> <end> <end> <end> <end> <end> <end>', 'yes. <end> <end> <end> <end> <end> <end> <end> <end> <end> <end>', 'no. <end> <end> <end> <end> <end> <end> <end> <end> <end> <end>', 'captain putnam <end> <end> <end> <end> <end> <end> <end> <end> <end>', \"his father's <end> <end> <end> <end> <end> <end> <end> <end> <end>\", 'tom and sam. <end> <end> <end> <end> <end> <end> <end> <end>', '\"glad you you you you you you you you you <end>', 'his <end> <end> <end> <end> <end> <end> <end> <end> <end> <end>']\n",
            "Loss - 0.0010376054560765624\n",
            "Translated - ['tunisia <end> <end> <end> <end> <end> <end> <end> <end> <end>', 'representatives are being chosen <end> <end> <end> <end> <end> <end>', 'sunday <end> <end> <end> <end> <end> <end> <end> <end> <end>', '1956 <end> <end> <end> <end> <end> <end> <end> <end> <end>', 'country gained its independence <end> <end> <end> <end> <end> <end>', 'menzah neighborhood <end> <end> <end> <end> <end> <end> <end> <end>', 'schools <end> <end> <end> <end> <end> <end> <end> <end> <end>', 'yes <end> <end> <end> <end> <end> <end> <end> <end> <end>', 'cnn <end> <end> <end> <end> <end> <end> <end> <end> <end>', 'yes <end> <end> <end> <end> <end> <end> <end> <end> <end>', 'george <end> <end> <end> <end> <end> <end> <end> <end> <end>', 'no <end> <end> <end> <end> <end> <end> <end> <end> <end>', 'yes <end> <end> <end> <end> <end> <end> <end> <end> <end>', 'clarence <end> <end> <end> <end> <end> <end> <end> <end> <end>', 'no <end> <end> <end> <end> <end> <end> <end> <end> <end>', 'yes <end> <end> <end> <end> <end> <end> <end> <end> <end>', 'no <end> <end> <end> <end> <end> <end> <end> <end> <end>', 'no <end> <end> <end> <end> <end> <end> <end> <end> <end>', 'he lacked something one looked looked in <end> <end> <end>', 'yes <end> <end> <end> <end> <end> <end> <end> <end> <end>', 'financial <end> <end> <end> <end> <end> <end> <end> <end> <end>', 'yes <end> <end> <end> <end> <end> <end> <end> <end> <end>', 'alexander pop <end> <end> <end> <end> <end> <end> <end> <end>', 'tuesday <end> <end> <end> <end> <end> <end> <end> <end> <end>', 'captain putnam <end> <end> <end> <end> <end> <end> <end> <end>', 'run away <end> <end> <end> <end> <end> <end> <end> <end>', 'yes. <end> <end> <end> <end> <end> <end> <end> <end> <end>', 'no. <end> <end> <end> <end> <end> <end> <end> <end> <end>', 'captain putnam <end> <end> <end> <end> <end> <end> <end> <end>', \"his father's <end> <end> <end> <end> <end> <end> <end> <end>\", 'tom and sam. <end> <end> <end> <end> <end> <end> <end>', '\"glad you you you you you you you you <end>', 'his <end> <end> <end> <end> <end> <end> <end> <end> <end>']\n",
            "Loss - 0.008502901531755924\n"
          ]
        },
        {
          "output_type": "stream",
          "name": "stderr",
          "text": [
            "\r 73%|███████▎  | 73/100 [04:33<01:33,  3.45s/it]"
          ]
        },
        {
          "output_type": "stream",
          "name": "stdout",
          "text": [
            "Translated - ['tunisia <end> <end> <end> <end> <end> <end> <end> <end> <end>', 'representatives are being chosen <end> <end> <end> <end> <end> <end>', 'sunday <end> <end> <end> <end> <end> <end> <end> <end> <end>', '1956 <end> <end> <end> <end> <end> <end> <end> <end> <end>', 'country gained its independence <end> <end> <end> <end> <end> <end>', 'menzah neighborhood <end> <end> <end> <end> <end> <end> <end> <end>', 'schools <end> <end> <end> <end> <end> <end> <end> <end> <end>', 'yes <end> <end> <end> <end> <end> <end> <end> <end> <end>', 'cnn <end> <end> <end> <end> <end> <end> <end> <end> <end>', 'yes <end> <end> <end> <end> <end> <end> <end> <end> <end>', 'george <end> <end> <end> <end> <end> <end> <end> <end> <end>', 'no <end> <end> <end> <end> <end> <end> <end> <end> <end>', 'yes <end> <end> <end> <end> <end> <end> <end> <end> <end>', 'clarence <end> <end> <end> <end> <end> <end> <end> <end> <end>', 'no <end> <end> <end> <end> <end> <end> <end> <end> <end>', 'yes <end> <end> <end> <end> <end> <end> <end> <end> <end>', 'no <end> <end> <end> <end> <end> <end> <end> <end> <end>', 'no <end> <end> <end> <end> <end> <end> <end> <end> <end>', 'he lacked something one looked looked <end> <end> <end> <end>', 'yes <end> <end> <end> <end> <end> <end> <end> <end> <end>', 'financial <end> <end> <end> <end> <end> <end> <end> <end> <end>', 'yes <end> <end> <end> <end> <end> <end> <end> <end> <end>', 'alexander pop <end> <end> <end> <end> <end> <end> <end> <end>', 'tuesday <end> <end> <end> <end> <end> <end> <end> <end> <end>', 'captain putnam <end> <end> <end> <end> <end> <end> <end> <end>', 'run away <end> <end> <end> <end> <end> <end> <end> <end>', 'yes. <end> <end> <end> <end> <end> <end> <end> <end> <end>', 'no. <end> <end> <end> <end> <end> <end> <end> <end> <end>', 'captain putnam <end> <end> <end> <end> <end> <end> <end> <end>', \"his father's <end> <end> <end> <end> <end> <end> <end> <end>\", 'tom and sam. <end> <end> <end> <end> <end> <end> <end>', '\"glad you you you you you you you you <end>', 'his <end> <end> <end> <end> <end> <end> <end> <end> <end>']\n",
            "Loss - 0.0009977853624150157\n",
            "Translated - ['tunisia <end> <end> <end> <end> <end> <end> <end> <end> <end> <end>', 'representatives are being chosen <end> <end> <end> <end> <end> <end> <end>', 'sunday <end> <end> <end> <end> <end> <end> <end> <end> <end> <end>', '1956 <end> <end> <end> <end> <end> <end> <end> <end> <end> <end>', 'country gained its independence <end> <end> <end> <end> <end> <end> <end>', 'menzah neighborhood <end> <end> <end> <end> <end> <end> <end> <end> <end>', 'schools <end> <end> <end> <end> <end> <end> <end> <end> <end> <end>', 'yes <end> <end> <end> <end> <end> <end> <end> <end> <end> <end>', 'cnn <end> <end> <end> <end> <end> <end> <end> <end> <end> <end>', 'yes <end> <end> <end> <end> <end> <end> <end> <end> <end> <end>', 'george <end> <end> <end> <end> <end> <end> <end> <end> <end> <end>', 'no <end> <end> <end> <end> <end> <end> <end> <end> <end> <end>', 'yes <end> <end> <end> <end> <end> <end> <end> <end> <end> <end>', 'clarence <end> <end> <end> <end> <end> <end> <end> <end> <end> <end>', 'no <end> <end> <end> <end> <end> <end> <end> <end> <end> <end>', 'yes <end> <end> <end> <end> <end> <end> <end> <end> <end> <end>', 'no <end> <end> <end> <end> <end> <end> <end> <end> <end> <end>', 'no <end> <end> <end> <end> <end> <end> <end> <end> <end> <end>', 'he lacked something one looked in <end> <end> <end> <end> <end>', 'yes <end> <end> <end> <end> <end> <end> <end> <end> <end> <end>', 'financial <end> <end> <end> <end> <end> <end> <end> <end> <end> <end>', 'yes <end> <end> <end> <end> <end> <end> <end> <end> <end> <end>', 'alexander pop <end> <end> <end> <end> <end> <end> <end> <end> <end>', 'tuesday <end> <end> <end> <end> <end> <end> <end> <end> <end> <end>', 'captain putnam <end> <end> <end> <end> <end> <end> <end> <end> <end>', 'run away <end> <end> <end> <end> <end> <end> <end> <end> <end>', 'yes. <end> <end> <end> <end> <end> <end> <end> <end> <end> <end>', 'no. <end> <end> <end> <end> <end> <end> <end> <end> <end> <end>', 'captain putnam <end> <end> <end> <end> <end> <end> <end> <end> <end>', \"his father's <end> <end> <end> <end> <end> <end> <end> <end> <end>\", 'tom and sam. <end> <end> <end> <end> <end> <end> <end> <end>', '\"glad you you you you you you you you you <end>', 'his <end> <end> <end> <end> <end> <end> <end> <end> <end> <end>']\n",
            "Loss - 0.008482418954372406\n"
          ]
        },
        {
          "output_type": "stream",
          "name": "stderr",
          "text": [
            "\r 74%|███████▍  | 74/100 [04:37<01:29,  3.46s/it]"
          ]
        },
        {
          "output_type": "stream",
          "name": "stdout",
          "text": [
            "Translated - ['tunisia <end> <end> <end> <end> <end> <end> <end> <end> <end> <end>', 'representatives are chosen <end> <end> <end> <end> <end> <end> <end> <end>', 'sunday <end> <end> <end> <end> <end> <end> <end> <end> <end> <end>', '1956 <end> <end> <end> <end> <end> <end> <end> <end> <end> <end>', 'country gained its independence <end> <end> <end> <end> <end> <end> <end>', 'menzah neighborhood <end> <end> <end> <end> <end> <end> <end> <end> <end>', 'schools <end> <end> <end> <end> <end> <end> <end> <end> <end> <end>', 'yes <end> <end> <end> <end> <end> <end> <end> <end> <end> <end>', 'cnn <end> <end> <end> <end> <end> <end> <end> <end> <end> <end>', 'yes <end> <end> <end> <end> <end> <end> <end> <end> <end> <end>', 'george <end> <end> <end> <end> <end> <end> <end> <end> <end> <end>', 'no <end> <end> <end> <end> <end> <end> <end> <end> <end> <end>', 'yes <end> <end> <end> <end> <end> <end> <end> <end> <end> <end>', 'clarence <end> <end> <end> <end> <end> <end> <end> <end> <end> <end>', 'no <end> <end> <end> <end> <end> <end> <end> <end> <end> <end>', 'yes <end> <end> <end> <end> <end> <end> <end> <end> <end> <end>', 'no <end> <end> <end> <end> <end> <end> <end> <end> <end> <end>', 'no <end> <end> <end> <end> <end> <end> <end> <end> <end> <end>', 'he lacked something one looked looked <end> <end> <end> <end> <end>', 'yes <end> <end> <end> <end> <end> <end> <end> <end> <end> <end>', 'financial <end> <end> <end> <end> <end> <end> <end> <end> <end> <end>', 'yes <end> <end> <end> <end> <end> <end> <end> <end> <end> <end>', 'alexander pop <end> <end> <end> <end> <end> <end> <end> <end> <end>', 'tuesday <end> <end> <end> <end> <end> <end> <end> <end> <end> <end>', 'captain putnam <end> <end> <end> <end> <end> <end> <end> <end> <end>', 'run away <end> <end> <end> <end> <end> <end> <end> <end> <end>', 'yes. <end> <end> <end> <end> <end> <end> <end> <end> <end> <end>', 'no. <end> <end> <end> <end> <end> <end> <end> <end> <end> <end>', 'captain putnam <end> <end> <end> <end> <end> <end> <end> <end> <end>', \"his father's <end> <end> <end> <end> <end> <end> <end> <end> <end>\", 'tom and sam. <end> <end> <end> <end> <end> <end> <end> <end>', '\"glad you you you you you you you you you <end>', 'his <end> <end> <end> <end> <end> <end> <end> <end> <end> <end>']\n",
            "Loss - 0.0009691619779914618\n",
            "Translated - ['tunisia <end> <end> <end> <end> <end> <end> <end> <end> <end> <end>', 'representatives are being chosen <end> <end> <end> <end> <end> <end> <end>', 'sunday <end> <end> <end> <end> <end> <end> <end> <end> <end> <end>', '1956 <end> <end> <end> <end> <end> <end> <end> <end> <end> <end>', 'country gained its independence <end> <end> <end> <end> <end> <end> <end>', 'menzah neighborhood <end> <end> <end> <end> <end> <end> <end> <end> <end>', 'schools <end> <end> <end> <end> <end> <end> <end> <end> <end> <end>', 'yes <end> <end> <end> <end> <end> <end> <end> <end> <end> <end>', 'cnn <end> <end> <end> <end> <end> <end> <end> <end> <end> <end>', 'yes <end> <end> <end> <end> <end> <end> <end> <end> <end> <end>', 'george <end> <end> <end> <end> <end> <end> <end> <end> <end> <end>', 'no <end> <end> <end> <end> <end> <end> <end> <end> <end> <end>', 'yes <end> <end> <end> <end> <end> <end> <end> <end> <end> <end>', 'clarence <end> <end> <end> <end> <end> <end> <end> <end> <end> <end>', 'no <end> <end> <end> <end> <end> <end> <end> <end> <end> <end>', 'yes <end> <end> <end> <end> <end> <end> <end> <end> <end> <end>', 'no <end> <end> <end> <end> <end> <end> <end> <end> <end> <end>', 'no <end> <end> <end> <end> <end> <end> <end> <end> <end> <end>', 'he he one one looked looked a a <end> <end> <end>', 'yes <end> <end> <end> <end> <end> <end> <end> <end> <end> <end>', 'financial <end> <end> <end> <end> <end> <end> <end> <end> <end> <end>', 'yes <end> <end> <end> <end> <end> <end> <end> <end> <end> <end>', 'alexander pop <end> <end> <end> <end> <end> <end> <end> <end> <end>', 'tuesday <end> <end> <end> <end> <end> <end> <end> <end> <end> <end>', 'captain putnam <end> <end> <end> <end> <end> <end> <end> <end> <end>', 'run away <end> <end> <end> <end> <end> <end> <end> <end> <end>', 'yes. <end> <end> <end> <end> <end> <end> <end> <end> <end> <end>', 'no. <end> <end> <end> <end> <end> <end> <end> <end> <end> <end>', 'captain putnam <end> <end> <end> <end> <end> <end> <end> <end> <end>', \"his father's <end> <end> <end> <end> <end> <end> <end> <end> <end>\", 'tom and sam. <end> <end> <end> <end> <end> <end> <end> <end>', '\"glad you you you you you you you you you <end>', 'his <end> <end> <end> <end> <end> <end> <end> <end> <end> <end>']\n",
            "Loss - 0.008289498277008533\n"
          ]
        },
        {
          "output_type": "stream",
          "name": "stderr",
          "text": [
            "\r 75%|███████▌  | 75/100 [04:40<01:26,  3.44s/it]"
          ]
        },
        {
          "output_type": "stream",
          "name": "stdout",
          "text": [
            "Translated - ['tunisia <end> <end> <end> <end> <end> <end> <end> <end> <end>', 'representatives are being chosen <end> <end> <end> <end> <end> <end>', 'sunday <end> <end> <end> <end> <end> <end> <end> <end> <end>', '1956 <end> <end> <end> <end> <end> <end> <end> <end> <end>', 'country gained its independence <end> <end> <end> <end> <end> <end>', 'menzah neighborhood <end> <end> <end> <end> <end> <end> <end> <end>', 'schools <end> <end> <end> <end> <end> <end> <end> <end> <end>', 'yes <end> <end> <end> <end> <end> <end> <end> <end> <end>', 'cnn <end> <end> <end> <end> <end> <end> <end> <end> <end>', 'yes <end> <end> <end> <end> <end> <end> <end> <end> <end>', 'george <end> <end> <end> <end> <end> <end> <end> <end> <end>', 'no <end> <end> <end> <end> <end> <end> <end> <end> <end>', 'yes <end> <end> <end> <end> <end> <end> <end> <end> <end>', 'clarence <end> <end> <end> <end> <end> <end> <end> <end> <end>', 'no <end> <end> <end> <end> <end> <end> <end> <end> <end>', 'yes <end> <end> <end> <end> <end> <end> <end> <end> <end>', 'no <end> <end> <end> <end> <end> <end> <end> <end> <end>', 'no <end> <end> <end> <end> <end> <end> <end> <end> <end>', 'he he something one looked looked a a <end> <end>', 'yes <end> <end> <end> <end> <end> <end> <end> <end> <end>', 'financial <end> <end> <end> <end> <end> <end> <end> <end> <end>', 'yes <end> <end> <end> <end> <end> <end> <end> <end> <end>', 'alexander pop <end> <end> <end> <end> <end> <end> <end> <end>', 'tuesday <end> <end> <end> <end> <end> <end> <end> <end> <end>', 'captain putnam <end> <end> <end> <end> <end> <end> <end> <end>', 'run away <end> <end> <end> <end> <end> <end> <end> <end>', 'yes. <end> <end> <end> <end> <end> <end> <end> <end> <end>', 'no. <end> <end> <end> <end> <end> <end> <end> <end> <end>', 'captain putnam <end> <end> <end> <end> <end> <end> <end> <end>', \"his father's <end> <end> <end> <end> <end> <end> <end> <end>\", 'tom and sam. <end> <end> <end> <end> <end> <end> <end>', '\"glad you you you you you you you you <end>', 'his <end> <end> <end> <end> <end> <end> <end> <end> <end>']\n",
            "Loss - 0.000929614994674921\n",
            "Translated - ['tunisia <end> <end> <end> <end> <end> <end> <end> <end> <end>', 'representatives are being chosen <end> <end> <end> <end> <end> <end>', 'sunday <end> <end> <end> <end> <end> <end> <end> <end> <end>', '1956 <end> <end> <end> <end> <end> <end> <end> <end> <end>', 'country gained its independence <end> <end> <end> <end> <end> <end>', 'menzah neighborhood <end> <end> <end> <end> <end> <end> <end> <end>', 'schools <end> <end> <end> <end> <end> <end> <end> <end> <end>', 'yes <end> <end> <end> <end> <end> <end> <end> <end> <end>', 'cnn <end> <end> <end> <end> <end> <end> <end> <end> <end>', 'yes <end> <end> <end> <end> <end> <end> <end> <end> <end>', 'george <end> <end> <end> <end> <end> <end> <end> <end> <end>', 'no <end> <end> <end> <end> <end> <end> <end> <end> <end>', 'yes <end> <end> <end> <end> <end> <end> <end> <end> <end>', 'clarence <end> <end> <end> <end> <end> <end> <end> <end> <end>', 'no <end> <end> <end> <end> <end> <end> <end> <end> <end>', 'yes <end> <end> <end> <end> <end> <end> <end> <end> <end>', 'no <end> <end> <end> <end> <end> <end> <end> <end> <end>', 'no <end> <end> <end> <end> <end> <end> <end> <end> <end>', 'he he something one one for a a a <end>', 'yes <end> <end> <end> <end> <end> <end> <end> <end> <end>', 'financial <end> <end> <end> <end> <end> <end> <end> <end> <end>', 'yes <end> <end> <end> <end> <end> <end> <end> <end> <end>', 'alexander pop <end> <end> <end> <end> <end> <end> <end> <end>', 'tuesday <end> <end> <end> <end> <end> <end> <end> <end> <end>', 'captain putnam <end> <end> <end> <end> <end> <end> <end> <end>', 'run away <end> <end> <end> <end> <end> <end> <end> <end>', 'yes. <end> <end> <end> <end> <end> <end> <end> <end> <end>', 'no. <end> <end> <end> <end> <end> <end> <end> <end> <end>', 'captain putnam <end> <end> <end> <end> <end> <end> <end> <end>', \"his father's <end> <end> <end> <end> <end> <end> <end> <end>\", 'tom and sam. <end> <end> <end> <end> <end> <end> <end>', '\"glad you you you you you you you you <end>', 'his <end> <end> <end> <end> <end> <end> <end> <end> <end>']\n",
            "Loss - 0.008206525817513466\n"
          ]
        },
        {
          "output_type": "stream",
          "name": "stderr",
          "text": [
            "\r 76%|███████▌  | 76/100 [04:44<01:22,  3.43s/it]"
          ]
        },
        {
          "output_type": "stream",
          "name": "stdout",
          "text": [
            "Translated - ['tunisia <end> <end> <end> <end> <end> <end> <end> <end> <end> <end>', 'representatives are being chosen <end> <end> <end> <end> <end> <end> <end>', 'sunday <end> <end> <end> <end> <end> <end> <end> <end> <end> <end>', '1956 <end> <end> <end> <end> <end> <end> <end> <end> <end> <end>', 'country gained its independence <end> <end> <end> <end> <end> <end> <end>', 'menzah neighborhood <end> <end> <end> <end> <end> <end> <end> <end> <end>', 'schools <end> <end> <end> <end> <end> <end> <end> <end> <end> <end>', 'yes <end> <end> <end> <end> <end> <end> <end> <end> <end> <end>', 'cnn <end> <end> <end> <end> <end> <end> <end> <end> <end> <end>', 'yes <end> <end> <end> <end> <end> <end> <end> <end> <end> <end>', 'george <end> <end> <end> <end> <end> <end> <end> <end> <end> <end>', 'no <end> <end> <end> <end> <end> <end> <end> <end> <end> <end>', 'yes <end> <end> <end> <end> <end> <end> <end> <end> <end> <end>', 'clarence <end> <end> <end> <end> <end> <end> <end> <end> <end> <end>', 'no <end> <end> <end> <end> <end> <end> <end> <end> <end> <end>', 'yes <end> <end> <end> <end> <end> <end> <end> <end> <end> <end>', 'no <end> <end> <end> <end> <end> <end> <end> <end> <end> <end>', 'no <end> <end> <end> <end> <end> <end> <end> <end> <end> <end>', 'he he something one for for a a <end> <end> <end>', 'yes <end> <end> <end> <end> <end> <end> <end> <end> <end> <end>', 'financial <end> <end> <end> <end> <end> <end> <end> <end> <end> <end>', 'yes <end> <end> <end> <end> <end> <end> <end> <end> <end> <end>', 'alexander pop <end> <end> <end> <end> <end> <end> <end> <end> <end>', 'tuesday <end> <end> <end> <end> <end> <end> <end> <end> <end> <end>', 'captain putnam <end> <end> <end> <end> <end> <end> <end> <end> <end>', 'run away <end> <end> <end> <end> <end> <end> <end> <end> <end>', 'yes. <end> <end> <end> <end> <end> <end> <end> <end> <end> <end>', 'no. <end> <end> <end> <end> <end> <end> <end> <end> <end> <end>', 'captain putnam <end> <end> <end> <end> <end> <end> <end> <end> <end>', \"his father's <end> <end> <end> <end> <end> <end> <end> <end> <end>\", 'tom and sam. <end> <end> <end> <end> <end> <end> <end> <end>', '\"glad you you you you you you you you you <end>', 'his <end> <end> <end> <end> <end> <end> <end> <end> <end> <end>']\n",
            "Loss - 0.0008959099068306386\n",
            "Translated - ['tunisia <end> <end> <end> <end> <end> <end> <end> <end> <end> <end> <end> <end>', 'representatives are being chosen <end> <end> <end> <end> <end> <end> <end> <end> <end>', 'sunday <end> <end> <end> <end> <end> <end> <end> <end> <end> <end> <end> <end>', '1956 <end> <end> <end> <end> <end> <end> <end> <end> <end> <end> <end> <end>', 'country gained its independence <end> <end> <end> <end> <end> <end> <end> <end> <end>', 'menzah neighborhood <end> <end> <end> <end> <end> <end> <end> <end> <end> <end> <end>', 'schools <end> <end> <end> <end> <end> <end> <end> <end> <end> <end> <end> <end>', 'yes <end> <end> <end> <end> <end> <end> <end> <end> <end> <end> <end> <end>', 'cnn <end> <end> <end> <end> <end> <end> <end> <end> <end> <end> <end> <end>', 'yes <end> <end> <end> <end> <end> <end> <end> <end> <end> <end> <end> <end>', 'george <end> <end> <end> <end> <end> <end> <end> <end> <end> <end> <end> <end>', 'no <end> <end> <end> <end> <end> <end> <end> <end> <end> <end> <end> <end>', 'yes <end> <end> <end> <end> <end> <end> <end> <end> <end> <end> <end> <end>', 'clarence <end> <end> <end> <end> <end> <end> <end> <end> <end> <end> <end> <end>', 'no <end> <end> <end> <end> <end> <end> <end> <end> <end> <end> <end> <end>', 'yes <end> <end> <end> <end> <end> <end> <end> <end> <end> <end> <end> <end>', 'no <end> <end> <end> <end> <end> <end> <end> <end> <end> <end> <end> <end>', 'no <end> <end> <end> <end> <end> <end> <end> <end> <end> <end> <end> <end>', 'he he something one for a a <end> <end> <end> <end> <end> <end>', 'yes <end> <end> <end> <end> <end> <end> <end> <end> <end> <end> <end> <end>', 'financial <end> <end> <end> <end> <end> <end> <end> <end> <end> <end> <end> <end>', 'yes <end> <end> <end> <end> <end> <end> <end> <end> <end> <end> <end> <end>', 'alexander pop <end> <end> <end> <end> <end> <end> <end> <end> <end> <end> <end>', 'tuesday <end> <end> <end> <end> <end> <end> <end> <end> <end> <end> <end> <end>', 'captain putnam <end> <end> <end> <end> <end> <end> <end> <end> <end> <end> <end>', 'run away <end> <end> <end> <end> <end> <end> <end> <end> <end> <end> <end>', 'yes. <end> <end> <end> <end> <end> <end> <end> <end> <end> <end> <end> <end>', 'no. <end> <end> <end> <end> <end> <end> <end> <end> <end> <end> <end> <end>', 'captain putnam <end> <end> <end> <end> <end> <end> <end> <end> <end> <end> <end>', \"his father's <end> <end> <end> <end> <end> <end> <end> <end> <end> <end> <end>\", 'tom and sam. <end> <end> <end> <end> <end> <end> <end> <end> <end> <end>', '\"glad you you you you you you you you you you you <end>', 'his <end> <end> <end> <end> <end> <end> <end> <end> <end> <end> <end> <end>']\n",
            "Loss - 0.008321207948029041\n"
          ]
        },
        {
          "output_type": "stream",
          "name": "stderr",
          "text": [
            "\r 77%|███████▋  | 77/100 [04:47<01:19,  3.44s/it]"
          ]
        },
        {
          "output_type": "stream",
          "name": "stdout",
          "text": [
            "Translated - ['tunisia <end> <end> <end> <end> <end> <end> <end> <end>', 'representatives are being chosen <end> <end> <end> <end> <end>', 'sunday <end> <end> <end> <end> <end> <end> <end> <end>', '1956 <end> <end> <end> <end> <end> <end> <end> <end>', 'country gained its independence <end> <end> <end> <end> <end>', 'menzah neighborhood <end> <end> <end> <end> <end> <end> <end>', 'schools <end> <end> <end> <end> <end> <end> <end> <end>', 'yes <end> <end> <end> <end> <end> <end> <end> <end>', 'cnn <end> <end> <end> <end> <end> <end> <end> <end>', 'yes <end> <end> <end> <end> <end> <end> <end> <end>', 'george <end> <end> <end> <end> <end> <end> <end> <end>', 'no <end> <end> <end> <end> <end> <end> <end> <end>', 'yes <end> <end> <end> <end> <end> <end> <end> <end>', 'clarence <end> <end> <end> <end> <end> <end> <end> <end>', 'no <end> <end> <end> <end> <end> <end> <end> <end>', 'yes <end> <end> <end> <end> <end> <end> <end> <end>', 'no <end> <end> <end> <end> <end> <end> <end> <end>', 'no <end> <end> <end> <end> <end> <end> <end> <end>', 'he he something one looked for a a <end>', 'yes <end> <end> <end> <end> <end> <end> <end> <end>', 'financial <end> <end> <end> <end> <end> <end> <end> <end>', 'yes <end> <end> <end> <end> <end> <end> <end> <end>', 'alexander pop <end> <end> <end> <end> <end> <end> <end>', 'tuesday <end> <end> <end> <end> <end> <end> <end> <end>', 'captain putnam <end> <end> <end> <end> <end> <end> <end>', 'run away <end> <end> <end> <end> <end> <end> <end>', 'yes. <end> <end> <end> <end> <end> <end> <end> <end>', 'no. <end> <end> <end> <end> <end> <end> <end> <end>', 'captain putnam <end> <end> <end> <end> <end> <end> <end>', \"his father's <end> <end> <end> <end> <end> <end> <end>\", 'tom and sam. <end> <end> <end> <end> <end> <end>', '\"glad you you you you you you you <end>', 'his <end> <end> <end> <end> <end> <end> <end> <end>']\n",
            "Loss - 0.0008867770666256547\n",
            "Translated - ['tunisia <end> <end> <end> <end> <end> <end> <end> <end>', 'representatives are being chosen <end> <end> <end> <end> <end>', 'sunday <end> <end> <end> <end> <end> <end> <end> <end>', '1956 <end> <end> <end> <end> <end> <end> <end> <end>', 'country gained its independence <end> <end> <end> <end> <end>', 'menzah neighborhood <end> <end> <end> <end> <end> <end> <end>', 'schools <end> <end> <end> <end> <end> <end> <end> <end>', 'yes <end> <end> <end> <end> <end> <end> <end> <end>', 'cnn <end> <end> <end> <end> <end> <end> <end> <end>', 'yes <end> <end> <end> <end> <end> <end> <end> <end>', 'george <end> <end> <end> <end> <end> <end> <end> <end>', 'no <end> <end> <end> <end> <end> <end> <end> <end>', 'yes <end> <end> <end> <end> <end> <end> <end> <end>', 'clarence <end> <end> <end> <end> <end> <end> <end> <end>', 'no <end> <end> <end> <end> <end> <end> <end> <end>', 'yes <end> <end> <end> <end> <end> <end> <end> <end>', 'no <end> <end> <end> <end> <end> <end> <end> <end>', 'no <end> <end> <end> <end> <end> <end> <end> <end>', 'he lacked something one one looked for a <end>', 'yes <end> <end> <end> <end> <end> <end> <end> <end>', 'financial <end> <end> <end> <end> <end> <end> <end> <end>', 'yes <end> <end> <end> <end> <end> <end> <end> <end>', 'alexander <end> <end> <end> <end> <end> <end> <end> <end>', 'tuesday <end> <end> <end> <end> <end> <end> <end> <end>', 'captain putnam <end> <end> <end> <end> <end> <end> <end>', 'run away <end> <end> <end> <end> <end> <end> <end>', 'yes. <end> <end> <end> <end> <end> <end> <end> <end>', 'no. <end> <end> <end> <end> <end> <end> <end> <end>', 'captain putnam <end> <end> <end> <end> <end> <end> <end>', \"his father's <end> <end> <end> <end> <end> <end> <end>\", 'tom and sam. <end> <end> <end> <end> <end> <end>', 'aleck.\" you you you you you <end> <end> <end>', 'his <end> <end> <end> <end> <end> <end> <end> <end>']\n",
            "Loss - 0.008705757558345795\n"
          ]
        },
        {
          "output_type": "stream",
          "name": "stderr",
          "text": [
            "\r 78%|███████▊  | 78/100 [04:50<01:15,  3.43s/it]"
          ]
        },
        {
          "output_type": "stream",
          "name": "stdout",
          "text": [
            "Translated - ['tunisia <end> <end> <end> <end> <end> <end> <end> <end>', 'representatives are being chosen <end> <end> <end> <end> <end>', 'sunday <end> <end> <end> <end> <end> <end> <end> <end>', '1956 <end> <end> <end> <end> <end> <end> <end> <end>', 'country gained its independence <end> <end> <end> <end> <end>', 'menzah neighborhood <end> <end> <end> <end> <end> <end> <end>', 'schools <end> <end> <end> <end> <end> <end> <end> <end>', 'yes <end> <end> <end> <end> <end> <end> <end> <end>', 'cnn <end> <end> <end> <end> <end> <end> <end> <end>', 'yes <end> <end> <end> <end> <end> <end> <end> <end>', 'george <end> <end> <end> <end> <end> <end> <end> <end>', 'no <end> <end> <end> <end> <end> <end> <end> <end>', 'yes <end> <end> <end> <end> <end> <end> <end> <end>', 'clarence <end> <end> <end> <end> <end> <end> <end> <end>', 'no <end> <end> <end> <end> <end> <end> <end> <end>', 'yes <end> <end> <end> <end> <end> <end> <end> <end>', 'no <end> <end> <end> <end> <end> <end> <end> <end>', 'no <end> <end> <end> <end> <end> <end> <end> <end>', 'he lacked something one looked looked for <end> <end>', 'yes <end> <end> <end> <end> <end> <end> <end> <end>', 'financial <end> <end> <end> <end> <end> <end> <end> <end>', 'yes <end> <end> <end> <end> <end> <end> <end> <end>', 'alexander pop <end> <end> <end> <end> <end> <end> <end>', 'tuesday <end> <end> <end> <end> <end> <end> <end> <end>', 'captain putnam <end> <end> <end> <end> <end> <end> <end>', 'run away <end> <end> <end> <end> <end> <end> <end>', 'yes. <end> <end> <end> <end> <end> <end> <end> <end>', 'no. <end> <end> <end> <end> <end> <end> <end> <end>', 'captain putnam <end> <end> <end> <end> <end> <end> <end>', \"his father's <end> <end> <end> <end> <end> <end> <end>\", 'tom and sam. <end> <end> <end> <end> <end> <end>', 'aleck.\" aleck.\" you you you you you you <end>', 'his <end> <end> <end> <end> <end> <end> <end> <end>']\n",
            "Loss - 0.000847864372190088\n",
            "Translated - ['tunisia <end> <end> <end> <end> <end> <end> <end> <end> <end> <end> <end>', 'representatives are being chosen <end> <end> <end> <end> <end> <end> <end> <end>', 'sunday <end> <end> <end> <end> <end> <end> <end> <end> <end> <end> <end>', '1956 <end> <end> <end> <end> <end> <end> <end> <end> <end> <end> <end>', 'country gained its independence <end> <end> <end> <end> <end> <end> <end> <end>', 'menzah neighborhood <end> <end> <end> <end> <end> <end> <end> <end> <end> <end>', 'schools <end> <end> <end> <end> <end> <end> <end> <end> <end> <end> <end>', 'yes <end> <end> <end> <end> <end> <end> <end> <end> <end> <end> <end>', 'cnn <end> <end> <end> <end> <end> <end> <end> <end> <end> <end> <end>', 'yes <end> <end> <end> <end> <end> <end> <end> <end> <end> <end> <end>', 'george <end> <end> <end> <end> <end> <end> <end> <end> <end> <end> <end>', 'no <end> <end> <end> <end> <end> <end> <end> <end> <end> <end> <end>', 'yes <end> <end> <end> <end> <end> <end> <end> <end> <end> <end> <end>', 'clarence <end> <end> <end> <end> <end> <end> <end> <end> <end> <end> <end>', 'no <end> <end> <end> <end> <end> <end> <end> <end> <end> <end> <end>', 'yes <end> <end> <end> <end> <end> <end> <end> <end> <end> <end> <end>', 'no <end> <end> <end> <end> <end> <end> <end> <end> <end> <end> <end>', 'no <end> <end> <end> <end> <end> <end> <end> <end> <end> <end> <end>', 'he lacked something one looked for a <end> <end> <end> <end> <end>', 'yes <end> <end> <end> <end> <end> <end> <end> <end> <end> <end> <end>', 'financial <end> <end> <end> <end> <end> <end> <end> <end> <end> <end> <end>', 'yes <end> <end> <end> <end> <end> <end> <end> <end> <end> <end> <end>', 'alexander alexander pop <end> <end> <end> <end> <end> <end> <end> <end> <end>', 'tuesday <end> <end> <end> <end> <end> <end> <end> <end> <end> <end> <end>', 'captain putnam <end> <end> <end> <end> <end> <end> <end> <end> <end> <end>', 'run away <end> <end> <end> <end> <end> <end> <end> <end> <end> <end>', 'yes. <end> <end> <end> <end> <end> <end> <end> <end> <end> <end> <end>', 'no. <end> <end> <end> <end> <end> <end> <end> <end> <end> <end> <end>', 'captain putnam <end> <end> <end> <end> <end> <end> <end> <end> <end> <end>', \"his father's <end> <end> <end> <end> <end> <end> <end> <end> <end> <end>\", 'tom and sam. <end> <end> <end> <end> <end> <end> <end> <end> <end>', 'aleck.\" aleck.\" aleck.\" aleck.\" aleck.\" aleck.\" you you you you you <end>', 'his his <end> <end> <end> <end> <end> <end> <end> <end> <end> <end>']\n",
            "Loss - 0.00863718707114458\n"
          ]
        },
        {
          "output_type": "stream",
          "name": "stderr",
          "text": [
            "\r 79%|███████▉  | 79/100 [04:54<01:11,  3.42s/it]"
          ]
        },
        {
          "output_type": "stream",
          "name": "stdout",
          "text": [
            "Translated - ['tunisia <end> <end> <end> <end> <end> <end> <end> <end> <end> <end> <end> <end> <end> <end> <end>', 'representatives are being chosen <end> <end> <end> <end> <end> <end> <end> <end> <end> <end> <end> <end>', 'sunday <end> <end> <end> <end> <end> <end> <end> <end> <end> <end> <end> <end> <end> <end> <end>', '1956 <end> <end> <end> <end> <end> <end> <end> <end> <end> <end> <end> <end> <end> <end> <end>', 'country gained its independence <end> <end> <end> <end> <end> <end> <end> <end> <end> <end> <end> <end>', 'menzah neighborhood <end> <end> <end> <end> <end> <end> <end> <end> <end> <end> <end> <end> <end> <end>', 'schools <end> <end> <end> <end> <end> <end> <end> <end> <end> <end> <end> <end> <end> <end> <end>', 'yes <end> <end> <end> <end> <end> <end> <end> <end> <end> <end> <end> <end> <end> <end> <end>', 'cnn <end> <end> <end> <end> <end> <end> <end> <end> <end> <end> <end> <end> <end> <end> <end>', 'yes <end> <end> <end> <end> <end> <end> <end> <end> <end> <end> <end> <end> <end> <end> <end>', 'george <end> <end> <end> <end> <end> <end> <end> <end> <end> <end> <end> <end> <end> <end> <end>', 'no <end> <end> <end> <end> <end> <end> <end> <end> <end> <end> <end> <end> <end> <end> <end>', 'yes <end> <end> <end> <end> <end> <end> <end> <end> <end> <end> <end> <end> <end> <end> <end>', 'clarence <end> <end> <end> <end> <end> <end> <end> <end> <end> <end> <end> <end> <end> <end> <end>', 'no <end> <end> <end> <end> <end> <end> <end> <end> <end> <end> <end> <end> <end> <end> <end>', 'yes <end> <end> <end> <end> <end> <end> <end> <end> <end> <end> <end> <end> <end> <end> <end>', 'no <end> <end> <end> <end> <end> <end> <end> <end> <end> <end> <end> <end> <end> <end> <end>', 'no <end> <end> <end> <end> <end> <end> <end> <end> <end> <end> <end> <end> <end> <end> <end>', 'he lacked something one looked looked for a <end> <end> <end> <end> <end> <end> <end> <end>', 'yes <end> <end> <end> <end> <end> <end> <end> <end> <end> <end> <end> <end> <end> <end> <end>', 'financial <end> <end> <end> <end> <end> <end> <end> <end> <end> <end> <end> <end> <end> <end> <end>', 'yes <end> <end> <end> <end> <end> <end> <end> <end> <end> <end> <end> <end> <end> <end> <end>', 'alexander pop <end> <end> <end> <end> <end> <end> <end> <end> <end> <end> <end> <end> <end> <end>', 'tuesday <end> <end> <end> <end> <end> <end> <end> <end> <end> <end> <end> <end> <end> <end> <end>', 'captain putnam <end> <end> <end> <end> <end> <end> <end> <end> <end> <end> <end> <end> <end> <end>', 'run away <end> <end> <end> <end> <end> <end> <end> <end> <end> <end> <end> <end> <end> <end>', 'yes. <end> <end> <end> <end> <end> <end> <end> <end> <end> <end> <end> <end> <end> <end> <end>', 'no. <end> <end> <end> <end> <end> <end> <end> <end> <end> <end> <end> <end> <end> <end> <end>', 'captain putnam <end> <end> <end> <end> <end> <end> <end> <end> <end> <end> <end> <end> <end> <end>', \"his father's <end> <end> <end> <end> <end> <end> <end> <end> <end> <end> <end> <end> <end> <end>\", 'tom and sam. <end> <end> <end> <end> <end> <end> <end> <end> <end> <end> <end> <end> <end>', '\"glad you you you you you you you you you you you you you you you', 'his <end> <end> <end> <end> <end> <end> <end> <end> <end> <end> <end> <end> <end> <end> <end>']\n",
            "Loss - 0.0008281219052150846\n",
            "Translated - ['tunisia <end> <end> <end> <end> <end> <end> <end> <end> <end> <end> <end> <end> <end> <end> <end>', 'representatives are being chosen <end> <end> <end> <end> <end> <end> <end> <end> <end> <end> <end> <end>', 'sunday <end> <end> <end> <end> <end> <end> <end> <end> <end> <end> <end> <end> <end> <end> <end>', '1956 <end> <end> <end> <end> <end> <end> <end> <end> <end> <end> <end> <end> <end> <end> <end>', 'country gained its independence <end> <end> <end> <end> <end> <end> <end> <end> <end> <end> <end> <end>', 'menzah neighborhood <end> <end> <end> <end> <end> <end> <end> <end> <end> <end> <end> <end> <end> <end>', 'schools <end> <end> <end> <end> <end> <end> <end> <end> <end> <end> <end> <end> <end> <end> <end>', 'yes <end> <end> <end> <end> <end> <end> <end> <end> <end> <end> <end> <end> <end> <end> <end>', 'cnn <end> <end> <end> <end> <end> <end> <end> <end> <end> <end> <end> <end> <end> <end> <end>', 'yes <end> <end> <end> <end> <end> <end> <end> <end> <end> <end> <end> <end> <end> <end> <end>', 'george <end> <end> <end> <end> <end> <end> <end> <end> <end> <end> <end> <end> <end> <end> <end>', 'no <end> <end> <end> <end> <end> <end> <end> <end> <end> <end> <end> <end> <end> <end> <end>', 'yes <end> <end> <end> <end> <end> <end> <end> <end> <end> <end> <end> <end> <end> <end> <end>', 'clarence <end> <end> <end> <end> <end> <end> <end> <end> <end> <end> <end> <end> <end> <end> <end>', 'no <end> <end> <end> <end> <end> <end> <end> <end> <end> <end> <end> <end> <end> <end> <end>', 'yes <end> <end> <end> <end> <end> <end> <end> <end> <end> <end> <end> <end> <end> <end> <end>', 'no <end> <end> <end> <end> <end> <end> <end> <end> <end> <end> <end> <end> <end> <end> <end>', 'no <end> <end> <end> <end> <end> <end> <end> <end> <end> <end> <end> <end> <end> <end> <end>', 'he lacked something one looked looked looked for a a <end> <end> <end> <end> <end> <end>', 'yes <end> <end> <end> <end> <end> <end> <end> <end> <end> <end> <end> <end> <end> <end> <end>', 'financial <end> <end> <end> <end> <end> <end> <end> <end> <end> <end> <end> <end> <end> <end> <end>', 'yes <end> <end> <end> <end> <end> <end> <end> <end> <end> <end> <end> <end> <end> <end> <end>', 'alexander pop <end> <end> <end> <end> <end> <end> <end> <end> <end> <end> <end> <end> <end> <end>', 'tuesday <end> <end> <end> <end> <end> <end> <end> <end> <end> <end> <end> <end> <end> <end> <end>', 'captain putnam <end> <end> <end> <end> <end> <end> <end> <end> <end> <end> <end> <end> <end> <end>', 'run away <end> <end> <end> <end> <end> <end> <end> <end> <end> <end> <end> <end> <end> <end>', 'yes. <end> <end> <end> <end> <end> <end> <end> <end> <end> <end> <end> <end> <end> <end> <end>', 'no. <end> <end> <end> <end> <end> <end> <end> <end> <end> <end> <end> <end> <end> <end> <end>', 'captain putnam <end> <end> <end> <end> <end> <end> <end> <end> <end> <end> <end> <end> <end> <end>', \"his father's <end> <end> <end> <end> <end> <end> <end> <end> <end> <end> <end> <end> <end> <end>\", 'tom and sam. <end> <end> <end> <end> <end> <end> <end> <end> <end> <end> <end> <end> <end>', '\"glad you you you you you you you you you you you you you you you', 'his <end> <end> <end> <end> <end> <end> <end> <end> <end> <end> <end> <end> <end> <end> <end>']\n",
            "Loss - 0.008326398208737373\n"
          ]
        },
        {
          "output_type": "stream",
          "name": "stderr",
          "text": [
            "\r 80%|████████  | 80/100 [04:57<01:08,  3.44s/it]"
          ]
        },
        {
          "output_type": "stream",
          "name": "stdout",
          "text": [
            "Translated - ['tunisia <end> <end> <end> <end> <end> <end> <end> <end> <end> <end> <end> <end> <end> <end> <end>', 'representatives are being chosen <end> <end> <end> <end> <end> <end> <end> <end> <end> <end> <end> <end>', 'sunday <end> <end> <end> <end> <end> <end> <end> <end> <end> <end> <end> <end> <end> <end> <end>', '1956 <end> <end> <end> <end> <end> <end> <end> <end> <end> <end> <end> <end> <end> <end> <end>', 'country gained its independence <end> <end> <end> <end> <end> <end> <end> <end> <end> <end> <end> <end>', 'menzah neighborhood <end> <end> <end> <end> <end> <end> <end> <end> <end> <end> <end> <end> <end> <end>', 'schools <end> <end> <end> <end> <end> <end> <end> <end> <end> <end> <end> <end> <end> <end> <end>', 'yes <end> <end> <end> <end> <end> <end> <end> <end> <end> <end> <end> <end> <end> <end> <end>', 'cnn <end> <end> <end> <end> <end> <end> <end> <end> <end> <end> <end> <end> <end> <end> <end>', 'yes <end> <end> <end> <end> <end> <end> <end> <end> <end> <end> <end> <end> <end> <end> <end>', 'george <end> <end> <end> <end> <end> <end> <end> <end> <end> <end> <end> <end> <end> <end> <end>', 'no <end> <end> <end> <end> <end> <end> <end> <end> <end> <end> <end> <end> <end> <end> <end>', 'yes <end> <end> <end> <end> <end> <end> <end> <end> <end> <end> <end> <end> <end> <end> <end>', 'clarence <end> <end> <end> <end> <end> <end> <end> <end> <end> <end> <end> <end> <end> <end> <end>', 'no <end> <end> <end> <end> <end> <end> <end> <end> <end> <end> <end> <end> <end> <end> <end>', 'yes <end> <end> <end> <end> <end> <end> <end> <end> <end> <end> <end> <end> <end> <end> <end>', 'no <end> <end> <end> <end> <end> <end> <end> <end> <end> <end> <end> <end> <end> <end> <end>', 'no <end> <end> <end> <end> <end> <end> <end> <end> <end> <end> <end> <end> <end> <end> <end>', 'he lacked something one looked a a <end> <end> <end> <end> <end> <end> <end> <end> <end>', 'yes <end> <end> <end> <end> <end> <end> <end> <end> <end> <end> <end> <end> <end> <end> <end>', 'financial <end> <end> <end> <end> <end> <end> <end> <end> <end> <end> <end> <end> <end> <end> <end>', 'yes <end> <end> <end> <end> <end> <end> <end> <end> <end> <end> <end> <end> <end> <end> <end>', 'alexander pop <end> <end> <end> <end> <end> <end> <end> <end> <end> <end> <end> <end> <end> <end>', 'tuesday <end> <end> <end> <end> <end> <end> <end> <end> <end> <end> <end> <end> <end> <end> <end>', 'captain putnam <end> <end> <end> <end> <end> <end> <end> <end> <end> <end> <end> <end> <end> <end>', 'run away <end> <end> <end> <end> <end> <end> <end> <end> <end> <end> <end> <end> <end> <end>', 'yes. <end> <end> <end> <end> <end> <end> <end> <end> <end> <end> <end> <end> <end> <end> <end>', 'no. <end> <end> <end> <end> <end> <end> <end> <end> <end> <end> <end> <end> <end> <end> <end>', 'captain putnam <end> <end> <end> <end> <end> <end> <end> <end> <end> <end> <end> <end> <end> <end>', \"his father's <end> <end> <end> <end> <end> <end> <end> <end> <end> <end> <end> <end> <end> <end>\", 'tom and sam. <end> <end> <end> <end> <end> <end> <end> <end> <end> <end> <end> <end> <end>', '\"glad you you you you you you you you you you you you you you you', 'his <end> <end> <end> <end> <end> <end> <end> <end> <end> <end> <end> <end> <end> <end> <end>']\n",
            "Loss - 0.0008101265993900597\n",
            "Translated - ['tunisia <end> <end> <end> <end> <end> <end> <end> <end> <end> <end> <end> <end> <end> <end> <end>', 'representatives are being chosen <end> <end> <end> <end> <end> <end> <end> <end> <end> <end> <end> <end>', 'sunday <end> <end> <end> <end> <end> <end> <end> <end> <end> <end> <end> <end> <end> <end> <end>', '1956 <end> <end> <end> <end> <end> <end> <end> <end> <end> <end> <end> <end> <end> <end> <end>', 'country gained its independence <end> <end> <end> <end> <end> <end> <end> <end> <end> <end> <end> <end>', 'menzah neighborhood <end> <end> <end> <end> <end> <end> <end> <end> <end> <end> <end> <end> <end> <end>', 'schools <end> <end> <end> <end> <end> <end> <end> <end> <end> <end> <end> <end> <end> <end> <end>', 'yes <end> <end> <end> <end> <end> <end> <end> <end> <end> <end> <end> <end> <end> <end> <end>', 'cnn <end> <end> <end> <end> <end> <end> <end> <end> <end> <end> <end> <end> <end> <end> <end>', 'yes <end> <end> <end> <end> <end> <end> <end> <end> <end> <end> <end> <end> <end> <end> <end>', 'george <end> <end> <end> <end> <end> <end> <end> <end> <end> <end> <end> <end> <end> <end> <end>', 'no <end> <end> <end> <end> <end> <end> <end> <end> <end> <end> <end> <end> <end> <end> <end>', 'yes <end> <end> <end> <end> <end> <end> <end> <end> <end> <end> <end> <end> <end> <end> <end>', 'clarence <end> <end> <end> <end> <end> <end> <end> <end> <end> <end> <end> <end> <end> <end> <end>', 'no <end> <end> <end> <end> <end> <end> <end> <end> <end> <end> <end> <end> <end> <end> <end>', 'yes <end> <end> <end> <end> <end> <end> <end> <end> <end> <end> <end> <end> <end> <end> <end>', 'no <end> <end> <end> <end> <end> <end> <end> <end> <end> <end> <end> <end> <end> <end> <end>', 'no <end> <end> <end> <end> <end> <end> <end> <end> <end> <end> <end> <end> <end> <end> <end>', 'he lacked something for a a <end> <end> <end> <end> <end> <end> <end> <end> <end> <end>', 'yes <end> <end> <end> <end> <end> <end> <end> <end> <end> <end> <end> <end> <end> <end> <end>', 'financial <end> <end> <end> <end> <end> <end> <end> <end> <end> <end> <end> <end> <end> <end> <end>', 'yes <end> <end> <end> <end> <end> <end> <end> <end> <end> <end> <end> <end> <end> <end> <end>', 'alexander <end> <end> <end> <end> <end> <end> <end> <end> <end> <end> <end> <end> <end> <end> <end>', 'tuesday <end> <end> <end> <end> <end> <end> <end> <end> <end> <end> <end> <end> <end> <end> <end>', 'captain putnam <end> <end> <end> <end> <end> <end> <end> <end> <end> <end> <end> <end> <end> <end>', 'run away <end> <end> <end> <end> <end> <end> <end> <end> <end> <end> <end> <end> <end> <end>', 'yes. <end> <end> <end> <end> <end> <end> <end> <end> <end> <end> <end> <end> <end> <end> <end>', 'no. <end> <end> <end> <end> <end> <end> <end> <end> <end> <end> <end> <end> <end> <end> <end>', 'captain putnam <end> <end> <end> <end> <end> <end> <end> <end> <end> <end> <end> <end> <end> <end>', \"his father's <end> <end> <end> <end> <end> <end> <end> <end> <end> <end> <end> <end> <end> <end>\", 'tom and <end> <end> <end> <end> <end> <end> <end> <end> <end> <end> <end> <end> <end> <end>', '\"glad you you you you you you you you you you you you you you you', 'his <end> <end> <end> <end> <end> <end> <end> <end> <end> <end> <end> <end> <end> <end> <end>']\n",
            "Loss - 0.008923433721065521\n"
          ]
        },
        {
          "output_type": "stream",
          "name": "stderr",
          "text": [
            "\r 81%|████████  | 81/100 [05:01<01:05,  3.46s/it]"
          ]
        },
        {
          "output_type": "stream",
          "name": "stdout",
          "text": [
            "Translated - ['tunisia <end> <end> <end> <end> <end> <end> <end> <end> <end> <end> <end> <end> <end> <end> <end>', 'representatives are being chosen <end> <end> <end> <end> <end> <end> <end> <end> <end> <end> <end> <end>', 'sunday <end> <end> <end> <end> <end> <end> <end> <end> <end> <end> <end> <end> <end> <end> <end>', '1956 <end> <end> <end> <end> <end> <end> <end> <end> <end> <end> <end> <end> <end> <end> <end>', 'country gained gained its independence <end> <end> <end> <end> <end> <end> <end> <end> <end> <end> <end>', 'menzah neighborhood <end> <end> <end> <end> <end> <end> <end> <end> <end> <end> <end> <end> <end> <end>', 'schools <end> <end> <end> <end> <end> <end> <end> <end> <end> <end> <end> <end> <end> <end> <end>', 'yes <end> <end> <end> <end> <end> <end> <end> <end> <end> <end> <end> <end> <end> <end> <end>', 'cnn <end> <end> <end> <end> <end> <end> <end> <end> <end> <end> <end> <end> <end> <end> <end>', 'yes <end> <end> <end> <end> <end> <end> <end> <end> <end> <end> <end> <end> <end> <end> <end>', 'george <end> <end> <end> <end> <end> <end> <end> <end> <end> <end> <end> <end> <end> <end> <end>', 'no <end> <end> <end> <end> <end> <end> <end> <end> <end> <end> <end> <end> <end> <end> <end>', 'yes <end> <end> <end> <end> <end> <end> <end> <end> <end> <end> <end> <end> <end> <end> <end>', 'clarence <end> <end> <end> <end> <end> <end> <end> <end> <end> <end> <end> <end> <end> <end> <end>', 'no <end> <end> <end> <end> <end> <end> <end> <end> <end> <end> <end> <end> <end> <end> <end>', 'yes <end> <end> <end> <end> <end> <end> <end> <end> <end> <end> <end> <end> <end> <end> <end>', 'no <end> <end> <end> <end> <end> <end> <end> <end> <end> <end> <end> <end> <end> <end> <end>', 'no <end> <end> <end> <end> <end> <end> <end> <end> <end> <end> <end> <end> <end> <end> <end>', 'he lacked something one looked for a a a a a a a a a a', 'yes <end> <end> <end> <end> <end> <end> <end> <end> <end> <end> <end> <end> <end> <end> <end>', 'financial <end> <end> <end> <end> <end> <end> <end> <end> <end> <end> <end> <end> <end> <end> <end>', 'yes <end> <end> <end> <end> <end> <end> <end> <end> <end> <end> <end> <end> <end> <end> <end>', 'alexander pop <end> <end> <end> <end> <end> <end> <end> <end> <end> <end> <end> <end> <end> <end>', 'tuesday <end> <end> <end> <end> <end> <end> <end> <end> <end> <end> <end> <end> <end> <end> <end>', 'captain putnam <end> <end> <end> <end> <end> <end> <end> <end> <end> <end> <end> <end> <end> <end>', 'run away <end> <end> <end> <end> <end> <end> <end> <end> <end> <end> <end> <end> <end> <end>', 'yes. <end> <end> <end> <end> <end> <end> <end> <end> <end> <end> <end> <end> <end> <end> <end>', 'no. <end> <end> <end> <end> <end> <end> <end> <end> <end> <end> <end> <end> <end> <end> <end>', 'captain putnam <end> <end> <end> <end> <end> <end> <end> <end> <end> <end> <end> <end> <end> <end>', \"his father's <end> <end> <end> <end> <end> <end> <end> <end> <end> <end> <end> <end> <end> <end>\", 'tom and sam. <end> <end> <end> <end> <end> <end> <end> <end> <end> <end> <end> <end> <end>', '\"glad you you you you you you you you you you you you you you you', 'his <end> <end> <end> <end> <end> <end> <end> <end> <end> <end> <end> <end> <end> <end> <end>']\n",
            "Loss - 0.0010711599607020617\n",
            "Translated - ['tunisia <end> <end> <end> <end> <end> <end> <end> <end> <end> <end> <end> <end> <end> <end> <end>', 'representatives are being chosen <end> <end> <end> <end> <end> <end> <end> <end> <end> <end> <end> <end>', 'sunday <end> <end> <end> <end> <end> <end> <end> <end> <end> <end> <end> <end> <end> <end> <end>', '1956 <end> <end> <end> <end> <end> <end> <end> <end> <end> <end> <end> <end> <end> <end> <end>', 'country gained its independence <end> <end> <end> <end> <end> <end> <end> <end> <end> <end> <end> <end>', 'menzah neighborhood <end> <end> <end> <end> <end> <end> <end> <end> <end> <end> <end> <end> <end> <end>', 'schools <end> <end> <end> <end> <end> <end> <end> <end> <end> <end> <end> <end> <end> <end> <end>', 'yes <end> <end> <end> <end> <end> <end> <end> <end> <end> <end> <end> <end> <end> <end> <end>', 'cnn <end> <end> <end> <end> <end> <end> <end> <end> <end> <end> <end> <end> <end> <end> <end>', 'yes <end> <end> <end> <end> <end> <end> <end> <end> <end> <end> <end> <end> <end> <end> <end>', 'george <end> <end> <end> <end> <end> <end> <end> <end> <end> <end> <end> <end> <end> <end> <end>', 'no <end> <end> <end> <end> <end> <end> <end> <end> <end> <end> <end> <end> <end> <end> <end>', 'yes <end> <end> <end> <end> <end> <end> <end> <end> <end> <end> <end> <end> <end> <end> <end>', 'clarence <end> <end> <end> <end> <end> <end> <end> <end> <end> <end> <end> <end> <end> <end> <end>', 'no <end> <end> <end> <end> <end> <end> <end> <end> <end> <end> <end> <end> <end> <end> <end>', 'yes <end> <end> <end> <end> <end> <end> <end> <end> <end> <end> <end> <end> <end> <end> <end>', 'no <end> <end> <end> <end> <end> <end> <end> <end> <end> <end> <end> <end> <end> <end> <end>', 'no <end> <end> <end> <end> <end> <end> <end> <end> <end> <end> <end> <end> <end> <end> <end>', 'he lacked something one looked looked for for for a for a a a a a', 'yes <end> <end> <end> <end> <end> <end> <end> <end> <end> <end> <end> <end> <end> <end> <end>', 'financial <end> <end> <end> <end> <end> <end> <end> <end> <end> <end> <end> <end> <end> <end> <end>', 'yes <end> <end> <end> <end> <end> <end> <end> <end> <end> <end> <end> <end> <end> <end> <end>', 'alexander pop <end> <end> <end> <end> <end> <end> <end> <end> <end> <end> <end> <end> <end> <end>', 'tuesday <end> <end> <end> <end> <end> <end> <end> <end> <end> <end> <end> <end> <end> <end> <end>', 'captain putnam <end> <end> <end> <end> <end> <end> <end> <end> <end> <end> <end> <end> <end> <end>', 'run away away <end> <end> <end> <end> <end> <end> <end> <end> <end> <end> <end> <end> <end>', 'yes. <end> <end> <end> <end> <end> <end> <end> <end> <end> <end> <end> <end> <end> <end> <end>', 'no. <end> <end> <end> <end> <end> <end> <end> <end> <end> <end> <end> <end> <end> <end> <end>', 'captain putnam <end> <end> <end> <end> <end> <end> <end> <end> <end> <end> <end> <end> <end> <end>', \"his father's <end> <end> <end> <end> <end> <end> <end> <end> <end> <end> <end> <end> <end> <end>\", 'tom tom and <end> <end> <end> <end> <end> <end> <end> <end> <end> <end> <end> <end> <end>', '\"glad you you you you you you you you you you you you you you you', 'his his <end> <end> <end> <end> <end> <end> <end> <end> <end> <end> <end> <end> <end> <end>']\n",
            "Loss - 0.009081294760107994\n"
          ]
        },
        {
          "output_type": "stream",
          "name": "stderr",
          "text": [
            "\r 82%|████████▏ | 82/100 [05:04<01:02,  3.46s/it]"
          ]
        },
        {
          "output_type": "stream",
          "name": "stdout",
          "text": [
            "Translated - ['tunisia <end> <end> <end> <end> <end> <end> <end> <end> <end> <end> <end> <end> <end> <end> <end>', 'representatives being chosen <end> <end> <end> <end> <end> <end> <end> <end> <end> <end> <end> <end> <end>', 'sunday <end> <end> <end> <end> <end> <end> <end> <end> <end> <end> <end> <end> <end> <end> <end>', '1956 <end> <end> <end> <end> <end> <end> <end> <end> <end> <end> <end> <end> <end> <end> <end>', 'country its <end> <end> <end> <end> <end> <end> <end> <end> <end> <end> <end> <end> <end> <end>', 'menzah neighborhood <end> <end> <end> <end> <end> <end> <end> <end> <end> <end> <end> <end> <end> <end>', 'schools <end> <end> <end> <end> <end> <end> <end> <end> <end> <end> <end> <end> <end> <end> <end>', 'yes <end> <end> <end> <end> <end> <end> <end> <end> <end> <end> <end> <end> <end> <end> <end>', 'cnn <end> <end> <end> <end> <end> <end> <end> <end> <end> <end> <end> <end> <end> <end> <end>', 'yes <end> <end> <end> <end> <end> <end> <end> <end> <end> <end> <end> <end> <end> <end> <end>', 'george <end> <end> <end> <end> <end> <end> <end> <end> <end> <end> <end> <end> <end> <end> <end>', 'no <end> <end> <end> <end> <end> <end> <end> <end> <end> <end> <end> <end> <end> <end> <end>', 'yes <end> <end> <end> <end> <end> <end> <end> <end> <end> <end> <end> <end> <end> <end> <end>', 'clarence <end> <end> <end> <end> <end> <end> <end> <end> <end> <end> <end> <end> <end> <end> <end>', 'no <end> <end> <end> <end> <end> <end> <end> <end> <end> <end> <end> <end> <end> <end> <end>', 'yes <end> <end> <end> <end> <end> <end> <end> <end> <end> <end> <end> <end> <end> <end> <end>', 'no <end> <end> <end> <end> <end> <end> <end> <end> <end> <end> <end> <end> <end> <end> <end>', 'no <end> <end> <end> <end> <end> <end> <end> <end> <end> <end> <end> <end> <end> <end> <end>', 'he lacked something one looked for a a a a a a a a a a', 'yes <end> <end> <end> <end> <end> <end> <end> <end> <end> <end> <end> <end> <end> <end> <end>', 'financial <end> <end> <end> <end> <end> <end> <end> <end> <end> <end> <end> <end> <end> <end> <end>', 'yes <end> <end> <end> <end> <end> <end> <end> <end> <end> <end> <end> <end> <end> <end> <end>', 'alexander pop <end> <end> <end> <end> <end> <end> <end> <end> <end> <end> <end> <end> <end> <end>', 'tuesday <end> <end> <end> <end> <end> <end> <end> <end> <end> <end> <end> <end> <end> <end> <end>', 'captain putnam <end> <end> <end> <end> <end> <end> <end> <end> <end> <end> <end> <end> <end> <end>', 'run away <end> <end> <end> <end> <end> <end> <end> <end> <end> <end> <end> <end> <end> <end>', 'yes. <end> <end> <end> <end> <end> <end> <end> <end> <end> <end> <end> <end> <end> <end> <end>', 'no. <end> <end> <end> <end> <end> <end> <end> <end> <end> <end> <end> <end> <end> <end> <end>', 'captain putnam <end> <end> <end> <end> <end> <end> <end> <end> <end> <end> <end> <end> <end> <end>', \"his father's <end> <end> <end> <end> <end> <end> <end> <end> <end> <end> <end> <end> <end> <end>\", 'tom and sam. <end> <end> <end> <end> <end> <end> <end> <end> <end> <end> <end> <end> <end>', '\"glad you you you you you you you you you you you you you <end> you', 'his <end> <end> <end> <end> <end> <end> <end> <end> <end> <end> <end> <end> <end> <end> <end>']\n",
            "Loss - 0.0019409488886594772\n",
            "Translated - ['tunisia <end> <end> <end> <end> <end> <end> <end> <end> <end> <end> <end> <end> <end> <end> <end>', 'representatives are chosen chosen <end> <end> <end> <end> <end> <end> <end> <end> <end> <end> <end> <end>', 'sunday <end> <end> <end> <end> <end> <end> <end> <end> <end> <end> <end> <end> <end> <end> <end>', '1956 <end> <end> <end> <end> <end> <end> <end> <end> <end> <end> <end> <end> <end> <end> <end>', 'country gained independence <end> <end> <end> <end> <end> <end> <end> <end> <end> <end> <end> <end> <end>', 'menzah neighborhood <end> <end> <end> <end> <end> <end> <end> <end> <end> <end> <end> <end> <end> <end>', 'schools <end> <end> <end> <end> <end> <end> <end> <end> <end> <end> <end> <end> <end> <end> <end>', 'yes <end> <end> <end> <end> <end> <end> <end> <end> <end> <end> <end> <end> <end> <end> <end>', 'cnn <end> <end> <end> <end> <end> <end> <end> <end> <end> <end> <end> <end> <end> <end> <end>', 'yes <end> <end> <end> <end> <end> <end> <end> <end> <end> <end> <end> <end> <end> <end> <end>', 'george <end> <end> <end> <end> <end> <end> <end> <end> <end> <end> <end> <end> <end> <end> <end>', 'no <end> <end> <end> <end> <end> <end> <end> <end> <end> <end> <end> <end> <end> <end> <end>', 'yes <end> <end> <end> <end> <end> <end> <end> <end> <end> <end> <end> <end> <end> <end> <end>', 'clarence <end> <end> <end> <end> <end> <end> <end> <end> <end> <end> <end> <end> <end> <end> <end>', 'no <end> <end> <end> <end> <end> <end> <end> <end> <end> <end> <end> <end> <end> <end> <end>', 'yes <end> <end> <end> <end> <end> <end> <end> <end> <end> <end> <end> <end> <end> <end> <end>', 'no <end> <end> <end> <end> <end> <end> <end> <end> <end> <end> <end> <end> <end> <end> <end>', 'no <end> <end> <end> <end> <end> <end> <end> <end> <end> <end> <end> <end> <end> <end> <end>', 'he lacked one one looked for a a a a a a a a a a', 'yes <end> <end> <end> <end> <end> <end> <end> <end> <end> <end> <end> <end> <end> <end> <end>', 'financial <end> <end> <end> <end> <end> <end> <end> <end> <end> <end> <end> <end> <end> <end> <end>', 'yes <end> <end> <end> <end> <end> <end> <end> <end> <end> <end> <end> <end> <end> <end> <end>', 'alexander pop <end> <end> <end> <end> <end> <end> <end> <end> <end> <end> <end> <end> <end> <end>', 'tuesday <end> <end> <end> <end> <end> <end> <end> <end> <end> <end> <end> <end> <end> <end> <end>', 'captain putnam <end> <end> <end> <end> <end> <end> <end> <end> <end> <end> <end> <end> <end> <end>', 'run <end> <end> <end> <end> <end> <end> <end> <end> <end> <end> <end> <end> <end> <end> <end>', 'yes. <end> <end> <end> <end> <end> <end> <end> <end> <end> <end> <end> <end> <end> <end> <end>', 'no. <end> <end> <end> <end> <end> <end> <end> <end> <end> <end> <end> <end> <end> <end> <end>', 'captain putnam <end> <end> <end> <end> <end> <end> <end> <end> <end> <end> <end> <end> <end> <end>', \"his father's <end> <end> <end> <end> <end> <end> <end> <end> <end> <end> <end> <end> <end> <end>\", 'tom sam. <end> <end> <end> <end> <end> <end> <end> <end> <end> <end> <end> <end> <end> <end>', '\"glad you you you you you you you belonged belonged <end> <end> <end> <end> <end> <end>', 'his <end> <end> <end> <end> <end> <end> <end> <end> <end> <end> <end> <end> <end> <end> <end>']\n",
            "Loss - 0.008765448816120625\n"
          ]
        },
        {
          "output_type": "stream",
          "name": "stderr",
          "text": [
            "\r 83%|████████▎ | 83/100 [05:08<00:58,  3.45s/it]"
          ]
        },
        {
          "output_type": "stream",
          "name": "stdout",
          "text": [
            "Translated - ['tunisia <end> <end> <end> <end> <end> <end> <end> <end> <end> <end>', 'representatives are being chosen <end> <end> <end> <end> <end> <end> <end>', 'sunday <end> <end> <end> <end> <end> <end> <end> <end> <end> <end>', '1956 <end> <end> <end> <end> <end> <end> <end> <end> <end> <end>', 'country gained independence <end> <end> <end> <end> <end> <end> <end> <end>', 'menzah neighborhood <end> <end> <end> <end> <end> <end> <end> <end> <end>', 'schools <end> <end> <end> <end> <end> <end> <end> <end> <end> <end>', 'yes <end> <end> <end> <end> <end> <end> <end> <end> <end> <end>', 'cnn <end> <end> <end> <end> <end> <end> <end> <end> <end> <end>', 'yes <end> <end> <end> <end> <end> <end> <end> <end> <end> <end>', 'george <end> <end> <end> <end> <end> <end> <end> <end> <end> <end>', 'no <end> <end> <end> <end> <end> <end> <end> <end> <end> <end>', 'yes <end> <end> <end> <end> <end> <end> <end> <end> <end> <end>', 'clarence <end> <end> <end> <end> <end> <end> <end> <end> <end> <end>', 'no <end> <end> <end> <end> <end> <end> <end> <end> <end> <end>', 'yes <end> <end> <end> <end> <end> <end> <end> <end> <end> <end>', 'no <end> <end> <end> <end> <end> <end> <end> <end> <end> <end>', 'no <end> <end> <end> <end> <end> <end> <end> <end> <end> <end>', 'he lacked one one looked for a a lover <end> lover', 'yes <end> <end> <end> <end> <end> <end> <end> <end> <end> <end>', 'financial <end> <end> <end> <end> <end> <end> <end> <end> <end> <end>', 'yes <end> <end> <end> <end> <end> <end> <end> <end> <end> <end>', 'alexander pop <end> <end> <end> <end> <end> <end> <end> <end> <end>', 'tuesday <end> <end> <end> <end> <end> <end> <end> <end> <end> <end>', 'captain putnam <end> <end> <end> <end> <end> <end> <end> <end> <end>', 'run away <end> <end> <end> <end> <end> <end> <end> <end> <end>', 'yes. <end> <end> <end> <end> <end> <end> <end> <end> <end> <end>', 'no. <end> <end> <end> <end> <end> <end> <end> <end> <end> <end>', 'captain putnam <end> <end> <end> <end> <end> <end> <end> <end> <end>', \"his father's <end> <end> <end> <end> <end> <end> <end> <end> <end>\", 'tom sam. sam. <end> <end> <end> <end> <end> <end> <end> <end>', '\"glad you you you you you you belonged belonged belonged <end>', 'his <end> <end> <end> <end> <end> <end> <end> <end> <end> <end>']\n",
            "Loss - 0.0011811937438324094\n",
            "Translated - ['tunisia <end> <end> <end> <end> <end> <end> <end> <end> <end>', 'representatives are being chosen chosen <end> <end> <end> <end> <end>', 'sunday <end> <end> <end> <end> <end> <end> <end> <end> <end>', '1956 <end> <end> <end> <end> <end> <end> <end> <end> <end>', 'country gained its independence <end> <end> <end> <end> <end> <end>', 'menzah neighborhood <end> <end> <end> <end> <end> <end> <end> <end>', 'schools <end> <end> <end> <end> <end> <end> <end> <end> <end>', 'yes <end> <end> <end> <end> <end> <end> <end> <end> <end>', 'cnn <end> <end> <end> <end> <end> <end> <end> <end> <end>', 'yes <end> <end> <end> <end> <end> <end> <end> <end> <end>', 'george <end> <end> <end> <end> <end> <end> <end> <end> <end>', 'no <end> <end> <end> <end> <end> <end> <end> <end> <end>', 'yes <end> <end> <end> <end> <end> <end> <end> <end> <end>', 'clarence <end> <end> <end> <end> <end> <end> <end> <end> <end>', 'no <end> <end> <end> <end> <end> <end> <end> <end> <end>', 'yes <end> <end> <end> <end> <end> <end> <end> <end> <end>', 'no <end> <end> <end> <end> <end> <end> <end> <end> <end>', 'no <end> <end> <end> <end> <end> <end> <end> <end> <end>', 'he lacked something one looked looked a lover <end> lover', 'yes <end> <end> <end> <end> <end> <end> <end> <end> <end>', 'financial <end> <end> <end> <end> <end> <end> <end> <end> <end>', 'yes <end> <end> <end> <end> <end> <end> <end> <end> <end>', 'alexander pop <end> <end> <end> <end> <end> <end> <end> <end>', 'tuesday <end> <end> <end> <end> <end> <end> <end> <end> <end>', 'captain putnam <end> <end> <end> <end> <end> <end> <end> <end>', 'run away <end> <end> <end> <end> <end> <end> <end> <end>', 'yes. <end> <end> <end> <end> <end> <end> <end> <end> <end>', 'no. <end> <end> <end> <end> <end> <end> <end> <end> <end>', 'captain putnam <end> <end> <end> <end> <end> <end> <end> <end>', \"his father's <end> <end> <end> <end> <end> <end> <end> <end>\", 'tom sam. sam. <end> <end> <end> <end> <end> <end> <end>', '\"glad you you you you belonged belonged belonged belonged <end>', 'his <end> <end> <end> <end> <end> <end> <end> <end> <end>']\n",
            "Loss - 0.008256355300545692\n"
          ]
        },
        {
          "output_type": "stream",
          "name": "stderr",
          "text": [
            "\r 84%|████████▍ | 84/100 [05:11<00:55,  3.45s/it]"
          ]
        },
        {
          "output_type": "stream",
          "name": "stdout",
          "text": [
            "Translated - ['tunisia <end> <end> <end> <end> <end> <end> <end> <end> <end> <end>', 'representatives representatives are being chosen <end> <end> <end> <end> <end> <end>', 'sunday <end> <end> <end> <end> <end> <end> <end> <end> <end> <end>', '1956 <end> <end> <end> <end> <end> <end> <end> <end> <end> <end>', 'country gained its independence independence <end> <end> <end> <end> independence independence', 'menzah neighborhood neighborhood <end> <end> <end> <end> <end> <end> <end> <end>', 'schools <end> <end> <end> <end> <end> <end> <end> <end> <end> <end>', 'yes <end> <end> <end> <end> <end> <end> <end> <end> <end> <end>', 'cnn <end> <end> <end> <end> <end> <end> <end> <end> <end> <end>', 'yes <end> <end> <end> <end> <end> <end> <end> <end> <end> <end>', 'george <end> <end> <end> <end> <end> <end> <end> <end> <end> <end>', 'no <end> <end> <end> <end> <end> <end> <end> <end> <end> <end>', 'yes <end> <end> <end> <end> <end> <end> <end> <end> <end> <end>', 'clarence <end> <end> <end> <end> <end> <end> <end> <end> <end> <end>', 'no <end> <end> <end> <end> <end> <end> <end> <end> <end> <end>', 'yes <end> <end> <end> <end> <end> <end> <end> <end> <end> <end>', 'no <end> <end> <end> <end> <end> <end> <end> <end> <end> <end>', 'no <end> <end> <end> <end> <end> <end> <end> <end> <end> <end>', 'he lacked something one looked looked in lover <end> lover <end>', 'yes <end> <end> <end> <end> <end> <end> <end> <end> <end> <end>', 'financial <end> <end> <end> <end> <end> <end> <end> <end> <end> <end>', 'yes <end> <end> <end> <end> <end> <end> <end> <end> <end> <end>', 'alexander pop <end> <end> <end> <end> <end> <end> <end> <end> <end>', 'tuesday <end> <end> <end> <end> <end> <end> <end> <end> <end> <end>', 'captain putnam <end> <end> <end> <end> <end> <end> <end> <end> <end>', 'run away <end> <end> <end> <end> <end> <end> <end> <end> <end>', 'yes. <end> <end> <end> <end> <end> <end> <end> <end> <end> <end>', 'no. <end> <end> <end> <end> <end> <end> <end> <end> <end> <end>', 'captain putnam <end> <end> <end> <end> <end> <end> <end> <end> <end>', \"his father's <end> <end> <end> <end> <end> <end> <end> <end> <end>\", 'tom sam. sam. <end> <end> <end> <end> <end> <end> <end> <end>', '\"glad you you you you belonged belonged belonged belonged belonged <end>', 'his <end> <end> <end> <end> <end> <end> <end> <end> <end> <end>']\n",
            "Loss - 0.0014306344091892242\n",
            "Translated - ['tunisia <end> <end> <end> <end> <end> <end> <end> <end> <end> <end>', 'representatives are chosen <end> <end> <end> <end> <end> <end> <end> <end>', 'sunday <end> <end> <end> <end> <end> <end> <end> <end> <end> <end>', '1956 <end> <end> <end> <end> <end> <end> <end> <end> <end> <end>', 'country gained its independence <end> <end> <end> <end> <end> <end> <end>', 'menzah neighborhood <end> <end> <end> <end> <end> <end> <end> <end> <end>', 'schools <end> <end> <end> <end> <end> <end> <end> <end> <end> <end>', 'yes <end> <end> <end> <end> <end> <end> <end> <end> <end> <end>', 'cnn <end> <end> <end> <end> <end> <end> <end> <end> <end> <end>', 'yes <end> <end> <end> <end> <end> <end> <end> <end> <end> <end>', 'george <end> <end> <end> <end> <end> <end> <end> <end> <end> <end>', 'no <end> <end> <end> <end> <end> <end> <end> <end> <end> <end>', 'yes <end> <end> <end> <end> <end> <end> <end> <end> <end> <end>', 'clarence <end> <end> <end> <end> <end> <end> <end> <end> <end> <end>', 'no <end> <end> <end> <end> <end> <end> <end> <end> <end> <end>', 'yes <end> <end> <end> <end> <end> <end> <end> <end> <end> <end>', 'no <end> <end> <end> <end> <end> <end> <end> <end> <end> <end>', 'no <end> <end> <end> <end> <end> <end> <end> <end> <end> <end>', 'he lacked something something looked looked in <end> <end> <end> <end>', 'yes <end> <end> <end> <end> <end> <end> <end> <end> <end> <end>', 'financial <end> <end> <end> <end> <end> <end> <end> <end> <end> <end>', 'yes <end> <end> <end> <end> <end> <end> <end> <end> <end> <end>', 'alexander pop <end> <end> <end> <end> <end> <end> <end> <end> <end>', 'tuesday <end> <end> <end> <end> <end> <end> <end> <end> <end> <end>', 'captain putnam <end> <end> <end> <end> <end> <end> <end> <end> <end>', 'run away <end> <end> <end> <end> <end> <end> <end> <end> <end>', 'yes. <end> <end> <end> <end> <end> <end> <end> <end> <end> <end>', 'no. <end> <end> <end> <end> <end> <end> <end> <end> <end> <end>', 'captain putnam <end> <end> <end> <end> <end> <end> <end> <end> <end>', \"his father's <end> <end> <end> <end> <end> <end> <end> <end> <end>\", 'tom sam. sam. <end> <end> <end> <end> <end> <end> <end> <end>', '\"glad you you you you you belonged belonged belonged belonged <end>', 'his <end> <end> <end> <end> <end> <end> <end> <end> <end> <end>']\n",
            "Loss - 0.008047795854508877\n"
          ]
        },
        {
          "output_type": "stream",
          "name": "stderr",
          "text": [
            "\r 85%|████████▌ | 85/100 [05:15<00:51,  3.45s/it]"
          ]
        },
        {
          "output_type": "stream",
          "name": "stdout",
          "text": [
            "Translated - ['tunisia <end> <end> <end> <end> <end> <end> <end> <end> <end> <end>', 'representatives being chosen <end> <end> <end> <end> <end> <end> <end> <end>', 'sunday <end> <end> <end> <end> <end> <end> <end> <end> <end> <end>', '1956 <end> <end> <end> <end> <end> <end> <end> <end> <end> <end>', 'country gained its its <end> <end> <end> <end> <end> <end> <end>', 'menzah neighborhood <end> <end> <end> <end> <end> <end> <end> <end> <end>', 'schools <end> <end> <end> <end> <end> <end> <end> <end> <end> <end>', 'yes <end> <end> <end> <end> <end> <end> <end> <end> <end> <end>', 'cnn <end> <end> <end> <end> <end> <end> <end> <end> <end> <end>', 'yes <end> <end> <end> <end> <end> <end> <end> <end> <end> <end>', 'george <end> <end> <end> <end> <end> <end> <end> <end> <end> <end>', 'no <end> <end> <end> <end> <end> <end> <end> <end> <end> <end>', 'yes <end> <end> <end> <end> <end> <end> <end> <end> <end> <end>', 'clarence <end> <end> <end> <end> <end> <end> <end> <end> <end> <end>', 'no <end> <end> <end> <end> <end> <end> <end> <end> <end> <end>', 'yes <end> <end> <end> <end> <end> <end> <end> <end> <end> <end>', 'no <end> <end> <end> <end> <end> <end> <end> <end> <end> <end>', 'no <end> <end> <end> <end> <end> <end> <end> <end> <end> <end>', 'he lacked something one looked looked in <end> <end> <end> <end>', 'yes <end> <end> <end> <end> <end> <end> <end> <end> <end> <end>', 'financial <end> <end> <end> <end> <end> <end> <end> <end> <end> <end>', 'yes <end> <end> <end> <end> <end> <end> <end> <end> <end> <end>', 'alexander pop <end> <end> <end> <end> <end> <end> <end> <end> <end>', 'tuesday <end> <end> <end> <end> <end> <end> <end> <end> <end> <end>', 'captain putnam <end> <end> <end> <end> <end> <end> <end> <end> <end>', 'run away <end> <end> <end> <end> <end> <end> <end> <end> <end>', 'yes. <end> <end> <end> <end> <end> <end> <end> <end> <end> <end>', 'no. <end> <end> <end> <end> <end> <end> <end> <end> <end> <end>', 'captain putnam <end> <end> <end> <end> <end> <end> <end> <end> <end>', \"his father's <end> <end> <end> <end> <end> <end> <end> <end> <end>\", 'tom and sam. <end> <end> <end> <end> <end> <end> <end> <end>', '\"glad you you you you you you belonged belonged belonged <end>', 'his <end> <end> <end> <end> <end> <end> <end> <end> <end> <end>']\n",
            "Loss - 0.0014685456408187747\n",
            "Translated - ['tunisia <end> <end> <end> <end> <end> <end> <end> <end> <end> <end>', 'representatives being chosen <end> <end> <end> <end> <end> <end> <end> <end>', 'sunday <end> <end> <end> <end> <end> <end> <end> <end> <end> <end>', '1956 <end> <end> <end> <end> <end> <end> <end> <end> <end> <end>', 'country gained its independence <end> <end> <end> <end> <end> <end> <end>', 'menzah neighborhood <end> <end> <end> <end> <end> <end> <end> <end> <end>', 'schools <end> <end> <end> <end> <end> <end> <end> <end> <end> <end>', 'yes <end> <end> <end> <end> <end> <end> <end> <end> <end> <end>', 'cnn <end> <end> <end> <end> <end> <end> <end> <end> <end> <end>', 'yes <end> <end> <end> <end> <end> <end> <end> <end> <end> <end>', 'george <end> <end> <end> <end> <end> <end> <end> <end> <end> <end>', 'no <end> <end> <end> <end> <end> <end> <end> <end> <end> <end>', 'yes <end> <end> <end> <end> <end> <end> <end> <end> <end> <end>', 'clarence <end> <end> <end> <end> <end> <end> <end> <end> <end> <end>', 'no <end> <end> <end> <end> <end> <end> <end> <end> <end> <end>', 'yes <end> <end> <end> <end> <end> <end> <end> <end> <end> <end>', 'no <end> <end> <end> <end> <end> <end> <end> <end> <end> <end>', 'no <end> <end> <end> <end> <end> <end> <end> <end> <end> <end>', 'he he something one looked in in <end> <end> <end> <end>', 'yes <end> <end> <end> <end> <end> <end> <end> <end> <end> <end>', 'financial <end> <end> <end> <end> <end> <end> <end> <end> <end> <end>', 'yes <end> <end> <end> <end> <end> <end> <end> <end> <end> <end>', 'alexander <end> <end> <end> <end> <end> <end> <end> <end> <end> <end>', 'tuesday <end> <end> <end> <end> <end> <end> <end> <end> <end> <end>', 'captain putnam <end> <end> <end> <end> <end> <end> <end> <end> <end>', 'run away <end> <end> <end> <end> <end> <end> <end> <end> <end>', 'yes. <end> <end> <end> <end> <end> <end> <end> <end> <end> <end>', 'no. <end> <end> <end> <end> <end> <end> <end> <end> <end> <end>', 'captain putnam <end> <end> <end> <end> <end> <end> <end> <end> <end>', \"his father's <end> <end> <end> <end> <end> <end> <end> <end> <end>\", 'tom and sam. <end> <end> <end> <end> <end> <end> <end> <end>', '\"glad you you you you you you you belonged you <end>', 'his <end> <end> <end> <end> <end> <end> <end> <end> <end> <end>']\n",
            "Loss - 0.00795213133096695\n"
          ]
        },
        {
          "output_type": "stream",
          "name": "stderr",
          "text": [
            "\r 86%|████████▌ | 86/100 [05:18<00:47,  3.43s/it]"
          ]
        },
        {
          "output_type": "stream",
          "name": "stdout",
          "text": [
            "Translated - ['tunisia <end> <end> <end> <end> <end> <end> <end> <end> <end>', 'representatives being chosen <end> <end> <end> <end> <end> <end> <end>', 'sunday <end> <end> <end> <end> <end> <end> <end> <end> <end>', '1956 <end> <end> <end> <end> <end> <end> <end> <end> <end>', 'country gained its <end> <end> <end> <end> <end> <end> <end>', 'menzah <end> <end> <end> <end> <end> <end> <end> <end> <end>', 'schools <end> <end> <end> <end> <end> <end> <end> <end> <end>', 'yes <end> <end> <end> <end> <end> <end> <end> <end> <end>', 'cnn <end> <end> <end> <end> <end> <end> <end> <end> <end>', 'yes <end> <end> <end> <end> <end> <end> <end> <end> <end>', 'george <end> <end> <end> <end> <end> <end> <end> <end> <end>', 'no <end> <end> <end> <end> <end> <end> <end> <end> <end>', 'yes <end> <end> <end> <end> <end> <end> <end> <end> <end>', 'clarence <end> <end> <end> <end> <end> <end> <end> <end> <end>', 'no <end> <end> <end> <end> <end> <end> <end> <end> <end>', 'yes <end> <end> <end> <end> <end> <end> <end> <end> <end>', 'no <end> <end> <end> <end> <end> <end> <end> <end> <end>', 'no <end> <end> <end> <end> <end> <end> <end> <end> <end>', 'he he something one looked looked in <end> <end> <end>', 'yes <end> <end> <end> <end> <end> <end> <end> <end> <end>', 'financial <end> <end> <end> <end> <end> <end> <end> <end> <end>', 'yes <end> <end> <end> <end> <end> <end> <end> <end> <end>', 'alexander pop <end> <end> <end> <end> <end> <end> <end> <end>', 'tuesday <end> <end> <end> <end> <end> <end> <end> <end> <end>', 'captain putnam <end> <end> <end> <end> <end> <end> <end> <end>', 'run away <end> <end> <end> <end> <end> <end> <end> <end>', 'yes. <end> <end> <end> <end> <end> <end> <end> <end> <end>', 'no. <end> <end> <end> <end> <end> <end> <end> <end> <end>', 'captain putnam <end> <end> <end> <end> <end> <end> <end> <end>', \"his father's <end> <end> <end> <end> <end> <end> <end> <end>\", 'tom and sam. <end> <end> <end> <end> <end> <end> <end>', '\"glad you you you you you you you you <end>', 'his <end> <end> <end> <end> <end> <end> <end> <end> <end>']\n",
            "Loss - 0.0013641900150105357\n",
            "Translated - ['tunisia <end> <end> <end> <end> <end> <end> <end> <end> <end>', 'representatives are chosen chosen <end> <end> <end> <end> <end> <end>', 'sunday <end> <end> <end> <end> <end> <end> <end> <end> <end>', '1956 <end> <end> <end> <end> <end> <end> <end> <end> <end>', 'country gained its <end> <end> <end> <end> <end> <end> <end>', 'menzah neighborhood <end> <end> <end> <end> <end> <end> <end> <end>', 'schools <end> <end> <end> <end> <end> <end> <end> <end> <end>', 'yes <end> <end> <end> <end> <end> <end> <end> <end> <end>', 'cnn <end> <end> <end> <end> <end> <end> <end> <end> <end>', 'yes <end> <end> <end> <end> <end> <end> <end> <end> <end>', 'george <end> <end> <end> <end> <end> <end> <end> <end> <end>', 'no <end> <end> <end> <end> <end> <end> <end> <end> <end>', 'yes <end> <end> <end> <end> <end> <end> <end> <end> <end>', 'clarence <end> <end> <end> <end> <end> <end> <end> <end> <end>', 'no <end> <end> <end> <end> <end> <end> <end> <end> <end>', 'yes <end> <end> <end> <end> <end> <end> <end> <end> <end>', 'no <end> <end> <end> <end> <end> <end> <end> <end> <end>', 'no <end> <end> <end> <end> <end> <end> <end> <end> <end>', 'he he lacked one looked looked in a <end> <end>', 'yes <end> <end> <end> <end> <end> <end> <end> <end> <end>', 'financial <end> <end> <end> <end> <end> <end> <end> <end> <end>', 'yes <end> <end> <end> <end> <end> <end> <end> <end> <end>', 'alexander pop <end> <end> <end> <end> <end> <end> <end> <end>', 'tuesday <end> <end> <end> <end> <end> <end> <end> <end> <end>', 'captain putnam <end> <end> <end> <end> <end> <end> <end> <end>', 'run away <end> <end> <end> <end> <end> <end> <end> <end>', 'yes. <end> <end> <end> <end> <end> <end> <end> <end> <end>', 'no. <end> <end> <end> <end> <end> <end> <end> <end> <end>', 'captain putnam <end> <end> <end> <end> <end> <end> <end> <end>', \"his father's <end> <end> <end> <end> <end> <end> <end> <end>\", 'tom and and <end> <end> <end> <end> <end> <end> <end>', '\"glad you you you you you you you you <end>', 'his <end> <end> <end> <end> <end> <end> <end> <end> <end>']\n",
            "Loss - 0.007860816083848476\n"
          ]
        },
        {
          "output_type": "stream",
          "name": "stderr",
          "text": [
            "\r 87%|████████▋ | 87/100 [05:21<00:44,  3.42s/it]"
          ]
        },
        {
          "output_type": "stream",
          "name": "stdout",
          "text": [
            "Translated - ['tunisia <end> <end> <end> <end> <end> <end> <end> <end> <end>', 'representatives are chosen chosen chosen <end> <end> <end> <end> <end>', 'sunday <end> <end> <end> <end> <end> <end> <end> <end> <end>', '1956 <end> <end> <end> <end> <end> <end> <end> <end> <end>', 'country gained its <end> <end> <end> <end> <end> <end> <end>', 'menzah neighborhood <end> <end> <end> <end> <end> <end> <end> <end>', 'schools <end> <end> <end> <end> <end> <end> <end> <end> <end>', 'yes <end> <end> <end> <end> <end> <end> <end> <end> <end>', 'cnn <end> <end> <end> <end> <end> <end> <end> <end> <end>', 'yes <end> <end> <end> <end> <end> <end> <end> <end> <end>', 'george <end> <end> <end> <end> <end> <end> <end> <end> <end>', 'no <end> <end> <end> <end> <end> <end> <end> <end> <end>', 'yes <end> <end> <end> <end> <end> <end> <end> <end> <end>', 'clarence <end> <end> <end> <end> <end> <end> <end> <end> <end>', 'no <end> <end> <end> <end> <end> <end> <end> <end> <end>', 'yes <end> <end> <end> <end> <end> <end> <end> <end> <end>', 'no <end> <end> <end> <end> <end> <end> <end> <end> <end>', 'no <end> <end> <end> <end> <end> <end> <end> <end> <end>', 'he he lacked one looked looked in a a <end>', 'yes <end> <end> <end> <end> <end> <end> <end> <end> <end>', 'financial <end> <end> <end> <end> <end> <end> <end> <end> <end>', 'yes <end> <end> <end> <end> <end> <end> <end> <end> <end>', 'alexander pop <end> <end> <end> <end> <end> <end> <end> <end>', 'tuesday <end> <end> <end> <end> <end> <end> <end> <end> <end>', 'captain putnam <end> <end> <end> <end> <end> <end> <end> <end>', 'run away <end> <end> <end> <end> <end> <end> <end> <end>', 'yes. <end> <end> <end> <end> <end> <end> <end> <end> <end>', 'no. <end> <end> <end> <end> <end> <end> <end> <end> <end>', 'captain putnam <end> <end> <end> <end> <end> <end> <end> <end>', \"his father's <end> <end> <end> <end> <end> <end> <end> <end>\", 'tom and and <end> <end> <end> <end> <end> <end> <end>', '\"glad you you you you you you you <end> <end>', 'his <end> <end> <end> <end> <end> <end> <end> <end> <end>']\n",
            "Loss - 0.0011006894055753946\n",
            "Translated - ['tunisia <end> <end> <end> <end> <end> <end> <end> <end>', 'representatives are being chosen chosen <end> <end> <end> <end>', 'sunday <end> <end> <end> <end> <end> <end> <end> <end>', '1956 <end> <end> <end> <end> <end> <end> <end> <end>', 'country gained its independence <end> <end> <end> <end> <end>', 'menzah neighborhood <end> <end> <end> <end> <end> <end> <end>', 'schools <end> <end> <end> <end> <end> <end> <end> <end>', 'yes <end> <end> <end> <end> <end> <end> <end> <end>', 'cnn <end> <end> <end> <end> <end> <end> <end> <end>', 'yes <end> <end> <end> <end> <end> <end> <end> <end>', 'george <end> <end> <end> <end> <end> <end> <end> <end>', 'no <end> <end> <end> <end> <end> <end> <end> <end>', 'yes <end> <end> <end> <end> <end> <end> <end> <end>', 'clarence <end> <end> <end> <end> <end> <end> <end> <end>', 'no <end> <end> <end> <end> <end> <end> <end> <end>', 'yes <end> <end> <end> <end> <end> <end> <end> <end>', 'no <end> <end> <end> <end> <end> <end> <end> <end>', 'no <end> <end> <end> <end> <end> <end> <end> <end>', 'he lacked one one looked looked a a <end>', 'yes <end> <end> <end> <end> <end> <end> <end> <end>', 'financial <end> <end> <end> <end> <end> <end> <end> <end>', 'yes <end> <end> <end> <end> <end> <end> <end> <end>', 'alexander pop <end> <end> <end> <end> <end> <end> <end>', 'tuesday <end> <end> <end> <end> <end> <end> <end> <end>', 'captain putnam <end> <end> <end> <end> <end> <end> <end>', 'run away <end> <end> <end> <end> <end> <end> <end>', 'yes. <end> <end> <end> <end> <end> <end> <end> <end>', 'no. <end> <end> <end> <end> <end> <end> <end> <end>', 'captain putnam <end> <end> <end> <end> <end> <end> <end>', \"his father's <end> <end> <end> <end> <end> <end> <end>\", 'tom and and <end> <end> <end> <end> <end> <end>', '\"glad you you you you you you you <end>', 'his <end> <end> <end> <end> <end> <end> <end> <end>']\n",
            "Loss - 0.0077696009539067745\n"
          ]
        },
        {
          "output_type": "stream",
          "name": "stderr",
          "text": [
            "\r 88%|████████▊ | 88/100 [05:25<00:40,  3.41s/it]"
          ]
        },
        {
          "output_type": "stream",
          "name": "stdout",
          "text": [
            "Translated - ['tunisia <end> <end> <end> <end> <end> <end> <end> <end>', 'representatives are being chosen chosen <end> <end> <end> <end>', 'sunday <end> <end> <end> <end> <end> <end> <end> <end>', '1956 <end> <end> <end> <end> <end> <end> <end> <end>', 'country gained its independence <end> <end> <end> <end> <end>', 'menzah neighborhood <end> <end> <end> <end> <end> <end> <end>', 'schools <end> <end> <end> <end> <end> <end> <end> <end>', 'yes <end> <end> <end> <end> <end> <end> <end> <end>', 'cnn <end> <end> <end> <end> <end> <end> <end> <end>', 'yes <end> <end> <end> <end> <end> <end> <end> <end>', 'george <end> <end> <end> <end> <end> <end> <end> <end>', 'no <end> <end> <end> <end> <end> <end> <end> <end>', 'yes <end> <end> <end> <end> <end> <end> <end> <end>', 'clarence <end> <end> <end> <end> <end> <end> <end> <end>', 'no <end> <end> <end> <end> <end> <end> <end> <end>', 'yes <end> <end> <end> <end> <end> <end> <end> <end>', 'no <end> <end> <end> <end> <end> <end> <end> <end>', 'no <end> <end> <end> <end> <end> <end> <end> <end>', 'he lacked one one looked looked a a <end>', 'yes <end> <end> <end> <end> <end> <end> <end> <end>', 'financial <end> <end> <end> <end> <end> <end> <end> <end>', 'yes <end> <end> <end> <end> <end> <end> <end> <end>', 'alexander pop <end> <end> <end> <end> <end> <end> <end>', 'tuesday <end> <end> <end> <end> <end> <end> <end> <end>', 'captain putnam <end> <end> <end> <end> <end> <end> <end>', 'run away <end> <end> <end> <end> <end> <end> <end>', 'yes. <end> <end> <end> <end> <end> <end> <end> <end>', 'no. <end> <end> <end> <end> <end> <end> <end> <end>', 'captain putnam <end> <end> <end> <end> <end> <end> <end>', \"his father's <end> <end> <end> <end> <end> <end> <end>\", 'tom and sam. <end> <end> <end> <end> <end> <end>', '\"glad you you you you you you you <end>', 'his <end> <end> <end> <end> <end> <end> <end> <end>']\n",
            "Loss - 0.0009952759137377143\n",
            "Translated - ['tunisia <end> <end> <end> <end> <end> <end> <end> <end>', 'representatives are being chosen <end> <end> <end> <end> <end>', 'sunday <end> <end> <end> <end> <end> <end> <end> <end>', '1956 <end> <end> <end> <end> <end> <end> <end> <end>', 'country gained its independence <end> <end> <end> <end> <end>', 'menzah neighborhood <end> <end> <end> <end> <end> <end> <end>', 'schools <end> <end> <end> <end> <end> <end> <end> <end>', 'yes <end> <end> <end> <end> <end> <end> <end> <end>', 'cnn <end> <end> <end> <end> <end> <end> <end> <end>', 'yes <end> <end> <end> <end> <end> <end> <end> <end>', 'george <end> <end> <end> <end> <end> <end> <end> <end>', 'no <end> <end> <end> <end> <end> <end> <end> <end>', 'yes <end> <end> <end> <end> <end> <end> <end> <end>', 'clarence <end> <end> <end> <end> <end> <end> <end> <end>', 'no <end> <end> <end> <end> <end> <end> <end> <end>', 'yes <end> <end> <end> <end> <end> <end> <end> <end>', 'no <end> <end> <end> <end> <end> <end> <end> <end>', 'no <end> <end> <end> <end> <end> <end> <end> <end>', 'he lacked one one looked for a a <end>', 'yes <end> <end> <end> <end> <end> <end> <end> <end>', 'financial <end> <end> <end> <end> <end> <end> <end> <end>', 'yes <end> <end> <end> <end> <end> <end> <end> <end>', 'alexander pop <end> <end> <end> <end> <end> <end> <end>', 'tuesday <end> <end> <end> <end> <end> <end> <end> <end>', 'captain putnam <end> <end> <end> <end> <end> <end> <end>', 'run away <end> <end> <end> <end> <end> <end> <end>', 'yes. <end> <end> <end> <end> <end> <end> <end> <end>', 'no. <end> <end> <end> <end> <end> <end> <end> <end>', 'captain putnam <end> <end> <end> <end> <end> <end> <end>', \"his father's <end> <end> <end> <end> <end> <end> <end>\", 'tom and sam. <end> <end> <end> <end> <end> <end>', '\"glad you you you you you you you <end>', 'his <end> <end> <end> <end> <end> <end> <end> <end>']\n",
            "Loss - 0.007607762236148119\n"
          ]
        },
        {
          "output_type": "stream",
          "name": "stderr",
          "text": [
            "\r 89%|████████▉ | 89/100 [05:28<00:37,  3.42s/it]"
          ]
        },
        {
          "output_type": "stream",
          "name": "stdout",
          "text": [
            "Translated - ['tunisia <end> <end> <end> <end> <end> <end> <end> <end> <end>', 'representatives are being chosen <end> <end> <end> <end> <end> <end>', 'sunday <end> <end> <end> <end> <end> <end> <end> <end> <end>', '1956 <end> <end> <end> <end> <end> <end> <end> <end> <end>', 'country gained its independence <end> <end> <end> <end> <end> <end>', 'menzah neighborhood <end> <end> <end> <end> <end> <end> <end> <end>', 'schools <end> <end> <end> <end> <end> <end> <end> <end> <end>', 'yes <end> <end> <end> <end> <end> <end> <end> <end> <end>', 'cnn <end> <end> <end> <end> <end> <end> <end> <end> <end>', 'yes <end> <end> <end> <end> <end> <end> <end> <end> <end>', 'george <end> <end> <end> <end> <end> <end> <end> <end> <end>', 'no <end> <end> <end> <end> <end> <end> <end> <end> <end>', 'yes <end> <end> <end> <end> <end> <end> <end> <end> <end>', 'clarence <end> <end> <end> <end> <end> <end> <end> <end> <end>', 'no <end> <end> <end> <end> <end> <end> <end> <end> <end>', 'yes <end> <end> <end> <end> <end> <end> <end> <end> <end>', 'no <end> <end> <end> <end> <end> <end> <end> <end> <end>', 'no <end> <end> <end> <end> <end> <end> <end> <end> <end>', 'he lacked lacked one looked for a a <end> <end>', 'yes <end> <end> <end> <end> <end> <end> <end> <end> <end>', 'financial <end> <end> <end> <end> <end> <end> <end> <end> <end>', 'yes <end> <end> <end> <end> <end> <end> <end> <end> <end>', 'alexander pop <end> <end> <end> <end> <end> <end> <end> <end>', 'tuesday <end> <end> <end> <end> <end> <end> <end> <end> <end>', 'captain putnam <end> <end> <end> <end> <end> <end> <end> <end>', 'run away <end> <end> <end> <end> <end> <end> <end> <end>', 'yes. <end> <end> <end> <end> <end> <end> <end> <end> <end>', 'no. <end> <end> <end> <end> <end> <end> <end> <end> <end>', 'captain putnam <end> <end> <end> <end> <end> <end> <end> <end>', \"his father's <end> <end> <end> <end> <end> <end> <end> <end>\", 'tom and sam. <end> <end> <end> <end> <end> <end> <end>', '\"glad you you you you you you you you <end>', 'his <end> <end> <end> <end> <end> <end> <end> <end> <end>']\n",
            "Loss - 0.0009520043968223035\n",
            "Translated - ['tunisia <end> <end> <end> <end> <end> <end> <end> <end> <end> <end>', 'representatives are being <end> <end> <end> <end> <end> <end> <end> <end>', 'sunday <end> <end> <end> <end> <end> <end> <end> <end> <end> <end>', '1956 <end> <end> <end> <end> <end> <end> <end> <end> <end> <end>', 'country gained its independence <end> <end> <end> <end> <end> <end> <end>', 'menzah neighborhood <end> <end> <end> <end> <end> <end> <end> <end> <end>', 'schools <end> <end> <end> <end> <end> <end> <end> <end> <end> <end>', 'yes <end> <end> <end> <end> <end> <end> <end> <end> <end> <end>', 'cnn <end> <end> <end> <end> <end> <end> <end> <end> <end> <end>', 'yes <end> <end> <end> <end> <end> <end> <end> <end> <end> <end>', 'george <end> <end> <end> <end> <end> <end> <end> <end> <end> <end>', 'no <end> <end> <end> <end> <end> <end> <end> <end> <end> <end>', 'yes <end> <end> <end> <end> <end> <end> <end> <end> <end> <end>', 'clarence <end> <end> <end> <end> <end> <end> <end> <end> <end> <end>', 'no <end> <end> <end> <end> <end> <end> <end> <end> <end> <end>', 'yes <end> <end> <end> <end> <end> <end> <end> <end> <end> <end>', 'no <end> <end> <end> <end> <end> <end> <end> <end> <end> <end>', 'no <end> <end> <end> <end> <end> <end> <end> <end> <end> <end>', 'he lacked lacked one looked for a <end> <end> <end> <end>', 'yes <end> <end> <end> <end> <end> <end> <end> <end> <end> <end>', 'financial <end> <end> <end> <end> <end> <end> <end> <end> <end> <end>', 'yes <end> <end> <end> <end> <end> <end> <end> <end> <end> <end>', 'alexander pop <end> <end> <end> <end> <end> <end> <end> <end> <end>', 'tuesday <end> <end> <end> <end> <end> <end> <end> <end> <end> <end>', 'captain putnam <end> <end> <end> <end> <end> <end> <end> <end> <end>', 'run away <end> <end> <end> <end> <end> <end> <end> <end> <end>', 'yes. <end> <end> <end> <end> <end> <end> <end> <end> <end> <end>', 'no. <end> <end> <end> <end> <end> <end> <end> <end> <end> <end>', 'captain putnam <end> <end> <end> <end> <end> <end> <end> <end> <end>', \"his father's <end> <end> <end> <end> <end> <end> <end> <end> <end>\", 'tom and sam. <end> <end> <end> <end> <end> <end> <end> <end>', '\"glad you you you you you you you you you <end>', 'his <end> <end> <end> <end> <end> <end> <end> <end> <end> <end>']\n",
            "Loss - 0.007542632054537535\n"
          ]
        },
        {
          "output_type": "stream",
          "name": "stderr",
          "text": [
            "\r 90%|█████████ | 90/100 [05:32<00:34,  3.43s/it]"
          ]
        },
        {
          "output_type": "stream",
          "name": "stdout",
          "text": [
            "Translated - ['tunisia <end> <end> <end> <end> <end> <end> <end> <end> <end> <end>', 'representatives are being <end> <end> <end> <end> <end> <end> <end> <end>', 'sunday <end> <end> <end> <end> <end> <end> <end> <end> <end> <end>', '1956 <end> <end> <end> <end> <end> <end> <end> <end> <end> <end>', 'country gained its independence <end> <end> <end> <end> <end> <end> <end>', 'menzah neighborhood <end> <end> <end> <end> <end> <end> <end> <end> <end>', 'schools <end> <end> <end> <end> <end> <end> <end> <end> <end> <end>', 'yes <end> <end> <end> <end> <end> <end> <end> <end> <end> <end>', 'cnn <end> <end> <end> <end> <end> <end> <end> <end> <end> <end>', 'yes <end> <end> <end> <end> <end> <end> <end> <end> <end> <end>', 'george <end> <end> <end> <end> <end> <end> <end> <end> <end> <end>', 'no <end> <end> <end> <end> <end> <end> <end> <end> <end> <end>', 'yes <end> <end> <end> <end> <end> <end> <end> <end> <end> <end>', 'clarence <end> <end> <end> <end> <end> <end> <end> <end> <end> <end>', 'no <end> <end> <end> <end> <end> <end> <end> <end> <end> <end>', 'yes <end> <end> <end> <end> <end> <end> <end> <end> <end> <end>', 'no <end> <end> <end> <end> <end> <end> <end> <end> <end> <end>', 'no <end> <end> <end> <end> <end> <end> <end> <end> <end> <end>', 'he lacked lacked one looked for for <end> <end> <end> <end>', 'yes <end> <end> <end> <end> <end> <end> <end> <end> <end> <end>', 'financial <end> <end> <end> <end> <end> <end> <end> <end> <end> <end>', 'yes <end> <end> <end> <end> <end> <end> <end> <end> <end> <end>', 'alexander pop <end> <end> <end> <end> <end> <end> <end> <end> <end>', 'tuesday <end> <end> <end> <end> <end> <end> <end> <end> <end> <end>', 'captain putnam <end> <end> <end> <end> <end> <end> <end> <end> <end>', 'run away <end> <end> <end> <end> <end> <end> <end> <end> <end>', 'yes. <end> <end> <end> <end> <end> <end> <end> <end> <end> <end>', 'no. <end> <end> <end> <end> <end> <end> <end> <end> <end> <end>', 'captain putnam <end> <end> <end> <end> <end> <end> <end> <end> <end>', \"his father's <end> <end> <end> <end> <end> <end> <end> <end> <end>\", 'tom and sam. <end> <end> <end> <end> <end> <end> <end> <end>', '\"glad you you you you you you you you you <end>', 'his <end> <end> <end> <end> <end> <end> <end> <end> <end> <end>']\n",
            "Loss - 0.0009384758304804564\n",
            "Translated - ['tunisia <end> <end> <end> <end> <end> <end> <end> <end> <end> <end>', 'representatives are being <end> <end> <end> <end> <end> <end> <end> <end>', 'sunday <end> <end> <end> <end> <end> <end> <end> <end> <end> <end>', '1956 <end> <end> <end> <end> <end> <end> <end> <end> <end> <end>', 'country gained its independence <end> <end> <end> <end> <end> <end> <end>', 'menzah neighborhood <end> <end> <end> <end> <end> <end> <end> <end> <end>', 'schools <end> <end> <end> <end> <end> <end> <end> <end> <end> <end>', 'yes <end> <end> <end> <end> <end> <end> <end> <end> <end> <end>', 'cnn <end> <end> <end> <end> <end> <end> <end> <end> <end> <end>', 'yes <end> <end> <end> <end> <end> <end> <end> <end> <end> <end>', 'george <end> <end> <end> <end> <end> <end> <end> <end> <end> <end>', 'no <end> <end> <end> <end> <end> <end> <end> <end> <end> <end>', 'yes <end> <end> <end> <end> <end> <end> <end> <end> <end> <end>', 'clarence <end> <end> <end> <end> <end> <end> <end> <end> <end> <end>', 'no <end> <end> <end> <end> <end> <end> <end> <end> <end> <end>', 'yes <end> <end> <end> <end> <end> <end> <end> <end> <end> <end>', 'no <end> <end> <end> <end> <end> <end> <end> <end> <end> <end>', 'no <end> <end> <end> <end> <end> <end> <end> <end> <end> <end>', 'he lacked something one looked for for <end> <end> <end> <end>', 'yes <end> <end> <end> <end> <end> <end> <end> <end> <end> <end>', 'financial <end> <end> <end> <end> <end> <end> <end> <end> <end> <end>', 'yes <end> <end> <end> <end> <end> <end> <end> <end> <end> <end>', 'alexander pop <end> <end> <end> <end> <end> <end> <end> <end> <end>', 'tuesday <end> <end> <end> <end> <end> <end> <end> <end> <end> <end>', 'captain putnam <end> <end> <end> <end> <end> <end> <end> <end> <end>', 'run away <end> <end> <end> <end> <end> <end> <end> <end> <end>', 'yes. <end> <end> <end> <end> <end> <end> <end> <end> <end> <end>', 'no. <end> <end> <end> <end> <end> <end> <end> <end> <end> <end>', 'captain putnam <end> <end> <end> <end> <end> <end> <end> <end> <end>', \"his father's <end> <end> <end> <end> <end> <end> <end> <end> <end>\", 'tom and sam. <end> <end> <end> <end> <end> <end> <end> <end>', '\"glad you you you you you you you you you <end>', 'his <end> <end> <end> <end> <end> <end> <end> <end> <end> <end>']\n",
            "Loss - 0.00738940667361021\n"
          ]
        },
        {
          "output_type": "stream",
          "name": "stderr",
          "text": [
            "\r 91%|█████████ | 91/100 [05:35<00:30,  3.42s/it]"
          ]
        },
        {
          "output_type": "stream",
          "name": "stdout",
          "text": [
            "Translated - ['tunisia <end> <end> <end> <end> <end> <end> <end> <end> <end> <end>', 'representatives are being <end> <end> <end> <end> <end> <end> <end> <end>', 'sunday <end> <end> <end> <end> <end> <end> <end> <end> <end> <end>', '1956 <end> <end> <end> <end> <end> <end> <end> <end> <end> <end>', 'country gained its independence <end> <end> <end> <end> <end> <end> <end>', 'menzah neighborhood <end> <end> <end> <end> <end> <end> <end> <end> <end>', 'schools <end> <end> <end> <end> <end> <end> <end> <end> <end> <end>', 'yes <end> <end> <end> <end> <end> <end> <end> <end> <end> <end>', 'cnn <end> <end> <end> <end> <end> <end> <end> <end> <end> <end>', 'yes <end> <end> <end> <end> <end> <end> <end> <end> <end> <end>', 'george <end> <end> <end> <end> <end> <end> <end> <end> <end> <end>', 'no <end> <end> <end> <end> <end> <end> <end> <end> <end> <end>', 'yes <end> <end> <end> <end> <end> <end> <end> <end> <end> <end>', 'clarence <end> <end> <end> <end> <end> <end> <end> <end> <end> <end>', 'no <end> <end> <end> <end> <end> <end> <end> <end> <end> <end>', 'yes <end> <end> <end> <end> <end> <end> <end> <end> <end> <end>', 'no <end> <end> <end> <end> <end> <end> <end> <end> <end> <end>', 'no <end> <end> <end> <end> <end> <end> <end> <end> <end> <end>', 'he lacked something one looked looked for a <end> <end> <end>', 'yes <end> <end> <end> <end> <end> <end> <end> <end> <end> <end>', 'financial <end> <end> <end> <end> <end> <end> <end> <end> <end> <end>', 'yes <end> <end> <end> <end> <end> <end> <end> <end> <end> <end>', 'alexander pop <end> <end> <end> <end> <end> <end> <end> <end> <end>', 'tuesday <end> <end> <end> <end> <end> <end> <end> <end> <end> <end>', 'captain putnam <end> <end> <end> <end> <end> <end> <end> <end> <end>', 'run away <end> <end> <end> <end> <end> <end> <end> <end> <end>', 'yes. <end> <end> <end> <end> <end> <end> <end> <end> <end> <end>', 'no. <end> <end> <end> <end> <end> <end> <end> <end> <end> <end>', 'captain putnam <end> <end> <end> <end> <end> <end> <end> <end> <end>', \"his father's <end> <end> <end> <end> <end> <end> <end> <end> <end>\", 'tom and sam. <end> <end> <end> <end> <end> <end> <end> <end>', '\"glad you you you you you you you you you <end>', 'his <end> <end> <end> <end> <end> <end> <end> <end> <end> <end>']\n",
            "Loss - 0.0008240934112109244\n",
            "Translated - ['tunisia <end> <end> <end> <end> <end> <end> <end> <end> <end>', 'representatives are being chosen <end> <end> <end> <end> <end> <end>', 'sunday <end> <end> <end> <end> <end> <end> <end> <end> <end>', '1956 <end> <end> <end> <end> <end> <end> <end> <end> <end>', 'country gained its independence <end> <end> <end> <end> <end> <end>', 'menzah neighborhood <end> <end> <end> <end> <end> <end> <end> <end>', 'schools <end> <end> <end> <end> <end> <end> <end> <end> <end>', 'yes <end> <end> <end> <end> <end> <end> <end> <end> <end>', 'cnn <end> <end> <end> <end> <end> <end> <end> <end> <end>', 'yes <end> <end> <end> <end> <end> <end> <end> <end> <end>', 'george <end> <end> <end> <end> <end> <end> <end> <end> <end>', 'no <end> <end> <end> <end> <end> <end> <end> <end> <end>', 'yes <end> <end> <end> <end> <end> <end> <end> <end> <end>', 'clarence <end> <end> <end> <end> <end> <end> <end> <end> <end>', 'no <end> <end> <end> <end> <end> <end> <end> <end> <end>', 'yes <end> <end> <end> <end> <end> <end> <end> <end> <end>', 'no <end> <end> <end> <end> <end> <end> <end> <end> <end>', 'no <end> <end> <end> <end> <end> <end> <end> <end> <end>', 'he lacked something one looked looked for a <end> <end>', 'yes <end> <end> <end> <end> <end> <end> <end> <end> <end>', 'financial <end> <end> <end> <end> <end> <end> <end> <end> <end>', 'yes <end> <end> <end> <end> <end> <end> <end> <end> <end>', 'alexander pop <end> <end> <end> <end> <end> <end> <end> <end>', 'tuesday <end> <end> <end> <end> <end> <end> <end> <end> <end>', 'captain putnam <end> <end> <end> <end> <end> <end> <end> <end>', 'run away <end> <end> <end> <end> <end> <end> <end> <end>', 'yes. <end> <end> <end> <end> <end> <end> <end> <end> <end>', 'no. <end> <end> <end> <end> <end> <end> <end> <end> <end>', 'captain putnam <end> <end> <end> <end> <end> <end> <end> <end>', \"his father's <end> <end> <end> <end> <end> <end> <end> <end>\", 'tom and sam. <end> <end> <end> <end> <end> <end> <end>', '\"glad you you you you you you you you <end>', 'his <end> <end> <end> <end> <end> <end> <end> <end> <end>']\n",
            "Loss - 0.007275611627846956\n"
          ]
        },
        {
          "output_type": "stream",
          "name": "stderr",
          "text": [
            "\r 92%|█████████▏| 92/100 [05:39<00:27,  3.43s/it]"
          ]
        },
        {
          "output_type": "stream",
          "name": "stdout",
          "text": [
            "Translated - ['tunisia <end> <end> <end> <end> <end> <end> <end> <end> <end>', 'representatives are being chosen <end> <end> <end> <end> <end> <end>', 'sunday <end> <end> <end> <end> <end> <end> <end> <end> <end>', '1956 <end> <end> <end> <end> <end> <end> <end> <end> <end>', 'country gained its independence <end> <end> <end> <end> <end> <end>', 'menzah neighborhood <end> <end> <end> <end> <end> <end> <end> <end>', 'schools <end> <end> <end> <end> <end> <end> <end> <end> <end>', 'yes <end> <end> <end> <end> <end> <end> <end> <end> <end>', 'cnn <end> <end> <end> <end> <end> <end> <end> <end> <end>', 'yes <end> <end> <end> <end> <end> <end> <end> <end> <end>', 'george <end> <end> <end> <end> <end> <end> <end> <end> <end>', 'no <end> <end> <end> <end> <end> <end> <end> <end> <end>', 'yes <end> <end> <end> <end> <end> <end> <end> <end> <end>', 'clarence <end> <end> <end> <end> <end> <end> <end> <end> <end>', 'no <end> <end> <end> <end> <end> <end> <end> <end> <end>', 'yes <end> <end> <end> <end> <end> <end> <end> <end> <end>', 'no <end> <end> <end> <end> <end> <end> <end> <end> <end>', 'no <end> <end> <end> <end> <end> <end> <end> <end> <end>', 'he lacked something one looked for a a <end> <end>', 'yes <end> <end> <end> <end> <end> <end> <end> <end> <end>', 'financial <end> <end> <end> <end> <end> <end> <end> <end> <end>', 'yes <end> <end> <end> <end> <end> <end> <end> <end> <end>', 'alexander pop <end> <end> <end> <end> <end> <end> <end> <end>', 'tuesday <end> <end> <end> <end> <end> <end> <end> <end> <end>', 'captain putnam <end> <end> <end> <end> <end> <end> <end> <end>', 'run away <end> <end> <end> <end> <end> <end> <end> <end>', 'yes. <end> <end> <end> <end> <end> <end> <end> <end> <end>', 'no. <end> <end> <end> <end> <end> <end> <end> <end> <end>', 'captain putnam <end> <end> <end> <end> <end> <end> <end> <end>', \"his father's <end> <end> <end> <end> <end> <end> <end> <end>\", 'tom and sam. <end> <end> <end> <end> <end> <end> <end>', '\"glad you you you you you you you you <end>', 'his <end> <end> <end> <end> <end> <end> <end> <end> <end>']\n",
            "Loss - 0.0008001645910553634\n",
            "Translated - ['tunisia <end> <end> <end> <end> <end> <end> <end> <end> <end>', 'representatives are being chosen <end> <end> <end> <end> <end> <end>', 'sunday <end> <end> <end> <end> <end> <end> <end> <end> <end>', '1956 <end> <end> <end> <end> <end> <end> <end> <end> <end>', 'country gained its independence <end> <end> <end> <end> <end> <end>', 'menzah neighborhood <end> <end> <end> <end> <end> <end> <end> <end>', 'schools <end> <end> <end> <end> <end> <end> <end> <end> <end>', 'yes <end> <end> <end> <end> <end> <end> <end> <end> <end>', 'cnn <end> <end> <end> <end> <end> <end> <end> <end> <end>', 'yes <end> <end> <end> <end> <end> <end> <end> <end> <end>', 'george <end> <end> <end> <end> <end> <end> <end> <end> <end>', 'no <end> <end> <end> <end> <end> <end> <end> <end> <end>', 'yes <end> <end> <end> <end> <end> <end> <end> <end> <end>', 'clarence <end> <end> <end> <end> <end> <end> <end> <end> <end>', 'no <end> <end> <end> <end> <end> <end> <end> <end> <end>', 'yes <end> <end> <end> <end> <end> <end> <end> <end> <end>', 'no <end> <end> <end> <end> <end> <end> <end> <end> <end>', 'no <end> <end> <end> <end> <end> <end> <end> <end> <end>', 'he lacked something one looked for a a <end> <end>', 'yes <end> <end> <end> <end> <end> <end> <end> <end> <end>', 'financial <end> <end> <end> <end> <end> <end> <end> <end> <end>', 'yes <end> <end> <end> <end> <end> <end> <end> <end> <end>', 'alexander pop <end> <end> <end> <end> <end> <end> <end> <end>', 'tuesday <end> <end> <end> <end> <end> <end> <end> <end> <end>', 'captain putnam <end> <end> <end> <end> <end> <end> <end> <end>', 'run away <end> <end> <end> <end> <end> <end> <end> <end>', 'yes. <end> <end> <end> <end> <end> <end> <end> <end> <end>', 'no. <end> <end> <end> <end> <end> <end> <end> <end> <end>', 'captain putnam <end> <end> <end> <end> <end> <end> <end> <end>', \"his father's <end> <end> <end> <end> <end> <end> <end> <end>\", 'tom and sam. <end> <end> <end> <end> <end> <end> <end>', '\"glad you you you you you you you you <end>', 'his <end> <end> <end> <end> <end> <end> <end> <end> <end>']\n",
            "Loss - 0.007196328137069941\n"
          ]
        },
        {
          "output_type": "stream",
          "name": "stderr",
          "text": [
            "\r 93%|█████████▎| 93/100 [05:42<00:24,  3.44s/it]"
          ]
        },
        {
          "output_type": "stream",
          "name": "stdout",
          "text": [
            "Translated - ['tunisia <end> <end> <end> <end> <end> <end> <end> <end> <end>', 'representatives are being chosen <end> <end> <end> <end> <end> <end>', 'sunday <end> <end> <end> <end> <end> <end> <end> <end> <end>', '1956 <end> <end> <end> <end> <end> <end> <end> <end> <end>', 'country gained its independence <end> <end> <end> <end> <end> <end>', 'menzah neighborhood <end> <end> <end> <end> <end> <end> <end> <end>', 'schools <end> <end> <end> <end> <end> <end> <end> <end> <end>', 'yes <end> <end> <end> <end> <end> <end> <end> <end> <end>', 'cnn <end> <end> <end> <end> <end> <end> <end> <end> <end>', 'yes <end> <end> <end> <end> <end> <end> <end> <end> <end>', 'george <end> <end> <end> <end> <end> <end> <end> <end> <end>', 'no <end> <end> <end> <end> <end> <end> <end> <end> <end>', 'yes <end> <end> <end> <end> <end> <end> <end> <end> <end>', 'clarence <end> <end> <end> <end> <end> <end> <end> <end> <end>', 'no <end> <end> <end> <end> <end> <end> <end> <end> <end>', 'yes <end> <end> <end> <end> <end> <end> <end> <end> <end>', 'no <end> <end> <end> <end> <end> <end> <end> <end> <end>', 'no <end> <end> <end> <end> <end> <end> <end> <end> <end>', 'he he something one looked looked in a a <end>', 'yes <end> <end> <end> <end> <end> <end> <end> <end> <end>', 'financial <end> <end> <end> <end> <end> <end> <end> <end> <end>', 'yes <end> <end> <end> <end> <end> <end> <end> <end> <end>', 'alexander pop <end> <end> <end> <end> <end> <end> <end> <end>', 'tuesday <end> <end> <end> <end> <end> <end> <end> <end> <end>', 'captain putnam <end> <end> <end> <end> <end> <end> <end> <end>', 'run away <end> <end> <end> <end> <end> <end> <end> <end>', 'yes. <end> <end> <end> <end> <end> <end> <end> <end> <end>', 'no. <end> <end> <end> <end> <end> <end> <end> <end> <end>', 'captain putnam <end> <end> <end> <end> <end> <end> <end> <end>', \"his father's <end> <end> <end> <end> <end> <end> <end> <end>\", 'tom and sam. <end> <end> <end> <end> <end> <end> <end>', '\"glad you you you you you you you you <end>', 'his <end> <end> <end> <end> <end> <end> <end> <end> <end>']\n",
            "Loss - 0.0007990148733370006\n",
            "Translated - ['tunisia <end> <end> <end> <end> <end> <end> <end> <end> <end>', 'representatives are being chosen <end> <end> <end> <end> <end> <end>', 'sunday <end> <end> <end> <end> <end> <end> <end> <end> <end>', '1956 <end> <end> <end> <end> <end> <end> <end> <end> <end>', 'country gained its independence <end> <end> <end> <end> <end> <end>', 'menzah neighborhood <end> <end> <end> <end> <end> <end> <end> <end>', 'schools <end> <end> <end> <end> <end> <end> <end> <end> <end>', 'yes <end> <end> <end> <end> <end> <end> <end> <end> <end>', 'cnn <end> <end> <end> <end> <end> <end> <end> <end> <end>', 'yes <end> <end> <end> <end> <end> <end> <end> <end> <end>', 'george <end> <end> <end> <end> <end> <end> <end> <end> <end>', 'no <end> <end> <end> <end> <end> <end> <end> <end> <end>', 'yes <end> <end> <end> <end> <end> <end> <end> <end> <end>', 'clarence <end> <end> <end> <end> <end> <end> <end> <end> <end>', 'no <end> <end> <end> <end> <end> <end> <end> <end> <end>', 'yes <end> <end> <end> <end> <end> <end> <end> <end> <end>', 'no <end> <end> <end> <end> <end> <end> <end> <end> <end>', 'no <end> <end> <end> <end> <end> <end> <end> <end> <end>', 'he he lacked something looked looked looked a a <end>', 'yes <end> <end> <end> <end> <end> <end> <end> <end> <end>', 'financial <end> <end> <end> <end> <end> <end> <end> <end> <end>', 'yes <end> <end> <end> <end> <end> <end> <end> <end> <end>', 'alexander pop <end> <end> <end> <end> <end> <end> <end> <end>', 'tuesday <end> <end> <end> <end> <end> <end> <end> <end> <end>', 'captain putnam <end> <end> <end> <end> <end> <end> <end> <end>', 'run away <end> <end> <end> <end> <end> <end> <end> <end>', 'yes. <end> <end> <end> <end> <end> <end> <end> <end> <end>', 'no. <end> <end> <end> <end> <end> <end> <end> <end> <end>', 'captain putnam <end> <end> <end> <end> <end> <end> <end> <end>', \"his father's <end> <end> <end> <end> <end> <end> <end> <end>\", 'tom and sam. <end> <end> <end> <end> <end> <end> <end>', '\"glad you you you you you you you you <end>', 'his <end> <end> <end> <end> <end> <end> <end> <end> <end>']\n",
            "Loss - 0.007248000241816044\n"
          ]
        },
        {
          "output_type": "stream",
          "name": "stderr",
          "text": [
            "\r 94%|█████████▍| 94/100 [05:45<00:20,  3.44s/it]"
          ]
        },
        {
          "output_type": "stream",
          "name": "stdout",
          "text": [
            "Translated - ['tunisia <end> <end> <end> <end> <end> <end> <end> <end> <end>', 'representatives are being chosen <end> <end> <end> <end> <end> <end>', 'sunday <end> <end> <end> <end> <end> <end> <end> <end> <end>', '1956 <end> <end> <end> <end> <end> <end> <end> <end> <end>', 'country gained its independence <end> <end> <end> <end> <end> <end>', 'menzah neighborhood <end> <end> <end> <end> <end> <end> <end> <end>', 'schools <end> <end> <end> <end> <end> <end> <end> <end> <end>', 'yes <end> <end> <end> <end> <end> <end> <end> <end> <end>', 'cnn <end> <end> <end> <end> <end> <end> <end> <end> <end>', 'yes <end> <end> <end> <end> <end> <end> <end> <end> <end>', 'george <end> <end> <end> <end> <end> <end> <end> <end> <end>', 'no <end> <end> <end> <end> <end> <end> <end> <end> <end>', 'yes <end> <end> <end> <end> <end> <end> <end> <end> <end>', 'clarence <end> <end> <end> <end> <end> <end> <end> <end> <end>', 'no <end> <end> <end> <end> <end> <end> <end> <end> <end>', 'yes <end> <end> <end> <end> <end> <end> <end> <end> <end>', 'no <end> <end> <end> <end> <end> <end> <end> <end> <end>', 'no <end> <end> <end> <end> <end> <end> <end> <end> <end>', 'he lacked something one looked in a a <end> <end>', 'yes <end> <end> <end> <end> <end> <end> <end> <end> <end>', 'financial <end> <end> <end> <end> <end> <end> <end> <end> <end>', 'yes <end> <end> <end> <end> <end> <end> <end> <end> <end>', 'alexander pop <end> <end> <end> <end> <end> <end> <end> <end>', 'tuesday <end> <end> <end> <end> <end> <end> <end> <end> <end>', 'captain putnam <end> <end> <end> <end> <end> <end> <end> <end>', 'run away <end> <end> <end> <end> <end> <end> <end> <end>', 'yes. <end> <end> <end> <end> <end> <end> <end> <end> <end>', 'no. <end> <end> <end> <end> <end> <end> <end> <end> <end>', 'captain putnam <end> <end> <end> <end> <end> <end> <end> <end>', \"his father's <end> <end> <end> <end> <end> <end> <end> <end>\", 'tom and sam. <end> <end> <end> <end> <end> <end> <end>', '\"glad you you you you you you you you <end>', 'his <end> <end> <end> <end> <end> <end> <end> <end> <end>']\n",
            "Loss - 0.0007208066526800394\n",
            "Translated - ['tunisia <end> <end> <end> <end> <end> <end> <end> <end> <end>', 'representatives are being chosen <end> <end> <end> <end> <end> <end>', 'sunday <end> <end> <end> <end> <end> <end> <end> <end> <end>', '1956 <end> <end> <end> <end> <end> <end> <end> <end> <end>', 'country gained its independence <end> <end> <end> <end> <end> <end>', 'menzah neighborhood <end> <end> <end> <end> <end> <end> <end> <end>', 'schools <end> <end> <end> <end> <end> <end> <end> <end> <end>', 'yes <end> <end> <end> <end> <end> <end> <end> <end> <end>', 'cnn <end> <end> <end> <end> <end> <end> <end> <end> <end>', 'yes <end> <end> <end> <end> <end> <end> <end> <end> <end>', 'george <end> <end> <end> <end> <end> <end> <end> <end> <end>', 'no <end> <end> <end> <end> <end> <end> <end> <end> <end>', 'yes <end> <end> <end> <end> <end> <end> <end> <end> <end>', 'clarence <end> <end> <end> <end> <end> <end> <end> <end> <end>', 'no <end> <end> <end> <end> <end> <end> <end> <end> <end>', 'yes <end> <end> <end> <end> <end> <end> <end> <end> <end>', 'no <end> <end> <end> <end> <end> <end> <end> <end> <end>', 'no <end> <end> <end> <end> <end> <end> <end> <end> <end>', 'he something one looked a a a <end> <end> <end>', 'yes <end> <end> <end> <end> <end> <end> <end> <end> <end>', 'financial <end> <end> <end> <end> <end> <end> <end> <end> <end>', 'yes <end> <end> <end> <end> <end> <end> <end> <end> <end>', 'alexander pop <end> <end> <end> <end> <end> <end> <end> <end>', 'tuesday <end> <end> <end> <end> <end> <end> <end> <end> <end>', 'captain putnam <end> <end> <end> <end> <end> <end> <end> <end>', 'run away <end> <end> <end> <end> <end> <end> <end> <end>', 'yes. <end> <end> <end> <end> <end> <end> <end> <end> <end>', 'no. <end> <end> <end> <end> <end> <end> <end> <end> <end>', 'captain putnam <end> <end> <end> <end> <end> <end> <end> <end>', \"his father's <end> <end> <end> <end> <end> <end> <end> <end>\", 'tom and sam. <end> <end> <end> <end> <end> <end> <end>', '\"glad you you you you you you you you <end>', 'his <end> <end> <end> <end> <end> <end> <end> <end> <end>']\n",
            "Loss - 0.007812354248017073\n"
          ]
        },
        {
          "output_type": "stream",
          "name": "stderr",
          "text": [
            "\r 95%|█████████▌| 95/100 [05:49<00:17,  3.43s/it]"
          ]
        },
        {
          "output_type": "stream",
          "name": "stdout",
          "text": [
            "Translated - ['tunisia <end> <end> <end> <end> <end> <end> <end> <end> <end>', 'representatives are being chosen <end> <end> <end> <end> <end> <end>', 'sunday <end> <end> <end> <end> <end> <end> <end> <end> <end>', '1956 <end> <end> <end> <end> <end> <end> <end> <end> <end>', 'country gained its independence <end> <end> <end> <end> <end> <end>', 'menzah neighborhood <end> <end> <end> <end> <end> <end> <end> <end>', 'schools <end> <end> <end> <end> <end> <end> <end> <end> <end>', 'yes <end> <end> <end> <end> <end> <end> <end> <end> <end>', 'cnn <end> <end> <end> <end> <end> <end> <end> <end> <end>', 'yes <end> <end> <end> <end> <end> <end> <end> <end> <end>', 'george <end> <end> <end> <end> <end> <end> <end> <end> <end>', 'no <end> <end> <end> <end> <end> <end> <end> <end> <end>', 'yes <end> <end> <end> <end> <end> <end> <end> <end> <end>', 'clarence <end> <end> <end> <end> <end> <end> <end> <end> <end>', 'no <end> <end> <end> <end> <end> <end> <end> <end> <end>', 'yes <end> <end> <end> <end> <end> <end> <end> <end> <end>', 'no <end> <end> <end> <end> <end> <end> <end> <end> <end>', 'no <end> <end> <end> <end> <end> <end> <end> <end> <end>', 'he lacked something one looked a a a lover <end>', 'yes <end> <end> <end> <end> <end> <end> <end> <end> <end>', 'financial <end> <end> <end> <end> <end> <end> <end> <end> <end>', 'yes <end> <end> <end> <end> <end> <end> <end> <end> <end>', 'alexander pop <end> <end> <end> <end> <end> <end> <end> <end>', 'tuesday <end> <end> <end> <end> <end> <end> <end> <end> <end>', 'captain putnam <end> <end> <end> <end> <end> <end> <end> <end>', 'run away <end> <end> <end> <end> <end> <end> <end> <end>', 'yes. <end> <end> <end> <end> <end> <end> <end> <end> <end>', 'no. <end> <end> <end> <end> <end> <end> <end> <end> <end>', 'captain putnam <end> <end> <end> <end> <end> <end> <end> <end>', \"his father's <end> <end> <end> <end> <end> <end> <end> <end>\", 'tom and sam. <end> <end> <end> <end> <end> <end> <end>', '\"glad you you you you you you you you <end>', 'his <end> <end> <end> <end> <end> <end> <end> <end> <end>']\n",
            "Loss - 0.00069231545785442\n",
            "Translated - ['tunisia <end> <end> <end> <end> <end> <end> <end> <end> <end> <end>', 'representatives are being chosen <end> <end> <end> <end> <end> <end> <end>', 'sunday <end> <end> <end> <end> <end> <end> <end> <end> <end> <end>', '1956 <end> <end> <end> <end> <end> <end> <end> <end> <end> <end>', 'country gained its independence <end> <end> <end> <end> <end> <end> <end>', 'menzah neighborhood <end> <end> <end> <end> <end> <end> <end> <end> <end>', 'schools <end> <end> <end> <end> <end> <end> <end> <end> <end> <end>', 'yes <end> <end> <end> <end> <end> <end> <end> <end> <end> <end>', 'cnn <end> <end> <end> <end> <end> <end> <end> <end> <end> <end>', 'yes <end> <end> <end> <end> <end> <end> <end> <end> <end> <end>', 'george <end> <end> <end> <end> <end> <end> <end> <end> <end> <end>', 'no <end> <end> <end> <end> <end> <end> <end> <end> <end> <end>', 'yes <end> <end> <end> <end> <end> <end> <end> <end> <end> <end>', 'clarence <end> <end> <end> <end> <end> <end> <end> <end> <end> <end>', 'no <end> <end> <end> <end> <end> <end> <end> <end> <end> <end>', 'yes <end> <end> <end> <end> <end> <end> <end> <end> <end> <end>', 'no <end> <end> <end> <end> <end> <end> <end> <end> <end> <end>', 'no <end> <end> <end> <end> <end> <end> <end> <end> <end> <end>', 'he lacked something one looked for a lover a lover <end>', 'yes <end> <end> <end> <end> <end> <end> <end> <end> <end> <end>', 'financial <end> <end> <end> <end> <end> <end> <end> <end> <end> <end>', 'yes <end> <end> <end> <end> <end> <end> <end> <end> <end> <end>', 'alexander pop <end> <end> <end> <end> <end> <end> <end> <end> <end>', 'tuesday <end> <end> <end> <end> <end> <end> <end> <end> <end> <end>', 'captain putnam <end> <end> <end> <end> <end> <end> <end> <end> <end>', 'run away <end> <end> <end> <end> <end> <end> <end> <end> <end>', 'yes. <end> <end> <end> <end> <end> <end> <end> <end> <end> <end>', 'no. <end> <end> <end> <end> <end> <end> <end> <end> <end> <end>', 'captain putnam <end> <end> <end> <end> <end> <end> <end> <end> <end>', \"his father's <end> <end> <end> <end> <end> <end> <end> <end> <end>\", 'tom and sam. <end> <end> <end> <end> <end> <end> <end> <end>', '\"glad you you you you you you you you <end> <end>', 'his <end> <end> <end> <end> <end> <end> <end> <end> <end> <end>']\n",
            "Loss - 0.006969619542360306\n"
          ]
        },
        {
          "output_type": "stream",
          "name": "stderr",
          "text": [
            "\r 96%|█████████▌| 96/100 [05:52<00:13,  3.43s/it]"
          ]
        },
        {
          "output_type": "stream",
          "name": "stdout",
          "text": [
            "Translated - ['tunisia <end> <end> <end> <end> <end> <end> <end> <end> <end> <end>', 'representatives are being chosen <end> <end> <end> <end> <end> <end> <end>', 'sunday <end> <end> <end> <end> <end> <end> <end> <end> <end> <end>', '1956 <end> <end> <end> <end> <end> <end> <end> <end> <end> <end>', 'country gained its independence <end> <end> <end> <end> <end> <end> <end>', 'menzah neighborhood <end> <end> <end> <end> <end> <end> <end> <end> <end>', 'schools <end> <end> <end> <end> <end> <end> <end> <end> <end> <end>', 'yes <end> <end> <end> <end> <end> <end> <end> <end> <end> <end>', 'cnn <end> <end> <end> <end> <end> <end> <end> <end> <end> <end>', 'yes <end> <end> <end> <end> <end> <end> <end> <end> <end> <end>', 'george <end> <end> <end> <end> <end> <end> <end> <end> <end> <end>', 'no <end> <end> <end> <end> <end> <end> <end> <end> <end> <end>', 'yes <end> <end> <end> <end> <end> <end> <end> <end> <end> <end>', 'clarence <end> <end> <end> <end> <end> <end> <end> <end> <end> <end>', 'no <end> <end> <end> <end> <end> <end> <end> <end> <end> <end>', 'yes <end> <end> <end> <end> <end> <end> <end> <end> <end> <end>', 'no <end> <end> <end> <end> <end> <end> <end> <end> <end> <end>', 'no <end> <end> <end> <end> <end> <end> <end> <end> <end> <end>', 'he lacked lacked one looked looked for in a lover <end>', 'yes <end> <end> <end> <end> <end> <end> <end> <end> <end> <end>', 'financial <end> <end> <end> <end> <end> <end> <end> <end> <end> <end>', 'yes <end> <end> <end> <end> <end> <end> <end> <end> <end> <end>', 'alexander pop <end> <end> <end> <end> <end> <end> <end> <end> <end>', 'tuesday <end> <end> <end> <end> <end> <end> <end> <end> <end> <end>', 'captain putnam <end> <end> <end> <end> <end> <end> <end> <end> <end>', 'run away <end> <end> <end> <end> <end> <end> <end> <end> <end>', 'yes. <end> <end> <end> <end> <end> <end> <end> <end> <end> <end>', 'no. <end> <end> <end> <end> <end> <end> <end> <end> <end> <end>', 'captain putnam <end> <end> <end> <end> <end> <end> <end> <end> <end>', \"his father's <end> <end> <end> <end> <end> <end> <end> <end> <end>\", 'tom and sam. <end> <end> <end> <end> <end> <end> <end> <end>', '\"glad you you you you you you you you <end> <end>', 'his <end> <end> <end> <end> <end> <end> <end> <end> <end> <end>']\n",
            "Loss - 0.0007230768096633255\n",
            "Translated - ['tunisia <end> <end> <end> <end> <end> <end> <end> <end> <end> <end>', 'representatives are being chosen <end> <end> <end> <end> <end> <end> <end>', 'sunday <end> <end> <end> <end> <end> <end> <end> <end> <end> <end>', '1956 <end> <end> <end> <end> <end> <end> <end> <end> <end> <end>', 'country gained its independence <end> <end> <end> <end> <end> <end> <end>', 'menzah neighborhood <end> <end> <end> <end> <end> <end> <end> <end> <end>', 'schools <end> <end> <end> <end> <end> <end> <end> <end> <end> <end>', 'yes <end> <end> <end> <end> <end> <end> <end> <end> <end> <end>', 'cnn <end> <end> <end> <end> <end> <end> <end> <end> <end> <end>', 'yes <end> <end> <end> <end> <end> <end> <end> <end> <end> <end>', 'george <end> <end> <end> <end> <end> <end> <end> <end> <end> <end>', 'no <end> <end> <end> <end> <end> <end> <end> <end> <end> <end>', 'yes <end> <end> <end> <end> <end> <end> <end> <end> <end> <end>', 'clarence <end> <end> <end> <end> <end> <end> <end> <end> <end> <end>', 'no <end> <end> <end> <end> <end> <end> <end> <end> <end> <end>', 'yes <end> <end> <end> <end> <end> <end> <end> <end> <end> <end>', 'no <end> <end> <end> <end> <end> <end> <end> <end> <end> <end>', 'no <end> <end> <end> <end> <end> <end> <end> <end> <end> <end>', 'he lacked lacked one looked looked looked for in lover <end>', 'yes <end> <end> <end> <end> <end> <end> <end> <end> <end> <end>', 'financial <end> <end> <end> <end> <end> <end> <end> <end> <end> <end>', 'yes <end> <end> <end> <end> <end> <end> <end> <end> <end> <end>', 'alexander pop <end> <end> <end> <end> <end> <end> <end> <end> <end>', 'tuesday <end> <end> <end> <end> <end> <end> <end> <end> <end> <end>', 'captain putnam <end> <end> <end> <end> <end> <end> <end> <end> <end>', 'run away <end> <end> <end> <end> <end> <end> <end> <end> <end>', 'yes. <end> <end> <end> <end> <end> <end> <end> <end> <end> <end>', 'no. <end> <end> <end> <end> <end> <end> <end> <end> <end> <end>', 'captain putnam <end> <end> <end> <end> <end> <end> <end> <end> <end>', \"his father's <end> <end> <end> <end> <end> <end> <end> <end> <end>\", 'tom and sam. <end> <end> <end> <end> <end> <end> <end> <end>', '\"glad you you you you you you you you <end> <end>', 'his <end> <end> <end> <end> <end> <end> <end> <end> <end> <end>']\n",
            "Loss - 0.007254771888256073\n"
          ]
        },
        {
          "output_type": "stream",
          "name": "stderr",
          "text": [
            "\r 97%|█████████▋| 97/100 [05:56<00:10,  3.42s/it]"
          ]
        },
        {
          "output_type": "stream",
          "name": "stdout",
          "text": [
            "Translated - ['tunisia <end> <end> <end> <end> <end> <end> <end> <end> <end>', 'representatives are being chosen <end> <end> <end> <end> <end> <end>', 'sunday <end> <end> <end> <end> <end> <end> <end> <end> <end>', '1956 <end> <end> <end> <end> <end> <end> <end> <end> <end>', 'country gained its independence <end> <end> <end> <end> <end> <end>', 'menzah neighborhood <end> <end> <end> <end> <end> <end> <end> <end>', 'schools <end> <end> <end> <end> <end> <end> <end> <end> <end>', 'yes <end> <end> <end> <end> <end> <end> <end> <end> <end>', 'cnn <end> <end> <end> <end> <end> <end> <end> <end> <end>', 'yes <end> <end> <end> <end> <end> <end> <end> <end> <end>', 'george <end> <end> <end> <end> <end> <end> <end> <end> <end>', 'no <end> <end> <end> <end> <end> <end> <end> <end> <end>', 'yes <end> <end> <end> <end> <end> <end> <end> <end> <end>', 'clarence <end> <end> <end> <end> <end> <end> <end> <end> <end>', 'no <end> <end> <end> <end> <end> <end> <end> <end> <end>', 'yes <end> <end> <end> <end> <end> <end> <end> <end> <end>', 'no <end> <end> <end> <end> <end> <end> <end> <end> <end>', 'no <end> <end> <end> <end> <end> <end> <end> <end> <end>', 'he lacked something one for in a lover <end> lover', 'yes <end> <end> <end> <end> <end> <end> <end> <end> <end>', 'financial <end> <end> <end> <end> <end> <end> <end> <end> <end>', 'yes <end> <end> <end> <end> <end> <end> <end> <end> <end>', 'alexander pop <end> <end> <end> <end> <end> <end> <end> <end>', 'tuesday <end> <end> <end> <end> <end> <end> <end> <end> <end>', 'captain putnam <end> <end> <end> <end> <end> <end> <end> <end>', 'run away <end> <end> <end> <end> <end> <end> <end> <end>', 'yes. <end> <end> <end> <end> <end> <end> <end> <end> <end>', 'no. <end> <end> <end> <end> <end> <end> <end> <end> <end>', 'captain putnam <end> <end> <end> <end> <end> <end> <end> <end>', \"his father's <end> <end> <end> <end> <end> <end> <end> <end>\", 'tom and sam. <end> <end> <end> <end> <end> <end> <end>', '\"glad you you you you you you you you <end>', 'his <end> <end> <end> <end> <end> <end> <end> <end> <end>']\n",
            "Loss - 0.0007173648336902261\n",
            "Translated - ['tunisia <end> <end> <end> <end> <end> <end> <end> <end> <end>', 'representatives are being chosen <end> <end> <end> <end> <end> <end>', 'sunday <end> <end> <end> <end> <end> <end> <end> <end> <end>', '1956 <end> <end> <end> <end> <end> <end> <end> <end> <end>', 'country gained its independence <end> <end> <end> <end> <end> <end>', 'menzah neighborhood <end> <end> <end> <end> <end> <end> <end> <end>', 'schools <end> <end> <end> <end> <end> <end> <end> <end> <end>', 'yes <end> <end> <end> <end> <end> <end> <end> <end> <end>', 'cnn <end> <end> <end> <end> <end> <end> <end> <end> <end>', 'yes <end> <end> <end> <end> <end> <end> <end> <end> <end>', 'george <end> <end> <end> <end> <end> <end> <end> <end> <end>', 'no <end> <end> <end> <end> <end> <end> <end> <end> <end>', 'yes <end> <end> <end> <end> <end> <end> <end> <end> <end>', 'clarence <end> <end> <end> <end> <end> <end> <end> <end> <end>', 'no <end> <end> <end> <end> <end> <end> <end> <end> <end>', 'yes <end> <end> <end> <end> <end> <end> <end> <end> <end>', 'no <end> <end> <end> <end> <end> <end> <end> <end> <end>', 'no <end> <end> <end> <end> <end> <end> <end> <end> <end>', 'he lacked something for in a lover <end> lover <end>', 'yes <end> <end> <end> <end> <end> <end> <end> <end> <end>', 'financial <end> <end> <end> <end> <end> <end> <end> <end> <end>', 'yes <end> <end> <end> <end> <end> <end> <end> <end> <end>', 'alexander pop <end> <end> <end> <end> <end> <end> <end> <end>', 'tuesday <end> <end> <end> <end> <end> <end> <end> <end> <end>', 'captain putnam <end> <end> <end> <end> <end> <end> <end> <end>', 'run away <end> <end> <end> <end> <end> <end> <end> <end>', 'yes. <end> <end> <end> <end> <end> <end> <end> <end> <end>', 'no. <end> <end> <end> <end> <end> <end> <end> <end> <end>', 'captain putnam <end> <end> <end> <end> <end> <end> <end> <end>', \"his father's <end> <end> <end> <end> <end> <end> <end> <end>\", 'tom and sam. <end> <end> <end> <end> <end> <end> <end>', '\"glad you you you you you you you you <end>', 'his <end> <end> <end> <end> <end> <end> <end> <end> <end>']\n",
            "Loss - 0.007346554659307003\n"
          ]
        },
        {
          "output_type": "stream",
          "name": "stderr",
          "text": [
            "\r 98%|█████████▊| 98/100 [05:59<00:06,  3.44s/it]"
          ]
        },
        {
          "output_type": "stream",
          "name": "stdout",
          "text": [
            "Translated - ['tunisia <end> <end> <end> <end> <end> <end> <end> <end> <end>', 'representatives are being chosen <end> <end> <end> <end> <end> <end>', 'sunday <end> <end> <end> <end> <end> <end> <end> <end> <end>', '1956 <end> <end> <end> <end> <end> <end> <end> <end> <end>', 'country gained its independence <end> <end> <end> <end> <end> <end>', 'menzah neighborhood <end> <end> <end> <end> <end> <end> <end> <end>', 'schools <end> <end> <end> <end> <end> <end> <end> <end> <end>', 'yes <end> <end> <end> <end> <end> <end> <end> <end> <end>', 'cnn <end> <end> <end> <end> <end> <end> <end> <end> <end>', 'yes <end> <end> <end> <end> <end> <end> <end> <end> <end>', 'george <end> <end> <end> <end> <end> <end> <end> <end> <end>', 'no <end> <end> <end> <end> <end> <end> <end> <end> <end>', 'yes <end> <end> <end> <end> <end> <end> <end> <end> <end>', 'clarence <end> <end> <end> <end> <end> <end> <end> <end> <end>', 'no <end> <end> <end> <end> <end> <end> <end> <end> <end>', 'yes <end> <end> <end> <end> <end> <end> <end> <end> <end>', 'no <end> <end> <end> <end> <end> <end> <end> <end> <end>', 'no <end> <end> <end> <end> <end> <end> <end> <end> <end>', 'he lacked something for for a a lover <end> <end>', 'yes <end> <end> <end> <end> <end> <end> <end> <end> <end>', 'financial <end> <end> <end> <end> <end> <end> <end> <end> <end>', 'yes <end> <end> <end> <end> <end> <end> <end> <end> <end>', 'alexander pop <end> <end> <end> <end> <end> <end> <end> <end>', 'tuesday <end> <end> <end> <end> <end> <end> <end> <end> <end>', 'captain putnam <end> <end> <end> <end> <end> <end> <end> <end>', 'run away <end> <end> <end> <end> <end> <end> <end> <end>', 'yes. <end> <end> <end> <end> <end> <end> <end> <end> <end>', 'no. <end> <end> <end> <end> <end> <end> <end> <end> <end>', 'captain putnam <end> <end> <end> <end> <end> <end> <end> <end>', \"his father's <end> <end> <end> <end> <end> <end> <end> <end>\", 'tom and sam. <end> <end> <end> <end> <end> <end> <end>', '\"glad you you you you you you you you <end>', 'his <end> <end> <end> <end> <end> <end> <end> <end> <end>']\n",
            "Loss - 0.0006477171555161476\n",
            "Translated - ['tunisia <end> <end> <end> <end> <end> <end> <end> <end> <end> <end> <end>', 'representatives are being chosen <end> <end> <end> <end> <end> <end> <end> <end>', 'sunday <end> <end> <end> <end> <end> <end> <end> <end> <end> <end> <end>', '1956 <end> <end> <end> <end> <end> <end> <end> <end> <end> <end> <end>', 'country gained its independence <end> <end> <end> <end> <end> <end> <end> <end>', 'menzah neighborhood <end> <end> <end> <end> <end> <end> <end> <end> <end> <end>', 'schools <end> <end> <end> <end> <end> <end> <end> <end> <end> <end> <end>', 'yes <end> <end> <end> <end> <end> <end> <end> <end> <end> <end> <end>', 'cnn <end> <end> <end> <end> <end> <end> <end> <end> <end> <end> <end>', 'yes <end> <end> <end> <end> <end> <end> <end> <end> <end> <end> <end>', 'george <end> <end> <end> <end> <end> <end> <end> <end> <end> <end> <end>', 'no <end> <end> <end> <end> <end> <end> <end> <end> <end> <end> <end>', 'yes <end> <end> <end> <end> <end> <end> <end> <end> <end> <end> <end>', 'clarence <end> <end> <end> <end> <end> <end> <end> <end> <end> <end> <end>', 'no <end> <end> <end> <end> <end> <end> <end> <end> <end> <end> <end>', 'yes <end> <end> <end> <end> <end> <end> <end> <end> <end> <end> <end>', 'no <end> <end> <end> <end> <end> <end> <end> <end> <end> <end> <end>', 'no <end> <end> <end> <end> <end> <end> <end> <end> <end> <end> <end>', 'he lacked something for for in a lover <end> lover <end> lover', 'yes <end> <end> <end> <end> <end> <end> <end> <end> <end> <end> <end>', 'financial <end> <end> <end> <end> <end> <end> <end> <end> <end> <end> <end>', 'yes <end> <end> <end> <end> <end> <end> <end> <end> <end> <end> <end>', 'alexander pop <end> <end> <end> <end> <end> <end> <end> <end> <end> <end>', 'tuesday <end> <end> <end> <end> <end> <end> <end> <end> <end> <end> <end>', 'captain putnam <end> <end> <end> <end> <end> <end> <end> <end> <end> <end>', 'run away <end> <end> <end> <end> <end> <end> <end> <end> <end> <end>', 'yes. <end> <end> <end> <end> <end> <end> <end> <end> <end> <end> <end>', 'no. <end> <end> <end> <end> <end> <end> <end> <end> <end> <end> <end>', 'captain putnam <end> <end> <end> <end> <end> <end> <end> <end> <end> <end>', \"his father's <end> <end> <end> <end> <end> <end> <end> <end> <end> <end>\", 'tom and sam. <end> <end> <end> <end> <end> <end> <end> <end> <end>', '\"glad you you you you you you you you belonged you <end>', 'his <end> <end> <end> <end> <end> <end> <end> <end> <end> <end> <end>']\n",
            "Loss - 0.007027128245681524\n"
          ]
        },
        {
          "output_type": "stream",
          "name": "stderr",
          "text": [
            "\r 99%|█████████▉| 99/100 [06:03<00:03,  3.54s/it]"
          ]
        },
        {
          "output_type": "stream",
          "name": "stdout",
          "text": [
            "Translated - ['tunisia <end> <end> <end> <end> <end> <end> <end> <end> <end> <end>', 'representatives are being chosen <end> <end> <end> <end> <end> <end> <end>', 'sunday <end> <end> <end> <end> <end> <end> <end> <end> <end> <end>', '1956 <end> <end> <end> <end> <end> <end> <end> <end> <end> <end>', 'country gained its independence <end> <end> <end> <end> <end> <end> <end>', 'menzah neighborhood <end> <end> <end> <end> <end> <end> <end> <end> <end>', 'schools <end> <end> <end> <end> <end> <end> <end> <end> <end> <end>', 'yes <end> <end> <end> <end> <end> <end> <end> <end> <end> <end>', 'cnn <end> <end> <end> <end> <end> <end> <end> <end> <end> <end>', 'yes <end> <end> <end> <end> <end> <end> <end> <end> <end> <end>', 'george <end> <end> <end> <end> <end> <end> <end> <end> <end> <end>', 'no <end> <end> <end> <end> <end> <end> <end> <end> <end> <end>', 'yes <end> <end> <end> <end> <end> <end> <end> <end> <end> <end>', 'clarence <end> <end> <end> <end> <end> <end> <end> <end> <end> <end>', 'no <end> <end> <end> <end> <end> <end> <end> <end> <end> <end>', 'yes <end> <end> <end> <end> <end> <end> <end> <end> <end> <end>', 'no <end> <end> <end> <end> <end> <end> <end> <end> <end> <end>', 'no <end> <end> <end> <end> <end> <end> <end> <end> <end> <end>', 'he lacked something one looked for in a lover <end> lover', 'yes <end> <end> <end> <end> <end> <end> <end> <end> <end> <end>', 'financial <end> <end> <end> <end> <end> <end> <end> <end> <end> <end>', 'yes <end> <end> <end> <end> <end> <end> <end> <end> <end> <end>', 'alexander pop <end> <end> <end> <end> <end> <end> <end> <end> <end>', 'tuesday <end> <end> <end> <end> <end> <end> <end> <end> <end> <end>', 'captain putnam <end> <end> <end> <end> <end> <end> <end> <end> <end>', 'run away <end> <end> <end> <end> <end> <end> <end> <end> <end>', 'yes. <end> <end> <end> <end> <end> <end> <end> <end> <end> <end>', 'no. <end> <end> <end> <end> <end> <end> <end> <end> <end> <end>', 'captain putnam <end> <end> <end> <end> <end> <end> <end> <end> <end>', \"his father's <end> <end> <end> <end> <end> <end> <end> <end> <end>\", 'tom and sam. <end> <end> <end> <end> <end> <end> <end> <end>', '\"glad you you you you you you you belonged you <end>', 'his <end> <end> <end> <end> <end> <end> <end> <end> <end> <end>']\n",
            "Loss - 0.0007291912916116416\n",
            "Translated - ['tunisia <end> <end> <end> <end> <end> <end> <end> <end> <end> <end>', 'representatives are being chosen <end> <end> <end> <end> <end> <end> <end>', 'sunday <end> <end> <end> <end> <end> <end> <end> <end> <end> <end>', '1956 <end> <end> <end> <end> <end> <end> <end> <end> <end> <end>', 'country gained its independence <end> <end> <end> <end> <end> <end> <end>', 'menzah neighborhood <end> <end> <end> <end> <end> <end> <end> <end> <end>', 'schools <end> <end> <end> <end> <end> <end> <end> <end> <end> <end>', 'yes <end> <end> <end> <end> <end> <end> <end> <end> <end> <end>', 'cnn <end> <end> <end> <end> <end> <end> <end> <end> <end> <end>', 'yes <end> <end> <end> <end> <end> <end> <end> <end> <end> <end>', 'george <end> <end> <end> <end> <end> <end> <end> <end> <end> <end>', 'no <end> <end> <end> <end> <end> <end> <end> <end> <end> <end>', 'yes <end> <end> <end> <end> <end> <end> <end> <end> <end> <end>', 'clarence <end> <end> <end> <end> <end> <end> <end> <end> <end> <end>', 'no <end> <end> <end> <end> <end> <end> <end> <end> <end> <end>', 'yes <end> <end> <end> <end> <end> <end> <end> <end> <end> <end>', 'no <end> <end> <end> <end> <end> <end> <end> <end> <end> <end>', 'no <end> <end> <end> <end> <end> <end> <end> <end> <end> <end>', 'he he something something looked looked for in a lover <end>', 'yes <end> <end> <end> <end> <end> <end> <end> <end> <end> <end>', 'financial <end> <end> <end> <end> <end> <end> <end> <end> <end> <end>', 'yes <end> <end> <end> <end> <end> <end> <end> <end> <end> <end>', 'alexander pop <end> <end> <end> <end> <end> <end> <end> <end> <end>', 'tuesday <end> <end> <end> <end> <end> <end> <end> <end> <end> <end>', 'captain putnam <end> <end> <end> <end> <end> <end> <end> <end> <end>', 'run away <end> <end> <end> <end> <end> <end> <end> <end> <end>', 'yes. <end> <end> <end> <end> <end> <end> <end> <end> <end> <end>', 'no. <end> <end> <end> <end> <end> <end> <end> <end> <end> <end>', 'captain putnam <end> <end> <end> <end> <end> <end> <end> <end> <end>', \"his father's <end> <end> <end> <end> <end> <end> <end> <end> <end>\", 'tom and sam. <end> <end> <end> <end> <end> <end> <end> <end>', '\"glad you you you you you you you <end> <end> <end>', 'his <end> <end> <end> <end> <end> <end> <end> <end> <end> <end>']\n",
            "Loss - 0.006907935254275799\n"
          ]
        },
        {
          "output_type": "stream",
          "name": "stderr",
          "text": [
            "100%|██████████| 100/100 [06:07<00:00,  3.67s/it]"
          ]
        },
        {
          "output_type": "stream",
          "name": "stdout",
          "text": [
            "Translated - ['tunisia <end> <end> <end> <end> <end> <end> <end> <end> <end> <end> <end>', 'representatives are being chosen <end> <end> <end> <end> <end> <end> <end> <end>', 'sunday <end> <end> <end> <end> <end> <end> <end> <end> <end> <end> <end>', '1956 <end> <end> <end> <end> <end> <end> <end> <end> <end> <end> <end>', 'country gained its independence <end> <end> <end> <end> <end> <end> <end> <end>', 'menzah neighborhood <end> <end> <end> <end> <end> <end> <end> <end> <end> <end>', 'schools <end> <end> <end> <end> <end> <end> <end> <end> <end> <end> <end>', 'yes <end> <end> <end> <end> <end> <end> <end> <end> <end> <end> <end>', 'cnn <end> <end> <end> <end> <end> <end> <end> <end> <end> <end> <end>', 'yes <end> <end> <end> <end> <end> <end> <end> <end> <end> <end> <end>', 'george <end> <end> <end> <end> <end> <end> <end> <end> <end> <end> <end>', 'no <end> <end> <end> <end> <end> <end> <end> <end> <end> <end> <end>', 'yes <end> <end> <end> <end> <end> <end> <end> <end> <end> <end> <end>', 'clarence <end> <end> <end> <end> <end> <end> <end> <end> <end> <end> <end>', 'no <end> <end> <end> <end> <end> <end> <end> <end> <end> <end> <end>', 'yes <end> <end> <end> <end> <end> <end> <end> <end> <end> <end> <end>', 'no <end> <end> <end> <end> <end> <end> <end> <end> <end> <end> <end>', 'no <end> <end> <end> <end> <end> <end> <end> <end> <end> <end> <end>', 'he he something something looked looked for a a <end> <end> <end>', 'yes <end> <end> <end> <end> <end> <end> <end> <end> <end> <end> <end>', 'financial <end> <end> <end> <end> <end> <end> <end> <end> <end> <end> <end>', 'yes <end> <end> <end> <end> <end> <end> <end> <end> <end> <end> <end>', 'alexander pop <end> <end> <end> <end> <end> <end> <end> <end> <end> <end>', 'tuesday <end> <end> <end> <end> <end> <end> <end> <end> <end> <end> <end>', 'captain putnam <end> <end> <end> <end> <end> <end> <end> <end> <end> <end>', 'run away <end> <end> <end> <end> <end> <end> <end> <end> <end> <end>', 'yes. <end> <end> <end> <end> <end> <end> <end> <end> <end> <end> <end>', 'no. <end> <end> <end> <end> <end> <end> <end> <end> <end> <end> <end>', 'captain putnam <end> <end> <end> <end> <end> <end> <end> <end> <end> <end>', \"his father's <end> <end> <end> <end> <end> <end> <end> <end> <end> <end>\", 'tom and sam. <end> <end> <end> <end> <end> <end> <end> <end> <end>', '\"glad you you you you you you you you belonged belonged <end>', \"his father's <end> <end> <end> <end> <end> <end> <end> <end> <end> <end>\"]\n"
          ]
        },
        {
          "output_type": "stream",
          "name": "stderr",
          "text": [
            "\n"
          ]
        }
      ]
    },
    {
      "cell_type": "code",
      "source": [],
      "metadata": {
        "id": "7F0jEVtDFfvr"
      },
      "id": "7F0jEVtDFfvr",
      "execution_count": null,
      "outputs": []
    },
    {
      "cell_type": "markdown",
      "source": [],
      "metadata": {
        "id": "qf8lnS6L8qLR"
      },
      "id": "qf8lnS6L8qLR"
    },
    {
      "cell_type": "code",
      "source": [
        "len(input_ids)"
      ],
      "metadata": {
        "id": "2sc9lx3RsCZy",
        "outputId": "91506f0c-0f26-4d7b-bdc5-b26ec431ebd1",
        "colab": {
          "base_uri": "https://localhost:8080/"
        }
      },
      "id": "2sc9lx3RsCZy",
      "execution_count": null,
      "outputs": [
        {
          "output_type": "execute_result",
          "data": {
            "text/plain": [
              "1"
            ]
          },
          "metadata": {},
          "execution_count": 36
        }
      ]
    },
    {
      "cell_type": "markdown",
      "id": "f1e83f28",
      "metadata": {
        "id": "f1e83f28"
      },
      "source": [
        "## [Task 4] Question generation with text passage $P$ and question $Q$\n",
        "\n",
        "We want to define $f_\\theta(P, Q)$. \n",
        "\n",
        "Write your own script to implement $f_\\theta$ for each model: M1 and M2.\n",
        "\n",
        "#### Formulation\n",
        "\n",
        "Consider a dialogue on text passage $P$. \n",
        "\n",
        "For each question $Q_i$ at dialogue turn $i$, your model should take $P$ and $Q_i$ and generate $A_i$."
      ]
    },
    {
      "cell_type": "markdown",
      "id": "7311ba86",
      "metadata": {
        "id": "7311ba86"
      },
      "source": [
        "## [Task 5] Question generation with text passage $P$, question $Q$ and dialogue history $H$\n",
        "\n",
        "We want to define $f_\\theta(P, Q, H)$. Write your own script to implement $f_\\theta$ for each model: M1 and M2.\n",
        "\n",
        "#### Formulation\n",
        "\n",
        "Consider a dialogue on text passage $P$. \n",
        "\n",
        "For each question $Q_i$ at dialogue turn $i$, your model should take $P$, $Q_i$, and $H = \\{ Q_0, A_0, \\dots, Q_{i-1}, A_{i-1} \\}$ to generate $A_i$."
      ]
    },
    {
      "cell_type": "markdown",
      "id": "b5ac768c",
      "metadata": {
        "id": "b5ac768c"
      },
      "source": [
        "## [Task 6] Train and evaluate $f_\\theta(P, Q)$ and $f_\\theta(P, Q, H)$\n",
        "\n",
        "Write your own script to train and evaluate your $f_\\theta(P, Q)$ and $f_\\theta(P, Q, H)$ models.\n",
        "\n",
        "### Instructions\n",
        "\n",
        "* Perform multiple train/evaluation seed runs: [42, 2022, 1337].$^1$\n",
        "* Evaluate your models with the following metrics: SQUAD F1-score.$^2$\n",
        "* Fine-tune each transformer-based models for **3 epochs**.\n",
        "* Report evaluation SQUAD F1-score computed on the validation and test sets.\n",
        "\n",
        "$^1$ Remember what we said about code reproducibility in Tutorial 2!\n",
        "\n",
        "$^2$ You can use ```allennlp``` python package for a quick implementation of SQUAD F1-score: ```from allennlp_models.rc.tools import squad```. "
      ]
    },
    {
      "cell_type": "markdown",
      "id": "92c7e98f",
      "metadata": {
        "id": "92c7e98f"
      },
      "source": [
        "## [Task 7] Error Analysis\n",
        "\n",
        "Perform a simple and short error analysis as follows:\n",
        "* Group dialogues by ```source``` and report the worst 5 model errors for each source (w.r.t. SQUAD F1-score).\n",
        "* Inspect observed results and try to provide some comments (e.g., do the models make errors when faced with a particular question type?)$^1$\n",
        "\n",
        "$^1$ Check the [paper](https://arxiv.org/pdf/1808.07042.pdf) for some valuable information about question/answer types (e.g., Table 6, Table 8) "
      ]
    },
    {
      "cell_type": "markdown",
      "id": "f1814004",
      "metadata": {
        "id": "f1814004"
      },
      "source": [
        "# Assignment Evaluation\n",
        "\n",
        "The following assignment points will be awarded for each task as follows:\n",
        "\n",
        "* Task 1, Pre-processing $\\rightarrow$ 0.5 points.\n",
        "* Task 2, Dataset Splitting $\\rightarrow$ 0.5 points.\n",
        "* Task 3 and 4, Models Definition $\\rightarrow$ 1.0 points.\n",
        "* Task 5 and 6, Models Training and Evaluation $\\rightarrow$ 2.0 points.\n",
        "* Task 7, Analysis $\\rightarrow$ 1.0 points.\n",
        "* Report $\\rightarrow$ 1.0 points.\n",
        "\n",
        "**Total** = 6 points <br>\n",
        "\n",
        "We may award an additional 0.5 points for outstanding submissions. \n",
        " \n",
        "**Speed Bonus** = 0.5 extra points <br>"
      ]
    },
    {
      "cell_type": "markdown",
      "id": "20a1b2b9",
      "metadata": {
        "id": "20a1b2b9"
      },
      "source": [
        "# Report\n",
        "\n",
        "We apply the rules described in Assignment 1 regarding the report.\n",
        "* Write a clear and concise report following the given overleaf template (**max 2 pages**).\n",
        "* Report validation and test results in a table.$^1$\n",
        "* **Avoid reporting** code snippets or copy-paste terminal outputs $\\rightarrow$ **Provide a clean schema** of what you want to show"
      ]
    },
    {
      "cell_type": "markdown",
      "id": "0967c209",
      "metadata": {
        "id": "0967c209"
      },
      "source": [
        "# Comments and Organization\n",
        "\n",
        "Remember to properly comment your code (it is not necessary to comment each single line) and don't forget to describe your work!\n",
        "\n",
        "Structure your code for readability and maintenance. If you work with Colab, use sections. \n",
        "\n",
        "This allows you to build clean and modular code, as well as easy to read and to debug (notebooks can be quite tricky time to time)."
      ]
    },
    {
      "cell_type": "markdown",
      "id": "23929660",
      "metadata": {
        "id": "23929660"
      },
      "source": [
        "# FAQ (READ THIS!)\n",
        "\n",
        "---\n",
        "\n",
        "**Question**: Does Task 3 also include data tokenization and conversion step?\n",
        "\n",
        "**Answer:** Yes! These steps are usually straightforward since ```transformers``` also offers a specific tokenizer for each model.\n",
        "\n",
        "**Example**: \n",
        "\n",
        "```\n",
        "tokenizer = AutoTokenizer.from_pretrained(\"bert-base-cased\")\n",
        "encoded_text = tokenizer(text)\n",
        "%% Alternatively\n",
        "inputs = tokenizer.tokenize(text, add_special_tokens=True, max_length=min(max_length, 512))\n",
        "input_ids, attention_mask = inputs['input_ids'], inputs['attention_mask']\n",
        "```\n",
        "\n",
        "**Suggestion**: Hugginface's documentation is full of tutorials and user-friendly APIs.\n",
        "\n",
        "---\n",
        "---\n",
        "\n",
        "**Question**: I'm hitting **out of memory error** when training my models, do you have any suggestions?\n",
        "\n",
        "**Answer**: Here are some common workarounds:\n",
        "\n",
        "1. Try decreasing the mini-batch size\n",
        "2. Try applying a different padding strategy (if you are applying padding): e.g. use quantiles instead of maximum sequence length\n",
        "\n",
        "---\n",
        "---"
      ]
    },
    {
      "cell_type": "markdown",
      "id": "9c56a612",
      "metadata": {
        "id": "9c56a612"
      },
      "source": [
        "# Contact\n",
        "\n",
        "For any doubt, question, issue or help, you can always contact us at the following email addresses:\n",
        "\n",
        "Teaching Assistants:\n",
        "\n",
        "* Andrea Galassi -> a.galassi@unibo.it\n",
        "* Federico Ruggeri -> federico.ruggeri6@unibo.it\n",
        "\n",
        "Professor:\n",
        "\n",
        "* Paolo Torroni -> p.torroni@unibo.it"
      ]
    },
    {
      "cell_type": "markdown",
      "id": "54bac4b9",
      "metadata": {
        "id": "54bac4b9"
      },
      "source": [
        "# The End!\n",
        "\n",
        "Questions?"
      ]
    }
  ],
  "metadata": {
    "celltoolbar": "Slideshow",
    "kernelspec": {
      "display_name": "Python 3",
      "language": "python",
      "name": "python3"
    },
    "language_info": {
      "codemirror_mode": {
        "name": "ipython",
        "version": 3
      },
      "file_extension": ".py",
      "mimetype": "text/x-python",
      "name": "python",
      "nbconvert_exporter": "python",
      "pygments_lexer": "ipython3",
      "version": "3.6.9"
    },
    "colab": {
      "provenance": []
    }
  },
  "nbformat": 4,
  "nbformat_minor": 5
}