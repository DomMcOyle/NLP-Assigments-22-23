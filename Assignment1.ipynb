{
  "nbformat": 4,
  "nbformat_minor": 0,
  "metadata": {
    "colab": {
      "provenance": []
    },
    "kernelspec": {
      "name": "python3",
      "display_name": "Python 3"
    },
    "accelerator": "GPU",
    "gpuClass": "standard"
  },
  "cells": [
    {
      "cell_type": "markdown",
      "metadata": {
        "id": "-WeCeITXoxLf"
      },
      "source": [
        "# Assignment 1\n",
        "\n",
        "**Due to**: 11/01/2022 (dd/mm/yyyy)\n",
        "\n",
        "If you deliver it by 11/12/2021 your assignment will be graded by 11/01/2022.\n",
        "\n",
        "\n",
        "**Credits**: Andrea Galassi, Federico Ruggeri, Paolo Torroni\n",
        "\n",
        "**Summary**: Part-of Speech (POS) tagging as Sequence Labelling using Recurrent Neural Architectures\n",
        "\n",
        "Please, read ALL the following instructions :)"
      ]
    },
    {
      "cell_type": "markdown",
      "metadata": {
        "id": "a4_wqPdlBcKS"
      },
      "source": [
        "# Intro\n",
        "\n",
        "In this assignment  we will ask you to perform POS tagging using neural architectures\n",
        "\n",
        "You are asked to follow these steps:\n",
        "*   Download the corpora and split it in training and test sets, structuring a dataframe.\n",
        "*   Embed the words using GloVe embeddings\n",
        "*   Create a baseline model, using a simple neural architecture\n",
        "*   Experiment doing small modifications to the baseline model, choose hyperparameters using the validation set\n",
        "*   Evaluate your two best model\n",
        "*   Analyze the errors of your model\n",
        "\n",
        "\n",
        "**Task**: given a corpus of documents, predict the POS tag for each word\n",
        "\n",
        "**Corpus**:\n",
        "Ignore the numeric value in the third column, use only the words/symbols and its label. \n",
        "The corpus is available at:\n",
        "https://raw.githubusercontent.com/nltk/nltk_data/gh-pages/packages/corpora/dependency_treebank.zip\n",
        "\n",
        "**Splits**: documents 1-100 are the train set, 101-150 validation set, 151-199 test set.\n",
        "\n",
        "\n",
        "**Features**: you MUST use GloVe embeddings as the only input features to the model.\n",
        "\n",
        "**Splitting**: you can decide to split documents into sentences or not, the choice is yours.\n",
        "\n",
        "**I/O structure**: The input data will have three dimensions: 1-documents/sentences, 2-token, 3-features; for the output there are 2 possibilities: if you use one-hot encoding it will be 1-documents/sentences, 2-token labels, 3-classes, if you use a single integer that indicates the number of the class it will be 1-documents/sentences, 2-token labels.\n",
        "\n",
        "**Baseline**: two layers architecture: a Bidirectional LSTM layer and a Dense/Fully-Connected layer on top; the choice of hyper-parameters is yours.\n",
        "\n",
        "**Architectures**: experiment using a GRU instead of the LSTM, adding an additional LSTM layer, and adding an additional dense layer; do not mix these variantions.\n",
        "\n",
        "\n",
        "**Training and Experiments**: all the experiments must involve only the training and validation sets.\n",
        "\n",
        "**Evaluation**: in the end, only the two best models of your choice (according to the validation set) must be evaluated on the test set. The main metric must be F1-Macro computed between the various part of speech. DO NOT CONSIDER THE PUNCTUATION CLASSES. [What is punctuation?]{https://en.wikipedia.org/wiki/English_punctuation}\n",
        "\n",
        "**Metrics**: the metric you must use to evaluate your final model is the F1-macro, WITHOUT considering punctuation/symbols classes; during the training process you can use accuracy because you can't use the F1 metric unless you use a single (gigantic) batch because there is no way to aggregate \"partial\" F1 scores computed on mini-batches.\n",
        "\n",
        "**Discussion and Error Analysis** : verify and discuss if the results on the test sets are coherent with those on the validation set; analyze the errors done by your model, try to understand which may be the causes and think about how to improve it.\n",
        "\n",
        "**Report**: you are asked to deliver the code of your experiments and a small pdf report of about 2 pages; the pdf must begin with the names of the people of your team and a small abstract (4-5 lines) that sums up your findings.\n",
        "\n",
        "# Out Of Vocabulary (OOV) terms\n",
        "\n",
        "How to handle words that are not in GloVe vocabulary?\n",
        "You can handle them as you want (random embedding, placeholder, whatever!), but they must be STATIC embeddings (you cannot train them).\n",
        "\n",
        "But there is a very important caveat! As usual, the element of the test set must not influence the elements of the other splits!\n",
        "If you use random embeddings or placeholder embeddings (e.g., everything is 0) this is automatically solved.\n",
        "\n",
        "If you want to use other techniques: when you compute new embeddings for train+validation, you must forget about test documents.\n",
        "The motivation is to emulate a real-world scenario, where you select and train a model in the first stage, without knowing nothing about the testing environment.\n",
        "\n",
        "For implementation convenience, you CAN use a single vocabulary file/matrix/whatever. The principle of the previous point is that the embeddings inside that file/matrix must be generated independently for train and test splits.\n",
        "\n",
        "Basically in a real-world scenario, this is what would happen:\n",
        "1. Starting vocabulary V1 (in this assignment, GloVe vocabulary)\n",
        "2. Compute embeddings for terms out of vocabulary V1 (OOV1) of the training split \n",
        "3. Add embeddings to the vocabulary, so to obtain vocabulary V2=V1+OOV1\n",
        "4. Training of the model(s)\n",
        "5. Compute embeddings for terms OOV2 of the validation split \n",
        "6. Add embeddings to the vocabulary, so to obtain vocabulary V3=V1+OOV1+OOV2\n",
        "7. Validation of the model(s)\n",
        "8. Compute embeddings for terms OOV3 of the test split \n",
        "9. Add embeddings to the vocabulary, so to obtain vocabulary V4=V1+OOV1+OOV2+OOV3\n",
        "10. Testing of the final model\n",
        "\n",
        "In this case, where we already have all the documents, we can simplify the process a bit, but the procedure must remain rigorous.\n",
        "\n",
        "1. Starting vocabulary V1 (in this assignment, GloVe vocabulary)\n",
        "2. Compute embeddings for terms out of vocabulary V1 (OOV1) of the training split \n",
        "3. Add embeddings to the vocabulary, so to obtain vocabulary V2=V1+OOV1\n",
        "4. Compute embeddings for terms OOV2 of the validation split \n",
        "5. Add embeddings to the vocabulary, so to obtain vocabulary V3=V1+OOV1+OOV2\n",
        "6. Compute embeddings for terms OOV3 of the test split \n",
        "7. Add embeddings to the vocabulary, so to obtain vocabulary V4=V1+OOV1+OOV2+OOV3\n",
        "8. Training of the model(s)\n",
        "9. Validation of the model(s)\n",
        "10. Testing of the final model\n",
        "\n",
        "Step 2 and step 6 must be completely independent of each other, for what concerns the method and the documents. But they can rely on the previous vocabulary (V1 for step 2 and V3 for step 6)\n",
        "THEREFORE if a word is present both in the training set and the test split and not in the starting vocabulary, its embedding is computed in step 2) and it is not considered OOV anymore in step 6).\n",
        "\n",
        "# Report\n",
        "The report must not be just a copy and paste of graphs and tables!\n",
        "\n",
        "The report must not be longer than 2 pages and must contain:\n",
        "* The names of the member of your team\n",
        "* A short abstract (4-5 lines) that sum ups everything\n",
        "* A general (brief!) description of the task you have addressed and how you have addressed it\n",
        "* A brief analysis of the data (class distribution, lenght, etc)\n",
        "* A short description of the models you have used\n",
        "* Some tables that sum up your findings in validation and test and a discussion of those results\n",
        "* The most relevant findings of your error analysis\n",
        "\n",
        "\n",
        "# Evaluation Criterion\n",
        "\n",
        "The goal of this assignment is not to prove you can find best model ever, but to face a common task, structure it correctly, and follow a correct and rigorous experimental procedure.\n",
        "In other words, we don't care if you final models are awful as long as you have followed the correct procedure and wrote a decent report.\n",
        "\n",
        "The score of the assignment will be computed roughly as follows\n",
        "* 1 point for the correctness of approach/methodology\n",
        "* 1 point for the handling of OOV terms\n",
        "* 1 point for the correct implementation of models (they must run and do the right thing)\n",
        "* 1 point for train-validation-test procedure\n",
        "* 2 point for the discussion of the results, error analysis, and report\n",
        "\n",
        "The evaluation will not be based on the performance of the models!\n",
        "\n",
        "We also reserve the right to assign a small bonus (0.5 points) to any assignment that is particularly worthy. \n",
        "\n",
        "# Deliver\n",
        "\n",
        "* Two files: a pdf file for the report, and a python notebook\n",
        "* Put the names of the member of the team at the beginning of both files\n",
        "* What about additional files, for example models or weights? You can upload them in a private cloud and insert the link in the report.\n",
        "* Please, submit a notebook with clear sections, text boxes, and comments and indications about what is going on in the code. When we do not understand what is going on we get annoyed, when we are annoyed we tend to be more severe in our evaluation.\n",
        "\n",
        "\n",
        "\n",
        "# Contacts\n",
        "\n",
        "In case of any doubt, question, issue, or help we highly recommend you to check the [course useful material](https://virtuale.unibo.it/pluginfile.php/1273064/mod_resource/content/2/NLP_Course_Useful_Material.pdf) for additional information, and to use the Virtuale forums to discuss with other students.\n",
        "\n",
        "You can always contact us at the following email addresses. To increase the probability of a prompt response, we reccomend you to write to both the teaching assistants.\n",
        "If we do not reply within 3-4 days, please send it again!\n",
        "\n",
        "Teaching Assistants:\n",
        "\n",
        "* Andrea Galassi -> a.galassi@unibo.it\n",
        "* Federico Ruggeri -> federico.ruggeri6@unibo.it\n",
        "\n",
        "Professor:\n",
        "\n",
        "* Paolo Torroni -> p.torroni@unibo.it\n",
        "\n",
        "\n",
        "# Additional notes and FAQ\n",
        "* You can use a non-trainable Embedding layer to load the glove embeddings\n",
        "* For the baseline, it must have only two trainable layers: the BiLSTM and the Dense/FC one. The Dense layer is the \"classification head\" with softmax activation. You must not add an additional dense layer on top of the baseline. You can use the embedding layer before the BiLSTM, but it must be not trainable.\n",
        "* You can use any library of your choice to implement the networks. Two options are tensorflow/keras or pythorch. Both these libraries have all the classes you need to implement these simple architectures and there are plenty of tutorials around, where you can learn how to use them.\n",
        "* For the application of the Dense Layer, it is recommended to use a Time-Distributed Dense. In any case, doing otherwise is NOT considered an error.\n",
        "* Some examples of things you can analyze in your discussion and error analysis are: the performances on the most frequent classes and the less frequent classes, precision and recall, the confusion tables, specific misclassified samples.\n",
        "* Punctuation: you must keep the punctuation in the documents, since it may be helpful for the model, you simply must ignore it when you perform the evaluation of the model, not considering the punctuation classes among the ones you use to compute F1 macro score. If you are curious, you can run ADDITIONAL experiments where you remove punctuation to see its impact."
      ]
    },
    {
      "cell_type": "markdown",
      "source": [
        "# STEP 1"
      ],
      "metadata": {
        "id": "AP1iyYTTY3gm"
      }
    },
    {
      "cell_type": "code",
      "source": [
        "!wget https://raw.githubusercontent.com/nltk/nltk_data/gh-pages/packages/corpora/dependency_treebank.zip\n",
        "!unzip dependency_treebank.zip\n",
        "!rm dependency_treebank.zip"
      ],
      "metadata": {
        "colab": {
          "base_uri": "https://localhost:8080/"
        },
        "id": "gcrFcorDYzX1",
        "outputId": "d6695f04-f6f8-4144-ac11-67756ce91760"
      },
      "execution_count": 1,
      "outputs": [
        {
          "output_type": "stream",
          "name": "stdout",
          "text": [
            "--2022-12-05 18:46:04--  https://raw.githubusercontent.com/nltk/nltk_data/gh-pages/packages/corpora/dependency_treebank.zip\n",
            "Resolving raw.githubusercontent.com (raw.githubusercontent.com)... 185.199.108.133, 185.199.109.133, 185.199.111.133, ...\n",
            "Connecting to raw.githubusercontent.com (raw.githubusercontent.com)|185.199.108.133|:443... connected.\n",
            "HTTP request sent, awaiting response... 200 OK\n",
            "Length: 457429 (447K) [application/zip]\n",
            "Saving to: ‘dependency_treebank.zip’\n",
            "\n",
            "\rdependency_treebank   0%[                    ]       0  --.-KB/s               \rdependency_treebank 100%[===================>] 446.71K  --.-KB/s    in 0.01s   \n",
            "\n",
            "2022-12-05 18:46:04 (36.0 MB/s) - ‘dependency_treebank.zip’ saved [457429/457429]\n",
            "\n",
            "Archive:  dependency_treebank.zip\n",
            "   creating: dependency_treebank/\n",
            "  inflating: dependency_treebank/wsj_0093.dp  \n",
            "  inflating: dependency_treebank/wsj_0065.dp  \n",
            "  inflating: dependency_treebank/wsj_0039.dp  \n",
            "  inflating: dependency_treebank/wsj_0182.dp  \n",
            "  inflating: dependency_treebank/wsj_0186.dp  \n",
            "  inflating: dependency_treebank/wsj_0041.dp  \n",
            "  inflating: dependency_treebank/wsj_0018.dp  \n",
            "  inflating: dependency_treebank/wsj_0105.dp  \n",
            "  inflating: dependency_treebank/wsj_0149.dp  \n",
            "  inflating: dependency_treebank/wsj_0194.dp  \n",
            "  inflating: dependency_treebank/wsj_0055.dp  \n",
            "  inflating: dependency_treebank/wsj_0187.dp  \n",
            "  inflating: dependency_treebank/wsj_0143.dp  \n",
            "  inflating: dependency_treebank/wsj_0052.dp  \n",
            "  inflating: dependency_treebank/wsj_0064.dp  \n",
            "  inflating: dependency_treebank/wsj_0179.dp  \n",
            "  inflating: dependency_treebank/wsj_0195.dp  \n",
            "  inflating: dependency_treebank/wsj_0051.dp  \n",
            "  inflating: dependency_treebank/wsj_0059.dp  \n",
            "  inflating: dependency_treebank/wsj_0109.dp  \n",
            "  inflating: dependency_treebank/wsj_0074.dp  \n",
            "  inflating: dependency_treebank/wsj_0089.dp  \n",
            "  inflating: dependency_treebank/wsj_0108.dp  \n",
            "  inflating: dependency_treebank/wsj_0104.dp  \n",
            "  inflating: dependency_treebank/wsj_0164.dp  \n",
            "  inflating: dependency_treebank/wsj_0024.dp  \n",
            "  inflating: dependency_treebank/wsj_0008.dp  \n",
            "  inflating: dependency_treebank/wsj_0101.dp  \n",
            "  inflating: dependency_treebank/wsj_0132.dp  \n",
            "  inflating: dependency_treebank/wsj_0028.dp  \n",
            "  inflating: dependency_treebank/wsj_0184.dp  \n",
            "  inflating: dependency_treebank/wsj_0082.dp  \n",
            "  inflating: dependency_treebank/wsj_0114.dp  \n",
            "  inflating: dependency_treebank/wsj_0061.dp  \n",
            "  inflating: dependency_treebank/wsj_0190.dp  \n",
            "  inflating: dependency_treebank/wsj_0034.dp  \n",
            "  inflating: dependency_treebank/wsj_0043.dp  \n",
            "  inflating: dependency_treebank/wsj_0044.dp  \n",
            "  inflating: dependency_treebank/wsj_0021.dp  \n",
            "  inflating: dependency_treebank/wsj_0005.dp  \n",
            "  inflating: dependency_treebank/wsj_0112.dp  \n",
            "  inflating: dependency_treebank/wsj_0167.dp  \n",
            "  inflating: dependency_treebank/wsj_0042.dp  \n",
            "  inflating: dependency_treebank/wsj_0168.dp  \n",
            "  inflating: dependency_treebank/wsj_0185.dp  \n",
            "  inflating: dependency_treebank/wsj_0057.dp  \n",
            "  inflating: dependency_treebank/wsj_0015.dp  \n",
            "  inflating: dependency_treebank/wsj_0116.dp  \n",
            "  inflating: dependency_treebank/wsj_0135.dp  \n",
            "  inflating: dependency_treebank/wsj_0175.dp  \n",
            "  inflating: dependency_treebank/wsj_0171.dp  \n",
            "  inflating: dependency_treebank/wsj_0068.dp  \n",
            "  inflating: dependency_treebank/wsj_0080.dp  \n",
            "  inflating: dependency_treebank/wsj_0035.dp  \n",
            "  inflating: dependency_treebank/wsj_0181.dp  \n",
            "  inflating: dependency_treebank/wsj_0177.dp  \n",
            "  inflating: dependency_treebank/wsj_0102.dp  \n",
            "  inflating: dependency_treebank/wsj_0137.dp  \n",
            "  inflating: dependency_treebank/wsj_0022.dp  \n",
            "  inflating: dependency_treebank/wsj_0176.dp  \n",
            "  inflating: dependency_treebank/wsj_0180.dp  \n",
            "  inflating: dependency_treebank/wsj_0121.dp  \n",
            "  inflating: dependency_treebank/wsj_0128.dp  \n",
            "  inflating: dependency_treebank/wsj_0036.dp  \n",
            "  inflating: dependency_treebank/wsj_0071.dp  \n",
            "  inflating: dependency_treebank/wsj_0091.dp  \n",
            "  inflating: dependency_treebank/wsj_0076.dp  \n",
            "  inflating: dependency_treebank/wsj_0123.dp  \n",
            "  inflating: dependency_treebank/wsj_0075.dp  \n",
            "  inflating: dependency_treebank/wsj_0131.dp  \n",
            "  inflating: dependency_treebank/wsj_0050.dp  \n",
            "  inflating: dependency_treebank/wsj_0136.dp  \n",
            "  inflating: dependency_treebank/wsj_0161.dp  \n",
            "  inflating: dependency_treebank/wsj_0033.dp  \n",
            "  inflating: dependency_treebank/wsj_0188.dp  \n",
            "  inflating: dependency_treebank/wsj_0085.dp  \n",
            "  inflating: dependency_treebank/wsj_0014.dp  \n",
            "  inflating: dependency_treebank/wsj_0073.dp  \n",
            "  inflating: dependency_treebank/wsj_0199.dp  \n",
            "  inflating: dependency_treebank/wsj_0120.dp  \n",
            "  inflating: dependency_treebank/wsj_0178.dp  \n",
            "  inflating: dependency_treebank/wsj_0122.dp  \n",
            "  inflating: dependency_treebank/wsj_0040.dp  \n",
            "  inflating: dependency_treebank/wsj_0020.dp  \n",
            "  inflating: dependency_treebank/wsj_0153.dp  \n",
            "  inflating: dependency_treebank/wsj_0107.dp  \n",
            "  inflating: dependency_treebank/wsj_0017.dp  \n",
            "  inflating: dependency_treebank/wsj_0140.dp  \n",
            "  inflating: dependency_treebank/wsj_0038.dp  \n",
            "  inflating: dependency_treebank/wsj_0031.dp  \n",
            "  inflating: dependency_treebank/wsj_0165.dp  \n",
            "  inflating: dependency_treebank/wsj_0146.dp  \n",
            "  inflating: dependency_treebank/wsj_0090.dp  \n",
            "  inflating: dependency_treebank/wsj_0001.dp  \n",
            "  inflating: dependency_treebank/wsj_0148.dp  \n",
            "  inflating: dependency_treebank/wsj_0097.dp  \n",
            "  inflating: dependency_treebank/wsj_0009.dp  \n",
            "  inflating: dependency_treebank/wsj_0173.dp  \n",
            "  inflating: dependency_treebank/wsj_0111.dp  \n",
            "  inflating: dependency_treebank/wsj_0129.dp  \n",
            "  inflating: dependency_treebank/wsj_0130.dp  \n",
            "  inflating: dependency_treebank/wsj_0047.dp  \n",
            "  inflating: dependency_treebank/wsj_0110.dp  \n",
            "  inflating: dependency_treebank/wsj_0113.dp  \n",
            "  inflating: dependency_treebank/wsj_0147.dp  \n",
            "  inflating: dependency_treebank/wsj_0160.dp  \n",
            "  inflating: dependency_treebank/wsj_0099.dp  \n",
            "  inflating: dependency_treebank/wsj_0003.dp  \n",
            "  inflating: dependency_treebank/wsj_0011.dp  \n",
            "  inflating: dependency_treebank/wsj_0056.dp  \n",
            "  inflating: dependency_treebank/wsj_0069.dp  \n",
            "  inflating: dependency_treebank/wsj_0026.dp  \n",
            "  inflating: dependency_treebank/wsj_0138.dp  \n",
            "  inflating: dependency_treebank/wsj_0029.dp  \n",
            "  inflating: dependency_treebank/wsj_0115.dp  \n",
            "  inflating: dependency_treebank/wsj_0037.dp  \n",
            "  inflating: dependency_treebank/wsj_0019.dp  \n",
            "  inflating: dependency_treebank/wsj_0002.dp  \n",
            "  inflating: dependency_treebank/wsj_0007.dp  \n",
            "  inflating: dependency_treebank/wsj_0158.dp  \n",
            "  inflating: dependency_treebank/wsj_0087.dp  \n",
            "  inflating: dependency_treebank/wsj_0157.dp  \n",
            "  inflating: dependency_treebank/wsj_0083.dp  \n",
            "  inflating: dependency_treebank/wsj_0103.dp  \n",
            "  inflating: dependency_treebank/wsj_0058.dp  \n",
            "  inflating: dependency_treebank/wsj_0054.dp  \n",
            "  inflating: dependency_treebank/wsj_0016.dp  \n",
            "  inflating: dependency_treebank/wsj_0126.dp  \n",
            "  inflating: dependency_treebank/wsj_0198.dp  \n",
            "  inflating: dependency_treebank/wsj_0144.dp  \n",
            "  inflating: dependency_treebank/wsj_0096.dp  \n",
            "  inflating: dependency_treebank/wsj_0086.dp  \n",
            "  inflating: dependency_treebank/wsj_0197.dp  \n",
            "  inflating: dependency_treebank/wsj_0025.dp  \n",
            "  inflating: dependency_treebank/wsj_0100.dp  \n",
            "  inflating: dependency_treebank/wsj_0084.dp  \n",
            "  inflating: dependency_treebank/wsj_0098.dp  \n",
            "  inflating: dependency_treebank/wsj_0106.dp  \n",
            "  inflating: dependency_treebank/wsj_0119.dp  \n",
            "  inflating: dependency_treebank/wsj_0092.dp  \n",
            "  inflating: dependency_treebank/wsj_0134.dp  \n",
            "  inflating: dependency_treebank/wsj_0077.dp  \n",
            "  inflating: dependency_treebank/wsj_0060.dp  \n",
            "  inflating: dependency_treebank/wsj_0172.dp  \n",
            "  inflating: dependency_treebank/wsj_0048.dp  \n",
            "  inflating: dependency_treebank/wsj_0030.dp  \n",
            "  inflating: dependency_treebank/wsj_0192.dp  \n",
            "  inflating: dependency_treebank/wsj_0066.dp  \n",
            "  inflating: dependency_treebank/wsj_0045.dp  \n",
            "  inflating: dependency_treebank/wsj_0155.dp  \n",
            "  inflating: dependency_treebank/wsj_0118.dp  \n",
            "  inflating: dependency_treebank/wsj_0152.dp  \n",
            "  inflating: dependency_treebank/wsj_0012.dp  \n",
            "  inflating: dependency_treebank/wsj_0006.dp  \n",
            "  inflating: dependency_treebank/wsj_0159.dp  \n",
            "  inflating: dependency_treebank/wsj_0163.dp  \n",
            "  inflating: dependency_treebank/wsj_0170.dp  \n",
            "  inflating: dependency_treebank/wsj_0141.dp  \n",
            "  inflating: dependency_treebank/wsj_0117.dp  \n",
            "  inflating: dependency_treebank/wsj_0125.dp  \n",
            "  inflating: dependency_treebank/wsj_0094.dp  \n",
            "  inflating: dependency_treebank/wsj_0169.dp  \n",
            "  inflating: dependency_treebank/wsj_0027.dp  \n",
            "  inflating: dependency_treebank/wsj_0010.dp  \n",
            "  inflating: dependency_treebank/wsj_0162.dp  \n",
            "  inflating: dependency_treebank/wsj_0127.dp  \n",
            "  inflating: dependency_treebank/wsj_0142.dp  \n",
            "  inflating: dependency_treebank/wsj_0046.dp  \n",
            "  inflating: dependency_treebank/wsj_0088.dp  \n",
            "  inflating: dependency_treebank/wsj_0079.dp  \n",
            "  inflating: dependency_treebank/wsj_0174.dp  \n",
            "  inflating: dependency_treebank/wsj_0063.dp  \n",
            "  inflating: dependency_treebank/wsj_0023.dp  \n",
            "  inflating: dependency_treebank/wsj_0004.dp  \n",
            "  inflating: dependency_treebank/wsj_0156.dp  \n",
            "  inflating: dependency_treebank/wsj_0133.dp  \n",
            "  inflating: dependency_treebank/wsj_0032.dp  \n",
            "  inflating: dependency_treebank/wsj_0070.dp  \n",
            "  inflating: dependency_treebank/wsj_0154.dp  \n",
            "  inflating: dependency_treebank/wsj_0095.dp  \n",
            "  inflating: dependency_treebank/wsj_0072.dp  \n",
            "  inflating: dependency_treebank/wsj_0183.dp  \n",
            "  inflating: dependency_treebank/wsj_0081.dp  \n",
            "  inflating: dependency_treebank/wsj_0196.dp  \n",
            "  inflating: dependency_treebank/wsj_0062.dp  \n",
            "  inflating: dependency_treebank/wsj_0124.dp  \n",
            "  inflating: dependency_treebank/wsj_0191.dp  \n",
            "  inflating: dependency_treebank/wsj_0013.dp  \n",
            "  inflating: dependency_treebank/wsj_0078.dp  \n",
            "  inflating: dependency_treebank/wsj_0150.dp  \n",
            "  inflating: dependency_treebank/wsj_0049.dp  \n",
            "  inflating: dependency_treebank/wsj_0189.dp  \n",
            "  inflating: dependency_treebank/wsj_0151.dp  \n",
            "  inflating: dependency_treebank/wsj_0193.dp  \n",
            "  inflating: dependency_treebank/wsj_0067.dp  \n",
            "  inflating: dependency_treebank/wsj_0145.dp  \n",
            "  inflating: dependency_treebank/wsj_0139.dp  \n",
            "  inflating: dependency_treebank/wsj_0166.dp  \n",
            "  inflating: dependency_treebank/wsj_0053.dp  \n"
          ]
        }
      ]
    },
    {
      "cell_type": "code",
      "source": [
        "# Gensim is a Python library for topic modelling, document indexing and similarity retrieval with large corpora\n",
        "!pip install gensim"
      ],
      "metadata": {
        "colab": {
          "base_uri": "https://localhost:8080/"
        },
        "id": "Z2r6z__jpAPq",
        "outputId": "4a3b0bfd-e983-4806-a453-1db35e081542"
      },
      "execution_count": 2,
      "outputs": [
        {
          "output_type": "stream",
          "name": "stdout",
          "text": [
            "Looking in indexes: https://pypi.org/simple, https://us-python.pkg.dev/colab-wheels/public/simple/\n",
            "Requirement already satisfied: gensim in /usr/local/lib/python3.8/dist-packages (3.6.0)\n",
            "Requirement already satisfied: six>=1.5.0 in /usr/local/lib/python3.8/dist-packages (from gensim) (1.15.0)\n",
            "Requirement already satisfied: smart-open>=1.2.1 in /usr/local/lib/python3.8/dist-packages (from gensim) (5.2.1)\n",
            "Requirement already satisfied: scipy>=0.18.1 in /usr/local/lib/python3.8/dist-packages (from gensim) (1.7.3)\n",
            "Requirement already satisfied: numpy>=1.11.3 in /usr/local/lib/python3.8/dist-packages (from gensim) (1.21.6)\n"
          ]
        }
      ]
    },
    {
      "cell_type": "code",
      "source": [
        "import pandas as pd\n",
        "import os\n",
        "import string\n",
        "import numpy as np\n",
        "import gensim\n",
        "import gensim.downloader as gloader\n",
        "import os\n",
        "import shutil\n",
        "import random\n",
        "import tensorflow as tf\n",
        "from sklearn.preprocessing import OneHotEncoder\n",
        "from sklearn.metrics import ConfusionMatrixDisplay\n",
        "\n",
        "from keras_preprocessing.sequence import pad_sequences"
      ],
      "metadata": {
        "id": "vnAjuwg4kSgi"
      },
      "execution_count": 3,
      "outputs": []
    },
    {
      "cell_type": "code",
      "source": [
        "!mkdir train_set\n",
        "!mkdir val_set\n",
        "!mkdir test_set"
      ],
      "metadata": {
        "id": "ggavZHbcTUas"
      },
      "execution_count": 4,
      "outputs": []
    },
    {
      "cell_type": "code",
      "source": [
        "seed = 42\n",
        "random.seed(seed)\n",
        "np.random.seed(seed)\n",
        "tf.random.set_seed(seed)\n",
        "os.environ['TF_DETERMINISTIC_OPS'] = '1'"
      ],
      "metadata": {
        "id": "tFUSc77sYi6T"
      },
      "execution_count": 5,
      "outputs": []
    },
    {
      "cell_type": "code",
      "source": [
        "# Move first 100 text file to train\n",
        "for i in range(1, 101):\n",
        "  file_name = \"wsj_\" + (\"0\" * (4 - len(str(i)))) + str(i) + \".dp\"\n",
        "  src_name = os.path.join('/content/dependency_treebank/' + file_name)\n",
        "  trg_name = os.path.join('/content/train_set/' + file_name)\n",
        "  shutil.move(src_name, trg_name)\n",
        "\n",
        "# Move 101-150 text file to val\n",
        "for i in range(101, 151):\n",
        "  file_name = \"wsj_\" + (\"0\" * (4 - len(str(i)))) + str(i) + \".dp\"\n",
        "  src_name = os.path.join('/content/dependency_treebank/' + file_name)\n",
        "  trg_name = os.path.join('/content/val_set/' + file_name)\n",
        "  shutil.move(src_name, trg_name)\n",
        "\n",
        "# Move 151-199 text file to test\n",
        "for i in range(151, 200):\n",
        "  file_name = \"wsj_\" + (\"0\" * (4 - len(str(i)))) + str(i) + \".dp\"\n",
        "  src_name = os.path.join('/content/dependency_treebank/' + file_name)\n",
        "  trg_name = os.path.join('/content/test_set/' + file_name)\n",
        "  shutil.move(src_name, trg_name)\n",
        "\n",
        "!rm -rf \"/content/dependency_treebank\""
      ],
      "metadata": {
        "id": "OAdm2Wechnfg"
      },
      "execution_count": 6,
      "outputs": []
    },
    {
      "cell_type": "code",
      "source": [
        "def create_dataframe(dataset_path):\n",
        "  dataframe_x_rows =  []\n",
        "  dataframe_y_rows = []\n",
        "\n",
        "  sentence_x_row = []\n",
        "  sentence_y_row = []\n",
        "\n",
        "  words = set([])\n",
        "  tags = set([])\n",
        "\n",
        "  for file_name in os.listdir(dataset_path):\n",
        "    file_path = dataset_path + \"/\" + file_name\n",
        "    file_number = file_name.split(\".\")[0].split(\"_\")[1]\n",
        "\n",
        "    with open(file_path, mode='r', encoding='utf-8') as file_text:\n",
        "      lines = file_text.readlines()\n",
        "\n",
        "      for line in lines:\n",
        "        split_line = line.split(\"\\t\")\n",
        "        if len(split_line) > 1:\n",
        "          word = split_line[0].lower()\n",
        "          pos_tag = split_line[1]\n",
        "\n",
        "          words.add(word)\n",
        "          tags.add(pos_tag)\n",
        "\n",
        "          sentence_x_row.append(word)\n",
        "          sentence_y_row.append(pos_tag)\n",
        "\n",
        "          if word == '.' or word == ';':\n",
        "            dataframe_x_rows.append(sentence_x_row)\n",
        "            dataframe_y_rows.append(sentence_y_row)\n",
        "            sentence_x_row = []\n",
        "            sentence_y_row = []\n",
        "\n",
        "  return dataframe_x_rows, dataframe_y_rows, words, tags"
      ],
      "metadata": {
        "id": "VWiOBcY_bsNc"
      },
      "execution_count": 7,
      "outputs": []
    },
    {
      "cell_type": "code",
      "source": [
        "df_train_x, df_train_y, train_words, train_tags = create_dataframe(\"/content/train_set\")"
      ],
      "metadata": {
        "id": "23_GbPw6cBsb"
      },
      "execution_count": 8,
      "outputs": []
    },
    {
      "cell_type": "code",
      "source": [
        "df_val_x, df_val_y, val_words, _ = create_dataframe(\"/content/val_set\")"
      ],
      "metadata": {
        "id": "A7NQ3-kJ3QBX"
      },
      "execution_count": 9,
      "outputs": []
    },
    {
      "cell_type": "code",
      "source": [
        "df_test_x, df_test_y, test_words, _ = create_dataframe(\"/content/test_set\")"
      ],
      "metadata": {
        "id": "wQDqjYB_PlrT"
      },
      "execution_count": 10,
      "outputs": []
    },
    {
      "cell_type": "code",
      "source": [
        "# the current choice is to give an id to each word\n",
        "word2index =  {w: i + 2 for i, w in enumerate(set(list(train_words) + list(val_words) + list(test_words)))}\n",
        "word2index['<PAD>'] = 0\n",
        "word2index['<OOV>'] = 1\n",
        "\n",
        "# same things applies here it is exploited the possibility to assign an id to\n",
        "# tags, but one hot encoding could be performed instead\n",
        "tag2index = {t: i for i, t in enumerate(list(train_tags))}\n",
        "\n",
        "# duplicate words must be removed\n",
        "print(\"Lenght of the complete word dictionary: \" + str(len(word2index.keys()))) \n",
        "print(\"Length of the dictionary of the training set: \" + str(len(train_words)))\n",
        "print(\"Length of the dictionary of the validation set: \" + str(len(val_words)))\n",
        "print(\"Length of the dictionary of the test set: \" + str(len(test_words)))\n",
        "print(\"Total length: \" + str(len(train_words) + len(val_words) + len(test_words)))"
      ],
      "metadata": {
        "id": "SRQKdlcQ8sPq",
        "colab": {
          "base_uri": "https://localhost:8080/"
        },
        "outputId": "e303a1f5-632c-4b77-df30-9e5b1fda8ff9"
      },
      "execution_count": 11,
      "outputs": [
        {
          "output_type": "stream",
          "name": "stdout",
          "text": [
            "Lenght of the complete word dictionary: 10949\n",
            "Length of the dictionary of the training set: 7404\n",
            "Length of the dictionary of the validation set: 5420\n",
            "Length of the dictionary of the test set: 3407\n",
            "Total length: 16231\n"
          ]
        }
      ]
    },
    {
      "cell_type": "code",
      "source": [
        "train_sentences_X, val_sentences_X, train_tags_y, val_tags_y = [], [], [], []\n",
        "\n",
        "# function needed in order to convert each word of each sentence to an index \n",
        "def convert_all_sentences_to_indexes(df_x):\n",
        "  sentences_X = []\n",
        "  for sentence in df_x:\n",
        "    converted_sentence = []\n",
        "    for word in sentence:\n",
        "      try:\n",
        "        converted_sentence.append(word2index[word])\n",
        "      except KeyError:\n",
        "        converted_sentence.append(word2index[\"<OOV>\"])\n",
        "    sentences_X.append(converted_sentence)\n",
        "  return sentences_X\n",
        "\n",
        "train_sentences_X = convert_all_sentences_to_indexes(df_train_x)\n",
        "val_sentences_X = convert_all_sentences_to_indexes(df_val_x)\n",
        "\n",
        "print(f\"shape of train_sentences_X: {(len(train_sentences_X), len(train_sentences_X[0]))}\")\n",
        "print(f\"shape of val_sentences_X: {(len(val_sentences_X), len(val_sentences_X[0]))}\")"
      ],
      "metadata": {
        "id": "APguw-xF6h0c",
        "colab": {
          "base_uri": "https://localhost:8080/"
        },
        "outputId": "b07bd860-3396-40c9-dad4-1ca201562d18"
      },
      "execution_count": 12,
      "outputs": [
        {
          "output_type": "stream",
          "name": "stdout",
          "text": [
            "shape of train_sentences_X: (2023, 30)\n",
            "shape of val_sentences_X: (1323, 24)\n"
          ]
        }
      ]
    },
    {
      "cell_type": "code",
      "source": [
        "# fitting a OneHotEncoder over tags\n",
        "encoder = OneHotEncoder(sparse = False)\n",
        "encoder.fit(np.array(list(train_tags)).reshape(-1, 1))\n",
        "n_classes = len(train_tags)"
      ],
      "metadata": {
        "id": "GYk2JV0-slTL"
      },
      "execution_count": 13,
      "outputs": []
    },
    {
      "cell_type": "code",
      "source": [
        "MAX_LENGTH = len(max(train_sentences_X, key=len))\n",
        "\n",
        "print(\"The maximum length of a sentence in the training set is: \" + str(MAX_LENGTH))"
      ],
      "metadata": {
        "colab": {
          "base_uri": "https://localhost:8080/"
        },
        "id": "L6Z6CFe2Ad3w",
        "outputId": "c0c5e998-258a-42d7-ccf1-a47478bfcee1"
      },
      "execution_count": 14,
      "outputs": [
        {
          "output_type": "stream",
          "name": "stdout",
          "text": [
            "The maximum length of a sentence in the training set is: 67\n"
          ]
        }
      ]
    },
    {
      "cell_type": "code",
      "source": [
        "# converting tags to the associated indexes (we must OneHotEncode even these \n",
        "# tags, if we chose to change method)\n",
        "\n",
        "\"\"\"\n",
        "train_tags_y = [np.array([tag2index[t] for t in s] + [tag2index[s[-1]] for i in range(0,MAX_LENGTH-len(s))]) for s in df_train_y]\n",
        "val_tags_y =[np.array([tag2index[t] for t in s[:MAX_LENGTH]] + [tag2index[s[-1]] for i in range(0,MAX_LENGTH-len(s))]) for s in df_val_y]\n",
        "test_tags_y =[np.array([tag2index[t] for t in s[:MAX_LENGTH]] + [tag2index[s[-1]] for i in range(0,MAX_LENGTH-len(s))]) for s in df_test_y]\n",
        "\"\"\"\n",
        "\n",
        "def convert_to_one_hot(df_y):\n",
        "  converted_one_hot_y = []\n",
        "  for sentence in df_y:\n",
        "    container = np.zeros((MAX_LENGTH, 45))\n",
        "    single_encoded_sentence = encoder.transform(np.array(sentence).reshape(-1, 1))\n",
        "    len_sentence = single_encoded_sentence.shape[0]\n",
        "    if len_sentence >= MAX_LENGTH:\n",
        "      container[:, :] = single_encoded_sentence[:MAX_LENGTH, :]\n",
        "    else:\n",
        "      container[:len_sentence, :] = single_encoded_sentence\n",
        "      container[len_sentence:, :] = single_encoded_sentence[-1, :]\n",
        "    converted_one_hot_y.append(container)\n",
        "  return converted_one_hot_y\n",
        "\n",
        "train_tags_y = convert_to_one_hot(df_train_y)\n",
        "val_tags_y = convert_to_one_hot(df_val_y)\n",
        "test_tags_y = convert_to_one_hot(df_test_y)"
      ],
      "metadata": {
        "id": "4u6LICx2IZBt"
      },
      "execution_count": 15,
      "outputs": []
    },
    {
      "cell_type": "code",
      "source": [
        "# adding a padding to each sentence, since they must have a fixed dimension \n",
        "train_sentences_X = pad_sequences(train_sentences_X, maxlen=MAX_LENGTH, padding='post')\n",
        "val_sentences_X = pad_sequences(val_sentences_X, maxlen=MAX_LENGTH, padding='post')\n",
        "\n",
        "train_tags_y = np.asarray(train_tags_y)\n",
        "val_tags_y = np.asarray(val_tags_y)\n",
        "test_tags_y = np.asarray(test_tags_y)\n",
        "\n",
        "print(f\"shape of train_tags_y: {train_tags_y.shape}\")\n",
        "print(f\"shape of val_tags_y: {val_tags_y.shape}\")\n",
        "print(f\"shape of test_tags_y: {test_tags_y.shape}\")"
      ],
      "metadata": {
        "id": "A2me5GaZAwC7",
        "colab": {
          "base_uri": "https://localhost:8080/"
        },
        "outputId": "dbb84703-e10c-4a2f-ace6-1f78e1b894db"
      },
      "execution_count": 16,
      "outputs": [
        {
          "output_type": "stream",
          "name": "stdout",
          "text": [
            "shape of train_tags_y: (2023, 67, 45)\n",
            "shape of val_tags_y: (1323, 67, 45)\n",
            "shape of test_tags_y: (653, 67, 45)\n"
          ]
        }
      ]
    },
    {
      "cell_type": "code",
      "source": [
        "############### DO NOT DOWNLOAD TWICE ###############\n",
        "#####################################################\n",
        "#####################################################\n",
        "\n",
        "# setting up the embedding model, in our case it is GloVe\n",
        "embedding_dimension = 100\n",
        "embedding_model = gloader.load(\"glove-wiki-gigaword-\" + str(embedding_dimension))"
      ],
      "metadata": {
        "id": "FQSplRwWImUc",
        "outputId": "4a4dec77-d8dd-4cf1-dc91-3545cf462dc5",
        "colab": {
          "base_uri": "https://localhost:8080/"
        }
      },
      "execution_count": 203,
      "outputs": [
        {
          "output_type": "stream",
          "name": "stdout",
          "text": [
            "[==================================================] 100.0% 128.1/128.1MB downloaded\n"
          ]
        }
      ]
    },
    {
      "cell_type": "code",
      "source": [
        "# unclear why we have the number of tokens equal to train words + 2,\n",
        "# one special character should be for the OOV terms, the other one could \n",
        "# be a refuse coming from the fact that we had a PAD term, whose function\n",
        "# was to imitate the behaviour of the masks in the layers of the NN\n",
        "num_tokens = len(word2index.keys()) + 2\n",
        "\n",
        "# construction of the embedding matrix, it is a matrix N_token x E_dim\n",
        "# whose entries are the vectors corresponding to each word in the \n",
        "# embedding space, identified by idx\n",
        "embedding_matrix = np.zeros((num_tokens, embedding_dimension))\n",
        "for word, idx in word2index.items():\n",
        "  try:\n",
        "    embedding_vector = embedding_model[word]\n",
        "  except (KeyError, TypeError):\n",
        "    embedding_vector = np.random.uniform(low=-0.05, high=0.05, size=embedding_dimension) # random placeholder\n",
        "  embedding_matrix[idx] = embedding_vector"
      ],
      "metadata": {
        "id": "pUlRxvgPDyS6"
      },
      "execution_count": 204,
      "outputs": []
    },
    {
      "cell_type": "code",
      "source": [
        "# printing all the tags in order to recognize which of these are punctuation\n",
        "# marks\n",
        "for tag, tag_value in tag2index.items():\n",
        "  print(str(tag_value) + \" \" + tag)"
      ],
      "metadata": {
        "colab": {
          "base_uri": "https://localhost:8080/"
        },
        "id": "Sh9fvkdjaaQG",
        "outputId": "13e94be1-ae1b-4897-ba0d-a64b1466125f"
      },
      "execution_count": 205,
      "outputs": [
        {
          "output_type": "stream",
          "name": "stdout",
          "text": [
            "0 VBD\n",
            "1 SYM\n",
            "2 ,\n",
            "3 VBP\n",
            "4 #\n",
            "5 POS\n",
            "6 RP\n",
            "7 JJ\n",
            "8 IN\n",
            "9 $\n",
            "10 WP$\n",
            "11 PDT\n",
            "12 WRB\n",
            "13 EX\n",
            "14 MD\n",
            "15 JJS\n",
            "16 NNP\n",
            "17 RBR\n",
            "18 FW\n",
            "19 .\n",
            "20 VBN\n",
            "21 JJR\n",
            "22 :\n",
            "23 UH\n",
            "24 NNS\n",
            "25 -LRB-\n",
            "26 -RRB-\n",
            "27 VBZ\n",
            "28 CC\n",
            "29 RBS\n",
            "30 WP\n",
            "31 NN\n",
            "32 VB\n",
            "33 CD\n",
            "34 DT\n",
            "35 WDT\n",
            "36 ``\n",
            "37 PRP$\n",
            "38 ''\n",
            "39 NNPS\n",
            "40 TO\n",
            "41 LS\n",
            "42 VBG\n",
            "43 PRP\n",
            "44 RB\n"
          ]
        }
      ]
    },
    {
      "cell_type": "markdown",
      "source": [
        "# Baseline model"
      ],
      "metadata": {
        "id": "p91SaJgsndpi"
      }
    },
    {
      "cell_type": "code",
      "source": [
        "# function needed to extract the corresponding token from\n",
        "# logits (scores for tokens are predicted as probabilities,\n",
        "# we need to take the maximum and convert it to the corresponding\n",
        "# token label)\n",
        "def logits_to_tokens(sequences, index):\n",
        "    token_sequences = []\n",
        "    for categorical_sequence in sequences:\n",
        "        token_sequence = []\n",
        "        for categorical in categorical_sequence:\n",
        "            token_sequence.append(index[np.argmax(categorical)])\n",
        " \n",
        "        token_sequences.append(token_sequence)\n",
        " \n",
        "    return token_sequences\n",
        "\n",
        "# function needed to extract the categorical vector from a sequence\n",
        "def to_categorical(sequences, categories):\n",
        "    cat_sequences = []\n",
        "    for s in sequences:\n",
        "        cats = []\n",
        "        for item in s:\n",
        "            cats.append(np.zeros(categories))\n",
        "            cats[-1][item] = 1.0\n",
        "        cat_sequences.append(cats)\n",
        "    return np.array(cat_sequences)"
      ],
      "metadata": {
        "id": "Sdkn_G2Gbwhe"
      },
      "execution_count": 206,
      "outputs": []
    },
    {
      "cell_type": "code",
      "source": [
        "# simple block to plot the distribution of the tags in the training dataset\n",
        "import matplotlib.pyplot as plt\n",
        "%matplotlib inline\n",
        "\n",
        "flatten_y = [word for sentence in df_train_y for word in sentence]\n",
        "\n",
        "plt.figure(figsize=(30, 15))\n",
        "plt.hist(flatten_y, bins=\"auto\", log=True, rwidth=0.7);"
      ],
      "metadata": {
        "id": "zEyoja7Mhkb8",
        "colab": {
          "base_uri": "https://localhost:8080/",
          "height": 863
        },
        "outputId": "6e1bf9aa-a462-4a22-ba65-640b513a25a8"
      },
      "execution_count": 207,
      "outputs": [
        {
          "output_type": "display_data",
          "data": {
            "text/plain": [
              "<Figure size 2160x1080 with 1 Axes>"
            ],
            "image/png": "[encoded data removed]"
          },
          "metadata": {
            "needs_background": "light"
          }
        }
      ]
    },
    {
      "cell_type": "code",
      "source": [
        "# construction of a test sentence in the format accepted by the model\n",
        "test_sentences_X = []\n",
        "test_sentences_X = convert_all_sentences_to_indexes(df_test_x)\n",
        "test_sentences_X = pad_sequences(test_sentences_X, maxlen=MAX_LENGTH, padding='post')\n"
      ],
      "metadata": {
        "id": "D3V1so41PkHP"
      },
      "execution_count": 208,
      "outputs": []
    },
    {
      "cell_type": "code",
      "source": [
        "# plotting function needed to show bias and variance of the fitted network\n",
        "import matplotlib.pyplot as plt\n",
        "from sklearn.metrics import f1_score, accuracy_score\n",
        "from functools import partial\n",
        "import random\n",
        "\n",
        "def show_history(history: tf.keras.callbacks.History):\n",
        "    \"\"\"\n",
        "    Shows training history data stored by the History Keras callback\n",
        "\n",
        "    :param history: History Keras callback\n",
        "    \"\"\"\n",
        "    history_data = history.history\n",
        "\n",
        "    for key, value in history_data.items():\n",
        "        if not key.startswith('val'):\n",
        "            fig, ax = plt.subplots(1, 1)\n",
        "            ax.set_title(key)\n",
        "            ax.plot(value)\n",
        "            if f'val_{key}' in history_data:\n",
        "                ax.plot(history_data[f'val_{key}'])\n",
        "            else:\n",
        "                print(f\"Couldn't find validation values for metric: {key}\")\n",
        "\n",
        "            ax.set_ylabel(key)\n",
        "            ax.set_xlabel('epoch')\n",
        "            ax.legend(['train', 'val'], loc='best')\n",
        "    plt.show()"
      ],
      "metadata": {
        "id": "sWhy_MOd1eIr"
      },
      "execution_count": 209,
      "outputs": []
    },
    {
      "cell_type": "code",
      "source": [
        "# Construction of the model, an attempt at modelling this as a class was\n",
        "# performed, but it presented problems, so it was modeled as the output of\n",
        "# a single function\n",
        "from keras.layers import Input, Embedding, Bidirectional, LSTM, Dense, TimeDistributed, Activation, GRU\n",
        "from keras.models import Model\n",
        "\n",
        "\n",
        "# one lstm                                  -> (0.80 f1-macro lr: 1e-3) (Uppercase enabled) \n",
        "# two lstm                                  -> (0.80 f1-macro lr: 1e-3) (Uppercase enabled)\n",
        "# lstm + two dense (first td 200)           -> (0.14 f1-macro lr: 1e-3 200 epochs) (0.18 f1-macro lr: 1e-3 287 epochs both time distributed) (Uppercase enabled) not so good solution\n",
        "# lstm + two dense two dense (first td 100) -> (0.40 f1-macro lr: 1e-2 100 epochs both time distributed) (Uppercase enabled)\n",
        "# lstm + two dense (first td 100)           -> (0.45 f1-macro lr: 1e-2 100 epochs only the first one is time distributed) (Uppercase enabled)\n",
        "# lstm + two dense (first td 100)           -> (0.43 f1-macro lr: 1e-2 100 epochs only the last one is time distributed) (Uppercase enabled)\n",
        "# one gru                                   -> (0.83 f1-macro lr: 1e-3 100 epochs) (Uppercase enabled)\n",
        "\n",
        "# one lstm                              -> (0.83 f1-macro lr: 1e-3) (Lowercase enabled) \n",
        "# two lstm                              -> (0.81 f1-macro lr: 1e-3) (Lowercase enabled)\n",
        "# two dense (first td 100)              -> (0.41 f1-macro lr: 1e-2 100 epochs only the first one is time distributed) (Lowercase enabled)\n",
        "# two dense (first td 100)              -> (0.62 f1-macro lr: 1e-2 100 epochs both time distributed) (Lowercase enabled)\n",
        "# one gru                               -> (0.87  f1-macro lr: 1e-3 100 epochs) (Lowercase enabled)\n",
        "\n",
        "# one lstm  200d                            -> (0.83 f1-macro lr: 1e-3) (Lowercase enabled) \n",
        "#                                           -> (0.83 f1-macro lr: 1e-2) \n",
        "# two lstm 200d                             -> (0.81 f1-macro lr: 1e-3) (Lowercase enabled)\n",
        "#                                           -> (0.81 f1-macro lr: 1e-2) \n",
        "# two dense (first td 200)  200d            -> (0.61 f1-macro lr: 1e-2 100epochs both time distributed, the first is 200) (Lowercase enabled)\n",
        "# one gru 200d                              -> (0.85  f1-macro lr: 1e-3 100 epochs) (Lowercase enabled)\n",
        "#                                           -> (0.83 f1-macro lr: 1e-2) //\n",
        "\n",
        "# one lstm  300d                            -> (0.82 f1-macro lr: 1e-3) (Lowercase enabled) \n",
        "#                                           -> (0.85 f1-macro lr: 1e-2) // - NNPS better\n",
        "# two lstm 300d                             -> (0.79 f1-macro lr: 1e-3) (Lowercase enabled)\n",
        "#                                           -> (0.84 f1-macro lr: 1e-2) // \n",
        "#                                           -> (0.79 f1-macro lr: 1e-2) // 150->100\n",
        "# two dense (first td 200)  300d            -> (0.49 f1-macro lr: 1e-2 100 epochs both time distributed, the first is 200) (Lowercase enabled)\n",
        "# one gru 300d                              -> (0.83  f1-macro lr: 1e-3 100 epochs) (Lowercase enabled)\n",
        "#                                           -> (0.85 f1-macro lr: 1e-2) //\n",
        "def build_model(num_tokens, embedding_dimension, embedding_matrix):\n",
        "    input = Input(shape=(None,), dtype=\"int32\")\n",
        "    x = Embedding(num_tokens,\n",
        "                  embedding_dimension,\n",
        "                  embeddings_initializer=tf.keras.initializers.Constant(embedding_matrix),\n",
        "                  trainable=False,\n",
        "                  mask_zero=True)(input)\n",
        "    x = Bidirectional(LSTM(100, return_sequences = True))(x)\n",
        "    # x = Bidirectional(LSTM(100, return_sequences = True))(x)\n",
        "    # x = Bidirectional(GRU(100, return_sequences=True))(x)\n",
        "    # x = Bidirectional(LSTM(100, return_sequences=True))(x)\n",
        "    x = TimeDistributed(Dense(200, activation=\"softmax\"))(x)\n",
        "    x = TimeDistributed(Dense(n_classes, activation=\"softmax\"))(x)\n",
        "    return Model(input, x)\n",
        "\n",
        " \n",
        "print(num_tokens)\n",
        "print(embedding_dimension)\n",
        "model = build_model(num_tokens, embedding_dimension, embedding_matrix)\n",
        "# learning rate scheduling could be a thing when we are satisfied with the\n",
        "# model performances\n",
        "learning_rate_val = 1e-2\n",
        "model.compile(loss=\"categorical_crossentropy\",\n",
        "              optimizer=tf.keras.optimizers.Adam(learning_rate_val),\n",
        "              metrics=['accuracy'])\n",
        "\n",
        "model.summary()"
      ],
      "metadata": {
        "colab": {
          "base_uri": "https://localhost:8080/"
        },
        "id": "fVJdOa7DMJ6s",
        "outputId": "afe0b2b7-2f16-4b05-aee2-9bcebf7bfd86"
      },
      "execution_count": 218,
      "outputs": [
        {
          "output_type": "stream",
          "name": "stdout",
          "text": [
            "10951\n",
            "100\n",
            "Model: \"model_34\"\n",
            "_________________________________________________________________\n",
            " Layer (type)                Output Shape              Param #   \n",
            "=================================================================\n",
            " input_35 (InputLayer)       [(None, None)]            0         \n",
            "                                                                 \n",
            " embedding_34 (Embedding)    (None, None, 100)         1095100   \n",
            "                                                                 \n",
            " bidirectional_42 (Bidirecti  (None, None, 200)        160800    \n",
            " onal)                                                           \n",
            "                                                                 \n",
            " time_distributed_39 (TimeDi  (None, None, 200)        40200     \n",
            " stributed)                                                      \n",
            "                                                                 \n",
            " time_distributed_40 (TimeDi  (None, None, 45)         9045      \n",
            " stributed)                                                      \n",
            "                                                                 \n",
            "=================================================================\n",
            "Total params: 1,305,145\n",
            "Trainable params: 210,045\n",
            "Non-trainable params: 1,095,100\n",
            "_________________________________________________________________\n"
          ]
        }
      ]
    },
    {
      "cell_type": "code",
      "source": [
        "# training block, here we gotta tweak the parameters\n",
        "training_info = {\n",
        "    'verbose': 1,\n",
        "    'epochs': 100,\n",
        "    'batch_size': 64,\n",
        "}\n",
        "\n",
        "\n",
        "def step_scheduler(epoch, lr): # insight: bad results for this task\n",
        "  if epoch>1 and epoch % 20 == 0:\n",
        "    return lr/2\n",
        "  else: \n",
        "    return lr\n",
        "\n",
        "def linear_scheduler(epoch, lr): # insight: bad results for this task\n",
        "  final_learning_rate = 0 \n",
        "  lr_to_return = final_learning_rate + (learning_rate_val - final_learning_rate) * (1 - epoch/training_info[\"epochs\"])\n",
        "  return lr_to_return\n",
        "\n",
        "\n",
        "def warmup_scheduler(epoch, lr):\n",
        "  starting_ones = 5\n",
        "  if epoch < starting_ones:\n",
        "    return 1e-3\n",
        "  elif epoch == starting_ones:  \n",
        "    return step_scheduler(epoch, learning_rate_val)\n",
        "  else:\n",
        "    return step_scheduler(epoch, lr)\n",
        "\n",
        "\n",
        "pat = 10 #setting the patience value\n",
        "es = tf.keras.callbacks.EarlyStopping(monitor='val_loss', patience=pat, min_delta=1e-4, restore_best_weights=True)\n",
        "scheduler_verbose_par = 1\n",
        "scheduler = tf.keras.callbacks.LearningRateScheduler(warmup_scheduler, scheduler_verbose_par)\n",
        "\n",
        "print(f\"Start training! \\nParameters: {training_info}\")\n",
        "history = model.fit(x=train_sentences_X,\n",
        "                    y=train_tags_y,\n",
        "                    validation_data=(val_sentences_X, \n",
        "                                     val_tags_y),\n",
        "                    callbacks = [es],#[scheduler, es],\n",
        "                    **training_info)"
      ],
      "metadata": {
        "colab": {
          "base_uri": "https://localhost:8080/"
        },
        "id": "XvumXGpSoQNd",
        "outputId": "48495504-61c3-4589-f544-8c9c2d3d567e"
      },
      "execution_count": 219,
      "outputs": [
        {
          "output_type": "stream",
          "name": "stdout",
          "text": [
            "Start training! \n",
            "Parameters: {'verbose': 1, 'epochs': 100, 'batch_size': 64}\n",
            "Epoch 1/100\n",
            "32/32 [==============================] - 10s 104ms/step - loss: 1.2163 - accuracy: 0.2258 - val_loss: 1.1117 - val_accuracy: 0.3579\n",
            "Epoch 2/100\n",
            "32/32 [==============================] - 1s 25ms/step - loss: 1.0134 - accuracy: 0.3821 - val_loss: 0.9382 - val_accuracy: 0.3791\n",
            "Epoch 3/100\n",
            "32/32 [==============================] - 1s 24ms/step - loss: 0.8674 - accuracy: 0.4022 - val_loss: 0.8323 - val_accuracy: 0.3839\n",
            "Epoch 4/100\n",
            "32/32 [==============================] - 1s 25ms/step - loss: 0.7775 - accuracy: 0.4098 - val_loss: 0.7649 - val_accuracy: 0.3945\n",
            "Epoch 5/100\n",
            "32/32 [==============================] - 1s 24ms/step - loss: 0.7194 - accuracy: 0.4172 - val_loss: 0.7271 - val_accuracy: 0.3942\n",
            "Epoch 6/100\n",
            "32/32 [==============================] - 1s 23ms/step - loss: 0.6796 - accuracy: 0.4232 - val_loss: 0.6963 - val_accuracy: 0.4011\n",
            "Epoch 7/100\n",
            "32/32 [==============================] - 1s 25ms/step - loss: 0.6482 - accuracy: 0.4284 - val_loss: 0.6748 - val_accuracy: 0.4043\n",
            "Epoch 8/100\n",
            "32/32 [==============================] - 1s 24ms/step - loss: 0.6247 - accuracy: 0.4309 - val_loss: 0.6557 - val_accuracy: 0.4040\n",
            "Epoch 9/100\n",
            "32/32 [==============================] - 1s 24ms/step - loss: 0.6067 - accuracy: 0.4327 - val_loss: 0.6427 - val_accuracy: 0.4061\n",
            "Epoch 10/100\n",
            "32/32 [==============================] - 1s 24ms/step - loss: 0.5923 - accuracy: 0.4355 - val_loss: 0.6329 - val_accuracy: 0.4060\n",
            "Epoch 11/100\n",
            "32/32 [==============================] - 1s 24ms/step - loss: 0.5812 - accuracy: 0.4364 - val_loss: 0.6287 - val_accuracy: 0.4049\n",
            "Epoch 12/100\n",
            "32/32 [==============================] - 1s 24ms/step - loss: 0.5720 - accuracy: 0.4402 - val_loss: 0.6191 - val_accuracy: 0.4080\n",
            "Epoch 13/100\n",
            "32/32 [==============================] - 1s 24ms/step - loss: 0.5630 - accuracy: 0.4428 - val_loss: 0.6127 - val_accuracy: 0.4115\n",
            "Epoch 14/100\n",
            "32/32 [==============================] - 1s 24ms/step - loss: 0.5528 - accuracy: 0.4517 - val_loss: 0.6049 - val_accuracy: 0.4217\n",
            "Epoch 15/100\n",
            "32/32 [==============================] - 1s 25ms/step - loss: 0.5430 - accuracy: 0.4580 - val_loss: 0.5940 - val_accuracy: 0.4293\n",
            "Epoch 16/100\n",
            "32/32 [==============================] - 1s 24ms/step - loss: 0.5313 - accuracy: 0.4712 - val_loss: 0.5853 - val_accuracy: 0.4347\n",
            "Epoch 17/100\n",
            "32/32 [==============================] - 1s 24ms/step - loss: 0.5214 - accuracy: 0.4802 - val_loss: 0.5740 - val_accuracy: 0.4433\n",
            "Epoch 18/100\n",
            "32/32 [==============================] - 1s 25ms/step - loss: 0.5067 - accuracy: 0.4865 - val_loss: 0.5575 - val_accuracy: 0.4476\n",
            "Epoch 19/100\n",
            "32/32 [==============================] - 1s 25ms/step - loss: 0.4862 - accuracy: 0.5060 - val_loss: 0.5423 - val_accuracy: 0.4636\n",
            "Epoch 20/100\n",
            "32/32 [==============================] - 1s 25ms/step - loss: 0.4652 - accuracy: 0.5336 - val_loss: 0.5214 - val_accuracy: 0.4978\n",
            "Epoch 21/100\n",
            "32/32 [==============================] - 1s 26ms/step - loss: 0.4413 - accuracy: 0.5761 - val_loss: 0.5013 - val_accuracy: 0.5487\n",
            "Epoch 22/100\n",
            "32/32 [==============================] - 1s 24ms/step - loss: 0.4184 - accuracy: 0.6468 - val_loss: 0.4742 - val_accuracy: 0.6360\n",
            "Epoch 23/100\n",
            "32/32 [==============================] - 1s 24ms/step - loss: 0.3907 - accuracy: 0.7017 - val_loss: 0.4453 - val_accuracy: 0.6582\n",
            "Epoch 24/100\n",
            "32/32 [==============================] - 1s 23ms/step - loss: 0.3545 - accuracy: 0.7427 - val_loss: 0.4205 - val_accuracy: 0.6773\n",
            "Epoch 25/100\n",
            "32/32 [==============================] - 1s 23ms/step - loss: 0.3309 - accuracy: 0.7591 - val_loss: 0.4037 - val_accuracy: 0.6964\n",
            "Epoch 26/100\n",
            "32/32 [==============================] - 1s 24ms/step - loss: 0.3120 - accuracy: 0.7766 - val_loss: 0.3906 - val_accuracy: 0.7026\n",
            "Epoch 27/100\n",
            "32/32 [==============================] - 1s 26ms/step - loss: 0.2977 - accuracy: 0.7862 - val_loss: 0.3852 - val_accuracy: 0.7066\n",
            "Epoch 28/100\n",
            "32/32 [==============================] - 1s 26ms/step - loss: 0.2861 - accuracy: 0.7919 - val_loss: 0.3757 - val_accuracy: 0.7096\n",
            "Epoch 29/100\n",
            "32/32 [==============================] - 1s 24ms/step - loss: 0.2740 - accuracy: 0.7979 - val_loss: 0.3651 - val_accuracy: 0.7260\n",
            "Epoch 30/100\n",
            "32/32 [==============================] - 1s 25ms/step - loss: 0.2530 - accuracy: 0.8219 - val_loss: 0.3473 - val_accuracy: 0.7447\n",
            "Epoch 31/100\n",
            "32/32 [==============================] - 1s 25ms/step - loss: 0.2368 - accuracy: 0.8274 - val_loss: 0.3351 - val_accuracy: 0.7498\n",
            "Epoch 32/100\n",
            "32/32 [==============================] - 1s 24ms/step - loss: 0.2252 - accuracy: 0.8305 - val_loss: 0.3298 - val_accuracy: 0.7503\n",
            "Epoch 33/100\n",
            "32/32 [==============================] - 1s 23ms/step - loss: 0.2165 - accuracy: 0.8342 - val_loss: 0.3261 - val_accuracy: 0.7518\n",
            "Epoch 34/100\n",
            "32/32 [==============================] - 1s 25ms/step - loss: 0.2098 - accuracy: 0.8371 - val_loss: 0.3281 - val_accuracy: 0.7465\n",
            "Epoch 35/100\n",
            "32/32 [==============================] - 1s 24ms/step - loss: 0.2042 - accuracy: 0.8373 - val_loss: 0.3212 - val_accuracy: 0.7502\n",
            "Epoch 36/100\n",
            "32/32 [==============================] - 1s 24ms/step - loss: 0.1968 - accuracy: 0.8437 - val_loss: 0.3169 - val_accuracy: 0.7548\n",
            "Epoch 37/100\n",
            "32/32 [==============================] - 1s 23ms/step - loss: 0.1888 - accuracy: 0.8524 - val_loss: 0.3119 - val_accuracy: 0.7619\n",
            "Epoch 38/100\n",
            "32/32 [==============================] - 1s 24ms/step - loss: 0.1832 - accuracy: 0.8612 - val_loss: 0.3112 - val_accuracy: 0.7665\n",
            "Epoch 39/100\n",
            "32/32 [==============================] - 1s 23ms/step - loss: 0.1778 - accuracy: 0.8636 - val_loss: 0.3099 - val_accuracy: 0.7683\n",
            "Epoch 40/100\n",
            "32/32 [==============================] - 1s 24ms/step - loss: 0.1731 - accuracy: 0.8699 - val_loss: 0.3073 - val_accuracy: 0.7687\n",
            "Epoch 41/100\n",
            "32/32 [==============================] - 1s 24ms/step - loss: 0.1687 - accuracy: 0.8727 - val_loss: 0.3067 - val_accuracy: 0.7687\n",
            "Epoch 42/100\n",
            "32/32 [==============================] - 1s 24ms/step - loss: 0.1647 - accuracy: 0.8763 - val_loss: 0.3059 - val_accuracy: 0.7702\n",
            "Epoch 43/100\n",
            "32/32 [==============================] - 1s 23ms/step - loss: 0.1601 - accuracy: 0.8815 - val_loss: 0.3042 - val_accuracy: 0.7754\n",
            "Epoch 44/100\n",
            "32/32 [==============================] - 1s 24ms/step - loss: 0.1563 - accuracy: 0.8828 - val_loss: 0.3074 - val_accuracy: 0.7689\n",
            "Epoch 45/100\n",
            "32/32 [==============================] - 1s 24ms/step - loss: 0.1541 - accuracy: 0.8878 - val_loss: 0.3053 - val_accuracy: 0.7739\n",
            "Epoch 46/100\n",
            "32/32 [==============================] - 1s 24ms/step - loss: 0.1501 - accuracy: 0.8872 - val_loss: 0.3054 - val_accuracy: 0.7706\n",
            "Epoch 47/100\n",
            "32/32 [==============================] - 1s 24ms/step - loss: 0.1459 - accuracy: 0.8959 - val_loss: 0.3023 - val_accuracy: 0.7824\n",
            "Epoch 48/100\n",
            "32/32 [==============================] - 1s 24ms/step - loss: 0.1415 - accuracy: 0.8980 - val_loss: 0.3012 - val_accuracy: 0.7860\n",
            "Epoch 49/100\n",
            "32/32 [==============================] - 1s 23ms/step - loss: 0.1382 - accuracy: 0.9034 - val_loss: 0.3014 - val_accuracy: 0.7857\n",
            "Epoch 50/100\n",
            "32/32 [==============================] - 1s 24ms/step - loss: 0.1356 - accuracy: 0.9035 - val_loss: 0.3000 - val_accuracy: 0.7853\n",
            "Epoch 51/100\n",
            "32/32 [==============================] - 1s 24ms/step - loss: 0.1325 - accuracy: 0.9089 - val_loss: 0.3007 - val_accuracy: 0.7893\n",
            "Epoch 52/100\n",
            "32/32 [==============================] - 1s 24ms/step - loss: 0.1306 - accuracy: 0.9094 - val_loss: 0.3010 - val_accuracy: 0.7880\n",
            "Epoch 53/100\n",
            "32/32 [==============================] - 1s 23ms/step - loss: 0.1284 - accuracy: 0.9126 - val_loss: 0.3021 - val_accuracy: 0.7865\n",
            "Epoch 54/100\n",
            "32/32 [==============================] - 1s 24ms/step - loss: 0.1249 - accuracy: 0.9170 - val_loss: 0.3006 - val_accuracy: 0.7939\n",
            "Epoch 55/100\n",
            "32/32 [==============================] - 1s 24ms/step - loss: 0.1221 - accuracy: 0.9235 - val_loss: 0.2961 - val_accuracy: 0.7957\n",
            "Epoch 56/100\n",
            "32/32 [==============================] - 1s 24ms/step - loss: 0.1199 - accuracy: 0.9273 - val_loss: 0.2983 - val_accuracy: 0.8033\n",
            "Epoch 57/100\n",
            "32/32 [==============================] - 1s 23ms/step - loss: 0.1163 - accuracy: 0.9362 - val_loss: 0.2918 - val_accuracy: 0.8135\n",
            "Epoch 58/100\n",
            "32/32 [==============================] - 1s 24ms/step - loss: 0.1114 - accuracy: 0.9417 - val_loss: 0.2948 - val_accuracy: 0.8108\n",
            "Epoch 59/100\n",
            "32/32 [==============================] - 1s 24ms/step - loss: 0.1068 - accuracy: 0.9454 - val_loss: 0.2900 - val_accuracy: 0.8198\n",
            "Epoch 60/100\n",
            "32/32 [==============================] - 1s 29ms/step - loss: 0.1022 - accuracy: 0.9486 - val_loss: 0.2880 - val_accuracy: 0.8183\n",
            "Epoch 61/100\n",
            "32/32 [==============================] - 1s 25ms/step - loss: 0.0989 - accuracy: 0.9503 - val_loss: 0.2866 - val_accuracy: 0.8199\n",
            "Epoch 62/100\n",
            "32/32 [==============================] - 1s 23ms/step - loss: 0.0951 - accuracy: 0.9511 - val_loss: 0.2833 - val_accuracy: 0.8223\n",
            "Epoch 63/100\n",
            "32/32 [==============================] - 1s 25ms/step - loss: 0.0909 - accuracy: 0.9527 - val_loss: 0.2823 - val_accuracy: 0.8207\n",
            "Epoch 64/100\n",
            "32/32 [==============================] - 1s 24ms/step - loss: 0.0867 - accuracy: 0.9536 - val_loss: 0.2807 - val_accuracy: 0.8209\n",
            "Epoch 65/100\n",
            "32/32 [==============================] - 1s 24ms/step - loss: 0.0830 - accuracy: 0.9541 - val_loss: 0.2798 - val_accuracy: 0.8220\n",
            "Epoch 66/100\n",
            "32/32 [==============================] - 1s 23ms/step - loss: 0.0798 - accuracy: 0.9681 - val_loss: 0.2828 - val_accuracy: 0.8426\n",
            "Epoch 67/100\n",
            "32/32 [==============================] - 1s 25ms/step - loss: 0.0769 - accuracy: 0.9762 - val_loss: 0.2814 - val_accuracy: 0.8430\n",
            "Epoch 68/100\n",
            "32/32 [==============================] - 1s 25ms/step - loss: 0.0742 - accuracy: 0.9770 - val_loss: 0.2786 - val_accuracy: 0.8456\n",
            "Epoch 69/100\n",
            "32/32 [==============================] - 1s 24ms/step - loss: 0.0720 - accuracy: 0.9765 - val_loss: 0.2798 - val_accuracy: 0.8465\n",
            "Epoch 70/100\n",
            "32/32 [==============================] - 1s 23ms/step - loss: 0.0696 - accuracy: 0.9769 - val_loss: 0.2791 - val_accuracy: 0.8451\n",
            "Epoch 71/100\n",
            "32/32 [==============================] - 1s 24ms/step - loss: 0.0672 - accuracy: 0.9777 - val_loss: 0.2792 - val_accuracy: 0.8444\n",
            "Epoch 72/100\n",
            "32/32 [==============================] - 1s 24ms/step - loss: 0.0656 - accuracy: 0.9777 - val_loss: 0.2793 - val_accuracy: 0.8456\n",
            "Epoch 73/100\n",
            "32/32 [==============================] - 1s 24ms/step - loss: 0.0636 - accuracy: 0.9781 - val_loss: 0.2772 - val_accuracy: 0.8467\n",
            "Epoch 74/100\n",
            "32/32 [==============================] - 1s 24ms/step - loss: 0.0617 - accuracy: 0.9784 - val_loss: 0.2793 - val_accuracy: 0.8452\n",
            "Epoch 75/100\n",
            "32/32 [==============================] - 1s 24ms/step - loss: 0.0610 - accuracy: 0.9789 - val_loss: 0.2786 - val_accuracy: 0.8462\n",
            "Epoch 76/100\n",
            "32/32 [==============================] - 1s 24ms/step - loss: 0.0592 - accuracy: 0.9788 - val_loss: 0.2832 - val_accuracy: 0.8422\n",
            "Epoch 77/100\n",
            "32/32 [==============================] - 1s 23ms/step - loss: 0.0577 - accuracy: 0.9793 - val_loss: 0.2814 - val_accuracy: 0.8449\n",
            "Epoch 78/100\n",
            "32/32 [==============================] - 1s 24ms/step - loss: 0.0573 - accuracy: 0.9794 - val_loss: 0.2843 - val_accuracy: 0.8412\n",
            "Epoch 79/100\n",
            "32/32 [==============================] - 1s 24ms/step - loss: 0.0557 - accuracy: 0.9798 - val_loss: 0.2812 - val_accuracy: 0.8447\n",
            "Epoch 80/100\n",
            "32/32 [==============================] - 1s 24ms/step - loss: 0.0545 - accuracy: 0.9802 - val_loss: 0.2803 - val_accuracy: 0.8471\n",
            "Epoch 81/100\n",
            "32/32 [==============================] - 1s 24ms/step - loss: 0.0528 - accuracy: 0.9808 - val_loss: 0.2782 - val_accuracy: 0.8480\n",
            "Epoch 82/100\n",
            "32/32 [==============================] - 1s 24ms/step - loss: 0.0517 - accuracy: 0.9814 - val_loss: 0.2824 - val_accuracy: 0.8453\n",
            "Epoch 83/100\n",
            "32/32 [==============================] - 1s 24ms/step - loss: 0.0505 - accuracy: 0.9820 - val_loss: 0.2840 - val_accuracy: 0.8463\n"
          ]
        }
      ]
    },
    {
      "cell_type": "code",
      "source": [
        "show_history(history)"
      ],
      "metadata": {
        "id": "eBAho2GhoTzV",
        "colab": {
          "base_uri": "https://localhost:8080/",
          "height": 573
        },
        "outputId": "875a9a8b-8ea5-4bca-cc99-d13858e25fb4"
      },
      "execution_count": 160,
      "outputs": [
        {
          "output_type": "display_data",
          "data": {
            "text/plain": [
              "<Figure size 432x288 with 1 Axes>"
            ],
            "image/png": "[encoded data removed]"
          },
          "metadata": {
            "needs_background": "light"
          }
        },
        {
          "output_type": "display_data",
          "data": {
            "text/plain": [
              "<Figure size 432x288 with 1 Axes>"
            ],
            "image/png": "[encoded data removed]"
          },
          "metadata": {
            "needs_background": "light"
          }
        }
      ]
    },
    {
      "cell_type": "code",
      "source": [
        "# the following blocks are all needed in order to compute the classification\n",
        "# report and thus the F1-macro score, the punctuation classes must\n",
        "# be excluded in the computation of the scores\n",
        "from sklearn.metrics import f1_score, classification_report, confusion_matrix\n",
        "\n",
        "pred = model.predict(test_sentences_X)\n",
        "\n",
        "print(pred.shape)"
      ],
      "metadata": {
        "colab": {
          "base_uri": "https://localhost:8080/"
        },
        "id": "Q9J8jKLWp3vJ",
        "outputId": "d89340b1-891a-49fa-d095-69aa7b7498de"
      },
      "execution_count": 220,
      "outputs": [
        {
          "output_type": "stream",
          "name": "stdout",
          "text": [
            "21/21 [==============================] - 2s 6ms/step\n",
            "(653, 67, 45)\n"
          ]
        }
      ]
    },
    {
      "cell_type": "code",
      "source": [
        "def convert_labels(e):\n",
        "  # set the highest value to 1\n",
        "  e[np.argmax(e)]=1\n",
        "  # set the rest to 0\n",
        "  e[e!=1]=0\n",
        "  return e\n",
        "\n",
        "def reduce_results(test, y_true, y_pred):\n",
        "  to_suppress = np.array([\"\\'\\'\", \"-RRB-\", \".\", \n",
        "                          \":\", \",\", \"-LRB-\", \"``\", \n",
        "                          \"#\", \"$\"]).reshape(-1, 1)\n",
        "  #print(to_suppress)\n",
        "  encoded_punct = encoder.transform(to_suppress)\n",
        "  #print(encoded_punct)\n",
        "  verylonglist_pred = []\n",
        "  verylonglist_true = []\n",
        "  j = 0\n",
        "  for e in test:\n",
        "    maxlen = min(len(e), MAX_LENGTH)\n",
        "    for i in range(0,maxlen):\n",
        "      #print(y_true[j][i])\n",
        "      dec_y_true = encoder.inverse_transform(np.array(y_true[j][i]).reshape(1, -1))\n",
        "      #if dec_y_true not in to_suppress:\n",
        "      verylonglist_pred.append(convert_labels(y_pred[j][i]))\n",
        "      verylonglist_true.append(y_true[j][i])\n",
        "    j = j + 1 \n",
        "  #verylonglist_true = encoder.transform(verylonglist_true)\n",
        "  #verylonglist_pred = encoder.transform(verylonglist_pred)  \n",
        "  return verylonglist_true, verylonglist_pred\n",
        "\n",
        "\n",
        "def custom_f1(true_y, pred_y, excluded_true_labels):\n",
        "  labels = list(encoder.categories_[0])\n",
        "  cm = confusion_matrix(true_y, pred_y, labels=labels)\n",
        "  f1 = 0\n",
        "  label_counter = 0\n",
        "  for i in range(len(labels)):\n",
        "    if not labels[i] in excluded_true_labels:\n",
        "      tp = cm[i,i] \n",
        "      fp = sum(cm[:,i]) - tp\n",
        "      fn = sum(cm[i,:]) - tp\n",
        "      if tp!= 0:\n",
        "        recall = tp/(tp+fn)\n",
        "        precision = tp/(tp+fp)\n",
        "        f1 += 2*(recall*precision)/(recall+precision)\n",
        "      elif fp==0 and fn == 0:\n",
        "        continue\n",
        "      label_counter += 1\n",
        "  return f1/label_counter ##\n"
      ],
      "metadata": {
        "id": "EY3PKKF-xUFl"
      },
      "execution_count": 180,
      "outputs": []
    },
    {
      "cell_type": "code",
      "source": [
        "true_y, pred_y = reduce_results(df_test_x, test_tags_y, pred)\n",
        "true_y = encoder.inverse_transform(true_y)\n",
        "pred_y = encoder.inverse_transform(pred_y)\n",
        "\n",
        "to_suppress = np.array([\"\\'\\'\", \"-RRB-\", \".\", \n",
        "                          \":\", \",\", \"-LRB-\", \"``\", \n",
        "                          \"#\", \"$\"])\n",
        "not_missing = np.unique(np.array(list(np.concatenate(df_test_y).flat)))\n",
        "# exclude tokens which labels are punctuation classes\n",
        "new_cat = [encoder.categories_[0][i] for i in range(0, len(encoder.categories_[0])) if encoder.categories_[0][i] not in to_suppress and encoder.categories_[0][i] in not_missing ]\n",
        "\n",
        "fig, ax = plt.subplots(figsize=(20, 20))\n",
        "ConfusionMatrixDisplay.from_predictions(true_y, pred_y, ax=ax, labels=list(new_cat))#encoder.categories_[0]))\n",
        "print(classification_report(true_y,pred_y, labels = new_cat))\n",
        "print(custom_f1(true_y, pred_y, list(to_suppress)))"
      ],
      "metadata": {
        "id": "NhcI5B9Nv_vl",
        "outputId": "b2336a5c-9a68-475b-a612-eb0b2b83b439",
        "colab": {
          "base_uri": "https://localhost:8080/",
          "height": 1000
        }
      },
      "execution_count": 221,
      "outputs": [
        {
          "output_type": "stream",
          "name": "stderr",
          "text": [
            "/usr/local/lib/python3.8/dist-packages/sklearn/metrics/_classification.py:1318: UndefinedMetricWarning: Precision and F-score are ill-defined and being set to 0.0 in labels with no predicted samples. Use `zero_division` parameter to control this behavior.\n",
            "  _warn_prf(average, modifier, msg_start, len(result))\n",
            "/usr/local/lib/python3.8/dist-packages/sklearn/metrics/_classification.py:1318: UndefinedMetricWarning: Precision and F-score are ill-defined and being set to 0.0 in labels with no predicted samples. Use `zero_division` parameter to control this behavior.\n",
            "  _warn_prf(average, modifier, msg_start, len(result))\n",
            "/usr/local/lib/python3.8/dist-packages/sklearn/metrics/_classification.py:1318: UndefinedMetricWarning: Precision and F-score are ill-defined and being set to 0.0 in labels with no predicted samples. Use `zero_division` parameter to control this behavior.\n",
            "  _warn_prf(average, modifier, msg_start, len(result))\n"
          ]
        },
        {
          "output_type": "stream",
          "name": "stdout",
          "text": [
            "              precision    recall  f1-score   support\n",
            "\n",
            "          CC       0.96      0.96      0.96       366\n",
            "          CD       0.98      0.93      0.95       858\n",
            "          DT       0.95      0.99      0.97      1334\n",
            "          EX       0.00      0.00      0.00         5\n",
            "          IN       0.94      0.96      0.95      1630\n",
            "          JJ       0.72      0.79      0.76       918\n",
            "         JJR       0.66      0.46      0.54        59\n",
            "         JJS       0.38      0.48      0.43        31\n",
            "          MD       0.95      0.92      0.94       167\n",
            "          NN       0.90      0.80      0.84      2381\n",
            "         NNP       0.87      0.77      0.82      1504\n",
            "        NNPS       0.00      0.00      0.00        44\n",
            "         NNS       0.70      0.94      0.80       941\n",
            "         PDT       0.00      0.00      0.00         4\n",
            "         POS       0.98      0.91      0.95       152\n",
            "         PRP       0.93      0.98      0.95       192\n",
            "        PRP$       0.92      0.99      0.96        99\n",
            "          RB       0.88      0.82      0.85       381\n",
            "         RBR       0.00      0.00      0.00        15\n",
            "         RBS       0.00      0.00      0.00         3\n",
            "          RP       0.00      0.00      0.00        33\n",
            "          TO       0.95      0.99      0.97       386\n",
            "          VB       0.90      0.84      0.87       402\n",
            "         VBD       0.88      0.84      0.86       634\n",
            "         VBG       0.38      0.54      0.44       221\n",
            "         VBN       0.75      0.66      0.70       366\n",
            "         VBP       0.71      0.68      0.69       134\n",
            "         VBZ       0.62      0.94      0.74       280\n",
            "         WDT       0.94      0.79      0.86        84\n",
            "          WP       0.85      0.55      0.67        20\n",
            "         WP$       0.00      0.00      0.00         4\n",
            "         WRB       1.00      0.12      0.22        24\n",
            "\n",
            "   micro avg       0.86      0.85      0.85     13672\n",
            "   macro avg       0.65      0.61      0.62     13672\n",
            "weighted avg       0.86      0.85      0.85     13672\n",
            "\n",
            "0.6154204497841516\n"
          ]
        },
        {
          "output_type": "display_data",
          "data": {
            "text/plain": [
              "<Figure size 1440x1440 with 2 Axes>"
            ],
            "image/png": "[encoded data removed]"
          },
          "metadata": {
            "needs_background": "light"
          }
        }
      ]
    }
  ]
}