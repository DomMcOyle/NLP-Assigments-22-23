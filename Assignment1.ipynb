{
  "nbformat": 4,
  "nbformat_minor": 0,
  "metadata": {
    "colab": {
      "provenance": []
    },
    "kernelspec": {
      "name": "python3",
      "display_name": "Python 3"
    },
    "gpuClass": "standard"
  },
  "cells": [
    {
      "cell_type": "markdown",
      "metadata": {
        "id": "-WeCeITXoxLf"
      },
      "source": [
        "# Assignment 1\n",
        "\n",
        "**Due to**: 11/01/2022 (dd/mm/yyyy)\n",
        "\n",
        "If you deliver it by 11/12/2021 your assignment will be graded by 11/01/2022.\n",
        "\n",
        "\n",
        "**Credits**: Andrea Galassi, Federico Ruggeri, Paolo Torroni\n",
        "\n",
        "**Summary**: Part-of Speech (POS) tagging as Sequence Labelling using Recurrent Neural Architectures\n",
        "\n",
        "Please, read ALL the following instructions :)"
      ]
    },
    {
      "cell_type": "markdown",
      "metadata": {
        "id": "a4_wqPdlBcKS"
      },
      "source": [
        "# Intro\n",
        "\n",
        "In this assignment  we will ask you to perform POS tagging using neural architectures\n",
        "\n",
        "You are asked to follow these steps:\n",
        "*   Download the corpora and split it in training and test sets, structuring a dataframe.\n",
        "*   Embed the words using GloVe embeddings\n",
        "*   Create a baseline model, using a simple neural architecture\n",
        "*   Experiment doing small modifications to the baseline model, choose hyperparameters using the validation set\n",
        "*   Evaluate your two best model\n",
        "*   Analyze the errors of your model\n",
        "\n",
        "\n",
        "**Task**: given a corpus of documents, predict the POS tag for each word\n",
        "\n",
        "**Corpus**:\n",
        "Ignore the numeric value in the third column, use only the words/symbols and its label. \n",
        "The corpus is available at:\n",
        "https://raw.githubusercontent.com/nltk/nltk_data/gh-pages/packages/corpora/dependency_treebank.zip\n",
        "\n",
        "**Splits**: documents 1-100 are the train set, 101-150 validation set, 151-199 test set.\n",
        "\n",
        "\n",
        "**Features**: you MUST use GloVe embeddings as the only input features to the model.\n",
        "\n",
        "**Splitting**: you can decide to split documents into sentences or not, the choice is yours.\n",
        "\n",
        "**I/O structure**: The input data will have three dimensions: 1-documents/sentences, 2-token, 3-features; for the output there are 2 possibilities: if you use one-hot encoding it will be 1-documents/sentences, 2-token labels, 3-classes, if you use a single integer that indicates the number of the class it will be 1-documents/sentences, 2-token labels.\n",
        "\n",
        "**Baseline**: two layers architecture: a Bidirectional LSTM layer and a Dense/Fully-Connected layer on top; the choice of hyper-parameters is yours.\n",
        "\n",
        "**Architectures**: experiment using a GRU instead of the LSTM, adding an additional LSTM layer, and adding an additional dense layer; do not mix these variantions.\n",
        "\n",
        "\n",
        "**Training and Experiments**: all the experiments must involve only the training and validation sets.\n",
        "\n",
        "**Evaluation**: in the end, only the two best models of your choice (according to the validation set) must be evaluated on the test set. The main metric must be F1-Macro computed between the various part of speech. DO NOT CONSIDER THE PUNCTUATION CLASSES. [What is punctuation?]{https://en.wikipedia.org/wiki/English_punctuation}\n",
        "\n",
        "**Metrics**: the metric you must use to evaluate your final model is the F1-macro, WITHOUT considering punctuation/symbols classes; during the training process you can use accuracy because you can't use the F1 metric unless you use a single (gigantic) batch because there is no way to aggregate \"partial\" F1 scores computed on mini-batches.\n",
        "\n",
        "**Discussion and Error Analysis** : verify and discuss if the results on the test sets are coherent with those on the validation set; analyze the errors done by your model, try to understand which may be the causes and think about how to improve it.\n",
        "\n",
        "**Report**: you are asked to deliver the code of your experiments and a small pdf report of about 2 pages; the pdf must begin with the names of the people of your team and a small abstract (4-5 lines) that sums up your findings.\n",
        "\n",
        "# Out Of Vocabulary (OOV) terms\n",
        "\n",
        "How to handle words that are not in GloVe vocabulary?\n",
        "You can handle them as you want (random embedding, placeholder, whatever!), but they must be STATIC embeddings (you cannot train them).\n",
        "\n",
        "But there is a very important caveat! As usual, the element of the test set must not influence the elements of the other splits!\n",
        "If you use random embeddings or placeholder embeddings (e.g., everything is 0) this is automatically solved.\n",
        "\n",
        "If you want to use other techniques: when you compute new embeddings for train+validation, you must forget about test documents.\n",
        "The motivation is to emulate a real-world scenario, where you select and train a model in the first stage, without knowing nothing about the testing environment.\n",
        "\n",
        "For implementation convenience, you CAN use a single vocabulary file/matrix/whatever. The principle of the previous point is that the embeddings inside that file/matrix must be generated independently for train and test splits.\n",
        "\n",
        "Basically in a real-world scenario, this is what would happen:\n",
        "1. Starting vocabulary V1 (in this assignment, GloVe vocabulary)\n",
        "2. Compute embeddings for terms out of vocabulary V1 (OOV1) of the training split \n",
        "3. Add embeddings to the vocabulary, so to obtain vocabulary V2=V1+OOV1\n",
        "4. Training of the model(s)\n",
        "5. Compute embeddings for terms OOV2 of the validation split \n",
        "6. Add embeddings to the vocabulary, so to obtain vocabulary V3=V1+OOV1+OOV2\n",
        "7. Validation of the model(s)\n",
        "8. Compute embeddings for terms OOV3 of the test split \n",
        "9. Add embeddings to the vocabulary, so to obtain vocabulary V4=V1+OOV1+OOV2+OOV3\n",
        "10. Testing of the final model\n",
        "\n",
        "In this case, where we already have all the documents, we can simplify the process a bit, but the procedure must remain rigorous.\n",
        "\n",
        "1. Starting vocabulary V1 (in this assignment, GloVe vocabulary)\n",
        "2. Compute embeddings for terms out of vocabulary V1 (OOV1) of the training split \n",
        "3. Add embeddings to the vocabulary, so to obtain vocabulary V2=V1+OOV1\n",
        "4. Compute embeddings for terms OOV2 of the validation split \n",
        "5. Add embeddings to the vocabulary, so to obtain vocabulary V3=V1+OOV1+OOV2\n",
        "6. Compute embeddings for terms OOV3 of the test split \n",
        "7. Add embeddings to the vocabulary, so to obtain vocabulary V4=V1+OOV1+OOV2+OOV3\n",
        "8. Training of the model(s)\n",
        "9. Validation of the model(s)\n",
        "10. Testing of the final model\n",
        "\n",
        "Step 2 and step 6 must be completely independent of each other, for what concerns the method and the documents. But they can rely on the previous vocabulary (V1 for step 2 and V3 for step 6)\n",
        "THEREFORE if a word is present both in the training set and the test split and not in the starting vocabulary, its embedding is computed in step 2) and it is not considered OOV anymore in step 6).\n",
        "\n",
        "# Report\n",
        "The report must not be just a copy and paste of graphs and tables!\n",
        "\n",
        "The report must not be longer than 2 pages and must contain:\n",
        "* The names of the member of your team\n",
        "* A short abstract (4-5 lines) that sum ups everything\n",
        "* A general (brief!) description of the task you have addressed and how you have addressed it\n",
        "* A brief analysis of the data (class distribution, lenght, etc)\n",
        "* A short description of the models you have used\n",
        "* Some tables that sum up your findings in validation and test and a discussion of those results\n",
        "* The most relevant findings of your error analysis\n",
        "\n",
        "\n",
        "# Evaluation Criterion\n",
        "\n",
        "The goal of this assignment is not to prove you can find best model ever, but to face a common task, structure it correctly, and follow a correct and rigorous experimental procedure.\n",
        "In other words, we don't care if you final models are awful as long as you have followed the correct procedure and wrote a decent report.\n",
        "\n",
        "The score of the assignment will be computed roughly as follows\n",
        "* 1 point for the correctness of approach/methodology\n",
        "* 1 point for the handling of OOV terms\n",
        "* 1 point for the correct implementation of models (they must run and do the right thing)\n",
        "* 1 point for train-validation-test procedure\n",
        "* 2 point for the discussion of the results, error analysis, and report\n",
        "\n",
        "The evaluation will not be based on the performance of the models!\n",
        "\n",
        "We also reserve the right to assign a small bonus (0.5 points) to any assignment that is particularly worthy. \n",
        "\n",
        "# Deliver\n",
        "\n",
        "* Two files: a pdf file for the report, and a python notebook\n",
        "* Put the names of the member of the team at the beginning of both files\n",
        "* What about additional files, for example models or weights? You can upload them in a private cloud and insert the link in the report.\n",
        "* Please, submit a notebook with clear sections, text boxes, and comments and indications about what is going on in the code. When we do not understand what is going on we get annoyed, when we are annoyed we tend to be more severe in our evaluation.\n",
        "\n",
        "\n",
        "\n",
        "# Contacts\n",
        "\n",
        "In case of any doubt, question, issue, or help we highly recommend you to check the [course useful material](https://virtuale.unibo.it/pluginfile.php/1273064/mod_resource/content/2/NLP_Course_Useful_Material.pdf) for additional information, and to use the Virtuale forums to discuss with other students.\n",
        "\n",
        "You can always contact us at the following email addresses. To increase the probability of a prompt response, we reccomend you to write to both the teaching assistants.\n",
        "If we do not reply within 3-4 days, please send it again!\n",
        "\n",
        "Teaching Assistants:\n",
        "\n",
        "* Andrea Galassi -> a.galassi@unibo.it\n",
        "* Federico Ruggeri -> federico.ruggeri6@unibo.it\n",
        "\n",
        "Professor:\n",
        "\n",
        "* Paolo Torroni -> p.torroni@unibo.it\n",
        "\n",
        "\n",
        "# Additional notes and FAQ\n",
        "* You can use a non-trainable Embedding layer to load the glove embeddings\n",
        "* For the baseline, it must have only two trainable layers: the BiLSTM and the Dense/FC one. The Dense layer is the \"classification head\" with softmax activation. You must not add an additional dense layer on top of the baseline. You can use the embedding layer before the BiLSTM, but it must be not trainable.\n",
        "* You can use any library of your choice to implement the networks. Two options are tensorflow/keras or pythorch. Both these libraries have all the classes you need to implement these simple architectures and there are plenty of tutorials around, where you can learn how to use them.\n",
        "* For the application of the Dense Layer, it is recommended to use a Time-Distributed Dense. In any case, doing otherwise is NOT considered an error.\n",
        "* Some examples of things you can analyze in your discussion and error analysis are: the performances on the most frequent classes and the less frequent classes, precision and recall, the confusion tables, specific misclassified samples.\n",
        "* Punctuation: you must keep the punctuation in the documents, since it may be helpful for the model, you simply must ignore it when you perform the evaluation of the model, not considering the punctuation classes among the ones you use to compute F1 macro score. If you are curious, you can run ADDITIONAL experiments where you remove punctuation to see its impact."
      ]
    },
    {
      "cell_type": "markdown",
      "source": [
        "# STEP 1\n",
        "We start by downloading and extracting the dataset, resolving dependecies and including the required libraries.\n"
      ],
      "metadata": {
        "id": "AP1iyYTTY3gm"
      }
    },
    {
      "cell_type": "code",
      "source": [
        "!wget https://raw.githubusercontent.com/nltk/nltk_data/gh-pages/packages/corpora/dependency_treebank.zip\n",
        "!unzip dependency_treebank.zip\n",
        "!rm dependency_treebank.zip"
      ],
      "metadata": {
        "colab": {
          "base_uri": "https://localhost:8080/"
        },
        "id": "gcrFcorDYzX1",
        "outputId": "e47e26e7-7049-4a3c-e86f-e054a1391054"
      },
      "execution_count": 1,
      "outputs": [
        {
          "output_type": "stream",
          "name": "stdout",
          "text": [
            "--2022-12-26 17:47:22--  https://raw.githubusercontent.com/nltk/nltk_data/gh-pages/packages/corpora/dependency_treebank.zip\n",
            "Resolving raw.githubusercontent.com (raw.githubusercontent.com)... 185.199.108.133, 185.199.109.133, 185.199.110.133, ...\n",
            "Connecting to raw.githubusercontent.com (raw.githubusercontent.com)|185.199.108.133|:443... connected.\n",
            "HTTP request sent, awaiting response... 200 OK\n",
            "Length: 457429 (447K) [application/zip]\n",
            "Saving to: ‘dependency_treebank.zip’\n",
            "\n",
            "\rdependency_treebank   0%[                    ]       0  --.-KB/s               \rdependency_treebank 100%[===================>] 446.71K  --.-KB/s    in 0.009s  \n",
            "\n",
            "2022-12-26 17:47:23 (51.2 MB/s) - ‘dependency_treebank.zip’ saved [457429/457429]\n",
            "\n",
            "Archive:  dependency_treebank.zip\n",
            "   creating: dependency_treebank/\n",
            "  inflating: dependency_treebank/wsj_0093.dp  \n",
            "  inflating: dependency_treebank/wsj_0065.dp  \n",
            "  inflating: dependency_treebank/wsj_0039.dp  \n",
            "  inflating: dependency_treebank/wsj_0182.dp  \n",
            "  inflating: dependency_treebank/wsj_0186.dp  \n",
            "  inflating: dependency_treebank/wsj_0041.dp  \n",
            "  inflating: dependency_treebank/wsj_0018.dp  \n",
            "  inflating: dependency_treebank/wsj_0105.dp  \n",
            "  inflating: dependency_treebank/wsj_0149.dp  \n",
            "  inflating: dependency_treebank/wsj_0194.dp  \n",
            "  inflating: dependency_treebank/wsj_0055.dp  \n",
            "  inflating: dependency_treebank/wsj_0187.dp  \n",
            "  inflating: dependency_treebank/wsj_0143.dp  \n",
            "  inflating: dependency_treebank/wsj_0052.dp  \n",
            "  inflating: dependency_treebank/wsj_0064.dp  \n",
            "  inflating: dependency_treebank/wsj_0179.dp  \n",
            "  inflating: dependency_treebank/wsj_0195.dp  \n",
            "  inflating: dependency_treebank/wsj_0051.dp  \n",
            "  inflating: dependency_treebank/wsj_0059.dp  \n",
            "  inflating: dependency_treebank/wsj_0109.dp  \n",
            "  inflating: dependency_treebank/wsj_0074.dp  \n",
            "  inflating: dependency_treebank/wsj_0089.dp  \n",
            "  inflating: dependency_treebank/wsj_0108.dp  \n",
            "  inflating: dependency_treebank/wsj_0104.dp  \n",
            "  inflating: dependency_treebank/wsj_0164.dp  \n",
            "  inflating: dependency_treebank/wsj_0024.dp  \n",
            "  inflating: dependency_treebank/wsj_0008.dp  \n",
            "  inflating: dependency_treebank/wsj_0101.dp  \n",
            "  inflating: dependency_treebank/wsj_0132.dp  \n",
            "  inflating: dependency_treebank/wsj_0028.dp  \n",
            "  inflating: dependency_treebank/wsj_0184.dp  \n",
            "  inflating: dependency_treebank/wsj_0082.dp  \n",
            "  inflating: dependency_treebank/wsj_0114.dp  \n",
            "  inflating: dependency_treebank/wsj_0061.dp  \n",
            "  inflating: dependency_treebank/wsj_0190.dp  \n",
            "  inflating: dependency_treebank/wsj_0034.dp  \n",
            "  inflating: dependency_treebank/wsj_0043.dp  \n",
            "  inflating: dependency_treebank/wsj_0044.dp  \n",
            "  inflating: dependency_treebank/wsj_0021.dp  \n",
            "  inflating: dependency_treebank/wsj_0005.dp  \n",
            "  inflating: dependency_treebank/wsj_0112.dp  \n",
            "  inflating: dependency_treebank/wsj_0167.dp  \n",
            "  inflating: dependency_treebank/wsj_0042.dp  \n",
            "  inflating: dependency_treebank/wsj_0168.dp  \n",
            "  inflating: dependency_treebank/wsj_0185.dp  \n",
            "  inflating: dependency_treebank/wsj_0057.dp  \n",
            "  inflating: dependency_treebank/wsj_0015.dp  \n",
            "  inflating: dependency_treebank/wsj_0116.dp  \n",
            "  inflating: dependency_treebank/wsj_0135.dp  \n",
            "  inflating: dependency_treebank/wsj_0175.dp  \n",
            "  inflating: dependency_treebank/wsj_0171.dp  \n",
            "  inflating: dependency_treebank/wsj_0068.dp  \n",
            "  inflating: dependency_treebank/wsj_0080.dp  \n",
            "  inflating: dependency_treebank/wsj_0035.dp  \n",
            "  inflating: dependency_treebank/wsj_0181.dp  \n",
            "  inflating: dependency_treebank/wsj_0177.dp  \n",
            "  inflating: dependency_treebank/wsj_0102.dp  \n",
            "  inflating: dependency_treebank/wsj_0137.dp  \n",
            "  inflating: dependency_treebank/wsj_0022.dp  \n",
            "  inflating: dependency_treebank/wsj_0176.dp  \n",
            "  inflating: dependency_treebank/wsj_0180.dp  \n",
            "  inflating: dependency_treebank/wsj_0121.dp  \n",
            "  inflating: dependency_treebank/wsj_0128.dp  \n",
            "  inflating: dependency_treebank/wsj_0036.dp  \n",
            "  inflating: dependency_treebank/wsj_0071.dp  \n",
            "  inflating: dependency_treebank/wsj_0091.dp  \n",
            "  inflating: dependency_treebank/wsj_0076.dp  \n",
            "  inflating: dependency_treebank/wsj_0123.dp  \n",
            "  inflating: dependency_treebank/wsj_0075.dp  \n",
            "  inflating: dependency_treebank/wsj_0131.dp  \n",
            "  inflating: dependency_treebank/wsj_0050.dp  \n",
            "  inflating: dependency_treebank/wsj_0136.dp  \n",
            "  inflating: dependency_treebank/wsj_0161.dp  \n",
            "  inflating: dependency_treebank/wsj_0033.dp  \n",
            "  inflating: dependency_treebank/wsj_0188.dp  \n",
            "  inflating: dependency_treebank/wsj_0085.dp  \n",
            "  inflating: dependency_treebank/wsj_0014.dp  \n",
            "  inflating: dependency_treebank/wsj_0073.dp  \n",
            "  inflating: dependency_treebank/wsj_0199.dp  \n",
            "  inflating: dependency_treebank/wsj_0120.dp  \n",
            "  inflating: dependency_treebank/wsj_0178.dp  \n",
            "  inflating: dependency_treebank/wsj_0122.dp  \n",
            "  inflating: dependency_treebank/wsj_0040.dp  \n",
            "  inflating: dependency_treebank/wsj_0020.dp  \n",
            "  inflating: dependency_treebank/wsj_0153.dp  \n",
            "  inflating: dependency_treebank/wsj_0107.dp  \n",
            "  inflating: dependency_treebank/wsj_0017.dp  \n",
            "  inflating: dependency_treebank/wsj_0140.dp  \n",
            "  inflating: dependency_treebank/wsj_0038.dp  \n",
            "  inflating: dependency_treebank/wsj_0031.dp  \n",
            "  inflating: dependency_treebank/wsj_0165.dp  \n",
            "  inflating: dependency_treebank/wsj_0146.dp  \n",
            "  inflating: dependency_treebank/wsj_0090.dp  \n",
            "  inflating: dependency_treebank/wsj_0001.dp  \n",
            "  inflating: dependency_treebank/wsj_0148.dp  \n",
            "  inflating: dependency_treebank/wsj_0097.dp  \n",
            "  inflating: dependency_treebank/wsj_0009.dp  \n",
            "  inflating: dependency_treebank/wsj_0173.dp  \n",
            "  inflating: dependency_treebank/wsj_0111.dp  \n",
            "  inflating: dependency_treebank/wsj_0129.dp  \n",
            "  inflating: dependency_treebank/wsj_0130.dp  \n",
            "  inflating: dependency_treebank/wsj_0047.dp  \n",
            "  inflating: dependency_treebank/wsj_0110.dp  \n",
            "  inflating: dependency_treebank/wsj_0113.dp  \n",
            "  inflating: dependency_treebank/wsj_0147.dp  \n",
            "  inflating: dependency_treebank/wsj_0160.dp  \n",
            "  inflating: dependency_treebank/wsj_0099.dp  \n",
            "  inflating: dependency_treebank/wsj_0003.dp  \n",
            "  inflating: dependency_treebank/wsj_0011.dp  \n",
            "  inflating: dependency_treebank/wsj_0056.dp  \n",
            "  inflating: dependency_treebank/wsj_0069.dp  \n",
            "  inflating: dependency_treebank/wsj_0026.dp  \n",
            "  inflating: dependency_treebank/wsj_0138.dp  \n",
            "  inflating: dependency_treebank/wsj_0029.dp  \n",
            "  inflating: dependency_treebank/wsj_0115.dp  \n",
            "  inflating: dependency_treebank/wsj_0037.dp  \n",
            "  inflating: dependency_treebank/wsj_0019.dp  \n",
            "  inflating: dependency_treebank/wsj_0002.dp  \n",
            "  inflating: dependency_treebank/wsj_0007.dp  \n",
            "  inflating: dependency_treebank/wsj_0158.dp  \n",
            "  inflating: dependency_treebank/wsj_0087.dp  \n",
            "  inflating: dependency_treebank/wsj_0157.dp  \n",
            "  inflating: dependency_treebank/wsj_0083.dp  \n",
            "  inflating: dependency_treebank/wsj_0103.dp  \n",
            "  inflating: dependency_treebank/wsj_0058.dp  \n",
            "  inflating: dependency_treebank/wsj_0054.dp  \n",
            "  inflating: dependency_treebank/wsj_0016.dp  \n",
            "  inflating: dependency_treebank/wsj_0126.dp  \n",
            "  inflating: dependency_treebank/wsj_0198.dp  \n",
            "  inflating: dependency_treebank/wsj_0144.dp  \n",
            "  inflating: dependency_treebank/wsj_0096.dp  \n",
            "  inflating: dependency_treebank/wsj_0086.dp  \n",
            "  inflating: dependency_treebank/wsj_0197.dp  \n",
            "  inflating: dependency_treebank/wsj_0025.dp  \n",
            "  inflating: dependency_treebank/wsj_0100.dp  \n",
            "  inflating: dependency_treebank/wsj_0084.dp  \n",
            "  inflating: dependency_treebank/wsj_0098.dp  \n",
            "  inflating: dependency_treebank/wsj_0106.dp  \n",
            "  inflating: dependency_treebank/wsj_0119.dp  \n",
            "  inflating: dependency_treebank/wsj_0092.dp  \n",
            "  inflating: dependency_treebank/wsj_0134.dp  \n",
            "  inflating: dependency_treebank/wsj_0077.dp  \n",
            "  inflating: dependency_treebank/wsj_0060.dp  \n",
            "  inflating: dependency_treebank/wsj_0172.dp  \n",
            "  inflating: dependency_treebank/wsj_0048.dp  \n",
            "  inflating: dependency_treebank/wsj_0030.dp  \n",
            "  inflating: dependency_treebank/wsj_0192.dp  \n",
            "  inflating: dependency_treebank/wsj_0066.dp  \n",
            "  inflating: dependency_treebank/wsj_0045.dp  \n",
            "  inflating: dependency_treebank/wsj_0155.dp  \n",
            "  inflating: dependency_treebank/wsj_0118.dp  \n",
            "  inflating: dependency_treebank/wsj_0152.dp  \n",
            "  inflating: dependency_treebank/wsj_0012.dp  \n",
            "  inflating: dependency_treebank/wsj_0006.dp  \n",
            "  inflating: dependency_treebank/wsj_0159.dp  \n",
            "  inflating: dependency_treebank/wsj_0163.dp  \n",
            "  inflating: dependency_treebank/wsj_0170.dp  \n",
            "  inflating: dependency_treebank/wsj_0141.dp  \n",
            "  inflating: dependency_treebank/wsj_0117.dp  \n",
            "  inflating: dependency_treebank/wsj_0125.dp  \n",
            "  inflating: dependency_treebank/wsj_0094.dp  \n",
            "  inflating: dependency_treebank/wsj_0169.dp  \n",
            "  inflating: dependency_treebank/wsj_0027.dp  \n",
            "  inflating: dependency_treebank/wsj_0010.dp  \n",
            "  inflating: dependency_treebank/wsj_0162.dp  \n",
            "  inflating: dependency_treebank/wsj_0127.dp  \n",
            "  inflating: dependency_treebank/wsj_0142.dp  \n",
            "  inflating: dependency_treebank/wsj_0046.dp  \n",
            "  inflating: dependency_treebank/wsj_0088.dp  \n",
            "  inflating: dependency_treebank/wsj_0079.dp  \n",
            "  inflating: dependency_treebank/wsj_0174.dp  \n",
            "  inflating: dependency_treebank/wsj_0063.dp  \n",
            "  inflating: dependency_treebank/wsj_0023.dp  \n",
            "  inflating: dependency_treebank/wsj_0004.dp  \n",
            "  inflating: dependency_treebank/wsj_0156.dp  \n",
            "  inflating: dependency_treebank/wsj_0133.dp  \n",
            "  inflating: dependency_treebank/wsj_0032.dp  \n",
            "  inflating: dependency_treebank/wsj_0070.dp  \n",
            "  inflating: dependency_treebank/wsj_0154.dp  \n",
            "  inflating: dependency_treebank/wsj_0095.dp  \n",
            "  inflating: dependency_treebank/wsj_0072.dp  \n",
            "  inflating: dependency_treebank/wsj_0183.dp  \n",
            "  inflating: dependency_treebank/wsj_0081.dp  \n",
            "  inflating: dependency_treebank/wsj_0196.dp  \n",
            "  inflating: dependency_treebank/wsj_0062.dp  \n",
            "  inflating: dependency_treebank/wsj_0124.dp  \n",
            "  inflating: dependency_treebank/wsj_0191.dp  \n",
            "  inflating: dependency_treebank/wsj_0013.dp  \n",
            "  inflating: dependency_treebank/wsj_0078.dp  \n",
            "  inflating: dependency_treebank/wsj_0150.dp  \n",
            "  inflating: dependency_treebank/wsj_0049.dp  \n",
            "  inflating: dependency_treebank/wsj_0189.dp  \n",
            "  inflating: dependency_treebank/wsj_0151.dp  \n",
            "  inflating: dependency_treebank/wsj_0193.dp  \n",
            "  inflating: dependency_treebank/wsj_0067.dp  \n",
            "  inflating: dependency_treebank/wsj_0145.dp  \n",
            "  inflating: dependency_treebank/wsj_0139.dp  \n",
            "  inflating: dependency_treebank/wsj_0166.dp  \n",
            "  inflating: dependency_treebank/wsj_0053.dp  \n"
          ]
        }
      ]
    },
    {
      "cell_type": "code",
      "source": [
        "# Gensim is a Python library for topic modelling, document indexing and similarity retrieval with large corpora\n",
        "!pip install gensim"
      ],
      "metadata": {
        "colab": {
          "base_uri": "https://localhost:8080/"
        },
        "id": "Z2r6z__jpAPq",
        "outputId": "77e551f7-9ce7-4209-e1a5-62ffed3ac3ea"
      },
      "execution_count": 2,
      "outputs": [
        {
          "output_type": "stream",
          "name": "stdout",
          "text": [
            "Looking in indexes: https://pypi.org/simple, https://us-python.pkg.dev/colab-wheels/public/simple/\n",
            "Requirement already satisfied: gensim in /usr/local/lib/python3.8/dist-packages (3.6.0)\n",
            "Requirement already satisfied: six>=1.5.0 in /usr/local/lib/python3.8/dist-packages (from gensim) (1.15.0)\n",
            "Requirement already satisfied: smart-open>=1.2.1 in /usr/local/lib/python3.8/dist-packages (from gensim) (6.3.0)\n",
            "Requirement already satisfied: numpy>=1.11.3 in /usr/local/lib/python3.8/dist-packages (from gensim) (1.21.6)\n",
            "Requirement already satisfied: scipy>=0.18.1 in /usr/local/lib/python3.8/dist-packages (from gensim) (1.7.3)\n"
          ]
        }
      ]
    },
    {
      "cell_type": "code",
      "source": [
        "import pandas as pd\n",
        "import os\n",
        "import string\n",
        "import numpy as np\n",
        "import matplotlib.pyplot as plt\n",
        "import gensim\n",
        "import gensim.downloader as gloader\n",
        "import os\n",
        "import shutil\n",
        "import random\n",
        "import tensorflow as tf\n",
        "from sklearn.preprocessing import OneHotEncoder\n",
        "from sklearn.metrics import ConfusionMatrixDisplay,f1_score, accuracy_score, classification_report, confusion_matrix\n",
        "\n",
        "from keras_preprocessing.sequence import pad_sequences\n",
        "from functools import partial\n",
        "\n",
        "from keras.layers import Input, Embedding, Bidirectional, LSTM, Dense, TimeDistributed, Activation, GRU\n",
        "from keras.models import Model\n",
        "\n",
        "%matplotlib inline"
      ],
      "metadata": {
        "id": "vnAjuwg4kSgi"
      },
      "execution_count": 3,
      "outputs": []
    },
    {
      "cell_type": "markdown",
      "source": [
        "# Step 2\n",
        "We first fix the seed needed for the pseudo-random generation. Then we create directories for the datasets and we split the dataset with samples 1-100 for the train set, 101-150 for the validation set, 151-199 for the test set.\n",
        "When loading the dataset, every token is lowercased as only pre-processing step."
      ],
      "metadata": {
        "id": "nQ9gw5Mogoe9"
      }
    },
    {
      "cell_type": "code",
      "source": [
        "seed = 42\n",
        "random.seed(seed)\n",
        "np.random.seed(seed)\n",
        "tf.random.set_seed(seed)\n",
        "os.environ['TF_DETERMINISTIC_OPS'] = '1'"
      ],
      "metadata": {
        "id": "tFUSc77sYi6T"
      },
      "execution_count": 4,
      "outputs": []
    },
    {
      "cell_type": "code",
      "source": [
        "!mkdir train_set\n",
        "!mkdir val_set\n",
        "!mkdir test_set"
      ],
      "metadata": {
        "id": "ggavZHbcTUas"
      },
      "execution_count": 5,
      "outputs": []
    },
    {
      "cell_type": "code",
      "source": [
        "# Move first 100 text file to train\n",
        "for i in range(1, 101):\n",
        "  file_name = \"wsj_\" + (\"0\" * (4 - len(str(i)))) + str(i) + \".dp\"\n",
        "  src_name = os.path.join('/content/dependency_treebank/' + file_name)\n",
        "  trg_name = os.path.join('/content/train_set/' + file_name)\n",
        "  shutil.move(src_name, trg_name)\n",
        "\n",
        "# Move 101-150 text file to val\n",
        "for i in range(101, 151):\n",
        "  file_name = \"wsj_\" + (\"0\" * (4 - len(str(i)))) + str(i) + \".dp\"\n",
        "  src_name = os.path.join('/content/dependency_treebank/' + file_name)\n",
        "  trg_name = os.path.join('/content/val_set/' + file_name)\n",
        "  shutil.move(src_name, trg_name)\n",
        "\n",
        "# Move 151-199 text file to test\n",
        "for i in range(151, 200):\n",
        "  file_name = \"wsj_\" + (\"0\" * (4 - len(str(i)))) + str(i) + \".dp\"\n",
        "  src_name = os.path.join('/content/dependency_treebank/' + file_name)\n",
        "  trg_name = os.path.join('/content/test_set/' + file_name)\n",
        "  shutil.move(src_name, trg_name)\n",
        "\n",
        "!rm -rf \"/content/dependency_treebank\""
      ],
      "metadata": {
        "id": "OAdm2Wechnfg"
      },
      "execution_count": 6,
      "outputs": []
    },
    {
      "cell_type": "code",
      "source": [
        "def create_dataframe(dataset_path):\n",
        "  \"\"\"\n",
        "  This function is needed to return the list of lists containing of lowercased sentences \n",
        "  with the associated list of lists of POS tagging labels.\n",
        "  It also returns the vocabulary (set) of the words used and the considered POS tags (set).\n",
        "\n",
        "  :param dataset_path: path where the dataset is stored.\n",
        "  \"\"\"\n",
        "  dataframe_x_rows =  []\n",
        "  dataframe_y_rows = []\n",
        "\n",
        "  sentence_x_row = []\n",
        "  sentence_y_row = []\n",
        "\n",
        "  words = set([])\n",
        "  tags = set([])\n",
        "\n",
        "  for file_name in os.listdir(dataset_path): \n",
        "    file_path = dataset_path + \"/\" + file_name\n",
        "    file_number = file_name.split(\".\")[0].split(\"_\")[1]\n",
        "\n",
        "    with open(file_path, mode='r', encoding='utf-8') as file_text:\n",
        "      lines = file_text.readlines()\n",
        "\n",
        "      for line in lines:\n",
        "        split_line = line.split(\"\\t\")\n",
        "        if len(split_line) > 1:\n",
        "          word = split_line[0].lower() # lowercasing\n",
        "          pos_tag = split_line[1]\n",
        "\n",
        "          words.add(word)\n",
        "          tags.add(pos_tag)\n",
        "\n",
        "          sentence_x_row.append(word)\n",
        "          sentence_y_row.append(pos_tag)\n",
        "          # each entry of the dataset is a sentence, so we stop when we \n",
        "          # find a strong punctuation symbol or \";\"\n",
        "          if word == '.' or word == ';':\n",
        "            dataframe_x_rows.append(sentence_x_row)\n",
        "            dataframe_y_rows.append(sentence_y_row)\n",
        "            sentence_x_row = []\n",
        "            sentence_y_row = []\n",
        "\n",
        "  return dataframe_x_rows, dataframe_y_rows, words, tags"
      ],
      "metadata": {
        "id": "VWiOBcY_bsNc"
      },
      "execution_count": 7,
      "outputs": []
    },
    {
      "cell_type": "code",
      "source": [
        "df_train_x, df_train_y, train_words, train_tags = create_dataframe(\"/content/train_set\")"
      ],
      "metadata": {
        "id": "23_GbPw6cBsb"
      },
      "execution_count": 8,
      "outputs": []
    },
    {
      "cell_type": "code",
      "source": [
        "df_val_x, df_val_y, val_words, val_tags = create_dataframe(\"/content/val_set\")"
      ],
      "metadata": {
        "id": "A7NQ3-kJ3QBX"
      },
      "execution_count": 9,
      "outputs": []
    },
    {
      "cell_type": "code",
      "source": [
        "df_test_x, df_test_y, test_words, test_tags = create_dataframe(\"/content/test_set\")"
      ],
      "metadata": {
        "id": "wQDqjYB_PlrT"
      },
      "execution_count": 10,
      "outputs": []
    },
    {
      "cell_type": "markdown",
      "source": [
        "Here are presented some statistics over tags and sentences. "
      ],
      "metadata": {
        "id": "xsciv76Zltxi"
      }
    },
    {
      "cell_type": "code",
      "source": [
        "for cur_df in [df_train_x, df_val_x, df_test_x]:\n",
        "  sentence_length = [len(i) for i in cur_df]\n",
        "  mean_sentence_length = sum(sentence_length)/len(sentence_length)\n",
        "  max_sentence_length = max(sentence_length)\n",
        "  min_sentence_length = min(sentence_length)\n",
        "  \n",
        "\n",
        "  print(\"Sentence length statistics: \")\n",
        "  print(f\"mean: {mean_sentence_length }\")\n",
        "  print(f\"max: {max_sentence_length}\")\n",
        "  print(f\"min: {min_sentence_length}\")\n"
      ],
      "metadata": {
        "colab": {
          "base_uri": "https://localhost:8080/"
        },
        "id": "Xd5VcqhnlsoZ",
        "outputId": "922b36bb-ce8a-4088-d232-e0e948898fb7"
      },
      "execution_count": 11,
      "outputs": [
        {
          "output_type": "stream",
          "name": "stdout",
          "text": [
            "Sentence length statistics: \n",
            "mean: 23.408798813643106\n",
            "max: 67\n",
            "min: 2\n",
            "Sentence length statistics: \n",
            "mean: 23.569916855631142\n",
            "max: 88\n",
            "min: 2\n",
            "Sentence length statistics: \n",
            "mean: 23.805513016845328\n",
            "max: 72\n",
            "min: 3\n"
          ]
        }
      ]
    },
    {
      "cell_type": "code",
      "source": [
        "# simple block to plot the distribution of the tags in the datasets\n",
        "print(f\"number of tags in the training set: {len(train_tags)}\")\n",
        "print(f\"number of tags in the validation set: {len(val_tags)}\")\n",
        "print(f\"number of tags in the test set: {len(test_tags)}\")\n",
        "union_set = train_tags|val_tags|test_tags\n",
        "print(f\"number of tags in the whole dataset: {len(train_tags|val_tags|test_tags)}\")\n",
        "\n",
        "print(\"Plot of the distributions of tags in train, validation and test: \")\n",
        "for cur_df in [df_train_y, df_val_y, df_test_y]:\n",
        "  flatten_y = [word for sentence in cur_df for word in sentence]\n",
        "\n",
        "  plt.figure(figsize=(30, 15))\n",
        "  plt.hist(flatten_y, bins=\"auto\", log=True, rwidth=0.7);\n",
        "\n",
        "missing_train_tags = union_set - train_tags \n",
        "missing_val_tags = union_set - val_tags \n",
        "missing_test_tags = union_set - test_tags \n",
        "print(f\"Missing tags for the train set: {missing_train_tags}\" )\n",
        "print(f\"Missing tags for the validation set: {missing_val_tags}\" )\n",
        "print(f\"Missing tags for the test set: {missing_test_tags}\" )"
      ],
      "metadata": {
        "id": "zEyoja7Mhkb8",
        "colab": {
          "base_uri": "https://localhost:8080/",
          "height": 1000
        },
        "outputId": "96014cdf-a161-4f67-8e65-065f866e8996"
      },
      "execution_count": 14,
      "outputs": [
        {
          "output_type": "stream",
          "name": "stdout",
          "text": [
            "number of tags in the training set: 45\n",
            "number of tags in the validation set: 44\n",
            "number of tags in the test set: 40\n",
            "number of tags in the whole dataset: 45\n",
            "Plot of the distributions of tags in train, validation and test: \n",
            "Missing tags for the train set: set()\n",
            "Missing tags for the validation set: {'SYM'}\n",
            "Missing tags for the test set: {'LS', 'FW', 'UH', 'SYM', '#'}\n"
          ]
        },
        {
          "output_type": "display_data",
          "data": {
            "text/plain": [
              "<Figure size 2160x1080 with 1 Axes>"
            ],
            "image/png": "[encoded data removed]"
          },
          "metadata": {
            "needs_background": "light"
          }
        },
        {
          "output_type": "display_data",
          "data": {
            "text/plain": [
              "<Figure size 2160x1080 with 1 Axes>"
            ],
            "image/png": "[encoded data removed]"
          },
          "metadata": {
            "needs_background": "light"
          }
        },
        {
          "output_type": "display_data",
          "data": {
            "text/plain": [
              "<Figure size 2160x1080 with 1 Axes>"
            ],
            "image/png": "[encoded data removed]"
          },
          "metadata": {
            "needs_background": "light"
          }
        }
      ]
    },
    {
      "cell_type": "code",
      "source": [
        "# the current choice is to give an id to each word\n",
        "word2index =  {w: i + 2 for i, w in enumerate(set(list(train_words) + list(val_words) + list(test_words)))}\n",
        "word2index['<PAD>'] = 0\n",
        "word2index['<OOV>'] = 1\n",
        "\n",
        "# same things applies here it is exploited the possibility to assign an id to\n",
        "# tags, but one hot encoding could be performed instead\n",
        "print(\"Here we show statistics for the vocabularies: \")\n",
        "print(\"Lenght of the complete word vocabulary: \" + str(len(word2index.keys()))) \n",
        "print(\"Length of the vocabulary of the training set: \" + str(len(train_words)))\n",
        "print(\"Length of the vocabulary of the validation set: \" + str(len(val_words)))\n",
        "print(\"Length of the vocabulary of the test set: \" + str(len(test_words)))\n",
        "print(\"Total length: \" + str(len(train_words) + len(val_words) + len(test_words)))"
      ],
      "metadata": {
        "id": "SRQKdlcQ8sPq",
        "colab": {
          "base_uri": "https://localhost:8080/"
        },
        "outputId": "2674fdd0-a419-491d-b76a-fe1155c8967e"
      },
      "execution_count": 16,
      "outputs": [
        {
          "output_type": "stream",
          "name": "stdout",
          "text": [
            "Here we show statistics for the vocabularies: \n",
            "Lenght of the complete word vocabulary: 10949\n",
            "Length of the vocabulary of the training set: 7404\n",
            "Length of the vocabulary of the validation set: 5420\n",
            "Length of the vocabulary of the test set: 3407\n",
            "Total length: 16231\n"
          ]
        }
      ]
    },
    {
      "cell_type": "code",
      "source": [
        "def convert_all_sentences_to_indexes(df_x):\n",
        "  \"\"\"\n",
        "  function converting each token of each sentence to the embedding matrix indexes\n",
        "\n",
        "  :param df_x: list containing the sentences as list of tokens.\n",
        "  \n",
        "  \"\"\"\n",
        "  sentences_X = []\n",
        "  for sentence in df_x:\n",
        "    converted_sentence = []\n",
        "    for word in sentence:\n",
        "      try:\n",
        "        converted_sentence.append(word2index[word])\n",
        "      except KeyError:\n",
        "        converted_sentence.append(word2index[\"<OOV>\"])\n",
        "    sentences_X.append(converted_sentence)\n",
        "  return sentences_X\n"
      ],
      "metadata": {
        "id": "APguw-xF6h0c"
      },
      "execution_count": 12,
      "outputs": []
    },
    {
      "cell_type": "code",
      "source": [
        "train_sentences_X = convert_all_sentences_to_indexes(df_train_x)\n",
        "val_sentences_X = convert_all_sentences_to_indexes(df_val_x)\n",
        "test_sentences_X = convert_all_sentences_to_indexes(df_test_x)\n",
        "\n",
        "print(f\"number of sentences in train_sentences_X: {len(train_sentences_X)}\")\n",
        "print(f\"number of sentences in val_sentences_X: {len(val_sentences_X)}\")\n",
        "print(f\"number of sentences in test_sentences_X: {len(test_sentences_X)}\")"
      ],
      "metadata": {
        "id": "QXa1scFDjCCr",
        "outputId": "f05313dc-1750-422a-c3a1-007d09acd489",
        "colab": {
          "base_uri": "https://localhost:8080/"
        }
      },
      "execution_count": 17,
      "outputs": [
        {
          "output_type": "stream",
          "name": "stdout",
          "text": [
            "number of sentences in train_sentences_X: 2023\n",
            "number of sentences in val_sentences_X: 1323\n",
            "number of sentences in test_sentences_X: 653\n"
          ]
        }
      ]
    },
    {
      "cell_type": "markdown",
      "source": [
        "Then we proceed to split and pad the input sequences. No further preprocessing step is required other than lowercasing all the tokens, as tokenization is already provided by the dataset and techniques as stemming and lemmatization would deprive the words of their syntactic role. Also normalization isn't so necessary due to GloVe containing often redundant embeddings."
      ],
      "metadata": {
        "id": "4mw24hQwbSd1"
      }
    },
    {
      "cell_type": "code",
      "source": [
        "# fitting a OneHotEncoder over tags\n",
        "encoder = OneHotEncoder(sparse = False)\n",
        "encoder.fit(np.array(list(union_set)).reshape(-1, 1))\n",
        "n_classes = len(union_set)"
      ],
      "metadata": {
        "id": "GYk2JV0-slTL",
        "outputId": "9483c74e-a636-46b8-e16b-96c210ac3e2f",
        "colab": {
          "base_uri": "https://localhost:8080/"
        }
      },
      "execution_count": 24,
      "outputs": [
        {
          "output_type": "stream",
          "name": "stdout",
          "text": [
            "45\n"
          ]
        }
      ]
    },
    {
      "cell_type": "code",
      "source": [
        "# we will use this parameter to create the padding of each sentence\n",
        "MAX_LENGTH = len(max(train_sentences_X, key=len))"
      ],
      "metadata": {
        "id": "L6Z6CFe2Ad3w"
      },
      "execution_count": null,
      "outputs": []
    },
    {
      "cell_type": "code",
      "source": [
        "# converting tags to the associated indexes\n",
        "def convert_to_one_hot(df_y, encoder):\n",
        "  \"\"\"\n",
        "  Function encoding tags with their respective one-hot vector\n",
        "\n",
        "  :param df_y: list containing the lists of tags to be converted\n",
        "  :param encoder: sklearn's encoder instance already fit on the whole set of tags\n",
        "  \"\"\"\n",
        "  converted_one_hot_y = []\n",
        "  for sentence in df_y:\n",
        "    container = np.zeros((MAX_LENGTH, len(encoder.categories_[0])))\n",
        "    single_encoded_sentence = encoder.transform(np.array(sentence).reshape(-1, 1))\n",
        "    len_sentence = single_encoded_sentence.shape[0]\n",
        "    if len_sentence >= MAX_LENGTH:\n",
        "      container[:, :] = single_encoded_sentence[:MAX_LENGTH, :]\n",
        "    else:\n",
        "      container[:len_sentence, :] = single_encoded_sentence\n",
        "      container[len_sentence:, :] = single_encoded_sentence[-1, :]\n",
        "    converted_one_hot_y.append(container)\n",
        "  return converted_one_hot_y\n"
      ],
      "metadata": {
        "id": "4u6LICx2IZBt"
      },
      "execution_count": null,
      "outputs": []
    },
    {
      "cell_type": "code",
      "source": [
        "train_tags_y = convert_to_one_hot(df_train_y, encoder)\n",
        "val_tags_y = convert_to_one_hot(df_val_y, encoder)\n",
        "test_tags_y = convert_to_one_hot(df_test_y, encoder)"
      ],
      "metadata": {
        "id": "nP_1J0hBik6w"
      },
      "execution_count": null,
      "outputs": []
    },
    {
      "cell_type": "code",
      "source": [
        "# printing all the tags in order to recognize which of these are punctuation\n",
        "# marks\n",
        "print(\"List of all tags: \")\n",
        "for tag in list(union_set):\n",
        "  print(tag)"
      ],
      "metadata": {
        "colab": {
          "base_uri": "https://localhost:8080/"
        },
        "id": "Sh9fvkdjaaQG",
        "outputId": "38f31434-df57-430e-e504-1e19144353de"
      },
      "execution_count": null,
      "outputs": [
        {
          "output_type": "stream",
          "name": "stdout",
          "text": [
            "List of all tags: \n",
            "DT\n",
            "MD\n",
            "JJR\n",
            "NNP\n",
            "VBN\n",
            "EX\n",
            "FW\n",
            "WP\n",
            "RBS\n",
            "NN\n",
            "PDT\n",
            "''\n",
            "PRP\n",
            "IN\n",
            "RB\n",
            "RP\n",
            "UH\n",
            "NNPS\n",
            "POS\n",
            "JJS\n",
            "LS\n",
            "CD\n",
            "NNS\n",
            "WDT\n",
            "RBR\n",
            "JJ\n",
            "VB\n",
            "VBZ\n",
            "#\n",
            "VBP\n",
            "VBD\n",
            "CC\n",
            "VBG\n",
            "-LRB-\n",
            "WRB\n",
            "PRP$\n",
            "TO\n",
            "``\n",
            "$\n",
            "WP$\n",
            ",\n",
            "SYM\n",
            "-RRB-\n",
            ".\n",
            ":\n"
          ]
        }
      ]
    },
    {
      "cell_type": "code",
      "source": [
        "# adding a padding to each sentence, since they must have a fixed dimension \n",
        "train_sentences_X = pad_sequences(train_sentences_X, maxlen=MAX_LENGTH, padding='post')\n",
        "val_sentences_X = pad_sequences(val_sentences_X, maxlen=MAX_LENGTH, padding='post')\n",
        "test_sentences_X = pad_sequences(test_sentences_X, maxlen=MAX_LENGTH, padding='post')\n",
        "train_tags_y = np.asarray(train_tags_y)\n",
        "val_tags_y = np.asarray(val_tags_y)\n",
        "test_tags_y = np.asarray(test_tags_y)\n",
        "\n",
        "print(f\"shape of train_tags_y: {train_tags_y.shape}\")\n",
        "print(f\"shape of val_tags_y: {val_tags_y.shape}\")\n",
        "print(f\"shape of test_tags_y: {test_tags_y.shape}\")"
      ],
      "metadata": {
        "id": "A2me5GaZAwC7",
        "colab": {
          "base_uri": "https://localhost:8080/"
        },
        "outputId": "73bef4b7-cbd7-41d7-a91c-f8284d4e61d6"
      },
      "execution_count": null,
      "outputs": [
        {
          "output_type": "stream",
          "name": "stdout",
          "text": [
            "shape of train_tags_y: (2023, 67, 45)\n",
            "shape of val_tags_y: (1323, 67, 45)\n",
            "shape of test_tags_y: (653, 67, 45)\n"
          ]
        }
      ]
    },
    {
      "cell_type": "markdown",
      "source": [
        "We then proceede to download the file containing GloVe embeddings and to build the embedding matrix. To deal with OOV we tried both random embeddings and embeddings built by averaging those of the 2 words preceding and following them in the sentences (see the function for further details). In the end, the latter technique reported slightly lower scores, so we sticked with the former, as it was also more efficient.\n",
        "The reason could be that more than the semantic content of the word (which is also determined by its context), what is more important in this task is to determine the syntactic role of the word. So, averaging across words that more likely have different roles from the considered one, may be not a good idea."
      ],
      "metadata": {
        "id": "Pl8qDJW_b8Wx"
      }
    },
    {
      "cell_type": "code",
      "source": [
        "#   /$$$$$$$  /$$$$$$        /$$   /$$ /$$$$$$ /$$$$$$$$       /$$$$$$$  /$$$$$$ /$$      /$$/$$   /$$/$$       /$$$$$$  /$$$$$$ /$$$$$$$        /$$$$$$$$/$$      /$$/$$$$$$ /$$$$$$ /$$$$$$$$      \n",
        "#  | $$__  $$/$$__  $$      | $$$ | $$/$$__  $|__  $$__/      | $$__  $$/$$__  $| $$  /$ | $| $$$ | $| $$      /$$__  $$/$$__  $| $$__  $$      |__  $$__| $$  /$ | $|_  $$_//$$__  $| $$_____/      \n",
        "#  | $$  \\ $| $$  \\ $$      | $$$$| $| $$  \\ $$  | $$         | $$  \\ $| $$  \\ $| $$ /$$$| $| $$$$| $| $$     | $$  \\ $| $$  \\ $| $$  \\ $$         | $$  | $$ /$$$| $$ | $$ | $$  \\__| $$            \n",
        "#  | $$  | $| $$  | $$      | $$ $$ $| $$  | $$  | $$         | $$  | $| $$  | $| $$/$$ $$ $| $$ $$ $| $$     | $$  | $| $$$$$$$| $$  | $$         | $$  | $$/$$ $$ $$ | $$ | $$     | $$$$$         \n",
        "#  | $$  | $| $$  | $$      | $$  $$$| $$  | $$  | $$         | $$  | $| $$  | $| $$$$_  $$$| $$  $$$| $$     | $$  | $| $$__  $| $$  | $$         | $$  | $$$$_  $$$$ | $$ | $$     | $$__/         \n",
        "#  | $$  | $| $$  | $$      | $$\\  $$| $$  | $$  | $$         | $$  | $| $$  | $| $$$/ \\  $$| $$\\  $$| $$     | $$  | $| $$  | $| $$  | $$         | $$  | $$$/ \\  $$$ | $$ | $$    $| $$            \n",
        "#  | $$$$$$$|  $$$$$$/      | $$ \\  $|  $$$$$$/  | $$         | $$$$$$$|  $$$$$$| $$/   \\  $| $$ \\  $| $$$$$$$|  $$$$$$| $$  | $| $$$$$$$/         | $$  | $$/   \\  $$/$$$$$|  $$$$$$| $$$$$$$$      \n",
        "#  |_______/ \\______/       |__/  \\__/\\______/   |__/         |_______/ \\______/|__/     \\__|__/  \\__|________/\\______/|__/  |__|_______/          |__/  |__/     \\__|______/\\______/|________/      \n",
        "#                                                                                                                                                                                                    \n",
        "#                                                                                                                                                                                                    \n",
        "#  (reminder to not waste time)\n",
        "\n",
        "# setting up the embedding model, in our case it is GloVe\n",
        "embedding_dimension = 100\n",
        "embedding_model = gloader.load(\"glove-wiki-gigaword-\" + str(embedding_dimension))"
      ],
      "metadata": {
        "id": "FQSplRwWImUc",
        "outputId": "06756eba-025e-4605-da75-584932bb352a",
        "colab": {
          "base_uri": "https://localhost:8080/"
        }
      },
      "execution_count": null,
      "outputs": [
        {
          "output_type": "stream",
          "name": "stdout",
          "text": [
            "[==================================================] 100.0% 128.1/128.1MB downloaded\n"
          ]
        }
      ]
    },
    {
      "cell_type": "code",
      "source": [
        "# this more elaborate way of computing embedding is not much useful than using random ones\n",
        "\n",
        "def compute_embedding(word, embedding_model, dataset, previously_computed_embeddings):\n",
        "  \"\"\"\n",
        "  given a word, an embedding_model, the dataset to consider and the previously_computed_embeddings,\n",
        "  we compute the embedding for an OOV word as the mean of the embeddings of the two preceeding and following words\n",
        "  in each sentence of the whole dataset (i.e. if we just have the sentence w_1 w_2 oov w_3 w_4 \n",
        "  we have emb_oov = (ew_1 + ew_2 + ew_3 + ew_4)/4\n",
        "  if a neighbouring word is an oov itself, we add a random vector and if the target oov word has no neighbors\n",
        "  we assign a random vector as its embedding.\n",
        "\n",
        "  :param word: the word which embedding must be computed\n",
        "  :param embedding_model: dictionary containing words and their pre-trained embedding\n",
        "  :param dataset: list of sentencese where the contexts of word can be extracted\n",
        "  :param previously_computed_embeddings: dictionary containing words and their embedding\n",
        "    already computed by this function. This allows the embedding computation pipeline to be correct w.r.t.\n",
        "    standard procedures when dealing with the different dataset splits\n",
        "  \"\"\"\n",
        "  acc = np.zeros(embedding_dimension)\n",
        "  count = 0\n",
        "  for sentence in dataset: # for every sentence in the dataset\n",
        "    if word in sentence: # if the word is in the sentence\n",
        "      index = sentence.index(word) # get the index of the sentence\n",
        "\n",
        "      if index != 0: # if the token isn't the initial one \n",
        "        try:\n",
        "          acc += embedding_model[sentence[index-1]] # add the embedding if it is in gloVe\n",
        "        except (KeyError, TypeError):\n",
        "          if sentence[index-1] in previously_computed_embeddings.keys(): # add the embedding if was already computed\n",
        "            acc += previously_computed_embeddings[sentence[index-1]]\n",
        "          else:\n",
        "            # otherwise, screw it, and add a random vector\n",
        "            acc += np.random.uniform(low=-0.05, high=0.05, size=embedding_dimension)\n",
        "        # increment the count\n",
        "        count += 1\n",
        "      # if the word isn't the last, do the same as before\n",
        "\n",
        "      if index != len(sentence)-1:\n",
        "        try:\n",
        "          acc += embedding_model[sentence[index+1]] \n",
        "        except (KeyError, TypeError):\n",
        "          if sentence[index+1] in previously_computed_embeddings.keys():\n",
        "            acc += previously_computed_embeddings[sentence[index+1]]\n",
        "          else:\n",
        "            acc += np.random.uniform(low=-0.05, high=0.05, size=embedding_dimension)\n",
        "        count += 1\n",
        "\n",
        "      if index != 1: # if the token isn't the initial one \n",
        "        try:\n",
        "          acc += embedding_model[sentence[index-2]] # add the embedding if it is in gloVe\n",
        "        except (KeyError, TypeError):\n",
        "          if sentence[index-2] in previously_computed_embeddings.keys(): # add the embedding if was already computed\n",
        "            acc += previously_computed_embeddings[sentence[index-2]]\n",
        "          else:\n",
        "            # otherwise, add a random vector\n",
        "            acc += np.random.uniform(low=-0.05, high=0.05, size=embedding_dimension)\n",
        "        # increment the count\n",
        "        count += 1\n",
        "      # if the word isn't the last, do the same as before\n",
        "\n",
        "      if index != len(sentence)-2:\n",
        "        try:\n",
        "          acc += embedding_model[sentence[index+2]] \n",
        "        except (KeyError, TypeError):\n",
        "          if sentence[index+2] in previously_computed_embeddings.keys():\n",
        "            acc += previously_computed_embeddings[sentence[index+2]]\n",
        "          else:\n",
        "            acc += np.random.uniform(low=-0.05, high=0.05, size=embedding_dimension)\n",
        "        count += 1\n",
        "      \n",
        "# return the mean embedding\n",
        "  if count == 0:\n",
        "    return np.random.uniform(low=-0.05, high=0.05, size=embedding_dimension)\n",
        "  else:\n",
        "    return acc/count\n"
      ],
      "metadata": {
        "id": "otATVfzCRlQ6"
      },
      "execution_count": null,
      "outputs": []
    },
    {
      "cell_type": "code",
      "source": [
        "# construction of the embedding matrix, it is a matrix N_token x E_dim\n",
        "# whose entries are the vectors corresponding to each word in the \n",
        "# embedding space, identified by idx\n",
        "def build_embedding(num_tokens, embedding_dimension, \n",
        "                    word2index, embedding_model, \n",
        "                    df_train_x = None, df_val_x = None, df_test_x = None,\n",
        "                    train_words = None, val_words = None, test_words = None, use_random_embedding = True):\n",
        "  \"\"\"\n",
        "  function building the embedding matrix.\n",
        "\n",
        "  :param num_tokens: total number of different tokens in the corpus\n",
        "  :param embedding_dimension: lenght of the vector embeddings\n",
        "  :param word2index: dictionary of pairs (word : token_idx). Contains also OOV and PAD indexes\n",
        "  :param embedding_model: dictionary containing the pre-trained embeddings\n",
        "  :param df_train_x, df_val_x, df_test_x: (optional) corpus dataset required to compute contextual embeddings\n",
        "  :param train_words, val_words, test_words: (optional) corpus vocabulary required to compute contextual embeddings\n",
        "  :param use_random_embedding: boolean indicating whether to use randomly generated embeddings or contextual embeddings\n",
        "  \"\"\"\n",
        "  oov_dict = {'training':[], 'val':[], 'test':[]}\n",
        "  # we need to count how many oov we have\n",
        "  count_oov = 0\n",
        "  oov_list = []\n",
        "  embedding_matrix = np.zeros((num_tokens, embedding_dimension))\n",
        "  for word, idx in word2index.items():\n",
        "    # we give an embedding also to the padding, which will be ignored by the net\n",
        "    try:\n",
        "      embedding_vector = embedding_model[word]\n",
        "    except (KeyError, TypeError):\n",
        "      count_oov += 1\n",
        "      oov_list.append(word)\n",
        "      if use_random_embedding:\n",
        "        embedding_vector = np.random.uniform(low=-0.05, high=0.05, size=embedding_dimension) # random placeholder\n",
        "        embedding_matrix[idx] = embedding_vector\n",
        "      else:\n",
        "        if word in train_words:\n",
        "          oov_dict['training'].append(word)\n",
        "        elif word in val_words:\n",
        "          oov_dict['val'].append(word)\n",
        "        elif word in test_words:\n",
        "          oov_dict['test'].append(word)\n",
        "\n",
        "  if not use_random_embedding:\n",
        "    previously_computed_embeddings = dict()\n",
        "    for oov in oov_dict['training']:\n",
        "      vector = compute_embedding(oov, embedding_model, df_train_x, previously_computed_embeddings)\n",
        "      embedding_matrix[word2index[oov]] = vector\n",
        "      previously_computed_embeddings[oov] = vector\n",
        "\n",
        "    for oov in oov_dict['val']:\n",
        "      vector = compute_embedding(oov, embedding_model, df_val_x, previously_computed_embeddings)\n",
        "      embedding_matrix[word2index[oov]] = vector\n",
        "      previously_computed_embeddings[oov] = vector\n",
        "\n",
        "    for oov in oov_dict['test']:\n",
        "      vector = compute_embedding(oov, embedding_model, df_test_x, previously_computed_embeddings)\n",
        "      embedding_matrix[word2index[oov]] = vector\n",
        "      previously_computed_embeddings[oov] = vector\n",
        "  return embedding_matrix, count_oov, oov_list\n",
        "\n"
      ],
      "metadata": {
        "id": "pUlRxvgPDyS6"
      },
      "execution_count": null,
      "outputs": []
    },
    {
      "cell_type": "code",
      "source": [
        "num_tokens = len(word2index.keys())\n",
        "embedding_matrix, count_oov, oov_list = build_embedding(num_tokens, embedding_dimension, \n",
        "                                                        word2index, embedding_model)\n",
        "print(f\"total number of OOV: {count_oov}\")\n",
        "print(f\"OOV list: {oov_list}\")"
      ],
      "metadata": {
        "id": "CHX7K2bYgNWq",
        "outputId": "233085be-0512-4874-eb8f-89922272cdaa",
        "colab": {
          "base_uri": "https://localhost:8080/"
        }
      },
      "execution_count": null,
      "outputs": [
        {
          "output_type": "stream",
          "name": "stdout",
          "text": [
            "total number of OOV: 678\n",
            "OOV list: ['insurance-company', 'mutual-fund', 'chinchon', '705.6', 'anti-programmers', '8300s', 'family-planning', '3.253', 'weapons-modernization', 'g.m.b', 'automotive-parts', 'wheeland', 'guber\\\\/peters', 'intelogic', 'lafite-rothschild', 'replacement-car', 'cash-and-stock', '3648.82', 'noncompetitively', 'red-flag', 'program-trading', 'car-safety', 'market-share', 'heebie-jeebies', 'lookee-loos', 'less-than-brilliant', 'jalaalwalikraam', 'glenham', 'weisfield', 'polyproplene', 'univest', 'sell-offs', 'limited-partnership', 'preparatives', 'cup-tote', 'bald-faced', 'triple-c', 'non-biodegradable', 'rate-sensitive', 'arbitrage-related', 'year-ago', 'acid-rain', 'per-share', 'foldability', 'price-support', 'low-ability', 'arbitraging', 'single-lot', '387.8', 'savers\\\\/investors', 'rope-sight', '154,240,000', '30,841', '237-seat', 'ratners', '7\\\\/8', 'trockenbeerenauslesen', 'mortgage-based', 'veselich', 'one-house', 'shokubai', 'sub-segments', 'louisiana-pacific', 'long-tenured', 'merger-related', 'contingency-fee', '23,403', 'vinken', 'insider-trading', 'disputado', 'eight-count', 'high-balance', '374.20', '1.8415', 'foreign-led', 'radio-station', 'super-absorbent', '-rcb-', 'ft-se', '271,124', '415.8', 'price-depressing', 'mininum-wage', '8.575', 'custom-chip', '188.84', '292.32', 'truth-in-lending', 'malizia', '50\\\\/50', 'anti-deficiency', '38.375', '811.9', 'blood-cell', 'house-senate', 'four-foot-high', 'information-services', 'capital-gains', 'hart-scott-rodino', '71,309', '271-147', '8.467', '7.272', '190-point', '14\\\\/32', 'property\\\\/casualty', 'romanee-conti', '1\\\\/2', '12,252', '95.09', 'hallwood', 'circuit-breaker', 'walbrecher', '12\\\\/32', '352.7', 'early-retirement', 'alurralde', '11,390,000', 'two-time-losers', 'ballantine\\\\/del', 'pre-1917', 'we-japanese', 'bridgestone\\\\/firestone', 'revenue-desperate', 'state-supervised', 'veraldi', '69-point', '497.34', '500,004', 'anti-china', 'prudential-bache', '449.04', 'northy', 'nofzinger', 'acquisition-minded', 'citizen-sparked', 'collective-bargaining', 'test-prep', '13.625', '16,072', 'computer-system-design', '1\\\\/4', '62%-owned', '3,250,000', 'egnuss', 'rexinger', 'non-callable', 'search-and-seizure', 'school-district', 'propagandizes', 'money-center', 'pathlogy', 'durable-goods', 'teacher-cadet', 'co-developers', 'mouth-up', 're-thought', 'moleculon', 'investor-relations', '2160.1', 'rubinfien', 'autions', 'enzor', 'anti-takeover', '236.74', 'midwesco', 'several-year', 'stock-price', 'yet-to-be-formed', 'three-sevenths', 'exxon-owned', 'nearly-30', 'new-car', 'clean-air', 'ingersoll-rand', 'chong-sik', 'sharedata', 'wtd', '16\\\\/32', 'change-ringing', '18-a-share', '377.60', 'capital-markets', 'johnson-era', 'hasbrouk', 'above-market', 'then-speaker', 'deposits-a', 'headcount-control', '143.08', 'marketing-communications', 'forest-product', '35564.43', '967,809', '1\\\\/10th', 'anti-program', 'auto-safety', 'prize-fighter', 'dead-eyed', '446.62', '34.625', 'odd-sounding', 'ensrud', 'norwick', '2,050-passenger', '100,980', 'industry-supported', '95,142', 'water-authority', '7.458', 'social-studies', 'index-options', 'one-country', 'potables', 'detective-story', 'six-bottle', '5\\\\/8', 'garden-variety', '1.1650', 'sanderoff', '341.20', '1.5755', 'stock-specialist', 'drobnick', 'sometimes-tawdry', 'pro-forma', '608,413', 'ednie', '143.93', '-lrb-', '352.9', '3057', 'yen-support', '40-megabyte', 'machine-gun-toting', '62.625', '300-113', 'continuingly', 'ntg', '38.875', 'jerritts', 'n.v', '1928-33', '456.64', 'flim-flammery', 'biondi-santi', 'subskill', 'more-efficient', 'stirlen', 'food-industry', 'stock-picking', 'intellectual-property', 'synergistics', 'college-bowl', \"creator's\", 'lentjes', '45-a-share', 'light-truck', 'bottom-line', 'parts-engineering', 'high-polluting', '6,799', 'industrial-production', '13\\\\/16', '126.15', '434.4', 'food-shop', 'housing-assistance', 'thin-lipped', 'motor-home', 'dydee', 'heiwado', 'stock-index', 'corton-charlemagne', 'integra-a', '43.875', '734.9', 'crane-safety', 'computer-driven', 'pre-1933', 'flightiness', 'school-board', 'nagymaros', 'nih-appointed', 'bread-and-butter', 'executive-office', '566.54', 'test-preparation', '1937-40', 'sidak', 'wine-buying', '158,666', '20-stock', 'hadson', 'sogo-shosha', 'telephone-information', 'test-coaching', 'express-buick', 'breakey', 'card-member', 'unenticing', 'micronite', 'corporate-wide', 'disputada', 'ac-130u', 'year-earlier', 'superpremiums', '2691.19', 'hummerstone', 'identity-management', 'satrum', 'monchecourt', 'larger-than-normal', 'news-american', 'crocidolite', 'solaia', '300-day', '361.8', '129.91', '-lcb-', 'cray-3', 'lynch-mob', '37-a-share', 'akerfeldt', 'cleaner-burning', '87-store', 'subindustry', '4,393,237', 'one-newspaper', 'building-products', 'beer-belly', '3\\\\/4', '26,956', '90-cent-an-hour', 'new-home', 'bermuda-based', 'index-fund', 'pennview', 'top-yielding', 'colorliner', 'war-rationed', '230-215', '18,444', '436.01', 'mariotta', 'waymar', '29year', '236.79', 'much-larger', 'minimum-wage', 'sport-utility', '1738.1', '19-month-old', 'iran\\\\/contra', 'lezovich', 'triple-a-rated', '372.9', 'dust-up', 'liquid-nitrogen', 'pattenden', 'savings-and-loan', 'minicrash', 'lightning-fast', 'computer-services', '120-a-share', 'reupke', 'big-ticket', 'c.d.s', 'constitutional-law', 'nissho-iwai', '6\\\\/2', 'anti-abortionists', 'yttrium-containing', 'electrical-safety', 'training-wage', '142.85', '3\\\\/8', 'dollar-yen', 'mega-stadium', 'cash-rich', 'prior-year', 'incentive-bonus', 'product-design', '142.84', '2003\\\\/2007', 'subskills', 'front-seat', 'student-test', 'c-90', 'muscolina', 'gingl', '1.916', 'lap-shoulder', 'anti-miscarriage', 'index-related', '7.422', '494.50', 'erbamont', '84-month', '319.75', '11\\\\/16', 'money-market', '4.898', '3,040,000', 'market-makers', '234.4', 'home-market', 'nekoosa', 'derchin', 'sewing-machine', 'three-lawyer', '2163.2', 'secilia', '220.45', 'incentive-backed', 'fiber-end', 'chemplus', 'boogieman', 'gates-warren', '-rrb-', 'uzi-model', 'roof-crush', 'scypher', 'stock-manipulation', 'forest-products', '5,699', 'million-a-year', '5.2180', 'shareholder-rights', 'phacoflex', 'colonsville', 'cop-killer', 'freudtoy', 'direct-investment', 'derel', 'mutchin', 'landonne', 'yen-denominated', '1.637', '361,376', 'makato', 'post-hearing', 'amphobiles', 'passenger-car', 'greenmailer', 'fetal-tissue', '1\\\\/8', 'foreign-stock', 'pianist-comedian', 'tarwhine', 'asset-valuation', 'highest-pitched', 'test-drive', '47.125', '82,389', 'yeargin', 'video-viewing', 'copper-rich', 'nylev', '877,663', 'sept.30', '14.', '14,821', 'profit-taking', 'crystal-lattice', 'bankruptcy-law', '2141.7', 'index-arbitrage', '13,056', '11-month-old', 'staff-reduction', 'ghkm', 'twin-jet', 'odd-year', 'pramual', 'trading-company', 'macmillan\\\\/mcgraw-hill', 'bellringers', '2645.90', 'built-from-kit', 'pricings', 'shirt-sleeved', '100-megabyte', 'wfrr', '70-a-share', 'chafic', 'money-fund', 'government-certified', '36-store', 'circuit-board', 'freshbake', '7\\\\/16', 'morale-damaging', 'certin', 'severable', '630.9', 'nipponese', 'higher-salaried', '737.5', 'achievement-test', 'txo', 'sulfur-dioxide', '263.07', 'melt-textured', 'one-upsmanship', 'credit-rating', 'unicorp', '2\\\\/32', '415.6', 'anku', 'protein-1', 'six-packs', 'security-type', 'buy-outs', 'stock-selection', 'launch-vehicle', 'high-rolling', 'tissue-transplant', 'retin-a', 'vitulli', 'band-wagon', 'when-issued', 'school-research', '238,000-circulation', 'near-limit', 'kalipharma', 'life-insurance', 'language-housekeeper', '131.01', 'tiphook', 'sub-markets', 'senate-house', 'futures-related', 'interleukin-3', 'rey\\\\/fawcett', 'trettien', '374.19', 'abortion-related', '22\\\\/32', 'land-idling', 'electric-utility', '11,762', '5.276', 'cents-a-unit', 'more-advanced', 'nesb', '5.435', 'heavy-truck', 'page-one', 'sacramento-based', 'times-stock', '618.1', 'safe-deposit', 'high-rate', 'inter-tel', 'multi-crystal', 'equity-purchase', 'purepac', 'sticker-shock', '9,118', 'macmillan\\\\/mcgraw', 'waertsilae', 'seven-million-ton', '30,537', 'pro-iranian', '2,303,328', 'subminimum', '83,206', 'intecknings', 'equal-opportunity', 'takeover-stock', '35500.64', 'cotran', '9\\\\/32', 'buttoned-down', 'car-care', '16.125', 'delwin', 'sino-u.s.', 'summer\\\\/winter', 'cost-control', 'substance-abusing', 'twindam', 'recession-inspired', 'small-company', 'side-crash', 'unfair-trade', 'bank-backed', 'write-downs', 'floating-rate', 'prevalance', 'aslacton', 'disaster-assistance', 'test-practice', 'tete-a-tete', 'junk-bond', 'samnick', 'lobsenz', 'financial-services', 'car-development', 'centerbank', 'diceon', '170,262', '278.7', 'automotive-lighting', '520-lawyer', 'airline-related', '300-a-share', 'besuboru', 'seven-yen', 'wheel-loader', 'herald-american', 'school-improvement', 'macheski', 'bronces', 'meinders', 'bell-ringer', 'middle-ground', '372.14', 'red-blooded', 'double-c', 'bumkins', 'yoshihashi', 'ariail', '1206.26', 'blue-chips', 'asset-sale', 'arighi', 'pension-fund', 'manmade-fiber', '382-37', 'life-of-contract', 'sometimes-exhausting', 'less-serious', 'chilver', '127.03', 'non-encapsulating', 'two-sevenths', 'old-house', 'crookery', 'anti-morning-sickness', 'conn.based', 'tire-kickers', 'purhasing', '226,570,380', 'labor-backed', 'diloreto', '55-a-share', '0.0085', 'rapanelli', 'investment-grade', 'coche-dury', 'lower-priority', 'low-ball', 'securities-based', 'boorse', 'drag-down', 'ex-dividend', 'c.j.b.', 'ctbs', 'one-yen', 'wamre', 'corn-buying', 'most-likely-successor', '3436.58', 'antitrust-law', '143.80', 'mehrens', 'free-enterprise', '3,288,453', '1.457', 'energy-services', 'church-goers', 'superdot', 'quantitive', 'newspaper-printing', '<PAD>', '<OOV>']\n"
          ]
        }
      ]
    },
    {
      "cell_type": "markdown",
      "source": [
        "# STEP 3: Baseline model and variations\n",
        "In the following section we present the part of the code dedicated to model building and training.\n",
        "For each model (baseline and the three variations) a function for building it with keras' functional API is provided. The hyperparameters for each model have been tuned with a trial-and-error approach, where we adjusted them according to the insight we would receive through train statistics. Each model is provided directly with the best found hyperparameters."
      ],
      "metadata": {
        "id": "p91SaJgsndpi"
      }
    },
    {
      "cell_type": "code",
      "source": [
        "# plotting function needed to show bias and variance of the fitted network\n",
        "def show_history(history: tf.keras.callbacks.History):\n",
        "    \"\"\"\n",
        "    Shows training history data stored by the History Keras callback\n",
        "\n",
        "    :param history: History Keras callback\n",
        "    \"\"\"\n",
        "    history_data = history.history\n",
        "\n",
        "    for key, value in history_data.items():\n",
        "        if not key.startswith('val'):\n",
        "            fig, ax = plt.subplots(1, 1)\n",
        "            ax.set_title(key)\n",
        "            ax.plot(value)\n",
        "            if f'val_{key}' in history_data:\n",
        "                ax.plot(history_data[f'val_{key}'])\n",
        "            else:\n",
        "                print(f\"Couldn't find validation values for metric: {key}\")\n",
        "\n",
        "            ax.set_ylabel(key)\n",
        "            ax.set_xlabel('epoch')\n",
        "            ax.legend(['train', 'val'], loc='best')\n",
        "    plt.show()"
      ],
      "metadata": {
        "id": "sWhy_MOd1eIr"
      },
      "execution_count": null,
      "outputs": []
    },
    {
      "cell_type": "code",
      "source": [
        "baseline_lr = 1e-2\n",
        "\n",
        "def baseline_model(num_tokens, embedding_dimension, embedding_matrix, n_classes):\n",
        "  \"\"\"\n",
        "  Function building the baseline model.\n",
        "\n",
        "  :param num_tokens: the total number of different tokens in the training corpus\n",
        "  :param embedding_dimension: dimension of the embedding vectors\n",
        "  :param embedding_matrix: matrix containing the embedding vectors for the embedding layer\n",
        "  :param n_classes: number of classes in the dataset. It is required to set the output dimension of the model\n",
        "  \"\"\"\n",
        "  input = Input(shape=(None,), dtype=\"int32\")\n",
        "  x = Embedding(num_tokens,\n",
        "                embedding_dimension,\n",
        "                embeddings_initializer=tf.keras.initializers.Constant(embedding_matrix),\n",
        "                trainable=False,\n",
        "                mask_zero=True)(input) # masking avoids considering padding\n",
        "  x = Bidirectional(LSTM(100, return_sequences = True))(x) # number of neurons multiples of 10 seem to work better\n",
        "  x = TimeDistributed(Dense(n_classes, activation=\"softmax\"))(x) \n",
        "  return Model(input, x)"
      ],
      "metadata": {
        "id": "l0HWmYX3d8RT"
      },
      "execution_count": null,
      "outputs": []
    },
    {
      "cell_type": "code",
      "source": [
        "GRU_lr = 1e-3\n",
        "\n",
        "def GRU_model(num_tokens, embedding_dimension, embedding_matrix, n_classes):\n",
        "  \"\"\"\n",
        "  Function building the GRU variation of the baseline model.\n",
        "\n",
        "  :param num_tokens: the total number of different tokens in the training corpus\n",
        "  :param embedding_dimension: dimension of the embedding vectors\n",
        "  :param embedding_matrix: matrix containing the embedding vectors for the embedding layer\n",
        "  :param n_classes: number of classes in the dataset. It is required to set the output dimension of the model\n",
        "  \"\"\"\n",
        "  input = Input(shape=(None,), dtype=\"int32\")\n",
        "  x = Embedding(num_tokens,\n",
        "                embedding_dimension,\n",
        "                embeddings_initializer=tf.keras.initializers.Constant(embedding_matrix),\n",
        "                trainable=False,\n",
        "                mask_zero=True)(input)\n",
        "  x = Bidirectional(GRU(100, return_sequences = True))(x) # number of neurons multiples of 10 seem to work better\n",
        "  x = TimeDistributed(Dense(n_classes, activation=\"softmax\"))(x) \n",
        "  return Model(input, x)"
      ],
      "metadata": {
        "id": "QN0DGtftOtdG"
      },
      "execution_count": null,
      "outputs": []
    },
    {
      "cell_type": "code",
      "source": [
        "doubleLSTM_lr = 1e-2\n",
        "\n",
        "def doubleLSTM_model(num_tokens, embedding_dimension, embedding_matrix, n_classes):\n",
        "  \"\"\"\n",
        "  Function building the Two-LSTM variation of the baseline model.\n",
        "\n",
        "  :param num_tokens: the total number of different tokens in the training corpus\n",
        "  :param embedding_dimension: dimension of the embedding vectors\n",
        "  :param embedding_matrix: matrix containing the embedding vectors for the embedding layer\n",
        "  :param n_classes: number of classes in the dataset. It is required to set the output dimension of the model\n",
        "  \"\"\"\n",
        "  input = Input(shape=(None,), dtype=\"int32\")\n",
        "  x = Embedding(num_tokens,\n",
        "                embedding_dimension,\n",
        "                embeddings_initializer=tf.keras.initializers.Constant(embedding_matrix),\n",
        "                trainable=False,\n",
        "                mask_zero=True)(input)\n",
        "  x = Bidirectional(LSTM(100, return_sequences = True))(x)\n",
        "  x = Bidirectional(LSTM(100, return_sequences = True))(x)\n",
        "  x = TimeDistributed(Dense(n_classes, activation=\"softmax\"))(x) \n",
        "  return Model(input, x)"
      ],
      "metadata": {
        "id": "T7MlgkvSlFOq"
      },
      "execution_count": null,
      "outputs": []
    },
    {
      "cell_type": "code",
      "source": [
        "doubleDense_lr = 1e-2\n",
        "\n",
        "def doubleDense_model(num_tokens, embedding_dimension, embedding_matrix, n_classes):\n",
        "  \"\"\"\n",
        "  Function building the Two-TDDense variation of the baseline model.\n",
        "\n",
        "  :param num_tokens: the total number of different tokens in the training corpus\n",
        "  :param embedding_dimension: dimension of the embedding vectors\n",
        "  :param embedding_matrix: matrix containing the embedding vectors for the embedding layer\n",
        "  :param n_classes: number of classes in the dataset. It is required to set the output dimension of the model\n",
        "  \"\"\"\n",
        "  input = Input(shape=(None,), dtype=\"int32\")\n",
        "  x = Embedding(num_tokens,\n",
        "                embedding_dimension,\n",
        "                embeddings_initializer=tf.keras.initializers.Constant(embedding_matrix),\n",
        "                trainable=False,\n",
        "                mask_zero=True)(input)\n",
        "  x = Bidirectional(LSTM(100, return_sequences = True))(x)\n",
        "  x = TimeDistributed(Dense(100, activation=\"relu\"))(x)#relu avoids value squashing\n",
        "  x = TimeDistributed(Dense(n_classes, activation=\"softmax\"))(x) \n",
        "  return Model(input, x)"
      ],
      "metadata": {
        "id": "IXdDJgpKQEdh"
      },
      "execution_count": null,
      "outputs": []
    },
    {
      "cell_type": "markdown",
      "source": [
        "After the model functions we defined some useful callbacks: \n",
        "- an EarlyStopping callback, in order to avoid overtraining of the model (and consequent overfitting). The monitored parameter is the validation loss, as the f1-score cannot be computed while running the training\n",
        "- a LearningRateScheduler callback, with different scheduling functions. These were introduced as the models are being finetuned from a pretrained baseline (GloVe Embeddings), so this kind of scheduling could have helped to achieve more precise results. In the end they were tested but, as they did not bring remarkable improvements, they were removed."
      ],
      "metadata": {
        "id": "UrbrKC3MUMPt"
      }
    },
    {
      "cell_type": "code",
      "source": [
        "def step_scheduler(epoch, lr):\n",
        "  \"\"\"\n",
        "  Scheduling function halving the learning rate every three epochs\n",
        "\n",
        "  :param epoch: current epoch index\n",
        "  :param lr: current learning rate value\n",
        "  \"\"\"\n",
        "  if epoch>1 and epoch % 3 == 0:\n",
        "    return lr/2\n",
        "  else: \n",
        "    return lr\n",
        "\n",
        "def linear_scheduler(epoch, lr):\n",
        "  \"\"\"\n",
        "  Scheduler function reducing the learning rate following a linear law, starting from the initial given learning rate\n",
        "  and ending up to 0 at the hypotetical end of the training. It is a typical scheduler employed in NLP tasks\n",
        "\n",
        "  :param epoch: current epoch index\n",
        "  :param lr: current learning rate value\n",
        "  \"\"\"\n",
        "  final_learning_rate = 0 # value of the learning rate at the hypotetical end of the training\n",
        "  lr_to_return = final_learning_rate + (learning_rate_val - final_learning_rate) * (1 - epoch/training_info[\"epochs\"])\n",
        "  return lr_to_return\n",
        "\n",
        "\n",
        "def warmup_scheduler(epoch, lr):\n",
        "  \"\"\"\n",
        "  Scheduler function starting with a low learning rate, then boosting it after some epochs and applying the \n",
        "  step scheduler after the boost.\n",
        "\n",
        "  :param epoch: current epoch index\n",
        "  :param lr: current learning rate value\n",
        "  \"\"\"\n",
        "  starting_ones = 5 # number of initial epochs with low learning rate\n",
        "  if epoch < starting_ones:\n",
        "    return 1e-3\n",
        "  elif epoch == starting_ones:  \n",
        "    return step_scheduler(epoch, learning_rate_val)\n",
        "  else:\n",
        "    return step_scheduler(epoch, lr)\n",
        "\n",
        "\n",
        "pat = 10 #setting the patience value\n",
        "es = tf.keras.callbacks.EarlyStopping(monitor='val_loss', patience=pat, min_delta=1e-4, restore_best_weights=True)\n",
        "\n",
        "scheduler_verbose_par = 1 #setting the scheduler verbosity\n",
        "scheduler = tf.keras.callbacks.LearningRateScheduler(step_scheduler, scheduler_verbose_par) #unused"
      ],
      "metadata": {
        "id": "OE-RTj9EUJwC"
      },
      "execution_count": null,
      "outputs": []
    },
    {
      "cell_type": "markdown",
      "source": [
        "Then the remaining hyperparameters were set as such:\n",
        "- Max. epochs = 100\n",
        "- Batch size = 64\n",
        "As changing this values across different experiments didn't brought significant changes, they were keept the same for all the model variations."
      ],
      "metadata": {
        "id": "mJfU5nReWwZe"
      }
    },
    {
      "cell_type": "code",
      "source": [
        "training_info = {\n",
        "    'verbose': 1,\n",
        "    'epochs': 100,\n",
        "    'batch_size': 64,\n",
        "}"
      ],
      "metadata": {
        "id": "Rt5vlNekXRWn"
      },
      "execution_count": null,
      "outputs": []
    },
    {
      "cell_type": "code",
      "source": [
        "baseline = baseline_model(num_tokens, embedding_dimension, embedding_matrix, n_classes)\n",
        "baseline.compile(loss=\"categorical_crossentropy\",\n",
        "              optimizer=tf.keras.optimizers.Adam(baseline_lr),\n",
        "              metrics=['accuracy'])\n",
        "\n",
        "baseline.summary()"
      ],
      "metadata": {
        "id": "xSRUN-VKXUnR"
      },
      "execution_count": null,
      "outputs": []
    },
    {
      "cell_type": "code",
      "source": [
        "print(f\"Start training of baseline! \\nParameters: {training_info}\")\n",
        "history = baseline.fit(x=train_sentences_X,\n",
        "                    y=train_tags_y,\n",
        "                    validation_data=(val_sentences_X, \n",
        "                                     val_tags_y),\n",
        "                    callbacks =[es], #[scheduler, es],\n",
        "                    **training_info)\n",
        "show_history(history)"
      ],
      "metadata": {
        "id": "cGqyJmqkXtPo"
      },
      "execution_count": null,
      "outputs": []
    },
    {
      "cell_type": "code",
      "source": [
        "GRU_model = GRU_model(num_tokens, embedding_dimension, embedding_matrix, n_classes)\n",
        "GRU_model.compile(loss=\"categorical_crossentropy\",\n",
        "              optimizer=tf.keras.optimizers.Adam(GRU_lr),\n",
        "              metrics=['accuracy'])\n",
        "\n",
        "GRU_model.summary()"
      ],
      "metadata": {
        "id": "F4jC4glKYG5T"
      },
      "execution_count": null,
      "outputs": []
    },
    {
      "cell_type": "code",
      "source": [
        "print(f\"Start training of GRU variation! \\nParameters: {training_info}\")\n",
        "history = GRU_model.fit(x=train_sentences_X,\n",
        "                    y=train_tags_y,\n",
        "                    validation_data=(val_sentences_X, \n",
        "                                     val_tags_y),\n",
        "                    callbacks =[es], #[scheduler, es],\n",
        "                    **training_info)\n",
        "show_history(history)"
      ],
      "metadata": {
        "id": "icBhlhpFYbxt"
      },
      "execution_count": null,
      "outputs": []
    },
    {
      "cell_type": "code",
      "source": [
        "doubleLSTM_model = doubleLSTM_model(num_tokens, embedding_dimension, embedding_matrix, n_classes)\n",
        "doubleLSTM_model.compile(loss=\"categorical_crossentropy\",\n",
        "              optimizer=tf.keras.optimizers.Adam(DoubleLSTM_lr),\n",
        "              metrics=['accuracy'])\n",
        "\n",
        "doubleLSTM_model.summary()"
      ],
      "metadata": {
        "id": "HHjDbm0gYmMf"
      },
      "execution_count": null,
      "outputs": []
    },
    {
      "cell_type": "code",
      "source": [
        "print(f\"Start training of double LSTM variation! \\nParameters: {training_info}\")\n",
        "history = doubleLSTM_model.fit(x=train_sentences_X,\n",
        "                    y=train_tags_y,\n",
        "                    validation_data=(val_sentences_X, \n",
        "                                     val_tags_y),\n",
        "                    callbacks =[es], #[scheduler, es],\n",
        "                    **training_info)\n",
        "show_history(history)"
      ],
      "metadata": {
        "id": "MIRFL1vDYmM_"
      },
      "execution_count": null,
      "outputs": []
    },
    {
      "cell_type": "code",
      "source": [
        "doubleDense_model = doubleDense_model(num_tokens, embedding_dimension, embedding_matrix, n_classes)\n",
        "doubleDense_model.compile(loss=\"categorical_crossentropy\",\n",
        "              optimizer=tf.keras.optimizers.Adam(doubleDense_lr),\n",
        "              metrics=['accuracy'])\n",
        "\n",
        "doubleDense_model.summary()"
      ],
      "metadata": {
        "id": "GCuTtgD3Y6rV"
      },
      "execution_count": null,
      "outputs": []
    },
    {
      "cell_type": "code",
      "source": [
        "print(f\"Start training of double dense layer variation! \\nParameters: {training_info}\")\n",
        "history = doubleDense_model.fit(x=train_sentences_X,\n",
        "                    y=train_tags_y,\n",
        "                    validation_data=(val_sentences_X, \n",
        "                                     val_tags_y),\n",
        "                    callbacks =[es], #[scheduler, es],\n",
        "                    **training_info)\n",
        "show_history(history)"
      ],
      "metadata": {
        "id": "wrHRrXfQY6rh"
      },
      "execution_count": null,
      "outputs": []
    },
    {
      "cell_type": "markdown",
      "source": [
        "As next step, we evaluate the models on the validation set in order to compare them, other than on the basis of the validation loss."
      ],
      "metadata": {
        "id": "34MlgKNjfpOu"
      }
    },
    {
      "cell_type": "code",
      "source": [
        "# the following blocks are all needed in order to compute the classification\n",
        "# report and thus the F1-macro score, the punctuation classes must\n",
        "# be excluded in the computation of the scores\n",
        "\n",
        "baseline_pred = baseline.predict(val_sentences_X)\n",
        "GRU_pred = GRU_model.predict(val_sentences_X)\n",
        "doubleLSTM_pred = doubleLSTM_model.predict(val_sentences_X)\n",
        "doubleDense_pred = doubleDense_model.predict(val_sentences_X)\n",
        "\n",
        "print(baseline_pred.shape)"
      ],
      "metadata": {
        "colab": {
          "base_uri": "https://localhost:8080/"
        },
        "id": "Q9J8jKLWp3vJ",
        "outputId": "9623c97b-6cad-4231-c7a5-637838034635"
      },
      "execution_count": null,
      "outputs": [
        {
          "output_type": "stream",
          "name": "stdout",
          "text": [
            "42/42 [==============================] - 0s 6ms/step\n",
            "(1323, 67, 45)\n"
          ]
        }
      ]
    },
    {
      "cell_type": "code",
      "source": [
        "def convert_labels(e):\n",
        "  \"\"\"\n",
        "  function to convert a distribution to a one hot encoding of a label, setting the\n",
        "  highest value to 1 and all the rest to 0\n",
        "\n",
        "  :param e: numpy array containing the distribution to be converted\n",
        "  \"\"\"\n",
        "  # set the highest value to 1\n",
        "  e[np.argmax(e)]=1\n",
        "  # set the rest to 0\n",
        "  e[e!=1]=0\n",
        "  return e\n",
        "\n",
        "def reduce_results(y_true, y_pred, encoder):\n",
        "  \"\"\"\n",
        "  function flattening and transforming the prediction results into a long list of tags to be \n",
        "  compared with the corresponent list of true labels\n",
        "\n",
        "  :param y_true: the original labels without padding \n",
        "  :param y_pred: the neural nework output\n",
        "  :param encoder: the one hot encoder instance used to encode true labels\n",
        "  \"\"\"\n",
        "  max_length = len(y_pred[0])\n",
        "  verylonglist_pred = []\n",
        "  verylonglist_true = []\n",
        "  for j in range(len(y_true)):\n",
        "    maxlen = min(len(y_true[j]), max_length)\n",
        "    for i in range(0,maxlen):\n",
        "      verylonglist_pred.append(convert_labels(y_pred[j][i]))\n",
        "      verylonglist_true.append(y_true[j][i])\n",
        "\n",
        "  verylonglist_pred = encoder.transform(verylonglist_pred)  \n",
        "  return verylonglist_true, verylonglist_pred\n",
        "\n",
        "\n",
        "def custom_f1(true_y, pred_y, excluded_true_labels):\n",
        "  labels = list(encoder.categories_[0])\n",
        "  cm = confusion_matrix(true_y, pred_y, labels=labels)\n",
        "  f1 = 0\n",
        "  label_counter = 0\n",
        "  for i in range(len(labels)):\n",
        "    if not labels[i] in excluded_true_labels:\n",
        "      tp = cm[i,i] \n",
        "      fp = sum(cm[:,i]) - tp\n",
        "      fn = sum(cm[i,:]) - tp\n",
        "      if tp!= 0:\n",
        "        recall = tp/(tp+fn)\n",
        "        precision = tp/(tp+fp)\n",
        "        f1 += 2*(recall*precision)/(recall+precision)\n",
        "      elif fp==0 and fn == 0:\n",
        "        continue\n",
        "      label_counter += 1\n",
        "  return f1/label_counter ##\n"
      ],
      "metadata": {
        "id": "EY3PKKF-xUFl"
      },
      "execution_count": null,
      "outputs": []
    },
    {
      "cell_type": "code",
      "source": [
        "true_y, pred_y = reduce_results(df_val_y, baseline_pred, encoder)\n",
        "\n",
        "\n",
        "to_suppress = np.array([\"\\'\\'\", \"-RRB-\", \".\", \n",
        "                          \":\", \",\", \"-LRB-\", \"``\", \n",
        "                          \"#\", \"$\", \"SYM\"]) #LS?\n",
        "not_missing = np.unique(np.array(list(np.concatenate(df_val_y).flat)))\n",
        "# exclude tokens which labels are punctuation classes\n",
        "new_cat = [encoder.categories_[0][i] for i in range(0, len(encoder.categories_[0])) if encoder.categories_[0][i] not in to_suppress and encoder.categories_[0][i] in not_missing ]\n",
        "\n",
        "fig, ax = plt.subplots(figsize=(20, 20))\n",
        "ConfusionMatrixDisplay.from_predictions(true_y, pred_y, ax=ax, labels=list(new_cat), normalize = \"true\")#encoder.categories_[0]))\n",
        "print(classification_report(true_y,pred_y, labels = new_cat))\n",
        "print(custom_f1(true_y, pred_y, list(to_suppress)))"
      ],
      "metadata": {
        "id": "NhcI5B9Nv_vl",
        "outputId": "bd5e439c-5c3a-4866-81af-9b7eafb88643",
        "colab": {
          "base_uri": "https://localhost:8080/",
          "height": 1000
        }
      },
      "execution_count": null,
      "outputs": [
        {
          "output_type": "stream",
          "name": "stderr",
          "text": [
            "/usr/local/lib/python3.8/dist-packages/sklearn/metrics/_classification.py:1318: UndefinedMetricWarning: Precision and F-score are ill-defined and being set to 0.0 in labels with no predicted samples. Use `zero_division` parameter to control this behavior.\n",
            "  _warn_prf(average, modifier, msg_start, len(result))\n",
            "/usr/local/lib/python3.8/dist-packages/sklearn/metrics/_classification.py:1318: UndefinedMetricWarning: Precision and F-score are ill-defined and being set to 0.0 in labels with no predicted samples. Use `zero_division` parameter to control this behavior.\n",
            "  _warn_prf(average, modifier, msg_start, len(result))\n",
            "/usr/local/lib/python3.8/dist-packages/sklearn/metrics/_classification.py:1318: UndefinedMetricWarning: Precision and F-score are ill-defined and being set to 0.0 in labels with no predicted samples. Use `zero_division` parameter to control this behavior.\n",
            "  _warn_prf(average, modifier, msg_start, len(result))\n"
          ]
        },
        {
          "output_type": "stream",
          "name": "stdout",
          "text": [
            "              precision    recall  f1-score   support\n",
            "\n",
            "          CC       0.99      0.97      0.98       756\n",
            "          CD       0.94      0.94      0.94      1249\n",
            "          DT       0.97      0.97      0.97      2746\n",
            "          EX       0.92      1.00      0.96        34\n",
            "          FW       0.00      0.00      0.00         2\n",
            "          IN       0.97      0.95      0.96      3267\n",
            "          JJ       0.77      0.84      0.80      1919\n",
            "         JJR       0.90      0.81      0.85       165\n",
            "         JJS       0.86      0.76      0.81        58\n",
            "          LS       0.00      0.00      0.00         1\n",
            "          MD       0.99      0.99      0.99       347\n",
            "          NN       0.85      0.89      0.87      4496\n",
            "         NNP       0.85      0.86      0.86      2703\n",
            "        NNPS       0.40      0.04      0.07       104\n",
            "         NNS       0.91      0.88      0.90      2101\n",
            "         PDT       1.00      0.07      0.13        14\n",
            "         POS       0.99      1.00      0.99       269\n",
            "         PRP       0.99      0.97      0.98       570\n",
            "        PRP$       0.98      0.99      0.99       257\n",
            "          RB       0.83      0.83      0.83       950\n",
            "         RBR       0.64      0.66      0.65        35\n",
            "         RBS       0.89      0.62      0.73        13\n",
            "          RP       0.46      0.67      0.55        43\n",
            "          TO       0.99      0.99      0.99       765\n",
            "          UH       0.00      0.00      0.00         2\n",
            "          VB       0.91      0.89      0.90       956\n",
            "         VBD       0.90      0.88      0.89       861\n",
            "         VBG       0.77      0.81      0.79       475\n",
            "         VBN       0.84      0.79      0.82       736\n",
            "         VBP       0.87      0.83      0.85       460\n",
            "         VBZ       0.96      0.94      0.95       712\n",
            "         WDT       0.91      0.89      0.90       157\n",
            "          WP       0.90      0.94      0.92        80\n",
            "         WP$       1.00      1.00      1.00         4\n",
            "         WRB       0.87      0.87      0.87        62\n",
            "\n",
            "   micro avg       0.90      0.90      0.90     27369\n",
            "   macro avg       0.80      0.76      0.76     27369\n",
            "weighted avg       0.90      0.90      0.90     27369\n",
            "\n",
            "0.7621134044536744\n"
          ]
        },
        {
          "output_type": "display_data",
          "data": {
            "text/plain": [
              "<Figure size 1440x1440 with 2 Axes>"
            ],
            "image/png": "[encoded data removed]"
          },
          "metadata": {
            "needs_background": "light"
          }
        }
      ]
    }
  ]
}